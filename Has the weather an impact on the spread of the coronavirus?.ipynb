{
 "cells": [
  {
   "cell_type": "markdown",
   "metadata": {},
   "source": [
    "# Has the weather an impact on the spread of the coronavirus?\n",
    "\n",
    "<img src=\"img/coronavirus-weather-hero.jpg\">\n",
    "\n",
    "With more than 775 748 peoples infected and 37109 deaths (03/30/2020) and with a significative decrease of usual human activity, the COVID-19 will be remembered as a sad part of mankind's history. I, like many others, am trying to keep doing what I love to do and avoid get crazy thinking about the impact of this crisis in my family and people around the World. I am not a politician, I don't have any kind of power, I'm not a doctor or nurse, and even when I have some ideas and hypotheses about what could be done to get through this crisis (as any other person), I only have my family and potentially my group of 50 friends in Facebook to share it. But, at the same time, I feel that I need to do something else, and for that reason I began this project as a modest contribution of what I think could be some interesting open questions about the COVID-19.\n",
    "\n",
    "These are the questions:\n",
    "1. Is there some relationship between the temperature and the spread of the virus? In such a case, what is the minimum temperature that help to slow down it spread?\n",
    "2. Has the humidity some kind of impact on the spread of the virus?\n",
    "3. What happens with the virus at different atmospheric pressures?\n",
    "   \n",
    "This project is structured as follows:\n",
    "1. [Data Collection and Cleaning](#data_collection_and_cleaning)\n",
    "    1. [Cities Selection](#cities_selection)\n",
    "        1. [Cities in countries with more infections.](#cities_in_countries_with_more_infections)\n",
    "        2. [Cities in Coldest Countries.](#coldest_countries)\n",
    "        3. [Cities in Hottest Countries.](#hottest_countries)\n",
    "    2. [Weather Data](#weather_data)\n",
    "        1. [Merging the weather and the COVID-19 datasets.](#merging_weather_COVID_datasets)\n",
    "2. [Weather and New Infections.](#weather_and_new_infections)\n",
    "    1. [Coronavirus vs Temperature.](#coronavirus_vs_temperature)\n",
    "    2. [Coronavirus vs Humidity.](#coronavirus_vs_humidity)\n",
    "    3. [Coronavirus vs Pressure.](#coronavirus_vs_pressure)\n",
    "3. [Conclusions and Remarks.](#conclusions_and_remarks)"
   ]
  },
  {
   "cell_type": "markdown",
   "metadata": {},
   "source": [
    "## Data Collection and Cleaning\n",
    "<a id='data_collection_and_cleaning'></a>\n",
    "\n",
    "The above questions are related to a more general motivation [proposed at Kaggle](https://www.kaggle.com/sudalairajkumar/novel-corona-virus-2019-dataset/tasks?taskId=62). One of the main dataset that I am going to use in this projects was also obtained from Kaggle (\"[covid_19_data.csv](https://www.kaggle.com/sudalairajkumar/novel-corona-virus-2019-dataset#covid_19_data.csv)\") and relates the total number of confirmed, deaths and recovered cases per day, `Province/State` and `Country/Region`.        "
   ]
  },
  {
   "cell_type": "code",
   "execution_count": 72,
   "metadata": {},
   "outputs": [],
   "source": [
    "# Load libraries\n",
    "import pandas as pd\n",
    "import numpy as np\n",
    "# Use the \"glob\" module to extract pathnames matching a specified pattern\n",
    "import glob\n",
    "import calendar\n",
    "# Visualization\n",
    "import seaborn as sns\n",
    "import matplotlib.pyplot as plt\n",
    "import plotly.express as px\n",
    "# Statistics\n",
    "from scipy import stats"
   ]
  },
  {
   "cell_type": "markdown",
   "metadata": {},
   "source": [
    "The COVID-19 dataset is composed by 8 variables which description could be found [here](https://www.kaggle.com/sudalairajkumar/novel-corona-virus-2019-dataset). "
   ]
  },
  {
   "cell_type": "code",
   "execution_count": 76,
   "metadata": {},
   "outputs": [
    {
     "data": {
      "text/html": [
       "<div>\n",
       "<style scoped>\n",
       "    .dataframe tbody tr th:only-of-type {\n",
       "        vertical-align: middle;\n",
       "    }\n",
       "\n",
       "    .dataframe tbody tr th {\n",
       "        vertical-align: top;\n",
       "    }\n",
       "\n",
       "    .dataframe thead th {\n",
       "        text-align: right;\n",
       "    }\n",
       "</style>\n",
       "<table border=\"1\" class=\"dataframe\">\n",
       "  <thead>\n",
       "    <tr style=\"text-align: right;\">\n",
       "      <th></th>\n",
       "      <th>SNo</th>\n",
       "      <th>ObservationDate</th>\n",
       "      <th>Province/State</th>\n",
       "      <th>Country/Region</th>\n",
       "      <th>Last Update</th>\n",
       "      <th>Confirmed</th>\n",
       "      <th>Deaths</th>\n",
       "      <th>Recovered</th>\n",
       "    </tr>\n",
       "  </thead>\n",
       "  <tbody>\n",
       "    <tr>\n",
       "      <th>0</th>\n",
       "      <td>1</td>\n",
       "      <td>01/22/2020</td>\n",
       "      <td>Anhui</td>\n",
       "      <td>Mainland China</td>\n",
       "      <td>1/22/2020 17:00</td>\n",
       "      <td>1.0</td>\n",
       "      <td>0.0</td>\n",
       "      <td>0.0</td>\n",
       "    </tr>\n",
       "    <tr>\n",
       "      <th>1</th>\n",
       "      <td>2</td>\n",
       "      <td>01/22/2020</td>\n",
       "      <td>Beijing</td>\n",
       "      <td>Mainland China</td>\n",
       "      <td>1/22/2020 17:00</td>\n",
       "      <td>14.0</td>\n",
       "      <td>0.0</td>\n",
       "      <td>0.0</td>\n",
       "    </tr>\n",
       "    <tr>\n",
       "      <th>2</th>\n",
       "      <td>3</td>\n",
       "      <td>01/22/2020</td>\n",
       "      <td>Chongqing</td>\n",
       "      <td>Mainland China</td>\n",
       "      <td>1/22/2020 17:00</td>\n",
       "      <td>6.0</td>\n",
       "      <td>0.0</td>\n",
       "      <td>0.0</td>\n",
       "    </tr>\n",
       "    <tr>\n",
       "      <th>3</th>\n",
       "      <td>4</td>\n",
       "      <td>01/22/2020</td>\n",
       "      <td>Fujian</td>\n",
       "      <td>Mainland China</td>\n",
       "      <td>1/22/2020 17:00</td>\n",
       "      <td>1.0</td>\n",
       "      <td>0.0</td>\n",
       "      <td>0.0</td>\n",
       "    </tr>\n",
       "    <tr>\n",
       "      <th>4</th>\n",
       "      <td>5</td>\n",
       "      <td>01/22/2020</td>\n",
       "      <td>Gansu</td>\n",
       "      <td>Mainland China</td>\n",
       "      <td>1/22/2020 17:00</td>\n",
       "      <td>0.0</td>\n",
       "      <td>0.0</td>\n",
       "      <td>0.0</td>\n",
       "    </tr>\n",
       "  </tbody>\n",
       "</table>\n",
       "</div>"
      ],
      "text/plain": [
       "   SNo ObservationDate Province/State  Country/Region      Last Update  \\\n",
       "0    1      01/22/2020          Anhui  Mainland China  1/22/2020 17:00   \n",
       "1    2      01/22/2020        Beijing  Mainland China  1/22/2020 17:00   \n",
       "2    3      01/22/2020      Chongqing  Mainland China  1/22/2020 17:00   \n",
       "3    4      01/22/2020         Fujian  Mainland China  1/22/2020 17:00   \n",
       "4    5      01/22/2020          Gansu  Mainland China  1/22/2020 17:00   \n",
       "\n",
       "   Confirmed  Deaths  Recovered  \n",
       "0        1.0     0.0        0.0  \n",
       "1       14.0     0.0        0.0  \n",
       "2        6.0     0.0        0.0  \n",
       "3        1.0     0.0        0.0  \n",
       "4        0.0     0.0        0.0  "
      ]
     },
     "execution_count": 76,
     "metadata": {},
     "output_type": "execute_result"
    }
   ],
   "source": [
    "# Load the \"covid_19_data\" dataset \n",
    "covid_2019=pd.read_csv(\"novel-corona-virus-2019-dataset/covid_19_data.csv\")\n",
    "covid_2019.head()"
   ]
  },
  {
   "cell_type": "markdown",
   "metadata": {},
   "source": [
    "As we can see in the following descriptive data frame, this data is composed of 11614 observations with 119827 infections, 14681 deaths and 63612 recovered patients around the world. An important piece of information is that the variables `Confirmed`, `Deaths` and `Recovered` are cumulative and for that reason, at this point, we can't say anything for example about the mean number of new cases by day."
   ]
  },
  {
   "cell_type": "code",
   "execution_count": 80,
   "metadata": {},
   "outputs": [
    {
     "data": {
      "text/html": [
       "<div>\n",
       "<style scoped>\n",
       "    .dataframe tbody tr th:only-of-type {\n",
       "        vertical-align: middle;\n",
       "    }\n",
       "\n",
       "    .dataframe tbody tr th {\n",
       "        vertical-align: top;\n",
       "    }\n",
       "\n",
       "    .dataframe thead th {\n",
       "        text-align: right;\n",
       "    }\n",
       "</style>\n",
       "<table border=\"1\" class=\"dataframe\">\n",
       "  <thead>\n",
       "    <tr style=\"text-align: right;\">\n",
       "      <th></th>\n",
       "      <th>SNo</th>\n",
       "      <th>Confirmed</th>\n",
       "      <th>Deaths</th>\n",
       "      <th>Recovered</th>\n",
       "    </tr>\n",
       "  </thead>\n",
       "  <tbody>\n",
       "    <tr>\n",
       "      <th>count</th>\n",
       "      <td>11614.000000</td>\n",
       "      <td>11614.000000</td>\n",
       "      <td>11614.000000</td>\n",
       "      <td>11614.000000</td>\n",
       "    </tr>\n",
       "    <tr>\n",
       "      <th>mean</th>\n",
       "      <td>5807.500000</td>\n",
       "      <td>1175.025831</td>\n",
       "      <td>51.019373</td>\n",
       "      <td>320.180902</td>\n",
       "    </tr>\n",
       "    <tr>\n",
       "      <th>std</th>\n",
       "      <td>3352.817348</td>\n",
       "      <td>7096.206263</td>\n",
       "      <td>490.706034</td>\n",
       "      <td>3145.856598</td>\n",
       "    </tr>\n",
       "    <tr>\n",
       "      <th>min</th>\n",
       "      <td>1.000000</td>\n",
       "      <td>0.000000</td>\n",
       "      <td>0.000000</td>\n",
       "      <td>0.000000</td>\n",
       "    </tr>\n",
       "    <tr>\n",
       "      <th>25%</th>\n",
       "      <td>2904.250000</td>\n",
       "      <td>4.000000</td>\n",
       "      <td>0.000000</td>\n",
       "      <td>0.000000</td>\n",
       "    </tr>\n",
       "    <tr>\n",
       "      <th>50%</th>\n",
       "      <td>5807.500000</td>\n",
       "      <td>39.000000</td>\n",
       "      <td>0.000000</td>\n",
       "      <td>0.000000</td>\n",
       "    </tr>\n",
       "    <tr>\n",
       "      <th>75%</th>\n",
       "      <td>8710.750000</td>\n",
       "      <td>266.000000</td>\n",
       "      <td>2.000000</td>\n",
       "      <td>17.000000</td>\n",
       "    </tr>\n",
       "    <tr>\n",
       "      <th>max</th>\n",
       "      <td>11614.000000</td>\n",
       "      <td>119827.000000</td>\n",
       "      <td>14681.000000</td>\n",
       "      <td>63612.000000</td>\n",
       "    </tr>\n",
       "  </tbody>\n",
       "</table>\n",
       "</div>"
      ],
      "text/plain": [
       "                SNo      Confirmed        Deaths     Recovered\n",
       "count  11614.000000   11614.000000  11614.000000  11614.000000\n",
       "mean    5807.500000    1175.025831     51.019373    320.180902\n",
       "std     3352.817348    7096.206263    490.706034   3145.856598\n",
       "min        1.000000       0.000000      0.000000      0.000000\n",
       "25%     2904.250000       4.000000      0.000000      0.000000\n",
       "50%     5807.500000      39.000000      0.000000      0.000000\n",
       "75%     8710.750000     266.000000      2.000000     17.000000\n",
       "max    11614.000000  119827.000000  14681.000000  63612.000000"
      ]
     },
     "execution_count": 80,
     "metadata": {},
     "output_type": "execute_result"
    }
   ],
   "source": [
    "# Describes the continuous variables\n",
    "covid_2019.describe()"
   ]
  },
  {
   "cell_type": "markdown",
   "metadata": {},
   "source": [
    "Before going forward, it's important to transform the variables to the correct format."
   ]
  },
  {
   "cell_type": "code",
   "execution_count": 3,
   "metadata": {},
   "outputs": [
    {
     "data": {
      "text/plain": [
       "SNo                  int64\n",
       "ObservationDate     object\n",
       "Province/State      object\n",
       "Country/Region      object\n",
       "Last Update         object\n",
       "Confirmed          float64\n",
       "Deaths             float64\n",
       "Recovered          float64\n",
       "dtype: object"
      ]
     },
     "execution_count": 3,
     "metadata": {},
     "output_type": "execute_result"
    }
   ],
   "source": [
    "# Actual data types\n",
    "covid_2019.dtypes"
   ]
  },
  {
   "cell_type": "code",
   "execution_count": 132,
   "metadata": {},
   "outputs": [
    {
     "data": {
      "text/plain": [
       "SNo                         int64\n",
       "ObservationDate    datetime64[ns]\n",
       "Province/State           category\n",
       "Country/Region           category\n",
       "Last Update        datetime64[ns]\n",
       "Confirmed                   int64\n",
       "Deaths                      int64\n",
       "Recovered                   int64\n",
       "dtype: object"
      ]
     },
     "execution_count": 132,
     "metadata": {},
     "output_type": "execute_result"
    }
   ],
   "source": [
    "## Transform the data type to the correct format\n",
    "# 'Last Update' and 'ObservationDate' to datetime\n",
    "covid_2019['Last Update']=pd.to_datetime(covid_2019['Last Update'])\n",
    "covid_2019['ObservationDate']=pd.to_datetime(covid_2019['ObservationDate'])\n",
    "# 'Confirmed','Deaths','Recovered' to int\n",
    "covid_2019[['Confirmed','Deaths','Recovered']]=covid_2019[['Confirmed','Deaths','Recovered']].astype('int')\n",
    "# 'Province/State' and 'Country/Region' to category\n",
    "covid_2019[['Province/State','Country/Region']]=covid_2019[['Province/State','Country/Region']].astype('category')\n",
    "covid_2019.dtypes"
   ]
  },
  {
   "cell_type": "code",
   "execution_count": 133,
   "metadata": {},
   "outputs": [
    {
     "name": "stdout",
     "output_type": "stream",
     "text": [
      "Some general facts about our data:\n",
      "=> The first day reported in our data was 2020-01-22 17:00:00.\n",
      "=> While the last day included is 2020-04-03 22:52:45.\n",
      "=> Our data resume the information of the coronavirus spread in 72 days 05:52:45\n",
      "=> During these days, a total of 295 Province/States had reported at least one case of coronavirus.\n",
      "=> These Province/States are distributed in 216 countries or regions.\n"
     ]
    }
   ],
   "source": [
    "print('Some general facts about our data:')\n",
    "print('=> The first day reported in our data was {}.'.format(min(covid_2019['Last Update'])))\n",
    "print('=> While the last day included is {}.'.format(max(covid_2019['Last Update'])))\n",
    "print('=> Our data resume the information of the coronavirus spread in {}'.format(max(covid_2019['Last Update']) - min(covid_2019['Last Update'])))\n",
    "print('=> During these days, a total of {} Province/States had reported at least one case of coronavirus.'.format(len(covid_2019['Province/State'].unique())))\n",
    "print('=> These Province/States are distributed in {} countries or regions.'.format(len(covid_2019['Country/Region'].unique())))"
   ]
  },
  {
   "cell_type": "markdown",
   "metadata": {},
   "source": [
    "### Cities Selection\n",
    "<a id='cities_selection'></a>\n",
    "\n",
    "For this study I considered the weather in the last 4 months (December 1 to March 29) of 9 differents cities. The selection criterion was:\n",
    "* Include the most infected city of the 3 countries with more cases. At 2020-04-03 these countries were US, Italy, and Spain, and the cities were \"New York\" (US), the region of \"Lombardia\" in Italy (in this case we selected Milan, which is the capital of Lombardia), and Madrid (Spain) (see details in the subsection [Cities in Countries with more Infections](#cities_in_countries_with_more_infections)).\n",
    "* Include the city with a greater number of cases in the 3 coldest countries. The list with the coldest countries in the World was obtained from [here](https://www.swedishnomad.com/coldest-countries-in-the-world/) taking into account the average yearly temperature.  \n",
    "    * The results show that the coldest countries with more cases are \"Austria\", \"Sweden\", and Canada with 11524, 6131 and 6101 cases respectively. For these countries the most afected cities are Vienna (Austria's capital), Stockholm (Sweden's capital), and Quebec in Canada. For details, see the subsection [Cities in Coldest-Countries](#coldest_countries). \n",
    "* Include the city with a greater number of cases in the 3 hottest countries. A list with the 15 hottest countries given the average yearly temperature was obtained from [here](https://www.swedishnomad.com/hottest-countries-in-the-world/). \n",
    "    * Given these selection parameters, I obtained that the hottest 3 countries with the greatest number of cases are United Arab Emirates, Qatar, and Burkina Faso with 1264, 1075 and 302 cases respectively. Unfortunately, I can't found free weather information about Burkina Faso, and as consequence I pick the next country in the list, which is Senegal with 207 cases. The weather of the cities with more cases of these 3 countries (Dubai (United Arab Emirates), Doha (Qatar), Dakar (Senegal)) were selected for this analysis (see details in the subsection [Cities in Hottest-Countries](#hottest_countries)).\n",
    "\n",
    "\n",
    "> Unfortunately, it was very difficult for me to find accurate information about the weather by country/cities in the last 4 months. All the webpages sell this information (and is very expensive by the way), so, I collected and curated manually this data. If anybody has or knows where to obtain this kind of data easily, please, share this information. If you want to use this information, it is available[here](https://github.com/Yasel-Garces/The-impact-of-weather-in-the-coronavirus-spread)."
   ]
  },
  {
   "cell_type": "markdown",
   "metadata": {},
   "source": [
    "#### Cities in Countries with more Infections.\n",
    "<a id='cities_in_countries_with_more_infections'></a>"
   ]
  },
  {
   "cell_type": "code",
   "execution_count": 134,
   "metadata": {},
   "outputs": [
    {
     "data": {
      "text/html": [
       "<div>\n",
       "<style scoped>\n",
       "    .dataframe tbody tr th:only-of-type {\n",
       "        vertical-align: middle;\n",
       "    }\n",
       "\n",
       "    .dataframe tbody tr th {\n",
       "        vertical-align: top;\n",
       "    }\n",
       "\n",
       "    .dataframe thead th {\n",
       "        text-align: right;\n",
       "    }\n",
       "</style>\n",
       "<table border=\"1\" class=\"dataframe\">\n",
       "  <thead>\n",
       "    <tr style=\"text-align: right;\">\n",
       "      <th></th>\n",
       "      <th>SNo</th>\n",
       "      <th>ObservationDate</th>\n",
       "      <th>Province/State</th>\n",
       "      <th>Country/Region</th>\n",
       "      <th>Last Update</th>\n",
       "      <th>Confirmed</th>\n",
       "      <th>Deaths</th>\n",
       "      <th>Recovered</th>\n",
       "    </tr>\n",
       "  </thead>\n",
       "  <tbody>\n",
       "    <tr>\n",
       "      <th>11299</th>\n",
       "      <td>11300</td>\n",
       "      <td>2020-04-03</td>\n",
       "      <td>NaN</td>\n",
       "      <td>Afghanistan</td>\n",
       "      <td>2020-04-03 22:52:45</td>\n",
       "      <td>281</td>\n",
       "      <td>6</td>\n",
       "      <td>10</td>\n",
       "    </tr>\n",
       "    <tr>\n",
       "      <th>11300</th>\n",
       "      <td>11301</td>\n",
       "      <td>2020-04-03</td>\n",
       "      <td>NaN</td>\n",
       "      <td>Albania</td>\n",
       "      <td>2020-04-03 22:52:45</td>\n",
       "      <td>304</td>\n",
       "      <td>17</td>\n",
       "      <td>89</td>\n",
       "    </tr>\n",
       "    <tr>\n",
       "      <th>11301</th>\n",
       "      <td>11302</td>\n",
       "      <td>2020-04-03</td>\n",
       "      <td>NaN</td>\n",
       "      <td>Algeria</td>\n",
       "      <td>2020-04-03 22:52:45</td>\n",
       "      <td>1171</td>\n",
       "      <td>105</td>\n",
       "      <td>62</td>\n",
       "    </tr>\n",
       "    <tr>\n",
       "      <th>11302</th>\n",
       "      <td>11303</td>\n",
       "      <td>2020-04-03</td>\n",
       "      <td>NaN</td>\n",
       "      <td>Andorra</td>\n",
       "      <td>2020-04-03 22:52:45</td>\n",
       "      <td>439</td>\n",
       "      <td>16</td>\n",
       "      <td>16</td>\n",
       "    </tr>\n",
       "    <tr>\n",
       "      <th>11303</th>\n",
       "      <td>11304</td>\n",
       "      <td>2020-04-03</td>\n",
       "      <td>NaN</td>\n",
       "      <td>Angola</td>\n",
       "      <td>2020-04-03 22:52:45</td>\n",
       "      <td>8</td>\n",
       "      <td>2</td>\n",
       "      <td>1</td>\n",
       "    </tr>\n",
       "  </tbody>\n",
       "</table>\n",
       "</div>"
      ],
      "text/plain": [
       "         SNo ObservationDate Province/State Country/Region  \\\n",
       "11299  11300      2020-04-03            NaN    Afghanistan   \n",
       "11300  11301      2020-04-03            NaN        Albania   \n",
       "11301  11302      2020-04-03            NaN        Algeria   \n",
       "11302  11303      2020-04-03            NaN        Andorra   \n",
       "11303  11304      2020-04-03            NaN         Angola   \n",
       "\n",
       "              Last Update  Confirmed  Deaths  Recovered  \n",
       "11299 2020-04-03 22:52:45        281       6         10  \n",
       "11300 2020-04-03 22:52:45        304      17         89  \n",
       "11301 2020-04-03 22:52:45       1171     105         62  \n",
       "11302 2020-04-03 22:52:45        439      16         16  \n",
       "11303 2020-04-03 22:52:45          8       2          1  "
      ]
     },
     "execution_count": 134,
     "metadata": {},
     "output_type": "execute_result"
    }
   ],
   "source": [
    "# Extract the data of the last day\n",
    "covid_2019_lastDay=covid_2019.loc[covid_2019['ObservationDate']==max(covid_2019['ObservationDate']),:]\n",
    "covid_2019_lastDay.head()"
   ]
  },
  {
   "cell_type": "code",
   "execution_count": 135,
   "metadata": {},
   "outputs": [
    {
     "name": "stdout",
     "output_type": "stream",
     "text": [
      "The countries with more cases are:\n",
      "                 Confirmed\n",
      "Country/Region           \n",
      "US                 275586\n",
      "Italy              119827\n",
      "Spain              119199\n",
      "Germany             91159\n",
      "Mainland China      81623\n"
     ]
    }
   ],
   "source": [
    "# Compute the total number of cases by country\n",
    "cases_by_countries=covid_2019_lastDay.pivot_table(index=['Country/Region'],\n",
    "                                                  values='Confirmed',\n",
    "                                                  aggfunc='sum').sort_values(by='Confirmed',\n",
    "                                                                             ascending=False)\n",
    "print('The countries with more cases are:\\n {}'.format(cases_by_countries.head()))"
   ]
  },
  {
   "cell_type": "code",
   "execution_count": 136,
   "metadata": {},
   "outputs": [
    {
     "name": "stdout",
     "output_type": "stream",
     "text": [
      "The cities with more cases for each of the top countries are:\n",
      "          US     Italy     Spain\n",
      "0  New York       NaN       NaN\n",
      "1    102987  119827.0  119199.0\n"
     ]
    }
   ],
   "source": [
    "# Select the city with more cases in the 3 countries with more cases.\n",
    "countries=['US', 'Italy','Spain']\n",
    "function = lambda country: covid_2019_lastDay.loc[covid_2019_lastDay['Country/Region']==country,:].sort_values(by='Confirmed',\n",
    "                                                                             ascending=False).iloc[0,[2,5]]\n",
    "# Stores the results in a dictionary\n",
    "result={country: list(function(country)) for country in countries}\n",
    "print('The cities with more cases for each of the top countries are:\\n {}'.format(pd.DataFrame(result)))"
   ]
  },
  {
   "cell_type": "markdown",
   "metadata": {},
   "source": [
    "We can see here something unexpected (wasn't obtained any city for Italy or Spain). Let's see what happened:"
   ]
  },
  {
   "cell_type": "code",
   "execution_count": 137,
   "metadata": {},
   "outputs": [
    {
     "data": {
      "text/html": [
       "<div>\n",
       "<style scoped>\n",
       "    .dataframe tbody tr th:only-of-type {\n",
       "        vertical-align: middle;\n",
       "    }\n",
       "\n",
       "    .dataframe tbody tr th {\n",
       "        vertical-align: top;\n",
       "    }\n",
       "\n",
       "    .dataframe thead th {\n",
       "        text-align: right;\n",
       "    }\n",
       "</style>\n",
       "<table border=\"1\" class=\"dataframe\">\n",
       "  <thead>\n",
       "    <tr style=\"text-align: right;\">\n",
       "      <th></th>\n",
       "      <th>SNo</th>\n",
       "      <th>ObservationDate</th>\n",
       "      <th>Province/State</th>\n",
       "      <th>Country/Region</th>\n",
       "      <th>Last Update</th>\n",
       "      <th>Confirmed</th>\n",
       "      <th>Deaths</th>\n",
       "      <th>Recovered</th>\n",
       "    </tr>\n",
       "  </thead>\n",
       "  <tbody>\n",
       "    <tr>\n",
       "      <th>11379</th>\n",
       "      <td>11380</td>\n",
       "      <td>2020-04-03</td>\n",
       "      <td>NaN</td>\n",
       "      <td>Italy</td>\n",
       "      <td>2020-04-03 22:52:45</td>\n",
       "      <td>119827</td>\n",
       "      <td>14681</td>\n",
       "      <td>19758</td>\n",
       "    </tr>\n",
       "    <tr>\n",
       "      <th>11064</th>\n",
       "      <td>11065</td>\n",
       "      <td>2020-04-02</td>\n",
       "      <td>NaN</td>\n",
       "      <td>Italy</td>\n",
       "      <td>2020-04-02 23:32:01</td>\n",
       "      <td>115242</td>\n",
       "      <td>13915</td>\n",
       "      <td>18278</td>\n",
       "    </tr>\n",
       "    <tr>\n",
       "      <th>10751</th>\n",
       "      <td>10752</td>\n",
       "      <td>2020-04-01</td>\n",
       "      <td>NaN</td>\n",
       "      <td>Italy</td>\n",
       "      <td>2020-04-01 22:04:58</td>\n",
       "      <td>110574</td>\n",
       "      <td>13155</td>\n",
       "      <td>16847</td>\n",
       "    </tr>\n",
       "    <tr>\n",
       "      <th>10438</th>\n",
       "      <td>10439</td>\n",
       "      <td>2020-03-31</td>\n",
       "      <td>NaN</td>\n",
       "      <td>Italy</td>\n",
       "      <td>2020-03-31 23:49:27</td>\n",
       "      <td>105792</td>\n",
       "      <td>12428</td>\n",
       "      <td>15729</td>\n",
       "    </tr>\n",
       "    <tr>\n",
       "      <th>10125</th>\n",
       "      <td>10126</td>\n",
       "      <td>2020-03-30</td>\n",
       "      <td>NaN</td>\n",
       "      <td>Italy</td>\n",
       "      <td>2020-03-30 22:58:55</td>\n",
       "      <td>101739</td>\n",
       "      <td>11591</td>\n",
       "      <td>14620</td>\n",
       "    </tr>\n",
       "  </tbody>\n",
       "</table>\n",
       "</div>"
      ],
      "text/plain": [
       "         SNo ObservationDate Province/State Country/Region  \\\n",
       "11379  11380      2020-04-03            NaN          Italy   \n",
       "11064  11065      2020-04-02            NaN          Italy   \n",
       "10751  10752      2020-04-01            NaN          Italy   \n",
       "10438  10439      2020-03-31            NaN          Italy   \n",
       "10125  10126      2020-03-30            NaN          Italy   \n",
       "\n",
       "              Last Update  Confirmed  Deaths  Recovered  \n",
       "11379 2020-04-03 22:52:45     119827   14681      19758  \n",
       "11064 2020-04-02 23:32:01     115242   13915      18278  \n",
       "10751 2020-04-01 22:04:58     110574   13155      16847  \n",
       "10438 2020-03-31 23:49:27     105792   12428      15729  \n",
       "10125 2020-03-30 22:58:55     101739   11591      14620  "
      ]
     },
     "execution_count": 137,
     "metadata": {},
     "output_type": "execute_result"
    }
   ],
   "source": [
    "# Slice the dataset to show only the information relative to Italy \n",
    "covid_2019.loc[covid_2019['Country/Region']=='Italy',:].sort_values(by='Confirmed',\n",
    "                                                                             ascending=False).head()"
   ]
  },
  {
   "cell_type": "markdown",
   "metadata": {},
   "source": [
    "The problem seems to be clear! Our data doesn't contain the information of Italy or Spain segmented by regions or provinces (note that only exists one record per day). Fortunately, in the case of Italy, this inconvenience can be overcome using another available [dataset in Kaggle that contain specific information about Italy](https://www.kaggle.com/sudalairajkumar/covid19-in-italy#covid19_italy_region.csv). Therefore, I decided to drop all the information relative to Italy from the `covid_2019` dataset and include the new information available in the Italy dataset."
   ]
  },
  {
   "cell_type": "code",
   "execution_count": 138,
   "metadata": {},
   "outputs": [
    {
     "data": {
      "text/html": [
       "<div>\n",
       "<style scoped>\n",
       "    .dataframe tbody tr th:only-of-type {\n",
       "        vertical-align: middle;\n",
       "    }\n",
       "\n",
       "    .dataframe tbody tr th {\n",
       "        vertical-align: top;\n",
       "    }\n",
       "\n",
       "    .dataframe thead th {\n",
       "        text-align: right;\n",
       "    }\n",
       "</style>\n",
       "<table border=\"1\" class=\"dataframe\">\n",
       "  <thead>\n",
       "    <tr style=\"text-align: right;\">\n",
       "      <th></th>\n",
       "      <th>SNo</th>\n",
       "      <th>ObservationDate</th>\n",
       "      <th>Province/State</th>\n",
       "      <th>Country/Region</th>\n",
       "      <th>Last Update</th>\n",
       "      <th>Confirmed</th>\n",
       "      <th>Deaths</th>\n",
       "      <th>Recovered</th>\n",
       "    </tr>\n",
       "  </thead>\n",
       "  <tbody>\n",
       "  </tbody>\n",
       "</table>\n",
       "</div>"
      ],
      "text/plain": [
       "Empty DataFrame\n",
       "Columns: [SNo, ObservationDate, Province/State, Country/Region, Last Update, Confirmed, Deaths, Recovered]\n",
       "Index: []"
      ]
     },
     "execution_count": 138,
     "metadata": {},
     "output_type": "execute_result"
    }
   ],
   "source": [
    "# Drop all the information relative  to Italy from \"covid_2019\"\n",
    "covid_2019=covid_2019.loc[covid_2019['Country/Region']!='Italy',:]\n",
    "# Check that the information was droped\n",
    "covid_2019.loc[covid_2019['Country/Region']=='Italy',:]"
   ]
  },
  {
   "cell_type": "code",
   "execution_count": 139,
   "metadata": {},
   "outputs": [
    {
     "name": "stdout",
     "output_type": "stream",
     "text": [
      "Index(['SNo', 'Date', 'Country', 'RegionCode', 'RegionName', 'Latitude',\n",
      "       'Longitude', 'HospitalizedPatients', 'IntensiveCarePatients',\n",
      "       'TotalHospitalizedPatients', 'HomeConfinement', 'CurrentPositiveCases',\n",
      "       'NewPositiveCases', 'Recovered', 'Deaths', 'TotalPositiveCases',\n",
      "       'TestsPerformed'],\n",
      "      dtype='object')\n"
     ]
    }
   ],
   "source": [
    "# Load the new dataframe with the information about Italy\n",
    "italy=pd.read_csv(\"novel-corona-virus-2019-dataset/covid19_italy_region.csv\")\n",
    "# Print the columns of this data frame\n",
    "print(italy.columns)"
   ]
  },
  {
   "cell_type": "markdown",
   "metadata": {},
   "source": [
    "If we look at the columns of the `italy` data frame, it's easy to realize that we only need to consider the next variables to include in our `covid_19` data frame: `Sno`, `Country`, `Date`, `Recovered`, `Deaths`, `TotalPositiveCases`."
   ]
  },
  {
   "cell_type": "code",
   "execution_count": 140,
   "metadata": {},
   "outputs": [],
   "source": [
    "# Create a new dataframe for Italy with only the necesary variables (listed above)\n",
    "italy=italy[['SNo','Date','RegionName','Country','Date','TotalPositiveCases','Deaths','Recovered']]\n",
    "# Name the columns as in covid_19\n",
    "italy.columns=['SNo','ObservationDate','Province/State','Country/Region','Last Update',\n",
    "               'Confirmed','Deaths','Recovered']"
   ]
  },
  {
   "cell_type": "code",
   "execution_count": 141,
   "metadata": {},
   "outputs": [
    {
     "data": {
      "text/html": [
       "<div>\n",
       "<style scoped>\n",
       "    .dataframe tbody tr th:only-of-type {\n",
       "        vertical-align: middle;\n",
       "    }\n",
       "\n",
       "    .dataframe tbody tr th {\n",
       "        vertical-align: top;\n",
       "    }\n",
       "\n",
       "    .dataframe thead th {\n",
       "        text-align: right;\n",
       "    }\n",
       "</style>\n",
       "<table border=\"1\" class=\"dataframe\">\n",
       "  <thead>\n",
       "    <tr style=\"text-align: right;\">\n",
       "      <th></th>\n",
       "      <th>SNo</th>\n",
       "      <th>ObservationDate</th>\n",
       "      <th>Province/State</th>\n",
       "      <th>Country/Region</th>\n",
       "      <th>Last Update</th>\n",
       "      <th>Confirmed</th>\n",
       "      <th>Deaths</th>\n",
       "      <th>Recovered</th>\n",
       "    </tr>\n",
       "  </thead>\n",
       "  <tbody>\n",
       "    <tr>\n",
       "      <th>0</th>\n",
       "      <td>0</td>\n",
       "      <td>2020-02-24T18:00:00</td>\n",
       "      <td>Abruzzo</td>\n",
       "      <td>Italy</td>\n",
       "      <td>2020-02-24T18:00:00</td>\n",
       "      <td>0</td>\n",
       "      <td>0</td>\n",
       "      <td>0</td>\n",
       "    </tr>\n",
       "    <tr>\n",
       "      <th>1</th>\n",
       "      <td>1</td>\n",
       "      <td>2020-02-24T18:00:00</td>\n",
       "      <td>Basilicata</td>\n",
       "      <td>Italy</td>\n",
       "      <td>2020-02-24T18:00:00</td>\n",
       "      <td>0</td>\n",
       "      <td>0</td>\n",
       "      <td>0</td>\n",
       "    </tr>\n",
       "    <tr>\n",
       "      <th>2</th>\n",
       "      <td>2</td>\n",
       "      <td>2020-02-24T18:00:00</td>\n",
       "      <td>P.A. Bolzano</td>\n",
       "      <td>Italy</td>\n",
       "      <td>2020-02-24T18:00:00</td>\n",
       "      <td>0</td>\n",
       "      <td>0</td>\n",
       "      <td>0</td>\n",
       "    </tr>\n",
       "    <tr>\n",
       "      <th>3</th>\n",
       "      <td>3</td>\n",
       "      <td>2020-02-24T18:00:00</td>\n",
       "      <td>Calabria</td>\n",
       "      <td>Italy</td>\n",
       "      <td>2020-02-24T18:00:00</td>\n",
       "      <td>0</td>\n",
       "      <td>0</td>\n",
       "      <td>0</td>\n",
       "    </tr>\n",
       "    <tr>\n",
       "      <th>4</th>\n",
       "      <td>4</td>\n",
       "      <td>2020-02-24T18:00:00</td>\n",
       "      <td>Campania</td>\n",
       "      <td>Italy</td>\n",
       "      <td>2020-02-24T18:00:00</td>\n",
       "      <td>0</td>\n",
       "      <td>0</td>\n",
       "      <td>0</td>\n",
       "    </tr>\n",
       "  </tbody>\n",
       "</table>\n",
       "</div>"
      ],
      "text/plain": [
       "   SNo      ObservationDate Province/State Country/Region  \\\n",
       "0    0  2020-02-24T18:00:00        Abruzzo          Italy   \n",
       "1    1  2020-02-24T18:00:00     Basilicata          Italy   \n",
       "2    2  2020-02-24T18:00:00   P.A. Bolzano          Italy   \n",
       "3    3  2020-02-24T18:00:00       Calabria          Italy   \n",
       "4    4  2020-02-24T18:00:00       Campania          Italy   \n",
       "\n",
       "           Last Update  Confirmed  Deaths  Recovered  \n",
       "0  2020-02-24T18:00:00          0       0          0  \n",
       "1  2020-02-24T18:00:00          0       0          0  \n",
       "2  2020-02-24T18:00:00          0       0          0  \n",
       "3  2020-02-24T18:00:00          0       0          0  \n",
       "4  2020-02-24T18:00:00          0       0          0  "
      ]
     },
     "execution_count": 141,
     "metadata": {},
     "output_type": "execute_result"
    }
   ],
   "source": [
    "# Concat the two dataframes\n",
    "covid_2019=pd.concat([covid_2019,italy])\n",
    "# Rename ITA for Italy\n",
    "covid_2019['Country/Region'].replace(to_replace='ITA',value='Italy',inplace=True)\n",
    "covid_2019.loc[covid_2019['Country/Region']=='Italy',:].head()"
   ]
  },
  {
   "cell_type": "markdown",
   "metadata": {},
   "source": [
    "I don't found detailed information about the number of cases in Spain by region, but, we know that the greatest number of cases are in Madrid, so, I'm going to pick the information about the weather in Madrid for this analysis.      \n",
    "Finally, the functions `transform_dtypes` and `cases_country_city` available in the `functions.py` script runs all the steps that we did earlier in [this section](#cities_in_countries_with_more_infections). The results shows that at this moment New York is US's city with more cases ($\\approx 102987$), while the region of Lombardia in Italy has $\\approx 47520$ cases."
   ]
  },
  {
   "cell_type": "code",
   "execution_count": 142,
   "metadata": {},
   "outputs": [
    {
     "data": {
      "text/plain": [
       "{'US': ['New York', 102987],\n",
       " 'Italy': ['Lombardia', 47520],\n",
       " 'Spain': [nan, 119199]}"
      ]
     },
     "execution_count": 142,
     "metadata": {},
     "output_type": "execute_result"
    }
   ],
   "source": [
    "from functions import transform_dtypes, cases_country_city\n",
    "# Transform data types\n",
    "covid_2019=transform_dtypes(covid_2019)\n",
    "# Extract the information about the cities with more cases\n",
    "_ , cities=cases_country_city(covid_2019)\n",
    "cities"
   ]
  },
  {
   "cell_type": "markdown",
   "metadata": {},
   "source": [
    "#### Cities in Coldest-Countries\n",
    "<a id='coldest_countries'></a>"
   ]
  },
  {
   "cell_type": "code",
   "execution_count": 143,
   "metadata": {},
   "outputs": [
    {
     "data": {
      "text/html": [
       "<div>\n",
       "<style scoped>\n",
       "    .dataframe tbody tr th:only-of-type {\n",
       "        vertical-align: middle;\n",
       "    }\n",
       "\n",
       "    .dataframe tbody tr th {\n",
       "        vertical-align: top;\n",
       "    }\n",
       "\n",
       "    .dataframe thead th {\n",
       "        text-align: right;\n",
       "    }\n",
       "</style>\n",
       "<table border=\"1\" class=\"dataframe\">\n",
       "  <thead>\n",
       "    <tr style=\"text-align: right;\">\n",
       "      <th></th>\n",
       "      <th>SNo</th>\n",
       "      <th>ObservationDate</th>\n",
       "      <th>Province/State</th>\n",
       "      <th>Country/Region</th>\n",
       "      <th>Last Update</th>\n",
       "      <th>Confirmed</th>\n",
       "      <th>Deaths</th>\n",
       "      <th>Recovered</th>\n",
       "    </tr>\n",
       "  </thead>\n",
       "  <tbody>\n",
       "    <tr>\n",
       "      <th>11307</th>\n",
       "      <td>11308</td>\n",
       "      <td>2020-04-03</td>\n",
       "      <td>NaN</td>\n",
       "      <td>Austria</td>\n",
       "      <td>2020-04-03 22:52:45</td>\n",
       "      <td>11524</td>\n",
       "      <td>168</td>\n",
       "      <td>2022</td>\n",
       "    </tr>\n",
       "    <tr>\n",
       "      <th>11454</th>\n",
       "      <td>11455</td>\n",
       "      <td>2020-04-03</td>\n",
       "      <td>NaN</td>\n",
       "      <td>Sweden</td>\n",
       "      <td>2020-04-03 22:52:45</td>\n",
       "      <td>6131</td>\n",
       "      <td>358</td>\n",
       "      <td>205</td>\n",
       "    </tr>\n",
       "    <tr>\n",
       "      <th>11576</th>\n",
       "      <td>11577</td>\n",
       "      <td>2020-04-03</td>\n",
       "      <td>Quebec</td>\n",
       "      <td>Canada</td>\n",
       "      <td>2020-04-03 22:52:45</td>\n",
       "      <td>6101</td>\n",
       "      <td>61</td>\n",
       "      <td>0</td>\n",
       "    </tr>\n",
       "    <tr>\n",
       "      <th>11421</th>\n",
       "      <td>11422</td>\n",
       "      <td>2020-04-03</td>\n",
       "      <td>NaN</td>\n",
       "      <td>Norway</td>\n",
       "      <td>2020-04-03 22:52:45</td>\n",
       "      <td>5370</td>\n",
       "      <td>59</td>\n",
       "      <td>32</td>\n",
       "    </tr>\n",
       "    <tr>\n",
       "      <th>11433</th>\n",
       "      <td>11434</td>\n",
       "      <td>2020-04-03</td>\n",
       "      <td>NaN</td>\n",
       "      <td>Russia</td>\n",
       "      <td>2020-04-03 22:52:45</td>\n",
       "      <td>4149</td>\n",
       "      <td>34</td>\n",
       "      <td>281</td>\n",
       "    </tr>\n",
       "  </tbody>\n",
       "</table>\n",
       "</div>"
      ],
      "text/plain": [
       "         SNo ObservationDate Province/State Country/Region  \\\n",
       "11307  11308      2020-04-03            NaN        Austria   \n",
       "11454  11455      2020-04-03            NaN         Sweden   \n",
       "11576  11577      2020-04-03         Quebec         Canada   \n",
       "11421  11422      2020-04-03            NaN         Norway   \n",
       "11433  11434      2020-04-03            NaN         Russia   \n",
       "\n",
       "              Last Update  Confirmed  Deaths  Recovered  \n",
       "11307 2020-04-03 22:52:45      11524     168       2022  \n",
       "11454 2020-04-03 22:52:45       6131     358        205  \n",
       "11576 2020-04-03 22:52:45       6101      61          0  \n",
       "11421 2020-04-03 22:52:45       5370      59         32  \n",
       "11433 2020-04-03 22:52:45       4149      34        281  "
      ]
     },
     "execution_count": 143,
     "metadata": {},
     "output_type": "execute_result"
    }
   ],
   "source": [
    "# List the names of the coldest countries\n",
    "coldest_countries=['Canada','Russia','Mongolia','Greenland','Sweden','Norway','Finland','Iceland','Austria']\n",
    "# Pick only the information of the countries in \"coldest_countries\"\n",
    "ind=(covid_2019_lastDay['Country/Region'].isin(set(coldest_countries))) \n",
    "# Subset and sort the dataframe using the number of confirmed cases\n",
    "covid_2019_lastDay.loc[ind,:].sort_values('Confirmed',ascending=False).head()"
   ]
  },
  {
   "cell_type": "markdown",
   "metadata": {},
   "source": [
    "#### Cities in Hottest-Countries\n",
    "<a id='hottest_countries'></a>"
   ]
  },
  {
   "cell_type": "code",
   "execution_count": 144,
   "metadata": {},
   "outputs": [
    {
     "data": {
      "text/html": [
       "<div>\n",
       "<style scoped>\n",
       "    .dataframe tbody tr th:only-of-type {\n",
       "        vertical-align: middle;\n",
       "    }\n",
       "\n",
       "    .dataframe tbody tr th {\n",
       "        vertical-align: top;\n",
       "    }\n",
       "\n",
       "    .dataframe thead th {\n",
       "        text-align: right;\n",
       "    }\n",
       "</style>\n",
       "<table border=\"1\" class=\"dataframe\">\n",
       "  <thead>\n",
       "    <tr style=\"text-align: right;\">\n",
       "      <th></th>\n",
       "      <th>SNo</th>\n",
       "      <th>ObservationDate</th>\n",
       "      <th>Province/State</th>\n",
       "      <th>Country/Region</th>\n",
       "      <th>Last Update</th>\n",
       "      <th>Confirmed</th>\n",
       "      <th>Deaths</th>\n",
       "      <th>Recovered</th>\n",
       "    </tr>\n",
       "  </thead>\n",
       "  <tbody>\n",
       "    <tr>\n",
       "      <th>11468</th>\n",
       "      <td>11469</td>\n",
       "      <td>2020-04-03</td>\n",
       "      <td>NaN</td>\n",
       "      <td>United Arab Emirates</td>\n",
       "      <td>2020-04-03 22:52:45</td>\n",
       "      <td>1264</td>\n",
       "      <td>9</td>\n",
       "      <td>108</td>\n",
       "    </tr>\n",
       "    <tr>\n",
       "      <th>11431</th>\n",
       "      <td>11432</td>\n",
       "      <td>2020-04-03</td>\n",
       "      <td>NaN</td>\n",
       "      <td>Qatar</td>\n",
       "      <td>2020-04-03 22:52:45</td>\n",
       "      <td>1075</td>\n",
       "      <td>3</td>\n",
       "      <td>93</td>\n",
       "    </tr>\n",
       "    <tr>\n",
       "      <th>11324</th>\n",
       "      <td>11325</td>\n",
       "      <td>2020-04-03</td>\n",
       "      <td>NaN</td>\n",
       "      <td>Burkina Faso</td>\n",
       "      <td>2020-04-03 22:52:45</td>\n",
       "      <td>302</td>\n",
       "      <td>16</td>\n",
       "      <td>50</td>\n",
       "    </tr>\n",
       "    <tr>\n",
       "      <th>11440</th>\n",
       "      <td>11441</td>\n",
       "      <td>2020-04-03</td>\n",
       "      <td>NaN</td>\n",
       "      <td>Senegal</td>\n",
       "      <td>2020-04-03 22:52:45</td>\n",
       "      <td>207</td>\n",
       "      <td>1</td>\n",
       "      <td>66</td>\n",
       "    </tr>\n",
       "    <tr>\n",
       "      <th>11361</th>\n",
       "      <td>11362</td>\n",
       "      <td>2020-04-03</td>\n",
       "      <td>NaN</td>\n",
       "      <td>Ghana</td>\n",
       "      <td>2020-04-03 22:52:45</td>\n",
       "      <td>205</td>\n",
       "      <td>5</td>\n",
       "      <td>31</td>\n",
       "    </tr>\n",
       "  </tbody>\n",
       "</table>\n",
       "</div>"
      ],
      "text/plain": [
       "         SNo ObservationDate Province/State        Country/Region  \\\n",
       "11468  11469      2020-04-03            NaN  United Arab Emirates   \n",
       "11431  11432      2020-04-03            NaN                 Qatar   \n",
       "11324  11325      2020-04-03            NaN          Burkina Faso   \n",
       "11440  11441      2020-04-03            NaN               Senegal   \n",
       "11361  11362      2020-04-03            NaN                 Ghana   \n",
       "\n",
       "              Last Update  Confirmed  Deaths  Recovered  \n",
       "11468 2020-04-03 22:52:45       1264       9        108  \n",
       "11431 2020-04-03 22:52:45       1075       3         93  \n",
       "11324 2020-04-03 22:52:45        302      16         50  \n",
       "11440 2020-04-03 22:52:45        207       1         66  \n",
       "11361 2020-04-03 22:52:45        205       5         31  "
      ]
     },
     "execution_count": 144,
     "metadata": {},
     "output_type": "execute_result"
    }
   ],
   "source": [
    "# List of hottest countries \n",
    "hottest_countries=['Mali','Burkina Faso','Senegal','Mauritania','Djibouti','Benin','Ghana','Niger',\n",
    "                  'Cambodia','South Sudan','Qatar','United Arab Emirates','Sudan',\n",
    "                  'Saint Vincent and the Grenadines','Togo']\n",
    "# Pick only the information of the countries in \"hottest_countries\"\n",
    "ind=(covid_2019_lastDay['Country/Region'].isin(set(hottest_countries)))\n",
    "# Subset and sort the dataframe using the number of confirmed cases\n",
    "covid_2019_lastDay.loc[ind,:].sort_values('Confirmed',ascending=False).head()"
   ]
  },
  {
   "cell_type": "markdown",
   "metadata": {},
   "source": [
    "### Weather data\n",
    "<a id='weather_data'></a>\n",
    "\n",
    "The historical weather of the selected 9 cities was collected from [\"Weather Underground\"](https://www.wunderground.com/) and saved in independents CSV files (one file per city). Each file contains information about the weather from December 2019 to March 30, 2020 (121 observations), condensed into 18 variables: \n",
    "\n",
    "| Variable                                     | Description                                       |\n",
    "|:----------------------------------------------|:---------------------------------------------------|\n",
    "| Day                                          | Day                                               |\n",
    "| Month                                        | Month                                             |\n",
    "| Year                                         | Year                                              |\n",
    "| Country                                      | Name of the country                               |\n",
    "| State                                        | Name of the state or region                       |\n",
    "| TempMax/TempAvg/TempMin                      | Maximum, average and minimum temperature ($^o F$) |\n",
    "| HumMax/HumAvg/HumMin                         | Maximum, average and minimum humidity (%)         |\n",
    "| Wind_Speed_Max/Wind_Speed_Avg/Wind_Speed_Min | Maximum, average and minimum wind speed (mph)     |\n",
    "| Pressure_Max/Pressure_Avg/Pressure_Min       | Maximum, average and minimum pressure (Hg)        |\n",
    "| Total_Precipitations                         | Total precipitations (in)                         |\n",
    "\n",
    "\n",
    "\n",
    "Below you can take a look at this information in the case of New York."
   ]
  },
  {
   "cell_type": "code",
   "execution_count": 145,
   "metadata": {},
   "outputs": [
    {
     "data": {
      "text/html": [
       "<div>\n",
       "<style scoped>\n",
       "    .dataframe tbody tr th:only-of-type {\n",
       "        vertical-align: middle;\n",
       "    }\n",
       "\n",
       "    .dataframe tbody tr th {\n",
       "        vertical-align: top;\n",
       "    }\n",
       "\n",
       "    .dataframe thead th {\n",
       "        text-align: right;\n",
       "    }\n",
       "</style>\n",
       "<table border=\"1\" class=\"dataframe\">\n",
       "  <thead>\n",
       "    <tr style=\"text-align: right;\">\n",
       "      <th></th>\n",
       "      <th>Day</th>\n",
       "      <th>Month</th>\n",
       "      <th>Year</th>\n",
       "      <th>Country</th>\n",
       "      <th>State</th>\n",
       "      <th>TempMax</th>\n",
       "      <th>TempAvg</th>\n",
       "      <th>TempMin</th>\n",
       "      <th>HumMax</th>\n",
       "      <th>HumAvg</th>\n",
       "      <th>HumMin</th>\n",
       "      <th>Wind_Speed_Max</th>\n",
       "      <th>Wind_Speed_Avg</th>\n",
       "      <th>Wind_Speed_Min</th>\n",
       "      <th>Pressure_Max</th>\n",
       "      <th>Pressure_Avg</th>\n",
       "      <th>Pressure_Min</th>\n",
       "      <th>Total_Precipitations</th>\n",
       "    </tr>\n",
       "  </thead>\n",
       "  <tbody>\n",
       "    <tr>\n",
       "      <th>0</th>\n",
       "      <td>1</td>\n",
       "      <td>December</td>\n",
       "      <td>2019</td>\n",
       "      <td>USA</td>\n",
       "      <td>New York</td>\n",
       "      <td>40</td>\n",
       "      <td>35.2</td>\n",
       "      <td>30</td>\n",
       "      <td>93</td>\n",
       "      <td>75.7</td>\n",
       "      <td>42</td>\n",
       "      <td>31</td>\n",
       "      <td>18.2</td>\n",
       "      <td>7</td>\n",
       "      <td>30.0</td>\n",
       "      <td>29.8</td>\n",
       "      <td>29.5</td>\n",
       "      <td>0.00</td>\n",
       "    </tr>\n",
       "    <tr>\n",
       "      <th>1</th>\n",
       "      <td>2</td>\n",
       "      <td>December</td>\n",
       "      <td>2019</td>\n",
       "      <td>USA</td>\n",
       "      <td>New York</td>\n",
       "      <td>39</td>\n",
       "      <td>35.7</td>\n",
       "      <td>32</td>\n",
       "      <td>89</td>\n",
       "      <td>86.1</td>\n",
       "      <td>82</td>\n",
       "      <td>28</td>\n",
       "      <td>17.7</td>\n",
       "      <td>9</td>\n",
       "      <td>29.5</td>\n",
       "      <td>29.5</td>\n",
       "      <td>29.5</td>\n",
       "      <td>0.62</td>\n",
       "    </tr>\n",
       "    <tr>\n",
       "      <th>2</th>\n",
       "      <td>3</td>\n",
       "      <td>December</td>\n",
       "      <td>2019</td>\n",
       "      <td>USA</td>\n",
       "      <td>New York</td>\n",
       "      <td>38</td>\n",
       "      <td>33.9</td>\n",
       "      <td>32</td>\n",
       "      <td>85</td>\n",
       "      <td>69.7</td>\n",
       "      <td>54</td>\n",
       "      <td>29</td>\n",
       "      <td>18.3</td>\n",
       "      <td>10</td>\n",
       "      <td>29.6</td>\n",
       "      <td>29.5</td>\n",
       "      <td>29.5</td>\n",
       "      <td>0.34</td>\n",
       "    </tr>\n",
       "    <tr>\n",
       "      <th>3</th>\n",
       "      <td>4</td>\n",
       "      <td>December</td>\n",
       "      <td>2019</td>\n",
       "      <td>USA</td>\n",
       "      <td>New York</td>\n",
       "      <td>40</td>\n",
       "      <td>38.1</td>\n",
       "      <td>34</td>\n",
       "      <td>76</td>\n",
       "      <td>68.4</td>\n",
       "      <td>63</td>\n",
       "      <td>16</td>\n",
       "      <td>10.7</td>\n",
       "      <td>6</td>\n",
       "      <td>29.6</td>\n",
       "      <td>29.5</td>\n",
       "      <td>29.5</td>\n",
       "      <td>0.00</td>\n",
       "    </tr>\n",
       "    <tr>\n",
       "      <th>4</th>\n",
       "      <td>5</td>\n",
       "      <td>December</td>\n",
       "      <td>2019</td>\n",
       "      <td>USA</td>\n",
       "      <td>New York</td>\n",
       "      <td>43</td>\n",
       "      <td>39.9</td>\n",
       "      <td>38</td>\n",
       "      <td>76</td>\n",
       "      <td>57.5</td>\n",
       "      <td>40</td>\n",
       "      <td>24</td>\n",
       "      <td>16.0</td>\n",
       "      <td>9</td>\n",
       "      <td>30.1</td>\n",
       "      <td>29.8</td>\n",
       "      <td>29.5</td>\n",
       "      <td>0.00</td>\n",
       "    </tr>\n",
       "  </tbody>\n",
       "</table>\n",
       "</div>"
      ],
      "text/plain": [
       "   Day     Month  Year Country     State  TempMax  TempAvg  TempMin  HumMax  \\\n",
       "0    1  December  2019     USA  New York       40     35.2       30      93   \n",
       "1    2  December  2019     USA  New York       39     35.7       32      89   \n",
       "2    3  December  2019     USA  New York       38     33.9       32      85   \n",
       "3    4  December  2019     USA  New York       40     38.1       34      76   \n",
       "4    5  December  2019     USA  New York       43     39.9       38      76   \n",
       "\n",
       "   HumAvg  HumMin  Wind_Speed_Max  Wind_Speed_Avg  Wind_Speed_Min  \\\n",
       "0    75.7      42              31            18.2               7   \n",
       "1    86.1      82              28            17.7               9   \n",
       "2    69.7      54              29            18.3              10   \n",
       "3    68.4      63              16            10.7               6   \n",
       "4    57.5      40              24            16.0               9   \n",
       "\n",
       "   Pressure_Max  Pressure_Avg  Pressure_Min  Total_Precipitations  \n",
       "0          30.0          29.8          29.5                  0.00  \n",
       "1          29.5          29.5          29.5                  0.62  \n",
       "2          29.6          29.5          29.5                  0.34  \n",
       "3          29.6          29.5          29.5                  0.00  \n",
       "4          30.1          29.8          29.5                  0.00  "
      ]
     },
     "execution_count": 145,
     "metadata": {},
     "output_type": "execute_result"
    }
   ],
   "source": [
    "weather_NewYork=pd.read_csv(\"Weather/NewYork_December2019_March_2020.csv\")\n",
    "weather_NewYork.head()"
   ]
  },
  {
   "cell_type": "markdown",
   "metadata": {},
   "source": [
    "The next step is to merge the information in all these 9 files in only one."
   ]
  },
  {
   "cell_type": "code",
   "execution_count": 146,
   "metadata": {},
   "outputs": [
    {
     "data": {
      "text/html": [
       "<div>\n",
       "<style scoped>\n",
       "    .dataframe tbody tr th:only-of-type {\n",
       "        vertical-align: middle;\n",
       "    }\n",
       "\n",
       "    .dataframe tbody tr th {\n",
       "        vertical-align: top;\n",
       "    }\n",
       "\n",
       "    .dataframe thead th {\n",
       "        text-align: right;\n",
       "    }\n",
       "</style>\n",
       "<table border=\"1\" class=\"dataframe\">\n",
       "  <thead>\n",
       "    <tr style=\"text-align: right;\">\n",
       "      <th></th>\n",
       "      <th>Day</th>\n",
       "      <th>Month</th>\n",
       "      <th>Year</th>\n",
       "      <th>Country</th>\n",
       "      <th>State</th>\n",
       "      <th>TempMax</th>\n",
       "      <th>TempAvg</th>\n",
       "      <th>TempMin</th>\n",
       "      <th>HumMax</th>\n",
       "      <th>HumAvg</th>\n",
       "      <th>HumMin</th>\n",
       "      <th>Wind_Speed_Max</th>\n",
       "      <th>Wind_Speed_Avg</th>\n",
       "      <th>Wind_Speed_Min</th>\n",
       "      <th>Pressure_Max</th>\n",
       "      <th>Pressure_Avg</th>\n",
       "      <th>Pressure_Min</th>\n",
       "      <th>Total_Precipitations</th>\n",
       "    </tr>\n",
       "  </thead>\n",
       "  <tbody>\n",
       "    <tr>\n",
       "      <th>0</th>\n",
       "      <td>1</td>\n",
       "      <td>December</td>\n",
       "      <td>2019</td>\n",
       "      <td>Austria</td>\n",
       "      <td>Vienna</td>\n",
       "      <td>39</td>\n",
       "      <td>33.7</td>\n",
       "      <td>27</td>\n",
       "      <td>93</td>\n",
       "      <td>80.8</td>\n",
       "      <td>65</td>\n",
       "      <td>22</td>\n",
       "      <td>12.9</td>\n",
       "      <td>3</td>\n",
       "      <td>29.6</td>\n",
       "      <td>29.5</td>\n",
       "      <td>29.4</td>\n",
       "      <td>0.0</td>\n",
       "    </tr>\n",
       "    <tr>\n",
       "      <th>1</th>\n",
       "      <td>2</td>\n",
       "      <td>December</td>\n",
       "      <td>2019</td>\n",
       "      <td>Austria</td>\n",
       "      <td>Vienna</td>\n",
       "      <td>39</td>\n",
       "      <td>35.8</td>\n",
       "      <td>32</td>\n",
       "      <td>100</td>\n",
       "      <td>81.5</td>\n",
       "      <td>61</td>\n",
       "      <td>20</td>\n",
       "      <td>11.8</td>\n",
       "      <td>2</td>\n",
       "      <td>29.6</td>\n",
       "      <td>29.5</td>\n",
       "      <td>29.4</td>\n",
       "      <td>0.0</td>\n",
       "    </tr>\n",
       "    <tr>\n",
       "      <th>2</th>\n",
       "      <td>3</td>\n",
       "      <td>December</td>\n",
       "      <td>2019</td>\n",
       "      <td>Austria</td>\n",
       "      <td>Vienna</td>\n",
       "      <td>41</td>\n",
       "      <td>36.0</td>\n",
       "      <td>27</td>\n",
       "      <td>93</td>\n",
       "      <td>70.4</td>\n",
       "      <td>53</td>\n",
       "      <td>17</td>\n",
       "      <td>10.3</td>\n",
       "      <td>1</td>\n",
       "      <td>29.7</td>\n",
       "      <td>29.7</td>\n",
       "      <td>29.6</td>\n",
       "      <td>0.0</td>\n",
       "    </tr>\n",
       "    <tr>\n",
       "      <th>3</th>\n",
       "      <td>4</td>\n",
       "      <td>December</td>\n",
       "      <td>2019</td>\n",
       "      <td>Austria</td>\n",
       "      <td>Vienna</td>\n",
       "      <td>37</td>\n",
       "      <td>29.7</td>\n",
       "      <td>25</td>\n",
       "      <td>93</td>\n",
       "      <td>85.6</td>\n",
       "      <td>65</td>\n",
       "      <td>24</td>\n",
       "      <td>13.3</td>\n",
       "      <td>3</td>\n",
       "      <td>29.7</td>\n",
       "      <td>29.7</td>\n",
       "      <td>29.6</td>\n",
       "      <td>0.0</td>\n",
       "    </tr>\n",
       "    <tr>\n",
       "      <th>4</th>\n",
       "      <td>5</td>\n",
       "      <td>December</td>\n",
       "      <td>2019</td>\n",
       "      <td>Austria</td>\n",
       "      <td>Vienna</td>\n",
       "      <td>32</td>\n",
       "      <td>30.0</td>\n",
       "      <td>28</td>\n",
       "      <td>93</td>\n",
       "      <td>83.9</td>\n",
       "      <td>75</td>\n",
       "      <td>28</td>\n",
       "      <td>17.3</td>\n",
       "      <td>8</td>\n",
       "      <td>29.7</td>\n",
       "      <td>29.6</td>\n",
       "      <td>29.6</td>\n",
       "      <td>0.0</td>\n",
       "    </tr>\n",
       "  </tbody>\n",
       "</table>\n",
       "</div>"
      ],
      "text/plain": [
       "   Day     Month  Year  Country   State  TempMax  TempAvg  TempMin  HumMax  \\\n",
       "0    1  December  2019  Austria  Vienna       39     33.7       27      93   \n",
       "1    2  December  2019  Austria  Vienna       39     35.8       32     100   \n",
       "2    3  December  2019  Austria  Vienna       41     36.0       27      93   \n",
       "3    4  December  2019  Austria  Vienna       37     29.7       25      93   \n",
       "4    5  December  2019  Austria  Vienna       32     30.0       28      93   \n",
       "\n",
       "   HumAvg  HumMin  Wind_Speed_Max  Wind_Speed_Avg  Wind_Speed_Min  \\\n",
       "0    80.8      65              22            12.9               3   \n",
       "1    81.5      61              20            11.8               2   \n",
       "2    70.4      53              17            10.3               1   \n",
       "3    85.6      65              24            13.3               3   \n",
       "4    83.9      75              28            17.3               8   \n",
       "\n",
       "   Pressure_Max  Pressure_Avg  Pressure_Min  Total_Precipitations  \n",
       "0          29.6          29.5          29.4                   0.0  \n",
       "1          29.6          29.5          29.4                   0.0  \n",
       "2          29.7          29.7          29.6                   0.0  \n",
       "3          29.7          29.7          29.6                   0.0  \n",
       "4          29.7          29.6          29.6                   0.0  "
      ]
     },
     "execution_count": 146,
     "metadata": {},
     "output_type": "execute_result"
    }
   ],
   "source": [
    "# Extract the directories\n",
    "directories=glob.glob(\"Weather/*.csv\")\n",
    "# Create an empty dataframe to store the information\n",
    "weather=pd.DataFrame()\n",
    "# Include the new data in \"weather\" for each csv file in the directory\n",
    "for file in directories:\n",
    "    this_data=pd.read_csv(file)\n",
    "    weather=pd.concat([weather,this_data],axis=0)\n",
    "weather.head()"
   ]
  },
  {
   "cell_type": "markdown",
   "metadata": {},
   "source": [
    "Above, you can see that the `months` appear as a `string`, let's transform this variable to `int`."
   ]
  },
  {
   "cell_type": "code",
   "execution_count": 147,
   "metadata": {},
   "outputs": [
    {
     "data": {
      "text/html": [
       "<div>\n",
       "<style scoped>\n",
       "    .dataframe tbody tr th:only-of-type {\n",
       "        vertical-align: middle;\n",
       "    }\n",
       "\n",
       "    .dataframe tbody tr th {\n",
       "        vertical-align: top;\n",
       "    }\n",
       "\n",
       "    .dataframe thead th {\n",
       "        text-align: right;\n",
       "    }\n",
       "</style>\n",
       "<table border=\"1\" class=\"dataframe\">\n",
       "  <thead>\n",
       "    <tr style=\"text-align: right;\">\n",
       "      <th></th>\n",
       "      <th>Day</th>\n",
       "      <th>Month</th>\n",
       "      <th>Year</th>\n",
       "      <th>Country</th>\n",
       "      <th>State</th>\n",
       "      <th>TempMax</th>\n",
       "      <th>TempAvg</th>\n",
       "      <th>TempMin</th>\n",
       "      <th>HumMax</th>\n",
       "      <th>HumAvg</th>\n",
       "      <th>HumMin</th>\n",
       "      <th>Wind_Speed_Max</th>\n",
       "      <th>Wind_Speed_Avg</th>\n",
       "      <th>Wind_Speed_Min</th>\n",
       "      <th>Pressure_Max</th>\n",
       "      <th>Pressure_Avg</th>\n",
       "      <th>Pressure_Min</th>\n",
       "      <th>Total_Precipitations</th>\n",
       "    </tr>\n",
       "  </thead>\n",
       "  <tbody>\n",
       "    <tr>\n",
       "      <th>0</th>\n",
       "      <td>1</td>\n",
       "      <td>12</td>\n",
       "      <td>2019</td>\n",
       "      <td>Austria</td>\n",
       "      <td>Vienna</td>\n",
       "      <td>39</td>\n",
       "      <td>33.7</td>\n",
       "      <td>27</td>\n",
       "      <td>93</td>\n",
       "      <td>80.8</td>\n",
       "      <td>65</td>\n",
       "      <td>22</td>\n",
       "      <td>12.9</td>\n",
       "      <td>3</td>\n",
       "      <td>29.6</td>\n",
       "      <td>29.5</td>\n",
       "      <td>29.4</td>\n",
       "      <td>0.0</td>\n",
       "    </tr>\n",
       "    <tr>\n",
       "      <th>1</th>\n",
       "      <td>2</td>\n",
       "      <td>12</td>\n",
       "      <td>2019</td>\n",
       "      <td>Austria</td>\n",
       "      <td>Vienna</td>\n",
       "      <td>39</td>\n",
       "      <td>35.8</td>\n",
       "      <td>32</td>\n",
       "      <td>100</td>\n",
       "      <td>81.5</td>\n",
       "      <td>61</td>\n",
       "      <td>20</td>\n",
       "      <td>11.8</td>\n",
       "      <td>2</td>\n",
       "      <td>29.6</td>\n",
       "      <td>29.5</td>\n",
       "      <td>29.4</td>\n",
       "      <td>0.0</td>\n",
       "    </tr>\n",
       "    <tr>\n",
       "      <th>2</th>\n",
       "      <td>3</td>\n",
       "      <td>12</td>\n",
       "      <td>2019</td>\n",
       "      <td>Austria</td>\n",
       "      <td>Vienna</td>\n",
       "      <td>41</td>\n",
       "      <td>36.0</td>\n",
       "      <td>27</td>\n",
       "      <td>93</td>\n",
       "      <td>70.4</td>\n",
       "      <td>53</td>\n",
       "      <td>17</td>\n",
       "      <td>10.3</td>\n",
       "      <td>1</td>\n",
       "      <td>29.7</td>\n",
       "      <td>29.7</td>\n",
       "      <td>29.6</td>\n",
       "      <td>0.0</td>\n",
       "    </tr>\n",
       "    <tr>\n",
       "      <th>3</th>\n",
       "      <td>4</td>\n",
       "      <td>12</td>\n",
       "      <td>2019</td>\n",
       "      <td>Austria</td>\n",
       "      <td>Vienna</td>\n",
       "      <td>37</td>\n",
       "      <td>29.7</td>\n",
       "      <td>25</td>\n",
       "      <td>93</td>\n",
       "      <td>85.6</td>\n",
       "      <td>65</td>\n",
       "      <td>24</td>\n",
       "      <td>13.3</td>\n",
       "      <td>3</td>\n",
       "      <td>29.7</td>\n",
       "      <td>29.7</td>\n",
       "      <td>29.6</td>\n",
       "      <td>0.0</td>\n",
       "    </tr>\n",
       "    <tr>\n",
       "      <th>4</th>\n",
       "      <td>5</td>\n",
       "      <td>12</td>\n",
       "      <td>2019</td>\n",
       "      <td>Austria</td>\n",
       "      <td>Vienna</td>\n",
       "      <td>32</td>\n",
       "      <td>30.0</td>\n",
       "      <td>28</td>\n",
       "      <td>93</td>\n",
       "      <td>83.9</td>\n",
       "      <td>75</td>\n",
       "      <td>28</td>\n",
       "      <td>17.3</td>\n",
       "      <td>8</td>\n",
       "      <td>29.7</td>\n",
       "      <td>29.6</td>\n",
       "      <td>29.6</td>\n",
       "      <td>0.0</td>\n",
       "    </tr>\n",
       "  </tbody>\n",
       "</table>\n",
       "</div>"
      ],
      "text/plain": [
       "   Day  Month  Year  Country   State  TempMax  TempAvg  TempMin  HumMax  \\\n",
       "0    1     12  2019  Austria  Vienna       39     33.7       27      93   \n",
       "1    2     12  2019  Austria  Vienna       39     35.8       32     100   \n",
       "2    3     12  2019  Austria  Vienna       41     36.0       27      93   \n",
       "3    4     12  2019  Austria  Vienna       37     29.7       25      93   \n",
       "4    5     12  2019  Austria  Vienna       32     30.0       28      93   \n",
       "\n",
       "   HumAvg  HumMin  Wind_Speed_Max  Wind_Speed_Avg  Wind_Speed_Min  \\\n",
       "0    80.8      65              22            12.9               3   \n",
       "1    81.5      61              20            11.8               2   \n",
       "2    70.4      53              17            10.3               1   \n",
       "3    85.6      65              24            13.3               3   \n",
       "4    83.9      75              28            17.3               8   \n",
       "\n",
       "   Pressure_Max  Pressure_Avg  Pressure_Min  Total_Precipitations  \n",
       "0          29.6          29.5          29.4                   0.0  \n",
       "1          29.6          29.5          29.4                   0.0  \n",
       "2          29.7          29.7          29.6                   0.0  \n",
       "3          29.7          29.7          29.6                   0.0  \n",
       "4          29.7          29.6          29.6                   0.0  "
      ]
     },
     "execution_count": 147,
     "metadata": {},
     "output_type": "execute_result"
    }
   ],
   "source": [
    "# Create a dictionary with the names of the months and the number that represent it.\n",
    "d = dict((v,k) for k,v in enumerate(calendar.month_name))\n",
    "# Replace the variable 'Month' using the dictionary\n",
    "weather['Month']=weather['Month'].map(d)\n",
    "weather.head()"
   ]
  },
  {
   "cell_type": "code",
   "execution_count": 148,
   "metadata": {
    "scrolled": true
   },
   "outputs": [
    {
     "data": {
      "text/html": [
       "<div>\n",
       "<style scoped>\n",
       "    .dataframe tbody tr th:only-of-type {\n",
       "        vertical-align: middle;\n",
       "    }\n",
       "\n",
       "    .dataframe tbody tr th {\n",
       "        vertical-align: top;\n",
       "    }\n",
       "\n",
       "    .dataframe thead th {\n",
       "        text-align: right;\n",
       "    }\n",
       "</style>\n",
       "<table border=\"1\" class=\"dataframe\">\n",
       "  <thead>\n",
       "    <tr style=\"text-align: right;\">\n",
       "      <th></th>\n",
       "      <th>Country</th>\n",
       "      <th>State</th>\n",
       "      <th>TempMax</th>\n",
       "      <th>TempAvg</th>\n",
       "      <th>TempMin</th>\n",
       "      <th>HumMax</th>\n",
       "      <th>HumAvg</th>\n",
       "      <th>HumMin</th>\n",
       "      <th>Wind_Speed_Max</th>\n",
       "      <th>Wind_Speed_Avg</th>\n",
       "      <th>Wind_Speed_Min</th>\n",
       "      <th>Pressure_Max</th>\n",
       "      <th>Pressure_Avg</th>\n",
       "      <th>Pressure_Min</th>\n",
       "      <th>Total_Precipitations</th>\n",
       "      <th>Infection Day</th>\n",
       "    </tr>\n",
       "  </thead>\n",
       "  <tbody>\n",
       "    <tr>\n",
       "      <th>0</th>\n",
       "      <td>Austria</td>\n",
       "      <td>Vienna</td>\n",
       "      <td>39</td>\n",
       "      <td>33.7</td>\n",
       "      <td>27</td>\n",
       "      <td>93</td>\n",
       "      <td>80.8</td>\n",
       "      <td>65</td>\n",
       "      <td>22</td>\n",
       "      <td>12.9</td>\n",
       "      <td>3</td>\n",
       "      <td>29.6</td>\n",
       "      <td>29.5</td>\n",
       "      <td>29.4</td>\n",
       "      <td>0.0</td>\n",
       "      <td>2019-12-01</td>\n",
       "    </tr>\n",
       "    <tr>\n",
       "      <th>1</th>\n",
       "      <td>Austria</td>\n",
       "      <td>Vienna</td>\n",
       "      <td>39</td>\n",
       "      <td>35.8</td>\n",
       "      <td>32</td>\n",
       "      <td>100</td>\n",
       "      <td>81.5</td>\n",
       "      <td>61</td>\n",
       "      <td>20</td>\n",
       "      <td>11.8</td>\n",
       "      <td>2</td>\n",
       "      <td>29.6</td>\n",
       "      <td>29.5</td>\n",
       "      <td>29.4</td>\n",
       "      <td>0.0</td>\n",
       "      <td>2019-12-02</td>\n",
       "    </tr>\n",
       "    <tr>\n",
       "      <th>2</th>\n",
       "      <td>Austria</td>\n",
       "      <td>Vienna</td>\n",
       "      <td>41</td>\n",
       "      <td>36.0</td>\n",
       "      <td>27</td>\n",
       "      <td>93</td>\n",
       "      <td>70.4</td>\n",
       "      <td>53</td>\n",
       "      <td>17</td>\n",
       "      <td>10.3</td>\n",
       "      <td>1</td>\n",
       "      <td>29.7</td>\n",
       "      <td>29.7</td>\n",
       "      <td>29.6</td>\n",
       "      <td>0.0</td>\n",
       "      <td>2019-12-03</td>\n",
       "    </tr>\n",
       "    <tr>\n",
       "      <th>3</th>\n",
       "      <td>Austria</td>\n",
       "      <td>Vienna</td>\n",
       "      <td>37</td>\n",
       "      <td>29.7</td>\n",
       "      <td>25</td>\n",
       "      <td>93</td>\n",
       "      <td>85.6</td>\n",
       "      <td>65</td>\n",
       "      <td>24</td>\n",
       "      <td>13.3</td>\n",
       "      <td>3</td>\n",
       "      <td>29.7</td>\n",
       "      <td>29.7</td>\n",
       "      <td>29.6</td>\n",
       "      <td>0.0</td>\n",
       "      <td>2019-12-04</td>\n",
       "    </tr>\n",
       "    <tr>\n",
       "      <th>4</th>\n",
       "      <td>Austria</td>\n",
       "      <td>Vienna</td>\n",
       "      <td>32</td>\n",
       "      <td>30.0</td>\n",
       "      <td>28</td>\n",
       "      <td>93</td>\n",
       "      <td>83.9</td>\n",
       "      <td>75</td>\n",
       "      <td>28</td>\n",
       "      <td>17.3</td>\n",
       "      <td>8</td>\n",
       "      <td>29.7</td>\n",
       "      <td>29.6</td>\n",
       "      <td>29.6</td>\n",
       "      <td>0.0</td>\n",
       "      <td>2019-12-05</td>\n",
       "    </tr>\n",
       "  </tbody>\n",
       "</table>\n",
       "</div>"
      ],
      "text/plain": [
       "   Country   State  TempMax  TempAvg  TempMin  HumMax  HumAvg  HumMin  \\\n",
       "0  Austria  Vienna       39     33.7       27      93    80.8      65   \n",
       "1  Austria  Vienna       39     35.8       32     100    81.5      61   \n",
       "2  Austria  Vienna       41     36.0       27      93    70.4      53   \n",
       "3  Austria  Vienna       37     29.7       25      93    85.6      65   \n",
       "4  Austria  Vienna       32     30.0       28      93    83.9      75   \n",
       "\n",
       "   Wind_Speed_Max  Wind_Speed_Avg  Wind_Speed_Min  Pressure_Max  Pressure_Avg  \\\n",
       "0              22            12.9               3          29.6          29.5   \n",
       "1              20            11.8               2          29.6          29.5   \n",
       "2              17            10.3               1          29.7          29.7   \n",
       "3              24            13.3               3          29.7          29.7   \n",
       "4              28            17.3               8          29.7          29.6   \n",
       "\n",
       "   Pressure_Min  Total_Precipitations Infection Day  \n",
       "0          29.4                   0.0    2019-12-01  \n",
       "1          29.4                   0.0    2019-12-02  \n",
       "2          29.6                   0.0    2019-12-03  \n",
       "3          29.6                   0.0    2019-12-04  \n",
       "4          29.6                   0.0    2019-12-05  "
      ]
     },
     "execution_count": 148,
     "metadata": {},
     "output_type": "execute_result"
    }
   ],
   "source": [
    "# Create a new variable called \"Infection Day\" (note that I name this variable as in the \n",
    "# covid data frame to make clear that I am going the merge this dataframes using this variable)\n",
    "weather['Infection Day']=pd.to_datetime(weather[['Year', 'Month', 'Day']]).dt.date\n",
    "# Drop the information relative to the Day, Month and Year\n",
    "weather.drop(columns=['Day','Month','Year'],inplace=True)\n",
    "# Convert the 'Country' and 'State' features from objects to category variables\n",
    "weather[['Country','State']]=weather[['Country','State']].astype('category')\n",
    "weather.head()"
   ]
  },
  {
   "cell_type": "code",
   "execution_count": 149,
   "metadata": {},
   "outputs": [
    {
     "name": "stdout",
     "output_type": "stream",
     "text": [
      "=> The data frame with the weather information is composed by 1218 rows and 16 columns.\n",
      "=> The countries included in this dataframe are:\n",
      " [Austria, USA, United Arab Emirates, Qatar, Senegal, Sweden, Norway, Spain, Italy, Canada]\n",
      "Categories (10, object): [Austria, USA, United Arab Emirates, Qatar, ..., Norway, Spain, Italy, Canada]\n",
      "=> The cities included in this dataframe are:\n",
      " [Vienna, New York, Dubai, Doha, Dakar, Stockholm, Oslo, Madrid, Lombardia, Quebec]\n",
      "Categories (10, object): [Vienna, New York, Dubai, Doha, ..., Oslo, Madrid, Lombardia, Quebec]\n",
      "=> The total number of Missing Values are: 0\n"
     ]
    }
   ],
   "source": [
    "# Print some basic exploration statistics\n",
    "print('=> The data frame with the weather information is composed by {} rows and {} columns.'.format(weather.shape[0],\n",
    "                                                                                                   weather.shape[1]))\n",
    "print('=> The countries included in this dataframe are:\\n {}'.format(weather['Country'].unique()))\n",
    "print('=> The cities included in this dataframe are:\\n {}'.format(weather['State'].unique()))\n",
    "print('=> The total number of Missing Values are: {}'.format(weather.isna().sum().sum()))"
   ]
  },
  {
   "cell_type": "markdown",
   "metadata": {},
   "source": [
    "> So far, the weather information looks nice, so, we can move forward and try to relate the covid 2019 dataset with the information about the weather."
   ]
  },
  {
   "cell_type": "markdown",
   "metadata": {},
   "source": [
    "### Merging the weather and the COVID-19 datasets\n",
    "<a id='merging_weather_COVID_datasets'></a>\n",
    "At this point, it's important to structure the dataset based on some previous assumptions:\n",
    "   1. We only are considering 9 cities to study the relationship between the spread of the virus with the weather. \n",
    "   2. If a person \"X\" was reported as infected at the day \"D\", then the exposure occurred [between 2-14 days before](https://www.cdc.gov/coronavirus/2019-ncov/symptoms-testing/symptoms.html). I am going to assume here that the mean of persons with the disease has the first symptoms on day 8 (the mean between 2 and 14) after exposure. This is, the weather that matter in the infection of \"X\" is the weather in the day (\"D\" - 8).\n",
    "       > I am assuming that the weather doesn't matter once the virus gets into a person (which seems logical)."
   ]
  },
  {
   "cell_type": "markdown",
   "metadata": {},
   "source": [
    "In accordance with the first point above, let's extract from our general data the information about these 9 `Province/State`. Here it's important to remember that our dataset has the information of some countries segmented by cities or regions (e.g. US, Italy), but others (like Spain) only have a country-level segmentation, so, the first step is to complete the missing information in the `Province/State` variable. "
   ]
  },
  {
   "cell_type": "code",
   "execution_count": 150,
   "metadata": {},
   "outputs": [
    {
     "name": "stdout",
     "output_type": "stream",
     "text": [
      "The number of missing values in the Province/State feature is: 0 ==> Great!!\n"
     ]
    }
   ],
   "source": [
    "# Filter only the observations of the selected countries\n",
    "selected_countries=['US','Italy','Austria', 'Canada', 'Sweden', 'Qatar', \n",
    "                    'United Arab Emirates', 'Senegal', 'Spain']\n",
    "covid_2019_countries=covid_2019.loc[covid_2019['Country/Region'].isin(selected_countries),:].copy()\n",
    "\n",
    "# Include the cities in the selected countries without a city level information\n",
    "countries_without_cities={'Austria': 'Vienna', 'Sweden': 'Stockholm',\n",
    "                          'Qatar': 'Doha', 'United Arab Emirates': 'Dubai', \n",
    "                          'Senegal': 'Dakar', 'Spain':'Madrid'}\n",
    "covid_2019_countries.loc[:,'Province/State'] = covid_2019_countries.apply(\n",
    "    lambda row: countries_without_cities[row['Country/Region']] if \n",
    "    row['Country/Region'] in countries_without_cities.keys() else row['Province/State'],\n",
    "    axis=1\n",
    ")\n",
    "# Check that we don't have missing information in the \"Province/State\" feature\n",
    "print('The number of missing values in the Province/State feature is: {} ==> Great!!'.format(covid_2019_countries['Province/State'].isna().sum()))"
   ]
  },
  {
   "cell_type": "markdown",
   "metadata": {},
   "source": [
    "Now, it's time to select only the information relative to the 9 `Province/State` that we are going to include in this project."
   ]
  },
  {
   "cell_type": "code",
   "execution_count": 151,
   "metadata": {},
   "outputs": [
    {
     "name": "stdout",
     "output_type": "stream",
     "text": [
      "=> The cities available in the reduced dataframe are:\n",
      " ['Dubai' 'Stockholm' 'Madrid' 'Vienna' 'Doha' 'Dakar' 'Quebec' 'New York'\n",
      " 'Lombardia'] ==> Nice, everything looks fine\n",
      "=> The countries available in the reduced dataframe are:\n",
      " ['United Arab Emirates', 'Sweden', 'Spain', 'Austria', 'Qatar', 'Senegal', 'Canada', 'US', 'Italy'] ==> Nice!\n",
      "=> So far, the information about the cities of interests is contained in 391 rows and 8 columns.\n",
      "=> The new dataset has 0 missing values\n"
     ]
    },
    {
     "data": {
      "text/html": [
       "<div>\n",
       "<style scoped>\n",
       "    .dataframe tbody tr th:only-of-type {\n",
       "        vertical-align: middle;\n",
       "    }\n",
       "\n",
       "    .dataframe tbody tr th {\n",
       "        vertical-align: top;\n",
       "    }\n",
       "\n",
       "    .dataframe thead th {\n",
       "        text-align: right;\n",
       "    }\n",
       "</style>\n",
       "<table border=\"1\" class=\"dataframe\">\n",
       "  <thead>\n",
       "    <tr style=\"text-align: right;\">\n",
       "      <th></th>\n",
       "      <th>SNo</th>\n",
       "      <th>ObservationDate</th>\n",
       "      <th>Province/State</th>\n",
       "      <th>Country/Region</th>\n",
       "      <th>Last Update</th>\n",
       "      <th>Confirmed</th>\n",
       "      <th>Deaths</th>\n",
       "      <th>Recovered</th>\n",
       "    </tr>\n",
       "  </thead>\n",
       "  <tbody>\n",
       "    <tr>\n",
       "      <th>372</th>\n",
       "      <td>373</td>\n",
       "      <td>2020-01-29</td>\n",
       "      <td>Dubai</td>\n",
       "      <td>United Arab Emirates</td>\n",
       "      <td>2020-01-29 19:30:00</td>\n",
       "      <td>4</td>\n",
       "      <td>0</td>\n",
       "      <td>0</td>\n",
       "    </tr>\n",
       "    <tr>\n",
       "      <th>428</th>\n",
       "      <td>429</td>\n",
       "      <td>2020-01-30</td>\n",
       "      <td>Dubai</td>\n",
       "      <td>United Arab Emirates</td>\n",
       "      <td>2020-01-30 16:00:00</td>\n",
       "      <td>4</td>\n",
       "      <td>0</td>\n",
       "      <td>0</td>\n",
       "    </tr>\n",
       "    <tr>\n",
       "      <th>473</th>\n",
       "      <td>474</td>\n",
       "      <td>2020-01-31</td>\n",
       "      <td>Dubai</td>\n",
       "      <td>United Arab Emirates</td>\n",
       "      <td>2020-01-31 23:59:00</td>\n",
       "      <td>4</td>\n",
       "      <td>0</td>\n",
       "      <td>0</td>\n",
       "    </tr>\n",
       "    <tr>\n",
       "      <th>492</th>\n",
       "      <td>493</td>\n",
       "      <td>2020-01-31</td>\n",
       "      <td>Stockholm</td>\n",
       "      <td>Sweden</td>\n",
       "      <td>2020-01-31 23:59:00</td>\n",
       "      <td>1</td>\n",
       "      <td>0</td>\n",
       "      <td>0</td>\n",
       "    </tr>\n",
       "    <tr>\n",
       "      <th>536</th>\n",
       "      <td>537</td>\n",
       "      <td>2020-02-01</td>\n",
       "      <td>Dubai</td>\n",
       "      <td>United Arab Emirates</td>\n",
       "      <td>2020-01-31 08:15:00</td>\n",
       "      <td>4</td>\n",
       "      <td>0</td>\n",
       "      <td>0</td>\n",
       "    </tr>\n",
       "  </tbody>\n",
       "</table>\n",
       "</div>"
      ],
      "text/plain": [
       "     SNo ObservationDate Province/State        Country/Region  \\\n",
       "372  373      2020-01-29          Dubai  United Arab Emirates   \n",
       "428  429      2020-01-30          Dubai  United Arab Emirates   \n",
       "473  474      2020-01-31          Dubai  United Arab Emirates   \n",
       "492  493      2020-01-31      Stockholm                Sweden   \n",
       "536  537      2020-02-01          Dubai  United Arab Emirates   \n",
       "\n",
       "             Last Update  Confirmed  Deaths  Recovered  \n",
       "372  2020-01-29 19:30:00          4       0          0  \n",
       "428  2020-01-30 16:00:00          4       0          0  \n",
       "473  2020-01-31 23:59:00          4       0          0  \n",
       "492  2020-01-31 23:59:00          1       0          0  \n",
       "536  2020-01-31 08:15:00          4       0          0  "
      ]
     },
     "execution_count": 151,
     "metadata": {},
     "output_type": "execute_result"
    }
   ],
   "source": [
    "# Select only the information relative to the selected province/state\n",
    "cities=['New York','Madrid','Quebec','Lombardia','Vienna','Stockholm',\n",
    "       'Doha','Dubai','Dakar']\n",
    "covid_final=covid_2019_countries.loc[covid_2019_countries['Province/State'].isin(cities),:].copy()\n",
    "print('=> The cities available in the reduced dataframe are:\\n {} ==> Nice, everything looks fine'.format(covid_final['Province/State'].unique()))\n",
    "print('=> The countries available in the reduced dataframe are:\\n {} ==> Nice!'.format(list(covid_final['Country/Region'].unique())))\n",
    "print('=> So far, the information about the cities of interests is contained in {} rows and {} columns.'.format(covid_final.shape[0],covid_final.shape[1]))\n",
    "print('=> The new dataset has {} missing values'.format(covid_final.isna().sum().sum()))\n",
    "covid_final.head()"
   ]
  },
  {
   "cell_type": "markdown",
   "metadata": {},
   "source": [
    "The first task described at the [beginning of this section](#merging_weather_COVID_datasets) is done. Now we need to move forward to the second point. Remember, for this, we need to compute the number of new cases by day and city (now our dataset contains the accumulative number of cases), and next we need to move back the dates in 8 days (see [above](#merging_weather_COVID_datasets) for more details).\n",
    "\n",
    "Also, I am going to create a new variable (`Days Since First Case`) that represents the number of days since the first infection case was reported in a city. Note that this variable could give a more direct information about the number of new cases per day after the first infection."
   ]
  },
  {
   "cell_type": "code",
   "execution_count": 156,
   "metadata": {},
   "outputs": [
    {
     "data": {
      "text/html": [
       "<div>\n",
       "<style scoped>\n",
       "    .dataframe tbody tr th:only-of-type {\n",
       "        vertical-align: middle;\n",
       "    }\n",
       "\n",
       "    .dataframe tbody tr th {\n",
       "        vertical-align: top;\n",
       "    }\n",
       "\n",
       "    .dataframe thead th {\n",
       "        text-align: right;\n",
       "    }\n",
       "</style>\n",
       "<table border=\"1\" class=\"dataframe\">\n",
       "  <thead>\n",
       "    <tr style=\"text-align: right;\">\n",
       "      <th></th>\n",
       "      <th>SNo</th>\n",
       "      <th>ObservationDate</th>\n",
       "      <th>Province/State</th>\n",
       "      <th>Country/Region</th>\n",
       "      <th>Last Update</th>\n",
       "      <th>Confirmed</th>\n",
       "      <th>Deaths</th>\n",
       "      <th>Recovered</th>\n",
       "      <th>Days Since First Case</th>\n",
       "    </tr>\n",
       "  </thead>\n",
       "  <tbody>\n",
       "    <tr>\n",
       "      <th>4549</th>\n",
       "      <td>4550</td>\n",
       "      <td>2020-03-10</td>\n",
       "      <td>New York</td>\n",
       "      <td>US</td>\n",
       "      <td>2020-03-10 17:13:27</td>\n",
       "      <td>173</td>\n",
       "      <td>0</td>\n",
       "      <td>0</td>\n",
       "      <td>0</td>\n",
       "    </tr>\n",
       "    <tr>\n",
       "      <th>4755</th>\n",
       "      <td>4756</td>\n",
       "      <td>2020-03-11</td>\n",
       "      <td>New York</td>\n",
       "      <td>US</td>\n",
       "      <td>2020-03-11 22:53:03</td>\n",
       "      <td>47</td>\n",
       "      <td>0</td>\n",
       "      <td>0</td>\n",
       "      <td>1</td>\n",
       "    </tr>\n",
       "    <tr>\n",
       "      <th>4964</th>\n",
       "      <td>4965</td>\n",
       "      <td>2020-03-12</td>\n",
       "      <td>New York</td>\n",
       "      <td>US</td>\n",
       "      <td>2020-03-12 21:39:10</td>\n",
       "      <td>108</td>\n",
       "      <td>0</td>\n",
       "      <td>0</td>\n",
       "      <td>2</td>\n",
       "    </tr>\n",
       "    <tr>\n",
       "      <th>5356</th>\n",
       "      <td>5357</td>\n",
       "      <td>2020-03-13</td>\n",
       "      <td>New York</td>\n",
       "      <td>US</td>\n",
       "      <td>2020-03-11 20:00:00</td>\n",
       "      <td>93</td>\n",
       "      <td>0</td>\n",
       "      <td>0</td>\n",
       "      <td>3</td>\n",
       "    </tr>\n",
       "    <tr>\n",
       "      <th>5411</th>\n",
       "      <td>5412</td>\n",
       "      <td>2020-03-14</td>\n",
       "      <td>New York</td>\n",
       "      <td>US</td>\n",
       "      <td>2020-03-14 22:13:32</td>\n",
       "      <td>104</td>\n",
       "      <td>2</td>\n",
       "      <td>0</td>\n",
       "      <td>4</td>\n",
       "    </tr>\n",
       "  </tbody>\n",
       "</table>\n",
       "</div>"
      ],
      "text/plain": [
       "       SNo ObservationDate Province/State Country/Region          Last Update  \\\n",
       "4549  4550      2020-03-10       New York             US  2020-03-10 17:13:27   \n",
       "4755  4756      2020-03-11       New York             US  2020-03-11 22:53:03   \n",
       "4964  4965      2020-03-12       New York             US  2020-03-12 21:39:10   \n",
       "5356  5357      2020-03-13       New York             US  2020-03-11 20:00:00   \n",
       "5411  5412      2020-03-14       New York             US  2020-03-14 22:13:32   \n",
       "\n",
       "      Confirmed  Deaths  Recovered  Days Since First Case  \n",
       "4549        173       0          0                      0  \n",
       "4755         47       0          0                      1  \n",
       "4964        108       0          0                      2  \n",
       "5356         93       0          0                      3  \n",
       "5411        104       2          0                      4  "
      ]
     },
     "execution_count": 156,
     "metadata": {},
     "output_type": "execute_result"
    }
   ],
   "source": [
    "# The number of new cases in the a day \"d\" (N_d) can be computed as [N_d - N_(d-1)]. \n",
    "# Remember that we need to do this by city.\n",
    "# Iterate ove the cities and compute the number of new cases per day\n",
    "covid_new_cases=pd.DataFrame()\n",
    "for city in cities:\n",
    "    # Subset the dataset to considder only one city\n",
    "    temp=covid_final.loc[covid_final['Province/State']==city,:].sort_values(by='ObservationDate')\n",
    "    # Transform the variable \"Confirmed\" to include only the information \n",
    "    # about the new infections by day (not the cumulative)\n",
    "    temp.loc[temp['ObservationDate']>min(temp['ObservationDate']),\n",
    "             'Confirmed'] = temp['Confirmed'][1:].values - temp['Confirmed'][:-1].values\n",
    "    \n",
    "    # Create a new variable \"Days Since First Case\" where 0 is the day when \n",
    "    # the first infection was reported and N is the last day where was \n",
    "    # recorded information about new cases in \"city\"\n",
    "    diff_dates=temp.loc[:,'ObservationDate'].values - temp.iloc[0,1] # Difference between the first and k dates\n",
    "    temp['Days Since First Case'] =[tt.days for tt in diff_dates] # Include only the information about the days\n",
    "    \n",
    "    # Concatenate the result with the \"covid_new_cases\" dataframe\n",
    "    covid_new_cases=pd.concat([covid_new_cases,temp])\n",
    "# Print a piece of \"covid_new_cases\" dataframe\n",
    "covid_new_cases.head()"
   ]
  },
  {
   "cell_type": "markdown",
   "metadata": {},
   "source": [
    "Above, we can see that the number of confirmed cases is no longer a cumulative variable. But given that this variable is very important in this project, let's be more cautious and confirm that everything looks as we want. For this, let's compute the sum of all the new cases by city and compare the result with the number of cases of the last day in the original data frame."
   ]
  },
  {
   "cell_type": "code",
   "execution_count": 157,
   "metadata": {},
   "outputs": [
    {
     "data": {
      "text/html": [
       "<div>\n",
       "<style scoped>\n",
       "    .dataframe tbody tr th:only-of-type {\n",
       "        vertical-align: middle;\n",
       "    }\n",
       "\n",
       "    .dataframe tbody tr th {\n",
       "        vertical-align: top;\n",
       "    }\n",
       "\n",
       "    .dataframe thead th {\n",
       "        text-align: right;\n",
       "    }\n",
       "</style>\n",
       "<table border=\"1\" class=\"dataframe\">\n",
       "  <thead>\n",
       "    <tr style=\"text-align: right;\">\n",
       "      <th></th>\n",
       "      <th>Province/State</th>\n",
       "      <th>Confirmed_cumulative (Last Day)</th>\n",
       "      <th>Confirmed_sum (new cases per day)</th>\n",
       "    </tr>\n",
       "  </thead>\n",
       "  <tbody>\n",
       "    <tr>\n",
       "      <th>0</th>\n",
       "      <td>Dakar</td>\n",
       "      <td>207</td>\n",
       "      <td>207</td>\n",
       "    </tr>\n",
       "    <tr>\n",
       "      <th>1</th>\n",
       "      <td>Doha</td>\n",
       "      <td>1075</td>\n",
       "      <td>1075</td>\n",
       "    </tr>\n",
       "    <tr>\n",
       "      <th>2</th>\n",
       "      <td>Dubai</td>\n",
       "      <td>1264</td>\n",
       "      <td>1264</td>\n",
       "    </tr>\n",
       "    <tr>\n",
       "      <th>3</th>\n",
       "      <td>Lombardia</td>\n",
       "      <td>47520</td>\n",
       "      <td>47520</td>\n",
       "    </tr>\n",
       "    <tr>\n",
       "      <th>4</th>\n",
       "      <td>Madrid</td>\n",
       "      <td>119199</td>\n",
       "      <td>119199</td>\n",
       "    </tr>\n",
       "    <tr>\n",
       "      <th>5</th>\n",
       "      <td>New York</td>\n",
       "      <td>102987</td>\n",
       "      <td>102987</td>\n",
       "    </tr>\n",
       "    <tr>\n",
       "      <th>6</th>\n",
       "      <td>Quebec</td>\n",
       "      <td>6101</td>\n",
       "      <td>6101</td>\n",
       "    </tr>\n",
       "    <tr>\n",
       "      <th>7</th>\n",
       "      <td>Stockholm</td>\n",
       "      <td>6131</td>\n",
       "      <td>6131</td>\n",
       "    </tr>\n",
       "    <tr>\n",
       "      <th>8</th>\n",
       "      <td>Vienna</td>\n",
       "      <td>11524</td>\n",
       "      <td>11524</td>\n",
       "    </tr>\n",
       "  </tbody>\n",
       "</table>\n",
       "</div>"
      ],
      "text/plain": [
       "  Province/State  Confirmed_cumulative (Last Day)  \\\n",
       "0          Dakar                              207   \n",
       "1           Doha                             1075   \n",
       "2          Dubai                             1264   \n",
       "3      Lombardia                            47520   \n",
       "4         Madrid                           119199   \n",
       "5       New York                           102987   \n",
       "6         Quebec                             6101   \n",
       "7      Stockholm                             6131   \n",
       "8         Vienna                            11524   \n",
       "\n",
       "   Confirmed_sum (new cases per day)  \n",
       "0                                207  \n",
       "1                               1075  \n",
       "2                               1264  \n",
       "3                              47520  \n",
       "4                             119199  \n",
       "5                             102987  \n",
       "6                               6101  \n",
       "7                               6131  \n",
       "8                              11524  "
      ]
     },
     "execution_count": 157,
     "metadata": {},
     "output_type": "execute_result"
    }
   ],
   "source": [
    "# Resume in test1 the sum of the new cases by cities\n",
    "test1=covid_new_cases.pivot_table(index=['Province/State'],values='Confirmed',aggfunc='sum')\n",
    "# Extract in test2 the number of cases the last day\n",
    "test2=covid_final.loc[covid_final['ObservationDate']==max(covid_final['ObservationDate']),['Province/State','Confirmed']]\n",
    "# Merge and show this information\n",
    "pd.merge(test1,test2,on='Province/State',suffixes=('_cumulative (Last Day)', '_sum (new cases per day)'))"
   ]
  },
  {
   "cell_type": "markdown",
   "metadata": {},
   "source": [
    "As we can see in the above table, everything looks well and only remain to move the dates 8 days back in the calendar as an approximation of when the infection occurred. For this, I am going to include a new variable called `Infection Day`."
   ]
  },
  {
   "cell_type": "code",
   "execution_count": 158,
   "metadata": {},
   "outputs": [
    {
     "data": {
      "text/html": [
       "<div>\n",
       "<style scoped>\n",
       "    .dataframe tbody tr th:only-of-type {\n",
       "        vertical-align: middle;\n",
       "    }\n",
       "\n",
       "    .dataframe tbody tr th {\n",
       "        vertical-align: top;\n",
       "    }\n",
       "\n",
       "    .dataframe thead th {\n",
       "        text-align: right;\n",
       "    }\n",
       "</style>\n",
       "<table border=\"1\" class=\"dataframe\">\n",
       "  <thead>\n",
       "    <tr style=\"text-align: right;\">\n",
       "      <th></th>\n",
       "      <th>SNo</th>\n",
       "      <th>ObservationDate</th>\n",
       "      <th>Province/State</th>\n",
       "      <th>Country/Region</th>\n",
       "      <th>Last Update</th>\n",
       "      <th>Confirmed</th>\n",
       "      <th>Deaths</th>\n",
       "      <th>Recovered</th>\n",
       "      <th>Days Since First Case</th>\n",
       "      <th>Infection Day</th>\n",
       "    </tr>\n",
       "  </thead>\n",
       "  <tbody>\n",
       "    <tr>\n",
       "      <th>4549</th>\n",
       "      <td>4550</td>\n",
       "      <td>2020-03-10</td>\n",
       "      <td>New York</td>\n",
       "      <td>US</td>\n",
       "      <td>2020-03-10 17:13:27</td>\n",
       "      <td>173</td>\n",
       "      <td>0</td>\n",
       "      <td>0</td>\n",
       "      <td>0</td>\n",
       "      <td>2020-03-02</td>\n",
       "    </tr>\n",
       "    <tr>\n",
       "      <th>4755</th>\n",
       "      <td>4756</td>\n",
       "      <td>2020-03-11</td>\n",
       "      <td>New York</td>\n",
       "      <td>US</td>\n",
       "      <td>2020-03-11 22:53:03</td>\n",
       "      <td>47</td>\n",
       "      <td>0</td>\n",
       "      <td>0</td>\n",
       "      <td>1</td>\n",
       "      <td>2020-03-03</td>\n",
       "    </tr>\n",
       "    <tr>\n",
       "      <th>4964</th>\n",
       "      <td>4965</td>\n",
       "      <td>2020-03-12</td>\n",
       "      <td>New York</td>\n",
       "      <td>US</td>\n",
       "      <td>2020-03-12 21:39:10</td>\n",
       "      <td>108</td>\n",
       "      <td>0</td>\n",
       "      <td>0</td>\n",
       "      <td>2</td>\n",
       "      <td>2020-03-04</td>\n",
       "    </tr>\n",
       "    <tr>\n",
       "      <th>5356</th>\n",
       "      <td>5357</td>\n",
       "      <td>2020-03-13</td>\n",
       "      <td>New York</td>\n",
       "      <td>US</td>\n",
       "      <td>2020-03-11 20:00:00</td>\n",
       "      <td>93</td>\n",
       "      <td>0</td>\n",
       "      <td>0</td>\n",
       "      <td>3</td>\n",
       "      <td>2020-03-05</td>\n",
       "    </tr>\n",
       "    <tr>\n",
       "      <th>5411</th>\n",
       "      <td>5412</td>\n",
       "      <td>2020-03-14</td>\n",
       "      <td>New York</td>\n",
       "      <td>US</td>\n",
       "      <td>2020-03-14 22:13:32</td>\n",
       "      <td>104</td>\n",
       "      <td>2</td>\n",
       "      <td>0</td>\n",
       "      <td>4</td>\n",
       "      <td>2020-03-06</td>\n",
       "    </tr>\n",
       "  </tbody>\n",
       "</table>\n",
       "</div>"
      ],
      "text/plain": [
       "       SNo ObservationDate Province/State Country/Region          Last Update  \\\n",
       "4549  4550      2020-03-10       New York             US  2020-03-10 17:13:27   \n",
       "4755  4756      2020-03-11       New York             US  2020-03-11 22:53:03   \n",
       "4964  4965      2020-03-12       New York             US  2020-03-12 21:39:10   \n",
       "5356  5357      2020-03-13       New York             US  2020-03-11 20:00:00   \n",
       "5411  5412      2020-03-14       New York             US  2020-03-14 22:13:32   \n",
       "\n",
       "      Confirmed  Deaths  Recovered  Days Since First Case Infection Day  \n",
       "4549        173       0          0                      0    2020-03-02  \n",
       "4755         47       0          0                      1    2020-03-03  \n",
       "4964        108       0          0                      2    2020-03-04  \n",
       "5356         93       0          0                      3    2020-03-05  \n",
       "5411        104       2          0                      4    2020-03-06  "
      ]
     },
     "execution_count": 158,
     "metadata": {},
     "output_type": "execute_result"
    }
   ],
   "source": [
    "# Estimate the infection day\n",
    "covid_new_cases['Infection Day']=covid_new_cases['ObservationDate'] -  pd.to_timedelta(8,'d')\n",
    "# Shows the new results\n",
    "covid_new_cases.head()"
   ]
  },
  {
   "cell_type": "markdown",
   "metadata": {},
   "source": [
    "At this moment, we covered the two points described at the beginning of [this section](#merging_weather_COVID_datasets) and only remain to merge the information in the coronavirus dataset (\"covid_new_cases\") with the weather dataset \"weather\". Note that we need to do a left join (complete the  information in the \"covid_new_cases\" dataset with the weather)."
   ]
  },
  {
   "cell_type": "code",
   "execution_count": 159,
   "metadata": {},
   "outputs": [
    {
     "data": {
      "text/html": [
       "<div>\n",
       "<style scoped>\n",
       "    .dataframe tbody tr th:only-of-type {\n",
       "        vertical-align: middle;\n",
       "    }\n",
       "\n",
       "    .dataframe tbody tr th {\n",
       "        vertical-align: top;\n",
       "    }\n",
       "\n",
       "    .dataframe thead th {\n",
       "        text-align: right;\n",
       "    }\n",
       "</style>\n",
       "<table border=\"1\" class=\"dataframe\">\n",
       "  <thead>\n",
       "    <tr style=\"text-align: right;\">\n",
       "      <th></th>\n",
       "      <th>ObservationDate</th>\n",
       "      <th>Province/State</th>\n",
       "      <th>Country/Region</th>\n",
       "      <th>Confirmed</th>\n",
       "      <th>Deaths</th>\n",
       "      <th>Recovered</th>\n",
       "      <th>Days Since First Case</th>\n",
       "      <th>Infection Day</th>\n",
       "      <th>TempMax</th>\n",
       "      <th>TempAvg</th>\n",
       "      <th>...</th>\n",
       "      <th>HumMax</th>\n",
       "      <th>HumAvg</th>\n",
       "      <th>HumMin</th>\n",
       "      <th>Wind_Speed_Max</th>\n",
       "      <th>Wind_Speed_Avg</th>\n",
       "      <th>Wind_Speed_Min</th>\n",
       "      <th>Pressure_Max</th>\n",
       "      <th>Pressure_Avg</th>\n",
       "      <th>Pressure_Min</th>\n",
       "      <th>Total_Precipitations</th>\n",
       "    </tr>\n",
       "  </thead>\n",
       "  <tbody>\n",
       "    <tr>\n",
       "      <th>0</th>\n",
       "      <td>2020-03-10</td>\n",
       "      <td>New York</td>\n",
       "      <td>US</td>\n",
       "      <td>173</td>\n",
       "      <td>0</td>\n",
       "      <td>0</td>\n",
       "      <td>0</td>\n",
       "      <td>2020-03-02</td>\n",
       "      <td>56</td>\n",
       "      <td>48.2</td>\n",
       "      <td>...</td>\n",
       "      <td>73</td>\n",
       "      <td>51.1</td>\n",
       "      <td>35</td>\n",
       "      <td>16</td>\n",
       "      <td>10.3</td>\n",
       "      <td>5</td>\n",
       "      <td>30.1</td>\n",
       "      <td>29.9</td>\n",
       "      <td>29.8</td>\n",
       "      <td>0.00</td>\n",
       "    </tr>\n",
       "    <tr>\n",
       "      <th>1</th>\n",
       "      <td>2020-03-11</td>\n",
       "      <td>New York</td>\n",
       "      <td>US</td>\n",
       "      <td>47</td>\n",
       "      <td>0</td>\n",
       "      <td>0</td>\n",
       "      <td>1</td>\n",
       "      <td>2020-03-03</td>\n",
       "      <td>58</td>\n",
       "      <td>52.4</td>\n",
       "      <td>...</td>\n",
       "      <td>89</td>\n",
       "      <td>75.5</td>\n",
       "      <td>53</td>\n",
       "      <td>26</td>\n",
       "      <td>10.1</td>\n",
       "      <td>0</td>\n",
       "      <td>29.8</td>\n",
       "      <td>29.6</td>\n",
       "      <td>29.4</td>\n",
       "      <td>0.01</td>\n",
       "    </tr>\n",
       "    <tr>\n",
       "      <th>2</th>\n",
       "      <td>2020-03-12</td>\n",
       "      <td>New York</td>\n",
       "      <td>US</td>\n",
       "      <td>108</td>\n",
       "      <td>0</td>\n",
       "      <td>0</td>\n",
       "      <td>2</td>\n",
       "      <td>2020-03-04</td>\n",
       "      <td>57</td>\n",
       "      <td>50.5</td>\n",
       "      <td>...</td>\n",
       "      <td>66</td>\n",
       "      <td>44.8</td>\n",
       "      <td>24</td>\n",
       "      <td>28</td>\n",
       "      <td>18.2</td>\n",
       "      <td>12</td>\n",
       "      <td>29.9</td>\n",
       "      <td>29.7</td>\n",
       "      <td>29.5</td>\n",
       "      <td>0.28</td>\n",
       "    </tr>\n",
       "    <tr>\n",
       "      <th>3</th>\n",
       "      <td>2020-03-13</td>\n",
       "      <td>New York</td>\n",
       "      <td>US</td>\n",
       "      <td>93</td>\n",
       "      <td>0</td>\n",
       "      <td>0</td>\n",
       "      <td>3</td>\n",
       "      <td>2020-03-05</td>\n",
       "      <td>52</td>\n",
       "      <td>44.8</td>\n",
       "      <td>...</td>\n",
       "      <td>71</td>\n",
       "      <td>48.5</td>\n",
       "      <td>27</td>\n",
       "      <td>24</td>\n",
       "      <td>12.9</td>\n",
       "      <td>5</td>\n",
       "      <td>30.1</td>\n",
       "      <td>30.1</td>\n",
       "      <td>29.9</td>\n",
       "      <td>0.00</td>\n",
       "    </tr>\n",
       "    <tr>\n",
       "      <th>4</th>\n",
       "      <td>2020-03-14</td>\n",
       "      <td>New York</td>\n",
       "      <td>US</td>\n",
       "      <td>104</td>\n",
       "      <td>2</td>\n",
       "      <td>0</td>\n",
       "      <td>4</td>\n",
       "      <td>2020-03-06</td>\n",
       "      <td>45</td>\n",
       "      <td>41.6</td>\n",
       "      <td>...</td>\n",
       "      <td>89</td>\n",
       "      <td>74.7</td>\n",
       "      <td>65</td>\n",
       "      <td>20</td>\n",
       "      <td>13.0</td>\n",
       "      <td>5</td>\n",
       "      <td>30.1</td>\n",
       "      <td>29.9</td>\n",
       "      <td>29.8</td>\n",
       "      <td>0.00</td>\n",
       "    </tr>\n",
       "  </tbody>\n",
       "</table>\n",
       "<p>5 rows × 21 columns</p>\n",
       "</div>"
      ],
      "text/plain": [
       "  ObservationDate Province/State Country/Region  Confirmed  Deaths  Recovered  \\\n",
       "0      2020-03-10       New York             US        173       0          0   \n",
       "1      2020-03-11       New York             US         47       0          0   \n",
       "2      2020-03-12       New York             US        108       0          0   \n",
       "3      2020-03-13       New York             US         93       0          0   \n",
       "4      2020-03-14       New York             US        104       2          0   \n",
       "\n",
       "   Days Since First Case Infection Day  TempMax  TempAvg  ...  HumMax  HumAvg  \\\n",
       "0                      0    2020-03-02       56     48.2  ...      73    51.1   \n",
       "1                      1    2020-03-03       58     52.4  ...      89    75.5   \n",
       "2                      2    2020-03-04       57     50.5  ...      66    44.8   \n",
       "3                      3    2020-03-05       52     44.8  ...      71    48.5   \n",
       "4                      4    2020-03-06       45     41.6  ...      89    74.7   \n",
       "\n",
       "   HumMin  Wind_Speed_Max  Wind_Speed_Avg  Wind_Speed_Min  Pressure_Max  \\\n",
       "0      35              16            10.3               5          30.1   \n",
       "1      53              26            10.1               0          29.8   \n",
       "2      24              28            18.2              12          29.9   \n",
       "3      27              24            12.9               5          30.1   \n",
       "4      65              20            13.0               5          30.1   \n",
       "\n",
       "   Pressure_Avg  Pressure_Min  Total_Precipitations  \n",
       "0          29.9          29.8                  0.00  \n",
       "1          29.6          29.4                  0.01  \n",
       "2          29.7          29.5                  0.28  \n",
       "3          30.1          29.9                  0.00  \n",
       "4          29.9          29.8                  0.00  \n",
       "\n",
       "[5 rows x 21 columns]"
      ]
     },
     "execution_count": 159,
     "metadata": {},
     "output_type": "execute_result"
    }
   ],
   "source": [
    "# Left Join the two data frames\n",
    "covid_weather=pd.merge(covid_new_cases,weather,how='left',left_on=['Infection Day','Province/State'],\n",
    "                                            right_on=['Infection Day','State'])\n",
    "# Some variables like SNo, State (is a duplication of \"Province/State\"), \n",
    "# Country (is a duplication of \"Country/Region\") or \"LastUpdate\" are not \n",
    "# necessary to this study, so let's drop it from the data.\n",
    "covid_weather.drop(columns=['SNo','State','Country','Last Update'],inplace=True)\n",
    "covid_weather.head()"
   ]
  },
  {
   "cell_type": "code",
   "execution_count": 161,
   "metadata": {},
   "outputs": [
    {
     "name": "stdout",
     "output_type": "stream",
     "text": [
      "=> The data frames have a True match between the number of observations in New York\n",
      "=> The data frames have a True match between the number of observations in Madrid\n",
      "=> The data frames have a True match between the number of observations in Quebec\n",
      "=> The data frames have a True match between the number of observations in Lombardia\n",
      "=> The data frames have a True match between the number of observations in Vienna\n",
      "=> The data frames have a True match between the number of observations in Stockholm\n",
      "=> The data frames have a True match between the number of observations in Doha\n",
      "=> The data frames have a True match between the number of observations in Dubai\n",
      "=> The data frames have a True match between the number of observations in Dakar\n",
      "=> The final data frame that condense all the information about the coronavirus disease and the weather in the selected 9 cities has 391 observations and 21 features.\n",
      "=> The total number of missing values in the data frame is 0 ==> Great!!\n"
     ]
    }
   ],
   "source": [
    "for city in cities:\n",
    "    print('=> The data frames have a {} match between the number of observations in {}'.format(\n",
    "        covid_weather.loc[covid_weather['Province/State']==city,:].shape[0]==\n",
    "        covid_new_cases.loc[covid_new_cases['Province/State']==city,:].shape[0],city))\n",
    "print('=> The final data frame that condense all the information about the coronavirus disease and the weather in the selected 9 cities has {} observations and {} features.'.\n",
    "     format(covid_weather.shape[0],covid_weather.shape[1]))\n",
    "print('=> The total number of missing values in the data frame is {} ==> Great!!'.format(covid_weather.isna().sum().sum()))"
   ]
  },
  {
   "cell_type": "markdown",
   "metadata": {},
   "source": [
    "> Finally!!! Our data looks tidy and we are ready to board our scientific questions."
   ]
  },
  {
   "cell_type": "markdown",
   "metadata": {},
   "source": [
    "## Weather and New Infections.\n",
    "<a id='weather_and_new_infections'></a> "
   ]
  },
  {
   "cell_type": "markdown",
   "metadata": {},
   "source": [
    "### Coronavirus vs Temperature\n",
    "<a id='coronavirus_vs_temperature'></a>"
   ]
  },
  {
   "cell_type": "markdown",
   "metadata": {},
   "source": [
    "For the following analysis is important to remember that the variable `Confirmed` contains the information about the new cases that were infected at `Infection Day`. Note that this is an estimation, but in my opinion, is more realistic that study the weather around 8 days after that the infection occurs.\n",
    "\n",
    "Fig. \"_Temperature Avg by Day_\" shows the temperature in the 9 `Province/State` since the `Infection Day` of the first reported patient. This time series shows that the hottests `Province/State` (Dakar, Dubai, Doha) have mean temperatures over $\\approx 65^o F$ in all days, while Quebec is the only `Province/State` that had under $30^o F$ most of the time. The temperature in all the others `Province/States` were between $30$ and $60^o F$.\n",
    "> Note that this graph shows the possibility to make a discretization of the temperature potentially considering 3 ranges of values. In the future, should be nice to do a k-means analysis with 3 clusters to study the number of cases by range of temperature (see below)."
   ]
  },
  {
   "cell_type": "code",
   "execution_count": 163,
   "metadata": {},
   "outputs": [
    {
     "data": {
      "application/vnd.plotly.v1+json": {
       "config": {
        "plotlyServerURL": "https://plot.ly"
       },
       "data": [
        {
         "hoverlabel": {
          "namelength": 0
         },
         "hovertemplate": "Province/State=New York<br>Infection Day=%{x}<br>TempAvg=%{y}",
         "legendgroup": "Province/State=New York",
         "line": {
          "color": "#636efa",
          "dash": "solid"
         },
         "mode": "lines",
         "name": "Province/State=New York",
         "showlegend": true,
         "type": "scatter",
         "x": [
          "2020-03-02",
          "2020-03-03",
          "2020-03-04",
          "2020-03-05",
          "2020-03-06",
          "2020-03-07",
          "2020-03-08",
          "2020-03-09",
          "2020-03-10",
          "2020-03-11",
          "2020-03-12",
          "2020-03-13",
          "2020-03-14",
          "2020-03-15",
          "2020-03-16",
          "2020-03-17",
          "2020-03-18",
          "2020-03-19",
          "2020-03-20",
          "2020-03-21",
          "2020-03-22",
          "2020-03-23",
          "2020-03-24",
          "2020-03-25",
          "2020-03-26"
         ],
         "xaxis": "x",
         "y": [
          48.2,
          52.4,
          50.5,
          44.8,
          41.6,
          41,
          47.8,
          59.3,
          61,
          50.4,
          44.7,
          54.6,
          48.9,
          46.8,
          39.3,
          47.5,
          47.6,
          46.2,
          56,
          48.5,
          38.4,
          39.2,
          44,
          42.8,
          47
         ],
         "yaxis": "y"
        },
        {
         "hoverlabel": {
          "namelength": 0
         },
         "hovertemplate": "Province/State=Madrid<br>Infection Day=%{x}<br>TempAvg=%{y}",
         "legendgroup": "Province/State=Madrid",
         "line": {
          "color": "#EF553B",
          "dash": "solid"
         },
         "mode": "lines",
         "name": "Province/State=Madrid",
         "showlegend": true,
         "type": "scatter",
         "x": [
          "2020-01-24",
          "2020-01-25",
          "2020-01-26",
          "2020-01-27",
          "2020-01-28",
          "2020-01-29",
          "2020-01-30",
          "2020-01-31",
          "2020-02-01",
          "2020-02-02",
          "2020-02-03",
          "2020-02-04",
          "2020-02-05",
          "2020-02-06",
          "2020-02-07",
          "2020-02-08",
          "2020-02-09",
          "2020-02-10",
          "2020-02-11",
          "2020-02-12",
          "2020-02-13",
          "2020-02-14",
          "2020-02-15",
          "2020-02-16",
          "2020-02-17",
          "2020-02-18",
          "2020-02-19",
          "2020-02-20",
          "2020-02-21",
          "2020-02-22",
          "2020-02-23",
          "2020-02-24",
          "2020-02-25",
          "2020-02-26",
          "2020-02-27",
          "2020-02-28",
          "2020-02-29",
          "2020-03-01",
          "2020-03-02",
          "2020-03-03",
          "2020-03-04",
          "2020-03-05",
          "2020-03-06",
          "2020-03-07",
          "2020-03-08",
          "2020-03-09",
          "2020-03-10",
          "2020-03-11",
          "2020-03-12",
          "2020-03-13",
          "2020-03-14",
          "2020-03-15",
          "2020-03-16",
          "2020-03-17",
          "2020-03-18",
          "2020-03-19",
          "2020-03-20",
          "2020-03-21",
          "2020-03-22",
          "2020-03-23",
          "2020-03-24",
          "2020-03-25",
          "2020-03-26"
         ],
         "xaxis": "x",
         "y": [
          45.2,
          45.4,
          43.5,
          41.7,
          52.1,
          53.7,
          51.1,
          54.2,
          56.9,
          53.3,
          52,
          50.2,
          45.9,
          41.2,
          44.4,
          44,
          46.7,
          48.1,
          46.4,
          49.5,
          52.1,
          47.5,
          45.7,
          48.7,
          47.4,
          46.3,
          45.6,
          44.4,
          48,
          48.6,
          50.5,
          50.5,
          49,
          52.4,
          52.9,
          51,
          51.1,
          52.6,
          51.8,
          51.3,
          58.3,
          55,
          49.1,
          46.9,
          47.1,
          53.8,
          54.4,
          58.6,
          60.3,
          60.4,
          59.3,
          54.9,
          45.1,
          50.8,
          54.3,
          54.9,
          52.9,
          48.2,
          48.5,
          50.4,
          53.4,
          53,
          48.2
         ],
         "yaxis": "y"
        },
        {
         "hoverlabel": {
          "namelength": 0
         },
         "hovertemplate": "Province/State=Quebec<br>Infection Day=%{x}<br>TempAvg=%{y}",
         "legendgroup": "Province/State=Quebec",
         "line": {
          "color": "#00cc96",
          "dash": "solid"
         },
         "mode": "lines",
         "name": "Province/State=Quebec",
         "showlegend": true,
         "type": "scatter",
         "x": [
          "2020-03-01",
          "2020-03-02",
          "2020-03-03",
          "2020-03-04",
          "2020-03-05",
          "2020-03-06",
          "2020-03-07",
          "2020-03-08",
          "2020-03-09",
          "2020-03-10",
          "2020-03-11",
          "2020-03-12",
          "2020-03-13",
          "2020-03-14",
          "2020-03-15",
          "2020-03-16",
          "2020-03-17",
          "2020-03-18",
          "2020-03-19",
          "2020-03-20",
          "2020-03-21",
          "2020-03-22",
          "2020-03-23",
          "2020-03-24",
          "2020-03-25",
          "2020-03-26"
         ],
         "xaxis": "x",
         "y": [
          15.3,
          19.2,
          31.7,
          32.8,
          29,
          25.5,
          19.5,
          28.7,
          22.4,
          26.6,
          21.6,
          19.6,
          31.9,
          31.1,
          20.4,
          15.7,
          29.4,
          25.4,
          30.6,
          36.1,
          21.1,
          14,
          24.5,
          32.2,
          31.8,
          34.1
         ],
         "yaxis": "y"
        },
        {
         "hoverlabel": {
          "namelength": 0
         },
         "hovertemplate": "Province/State=Lombardia<br>Infection Day=%{x}<br>TempAvg=%{y}",
         "legendgroup": "Province/State=Lombardia",
         "line": {
          "color": "#ab63fa",
          "dash": "solid"
         },
         "mode": "lines",
         "name": "Province/State=Lombardia",
         "showlegend": true,
         "type": "scatter",
         "x": [
          "2020-02-16",
          "2020-02-17",
          "2020-02-18",
          "2020-02-19",
          "2020-02-20",
          "2020-02-21",
          "2020-02-22",
          "2020-02-23",
          "2020-02-24",
          "2020-02-25",
          "2020-02-26",
          "2020-02-27",
          "2020-02-28",
          "2020-02-29",
          "2020-03-01",
          "2020-03-02",
          "2020-03-03",
          "2020-03-04",
          "2020-03-05",
          "2020-03-06",
          "2020-03-07",
          "2020-03-08",
          "2020-03-09",
          "2020-03-10",
          "2020-03-11",
          "2020-03-12",
          "2020-03-13",
          "2020-03-14",
          "2020-03-15",
          "2020-03-16",
          "2020-03-17",
          "2020-03-18",
          "2020-03-19",
          "2020-03-20",
          "2020-03-21",
          "2020-03-22",
          "2020-03-23",
          "2020-03-24",
          "2020-03-25",
          "2020-03-26"
         ],
         "xaxis": "x",
         "y": [
          46.2,
          49.3,
          50,
          46.9,
          45.2,
          45.9,
          46.6,
          50.2,
          55.4,
          52.1,
          49.1,
          45.8,
          49.8,
          44.7,
          44.2,
          40.8,
          46.6,
          45.5,
          43.9,
          43.7,
          48.1,
          47.4,
          45.6,
          49.5,
          53.8,
          52.5,
          58.9,
          51.2,
          47.1,
          48.1,
          49.5,
          52.4,
          55.4,
          54.1,
          55,
          53.3,
          43.3,
          42.9,
          42.4,
          40.7
         ],
         "yaxis": "y"
        },
        {
         "hoverlabel": {
          "namelength": 0
         },
         "hovertemplate": "Province/State=Vienna<br>Infection Day=%{x}<br>TempAvg=%{y}",
         "legendgroup": "Province/State=Vienna",
         "line": {
          "color": "#FFA15A",
          "dash": "solid"
         },
         "mode": "lines",
         "name": "Province/State=Vienna",
         "showlegend": true,
         "type": "scatter",
         "x": [
          "2020-02-17",
          "2020-02-18",
          "2020-02-19",
          "2020-02-20",
          "2020-02-21",
          "2020-02-22",
          "2020-02-23",
          "2020-02-24",
          "2020-02-25",
          "2020-02-26",
          "2020-02-27",
          "2020-02-28",
          "2020-02-29",
          "2020-03-01",
          "2020-03-02",
          "2020-03-03",
          "2020-03-04",
          "2020-03-05",
          "2020-03-06",
          "2020-03-07",
          "2020-03-08",
          "2020-03-09",
          "2020-03-10",
          "2020-03-11",
          "2020-03-12",
          "2020-03-13",
          "2020-03-14",
          "2020-03-15",
          "2020-03-16",
          "2020-03-17",
          "2020-03-18",
          "2020-03-19",
          "2020-03-20",
          "2020-03-21",
          "2020-03-22",
          "2020-03-23",
          "2020-03-24",
          "2020-03-25",
          "2020-03-26"
         ],
         "xaxis": "x",
         "y": [
          45,
          48.6,
          41.6,
          43,
          40.9,
          41.9,
          57.5,
          46.8,
          49.5,
          45,
          41.4,
          39.6,
          41,
          42.8,
          49.9,
          46,
          43.8,
          42.1,
          44.7,
          44.8,
          42.7,
          40.8,
          49.1,
          57.6,
          59.3,
          49.8,
          44.3,
          37.9,
          44.3,
          44.8,
          52.3,
          52.6,
          54.5,
          43.1,
          33.8,
          32.7,
          34.9,
          32.3,
          39.5
         ],
         "yaxis": "y"
        },
        {
         "hoverlabel": {
          "namelength": 0
         },
         "hovertemplate": "Province/State=Stockholm<br>Infection Day=%{x}<br>TempAvg=%{y}",
         "legendgroup": "Province/State=Stockholm",
         "line": {
          "color": "#19d3f3",
          "dash": "solid"
         },
         "mode": "lines",
         "name": "Province/State=Stockholm",
         "showlegend": true,
         "type": "scatter",
         "x": [
          "2020-01-23",
          "2020-01-24",
          "2020-01-25",
          "2020-01-26",
          "2020-01-27",
          "2020-01-28",
          "2020-01-29",
          "2020-01-30",
          "2020-01-31",
          "2020-02-01",
          "2020-02-02",
          "2020-02-03",
          "2020-02-04",
          "2020-02-05",
          "2020-02-06",
          "2020-02-07",
          "2020-02-08",
          "2020-02-09",
          "2020-02-10",
          "2020-02-11",
          "2020-02-12",
          "2020-02-13",
          "2020-02-14",
          "2020-02-15",
          "2020-02-16",
          "2020-02-17",
          "2020-02-18",
          "2020-02-19",
          "2020-02-20",
          "2020-02-21",
          "2020-02-22",
          "2020-02-23",
          "2020-02-24",
          "2020-02-25",
          "2020-02-26",
          "2020-02-27",
          "2020-02-28",
          "2020-02-29",
          "2020-03-01",
          "2020-03-02",
          "2020-03-03",
          "2020-03-04",
          "2020-03-05",
          "2020-03-06",
          "2020-03-07",
          "2020-03-08",
          "2020-03-09",
          "2020-03-10",
          "2020-03-11",
          "2020-03-12",
          "2020-03-13",
          "2020-03-14",
          "2020-03-15",
          "2020-03-16",
          "2020-03-17",
          "2020-03-18",
          "2020-03-19",
          "2020-03-20",
          "2020-03-21",
          "2020-03-22",
          "2020-03-23",
          "2020-03-24",
          "2020-03-25",
          "2020-03-26"
         ],
         "xaxis": "x",
         "y": [
          34,
          41.9,
          36.1,
          43.3,
          40.7,
          38.5,
          38,
          34.7,
          36.7,
          42.4,
          39.3,
          30.1,
          27.3,
          32.8,
          32,
          30.1,
          36.8,
          40.3,
          43,
          38.7,
          37.3,
          33.4,
          29.8,
          38.5,
          44.5,
          43.2,
          44.3,
          39.3,
          34.1,
          42.7,
          43.2,
          41.3,
          34.1,
          32.5,
          32.5,
          29.7,
          29.9,
          34.2,
          39,
          39.7,
          38.7,
          35.8,
          34.7,
          33.9,
          34.2,
          39.3,
          44,
          40.7,
          40.7,
          38.9,
          35.6,
          29.8,
          38.2,
          39.1,
          41.2,
          43.4,
          41.6,
          34.5,
          31.2,
          30.5,
          36,
          39.5,
          45,
          43.2
         ],
         "yaxis": "y"
        },
        {
         "hoverlabel": {
          "namelength": 0
         },
         "hovertemplate": "Province/State=Doha<br>Infection Day=%{x}<br>TempAvg=%{y}",
         "legendgroup": "Province/State=Doha",
         "line": {
          "color": "#FF6692",
          "dash": "solid"
         },
         "mode": "lines",
         "name": "Province/State=Doha",
         "showlegend": true,
         "type": "scatter",
         "x": [
          "2020-02-21",
          "2020-02-22",
          "2020-02-23",
          "2020-02-24",
          "2020-02-25",
          "2020-02-26",
          "2020-02-27",
          "2020-02-28",
          "2020-02-29",
          "2020-03-01",
          "2020-03-02",
          "2020-03-03",
          "2020-03-04",
          "2020-03-05",
          "2020-03-06",
          "2020-03-07",
          "2020-03-08",
          "2020-03-09",
          "2020-03-10",
          "2020-03-11",
          "2020-03-12",
          "2020-03-13",
          "2020-03-14",
          "2020-03-15",
          "2020-03-16",
          "2020-03-17",
          "2020-03-18",
          "2020-03-19",
          "2020-03-20",
          "2020-03-21",
          "2020-03-22",
          "2020-03-23",
          "2020-03-24",
          "2020-03-25",
          "2020-03-26"
         ],
         "xaxis": "x",
         "y": [
          69.5,
          68.2,
          70.8,
          74.1,
          75.6,
          71.8,
          67.8,
          68.6,
          67.9,
          69,
          69.8,
          68.8,
          68.4,
          69.3,
          68.6,
          69.9,
          72.6,
          71.5,
          68,
          71.4,
          70.2,
          70.9,
          74.8,
          76.6,
          76.1,
          74.7,
          76.6,
          78.1,
          75.6,
          75.5,
          75.3,
          71,
          70.9,
          71.8,
          72.3
         ],
         "yaxis": "y"
        },
        {
         "hoverlabel": {
          "namelength": 0
         },
         "hovertemplate": "Province/State=Dubai<br>Infection Day=%{x}<br>TempAvg=%{y}",
         "legendgroup": "Province/State=Dubai",
         "line": {
          "color": "#B6E880",
          "dash": "solid"
         },
         "mode": "lines",
         "name": "Province/State=Dubai",
         "showlegend": true,
         "type": "scatter",
         "x": [
          "2020-01-21",
          "2020-01-22",
          "2020-01-23",
          "2020-01-24",
          "2020-01-25",
          "2020-01-26",
          "2020-01-27",
          "2020-01-28",
          "2020-01-29",
          "2020-01-30",
          "2020-01-31",
          "2020-02-01",
          "2020-02-02",
          "2020-02-03",
          "2020-02-04",
          "2020-02-05",
          "2020-02-06",
          "2020-02-07",
          "2020-02-08",
          "2020-02-09",
          "2020-02-10",
          "2020-02-11",
          "2020-02-12",
          "2020-02-13",
          "2020-02-14",
          "2020-02-15",
          "2020-02-16",
          "2020-02-17",
          "2020-02-18",
          "2020-02-19",
          "2020-02-20",
          "2020-02-21",
          "2020-02-22",
          "2020-02-23",
          "2020-02-24",
          "2020-02-25",
          "2020-02-26",
          "2020-02-27",
          "2020-02-28",
          "2020-02-29",
          "2020-03-01",
          "2020-03-02",
          "2020-03-03",
          "2020-03-04",
          "2020-03-05",
          "2020-03-06",
          "2020-03-07",
          "2020-03-08",
          "2020-03-09",
          "2020-03-10",
          "2020-03-11",
          "2020-03-12",
          "2020-03-13",
          "2020-03-14",
          "2020-03-15",
          "2020-03-16",
          "2020-03-17",
          "2020-03-18",
          "2020-03-19",
          "2020-03-20",
          "2020-03-21",
          "2020-03-22",
          "2020-03-23",
          "2020-03-24",
          "2020-03-25",
          "2020-03-26"
         ],
         "xaxis": "x",
         "y": [
          68.7,
          69.8,
          73.2,
          69,
          67.4,
          65.2,
          65.2,
          65,
          67.3,
          67.3,
          65.3,
          67,
          67.7,
          66.9,
          67.5,
          65.9,
          68,
          69.3,
          72.4,
          75,
          74.8,
          71.8,
          65.1,
          64.4,
          65.7,
          66.4,
          71.9,
          75.3,
          73.9,
          75.6,
          77.4,
          75.3,
          76.7,
          77.8,
          80,
          81.7,
          79.2,
          71.1,
          70.5,
          72.5,
          72.5,
          75.3,
          71.7,
          70.6,
          71.6,
          73.4,
          75.4,
          76.3,
          73,
          74.8,
          72.8,
          71.9,
          74.6,
          79.4,
          81,
          77.7,
          77.8,
          80.5,
          83.3,
          83.2,
          75.7,
          76,
          72.5,
          70.6,
          70.7,
          73.9
         ],
         "yaxis": "y"
        },
        {
         "hoverlabel": {
          "namelength": 0
         },
         "hovertemplate": "Province/State=Dakar<br>Infection Day=%{x}<br>TempAvg=%{y}",
         "legendgroup": "Province/State=Dakar",
         "line": {
          "color": "#FF97FF",
          "dash": "solid"
         },
         "mode": "lines",
         "name": "Province/State=Dakar",
         "showlegend": true,
         "type": "scatter",
         "x": [
          "2020-02-23",
          "2020-02-24",
          "2020-02-25",
          "2020-02-26",
          "2020-02-27",
          "2020-02-28",
          "2020-02-29",
          "2020-03-01",
          "2020-03-02",
          "2020-03-03",
          "2020-03-04",
          "2020-03-05",
          "2020-03-06",
          "2020-03-07",
          "2020-03-08",
          "2020-03-09",
          "2020-03-10",
          "2020-03-11",
          "2020-03-12",
          "2020-03-13",
          "2020-03-14",
          "2020-03-15",
          "2020-03-16",
          "2020-03-17",
          "2020-03-18",
          "2020-03-19",
          "2020-03-20",
          "2020-03-21",
          "2020-03-22",
          "2020-03-23",
          "2020-03-24",
          "2020-03-25",
          "2020-03-26"
         ],
         "xaxis": "x",
         "y": [
          72.2,
          74.2,
          86.9,
          80.7,
          78,
          75.4,
          73.9,
          74.3,
          76.1,
          80.2,
          75.3,
          74.7,
          74.9,
          75.8,
          75.5,
          75.5,
          77.8,
          76.1,
          77.2,
          76.4,
          75,
          74.2,
          74.2,
          72.3,
          73.1,
          72.6,
          73.1,
          74.1,
          72.3,
          70.8,
          68.5,
          68.3,
          69.9
         ],
         "yaxis": "y"
        }
       ],
       "layout": {
        "height": 600,
        "legend": {
         "tracegroupgap": 0
        },
        "template": {
         "data": {
          "bar": [
           {
            "error_x": {
             "color": "#2a3f5f"
            },
            "error_y": {
             "color": "#2a3f5f"
            },
            "marker": {
             "line": {
              "color": "#E5ECF6",
              "width": 0.5
             }
            },
            "type": "bar"
           }
          ],
          "barpolar": [
           {
            "marker": {
             "line": {
              "color": "#E5ECF6",
              "width": 0.5
             }
            },
            "type": "barpolar"
           }
          ],
          "carpet": [
           {
            "aaxis": {
             "endlinecolor": "#2a3f5f",
             "gridcolor": "white",
             "linecolor": "white",
             "minorgridcolor": "white",
             "startlinecolor": "#2a3f5f"
            },
            "baxis": {
             "endlinecolor": "#2a3f5f",
             "gridcolor": "white",
             "linecolor": "white",
             "minorgridcolor": "white",
             "startlinecolor": "#2a3f5f"
            },
            "type": "carpet"
           }
          ],
          "choropleth": [
           {
            "colorbar": {
             "outlinewidth": 0,
             "ticks": ""
            },
            "type": "choropleth"
           }
          ],
          "contour": [
           {
            "colorbar": {
             "outlinewidth": 0,
             "ticks": ""
            },
            "colorscale": [
             [
              0,
              "#0d0887"
             ],
             [
              0.1111111111111111,
              "#46039f"
             ],
             [
              0.2222222222222222,
              "#7201a8"
             ],
             [
              0.3333333333333333,
              "#9c179e"
             ],
             [
              0.4444444444444444,
              "#bd3786"
             ],
             [
              0.5555555555555556,
              "#d8576b"
             ],
             [
              0.6666666666666666,
              "#ed7953"
             ],
             [
              0.7777777777777778,
              "#fb9f3a"
             ],
             [
              0.8888888888888888,
              "#fdca26"
             ],
             [
              1,
              "#f0f921"
             ]
            ],
            "type": "contour"
           }
          ],
          "contourcarpet": [
           {
            "colorbar": {
             "outlinewidth": 0,
             "ticks": ""
            },
            "type": "contourcarpet"
           }
          ],
          "heatmap": [
           {
            "colorbar": {
             "outlinewidth": 0,
             "ticks": ""
            },
            "colorscale": [
             [
              0,
              "#0d0887"
             ],
             [
              0.1111111111111111,
              "#46039f"
             ],
             [
              0.2222222222222222,
              "#7201a8"
             ],
             [
              0.3333333333333333,
              "#9c179e"
             ],
             [
              0.4444444444444444,
              "#bd3786"
             ],
             [
              0.5555555555555556,
              "#d8576b"
             ],
             [
              0.6666666666666666,
              "#ed7953"
             ],
             [
              0.7777777777777778,
              "#fb9f3a"
             ],
             [
              0.8888888888888888,
              "#fdca26"
             ],
             [
              1,
              "#f0f921"
             ]
            ],
            "type": "heatmap"
           }
          ],
          "heatmapgl": [
           {
            "colorbar": {
             "outlinewidth": 0,
             "ticks": ""
            },
            "colorscale": [
             [
              0,
              "#0d0887"
             ],
             [
              0.1111111111111111,
              "#46039f"
             ],
             [
              0.2222222222222222,
              "#7201a8"
             ],
             [
              0.3333333333333333,
              "#9c179e"
             ],
             [
              0.4444444444444444,
              "#bd3786"
             ],
             [
              0.5555555555555556,
              "#d8576b"
             ],
             [
              0.6666666666666666,
              "#ed7953"
             ],
             [
              0.7777777777777778,
              "#fb9f3a"
             ],
             [
              0.8888888888888888,
              "#fdca26"
             ],
             [
              1,
              "#f0f921"
             ]
            ],
            "type": "heatmapgl"
           }
          ],
          "histogram": [
           {
            "marker": {
             "colorbar": {
              "outlinewidth": 0,
              "ticks": ""
             }
            },
            "type": "histogram"
           }
          ],
          "histogram2d": [
           {
            "colorbar": {
             "outlinewidth": 0,
             "ticks": ""
            },
            "colorscale": [
             [
              0,
              "#0d0887"
             ],
             [
              0.1111111111111111,
              "#46039f"
             ],
             [
              0.2222222222222222,
              "#7201a8"
             ],
             [
              0.3333333333333333,
              "#9c179e"
             ],
             [
              0.4444444444444444,
              "#bd3786"
             ],
             [
              0.5555555555555556,
              "#d8576b"
             ],
             [
              0.6666666666666666,
              "#ed7953"
             ],
             [
              0.7777777777777778,
              "#fb9f3a"
             ],
             [
              0.8888888888888888,
              "#fdca26"
             ],
             [
              1,
              "#f0f921"
             ]
            ],
            "type": "histogram2d"
           }
          ],
          "histogram2dcontour": [
           {
            "colorbar": {
             "outlinewidth": 0,
             "ticks": ""
            },
            "colorscale": [
             [
              0,
              "#0d0887"
             ],
             [
              0.1111111111111111,
              "#46039f"
             ],
             [
              0.2222222222222222,
              "#7201a8"
             ],
             [
              0.3333333333333333,
              "#9c179e"
             ],
             [
              0.4444444444444444,
              "#bd3786"
             ],
             [
              0.5555555555555556,
              "#d8576b"
             ],
             [
              0.6666666666666666,
              "#ed7953"
             ],
             [
              0.7777777777777778,
              "#fb9f3a"
             ],
             [
              0.8888888888888888,
              "#fdca26"
             ],
             [
              1,
              "#f0f921"
             ]
            ],
            "type": "histogram2dcontour"
           }
          ],
          "mesh3d": [
           {
            "colorbar": {
             "outlinewidth": 0,
             "ticks": ""
            },
            "type": "mesh3d"
           }
          ],
          "parcoords": [
           {
            "line": {
             "colorbar": {
              "outlinewidth": 0,
              "ticks": ""
             }
            },
            "type": "parcoords"
           }
          ],
          "pie": [
           {
            "automargin": true,
            "type": "pie"
           }
          ],
          "scatter": [
           {
            "marker": {
             "colorbar": {
              "outlinewidth": 0,
              "ticks": ""
             }
            },
            "type": "scatter"
           }
          ],
          "scatter3d": [
           {
            "line": {
             "colorbar": {
              "outlinewidth": 0,
              "ticks": ""
             }
            },
            "marker": {
             "colorbar": {
              "outlinewidth": 0,
              "ticks": ""
             }
            },
            "type": "scatter3d"
           }
          ],
          "scattercarpet": [
           {
            "marker": {
             "colorbar": {
              "outlinewidth": 0,
              "ticks": ""
             }
            },
            "type": "scattercarpet"
           }
          ],
          "scattergeo": [
           {
            "marker": {
             "colorbar": {
              "outlinewidth": 0,
              "ticks": ""
             }
            },
            "type": "scattergeo"
           }
          ],
          "scattergl": [
           {
            "marker": {
             "colorbar": {
              "outlinewidth": 0,
              "ticks": ""
             }
            },
            "type": "scattergl"
           }
          ],
          "scattermapbox": [
           {
            "marker": {
             "colorbar": {
              "outlinewidth": 0,
              "ticks": ""
             }
            },
            "type": "scattermapbox"
           }
          ],
          "scatterpolar": [
           {
            "marker": {
             "colorbar": {
              "outlinewidth": 0,
              "ticks": ""
             }
            },
            "type": "scatterpolar"
           }
          ],
          "scatterpolargl": [
           {
            "marker": {
             "colorbar": {
              "outlinewidth": 0,
              "ticks": ""
             }
            },
            "type": "scatterpolargl"
           }
          ],
          "scatterternary": [
           {
            "marker": {
             "colorbar": {
              "outlinewidth": 0,
              "ticks": ""
             }
            },
            "type": "scatterternary"
           }
          ],
          "surface": [
           {
            "colorbar": {
             "outlinewidth": 0,
             "ticks": ""
            },
            "colorscale": [
             [
              0,
              "#0d0887"
             ],
             [
              0.1111111111111111,
              "#46039f"
             ],
             [
              0.2222222222222222,
              "#7201a8"
             ],
             [
              0.3333333333333333,
              "#9c179e"
             ],
             [
              0.4444444444444444,
              "#bd3786"
             ],
             [
              0.5555555555555556,
              "#d8576b"
             ],
             [
              0.6666666666666666,
              "#ed7953"
             ],
             [
              0.7777777777777778,
              "#fb9f3a"
             ],
             [
              0.8888888888888888,
              "#fdca26"
             ],
             [
              1,
              "#f0f921"
             ]
            ],
            "type": "surface"
           }
          ],
          "table": [
           {
            "cells": {
             "fill": {
              "color": "#EBF0F8"
             },
             "line": {
              "color": "white"
             }
            },
            "header": {
             "fill": {
              "color": "#C8D4E3"
             },
             "line": {
              "color": "white"
             }
            },
            "type": "table"
           }
          ]
         },
         "layout": {
          "annotationdefaults": {
           "arrowcolor": "#2a3f5f",
           "arrowhead": 0,
           "arrowwidth": 1
          },
          "coloraxis": {
           "colorbar": {
            "outlinewidth": 0,
            "ticks": ""
           }
          },
          "colorscale": {
           "diverging": [
            [
             0,
             "#8e0152"
            ],
            [
             0.1,
             "#c51b7d"
            ],
            [
             0.2,
             "#de77ae"
            ],
            [
             0.3,
             "#f1b6da"
            ],
            [
             0.4,
             "#fde0ef"
            ],
            [
             0.5,
             "#f7f7f7"
            ],
            [
             0.6,
             "#e6f5d0"
            ],
            [
             0.7,
             "#b8e186"
            ],
            [
             0.8,
             "#7fbc41"
            ],
            [
             0.9,
             "#4d9221"
            ],
            [
             1,
             "#276419"
            ]
           ],
           "sequential": [
            [
             0,
             "#0d0887"
            ],
            [
             0.1111111111111111,
             "#46039f"
            ],
            [
             0.2222222222222222,
             "#7201a8"
            ],
            [
             0.3333333333333333,
             "#9c179e"
            ],
            [
             0.4444444444444444,
             "#bd3786"
            ],
            [
             0.5555555555555556,
             "#d8576b"
            ],
            [
             0.6666666666666666,
             "#ed7953"
            ],
            [
             0.7777777777777778,
             "#fb9f3a"
            ],
            [
             0.8888888888888888,
             "#fdca26"
            ],
            [
             1,
             "#f0f921"
            ]
           ],
           "sequentialminus": [
            [
             0,
             "#0d0887"
            ],
            [
             0.1111111111111111,
             "#46039f"
            ],
            [
             0.2222222222222222,
             "#7201a8"
            ],
            [
             0.3333333333333333,
             "#9c179e"
            ],
            [
             0.4444444444444444,
             "#bd3786"
            ],
            [
             0.5555555555555556,
             "#d8576b"
            ],
            [
             0.6666666666666666,
             "#ed7953"
            ],
            [
             0.7777777777777778,
             "#fb9f3a"
            ],
            [
             0.8888888888888888,
             "#fdca26"
            ],
            [
             1,
             "#f0f921"
            ]
           ]
          },
          "colorway": [
           "#636efa",
           "#EF553B",
           "#00cc96",
           "#ab63fa",
           "#FFA15A",
           "#19d3f3",
           "#FF6692",
           "#B6E880",
           "#FF97FF",
           "#FECB52"
          ],
          "font": {
           "color": "#2a3f5f"
          },
          "geo": {
           "bgcolor": "white",
           "lakecolor": "white",
           "landcolor": "#E5ECF6",
           "showlakes": true,
           "showland": true,
           "subunitcolor": "white"
          },
          "hoverlabel": {
           "align": "left"
          },
          "hovermode": "closest",
          "mapbox": {
           "style": "light"
          },
          "paper_bgcolor": "white",
          "plot_bgcolor": "#E5ECF6",
          "polar": {
           "angularaxis": {
            "gridcolor": "white",
            "linecolor": "white",
            "ticks": ""
           },
           "bgcolor": "#E5ECF6",
           "radialaxis": {
            "gridcolor": "white",
            "linecolor": "white",
            "ticks": ""
           }
          },
          "scene": {
           "xaxis": {
            "backgroundcolor": "#E5ECF6",
            "gridcolor": "white",
            "gridwidth": 2,
            "linecolor": "white",
            "showbackground": true,
            "ticks": "",
            "zerolinecolor": "white"
           },
           "yaxis": {
            "backgroundcolor": "#E5ECF6",
            "gridcolor": "white",
            "gridwidth": 2,
            "linecolor": "white",
            "showbackground": true,
            "ticks": "",
            "zerolinecolor": "white"
           },
           "zaxis": {
            "backgroundcolor": "#E5ECF6",
            "gridcolor": "white",
            "gridwidth": 2,
            "linecolor": "white",
            "showbackground": true,
            "ticks": "",
            "zerolinecolor": "white"
           }
          },
          "shapedefaults": {
           "line": {
            "color": "#2a3f5f"
           }
          },
          "ternary": {
           "aaxis": {
            "gridcolor": "white",
            "linecolor": "white",
            "ticks": ""
           },
           "baxis": {
            "gridcolor": "white",
            "linecolor": "white",
            "ticks": ""
           },
           "bgcolor": "#E5ECF6",
           "caxis": {
            "gridcolor": "white",
            "linecolor": "white",
            "ticks": ""
           }
          },
          "title": {
           "x": 0.05
          },
          "xaxis": {
           "automargin": true,
           "gridcolor": "white",
           "linecolor": "white",
           "ticks": "",
           "title": {
            "standoff": 15
           },
           "zerolinecolor": "white",
           "zerolinewidth": 2
          },
          "yaxis": {
           "automargin": true,
           "gridcolor": "white",
           "linecolor": "white",
           "ticks": "",
           "title": {
            "standoff": 15
           },
           "zerolinecolor": "white",
           "zerolinewidth": 2
          }
         }
        },
        "title": {
         "text": "Average Temperature by Day"
        },
        "xaxis": {
         "anchor": "y",
         "domain": [
          0,
          1
         ],
         "title": {
          "text": "Infection Day"
         }
        },
        "yaxis": {
         "anchor": "x",
         "domain": [
          0,
          1
         ],
         "title": {
          "text": "TempAvg"
         }
        }
       }
      },
      "text/html": [
       "<div>\n",
       "        \n",
       "        \n",
       "            <div id=\"0f87be78-bab0-44e8-a756-de781fdbd081\" class=\"plotly-graph-div\" style=\"height:600px; width:100%;\"></div>\n",
       "            <script type=\"text/javascript\">\n",
       "                require([\"plotly\"], function(Plotly) {\n",
       "                    window.PLOTLYENV=window.PLOTLYENV || {};\n",
       "                    \n",
       "                if (document.getElementById(\"0f87be78-bab0-44e8-a756-de781fdbd081\")) {\n",
       "                    Plotly.newPlot(\n",
       "                        '0f87be78-bab0-44e8-a756-de781fdbd081',\n",
       "                        [{\"hoverlabel\": {\"namelength\": 0}, \"hovertemplate\": \"Province/State=New York<br>Infection Day=%{x}<br>TempAvg=%{y}\", \"legendgroup\": \"Province/State=New York\", \"line\": {\"color\": \"#636efa\", \"dash\": \"solid\"}, \"mode\": \"lines\", \"name\": \"Province/State=New York\", \"showlegend\": true, \"type\": \"scatter\", \"x\": [\"2020-03-02\", \"2020-03-03\", \"2020-03-04\", \"2020-03-05\", \"2020-03-06\", \"2020-03-07\", \"2020-03-08\", \"2020-03-09\", \"2020-03-10\", \"2020-03-11\", \"2020-03-12\", \"2020-03-13\", \"2020-03-14\", \"2020-03-15\", \"2020-03-16\", \"2020-03-17\", \"2020-03-18\", \"2020-03-19\", \"2020-03-20\", \"2020-03-21\", \"2020-03-22\", \"2020-03-23\", \"2020-03-24\", \"2020-03-25\", \"2020-03-26\"], \"xaxis\": \"x\", \"y\": [48.2, 52.4, 50.5, 44.8, 41.6, 41.0, 47.8, 59.3, 61.0, 50.4, 44.7, 54.6, 48.9, 46.8, 39.3, 47.5, 47.6, 46.2, 56.0, 48.5, 38.4, 39.2, 44.0, 42.8, 47.0], \"yaxis\": \"y\"}, {\"hoverlabel\": {\"namelength\": 0}, \"hovertemplate\": \"Province/State=Madrid<br>Infection Day=%{x}<br>TempAvg=%{y}\", \"legendgroup\": \"Province/State=Madrid\", \"line\": {\"color\": \"#EF553B\", \"dash\": \"solid\"}, \"mode\": \"lines\", \"name\": \"Province/State=Madrid\", \"showlegend\": true, \"type\": \"scatter\", \"x\": [\"2020-01-24\", \"2020-01-25\", \"2020-01-26\", \"2020-01-27\", \"2020-01-28\", \"2020-01-29\", \"2020-01-30\", \"2020-01-31\", \"2020-02-01\", \"2020-02-02\", \"2020-02-03\", \"2020-02-04\", \"2020-02-05\", \"2020-02-06\", \"2020-02-07\", \"2020-02-08\", \"2020-02-09\", \"2020-02-10\", \"2020-02-11\", \"2020-02-12\", \"2020-02-13\", \"2020-02-14\", \"2020-02-15\", \"2020-02-16\", \"2020-02-17\", \"2020-02-18\", \"2020-02-19\", \"2020-02-20\", \"2020-02-21\", \"2020-02-22\", \"2020-02-23\", \"2020-02-24\", \"2020-02-25\", \"2020-02-26\", \"2020-02-27\", \"2020-02-28\", \"2020-02-29\", \"2020-03-01\", \"2020-03-02\", \"2020-03-03\", \"2020-03-04\", \"2020-03-05\", \"2020-03-06\", \"2020-03-07\", \"2020-03-08\", \"2020-03-09\", \"2020-03-10\", \"2020-03-11\", \"2020-03-12\", \"2020-03-13\", \"2020-03-14\", \"2020-03-15\", \"2020-03-16\", \"2020-03-17\", \"2020-03-18\", \"2020-03-19\", \"2020-03-20\", \"2020-03-21\", \"2020-03-22\", \"2020-03-23\", \"2020-03-24\", \"2020-03-25\", \"2020-03-26\"], \"xaxis\": \"x\", \"y\": [45.2, 45.4, 43.5, 41.7, 52.1, 53.7, 51.1, 54.2, 56.9, 53.3, 52.0, 50.2, 45.9, 41.2, 44.4, 44.0, 46.7, 48.1, 46.4, 49.5, 52.1, 47.5, 45.7, 48.7, 47.4, 46.3, 45.6, 44.4, 48.0, 48.6, 50.5, 50.5, 49.0, 52.4, 52.9, 51.0, 51.1, 52.6, 51.8, 51.3, 58.3, 55.0, 49.1, 46.9, 47.1, 53.8, 54.4, 58.6, 60.3, 60.4, 59.3, 54.9, 45.1, 50.8, 54.3, 54.9, 52.9, 48.2, 48.5, 50.4, 53.4, 53.0, 48.2], \"yaxis\": \"y\"}, {\"hoverlabel\": {\"namelength\": 0}, \"hovertemplate\": \"Province/State=Quebec<br>Infection Day=%{x}<br>TempAvg=%{y}\", \"legendgroup\": \"Province/State=Quebec\", \"line\": {\"color\": \"#00cc96\", \"dash\": \"solid\"}, \"mode\": \"lines\", \"name\": \"Province/State=Quebec\", \"showlegend\": true, \"type\": \"scatter\", \"x\": [\"2020-03-01\", \"2020-03-02\", \"2020-03-03\", \"2020-03-04\", \"2020-03-05\", \"2020-03-06\", \"2020-03-07\", \"2020-03-08\", \"2020-03-09\", \"2020-03-10\", \"2020-03-11\", \"2020-03-12\", \"2020-03-13\", \"2020-03-14\", \"2020-03-15\", \"2020-03-16\", \"2020-03-17\", \"2020-03-18\", \"2020-03-19\", \"2020-03-20\", \"2020-03-21\", \"2020-03-22\", \"2020-03-23\", \"2020-03-24\", \"2020-03-25\", \"2020-03-26\"], \"xaxis\": \"x\", \"y\": [15.3, 19.2, 31.7, 32.8, 29.0, 25.5, 19.5, 28.7, 22.4, 26.6, 21.6, 19.6, 31.9, 31.1, 20.4, 15.7, 29.4, 25.4, 30.6, 36.1, 21.1, 14.0, 24.5, 32.2, 31.8, 34.1], \"yaxis\": \"y\"}, {\"hoverlabel\": {\"namelength\": 0}, \"hovertemplate\": \"Province/State=Lombardia<br>Infection Day=%{x}<br>TempAvg=%{y}\", \"legendgroup\": \"Province/State=Lombardia\", \"line\": {\"color\": \"#ab63fa\", \"dash\": \"solid\"}, \"mode\": \"lines\", \"name\": \"Province/State=Lombardia\", \"showlegend\": true, \"type\": \"scatter\", \"x\": [\"2020-02-16\", \"2020-02-17\", \"2020-02-18\", \"2020-02-19\", \"2020-02-20\", \"2020-02-21\", \"2020-02-22\", \"2020-02-23\", \"2020-02-24\", \"2020-02-25\", \"2020-02-26\", \"2020-02-27\", \"2020-02-28\", \"2020-02-29\", \"2020-03-01\", \"2020-03-02\", \"2020-03-03\", \"2020-03-04\", \"2020-03-05\", \"2020-03-06\", \"2020-03-07\", \"2020-03-08\", \"2020-03-09\", \"2020-03-10\", \"2020-03-11\", \"2020-03-12\", \"2020-03-13\", \"2020-03-14\", \"2020-03-15\", \"2020-03-16\", \"2020-03-17\", \"2020-03-18\", \"2020-03-19\", \"2020-03-20\", \"2020-03-21\", \"2020-03-22\", \"2020-03-23\", \"2020-03-24\", \"2020-03-25\", \"2020-03-26\"], \"xaxis\": \"x\", \"y\": [46.2, 49.3, 50.0, 46.9, 45.2, 45.9, 46.6, 50.2, 55.4, 52.1, 49.1, 45.8, 49.8, 44.7, 44.2, 40.8, 46.6, 45.5, 43.9, 43.7, 48.1, 47.4, 45.6, 49.5, 53.8, 52.5, 58.9, 51.2, 47.1, 48.1, 49.5, 52.4, 55.4, 54.1, 55.0, 53.3, 43.3, 42.9, 42.4, 40.7], \"yaxis\": \"y\"}, {\"hoverlabel\": {\"namelength\": 0}, \"hovertemplate\": \"Province/State=Vienna<br>Infection Day=%{x}<br>TempAvg=%{y}\", \"legendgroup\": \"Province/State=Vienna\", \"line\": {\"color\": \"#FFA15A\", \"dash\": \"solid\"}, \"mode\": \"lines\", \"name\": \"Province/State=Vienna\", \"showlegend\": true, \"type\": \"scatter\", \"x\": [\"2020-02-17\", \"2020-02-18\", \"2020-02-19\", \"2020-02-20\", \"2020-02-21\", \"2020-02-22\", \"2020-02-23\", \"2020-02-24\", \"2020-02-25\", \"2020-02-26\", \"2020-02-27\", \"2020-02-28\", \"2020-02-29\", \"2020-03-01\", \"2020-03-02\", \"2020-03-03\", \"2020-03-04\", \"2020-03-05\", \"2020-03-06\", \"2020-03-07\", \"2020-03-08\", \"2020-03-09\", \"2020-03-10\", \"2020-03-11\", \"2020-03-12\", \"2020-03-13\", \"2020-03-14\", \"2020-03-15\", \"2020-03-16\", \"2020-03-17\", \"2020-03-18\", \"2020-03-19\", \"2020-03-20\", \"2020-03-21\", \"2020-03-22\", \"2020-03-23\", \"2020-03-24\", \"2020-03-25\", \"2020-03-26\"], \"xaxis\": \"x\", \"y\": [45.0, 48.6, 41.6, 43.0, 40.9, 41.9, 57.5, 46.8, 49.5, 45.0, 41.4, 39.6, 41.0, 42.8, 49.9, 46.0, 43.8, 42.1, 44.7, 44.8, 42.7, 40.8, 49.1, 57.6, 59.3, 49.8, 44.3, 37.9, 44.3, 44.8, 52.3, 52.6, 54.5, 43.1, 33.8, 32.7, 34.9, 32.3, 39.5], \"yaxis\": \"y\"}, {\"hoverlabel\": {\"namelength\": 0}, \"hovertemplate\": \"Province/State=Stockholm<br>Infection Day=%{x}<br>TempAvg=%{y}\", \"legendgroup\": \"Province/State=Stockholm\", \"line\": {\"color\": \"#19d3f3\", \"dash\": \"solid\"}, \"mode\": \"lines\", \"name\": \"Province/State=Stockholm\", \"showlegend\": true, \"type\": \"scatter\", \"x\": [\"2020-01-23\", \"2020-01-24\", \"2020-01-25\", \"2020-01-26\", \"2020-01-27\", \"2020-01-28\", \"2020-01-29\", \"2020-01-30\", \"2020-01-31\", \"2020-02-01\", \"2020-02-02\", \"2020-02-03\", \"2020-02-04\", \"2020-02-05\", \"2020-02-06\", \"2020-02-07\", \"2020-02-08\", \"2020-02-09\", \"2020-02-10\", \"2020-02-11\", \"2020-02-12\", \"2020-02-13\", \"2020-02-14\", \"2020-02-15\", \"2020-02-16\", \"2020-02-17\", \"2020-02-18\", \"2020-02-19\", \"2020-02-20\", \"2020-02-21\", \"2020-02-22\", \"2020-02-23\", \"2020-02-24\", \"2020-02-25\", \"2020-02-26\", \"2020-02-27\", \"2020-02-28\", \"2020-02-29\", \"2020-03-01\", \"2020-03-02\", \"2020-03-03\", \"2020-03-04\", \"2020-03-05\", \"2020-03-06\", \"2020-03-07\", \"2020-03-08\", \"2020-03-09\", \"2020-03-10\", \"2020-03-11\", \"2020-03-12\", \"2020-03-13\", \"2020-03-14\", \"2020-03-15\", \"2020-03-16\", \"2020-03-17\", \"2020-03-18\", \"2020-03-19\", \"2020-03-20\", \"2020-03-21\", \"2020-03-22\", \"2020-03-23\", \"2020-03-24\", \"2020-03-25\", \"2020-03-26\"], \"xaxis\": \"x\", \"y\": [34.0, 41.9, 36.1, 43.3, 40.7, 38.5, 38.0, 34.7, 36.7, 42.4, 39.3, 30.1, 27.3, 32.8, 32.0, 30.1, 36.8, 40.3, 43.0, 38.7, 37.3, 33.4, 29.8, 38.5, 44.5, 43.2, 44.3, 39.3, 34.1, 42.7, 43.2, 41.3, 34.1, 32.5, 32.5, 29.7, 29.9, 34.2, 39.0, 39.7, 38.7, 35.8, 34.7, 33.9, 34.2, 39.3, 44.0, 40.7, 40.7, 38.9, 35.6, 29.8, 38.2, 39.1, 41.2, 43.4, 41.6, 34.5, 31.2, 30.5, 36.0, 39.5, 45.0, 43.2], \"yaxis\": \"y\"}, {\"hoverlabel\": {\"namelength\": 0}, \"hovertemplate\": \"Province/State=Doha<br>Infection Day=%{x}<br>TempAvg=%{y}\", \"legendgroup\": \"Province/State=Doha\", \"line\": {\"color\": \"#FF6692\", \"dash\": \"solid\"}, \"mode\": \"lines\", \"name\": \"Province/State=Doha\", \"showlegend\": true, \"type\": \"scatter\", \"x\": [\"2020-02-21\", \"2020-02-22\", \"2020-02-23\", \"2020-02-24\", \"2020-02-25\", \"2020-02-26\", \"2020-02-27\", \"2020-02-28\", \"2020-02-29\", \"2020-03-01\", \"2020-03-02\", \"2020-03-03\", \"2020-03-04\", \"2020-03-05\", \"2020-03-06\", \"2020-03-07\", \"2020-03-08\", \"2020-03-09\", \"2020-03-10\", \"2020-03-11\", \"2020-03-12\", \"2020-03-13\", \"2020-03-14\", \"2020-03-15\", \"2020-03-16\", \"2020-03-17\", \"2020-03-18\", \"2020-03-19\", \"2020-03-20\", \"2020-03-21\", \"2020-03-22\", \"2020-03-23\", \"2020-03-24\", \"2020-03-25\", \"2020-03-26\"], \"xaxis\": \"x\", \"y\": [69.5, 68.2, 70.8, 74.1, 75.6, 71.8, 67.8, 68.6, 67.9, 69.0, 69.8, 68.8, 68.4, 69.3, 68.6, 69.9, 72.6, 71.5, 68.0, 71.4, 70.2, 70.9, 74.8, 76.6, 76.1, 74.7, 76.6, 78.1, 75.6, 75.5, 75.3, 71.0, 70.9, 71.8, 72.3], \"yaxis\": \"y\"}, {\"hoverlabel\": {\"namelength\": 0}, \"hovertemplate\": \"Province/State=Dubai<br>Infection Day=%{x}<br>TempAvg=%{y}\", \"legendgroup\": \"Province/State=Dubai\", \"line\": {\"color\": \"#B6E880\", \"dash\": \"solid\"}, \"mode\": \"lines\", \"name\": \"Province/State=Dubai\", \"showlegend\": true, \"type\": \"scatter\", \"x\": [\"2020-01-21\", \"2020-01-22\", \"2020-01-23\", \"2020-01-24\", \"2020-01-25\", \"2020-01-26\", \"2020-01-27\", \"2020-01-28\", \"2020-01-29\", \"2020-01-30\", \"2020-01-31\", \"2020-02-01\", \"2020-02-02\", \"2020-02-03\", \"2020-02-04\", \"2020-02-05\", \"2020-02-06\", \"2020-02-07\", \"2020-02-08\", \"2020-02-09\", \"2020-02-10\", \"2020-02-11\", \"2020-02-12\", \"2020-02-13\", \"2020-02-14\", \"2020-02-15\", \"2020-02-16\", \"2020-02-17\", \"2020-02-18\", \"2020-02-19\", \"2020-02-20\", \"2020-02-21\", \"2020-02-22\", \"2020-02-23\", \"2020-02-24\", \"2020-02-25\", \"2020-02-26\", \"2020-02-27\", \"2020-02-28\", \"2020-02-29\", \"2020-03-01\", \"2020-03-02\", \"2020-03-03\", \"2020-03-04\", \"2020-03-05\", \"2020-03-06\", \"2020-03-07\", \"2020-03-08\", \"2020-03-09\", \"2020-03-10\", \"2020-03-11\", \"2020-03-12\", \"2020-03-13\", \"2020-03-14\", \"2020-03-15\", \"2020-03-16\", \"2020-03-17\", \"2020-03-18\", \"2020-03-19\", \"2020-03-20\", \"2020-03-21\", \"2020-03-22\", \"2020-03-23\", \"2020-03-24\", \"2020-03-25\", \"2020-03-26\"], \"xaxis\": \"x\", \"y\": [68.7, 69.8, 73.2, 69.0, 67.4, 65.2, 65.2, 65.0, 67.3, 67.3, 65.3, 67.0, 67.7, 66.9, 67.5, 65.9, 68.0, 69.3, 72.4, 75.0, 74.8, 71.8, 65.1, 64.4, 65.7, 66.4, 71.9, 75.3, 73.9, 75.6, 77.4, 75.3, 76.7, 77.8, 80.0, 81.7, 79.2, 71.1, 70.5, 72.5, 72.5, 75.3, 71.7, 70.6, 71.6, 73.4, 75.4, 76.3, 73.0, 74.8, 72.8, 71.9, 74.6, 79.4, 81.0, 77.7, 77.8, 80.5, 83.3, 83.2, 75.7, 76.0, 72.5, 70.6, 70.7, 73.9], \"yaxis\": \"y\"}, {\"hoverlabel\": {\"namelength\": 0}, \"hovertemplate\": \"Province/State=Dakar<br>Infection Day=%{x}<br>TempAvg=%{y}\", \"legendgroup\": \"Province/State=Dakar\", \"line\": {\"color\": \"#FF97FF\", \"dash\": \"solid\"}, \"mode\": \"lines\", \"name\": \"Province/State=Dakar\", \"showlegend\": true, \"type\": \"scatter\", \"x\": [\"2020-02-23\", \"2020-02-24\", \"2020-02-25\", \"2020-02-26\", \"2020-02-27\", \"2020-02-28\", \"2020-02-29\", \"2020-03-01\", \"2020-03-02\", \"2020-03-03\", \"2020-03-04\", \"2020-03-05\", \"2020-03-06\", \"2020-03-07\", \"2020-03-08\", \"2020-03-09\", \"2020-03-10\", \"2020-03-11\", \"2020-03-12\", \"2020-03-13\", \"2020-03-14\", \"2020-03-15\", \"2020-03-16\", \"2020-03-17\", \"2020-03-18\", \"2020-03-19\", \"2020-03-20\", \"2020-03-21\", \"2020-03-22\", \"2020-03-23\", \"2020-03-24\", \"2020-03-25\", \"2020-03-26\"], \"xaxis\": \"x\", \"y\": [72.2, 74.2, 86.9, 80.7, 78.0, 75.4, 73.9, 74.3, 76.1, 80.2, 75.3, 74.7, 74.9, 75.8, 75.5, 75.5, 77.8, 76.1, 77.2, 76.4, 75.0, 74.2, 74.2, 72.3, 73.1, 72.6, 73.1, 74.1, 72.3, 70.8, 68.5, 68.3, 69.9], \"yaxis\": \"y\"}],\n",
       "                        {\"height\": 600, \"legend\": {\"tracegroupgap\": 0}, \"template\": {\"data\": {\"bar\": [{\"error_x\": {\"color\": \"#2a3f5f\"}, \"error_y\": {\"color\": \"#2a3f5f\"}, \"marker\": {\"line\": {\"color\": \"#E5ECF6\", \"width\": 0.5}}, \"type\": \"bar\"}], \"barpolar\": [{\"marker\": {\"line\": {\"color\": \"#E5ECF6\", \"width\": 0.5}}, \"type\": \"barpolar\"}], \"carpet\": [{\"aaxis\": {\"endlinecolor\": \"#2a3f5f\", \"gridcolor\": \"white\", \"linecolor\": \"white\", \"minorgridcolor\": \"white\", \"startlinecolor\": \"#2a3f5f\"}, \"baxis\": {\"endlinecolor\": \"#2a3f5f\", \"gridcolor\": \"white\", \"linecolor\": \"white\", \"minorgridcolor\": \"white\", \"startlinecolor\": \"#2a3f5f\"}, \"type\": \"carpet\"}], \"choropleth\": [{\"colorbar\": {\"outlinewidth\": 0, \"ticks\": \"\"}, \"type\": \"choropleth\"}], \"contour\": [{\"colorbar\": {\"outlinewidth\": 0, \"ticks\": \"\"}, \"colorscale\": [[0.0, \"#0d0887\"], [0.1111111111111111, \"#46039f\"], [0.2222222222222222, \"#7201a8\"], [0.3333333333333333, \"#9c179e\"], [0.4444444444444444, \"#bd3786\"], [0.5555555555555556, \"#d8576b\"], [0.6666666666666666, \"#ed7953\"], [0.7777777777777778, \"#fb9f3a\"], [0.8888888888888888, \"#fdca26\"], [1.0, \"#f0f921\"]], \"type\": \"contour\"}], \"contourcarpet\": [{\"colorbar\": {\"outlinewidth\": 0, \"ticks\": \"\"}, \"type\": \"contourcarpet\"}], \"heatmap\": [{\"colorbar\": {\"outlinewidth\": 0, \"ticks\": \"\"}, \"colorscale\": [[0.0, \"#0d0887\"], [0.1111111111111111, \"#46039f\"], [0.2222222222222222, \"#7201a8\"], [0.3333333333333333, \"#9c179e\"], [0.4444444444444444, \"#bd3786\"], [0.5555555555555556, \"#d8576b\"], [0.6666666666666666, \"#ed7953\"], [0.7777777777777778, \"#fb9f3a\"], [0.8888888888888888, \"#fdca26\"], [1.0, \"#f0f921\"]], \"type\": \"heatmap\"}], \"heatmapgl\": [{\"colorbar\": {\"outlinewidth\": 0, \"ticks\": \"\"}, \"colorscale\": [[0.0, \"#0d0887\"], [0.1111111111111111, \"#46039f\"], [0.2222222222222222, \"#7201a8\"], [0.3333333333333333, \"#9c179e\"], [0.4444444444444444, \"#bd3786\"], [0.5555555555555556, \"#d8576b\"], [0.6666666666666666, \"#ed7953\"], [0.7777777777777778, \"#fb9f3a\"], [0.8888888888888888, \"#fdca26\"], [1.0, \"#f0f921\"]], \"type\": \"heatmapgl\"}], \"histogram\": [{\"marker\": {\"colorbar\": {\"outlinewidth\": 0, \"ticks\": \"\"}}, \"type\": \"histogram\"}], \"histogram2d\": [{\"colorbar\": {\"outlinewidth\": 0, \"ticks\": \"\"}, \"colorscale\": [[0.0, \"#0d0887\"], [0.1111111111111111, \"#46039f\"], [0.2222222222222222, \"#7201a8\"], [0.3333333333333333, \"#9c179e\"], [0.4444444444444444, \"#bd3786\"], [0.5555555555555556, \"#d8576b\"], [0.6666666666666666, \"#ed7953\"], [0.7777777777777778, \"#fb9f3a\"], [0.8888888888888888, \"#fdca26\"], [1.0, \"#f0f921\"]], \"type\": \"histogram2d\"}], \"histogram2dcontour\": [{\"colorbar\": {\"outlinewidth\": 0, \"ticks\": \"\"}, \"colorscale\": [[0.0, \"#0d0887\"], [0.1111111111111111, \"#46039f\"], [0.2222222222222222, \"#7201a8\"], [0.3333333333333333, \"#9c179e\"], [0.4444444444444444, \"#bd3786\"], [0.5555555555555556, \"#d8576b\"], [0.6666666666666666, \"#ed7953\"], [0.7777777777777778, \"#fb9f3a\"], [0.8888888888888888, \"#fdca26\"], [1.0, \"#f0f921\"]], \"type\": \"histogram2dcontour\"}], \"mesh3d\": [{\"colorbar\": {\"outlinewidth\": 0, \"ticks\": \"\"}, \"type\": \"mesh3d\"}], \"parcoords\": [{\"line\": {\"colorbar\": {\"outlinewidth\": 0, \"ticks\": \"\"}}, \"type\": \"parcoords\"}], \"pie\": [{\"automargin\": true, \"type\": \"pie\"}], \"scatter\": [{\"marker\": {\"colorbar\": {\"outlinewidth\": 0, \"ticks\": \"\"}}, \"type\": \"scatter\"}], \"scatter3d\": [{\"line\": {\"colorbar\": {\"outlinewidth\": 0, \"ticks\": \"\"}}, \"marker\": {\"colorbar\": {\"outlinewidth\": 0, \"ticks\": \"\"}}, \"type\": \"scatter3d\"}], \"scattercarpet\": [{\"marker\": {\"colorbar\": {\"outlinewidth\": 0, \"ticks\": \"\"}}, \"type\": \"scattercarpet\"}], \"scattergeo\": [{\"marker\": {\"colorbar\": {\"outlinewidth\": 0, \"ticks\": \"\"}}, \"type\": \"scattergeo\"}], \"scattergl\": [{\"marker\": {\"colorbar\": {\"outlinewidth\": 0, \"ticks\": \"\"}}, \"type\": \"scattergl\"}], \"scattermapbox\": [{\"marker\": {\"colorbar\": {\"outlinewidth\": 0, \"ticks\": \"\"}}, \"type\": \"scattermapbox\"}], \"scatterpolar\": [{\"marker\": {\"colorbar\": {\"outlinewidth\": 0, \"ticks\": \"\"}}, \"type\": \"scatterpolar\"}], \"scatterpolargl\": [{\"marker\": {\"colorbar\": {\"outlinewidth\": 0, \"ticks\": \"\"}}, \"type\": \"scatterpolargl\"}], \"scatterternary\": [{\"marker\": {\"colorbar\": {\"outlinewidth\": 0, \"ticks\": \"\"}}, \"type\": \"scatterternary\"}], \"surface\": [{\"colorbar\": {\"outlinewidth\": 0, \"ticks\": \"\"}, \"colorscale\": [[0.0, \"#0d0887\"], [0.1111111111111111, \"#46039f\"], [0.2222222222222222, \"#7201a8\"], [0.3333333333333333, \"#9c179e\"], [0.4444444444444444, \"#bd3786\"], [0.5555555555555556, \"#d8576b\"], [0.6666666666666666, \"#ed7953\"], [0.7777777777777778, \"#fb9f3a\"], [0.8888888888888888, \"#fdca26\"], [1.0, \"#f0f921\"]], \"type\": \"surface\"}], \"table\": [{\"cells\": {\"fill\": {\"color\": \"#EBF0F8\"}, \"line\": {\"color\": \"white\"}}, \"header\": {\"fill\": {\"color\": \"#C8D4E3\"}, \"line\": {\"color\": \"white\"}}, \"type\": \"table\"}]}, \"layout\": {\"annotationdefaults\": {\"arrowcolor\": \"#2a3f5f\", \"arrowhead\": 0, \"arrowwidth\": 1}, \"coloraxis\": {\"colorbar\": {\"outlinewidth\": 0, \"ticks\": \"\"}}, \"colorscale\": {\"diverging\": [[0, \"#8e0152\"], [0.1, \"#c51b7d\"], [0.2, \"#de77ae\"], [0.3, \"#f1b6da\"], [0.4, \"#fde0ef\"], [0.5, \"#f7f7f7\"], [0.6, \"#e6f5d0\"], [0.7, \"#b8e186\"], [0.8, \"#7fbc41\"], [0.9, \"#4d9221\"], [1, \"#276419\"]], \"sequential\": [[0.0, \"#0d0887\"], [0.1111111111111111, \"#46039f\"], [0.2222222222222222, \"#7201a8\"], [0.3333333333333333, \"#9c179e\"], [0.4444444444444444, \"#bd3786\"], [0.5555555555555556, \"#d8576b\"], [0.6666666666666666, \"#ed7953\"], [0.7777777777777778, \"#fb9f3a\"], [0.8888888888888888, \"#fdca26\"], [1.0, \"#f0f921\"]], \"sequentialminus\": [[0.0, \"#0d0887\"], [0.1111111111111111, \"#46039f\"], [0.2222222222222222, \"#7201a8\"], [0.3333333333333333, \"#9c179e\"], [0.4444444444444444, \"#bd3786\"], [0.5555555555555556, \"#d8576b\"], [0.6666666666666666, \"#ed7953\"], [0.7777777777777778, \"#fb9f3a\"], [0.8888888888888888, \"#fdca26\"], [1.0, \"#f0f921\"]]}, \"colorway\": [\"#636efa\", \"#EF553B\", \"#00cc96\", \"#ab63fa\", \"#FFA15A\", \"#19d3f3\", \"#FF6692\", \"#B6E880\", \"#FF97FF\", \"#FECB52\"], \"font\": {\"color\": \"#2a3f5f\"}, \"geo\": {\"bgcolor\": \"white\", \"lakecolor\": \"white\", \"landcolor\": \"#E5ECF6\", \"showlakes\": true, \"showland\": true, \"subunitcolor\": \"white\"}, \"hoverlabel\": {\"align\": \"left\"}, \"hovermode\": \"closest\", \"mapbox\": {\"style\": \"light\"}, \"paper_bgcolor\": \"white\", \"plot_bgcolor\": \"#E5ECF6\", \"polar\": {\"angularaxis\": {\"gridcolor\": \"white\", \"linecolor\": \"white\", \"ticks\": \"\"}, \"bgcolor\": \"#E5ECF6\", \"radialaxis\": {\"gridcolor\": \"white\", \"linecolor\": \"white\", \"ticks\": \"\"}}, \"scene\": {\"xaxis\": {\"backgroundcolor\": \"#E5ECF6\", \"gridcolor\": \"white\", \"gridwidth\": 2, \"linecolor\": \"white\", \"showbackground\": true, \"ticks\": \"\", \"zerolinecolor\": \"white\"}, \"yaxis\": {\"backgroundcolor\": \"#E5ECF6\", \"gridcolor\": \"white\", \"gridwidth\": 2, \"linecolor\": \"white\", \"showbackground\": true, \"ticks\": \"\", \"zerolinecolor\": \"white\"}, \"zaxis\": {\"backgroundcolor\": \"#E5ECF6\", \"gridcolor\": \"white\", \"gridwidth\": 2, \"linecolor\": \"white\", \"showbackground\": true, \"ticks\": \"\", \"zerolinecolor\": \"white\"}}, \"shapedefaults\": {\"line\": {\"color\": \"#2a3f5f\"}}, \"ternary\": {\"aaxis\": {\"gridcolor\": \"white\", \"linecolor\": \"white\", \"ticks\": \"\"}, \"baxis\": {\"gridcolor\": \"white\", \"linecolor\": \"white\", \"ticks\": \"\"}, \"bgcolor\": \"#E5ECF6\", \"caxis\": {\"gridcolor\": \"white\", \"linecolor\": \"white\", \"ticks\": \"\"}}, \"title\": {\"x\": 0.05}, \"xaxis\": {\"automargin\": true, \"gridcolor\": \"white\", \"linecolor\": \"white\", \"ticks\": \"\", \"title\": {\"standoff\": 15}, \"zerolinecolor\": \"white\", \"zerolinewidth\": 2}, \"yaxis\": {\"automargin\": true, \"gridcolor\": \"white\", \"linecolor\": \"white\", \"ticks\": \"\", \"title\": {\"standoff\": 15}, \"zerolinecolor\": \"white\", \"zerolinewidth\": 2}}}, \"title\": {\"text\": \"Average Temperature by Day\"}, \"xaxis\": {\"anchor\": \"y\", \"domain\": [0.0, 1.0], \"title\": {\"text\": \"Infection Day\"}}, \"yaxis\": {\"anchor\": \"x\", \"domain\": [0.0, 1.0], \"title\": {\"text\": \"TempAvg\"}}},\n",
       "                        {\"responsive\": true}\n",
       "                    ).then(function(){\n",
       "                            \n",
       "var gd = document.getElementById('0f87be78-bab0-44e8-a756-de781fdbd081');\n",
       "var x = new MutationObserver(function (mutations, observer) {{\n",
       "        var display = window.getComputedStyle(gd).display;\n",
       "        if (!display || display === 'none') {{\n",
       "            console.log([gd, 'removed!']);\n",
       "            Plotly.purge(gd);\n",
       "            observer.disconnect();\n",
       "        }}\n",
       "}});\n",
       "\n",
       "// Listen for the removal of the full notebook cells\n",
       "var notebookContainer = gd.closest('#notebook-container');\n",
       "if (notebookContainer) {{\n",
       "    x.observe(notebookContainer, {childList: true});\n",
       "}}\n",
       "\n",
       "// Listen for the clearing of the current output cell\n",
       "var outputEl = gd.closest('.output');\n",
       "if (outputEl) {{\n",
       "    x.observe(outputEl, {childList: true});\n",
       "}}\n",
       "\n",
       "                        })\n",
       "                };\n",
       "                });\n",
       "            </script>\n",
       "        </div>"
      ]
     },
     "metadata": {},
     "output_type": "display_data"
    }
   ],
   "source": [
    "# PLot the Temperature Avg by day\n",
    "px.line(covid_weather, x='Infection Day', y='TempAvg', color='Province/State',\n",
    "       title='Average Temperature by Day')"
   ]
  },
  {
   "cell_type": "markdown",
   "metadata": {},
   "source": [
    "Now it's time to begin to explore the relationship between the temperature and the number of new cases. Fig. _\"New Infections vs Temperature\"_ (below) shows that the greatest number of infections occurs in cities with a mean temperature between $40$ and $60^o F$. This is the case of New York, Madrid, and Lombardia with a median temperature of $47.5^o F$, $50.5^o F$ and $47.75^o F$ respectively.     \n",
    "Note that for temperatures over $65^o F$ the numbers of infections seems to be very low in comparison with the other regions with lowest temperatures. Also, as we advertise previously, Quebec is the province with the lowest temperature, and also seems to has a low number of new infections in comparison with the regions with temperatures between $40$ and $60^o F$.\n",
    "> Given this graph, we can hypothesize that if the temperature has an impact on the spread of the Coronavirus, then:\n",
    "1. The spread is reduced significatively when the temperature is over $\\approx 65^o F$.\n",
    "2. It's more probable to have more infections when the temperature varies between $40$ and $60^o F$ approximately.\n",
    "3. For temperatures under the $\\approx 35^o F$, the spread seems to be less than when the temperature is between $40$ and $60^o F$ but greater than regions with temperatures over $65^o F$. In resume, the cold seems to be a factor that impacts the spread of the virus but less than hight temperatures."
   ]
  },
  {
   "cell_type": "code",
   "execution_count": 164,
   "metadata": {},
   "outputs": [
    {
     "data": {
      "application/vnd.plotly.v1+json": {
       "config": {
        "plotlyServerURL": "https://plot.ly"
       },
       "data": [
        {
         "hoverlabel": {
          "namelength": 0
         },
         "hovertemplate": "Province/State=New York<br>TempAvg=%{x}<br>Confirmed=%{y}",
         "legendgroup": "Province/State=New York",
         "marker": {
          "color": "#636efa",
          "symbol": "circle"
         },
         "mode": "markers",
         "name": "Province/State=New York",
         "showlegend": true,
         "type": "scatter",
         "x": [
          48.2,
          52.4,
          50.5,
          44.8,
          41.6,
          41,
          47.8,
          59.3,
          61,
          50.4,
          44.7,
          54.6,
          48.9,
          46.8,
          39.3,
          47.5,
          47.6,
          46.2,
          56,
          48.5,
          38.4,
          39.2,
          44,
          42.8,
          47
         ],
         "xaxis": "x",
         "y": [
          173,
          47,
          108,
          93,
          104,
          207,
          235,
          739,
          789,
          2870,
          2945,
          3400,
          4090,
          5084,
          4797,
          5160,
          7036,
          6999,
          7534,
          7238,
          7015,
          9170,
          8115,
          8558,
          10481
         ],
         "yaxis": "y"
        },
        {
         "alignmentgroup": "True",
         "hoverlabel": {
          "namelength": 0
         },
         "hovertemplate": "Province/State=New York<br>TempAvg=%{x}",
         "legendgroup": "Province/State=New York",
         "marker": {
          "color": "#636efa",
          "symbol": "circle"
         },
         "name": "Province/State=New York",
         "notched": true,
         "offsetgroup": "Province/State=New York",
         "showlegend": false,
         "type": "box",
         "x": [
          48.2,
          52.4,
          50.5,
          44.8,
          41.6,
          41,
          47.8,
          59.3,
          61,
          50.4,
          44.7,
          54.6,
          48.9,
          46.8,
          39.3,
          47.5,
          47.6,
          46.2,
          56,
          48.5,
          38.4,
          39.2,
          44,
          42.8,
          47
         ],
         "xaxis": "x2",
         "yaxis": "y2"
        },
        {
         "hoverlabel": {
          "namelength": 0
         },
         "hovertemplate": "Province/State=New York",
         "legendgroup": "Province/State=New York",
         "marker": {
          "color": "#636efa",
          "symbol": "circle"
         },
         "mode": "lines",
         "name": "Province/State=New York",
         "showlegend": false,
         "type": "scatter",
         "xaxis": "x",
         "yaxis": "y"
        },
        {
         "hoverlabel": {
          "namelength": 0
         },
         "hovertemplate": "Province/State=Madrid<br>TempAvg=%{x}<br>Confirmed=%{y}",
         "legendgroup": "Province/State=Madrid",
         "marker": {
          "color": "#EF553B",
          "symbol": "circle"
         },
         "mode": "markers",
         "name": "Province/State=Madrid",
         "showlegend": true,
         "type": "scatter",
         "x": [
          45.2,
          45.4,
          43.5,
          41.7,
          52.1,
          53.7,
          51.1,
          54.2,
          56.9,
          53.3,
          52,
          50.2,
          45.9,
          41.2,
          44.4,
          44,
          46.7,
          48.1,
          46.4,
          49.5,
          52.1,
          47.5,
          45.7,
          48.7,
          47.4,
          46.3,
          45.6,
          44.4,
          48,
          48.6,
          50.5,
          50.5,
          49,
          52.4,
          52.9,
          51,
          51.1,
          52.6,
          51.8,
          51.3,
          58.3,
          55,
          49.1,
          46.9,
          47.1,
          53.8,
          54.4,
          58.6,
          60.3,
          60.4,
          59.3,
          54.9,
          45.1,
          50.8,
          54.3,
          54.9,
          52.9,
          48.2,
          48.5,
          50.4,
          53.4,
          53,
          48.2
         ],
         "xaxis": "x",
         "y": [
          1,
          0,
          0,
          0,
          0,
          0,
          0,
          0,
          1,
          0,
          0,
          0,
          0,
          0,
          0,
          0,
          0,
          0,
          0,
          0,
          0,
          0,
          0,
          0,
          4,
          7,
          2,
          17,
          13,
          39,
          36,
          45,
          57,
          37,
          141,
          100,
          173,
          400,
          622,
          582,
          0,
          2955,
          1159,
          1407,
          2144,
          1806,
          2162,
          4053,
          2447,
          4964,
          3229,
          6533,
          4749,
          9630,
          8271,
          7933,
          7516,
          6875,
          7846,
          7967,
          8195,
          7947,
          7134
         ],
         "yaxis": "y"
        },
        {
         "alignmentgroup": "True",
         "hoverlabel": {
          "namelength": 0
         },
         "hovertemplate": "Province/State=Madrid<br>TempAvg=%{x}",
         "legendgroup": "Province/State=Madrid",
         "marker": {
          "color": "#EF553B",
          "symbol": "circle"
         },
         "name": "Province/State=Madrid",
         "notched": true,
         "offsetgroup": "Province/State=Madrid",
         "showlegend": false,
         "type": "box",
         "x": [
          45.2,
          45.4,
          43.5,
          41.7,
          52.1,
          53.7,
          51.1,
          54.2,
          56.9,
          53.3,
          52,
          50.2,
          45.9,
          41.2,
          44.4,
          44,
          46.7,
          48.1,
          46.4,
          49.5,
          52.1,
          47.5,
          45.7,
          48.7,
          47.4,
          46.3,
          45.6,
          44.4,
          48,
          48.6,
          50.5,
          50.5,
          49,
          52.4,
          52.9,
          51,
          51.1,
          52.6,
          51.8,
          51.3,
          58.3,
          55,
          49.1,
          46.9,
          47.1,
          53.8,
          54.4,
          58.6,
          60.3,
          60.4,
          59.3,
          54.9,
          45.1,
          50.8,
          54.3,
          54.9,
          52.9,
          48.2,
          48.5,
          50.4,
          53.4,
          53,
          48.2
         ],
         "xaxis": "x2",
         "yaxis": "y2"
        },
        {
         "hoverlabel": {
          "namelength": 0
         },
         "hovertemplate": "Province/State=Madrid",
         "legendgroup": "Province/State=Madrid",
         "marker": {
          "color": "#EF553B",
          "symbol": "circle"
         },
         "mode": "lines",
         "name": "Province/State=Madrid",
         "showlegend": false,
         "type": "scatter",
         "xaxis": "x",
         "yaxis": "y"
        },
        {
         "hoverlabel": {
          "namelength": 0
         },
         "hovertemplate": "Province/State=Quebec<br>TempAvg=%{x}<br>Confirmed=%{y}",
         "legendgroup": "Province/State=Quebec",
         "marker": {
          "color": "#00cc96",
          "symbol": "circle"
         },
         "mode": "markers",
         "name": "Province/State=Quebec",
         "showlegend": true,
         "type": "scatter",
         "x": [
          15.3,
          19.2,
          31.7,
          32.8,
          29,
          25.5,
          19.5,
          28.7,
          22.4,
          26.6,
          21.6,
          19.6,
          31.9,
          31.1,
          20.4,
          15.7,
          29.4,
          25.4,
          30.6,
          36.1,
          21.1,
          14,
          24.5,
          32.2,
          31.8,
          34.1
         ],
         "xaxis": "x",
         "y": [
          3,
          1,
          4,
          1,
          8,
          0,
          7,
          26,
          24,
          20,
          27,
          18,
          42,
          38,
          409,
          385,
          329,
          290,
          392,
          474,
          342,
          590,
          732,
          449,
          907,
          583
         ],
         "yaxis": "y"
        },
        {
         "alignmentgroup": "True",
         "hoverlabel": {
          "namelength": 0
         },
         "hovertemplate": "Province/State=Quebec<br>TempAvg=%{x}",
         "legendgroup": "Province/State=Quebec",
         "marker": {
          "color": "#00cc96",
          "symbol": "circle"
         },
         "name": "Province/State=Quebec",
         "notched": true,
         "offsetgroup": "Province/State=Quebec",
         "showlegend": false,
         "type": "box",
         "x": [
          15.3,
          19.2,
          31.7,
          32.8,
          29,
          25.5,
          19.5,
          28.7,
          22.4,
          26.6,
          21.6,
          19.6,
          31.9,
          31.1,
          20.4,
          15.7,
          29.4,
          25.4,
          30.6,
          36.1,
          21.1,
          14,
          24.5,
          32.2,
          31.8,
          34.1
         ],
         "xaxis": "x2",
         "yaxis": "y2"
        },
        {
         "hoverlabel": {
          "namelength": 0
         },
         "hovertemplate": "Province/State=Quebec",
         "legendgroup": "Province/State=Quebec",
         "marker": {
          "color": "#00cc96",
          "symbol": "circle"
         },
         "mode": "lines",
         "name": "Province/State=Quebec",
         "showlegend": false,
         "type": "scatter",
         "xaxis": "x",
         "yaxis": "y"
        },
        {
         "hoverlabel": {
          "namelength": 0
         },
         "hovertemplate": "Province/State=Lombardia<br>TempAvg=%{x}<br>Confirmed=%{y}",
         "legendgroup": "Province/State=Lombardia",
         "marker": {
          "color": "#ab63fa",
          "symbol": "circle"
         },
         "mode": "markers",
         "name": "Province/State=Lombardia",
         "showlegend": true,
         "type": "scatter",
         "x": [
          46.2,
          49.3,
          50,
          46.9,
          45.2,
          45.9,
          46.6,
          50.2,
          55.4,
          52.1,
          49.1,
          45.8,
          49.8,
          44.7,
          44.2,
          40.8,
          46.6,
          45.5,
          43.9,
          43.7,
          48.1,
          47.4,
          45.6,
          49.5,
          53.8,
          52.5,
          58.9,
          51.2,
          47.1,
          48.1,
          49.5,
          52.4,
          55.4,
          54.1,
          55,
          53.3,
          43.3,
          42.9,
          42.4,
          40.7
         ],
         "xaxis": "x",
         "y": [
          172,
          68,
          18,
          145,
          128,
          84,
          369,
          270,
          266,
          300,
          431,
          361,
          808,
          769,
          1280,
          322,
          1489,
          1445,
          1095,
          1865,
          1587,
          1377,
          1571,
          1493,
          2171,
          2380,
          3251,
          1691,
          1555,
          1942,
          1643,
          2543,
          2409,
          2117,
          1592,
          1154,
          1047,
          1565,
          1292,
          1455
         ],
         "yaxis": "y"
        },
        {
         "alignmentgroup": "True",
         "hoverlabel": {
          "namelength": 0
         },
         "hovertemplate": "Province/State=Lombardia<br>TempAvg=%{x}",
         "legendgroup": "Province/State=Lombardia",
         "marker": {
          "color": "#ab63fa",
          "symbol": "circle"
         },
         "name": "Province/State=Lombardia",
         "notched": true,
         "offsetgroup": "Province/State=Lombardia",
         "showlegend": false,
         "type": "box",
         "x": [
          46.2,
          49.3,
          50,
          46.9,
          45.2,
          45.9,
          46.6,
          50.2,
          55.4,
          52.1,
          49.1,
          45.8,
          49.8,
          44.7,
          44.2,
          40.8,
          46.6,
          45.5,
          43.9,
          43.7,
          48.1,
          47.4,
          45.6,
          49.5,
          53.8,
          52.5,
          58.9,
          51.2,
          47.1,
          48.1,
          49.5,
          52.4,
          55.4,
          54.1,
          55,
          53.3,
          43.3,
          42.9,
          42.4,
          40.7
         ],
         "xaxis": "x2",
         "yaxis": "y2"
        },
        {
         "hoverlabel": {
          "namelength": 0
         },
         "hovertemplate": "Province/State=Lombardia",
         "legendgroup": "Province/State=Lombardia",
         "marker": {
          "color": "#ab63fa",
          "symbol": "circle"
         },
         "mode": "lines",
         "name": "Province/State=Lombardia",
         "showlegend": false,
         "type": "scatter",
         "xaxis": "x",
         "yaxis": "y"
        },
        {
         "hoverlabel": {
          "namelength": 0
         },
         "hovertemplate": "Province/State=Vienna<br>TempAvg=%{x}<br>Confirmed=%{y}",
         "legendgroup": "Province/State=Vienna",
         "marker": {
          "color": "#FFA15A",
          "symbol": "circle"
         },
         "mode": "markers",
         "name": "Province/State=Vienna",
         "showlegend": true,
         "type": "scatter",
         "x": [
          45,
          48.6,
          41.6,
          43,
          40.9,
          41.9,
          57.5,
          46.8,
          49.5,
          45,
          41.4,
          39.6,
          41,
          42.8,
          49.9,
          46,
          43.8,
          42.1,
          44.7,
          44.8,
          42.7,
          40.8,
          49.1,
          57.6,
          59.3,
          49.8,
          44.3,
          37.9,
          44.3,
          44.8,
          52.3,
          52.6,
          54.5,
          43.1,
          33.8,
          32.7,
          34.9,
          32.3,
          39.5
         ],
         "xaxis": "x",
         "y": [
          2,
          0,
          1,
          0,
          6,
          5,
          4,
          3,
          8,
          12,
          14,
          24,
          25,
          27,
          51,
          64,
          56,
          202,
          151,
          205,
          158,
          314,
          314,
          367,
          375,
          426,
          766,
          894,
          809,
          305,
          1321,
          748,
          614,
          517,
          830,
          562,
          531,
          418,
          395
         ],
         "yaxis": "y"
        },
        {
         "alignmentgroup": "True",
         "hoverlabel": {
          "namelength": 0
         },
         "hovertemplate": "Province/State=Vienna<br>TempAvg=%{x}",
         "legendgroup": "Province/State=Vienna",
         "marker": {
          "color": "#FFA15A",
          "symbol": "circle"
         },
         "name": "Province/State=Vienna",
         "notched": true,
         "offsetgroup": "Province/State=Vienna",
         "showlegend": false,
         "type": "box",
         "x": [
          45,
          48.6,
          41.6,
          43,
          40.9,
          41.9,
          57.5,
          46.8,
          49.5,
          45,
          41.4,
          39.6,
          41,
          42.8,
          49.9,
          46,
          43.8,
          42.1,
          44.7,
          44.8,
          42.7,
          40.8,
          49.1,
          57.6,
          59.3,
          49.8,
          44.3,
          37.9,
          44.3,
          44.8,
          52.3,
          52.6,
          54.5,
          43.1,
          33.8,
          32.7,
          34.9,
          32.3,
          39.5
         ],
         "xaxis": "x2",
         "yaxis": "y2"
        },
        {
         "hoverlabel": {
          "namelength": 0
         },
         "hovertemplate": "Province/State=Vienna",
         "legendgroup": "Province/State=Vienna",
         "marker": {
          "color": "#FFA15A",
          "symbol": "circle"
         },
         "mode": "lines",
         "name": "Province/State=Vienna",
         "showlegend": false,
         "type": "scatter",
         "xaxis": "x",
         "yaxis": "y"
        },
        {
         "hoverlabel": {
          "namelength": 0
         },
         "hovertemplate": "Province/State=Stockholm<br>TempAvg=%{x}<br>Confirmed=%{y}",
         "legendgroup": "Province/State=Stockholm",
         "marker": {
          "color": "#19d3f3",
          "symbol": "circle"
         },
         "mode": "markers",
         "name": "Province/State=Stockholm",
         "showlegend": true,
         "type": "scatter",
         "x": [
          34,
          41.9,
          36.1,
          43.3,
          40.7,
          38.5,
          38,
          34.7,
          36.7,
          42.4,
          39.3,
          30.1,
          27.3,
          32.8,
          32,
          30.1,
          36.8,
          40.3,
          43,
          38.7,
          37.3,
          33.4,
          29.8,
          38.5,
          44.5,
          43.2,
          44.3,
          39.3,
          34.1,
          42.7,
          43.2,
          41.3,
          34.1,
          32.5,
          32.5,
          29.7,
          29.9,
          34.2,
          39,
          39.7,
          38.7,
          35.8,
          34.7,
          33.9,
          34.2,
          39.3,
          44,
          40.7,
          40.7,
          38.9,
          35.6,
          29.8,
          38.2,
          39.1,
          41.2,
          43.4,
          41.6,
          34.5,
          31.2,
          30.5,
          36,
          39.5,
          45,
          43.2
         ],
         "xaxis": "x",
         "y": [
          1,
          0,
          0,
          0,
          0,
          0,
          0,
          0,
          0,
          0,
          0,
          0,
          0,
          0,
          0,
          0,
          0,
          0,
          0,
          0,
          0,
          0,
          0,
          0,
          0,
          0,
          1,
          5,
          0,
          5,
          2,
          1,
          6,
          14,
          59,
          7,
          60,
          42,
          45,
          107,
          145,
          99,
          215,
          147,
          61,
          81,
          87,
          89,
          160,
          200,
          124,
          168,
          115,
          240,
          240,
          314,
          229,
          378,
          253,
          328,
          407,
          512,
          621,
          563
         ],
         "yaxis": "y"
        },
        {
         "alignmentgroup": "True",
         "hoverlabel": {
          "namelength": 0
         },
         "hovertemplate": "Province/State=Stockholm<br>TempAvg=%{x}",
         "legendgroup": "Province/State=Stockholm",
         "marker": {
          "color": "#19d3f3",
          "symbol": "circle"
         },
         "name": "Province/State=Stockholm",
         "notched": true,
         "offsetgroup": "Province/State=Stockholm",
         "showlegend": false,
         "type": "box",
         "x": [
          34,
          41.9,
          36.1,
          43.3,
          40.7,
          38.5,
          38,
          34.7,
          36.7,
          42.4,
          39.3,
          30.1,
          27.3,
          32.8,
          32,
          30.1,
          36.8,
          40.3,
          43,
          38.7,
          37.3,
          33.4,
          29.8,
          38.5,
          44.5,
          43.2,
          44.3,
          39.3,
          34.1,
          42.7,
          43.2,
          41.3,
          34.1,
          32.5,
          32.5,
          29.7,
          29.9,
          34.2,
          39,
          39.7,
          38.7,
          35.8,
          34.7,
          33.9,
          34.2,
          39.3,
          44,
          40.7,
          40.7,
          38.9,
          35.6,
          29.8,
          38.2,
          39.1,
          41.2,
          43.4,
          41.6,
          34.5,
          31.2,
          30.5,
          36,
          39.5,
          45,
          43.2
         ],
         "xaxis": "x2",
         "yaxis": "y2"
        },
        {
         "hoverlabel": {
          "namelength": 0
         },
         "hovertemplate": "Province/State=Stockholm",
         "legendgroup": "Province/State=Stockholm",
         "marker": {
          "color": "#19d3f3",
          "symbol": "circle"
         },
         "mode": "lines",
         "name": "Province/State=Stockholm",
         "showlegend": false,
         "type": "scatter",
         "xaxis": "x",
         "yaxis": "y"
        },
        {
         "hoverlabel": {
          "namelength": 0
         },
         "hovertemplate": "Province/State=Doha<br>TempAvg=%{x}<br>Confirmed=%{y}",
         "legendgroup": "Province/State=Doha",
         "marker": {
          "color": "#FF6692",
          "symbol": "circle"
         },
         "mode": "markers",
         "name": "Province/State=Doha",
         "showlegend": true,
         "type": "scatter",
         "x": [
          69.5,
          68.2,
          70.8,
          74.1,
          75.6,
          71.8,
          67.8,
          68.6,
          67.9,
          69,
          69.8,
          68.8,
          68.4,
          69.3,
          68.6,
          69.9,
          72.6,
          71.5,
          68,
          71.4,
          70.2,
          70.9,
          74.8,
          76.6,
          76.1,
          74.7,
          76.6,
          78.1,
          75.6,
          75.5,
          75.3,
          71,
          70.9,
          71.8,
          72.3
         ],
         "xaxis": "x",
         "y": [
          1,
          2,
          0,
          4,
          1,
          0,
          0,
          0,
          7,
          3,
          6,
          238,
          0,
          58,
          17,
          64,
          38,
          0,
          13,
          8,
          10,
          11,
          13,
          7,
          25,
          11,
          12,
          13,
          28,
          44,
          59,
          88,
          54,
          114,
          126
         ],
         "yaxis": "y"
        },
        {
         "alignmentgroup": "True",
         "hoverlabel": {
          "namelength": 0
         },
         "hovertemplate": "Province/State=Doha<br>TempAvg=%{x}",
         "legendgroup": "Province/State=Doha",
         "marker": {
          "color": "#FF6692",
          "symbol": "circle"
         },
         "name": "Province/State=Doha",
         "notched": true,
         "offsetgroup": "Province/State=Doha",
         "showlegend": false,
         "type": "box",
         "x": [
          69.5,
          68.2,
          70.8,
          74.1,
          75.6,
          71.8,
          67.8,
          68.6,
          67.9,
          69,
          69.8,
          68.8,
          68.4,
          69.3,
          68.6,
          69.9,
          72.6,
          71.5,
          68,
          71.4,
          70.2,
          70.9,
          74.8,
          76.6,
          76.1,
          74.7,
          76.6,
          78.1,
          75.6,
          75.5,
          75.3,
          71,
          70.9,
          71.8,
          72.3
         ],
         "xaxis": "x2",
         "yaxis": "y2"
        },
        {
         "hoverlabel": {
          "namelength": 0
         },
         "hovertemplate": "Province/State=Doha",
         "legendgroup": "Province/State=Doha",
         "marker": {
          "color": "#FF6692",
          "symbol": "circle"
         },
         "mode": "lines",
         "name": "Province/State=Doha",
         "showlegend": false,
         "type": "scatter",
         "xaxis": "x",
         "yaxis": "y"
        },
        {
         "hoverlabel": {
          "namelength": 0
         },
         "hovertemplate": "Province/State=Dubai<br>TempAvg=%{x}<br>Confirmed=%{y}",
         "legendgroup": "Province/State=Dubai",
         "marker": {
          "color": "#B6E880",
          "symbol": "circle"
         },
         "mode": "markers",
         "name": "Province/State=Dubai",
         "showlegend": true,
         "type": "scatter",
         "x": [
          68.7,
          69.8,
          73.2,
          69,
          67.4,
          65.2,
          65.2,
          65,
          67.3,
          67.3,
          65.3,
          67,
          67.7,
          66.9,
          67.5,
          65.9,
          68,
          69.3,
          72.4,
          75,
          74.8,
          71.8,
          65.1,
          64.4,
          65.7,
          66.4,
          71.9,
          75.3,
          73.9,
          75.6,
          77.4,
          75.3,
          76.7,
          77.8,
          80,
          81.7,
          79.2,
          71.1,
          70.5,
          72.5,
          72.5,
          75.3,
          71.7,
          70.6,
          71.6,
          73.4,
          75.4,
          76.3,
          73,
          74.8,
          72.8,
          71.9,
          74.6,
          79.4,
          81,
          77.7,
          77.8,
          80.5,
          83.3,
          83.2,
          75.7,
          76,
          72.5,
          70.6,
          70.7,
          73.9
         ],
         "xaxis": "x",
         "y": [
          4,
          0,
          0,
          0,
          1,
          0,
          0,
          0,
          0,
          0,
          2,
          0,
          1,
          0,
          0,
          0,
          0,
          0,
          1,
          0,
          0,
          0,
          0,
          0,
          4,
          0,
          0,
          0,
          0,
          0,
          6,
          2,
          0,
          0,
          6,
          0,
          2,
          0,
          16,
          0,
          0,
          29,
          0,
          11,
          0,
          0,
          13,
          0,
          0,
          15,
          27,
          0,
          13,
          0,
          45,
          50,
          85,
          0,
          72,
          63,
          102,
          41,
          53,
          150,
          210,
          240
         ],
         "yaxis": "y"
        },
        {
         "alignmentgroup": "True",
         "hoverlabel": {
          "namelength": 0
         },
         "hovertemplate": "Province/State=Dubai<br>TempAvg=%{x}",
         "legendgroup": "Province/State=Dubai",
         "marker": {
          "color": "#B6E880",
          "symbol": "circle"
         },
         "name": "Province/State=Dubai",
         "notched": true,
         "offsetgroup": "Province/State=Dubai",
         "showlegend": false,
         "type": "box",
         "x": [
          68.7,
          69.8,
          73.2,
          69,
          67.4,
          65.2,
          65.2,
          65,
          67.3,
          67.3,
          65.3,
          67,
          67.7,
          66.9,
          67.5,
          65.9,
          68,
          69.3,
          72.4,
          75,
          74.8,
          71.8,
          65.1,
          64.4,
          65.7,
          66.4,
          71.9,
          75.3,
          73.9,
          75.6,
          77.4,
          75.3,
          76.7,
          77.8,
          80,
          81.7,
          79.2,
          71.1,
          70.5,
          72.5,
          72.5,
          75.3,
          71.7,
          70.6,
          71.6,
          73.4,
          75.4,
          76.3,
          73,
          74.8,
          72.8,
          71.9,
          74.6,
          79.4,
          81,
          77.7,
          77.8,
          80.5,
          83.3,
          83.2,
          75.7,
          76,
          72.5,
          70.6,
          70.7,
          73.9
         ],
         "xaxis": "x2",
         "yaxis": "y2"
        },
        {
         "hoverlabel": {
          "namelength": 0
         },
         "hovertemplate": "Province/State=Dubai",
         "legendgroup": "Province/State=Dubai",
         "marker": {
          "color": "#B6E880",
          "symbol": "circle"
         },
         "mode": "lines",
         "name": "Province/State=Dubai",
         "showlegend": false,
         "type": "scatter",
         "xaxis": "x",
         "yaxis": "y"
        },
        {
         "hoverlabel": {
          "namelength": 0
         },
         "hovertemplate": "Province/State=Dakar<br>TempAvg=%{x}<br>Confirmed=%{y}",
         "legendgroup": "Province/State=Dakar",
         "marker": {
          "color": "#FF97FF",
          "symbol": "circle"
         },
         "mode": "markers",
         "name": "Province/State=Dakar",
         "showlegend": true,
         "type": "scatter",
         "x": [
          72.2,
          74.2,
          86.9,
          80.7,
          78,
          75.4,
          73.9,
          74.3,
          76.1,
          80.2,
          75.3,
          74.7,
          74.9,
          75.8,
          75.5,
          75.5,
          77.8,
          76.1,
          77.2,
          76.4,
          75,
          74.2,
          74.2,
          72.3,
          73.1,
          72.6,
          73.1,
          74.1,
          72.3,
          70.8,
          68.5,
          68.3,
          69.9
         ],
         "xaxis": "x",
         "y": [
          1,
          1,
          2,
          0,
          0,
          0,
          0,
          0,
          0,
          0,
          0,
          6,
          0,
          14,
          0,
          2,
          5,
          0,
          7,
          9,
          20,
          12,
          7,
          13,
          6,
          14,
          11,
          12,
          20,
          13,
          15,
          5,
          12
         ],
         "yaxis": "y"
        },
        {
         "alignmentgroup": "True",
         "hoverlabel": {
          "namelength": 0
         },
         "hovertemplate": "Province/State=Dakar<br>TempAvg=%{x}",
         "legendgroup": "Province/State=Dakar",
         "marker": {
          "color": "#FF97FF",
          "symbol": "circle"
         },
         "name": "Province/State=Dakar",
         "notched": true,
         "offsetgroup": "Province/State=Dakar",
         "showlegend": false,
         "type": "box",
         "x": [
          72.2,
          74.2,
          86.9,
          80.7,
          78,
          75.4,
          73.9,
          74.3,
          76.1,
          80.2,
          75.3,
          74.7,
          74.9,
          75.8,
          75.5,
          75.5,
          77.8,
          76.1,
          77.2,
          76.4,
          75,
          74.2,
          74.2,
          72.3,
          73.1,
          72.6,
          73.1,
          74.1,
          72.3,
          70.8,
          68.5,
          68.3,
          69.9
         ],
         "xaxis": "x2",
         "yaxis": "y2"
        },
        {
         "hoverlabel": {
          "namelength": 0
         },
         "hovertemplate": "Province/State=Dakar",
         "legendgroup": "Province/State=Dakar",
         "marker": {
          "color": "#FF97FF",
          "symbol": "circle"
         },
         "mode": "lines",
         "name": "Province/State=Dakar",
         "showlegend": false,
         "type": "scatter",
         "xaxis": "x",
         "yaxis": "y"
        }
       ],
       "layout": {
        "height": 600,
        "legend": {
         "tracegroupgap": 0
        },
        "template": {
         "data": {
          "bar": [
           {
            "error_x": {
             "color": "#2a3f5f"
            },
            "error_y": {
             "color": "#2a3f5f"
            },
            "marker": {
             "line": {
              "color": "#E5ECF6",
              "width": 0.5
             }
            },
            "type": "bar"
           }
          ],
          "barpolar": [
           {
            "marker": {
             "line": {
              "color": "#E5ECF6",
              "width": 0.5
             }
            },
            "type": "barpolar"
           }
          ],
          "carpet": [
           {
            "aaxis": {
             "endlinecolor": "#2a3f5f",
             "gridcolor": "white",
             "linecolor": "white",
             "minorgridcolor": "white",
             "startlinecolor": "#2a3f5f"
            },
            "baxis": {
             "endlinecolor": "#2a3f5f",
             "gridcolor": "white",
             "linecolor": "white",
             "minorgridcolor": "white",
             "startlinecolor": "#2a3f5f"
            },
            "type": "carpet"
           }
          ],
          "choropleth": [
           {
            "colorbar": {
             "outlinewidth": 0,
             "ticks": ""
            },
            "type": "choropleth"
           }
          ],
          "contour": [
           {
            "colorbar": {
             "outlinewidth": 0,
             "ticks": ""
            },
            "colorscale": [
             [
              0,
              "#0d0887"
             ],
             [
              0.1111111111111111,
              "#46039f"
             ],
             [
              0.2222222222222222,
              "#7201a8"
             ],
             [
              0.3333333333333333,
              "#9c179e"
             ],
             [
              0.4444444444444444,
              "#bd3786"
             ],
             [
              0.5555555555555556,
              "#d8576b"
             ],
             [
              0.6666666666666666,
              "#ed7953"
             ],
             [
              0.7777777777777778,
              "#fb9f3a"
             ],
             [
              0.8888888888888888,
              "#fdca26"
             ],
             [
              1,
              "#f0f921"
             ]
            ],
            "type": "contour"
           }
          ],
          "contourcarpet": [
           {
            "colorbar": {
             "outlinewidth": 0,
             "ticks": ""
            },
            "type": "contourcarpet"
           }
          ],
          "heatmap": [
           {
            "colorbar": {
             "outlinewidth": 0,
             "ticks": ""
            },
            "colorscale": [
             [
              0,
              "#0d0887"
             ],
             [
              0.1111111111111111,
              "#46039f"
             ],
             [
              0.2222222222222222,
              "#7201a8"
             ],
             [
              0.3333333333333333,
              "#9c179e"
             ],
             [
              0.4444444444444444,
              "#bd3786"
             ],
             [
              0.5555555555555556,
              "#d8576b"
             ],
             [
              0.6666666666666666,
              "#ed7953"
             ],
             [
              0.7777777777777778,
              "#fb9f3a"
             ],
             [
              0.8888888888888888,
              "#fdca26"
             ],
             [
              1,
              "#f0f921"
             ]
            ],
            "type": "heatmap"
           }
          ],
          "heatmapgl": [
           {
            "colorbar": {
             "outlinewidth": 0,
             "ticks": ""
            },
            "colorscale": [
             [
              0,
              "#0d0887"
             ],
             [
              0.1111111111111111,
              "#46039f"
             ],
             [
              0.2222222222222222,
              "#7201a8"
             ],
             [
              0.3333333333333333,
              "#9c179e"
             ],
             [
              0.4444444444444444,
              "#bd3786"
             ],
             [
              0.5555555555555556,
              "#d8576b"
             ],
             [
              0.6666666666666666,
              "#ed7953"
             ],
             [
              0.7777777777777778,
              "#fb9f3a"
             ],
             [
              0.8888888888888888,
              "#fdca26"
             ],
             [
              1,
              "#f0f921"
             ]
            ],
            "type": "heatmapgl"
           }
          ],
          "histogram": [
           {
            "marker": {
             "colorbar": {
              "outlinewidth": 0,
              "ticks": ""
             }
            },
            "type": "histogram"
           }
          ],
          "histogram2d": [
           {
            "colorbar": {
             "outlinewidth": 0,
             "ticks": ""
            },
            "colorscale": [
             [
              0,
              "#0d0887"
             ],
             [
              0.1111111111111111,
              "#46039f"
             ],
             [
              0.2222222222222222,
              "#7201a8"
             ],
             [
              0.3333333333333333,
              "#9c179e"
             ],
             [
              0.4444444444444444,
              "#bd3786"
             ],
             [
              0.5555555555555556,
              "#d8576b"
             ],
             [
              0.6666666666666666,
              "#ed7953"
             ],
             [
              0.7777777777777778,
              "#fb9f3a"
             ],
             [
              0.8888888888888888,
              "#fdca26"
             ],
             [
              1,
              "#f0f921"
             ]
            ],
            "type": "histogram2d"
           }
          ],
          "histogram2dcontour": [
           {
            "colorbar": {
             "outlinewidth": 0,
             "ticks": ""
            },
            "colorscale": [
             [
              0,
              "#0d0887"
             ],
             [
              0.1111111111111111,
              "#46039f"
             ],
             [
              0.2222222222222222,
              "#7201a8"
             ],
             [
              0.3333333333333333,
              "#9c179e"
             ],
             [
              0.4444444444444444,
              "#bd3786"
             ],
             [
              0.5555555555555556,
              "#d8576b"
             ],
             [
              0.6666666666666666,
              "#ed7953"
             ],
             [
              0.7777777777777778,
              "#fb9f3a"
             ],
             [
              0.8888888888888888,
              "#fdca26"
             ],
             [
              1,
              "#f0f921"
             ]
            ],
            "type": "histogram2dcontour"
           }
          ],
          "mesh3d": [
           {
            "colorbar": {
             "outlinewidth": 0,
             "ticks": ""
            },
            "type": "mesh3d"
           }
          ],
          "parcoords": [
           {
            "line": {
             "colorbar": {
              "outlinewidth": 0,
              "ticks": ""
             }
            },
            "type": "parcoords"
           }
          ],
          "pie": [
           {
            "automargin": true,
            "type": "pie"
           }
          ],
          "scatter": [
           {
            "marker": {
             "colorbar": {
              "outlinewidth": 0,
              "ticks": ""
             }
            },
            "type": "scatter"
           }
          ],
          "scatter3d": [
           {
            "line": {
             "colorbar": {
              "outlinewidth": 0,
              "ticks": ""
             }
            },
            "marker": {
             "colorbar": {
              "outlinewidth": 0,
              "ticks": ""
             }
            },
            "type": "scatter3d"
           }
          ],
          "scattercarpet": [
           {
            "marker": {
             "colorbar": {
              "outlinewidth": 0,
              "ticks": ""
             }
            },
            "type": "scattercarpet"
           }
          ],
          "scattergeo": [
           {
            "marker": {
             "colorbar": {
              "outlinewidth": 0,
              "ticks": ""
             }
            },
            "type": "scattergeo"
           }
          ],
          "scattergl": [
           {
            "marker": {
             "colorbar": {
              "outlinewidth": 0,
              "ticks": ""
             }
            },
            "type": "scattergl"
           }
          ],
          "scattermapbox": [
           {
            "marker": {
             "colorbar": {
              "outlinewidth": 0,
              "ticks": ""
             }
            },
            "type": "scattermapbox"
           }
          ],
          "scatterpolar": [
           {
            "marker": {
             "colorbar": {
              "outlinewidth": 0,
              "ticks": ""
             }
            },
            "type": "scatterpolar"
           }
          ],
          "scatterpolargl": [
           {
            "marker": {
             "colorbar": {
              "outlinewidth": 0,
              "ticks": ""
             }
            },
            "type": "scatterpolargl"
           }
          ],
          "scatterternary": [
           {
            "marker": {
             "colorbar": {
              "outlinewidth": 0,
              "ticks": ""
             }
            },
            "type": "scatterternary"
           }
          ],
          "surface": [
           {
            "colorbar": {
             "outlinewidth": 0,
             "ticks": ""
            },
            "colorscale": [
             [
              0,
              "#0d0887"
             ],
             [
              0.1111111111111111,
              "#46039f"
             ],
             [
              0.2222222222222222,
              "#7201a8"
             ],
             [
              0.3333333333333333,
              "#9c179e"
             ],
             [
              0.4444444444444444,
              "#bd3786"
             ],
             [
              0.5555555555555556,
              "#d8576b"
             ],
             [
              0.6666666666666666,
              "#ed7953"
             ],
             [
              0.7777777777777778,
              "#fb9f3a"
             ],
             [
              0.8888888888888888,
              "#fdca26"
             ],
             [
              1,
              "#f0f921"
             ]
            ],
            "type": "surface"
           }
          ],
          "table": [
           {
            "cells": {
             "fill": {
              "color": "#EBF0F8"
             },
             "line": {
              "color": "white"
             }
            },
            "header": {
             "fill": {
              "color": "#C8D4E3"
             },
             "line": {
              "color": "white"
             }
            },
            "type": "table"
           }
          ]
         },
         "layout": {
          "annotationdefaults": {
           "arrowcolor": "#2a3f5f",
           "arrowhead": 0,
           "arrowwidth": 1
          },
          "coloraxis": {
           "colorbar": {
            "outlinewidth": 0,
            "ticks": ""
           }
          },
          "colorscale": {
           "diverging": [
            [
             0,
             "#8e0152"
            ],
            [
             0.1,
             "#c51b7d"
            ],
            [
             0.2,
             "#de77ae"
            ],
            [
             0.3,
             "#f1b6da"
            ],
            [
             0.4,
             "#fde0ef"
            ],
            [
             0.5,
             "#f7f7f7"
            ],
            [
             0.6,
             "#e6f5d0"
            ],
            [
             0.7,
             "#b8e186"
            ],
            [
             0.8,
             "#7fbc41"
            ],
            [
             0.9,
             "#4d9221"
            ],
            [
             1,
             "#276419"
            ]
           ],
           "sequential": [
            [
             0,
             "#0d0887"
            ],
            [
             0.1111111111111111,
             "#46039f"
            ],
            [
             0.2222222222222222,
             "#7201a8"
            ],
            [
             0.3333333333333333,
             "#9c179e"
            ],
            [
             0.4444444444444444,
             "#bd3786"
            ],
            [
             0.5555555555555556,
             "#d8576b"
            ],
            [
             0.6666666666666666,
             "#ed7953"
            ],
            [
             0.7777777777777778,
             "#fb9f3a"
            ],
            [
             0.8888888888888888,
             "#fdca26"
            ],
            [
             1,
             "#f0f921"
            ]
           ],
           "sequentialminus": [
            [
             0,
             "#0d0887"
            ],
            [
             0.1111111111111111,
             "#46039f"
            ],
            [
             0.2222222222222222,
             "#7201a8"
            ],
            [
             0.3333333333333333,
             "#9c179e"
            ],
            [
             0.4444444444444444,
             "#bd3786"
            ],
            [
             0.5555555555555556,
             "#d8576b"
            ],
            [
             0.6666666666666666,
             "#ed7953"
            ],
            [
             0.7777777777777778,
             "#fb9f3a"
            ],
            [
             0.8888888888888888,
             "#fdca26"
            ],
            [
             1,
             "#f0f921"
            ]
           ]
          },
          "colorway": [
           "#636efa",
           "#EF553B",
           "#00cc96",
           "#ab63fa",
           "#FFA15A",
           "#19d3f3",
           "#FF6692",
           "#B6E880",
           "#FF97FF",
           "#FECB52"
          ],
          "font": {
           "color": "#2a3f5f"
          },
          "geo": {
           "bgcolor": "white",
           "lakecolor": "white",
           "landcolor": "#E5ECF6",
           "showlakes": true,
           "showland": true,
           "subunitcolor": "white"
          },
          "hoverlabel": {
           "align": "left"
          },
          "hovermode": "closest",
          "mapbox": {
           "style": "light"
          },
          "paper_bgcolor": "white",
          "plot_bgcolor": "#E5ECF6",
          "polar": {
           "angularaxis": {
            "gridcolor": "white",
            "linecolor": "white",
            "ticks": ""
           },
           "bgcolor": "#E5ECF6",
           "radialaxis": {
            "gridcolor": "white",
            "linecolor": "white",
            "ticks": ""
           }
          },
          "scene": {
           "xaxis": {
            "backgroundcolor": "#E5ECF6",
            "gridcolor": "white",
            "gridwidth": 2,
            "linecolor": "white",
            "showbackground": true,
            "ticks": "",
            "zerolinecolor": "white"
           },
           "yaxis": {
            "backgroundcolor": "#E5ECF6",
            "gridcolor": "white",
            "gridwidth": 2,
            "linecolor": "white",
            "showbackground": true,
            "ticks": "",
            "zerolinecolor": "white"
           },
           "zaxis": {
            "backgroundcolor": "#E5ECF6",
            "gridcolor": "white",
            "gridwidth": 2,
            "linecolor": "white",
            "showbackground": true,
            "ticks": "",
            "zerolinecolor": "white"
           }
          },
          "shapedefaults": {
           "line": {
            "color": "#2a3f5f"
           }
          },
          "ternary": {
           "aaxis": {
            "gridcolor": "white",
            "linecolor": "white",
            "ticks": ""
           },
           "baxis": {
            "gridcolor": "white",
            "linecolor": "white",
            "ticks": ""
           },
           "bgcolor": "#E5ECF6",
           "caxis": {
            "gridcolor": "white",
            "linecolor": "white",
            "ticks": ""
           }
          },
          "title": {
           "x": 0.05
          },
          "xaxis": {
           "automargin": true,
           "gridcolor": "white",
           "linecolor": "white",
           "ticks": "",
           "title": {
            "standoff": 15
           },
           "zerolinecolor": "white",
           "zerolinewidth": 2
          },
          "yaxis": {
           "automargin": true,
           "gridcolor": "white",
           "linecolor": "white",
           "ticks": "",
           "title": {
            "standoff": 15
           },
           "zerolinecolor": "white",
           "zerolinewidth": 2
          }
         }
        },
        "title": {
         "text": "New Infections vs Temperature"
        },
        "xaxis": {
         "anchor": "y",
         "domain": [
          0,
          1
         ],
         "title": {
          "text": "TempAvg"
         }
        },
        "xaxis2": {
         "anchor": "y2",
         "domain": [
          0,
          1
         ],
         "matches": "x",
         "showgrid": true,
         "showticklabels": false
        },
        "yaxis": {
         "anchor": "x",
         "domain": [
          0,
          0.7326
         ],
         "title": {
          "text": "Confirmed"
         }
        },
        "yaxis2": {
         "anchor": "x2",
         "domain": [
          0.7426,
          1
         ],
         "matches": "y2",
         "showgrid": false,
         "showline": false,
         "showticklabels": false,
         "ticks": ""
        }
       }
      },
      "text/html": [
       "<div>\n",
       "        \n",
       "        \n",
       "            <div id=\"a6aa427e-9734-40fe-b1fb-633be74a79ab\" class=\"plotly-graph-div\" style=\"height:600px; width:100%;\"></div>\n",
       "            <script type=\"text/javascript\">\n",
       "                require([\"plotly\"], function(Plotly) {\n",
       "                    window.PLOTLYENV=window.PLOTLYENV || {};\n",
       "                    \n",
       "                if (document.getElementById(\"a6aa427e-9734-40fe-b1fb-633be74a79ab\")) {\n",
       "                    Plotly.newPlot(\n",
       "                        'a6aa427e-9734-40fe-b1fb-633be74a79ab',\n",
       "                        [{\"hoverlabel\": {\"namelength\": 0}, \"hovertemplate\": \"Province/State=New York<br>TempAvg=%{x}<br>Confirmed=%{y}\", \"legendgroup\": \"Province/State=New York\", \"marker\": {\"color\": \"#636efa\", \"symbol\": \"circle\"}, \"mode\": \"markers\", \"name\": \"Province/State=New York\", \"showlegend\": true, \"type\": \"scatter\", \"x\": [48.2, 52.4, 50.5, 44.8, 41.6, 41.0, 47.8, 59.3, 61.0, 50.4, 44.7, 54.6, 48.9, 46.8, 39.3, 47.5, 47.6, 46.2, 56.0, 48.5, 38.4, 39.2, 44.0, 42.8, 47.0], \"xaxis\": \"x\", \"y\": [173, 47, 108, 93, 104, 207, 235, 739, 789, 2870, 2945, 3400, 4090, 5084, 4797, 5160, 7036, 6999, 7534, 7238, 7015, 9170, 8115, 8558, 10481], \"yaxis\": \"y\"}, {\"alignmentgroup\": \"True\", \"hoverlabel\": {\"namelength\": 0}, \"hovertemplate\": \"Province/State=New York<br>TempAvg=%{x}\", \"legendgroup\": \"Province/State=New York\", \"marker\": {\"color\": \"#636efa\", \"symbol\": \"circle\"}, \"name\": \"Province/State=New York\", \"notched\": true, \"offsetgroup\": \"Province/State=New York\", \"showlegend\": false, \"type\": \"box\", \"x\": [48.2, 52.4, 50.5, 44.8, 41.6, 41.0, 47.8, 59.3, 61.0, 50.4, 44.7, 54.6, 48.9, 46.8, 39.3, 47.5, 47.6, 46.2, 56.0, 48.5, 38.4, 39.2, 44.0, 42.8, 47.0], \"xaxis\": \"x2\", \"yaxis\": \"y2\"}, {\"hoverlabel\": {\"namelength\": 0}, \"hovertemplate\": \"Province/State=New York\", \"legendgroup\": \"Province/State=New York\", \"marker\": {\"color\": \"#636efa\", \"symbol\": \"circle\"}, \"mode\": \"lines\", \"name\": \"Province/State=New York\", \"showlegend\": false, \"type\": \"scatter\", \"xaxis\": \"x\", \"yaxis\": \"y\"}, {\"hoverlabel\": {\"namelength\": 0}, \"hovertemplate\": \"Province/State=Madrid<br>TempAvg=%{x}<br>Confirmed=%{y}\", \"legendgroup\": \"Province/State=Madrid\", \"marker\": {\"color\": \"#EF553B\", \"symbol\": \"circle\"}, \"mode\": \"markers\", \"name\": \"Province/State=Madrid\", \"showlegend\": true, \"type\": \"scatter\", \"x\": [45.2, 45.4, 43.5, 41.7, 52.1, 53.7, 51.1, 54.2, 56.9, 53.3, 52.0, 50.2, 45.9, 41.2, 44.4, 44.0, 46.7, 48.1, 46.4, 49.5, 52.1, 47.5, 45.7, 48.7, 47.4, 46.3, 45.6, 44.4, 48.0, 48.6, 50.5, 50.5, 49.0, 52.4, 52.9, 51.0, 51.1, 52.6, 51.8, 51.3, 58.3, 55.0, 49.1, 46.9, 47.1, 53.8, 54.4, 58.6, 60.3, 60.4, 59.3, 54.9, 45.1, 50.8, 54.3, 54.9, 52.9, 48.2, 48.5, 50.4, 53.4, 53.0, 48.2], \"xaxis\": \"x\", \"y\": [1, 0, 0, 0, 0, 0, 0, 0, 1, 0, 0, 0, 0, 0, 0, 0, 0, 0, 0, 0, 0, 0, 0, 0, 4, 7, 2, 17, 13, 39, 36, 45, 57, 37, 141, 100, 173, 400, 622, 582, 0, 2955, 1159, 1407, 2144, 1806, 2162, 4053, 2447, 4964, 3229, 6533, 4749, 9630, 8271, 7933, 7516, 6875, 7846, 7967, 8195, 7947, 7134], \"yaxis\": \"y\"}, {\"alignmentgroup\": \"True\", \"hoverlabel\": {\"namelength\": 0}, \"hovertemplate\": \"Province/State=Madrid<br>TempAvg=%{x}\", \"legendgroup\": \"Province/State=Madrid\", \"marker\": {\"color\": \"#EF553B\", \"symbol\": \"circle\"}, \"name\": \"Province/State=Madrid\", \"notched\": true, \"offsetgroup\": \"Province/State=Madrid\", \"showlegend\": false, \"type\": \"box\", \"x\": [45.2, 45.4, 43.5, 41.7, 52.1, 53.7, 51.1, 54.2, 56.9, 53.3, 52.0, 50.2, 45.9, 41.2, 44.4, 44.0, 46.7, 48.1, 46.4, 49.5, 52.1, 47.5, 45.7, 48.7, 47.4, 46.3, 45.6, 44.4, 48.0, 48.6, 50.5, 50.5, 49.0, 52.4, 52.9, 51.0, 51.1, 52.6, 51.8, 51.3, 58.3, 55.0, 49.1, 46.9, 47.1, 53.8, 54.4, 58.6, 60.3, 60.4, 59.3, 54.9, 45.1, 50.8, 54.3, 54.9, 52.9, 48.2, 48.5, 50.4, 53.4, 53.0, 48.2], \"xaxis\": \"x2\", \"yaxis\": \"y2\"}, {\"hoverlabel\": {\"namelength\": 0}, \"hovertemplate\": \"Province/State=Madrid\", \"legendgroup\": \"Province/State=Madrid\", \"marker\": {\"color\": \"#EF553B\", \"symbol\": \"circle\"}, \"mode\": \"lines\", \"name\": \"Province/State=Madrid\", \"showlegend\": false, \"type\": \"scatter\", \"xaxis\": \"x\", \"yaxis\": \"y\"}, {\"hoverlabel\": {\"namelength\": 0}, \"hovertemplate\": \"Province/State=Quebec<br>TempAvg=%{x}<br>Confirmed=%{y}\", \"legendgroup\": \"Province/State=Quebec\", \"marker\": {\"color\": \"#00cc96\", \"symbol\": \"circle\"}, \"mode\": \"markers\", \"name\": \"Province/State=Quebec\", \"showlegend\": true, \"type\": \"scatter\", \"x\": [15.3, 19.2, 31.7, 32.8, 29.0, 25.5, 19.5, 28.7, 22.4, 26.6, 21.6, 19.6, 31.9, 31.1, 20.4, 15.7, 29.4, 25.4, 30.6, 36.1, 21.1, 14.0, 24.5, 32.2, 31.8, 34.1], \"xaxis\": \"x\", \"y\": [3, 1, 4, 1, 8, 0, 7, 26, 24, 20, 27, 18, 42, 38, 409, 385, 329, 290, 392, 474, 342, 590, 732, 449, 907, 583], \"yaxis\": \"y\"}, {\"alignmentgroup\": \"True\", \"hoverlabel\": {\"namelength\": 0}, \"hovertemplate\": \"Province/State=Quebec<br>TempAvg=%{x}\", \"legendgroup\": \"Province/State=Quebec\", \"marker\": {\"color\": \"#00cc96\", \"symbol\": \"circle\"}, \"name\": \"Province/State=Quebec\", \"notched\": true, \"offsetgroup\": \"Province/State=Quebec\", \"showlegend\": false, \"type\": \"box\", \"x\": [15.3, 19.2, 31.7, 32.8, 29.0, 25.5, 19.5, 28.7, 22.4, 26.6, 21.6, 19.6, 31.9, 31.1, 20.4, 15.7, 29.4, 25.4, 30.6, 36.1, 21.1, 14.0, 24.5, 32.2, 31.8, 34.1], \"xaxis\": \"x2\", \"yaxis\": \"y2\"}, {\"hoverlabel\": {\"namelength\": 0}, \"hovertemplate\": \"Province/State=Quebec\", \"legendgroup\": \"Province/State=Quebec\", \"marker\": {\"color\": \"#00cc96\", \"symbol\": \"circle\"}, \"mode\": \"lines\", \"name\": \"Province/State=Quebec\", \"showlegend\": false, \"type\": \"scatter\", \"xaxis\": \"x\", \"yaxis\": \"y\"}, {\"hoverlabel\": {\"namelength\": 0}, \"hovertemplate\": \"Province/State=Lombardia<br>TempAvg=%{x}<br>Confirmed=%{y}\", \"legendgroup\": \"Province/State=Lombardia\", \"marker\": {\"color\": \"#ab63fa\", \"symbol\": \"circle\"}, \"mode\": \"markers\", \"name\": \"Province/State=Lombardia\", \"showlegend\": true, \"type\": \"scatter\", \"x\": [46.2, 49.3, 50.0, 46.9, 45.2, 45.9, 46.6, 50.2, 55.4, 52.1, 49.1, 45.8, 49.8, 44.7, 44.2, 40.8, 46.6, 45.5, 43.9, 43.7, 48.1, 47.4, 45.6, 49.5, 53.8, 52.5, 58.9, 51.2, 47.1, 48.1, 49.5, 52.4, 55.4, 54.1, 55.0, 53.3, 43.3, 42.9, 42.4, 40.7], \"xaxis\": \"x\", \"y\": [172, 68, 18, 145, 128, 84, 369, 270, 266, 300, 431, 361, 808, 769, 1280, 322, 1489, 1445, 1095, 1865, 1587, 1377, 1571, 1493, 2171, 2380, 3251, 1691, 1555, 1942, 1643, 2543, 2409, 2117, 1592, 1154, 1047, 1565, 1292, 1455], \"yaxis\": \"y\"}, {\"alignmentgroup\": \"True\", \"hoverlabel\": {\"namelength\": 0}, \"hovertemplate\": \"Province/State=Lombardia<br>TempAvg=%{x}\", \"legendgroup\": \"Province/State=Lombardia\", \"marker\": {\"color\": \"#ab63fa\", \"symbol\": \"circle\"}, \"name\": \"Province/State=Lombardia\", \"notched\": true, \"offsetgroup\": \"Province/State=Lombardia\", \"showlegend\": false, \"type\": \"box\", \"x\": [46.2, 49.3, 50.0, 46.9, 45.2, 45.9, 46.6, 50.2, 55.4, 52.1, 49.1, 45.8, 49.8, 44.7, 44.2, 40.8, 46.6, 45.5, 43.9, 43.7, 48.1, 47.4, 45.6, 49.5, 53.8, 52.5, 58.9, 51.2, 47.1, 48.1, 49.5, 52.4, 55.4, 54.1, 55.0, 53.3, 43.3, 42.9, 42.4, 40.7], \"xaxis\": \"x2\", \"yaxis\": \"y2\"}, {\"hoverlabel\": {\"namelength\": 0}, \"hovertemplate\": \"Province/State=Lombardia\", \"legendgroup\": \"Province/State=Lombardia\", \"marker\": {\"color\": \"#ab63fa\", \"symbol\": \"circle\"}, \"mode\": \"lines\", \"name\": \"Province/State=Lombardia\", \"showlegend\": false, \"type\": \"scatter\", \"xaxis\": \"x\", \"yaxis\": \"y\"}, {\"hoverlabel\": {\"namelength\": 0}, \"hovertemplate\": \"Province/State=Vienna<br>TempAvg=%{x}<br>Confirmed=%{y}\", \"legendgroup\": \"Province/State=Vienna\", \"marker\": {\"color\": \"#FFA15A\", \"symbol\": \"circle\"}, \"mode\": \"markers\", \"name\": \"Province/State=Vienna\", \"showlegend\": true, \"type\": \"scatter\", \"x\": [45.0, 48.6, 41.6, 43.0, 40.9, 41.9, 57.5, 46.8, 49.5, 45.0, 41.4, 39.6, 41.0, 42.8, 49.9, 46.0, 43.8, 42.1, 44.7, 44.8, 42.7, 40.8, 49.1, 57.6, 59.3, 49.8, 44.3, 37.9, 44.3, 44.8, 52.3, 52.6, 54.5, 43.1, 33.8, 32.7, 34.9, 32.3, 39.5], \"xaxis\": \"x\", \"y\": [2, 0, 1, 0, 6, 5, 4, 3, 8, 12, 14, 24, 25, 27, 51, 64, 56, 202, 151, 205, 158, 314, 314, 367, 375, 426, 766, 894, 809, 305, 1321, 748, 614, 517, 830, 562, 531, 418, 395], \"yaxis\": \"y\"}, {\"alignmentgroup\": \"True\", \"hoverlabel\": {\"namelength\": 0}, \"hovertemplate\": \"Province/State=Vienna<br>TempAvg=%{x}\", \"legendgroup\": \"Province/State=Vienna\", \"marker\": {\"color\": \"#FFA15A\", \"symbol\": \"circle\"}, \"name\": \"Province/State=Vienna\", \"notched\": true, \"offsetgroup\": \"Province/State=Vienna\", \"showlegend\": false, \"type\": \"box\", \"x\": [45.0, 48.6, 41.6, 43.0, 40.9, 41.9, 57.5, 46.8, 49.5, 45.0, 41.4, 39.6, 41.0, 42.8, 49.9, 46.0, 43.8, 42.1, 44.7, 44.8, 42.7, 40.8, 49.1, 57.6, 59.3, 49.8, 44.3, 37.9, 44.3, 44.8, 52.3, 52.6, 54.5, 43.1, 33.8, 32.7, 34.9, 32.3, 39.5], \"xaxis\": \"x2\", \"yaxis\": \"y2\"}, {\"hoverlabel\": {\"namelength\": 0}, \"hovertemplate\": \"Province/State=Vienna\", \"legendgroup\": \"Province/State=Vienna\", \"marker\": {\"color\": \"#FFA15A\", \"symbol\": \"circle\"}, \"mode\": \"lines\", \"name\": \"Province/State=Vienna\", \"showlegend\": false, \"type\": \"scatter\", \"xaxis\": \"x\", \"yaxis\": \"y\"}, {\"hoverlabel\": {\"namelength\": 0}, \"hovertemplate\": \"Province/State=Stockholm<br>TempAvg=%{x}<br>Confirmed=%{y}\", \"legendgroup\": \"Province/State=Stockholm\", \"marker\": {\"color\": \"#19d3f3\", \"symbol\": \"circle\"}, \"mode\": \"markers\", \"name\": \"Province/State=Stockholm\", \"showlegend\": true, \"type\": \"scatter\", \"x\": [34.0, 41.9, 36.1, 43.3, 40.7, 38.5, 38.0, 34.7, 36.7, 42.4, 39.3, 30.1, 27.3, 32.8, 32.0, 30.1, 36.8, 40.3, 43.0, 38.7, 37.3, 33.4, 29.8, 38.5, 44.5, 43.2, 44.3, 39.3, 34.1, 42.7, 43.2, 41.3, 34.1, 32.5, 32.5, 29.7, 29.9, 34.2, 39.0, 39.7, 38.7, 35.8, 34.7, 33.9, 34.2, 39.3, 44.0, 40.7, 40.7, 38.9, 35.6, 29.8, 38.2, 39.1, 41.2, 43.4, 41.6, 34.5, 31.2, 30.5, 36.0, 39.5, 45.0, 43.2], \"xaxis\": \"x\", \"y\": [1, 0, 0, 0, 0, 0, 0, 0, 0, 0, 0, 0, 0, 0, 0, 0, 0, 0, 0, 0, 0, 0, 0, 0, 0, 0, 1, 5, 0, 5, 2, 1, 6, 14, 59, 7, 60, 42, 45, 107, 145, 99, 215, 147, 61, 81, 87, 89, 160, 200, 124, 168, 115, 240, 240, 314, 229, 378, 253, 328, 407, 512, 621, 563], \"yaxis\": \"y\"}, {\"alignmentgroup\": \"True\", \"hoverlabel\": {\"namelength\": 0}, \"hovertemplate\": \"Province/State=Stockholm<br>TempAvg=%{x}\", \"legendgroup\": \"Province/State=Stockholm\", \"marker\": {\"color\": \"#19d3f3\", \"symbol\": \"circle\"}, \"name\": \"Province/State=Stockholm\", \"notched\": true, \"offsetgroup\": \"Province/State=Stockholm\", \"showlegend\": false, \"type\": \"box\", \"x\": [34.0, 41.9, 36.1, 43.3, 40.7, 38.5, 38.0, 34.7, 36.7, 42.4, 39.3, 30.1, 27.3, 32.8, 32.0, 30.1, 36.8, 40.3, 43.0, 38.7, 37.3, 33.4, 29.8, 38.5, 44.5, 43.2, 44.3, 39.3, 34.1, 42.7, 43.2, 41.3, 34.1, 32.5, 32.5, 29.7, 29.9, 34.2, 39.0, 39.7, 38.7, 35.8, 34.7, 33.9, 34.2, 39.3, 44.0, 40.7, 40.7, 38.9, 35.6, 29.8, 38.2, 39.1, 41.2, 43.4, 41.6, 34.5, 31.2, 30.5, 36.0, 39.5, 45.0, 43.2], \"xaxis\": \"x2\", \"yaxis\": \"y2\"}, {\"hoverlabel\": {\"namelength\": 0}, \"hovertemplate\": \"Province/State=Stockholm\", \"legendgroup\": \"Province/State=Stockholm\", \"marker\": {\"color\": \"#19d3f3\", \"symbol\": \"circle\"}, \"mode\": \"lines\", \"name\": \"Province/State=Stockholm\", \"showlegend\": false, \"type\": \"scatter\", \"xaxis\": \"x\", \"yaxis\": \"y\"}, {\"hoverlabel\": {\"namelength\": 0}, \"hovertemplate\": \"Province/State=Doha<br>TempAvg=%{x}<br>Confirmed=%{y}\", \"legendgroup\": \"Province/State=Doha\", \"marker\": {\"color\": \"#FF6692\", \"symbol\": \"circle\"}, \"mode\": \"markers\", \"name\": \"Province/State=Doha\", \"showlegend\": true, \"type\": \"scatter\", \"x\": [69.5, 68.2, 70.8, 74.1, 75.6, 71.8, 67.8, 68.6, 67.9, 69.0, 69.8, 68.8, 68.4, 69.3, 68.6, 69.9, 72.6, 71.5, 68.0, 71.4, 70.2, 70.9, 74.8, 76.6, 76.1, 74.7, 76.6, 78.1, 75.6, 75.5, 75.3, 71.0, 70.9, 71.8, 72.3], \"xaxis\": \"x\", \"y\": [1, 2, 0, 4, 1, 0, 0, 0, 7, 3, 6, 238, 0, 58, 17, 64, 38, 0, 13, 8, 10, 11, 13, 7, 25, 11, 12, 13, 28, 44, 59, 88, 54, 114, 126], \"yaxis\": \"y\"}, {\"alignmentgroup\": \"True\", \"hoverlabel\": {\"namelength\": 0}, \"hovertemplate\": \"Province/State=Doha<br>TempAvg=%{x}\", \"legendgroup\": \"Province/State=Doha\", \"marker\": {\"color\": \"#FF6692\", \"symbol\": \"circle\"}, \"name\": \"Province/State=Doha\", \"notched\": true, \"offsetgroup\": \"Province/State=Doha\", \"showlegend\": false, \"type\": \"box\", \"x\": [69.5, 68.2, 70.8, 74.1, 75.6, 71.8, 67.8, 68.6, 67.9, 69.0, 69.8, 68.8, 68.4, 69.3, 68.6, 69.9, 72.6, 71.5, 68.0, 71.4, 70.2, 70.9, 74.8, 76.6, 76.1, 74.7, 76.6, 78.1, 75.6, 75.5, 75.3, 71.0, 70.9, 71.8, 72.3], \"xaxis\": \"x2\", \"yaxis\": \"y2\"}, {\"hoverlabel\": {\"namelength\": 0}, \"hovertemplate\": \"Province/State=Doha\", \"legendgroup\": \"Province/State=Doha\", \"marker\": {\"color\": \"#FF6692\", \"symbol\": \"circle\"}, \"mode\": \"lines\", \"name\": \"Province/State=Doha\", \"showlegend\": false, \"type\": \"scatter\", \"xaxis\": \"x\", \"yaxis\": \"y\"}, {\"hoverlabel\": {\"namelength\": 0}, \"hovertemplate\": \"Province/State=Dubai<br>TempAvg=%{x}<br>Confirmed=%{y}\", \"legendgroup\": \"Province/State=Dubai\", \"marker\": {\"color\": \"#B6E880\", \"symbol\": \"circle\"}, \"mode\": \"markers\", \"name\": \"Province/State=Dubai\", \"showlegend\": true, \"type\": \"scatter\", \"x\": [68.7, 69.8, 73.2, 69.0, 67.4, 65.2, 65.2, 65.0, 67.3, 67.3, 65.3, 67.0, 67.7, 66.9, 67.5, 65.9, 68.0, 69.3, 72.4, 75.0, 74.8, 71.8, 65.1, 64.4, 65.7, 66.4, 71.9, 75.3, 73.9, 75.6, 77.4, 75.3, 76.7, 77.8, 80.0, 81.7, 79.2, 71.1, 70.5, 72.5, 72.5, 75.3, 71.7, 70.6, 71.6, 73.4, 75.4, 76.3, 73.0, 74.8, 72.8, 71.9, 74.6, 79.4, 81.0, 77.7, 77.8, 80.5, 83.3, 83.2, 75.7, 76.0, 72.5, 70.6, 70.7, 73.9], \"xaxis\": \"x\", \"y\": [4, 0, 0, 0, 1, 0, 0, 0, 0, 0, 2, 0, 1, 0, 0, 0, 0, 0, 1, 0, 0, 0, 0, 0, 4, 0, 0, 0, 0, 0, 6, 2, 0, 0, 6, 0, 2, 0, 16, 0, 0, 29, 0, 11, 0, 0, 13, 0, 0, 15, 27, 0, 13, 0, 45, 50, 85, 0, 72, 63, 102, 41, 53, 150, 210, 240], \"yaxis\": \"y\"}, {\"alignmentgroup\": \"True\", \"hoverlabel\": {\"namelength\": 0}, \"hovertemplate\": \"Province/State=Dubai<br>TempAvg=%{x}\", \"legendgroup\": \"Province/State=Dubai\", \"marker\": {\"color\": \"#B6E880\", \"symbol\": \"circle\"}, \"name\": \"Province/State=Dubai\", \"notched\": true, \"offsetgroup\": \"Province/State=Dubai\", \"showlegend\": false, \"type\": \"box\", \"x\": [68.7, 69.8, 73.2, 69.0, 67.4, 65.2, 65.2, 65.0, 67.3, 67.3, 65.3, 67.0, 67.7, 66.9, 67.5, 65.9, 68.0, 69.3, 72.4, 75.0, 74.8, 71.8, 65.1, 64.4, 65.7, 66.4, 71.9, 75.3, 73.9, 75.6, 77.4, 75.3, 76.7, 77.8, 80.0, 81.7, 79.2, 71.1, 70.5, 72.5, 72.5, 75.3, 71.7, 70.6, 71.6, 73.4, 75.4, 76.3, 73.0, 74.8, 72.8, 71.9, 74.6, 79.4, 81.0, 77.7, 77.8, 80.5, 83.3, 83.2, 75.7, 76.0, 72.5, 70.6, 70.7, 73.9], \"xaxis\": \"x2\", \"yaxis\": \"y2\"}, {\"hoverlabel\": {\"namelength\": 0}, \"hovertemplate\": \"Province/State=Dubai\", \"legendgroup\": \"Province/State=Dubai\", \"marker\": {\"color\": \"#B6E880\", \"symbol\": \"circle\"}, \"mode\": \"lines\", \"name\": \"Province/State=Dubai\", \"showlegend\": false, \"type\": \"scatter\", \"xaxis\": \"x\", \"yaxis\": \"y\"}, {\"hoverlabel\": {\"namelength\": 0}, \"hovertemplate\": \"Province/State=Dakar<br>TempAvg=%{x}<br>Confirmed=%{y}\", \"legendgroup\": \"Province/State=Dakar\", \"marker\": {\"color\": \"#FF97FF\", \"symbol\": \"circle\"}, \"mode\": \"markers\", \"name\": \"Province/State=Dakar\", \"showlegend\": true, \"type\": \"scatter\", \"x\": [72.2, 74.2, 86.9, 80.7, 78.0, 75.4, 73.9, 74.3, 76.1, 80.2, 75.3, 74.7, 74.9, 75.8, 75.5, 75.5, 77.8, 76.1, 77.2, 76.4, 75.0, 74.2, 74.2, 72.3, 73.1, 72.6, 73.1, 74.1, 72.3, 70.8, 68.5, 68.3, 69.9], \"xaxis\": \"x\", \"y\": [1, 1, 2, 0, 0, 0, 0, 0, 0, 0, 0, 6, 0, 14, 0, 2, 5, 0, 7, 9, 20, 12, 7, 13, 6, 14, 11, 12, 20, 13, 15, 5, 12], \"yaxis\": \"y\"}, {\"alignmentgroup\": \"True\", \"hoverlabel\": {\"namelength\": 0}, \"hovertemplate\": \"Province/State=Dakar<br>TempAvg=%{x}\", \"legendgroup\": \"Province/State=Dakar\", \"marker\": {\"color\": \"#FF97FF\", \"symbol\": \"circle\"}, \"name\": \"Province/State=Dakar\", \"notched\": true, \"offsetgroup\": \"Province/State=Dakar\", \"showlegend\": false, \"type\": \"box\", \"x\": [72.2, 74.2, 86.9, 80.7, 78.0, 75.4, 73.9, 74.3, 76.1, 80.2, 75.3, 74.7, 74.9, 75.8, 75.5, 75.5, 77.8, 76.1, 77.2, 76.4, 75.0, 74.2, 74.2, 72.3, 73.1, 72.6, 73.1, 74.1, 72.3, 70.8, 68.5, 68.3, 69.9], \"xaxis\": \"x2\", \"yaxis\": \"y2\"}, {\"hoverlabel\": {\"namelength\": 0}, \"hovertemplate\": \"Province/State=Dakar\", \"legendgroup\": \"Province/State=Dakar\", \"marker\": {\"color\": \"#FF97FF\", \"symbol\": \"circle\"}, \"mode\": \"lines\", \"name\": \"Province/State=Dakar\", \"showlegend\": false, \"type\": \"scatter\", \"xaxis\": \"x\", \"yaxis\": \"y\"}],\n",
       "                        {\"height\": 600, \"legend\": {\"tracegroupgap\": 0}, \"template\": {\"data\": {\"bar\": [{\"error_x\": {\"color\": \"#2a3f5f\"}, \"error_y\": {\"color\": \"#2a3f5f\"}, \"marker\": {\"line\": {\"color\": \"#E5ECF6\", \"width\": 0.5}}, \"type\": \"bar\"}], \"barpolar\": [{\"marker\": {\"line\": {\"color\": \"#E5ECF6\", \"width\": 0.5}}, \"type\": \"barpolar\"}], \"carpet\": [{\"aaxis\": {\"endlinecolor\": \"#2a3f5f\", \"gridcolor\": \"white\", \"linecolor\": \"white\", \"minorgridcolor\": \"white\", \"startlinecolor\": \"#2a3f5f\"}, \"baxis\": {\"endlinecolor\": \"#2a3f5f\", \"gridcolor\": \"white\", \"linecolor\": \"white\", \"minorgridcolor\": \"white\", \"startlinecolor\": \"#2a3f5f\"}, \"type\": \"carpet\"}], \"choropleth\": [{\"colorbar\": {\"outlinewidth\": 0, \"ticks\": \"\"}, \"type\": \"choropleth\"}], \"contour\": [{\"colorbar\": {\"outlinewidth\": 0, \"ticks\": \"\"}, \"colorscale\": [[0.0, \"#0d0887\"], [0.1111111111111111, \"#46039f\"], [0.2222222222222222, \"#7201a8\"], [0.3333333333333333, \"#9c179e\"], [0.4444444444444444, \"#bd3786\"], [0.5555555555555556, \"#d8576b\"], [0.6666666666666666, \"#ed7953\"], [0.7777777777777778, \"#fb9f3a\"], [0.8888888888888888, \"#fdca26\"], [1.0, \"#f0f921\"]], \"type\": \"contour\"}], \"contourcarpet\": [{\"colorbar\": {\"outlinewidth\": 0, \"ticks\": \"\"}, \"type\": \"contourcarpet\"}], \"heatmap\": [{\"colorbar\": {\"outlinewidth\": 0, \"ticks\": \"\"}, \"colorscale\": [[0.0, \"#0d0887\"], [0.1111111111111111, \"#46039f\"], [0.2222222222222222, \"#7201a8\"], [0.3333333333333333, \"#9c179e\"], [0.4444444444444444, \"#bd3786\"], [0.5555555555555556, \"#d8576b\"], [0.6666666666666666, \"#ed7953\"], [0.7777777777777778, \"#fb9f3a\"], [0.8888888888888888, \"#fdca26\"], [1.0, \"#f0f921\"]], \"type\": \"heatmap\"}], \"heatmapgl\": [{\"colorbar\": {\"outlinewidth\": 0, \"ticks\": \"\"}, \"colorscale\": [[0.0, \"#0d0887\"], [0.1111111111111111, \"#46039f\"], [0.2222222222222222, \"#7201a8\"], [0.3333333333333333, \"#9c179e\"], [0.4444444444444444, \"#bd3786\"], [0.5555555555555556, \"#d8576b\"], [0.6666666666666666, \"#ed7953\"], [0.7777777777777778, \"#fb9f3a\"], [0.8888888888888888, \"#fdca26\"], [1.0, \"#f0f921\"]], \"type\": \"heatmapgl\"}], \"histogram\": [{\"marker\": {\"colorbar\": {\"outlinewidth\": 0, \"ticks\": \"\"}}, \"type\": \"histogram\"}], \"histogram2d\": [{\"colorbar\": {\"outlinewidth\": 0, \"ticks\": \"\"}, \"colorscale\": [[0.0, \"#0d0887\"], [0.1111111111111111, \"#46039f\"], [0.2222222222222222, \"#7201a8\"], [0.3333333333333333, \"#9c179e\"], [0.4444444444444444, \"#bd3786\"], [0.5555555555555556, \"#d8576b\"], [0.6666666666666666, \"#ed7953\"], [0.7777777777777778, \"#fb9f3a\"], [0.8888888888888888, \"#fdca26\"], [1.0, \"#f0f921\"]], \"type\": \"histogram2d\"}], \"histogram2dcontour\": [{\"colorbar\": {\"outlinewidth\": 0, \"ticks\": \"\"}, \"colorscale\": [[0.0, \"#0d0887\"], [0.1111111111111111, \"#46039f\"], [0.2222222222222222, \"#7201a8\"], [0.3333333333333333, \"#9c179e\"], [0.4444444444444444, \"#bd3786\"], [0.5555555555555556, \"#d8576b\"], [0.6666666666666666, \"#ed7953\"], [0.7777777777777778, \"#fb9f3a\"], [0.8888888888888888, \"#fdca26\"], [1.0, \"#f0f921\"]], \"type\": \"histogram2dcontour\"}], \"mesh3d\": [{\"colorbar\": {\"outlinewidth\": 0, \"ticks\": \"\"}, \"type\": \"mesh3d\"}], \"parcoords\": [{\"line\": {\"colorbar\": {\"outlinewidth\": 0, \"ticks\": \"\"}}, \"type\": \"parcoords\"}], \"pie\": [{\"automargin\": true, \"type\": \"pie\"}], \"scatter\": [{\"marker\": {\"colorbar\": {\"outlinewidth\": 0, \"ticks\": \"\"}}, \"type\": \"scatter\"}], \"scatter3d\": [{\"line\": {\"colorbar\": {\"outlinewidth\": 0, \"ticks\": \"\"}}, \"marker\": {\"colorbar\": {\"outlinewidth\": 0, \"ticks\": \"\"}}, \"type\": \"scatter3d\"}], \"scattercarpet\": [{\"marker\": {\"colorbar\": {\"outlinewidth\": 0, \"ticks\": \"\"}}, \"type\": \"scattercarpet\"}], \"scattergeo\": [{\"marker\": {\"colorbar\": {\"outlinewidth\": 0, \"ticks\": \"\"}}, \"type\": \"scattergeo\"}], \"scattergl\": [{\"marker\": {\"colorbar\": {\"outlinewidth\": 0, \"ticks\": \"\"}}, \"type\": \"scattergl\"}], \"scattermapbox\": [{\"marker\": {\"colorbar\": {\"outlinewidth\": 0, \"ticks\": \"\"}}, \"type\": \"scattermapbox\"}], \"scatterpolar\": [{\"marker\": {\"colorbar\": {\"outlinewidth\": 0, \"ticks\": \"\"}}, \"type\": \"scatterpolar\"}], \"scatterpolargl\": [{\"marker\": {\"colorbar\": {\"outlinewidth\": 0, \"ticks\": \"\"}}, \"type\": \"scatterpolargl\"}], \"scatterternary\": [{\"marker\": {\"colorbar\": {\"outlinewidth\": 0, \"ticks\": \"\"}}, \"type\": \"scatterternary\"}], \"surface\": [{\"colorbar\": {\"outlinewidth\": 0, \"ticks\": \"\"}, \"colorscale\": [[0.0, \"#0d0887\"], [0.1111111111111111, \"#46039f\"], [0.2222222222222222, \"#7201a8\"], [0.3333333333333333, \"#9c179e\"], [0.4444444444444444, \"#bd3786\"], [0.5555555555555556, \"#d8576b\"], [0.6666666666666666, \"#ed7953\"], [0.7777777777777778, \"#fb9f3a\"], [0.8888888888888888, \"#fdca26\"], [1.0, \"#f0f921\"]], \"type\": \"surface\"}], \"table\": [{\"cells\": {\"fill\": {\"color\": \"#EBF0F8\"}, \"line\": {\"color\": \"white\"}}, \"header\": {\"fill\": {\"color\": \"#C8D4E3\"}, \"line\": {\"color\": \"white\"}}, \"type\": \"table\"}]}, \"layout\": {\"annotationdefaults\": {\"arrowcolor\": \"#2a3f5f\", \"arrowhead\": 0, \"arrowwidth\": 1}, \"coloraxis\": {\"colorbar\": {\"outlinewidth\": 0, \"ticks\": \"\"}}, \"colorscale\": {\"diverging\": [[0, \"#8e0152\"], [0.1, \"#c51b7d\"], [0.2, \"#de77ae\"], [0.3, \"#f1b6da\"], [0.4, \"#fde0ef\"], [0.5, \"#f7f7f7\"], [0.6, \"#e6f5d0\"], [0.7, \"#b8e186\"], [0.8, \"#7fbc41\"], [0.9, \"#4d9221\"], [1, \"#276419\"]], \"sequential\": [[0.0, \"#0d0887\"], [0.1111111111111111, \"#46039f\"], [0.2222222222222222, \"#7201a8\"], [0.3333333333333333, \"#9c179e\"], [0.4444444444444444, \"#bd3786\"], [0.5555555555555556, \"#d8576b\"], [0.6666666666666666, \"#ed7953\"], [0.7777777777777778, \"#fb9f3a\"], [0.8888888888888888, \"#fdca26\"], [1.0, \"#f0f921\"]], \"sequentialminus\": [[0.0, \"#0d0887\"], [0.1111111111111111, \"#46039f\"], [0.2222222222222222, \"#7201a8\"], [0.3333333333333333, \"#9c179e\"], [0.4444444444444444, \"#bd3786\"], [0.5555555555555556, \"#d8576b\"], [0.6666666666666666, \"#ed7953\"], [0.7777777777777778, \"#fb9f3a\"], [0.8888888888888888, \"#fdca26\"], [1.0, \"#f0f921\"]]}, \"colorway\": [\"#636efa\", \"#EF553B\", \"#00cc96\", \"#ab63fa\", \"#FFA15A\", \"#19d3f3\", \"#FF6692\", \"#B6E880\", \"#FF97FF\", \"#FECB52\"], \"font\": {\"color\": \"#2a3f5f\"}, \"geo\": {\"bgcolor\": \"white\", \"lakecolor\": \"white\", \"landcolor\": \"#E5ECF6\", \"showlakes\": true, \"showland\": true, \"subunitcolor\": \"white\"}, \"hoverlabel\": {\"align\": \"left\"}, \"hovermode\": \"closest\", \"mapbox\": {\"style\": \"light\"}, \"paper_bgcolor\": \"white\", \"plot_bgcolor\": \"#E5ECF6\", \"polar\": {\"angularaxis\": {\"gridcolor\": \"white\", \"linecolor\": \"white\", \"ticks\": \"\"}, \"bgcolor\": \"#E5ECF6\", \"radialaxis\": {\"gridcolor\": \"white\", \"linecolor\": \"white\", \"ticks\": \"\"}}, \"scene\": {\"xaxis\": {\"backgroundcolor\": \"#E5ECF6\", \"gridcolor\": \"white\", \"gridwidth\": 2, \"linecolor\": \"white\", \"showbackground\": true, \"ticks\": \"\", \"zerolinecolor\": \"white\"}, \"yaxis\": {\"backgroundcolor\": \"#E5ECF6\", \"gridcolor\": \"white\", \"gridwidth\": 2, \"linecolor\": \"white\", \"showbackground\": true, \"ticks\": \"\", \"zerolinecolor\": \"white\"}, \"zaxis\": {\"backgroundcolor\": \"#E5ECF6\", \"gridcolor\": \"white\", \"gridwidth\": 2, \"linecolor\": \"white\", \"showbackground\": true, \"ticks\": \"\", \"zerolinecolor\": \"white\"}}, \"shapedefaults\": {\"line\": {\"color\": \"#2a3f5f\"}}, \"ternary\": {\"aaxis\": {\"gridcolor\": \"white\", \"linecolor\": \"white\", \"ticks\": \"\"}, \"baxis\": {\"gridcolor\": \"white\", \"linecolor\": \"white\", \"ticks\": \"\"}, \"bgcolor\": \"#E5ECF6\", \"caxis\": {\"gridcolor\": \"white\", \"linecolor\": \"white\", \"ticks\": \"\"}}, \"title\": {\"x\": 0.05}, \"xaxis\": {\"automargin\": true, \"gridcolor\": \"white\", \"linecolor\": \"white\", \"ticks\": \"\", \"title\": {\"standoff\": 15}, \"zerolinecolor\": \"white\", \"zerolinewidth\": 2}, \"yaxis\": {\"automargin\": true, \"gridcolor\": \"white\", \"linecolor\": \"white\", \"ticks\": \"\", \"title\": {\"standoff\": 15}, \"zerolinecolor\": \"white\", \"zerolinewidth\": 2}}}, \"title\": {\"text\": \"New Infections vs Temperature\"}, \"xaxis\": {\"anchor\": \"y\", \"domain\": [0.0, 1.0], \"title\": {\"text\": \"TempAvg\"}}, \"xaxis2\": {\"anchor\": \"y2\", \"domain\": [0.0, 1.0], \"matches\": \"x\", \"showgrid\": true, \"showticklabels\": false}, \"yaxis\": {\"anchor\": \"x\", \"domain\": [0.0, 0.7326], \"title\": {\"text\": \"Confirmed\"}}, \"yaxis2\": {\"anchor\": \"x2\", \"domain\": [0.7426, 1.0], \"matches\": \"y2\", \"showgrid\": false, \"showline\": false, \"showticklabels\": false, \"ticks\": \"\"}},\n",
       "                        {\"responsive\": true}\n",
       "                    ).then(function(){\n",
       "                            \n",
       "var gd = document.getElementById('a6aa427e-9734-40fe-b1fb-633be74a79ab');\n",
       "var x = new MutationObserver(function (mutations, observer) {{\n",
       "        var display = window.getComputedStyle(gd).display;\n",
       "        if (!display || display === 'none') {{\n",
       "            console.log([gd, 'removed!']);\n",
       "            Plotly.purge(gd);\n",
       "            observer.disconnect();\n",
       "        }}\n",
       "}});\n",
       "\n",
       "// Listen for the removal of the full notebook cells\n",
       "var notebookContainer = gd.closest('#notebook-container');\n",
       "if (notebookContainer) {{\n",
       "    x.observe(notebookContainer, {childList: true});\n",
       "}}\n",
       "\n",
       "// Listen for the clearing of the current output cell\n",
       "var outputEl = gd.closest('.output');\n",
       "if (outputEl) {{\n",
       "    x.observe(outputEl, {childList: true});\n",
       "}}\n",
       "\n",
       "                        })\n",
       "                };\n",
       "                });\n",
       "            </script>\n",
       "        </div>"
      ]
     },
     "metadata": {},
     "output_type": "display_data"
    }
   ],
   "source": [
    "# Scatter plot between the Average Temperature and the number of Cases by Province/State\n",
    "px.scatter(covid_weather, x=\"TempAvg\", y=\"Confirmed\", color=\"Province/State\",\n",
    "                 marginal_y=None, marginal_x=\"box\", trendline=\"o\",\n",
    "          title='New Infections vs Temperature')"
   ]
  },
  {
   "cell_type": "markdown",
   "metadata": {},
   "source": [
    "As we exposed at the beginning of this section, it could be interesting (and potentially better for visualization) to create 3 clusters using the temperature. Probably and given the descriptive and exploratory analysis that we did so far, we know between which ranges the temperature will vary, but I think it's better to use a K-means algorithm to find these intervals."
   ]
  },
  {
   "cell_type": "code",
   "execution_count": 165,
   "metadata": {},
   "outputs": [
    {
     "data": {
      "text/html": [
       "<div>\n",
       "<style scoped>\n",
       "    .dataframe tbody tr th:only-of-type {\n",
       "        vertical-align: middle;\n",
       "    }\n",
       "\n",
       "    .dataframe tbody tr th {\n",
       "        vertical-align: top;\n",
       "    }\n",
       "\n",
       "    .dataframe thead tr th {\n",
       "        text-align: left;\n",
       "    }\n",
       "\n",
       "    .dataframe thead tr:last-of-type th {\n",
       "        text-align: right;\n",
       "    }\n",
       "</style>\n",
       "<table border=\"1\" class=\"dataframe\">\n",
       "  <thead>\n",
       "    <tr>\n",
       "      <th></th>\n",
       "      <th>min</th>\n",
       "      <th>max</th>\n",
       "    </tr>\n",
       "    <tr>\n",
       "      <th></th>\n",
       "      <th>TempAvg</th>\n",
       "      <th>TempAvg</th>\n",
       "    </tr>\n",
       "    <tr>\n",
       "      <th>Cluster_Temp</th>\n",
       "      <th></th>\n",
       "      <th></th>\n",
       "    </tr>\n",
       "  </thead>\n",
       "  <tbody>\n",
       "    <tr>\n",
       "      <th>0</th>\n",
       "      <td>40.3</td>\n",
       "      <td>59.3</td>\n",
       "    </tr>\n",
       "    <tr>\n",
       "      <th>1</th>\n",
       "      <td>60.3</td>\n",
       "      <td>86.9</td>\n",
       "    </tr>\n",
       "    <tr>\n",
       "      <th>2</th>\n",
       "      <td>14.0</td>\n",
       "      <td>39.7</td>\n",
       "    </tr>\n",
       "  </tbody>\n",
       "</table>\n",
       "</div>"
      ],
      "text/plain": [
       "                 min     max\n",
       "             TempAvg TempAvg\n",
       "Cluster_Temp                \n",
       "0               40.3    59.3\n",
       "1               60.3    86.9\n",
       "2               14.0    39.7"
      ]
     },
     "execution_count": 165,
     "metadata": {},
     "output_type": "execute_result"
    }
   ],
   "source": [
    "# Import k-means from sklearn\n",
    "from sklearn.cluster import KMeans\n",
    "# Extract the information  about the temperatures\n",
    "X=np.array(covid_weather['TempAvg'])\n",
    "# Cluster\n",
    "kmeans = KMeans(n_clusters=3, random_state=0).fit(X.reshape(-1,1))\n",
    "# Include the labels in our data frame in the variable \"Cluster_Temp\"\n",
    "covid_weather['Cluster_Temp']=kmeans.labels_\n",
    "# Compute the min and max temperature values in each cluster\n",
    "covid_weather.pivot_table(index='Cluster_Temp',values='TempAvg',aggfunc=['min','max'])"
   ]
  },
  {
   "cell_type": "markdown",
   "metadata": {},
   "source": [
    "The above table resumes the results of the k-means analysis. The results look very similar to what we expected, note that one of the cluster (cluster #2) groups temperatures under $\\approx 40^o F$ while the cluster #1 groups temperatures greater than $60^o F$. Finally, the cluster #0 groups temperatures between $\\approx 40$ and $60^o F$.    \n",
    "Now, let's transform the new variable `Cluster_Temp` to include the ranges of values as labels instead of integer labels than doesn't provide much information."
   ]
  },
  {
   "cell_type": "code",
   "execution_count": 166,
   "metadata": {},
   "outputs": [
    {
     "data": {
      "application/vnd.plotly.v1+json": {
       "config": {
        "plotlyServerURL": "https://plot.ly"
       },
       "data": [
        {
         "hoverlabel": {
          "namelength": 0
         },
         "hovertemplate": "Cluster_Temp=%{y}<br>TempAvg=%{x}",
         "legendgroup": "Cluster_Temp=40-60 F",
         "marker": {
          "color": "#636efa",
          "symbol": "circle"
         },
         "mode": "markers",
         "name": "Cluster_Temp=40-60 F",
         "showlegend": true,
         "type": "scatter",
         "x": [
          48.2,
          52.4,
          50.5,
          44.8,
          41.6,
          41,
          47.8,
          59.3,
          50.4,
          44.7,
          54.6,
          48.9,
          46.8,
          47.5,
          47.6,
          46.2,
          56,
          48.5,
          44,
          42.8,
          47,
          45.2,
          45.4,
          43.5,
          41.7,
          52.1,
          53.7,
          51.1,
          54.2,
          56.9,
          53.3,
          52,
          50.2,
          45.9,
          41.2,
          44.4,
          44,
          46.7,
          48.1,
          46.4,
          49.5,
          52.1,
          47.5,
          45.7,
          48.7,
          47.4,
          46.3,
          45.6,
          44.4,
          48,
          48.6,
          50.5,
          50.5,
          49,
          52.4,
          52.9,
          51,
          51.1,
          52.6,
          51.8,
          51.3,
          58.3,
          55,
          49.1,
          46.9,
          47.1,
          53.8,
          54.4,
          58.6,
          59.3,
          54.9,
          45.1,
          50.8,
          54.3,
          54.9,
          52.9,
          48.2,
          48.5,
          50.4,
          53.4,
          53,
          48.2,
          46.2,
          49.3,
          50,
          46.9,
          45.2,
          45.9,
          46.6,
          50.2,
          55.4,
          52.1,
          49.1,
          45.8,
          49.8,
          44.7,
          44.2,
          40.8,
          46.6,
          45.5,
          43.9,
          43.7,
          48.1,
          47.4,
          45.6,
          49.5,
          53.8,
          52.5,
          58.9,
          51.2,
          47.1,
          48.1,
          49.5,
          52.4,
          55.4,
          54.1,
          55,
          53.3,
          43.3,
          42.9,
          42.4,
          40.7,
          45,
          48.6,
          41.6,
          43,
          40.9,
          41.9,
          57.5,
          46.8,
          49.5,
          45,
          41.4,
          41,
          42.8,
          49.9,
          46,
          43.8,
          42.1,
          44.7,
          44.8,
          42.7,
          40.8,
          49.1,
          57.6,
          59.3,
          49.8,
          44.3,
          44.3,
          44.8,
          52.3,
          52.6,
          54.5,
          43.1,
          41.9,
          43.3,
          40.7,
          42.4,
          40.3,
          43,
          44.5,
          43.2,
          44.3,
          42.7,
          43.2,
          41.3,
          44,
          40.7,
          40.7,
          41.2,
          43.4,
          41.6,
          45,
          43.2
         ],
         "xaxis": "x",
         "y": [
          "40-60 F",
          "40-60 F",
          "40-60 F",
          "40-60 F",
          "40-60 F",
          "40-60 F",
          "40-60 F",
          "40-60 F",
          "40-60 F",
          "40-60 F",
          "40-60 F",
          "40-60 F",
          "40-60 F",
          "40-60 F",
          "40-60 F",
          "40-60 F",
          "40-60 F",
          "40-60 F",
          "40-60 F",
          "40-60 F",
          "40-60 F",
          "40-60 F",
          "40-60 F",
          "40-60 F",
          "40-60 F",
          "40-60 F",
          "40-60 F",
          "40-60 F",
          "40-60 F",
          "40-60 F",
          "40-60 F",
          "40-60 F",
          "40-60 F",
          "40-60 F",
          "40-60 F",
          "40-60 F",
          "40-60 F",
          "40-60 F",
          "40-60 F",
          "40-60 F",
          "40-60 F",
          "40-60 F",
          "40-60 F",
          "40-60 F",
          "40-60 F",
          "40-60 F",
          "40-60 F",
          "40-60 F",
          "40-60 F",
          "40-60 F",
          "40-60 F",
          "40-60 F",
          "40-60 F",
          "40-60 F",
          "40-60 F",
          "40-60 F",
          "40-60 F",
          "40-60 F",
          "40-60 F",
          "40-60 F",
          "40-60 F",
          "40-60 F",
          "40-60 F",
          "40-60 F",
          "40-60 F",
          "40-60 F",
          "40-60 F",
          "40-60 F",
          "40-60 F",
          "40-60 F",
          "40-60 F",
          "40-60 F",
          "40-60 F",
          "40-60 F",
          "40-60 F",
          "40-60 F",
          "40-60 F",
          "40-60 F",
          "40-60 F",
          "40-60 F",
          "40-60 F",
          "40-60 F",
          "40-60 F",
          "40-60 F",
          "40-60 F",
          "40-60 F",
          "40-60 F",
          "40-60 F",
          "40-60 F",
          "40-60 F",
          "40-60 F",
          "40-60 F",
          "40-60 F",
          "40-60 F",
          "40-60 F",
          "40-60 F",
          "40-60 F",
          "40-60 F",
          "40-60 F",
          "40-60 F",
          "40-60 F",
          "40-60 F",
          "40-60 F",
          "40-60 F",
          "40-60 F",
          "40-60 F",
          "40-60 F",
          "40-60 F",
          "40-60 F",
          "40-60 F",
          "40-60 F",
          "40-60 F",
          "40-60 F",
          "40-60 F",
          "40-60 F",
          "40-60 F",
          "40-60 F",
          "40-60 F",
          "40-60 F",
          "40-60 F",
          "40-60 F",
          "40-60 F",
          "40-60 F",
          "40-60 F",
          "40-60 F",
          "40-60 F",
          "40-60 F",
          "40-60 F",
          "40-60 F",
          "40-60 F",
          "40-60 F",
          "40-60 F",
          "40-60 F",
          "40-60 F",
          "40-60 F",
          "40-60 F",
          "40-60 F",
          "40-60 F",
          "40-60 F",
          "40-60 F",
          "40-60 F",
          "40-60 F",
          "40-60 F",
          "40-60 F",
          "40-60 F",
          "40-60 F",
          "40-60 F",
          "40-60 F",
          "40-60 F",
          "40-60 F",
          "40-60 F",
          "40-60 F",
          "40-60 F",
          "40-60 F",
          "40-60 F",
          "40-60 F",
          "40-60 F",
          "40-60 F",
          "40-60 F",
          "40-60 F",
          "40-60 F",
          "40-60 F",
          "40-60 F",
          "40-60 F",
          "40-60 F",
          "40-60 F",
          "40-60 F",
          "40-60 F",
          "40-60 F",
          "40-60 F",
          "40-60 F",
          "40-60 F",
          "40-60 F",
          "40-60 F"
         ],
         "yaxis": "y"
        },
        {
         "hoverlabel": {
          "namelength": 0
         },
         "hovertemplate": "Cluster_Temp=40-60 F",
         "legendgroup": "Cluster_Temp=40-60 F",
         "marker": {
          "color": "#636efa",
          "symbol": "circle"
         },
         "mode": "lines",
         "name": "Cluster_Temp=40-60 F",
         "showlegend": false,
         "type": "scatter",
         "xaxis": "x",
         "yaxis": "y"
        },
        {
         "hoverlabel": {
          "namelength": 0
         },
         "hovertemplate": "Cluster_Temp=%{y}<br>TempAvg=%{x}",
         "legendgroup": "Cluster_Temp=>60 F",
         "marker": {
          "color": "#EF553B",
          "symbol": "circle"
         },
         "mode": "markers",
         "name": "Cluster_Temp=>60 F",
         "showlegend": true,
         "type": "scatter",
         "x": [
          61,
          60.3,
          60.4,
          69.5,
          68.2,
          70.8,
          74.1,
          75.6,
          71.8,
          67.8,
          68.6,
          67.9,
          69,
          69.8,
          68.8,
          68.4,
          69.3,
          68.6,
          69.9,
          72.6,
          71.5,
          68,
          71.4,
          70.2,
          70.9,
          74.8,
          76.6,
          76.1,
          74.7,
          76.6,
          78.1,
          75.6,
          75.5,
          75.3,
          71,
          70.9,
          71.8,
          72.3,
          68.7,
          69.8,
          73.2,
          69,
          67.4,
          65.2,
          65.2,
          65,
          67.3,
          67.3,
          65.3,
          67,
          67.7,
          66.9,
          67.5,
          65.9,
          68,
          69.3,
          72.4,
          75,
          74.8,
          71.8,
          65.1,
          64.4,
          65.7,
          66.4,
          71.9,
          75.3,
          73.9,
          75.6,
          77.4,
          75.3,
          76.7,
          77.8,
          80,
          81.7,
          79.2,
          71.1,
          70.5,
          72.5,
          72.5,
          75.3,
          71.7,
          70.6,
          71.6,
          73.4,
          75.4,
          76.3,
          73,
          74.8,
          72.8,
          71.9,
          74.6,
          79.4,
          81,
          77.7,
          77.8,
          80.5,
          83.3,
          83.2,
          75.7,
          76,
          72.5,
          70.6,
          70.7,
          73.9,
          72.2,
          74.2,
          86.9,
          80.7,
          78,
          75.4,
          73.9,
          74.3,
          76.1,
          80.2,
          75.3,
          74.7,
          74.9,
          75.8,
          75.5,
          75.5,
          77.8,
          76.1,
          77.2,
          76.4,
          75,
          74.2,
          74.2,
          72.3,
          73.1,
          72.6,
          73.1,
          74.1,
          72.3,
          70.8,
          68.5,
          68.3,
          69.9
         ],
         "xaxis": "x",
         "y": [
          ">60 F",
          ">60 F",
          ">60 F",
          ">60 F",
          ">60 F",
          ">60 F",
          ">60 F",
          ">60 F",
          ">60 F",
          ">60 F",
          ">60 F",
          ">60 F",
          ">60 F",
          ">60 F",
          ">60 F",
          ">60 F",
          ">60 F",
          ">60 F",
          ">60 F",
          ">60 F",
          ">60 F",
          ">60 F",
          ">60 F",
          ">60 F",
          ">60 F",
          ">60 F",
          ">60 F",
          ">60 F",
          ">60 F",
          ">60 F",
          ">60 F",
          ">60 F",
          ">60 F",
          ">60 F",
          ">60 F",
          ">60 F",
          ">60 F",
          ">60 F",
          ">60 F",
          ">60 F",
          ">60 F",
          ">60 F",
          ">60 F",
          ">60 F",
          ">60 F",
          ">60 F",
          ">60 F",
          ">60 F",
          ">60 F",
          ">60 F",
          ">60 F",
          ">60 F",
          ">60 F",
          ">60 F",
          ">60 F",
          ">60 F",
          ">60 F",
          ">60 F",
          ">60 F",
          ">60 F",
          ">60 F",
          ">60 F",
          ">60 F",
          ">60 F",
          ">60 F",
          ">60 F",
          ">60 F",
          ">60 F",
          ">60 F",
          ">60 F",
          ">60 F",
          ">60 F",
          ">60 F",
          ">60 F",
          ">60 F",
          ">60 F",
          ">60 F",
          ">60 F",
          ">60 F",
          ">60 F",
          ">60 F",
          ">60 F",
          ">60 F",
          ">60 F",
          ">60 F",
          ">60 F",
          ">60 F",
          ">60 F",
          ">60 F",
          ">60 F",
          ">60 F",
          ">60 F",
          ">60 F",
          ">60 F",
          ">60 F",
          ">60 F",
          ">60 F",
          ">60 F",
          ">60 F",
          ">60 F",
          ">60 F",
          ">60 F",
          ">60 F",
          ">60 F",
          ">60 F",
          ">60 F",
          ">60 F",
          ">60 F",
          ">60 F",
          ">60 F",
          ">60 F",
          ">60 F",
          ">60 F",
          ">60 F",
          ">60 F",
          ">60 F",
          ">60 F",
          ">60 F",
          ">60 F",
          ">60 F",
          ">60 F",
          ">60 F",
          ">60 F",
          ">60 F",
          ">60 F",
          ">60 F",
          ">60 F",
          ">60 F",
          ">60 F",
          ">60 F",
          ">60 F",
          ">60 F",
          ">60 F",
          ">60 F",
          ">60 F",
          ">60 F",
          ">60 F"
         ],
         "yaxis": "y"
        },
        {
         "hoverlabel": {
          "namelength": 0
         },
         "hovertemplate": "Cluster_Temp=>60 F",
         "legendgroup": "Cluster_Temp=>60 F",
         "marker": {
          "color": "#EF553B",
          "symbol": "circle"
         },
         "mode": "lines",
         "name": "Cluster_Temp=>60 F",
         "showlegend": false,
         "type": "scatter",
         "xaxis": "x",
         "yaxis": "y"
        },
        {
         "hoverlabel": {
          "namelength": 0
         },
         "hovertemplate": "Cluster_Temp=%{y}<br>TempAvg=%{x}",
         "legendgroup": "Cluster_Temp=<40 F",
         "marker": {
          "color": "#00cc96",
          "symbol": "circle"
         },
         "mode": "markers",
         "name": "Cluster_Temp=<40 F",
         "showlegend": true,
         "type": "scatter",
         "x": [
          39.3,
          38.4,
          39.2,
          15.3,
          19.2,
          31.7,
          32.8,
          29,
          25.5,
          19.5,
          28.7,
          22.4,
          26.6,
          21.6,
          19.6,
          31.9,
          31.1,
          20.4,
          15.7,
          29.4,
          25.4,
          30.6,
          36.1,
          21.1,
          14,
          24.5,
          32.2,
          31.8,
          34.1,
          39.6,
          37.9,
          33.8,
          32.7,
          34.9,
          32.3,
          39.5,
          34,
          36.1,
          38.5,
          38,
          34.7,
          36.7,
          39.3,
          30.1,
          27.3,
          32.8,
          32,
          30.1,
          36.8,
          38.7,
          37.3,
          33.4,
          29.8,
          38.5,
          39.3,
          34.1,
          34.1,
          32.5,
          32.5,
          29.7,
          29.9,
          34.2,
          39,
          39.7,
          38.7,
          35.8,
          34.7,
          33.9,
          34.2,
          39.3,
          38.9,
          35.6,
          29.8,
          38.2,
          39.1,
          34.5,
          31.2,
          30.5,
          36,
          39.5
         ],
         "xaxis": "x",
         "y": [
          "<40 F",
          "<40 F",
          "<40 F",
          "<40 F",
          "<40 F",
          "<40 F",
          "<40 F",
          "<40 F",
          "<40 F",
          "<40 F",
          "<40 F",
          "<40 F",
          "<40 F",
          "<40 F",
          "<40 F",
          "<40 F",
          "<40 F",
          "<40 F",
          "<40 F",
          "<40 F",
          "<40 F",
          "<40 F",
          "<40 F",
          "<40 F",
          "<40 F",
          "<40 F",
          "<40 F",
          "<40 F",
          "<40 F",
          "<40 F",
          "<40 F",
          "<40 F",
          "<40 F",
          "<40 F",
          "<40 F",
          "<40 F",
          "<40 F",
          "<40 F",
          "<40 F",
          "<40 F",
          "<40 F",
          "<40 F",
          "<40 F",
          "<40 F",
          "<40 F",
          "<40 F",
          "<40 F",
          "<40 F",
          "<40 F",
          "<40 F",
          "<40 F",
          "<40 F",
          "<40 F",
          "<40 F",
          "<40 F",
          "<40 F",
          "<40 F",
          "<40 F",
          "<40 F",
          "<40 F",
          "<40 F",
          "<40 F",
          "<40 F",
          "<40 F",
          "<40 F",
          "<40 F",
          "<40 F",
          "<40 F",
          "<40 F",
          "<40 F",
          "<40 F",
          "<40 F",
          "<40 F",
          "<40 F",
          "<40 F",
          "<40 F",
          "<40 F",
          "<40 F",
          "<40 F",
          "<40 F"
         ],
         "yaxis": "y"
        },
        {
         "hoverlabel": {
          "namelength": 0
         },
         "hovertemplate": "Cluster_Temp=<40 F",
         "legendgroup": "Cluster_Temp=<40 F",
         "marker": {
          "color": "#00cc96",
          "symbol": "circle"
         },
         "mode": "lines",
         "name": "Cluster_Temp=<40 F",
         "showlegend": false,
         "type": "scatter",
         "xaxis": "x",
         "yaxis": "y"
        }
       ],
       "layout": {
        "height": 300,
        "legend": {
         "tracegroupgap": 0
        },
        "margin": {
         "t": 60
        },
        "template": {
         "data": {
          "bar": [
           {
            "error_x": {
             "color": "#2a3f5f"
            },
            "error_y": {
             "color": "#2a3f5f"
            },
            "marker": {
             "line": {
              "color": "#E5ECF6",
              "width": 0.5
             }
            },
            "type": "bar"
           }
          ],
          "barpolar": [
           {
            "marker": {
             "line": {
              "color": "#E5ECF6",
              "width": 0.5
             }
            },
            "type": "barpolar"
           }
          ],
          "carpet": [
           {
            "aaxis": {
             "endlinecolor": "#2a3f5f",
             "gridcolor": "white",
             "linecolor": "white",
             "minorgridcolor": "white",
             "startlinecolor": "#2a3f5f"
            },
            "baxis": {
             "endlinecolor": "#2a3f5f",
             "gridcolor": "white",
             "linecolor": "white",
             "minorgridcolor": "white",
             "startlinecolor": "#2a3f5f"
            },
            "type": "carpet"
           }
          ],
          "choropleth": [
           {
            "colorbar": {
             "outlinewidth": 0,
             "ticks": ""
            },
            "type": "choropleth"
           }
          ],
          "contour": [
           {
            "colorbar": {
             "outlinewidth": 0,
             "ticks": ""
            },
            "colorscale": [
             [
              0,
              "#0d0887"
             ],
             [
              0.1111111111111111,
              "#46039f"
             ],
             [
              0.2222222222222222,
              "#7201a8"
             ],
             [
              0.3333333333333333,
              "#9c179e"
             ],
             [
              0.4444444444444444,
              "#bd3786"
             ],
             [
              0.5555555555555556,
              "#d8576b"
             ],
             [
              0.6666666666666666,
              "#ed7953"
             ],
             [
              0.7777777777777778,
              "#fb9f3a"
             ],
             [
              0.8888888888888888,
              "#fdca26"
             ],
             [
              1,
              "#f0f921"
             ]
            ],
            "type": "contour"
           }
          ],
          "contourcarpet": [
           {
            "colorbar": {
             "outlinewidth": 0,
             "ticks": ""
            },
            "type": "contourcarpet"
           }
          ],
          "heatmap": [
           {
            "colorbar": {
             "outlinewidth": 0,
             "ticks": ""
            },
            "colorscale": [
             [
              0,
              "#0d0887"
             ],
             [
              0.1111111111111111,
              "#46039f"
             ],
             [
              0.2222222222222222,
              "#7201a8"
             ],
             [
              0.3333333333333333,
              "#9c179e"
             ],
             [
              0.4444444444444444,
              "#bd3786"
             ],
             [
              0.5555555555555556,
              "#d8576b"
             ],
             [
              0.6666666666666666,
              "#ed7953"
             ],
             [
              0.7777777777777778,
              "#fb9f3a"
             ],
             [
              0.8888888888888888,
              "#fdca26"
             ],
             [
              1,
              "#f0f921"
             ]
            ],
            "type": "heatmap"
           }
          ],
          "heatmapgl": [
           {
            "colorbar": {
             "outlinewidth": 0,
             "ticks": ""
            },
            "colorscale": [
             [
              0,
              "#0d0887"
             ],
             [
              0.1111111111111111,
              "#46039f"
             ],
             [
              0.2222222222222222,
              "#7201a8"
             ],
             [
              0.3333333333333333,
              "#9c179e"
             ],
             [
              0.4444444444444444,
              "#bd3786"
             ],
             [
              0.5555555555555556,
              "#d8576b"
             ],
             [
              0.6666666666666666,
              "#ed7953"
             ],
             [
              0.7777777777777778,
              "#fb9f3a"
             ],
             [
              0.8888888888888888,
              "#fdca26"
             ],
             [
              1,
              "#f0f921"
             ]
            ],
            "type": "heatmapgl"
           }
          ],
          "histogram": [
           {
            "marker": {
             "colorbar": {
              "outlinewidth": 0,
              "ticks": ""
             }
            },
            "type": "histogram"
           }
          ],
          "histogram2d": [
           {
            "colorbar": {
             "outlinewidth": 0,
             "ticks": ""
            },
            "colorscale": [
             [
              0,
              "#0d0887"
             ],
             [
              0.1111111111111111,
              "#46039f"
             ],
             [
              0.2222222222222222,
              "#7201a8"
             ],
             [
              0.3333333333333333,
              "#9c179e"
             ],
             [
              0.4444444444444444,
              "#bd3786"
             ],
             [
              0.5555555555555556,
              "#d8576b"
             ],
             [
              0.6666666666666666,
              "#ed7953"
             ],
             [
              0.7777777777777778,
              "#fb9f3a"
             ],
             [
              0.8888888888888888,
              "#fdca26"
             ],
             [
              1,
              "#f0f921"
             ]
            ],
            "type": "histogram2d"
           }
          ],
          "histogram2dcontour": [
           {
            "colorbar": {
             "outlinewidth": 0,
             "ticks": ""
            },
            "colorscale": [
             [
              0,
              "#0d0887"
             ],
             [
              0.1111111111111111,
              "#46039f"
             ],
             [
              0.2222222222222222,
              "#7201a8"
             ],
             [
              0.3333333333333333,
              "#9c179e"
             ],
             [
              0.4444444444444444,
              "#bd3786"
             ],
             [
              0.5555555555555556,
              "#d8576b"
             ],
             [
              0.6666666666666666,
              "#ed7953"
             ],
             [
              0.7777777777777778,
              "#fb9f3a"
             ],
             [
              0.8888888888888888,
              "#fdca26"
             ],
             [
              1,
              "#f0f921"
             ]
            ],
            "type": "histogram2dcontour"
           }
          ],
          "mesh3d": [
           {
            "colorbar": {
             "outlinewidth": 0,
             "ticks": ""
            },
            "type": "mesh3d"
           }
          ],
          "parcoords": [
           {
            "line": {
             "colorbar": {
              "outlinewidth": 0,
              "ticks": ""
             }
            },
            "type": "parcoords"
           }
          ],
          "pie": [
           {
            "automargin": true,
            "type": "pie"
           }
          ],
          "scatter": [
           {
            "marker": {
             "colorbar": {
              "outlinewidth": 0,
              "ticks": ""
             }
            },
            "type": "scatter"
           }
          ],
          "scatter3d": [
           {
            "line": {
             "colorbar": {
              "outlinewidth": 0,
              "ticks": ""
             }
            },
            "marker": {
             "colorbar": {
              "outlinewidth": 0,
              "ticks": ""
             }
            },
            "type": "scatter3d"
           }
          ],
          "scattercarpet": [
           {
            "marker": {
             "colorbar": {
              "outlinewidth": 0,
              "ticks": ""
             }
            },
            "type": "scattercarpet"
           }
          ],
          "scattergeo": [
           {
            "marker": {
             "colorbar": {
              "outlinewidth": 0,
              "ticks": ""
             }
            },
            "type": "scattergeo"
           }
          ],
          "scattergl": [
           {
            "marker": {
             "colorbar": {
              "outlinewidth": 0,
              "ticks": ""
             }
            },
            "type": "scattergl"
           }
          ],
          "scattermapbox": [
           {
            "marker": {
             "colorbar": {
              "outlinewidth": 0,
              "ticks": ""
             }
            },
            "type": "scattermapbox"
           }
          ],
          "scatterpolar": [
           {
            "marker": {
             "colorbar": {
              "outlinewidth": 0,
              "ticks": ""
             }
            },
            "type": "scatterpolar"
           }
          ],
          "scatterpolargl": [
           {
            "marker": {
             "colorbar": {
              "outlinewidth": 0,
              "ticks": ""
             }
            },
            "type": "scatterpolargl"
           }
          ],
          "scatterternary": [
           {
            "marker": {
             "colorbar": {
              "outlinewidth": 0,
              "ticks": ""
             }
            },
            "type": "scatterternary"
           }
          ],
          "surface": [
           {
            "colorbar": {
             "outlinewidth": 0,
             "ticks": ""
            },
            "colorscale": [
             [
              0,
              "#0d0887"
             ],
             [
              0.1111111111111111,
              "#46039f"
             ],
             [
              0.2222222222222222,
              "#7201a8"
             ],
             [
              0.3333333333333333,
              "#9c179e"
             ],
             [
              0.4444444444444444,
              "#bd3786"
             ],
             [
              0.5555555555555556,
              "#d8576b"
             ],
             [
              0.6666666666666666,
              "#ed7953"
             ],
             [
              0.7777777777777778,
              "#fb9f3a"
             ],
             [
              0.8888888888888888,
              "#fdca26"
             ],
             [
              1,
              "#f0f921"
             ]
            ],
            "type": "surface"
           }
          ],
          "table": [
           {
            "cells": {
             "fill": {
              "color": "#EBF0F8"
             },
             "line": {
              "color": "white"
             }
            },
            "header": {
             "fill": {
              "color": "#C8D4E3"
             },
             "line": {
              "color": "white"
             }
            },
            "type": "table"
           }
          ]
         },
         "layout": {
          "annotationdefaults": {
           "arrowcolor": "#2a3f5f",
           "arrowhead": 0,
           "arrowwidth": 1
          },
          "coloraxis": {
           "colorbar": {
            "outlinewidth": 0,
            "ticks": ""
           }
          },
          "colorscale": {
           "diverging": [
            [
             0,
             "#8e0152"
            ],
            [
             0.1,
             "#c51b7d"
            ],
            [
             0.2,
             "#de77ae"
            ],
            [
             0.3,
             "#f1b6da"
            ],
            [
             0.4,
             "#fde0ef"
            ],
            [
             0.5,
             "#f7f7f7"
            ],
            [
             0.6,
             "#e6f5d0"
            ],
            [
             0.7,
             "#b8e186"
            ],
            [
             0.8,
             "#7fbc41"
            ],
            [
             0.9,
             "#4d9221"
            ],
            [
             1,
             "#276419"
            ]
           ],
           "sequential": [
            [
             0,
             "#0d0887"
            ],
            [
             0.1111111111111111,
             "#46039f"
            ],
            [
             0.2222222222222222,
             "#7201a8"
            ],
            [
             0.3333333333333333,
             "#9c179e"
            ],
            [
             0.4444444444444444,
             "#bd3786"
            ],
            [
             0.5555555555555556,
             "#d8576b"
            ],
            [
             0.6666666666666666,
             "#ed7953"
            ],
            [
             0.7777777777777778,
             "#fb9f3a"
            ],
            [
             0.8888888888888888,
             "#fdca26"
            ],
            [
             1,
             "#f0f921"
            ]
           ],
           "sequentialminus": [
            [
             0,
             "#0d0887"
            ],
            [
             0.1111111111111111,
             "#46039f"
            ],
            [
             0.2222222222222222,
             "#7201a8"
            ],
            [
             0.3333333333333333,
             "#9c179e"
            ],
            [
             0.4444444444444444,
             "#bd3786"
            ],
            [
             0.5555555555555556,
             "#d8576b"
            ],
            [
             0.6666666666666666,
             "#ed7953"
            ],
            [
             0.7777777777777778,
             "#fb9f3a"
            ],
            [
             0.8888888888888888,
             "#fdca26"
            ],
            [
             1,
             "#f0f921"
            ]
           ]
          },
          "colorway": [
           "#636efa",
           "#EF553B",
           "#00cc96",
           "#ab63fa",
           "#FFA15A",
           "#19d3f3",
           "#FF6692",
           "#B6E880",
           "#FF97FF",
           "#FECB52"
          ],
          "font": {
           "color": "#2a3f5f"
          },
          "geo": {
           "bgcolor": "white",
           "lakecolor": "white",
           "landcolor": "#E5ECF6",
           "showlakes": true,
           "showland": true,
           "subunitcolor": "white"
          },
          "hoverlabel": {
           "align": "left"
          },
          "hovermode": "closest",
          "mapbox": {
           "style": "light"
          },
          "paper_bgcolor": "white",
          "plot_bgcolor": "#E5ECF6",
          "polar": {
           "angularaxis": {
            "gridcolor": "white",
            "linecolor": "white",
            "ticks": ""
           },
           "bgcolor": "#E5ECF6",
           "radialaxis": {
            "gridcolor": "white",
            "linecolor": "white",
            "ticks": ""
           }
          },
          "scene": {
           "xaxis": {
            "backgroundcolor": "#E5ECF6",
            "gridcolor": "white",
            "gridwidth": 2,
            "linecolor": "white",
            "showbackground": true,
            "ticks": "",
            "zerolinecolor": "white"
           },
           "yaxis": {
            "backgroundcolor": "#E5ECF6",
            "gridcolor": "white",
            "gridwidth": 2,
            "linecolor": "white",
            "showbackground": true,
            "ticks": "",
            "zerolinecolor": "white"
           },
           "zaxis": {
            "backgroundcolor": "#E5ECF6",
            "gridcolor": "white",
            "gridwidth": 2,
            "linecolor": "white",
            "showbackground": true,
            "ticks": "",
            "zerolinecolor": "white"
           }
          },
          "shapedefaults": {
           "line": {
            "color": "#2a3f5f"
           }
          },
          "ternary": {
           "aaxis": {
            "gridcolor": "white",
            "linecolor": "white",
            "ticks": ""
           },
           "baxis": {
            "gridcolor": "white",
            "linecolor": "white",
            "ticks": ""
           },
           "bgcolor": "#E5ECF6",
           "caxis": {
            "gridcolor": "white",
            "linecolor": "white",
            "ticks": ""
           }
          },
          "title": {
           "x": 0.05
          },
          "xaxis": {
           "automargin": true,
           "gridcolor": "white",
           "linecolor": "white",
           "ticks": "",
           "title": {
            "standoff": 15
           },
           "zerolinecolor": "white",
           "zerolinewidth": 2
          },
          "yaxis": {
           "automargin": true,
           "gridcolor": "white",
           "linecolor": "white",
           "ticks": "",
           "title": {
            "standoff": 15
           },
           "zerolinecolor": "white",
           "zerolinewidth": 2
          }
         }
        },
        "width": 900,
        "xaxis": {
         "anchor": "y",
         "domain": [
          0,
          1
         ],
         "title": {
          "text": "TempAvg"
         }
        },
        "yaxis": {
         "anchor": "x",
         "categoryarray": [
          "<40 F",
          ">60 F",
          "40-60 F"
         ],
         "categoryorder": "array",
         "domain": [
          0,
          1
         ],
         "title": {
          "text": "Cluster_Temp"
         }
        }
       }
      },
      "text/html": [
       "<div>\n",
       "        \n",
       "        \n",
       "            <div id=\"819eb121-28f0-4f37-bb2b-857ff8f5cf04\" class=\"plotly-graph-div\" style=\"height:300px; width:900px;\"></div>\n",
       "            <script type=\"text/javascript\">\n",
       "                require([\"plotly\"], function(Plotly) {\n",
       "                    window.PLOTLYENV=window.PLOTLYENV || {};\n",
       "                    \n",
       "                if (document.getElementById(\"819eb121-28f0-4f37-bb2b-857ff8f5cf04\")) {\n",
       "                    Plotly.newPlot(\n",
       "                        '819eb121-28f0-4f37-bb2b-857ff8f5cf04',\n",
       "                        [{\"hoverlabel\": {\"namelength\": 0}, \"hovertemplate\": \"Cluster_Temp=%{y}<br>TempAvg=%{x}\", \"legendgroup\": \"Cluster_Temp=40-60 F\", \"marker\": {\"color\": \"#636efa\", \"symbol\": \"circle\"}, \"mode\": \"markers\", \"name\": \"Cluster_Temp=40-60 F\", \"showlegend\": true, \"type\": \"scatter\", \"x\": [48.2, 52.4, 50.5, 44.8, 41.6, 41.0, 47.8, 59.3, 50.4, 44.7, 54.6, 48.9, 46.8, 47.5, 47.6, 46.2, 56.0, 48.5, 44.0, 42.8, 47.0, 45.2, 45.4, 43.5, 41.7, 52.1, 53.7, 51.1, 54.2, 56.9, 53.3, 52.0, 50.2, 45.9, 41.2, 44.4, 44.0, 46.7, 48.1, 46.4, 49.5, 52.1, 47.5, 45.7, 48.7, 47.4, 46.3, 45.6, 44.4, 48.0, 48.6, 50.5, 50.5, 49.0, 52.4, 52.9, 51.0, 51.1, 52.6, 51.8, 51.3, 58.3, 55.0, 49.1, 46.9, 47.1, 53.8, 54.4, 58.6, 59.3, 54.9, 45.1, 50.8, 54.3, 54.9, 52.9, 48.2, 48.5, 50.4, 53.4, 53.0, 48.2, 46.2, 49.3, 50.0, 46.9, 45.2, 45.9, 46.6, 50.2, 55.4, 52.1, 49.1, 45.8, 49.8, 44.7, 44.2, 40.8, 46.6, 45.5, 43.9, 43.7, 48.1, 47.4, 45.6, 49.5, 53.8, 52.5, 58.9, 51.2, 47.1, 48.1, 49.5, 52.4, 55.4, 54.1, 55.0, 53.3, 43.3, 42.9, 42.4, 40.7, 45.0, 48.6, 41.6, 43.0, 40.9, 41.9, 57.5, 46.8, 49.5, 45.0, 41.4, 41.0, 42.8, 49.9, 46.0, 43.8, 42.1, 44.7, 44.8, 42.7, 40.8, 49.1, 57.6, 59.3, 49.8, 44.3, 44.3, 44.8, 52.3, 52.6, 54.5, 43.1, 41.9, 43.3, 40.7, 42.4, 40.3, 43.0, 44.5, 43.2, 44.3, 42.7, 43.2, 41.3, 44.0, 40.7, 40.7, 41.2, 43.4, 41.6, 45.0, 43.2], \"xaxis\": \"x\", \"y\": [\"40-60 F\", \"40-60 F\", \"40-60 F\", \"40-60 F\", \"40-60 F\", \"40-60 F\", \"40-60 F\", \"40-60 F\", \"40-60 F\", \"40-60 F\", \"40-60 F\", \"40-60 F\", \"40-60 F\", \"40-60 F\", \"40-60 F\", \"40-60 F\", \"40-60 F\", \"40-60 F\", \"40-60 F\", \"40-60 F\", \"40-60 F\", \"40-60 F\", \"40-60 F\", \"40-60 F\", \"40-60 F\", \"40-60 F\", \"40-60 F\", \"40-60 F\", \"40-60 F\", \"40-60 F\", \"40-60 F\", \"40-60 F\", \"40-60 F\", \"40-60 F\", \"40-60 F\", \"40-60 F\", \"40-60 F\", \"40-60 F\", \"40-60 F\", \"40-60 F\", \"40-60 F\", \"40-60 F\", \"40-60 F\", \"40-60 F\", \"40-60 F\", \"40-60 F\", \"40-60 F\", \"40-60 F\", \"40-60 F\", \"40-60 F\", \"40-60 F\", \"40-60 F\", \"40-60 F\", \"40-60 F\", \"40-60 F\", \"40-60 F\", \"40-60 F\", \"40-60 F\", \"40-60 F\", \"40-60 F\", \"40-60 F\", \"40-60 F\", \"40-60 F\", \"40-60 F\", \"40-60 F\", \"40-60 F\", \"40-60 F\", \"40-60 F\", \"40-60 F\", \"40-60 F\", \"40-60 F\", \"40-60 F\", \"40-60 F\", \"40-60 F\", \"40-60 F\", \"40-60 F\", \"40-60 F\", \"40-60 F\", \"40-60 F\", \"40-60 F\", \"40-60 F\", \"40-60 F\", \"40-60 F\", \"40-60 F\", \"40-60 F\", \"40-60 F\", \"40-60 F\", \"40-60 F\", \"40-60 F\", \"40-60 F\", \"40-60 F\", \"40-60 F\", \"40-60 F\", \"40-60 F\", \"40-60 F\", \"40-60 F\", \"40-60 F\", \"40-60 F\", \"40-60 F\", \"40-60 F\", \"40-60 F\", \"40-60 F\", \"40-60 F\", \"40-60 F\", \"40-60 F\", \"40-60 F\", \"40-60 F\", \"40-60 F\", \"40-60 F\", \"40-60 F\", \"40-60 F\", \"40-60 F\", \"40-60 F\", \"40-60 F\", \"40-60 F\", \"40-60 F\", \"40-60 F\", \"40-60 F\", \"40-60 F\", \"40-60 F\", \"40-60 F\", \"40-60 F\", \"40-60 F\", \"40-60 F\", \"40-60 F\", \"40-60 F\", \"40-60 F\", \"40-60 F\", \"40-60 F\", \"40-60 F\", \"40-60 F\", \"40-60 F\", \"40-60 F\", \"40-60 F\", \"40-60 F\", \"40-60 F\", \"40-60 F\", \"40-60 F\", \"40-60 F\", \"40-60 F\", \"40-60 F\", \"40-60 F\", \"40-60 F\", \"40-60 F\", \"40-60 F\", \"40-60 F\", \"40-60 F\", \"40-60 F\", \"40-60 F\", \"40-60 F\", \"40-60 F\", \"40-60 F\", \"40-60 F\", \"40-60 F\", \"40-60 F\", \"40-60 F\", \"40-60 F\", \"40-60 F\", \"40-60 F\", \"40-60 F\", \"40-60 F\", \"40-60 F\", \"40-60 F\", \"40-60 F\", \"40-60 F\", \"40-60 F\", \"40-60 F\", \"40-60 F\", \"40-60 F\", \"40-60 F\", \"40-60 F\", \"40-60 F\", \"40-60 F\", \"40-60 F\"], \"yaxis\": \"y\"}, {\"hoverlabel\": {\"namelength\": 0}, \"hovertemplate\": \"Cluster_Temp=40-60 F\", \"legendgroup\": \"Cluster_Temp=40-60 F\", \"marker\": {\"color\": \"#636efa\", \"symbol\": \"circle\"}, \"mode\": \"lines\", \"name\": \"Cluster_Temp=40-60 F\", \"showlegend\": false, \"type\": \"scatter\", \"xaxis\": \"x\", \"yaxis\": \"y\"}, {\"hoverlabel\": {\"namelength\": 0}, \"hovertemplate\": \"Cluster_Temp=%{y}<br>TempAvg=%{x}\", \"legendgroup\": \"Cluster_Temp=>60 F\", \"marker\": {\"color\": \"#EF553B\", \"symbol\": \"circle\"}, \"mode\": \"markers\", \"name\": \"Cluster_Temp=>60 F\", \"showlegend\": true, \"type\": \"scatter\", \"x\": [61.0, 60.3, 60.4, 69.5, 68.2, 70.8, 74.1, 75.6, 71.8, 67.8, 68.6, 67.9, 69.0, 69.8, 68.8, 68.4, 69.3, 68.6, 69.9, 72.6, 71.5, 68.0, 71.4, 70.2, 70.9, 74.8, 76.6, 76.1, 74.7, 76.6, 78.1, 75.6, 75.5, 75.3, 71.0, 70.9, 71.8, 72.3, 68.7, 69.8, 73.2, 69.0, 67.4, 65.2, 65.2, 65.0, 67.3, 67.3, 65.3, 67.0, 67.7, 66.9, 67.5, 65.9, 68.0, 69.3, 72.4, 75.0, 74.8, 71.8, 65.1, 64.4, 65.7, 66.4, 71.9, 75.3, 73.9, 75.6, 77.4, 75.3, 76.7, 77.8, 80.0, 81.7, 79.2, 71.1, 70.5, 72.5, 72.5, 75.3, 71.7, 70.6, 71.6, 73.4, 75.4, 76.3, 73.0, 74.8, 72.8, 71.9, 74.6, 79.4, 81.0, 77.7, 77.8, 80.5, 83.3, 83.2, 75.7, 76.0, 72.5, 70.6, 70.7, 73.9, 72.2, 74.2, 86.9, 80.7, 78.0, 75.4, 73.9, 74.3, 76.1, 80.2, 75.3, 74.7, 74.9, 75.8, 75.5, 75.5, 77.8, 76.1, 77.2, 76.4, 75.0, 74.2, 74.2, 72.3, 73.1, 72.6, 73.1, 74.1, 72.3, 70.8, 68.5, 68.3, 69.9], \"xaxis\": \"x\", \"y\": [\">60 F\", \">60 F\", \">60 F\", \">60 F\", \">60 F\", \">60 F\", \">60 F\", \">60 F\", \">60 F\", \">60 F\", \">60 F\", \">60 F\", \">60 F\", \">60 F\", \">60 F\", \">60 F\", \">60 F\", \">60 F\", \">60 F\", \">60 F\", \">60 F\", \">60 F\", \">60 F\", \">60 F\", \">60 F\", \">60 F\", \">60 F\", \">60 F\", \">60 F\", \">60 F\", \">60 F\", \">60 F\", \">60 F\", \">60 F\", \">60 F\", \">60 F\", \">60 F\", \">60 F\", \">60 F\", \">60 F\", \">60 F\", \">60 F\", \">60 F\", \">60 F\", \">60 F\", \">60 F\", \">60 F\", \">60 F\", \">60 F\", \">60 F\", \">60 F\", \">60 F\", \">60 F\", \">60 F\", \">60 F\", \">60 F\", \">60 F\", \">60 F\", \">60 F\", \">60 F\", \">60 F\", \">60 F\", \">60 F\", \">60 F\", \">60 F\", \">60 F\", \">60 F\", \">60 F\", \">60 F\", \">60 F\", \">60 F\", \">60 F\", \">60 F\", \">60 F\", \">60 F\", \">60 F\", \">60 F\", \">60 F\", \">60 F\", \">60 F\", \">60 F\", \">60 F\", \">60 F\", \">60 F\", \">60 F\", \">60 F\", \">60 F\", \">60 F\", \">60 F\", \">60 F\", \">60 F\", \">60 F\", \">60 F\", \">60 F\", \">60 F\", \">60 F\", \">60 F\", \">60 F\", \">60 F\", \">60 F\", \">60 F\", \">60 F\", \">60 F\", \">60 F\", \">60 F\", \">60 F\", \">60 F\", \">60 F\", \">60 F\", \">60 F\", \">60 F\", \">60 F\", \">60 F\", \">60 F\", \">60 F\", \">60 F\", \">60 F\", \">60 F\", \">60 F\", \">60 F\", \">60 F\", \">60 F\", \">60 F\", \">60 F\", \">60 F\", \">60 F\", \">60 F\", \">60 F\", \">60 F\", \">60 F\", \">60 F\", \">60 F\", \">60 F\", \">60 F\", \">60 F\", \">60 F\", \">60 F\"], \"yaxis\": \"y\"}, {\"hoverlabel\": {\"namelength\": 0}, \"hovertemplate\": \"Cluster_Temp=>60 F\", \"legendgroup\": \"Cluster_Temp=>60 F\", \"marker\": {\"color\": \"#EF553B\", \"symbol\": \"circle\"}, \"mode\": \"lines\", \"name\": \"Cluster_Temp=>60 F\", \"showlegend\": false, \"type\": \"scatter\", \"xaxis\": \"x\", \"yaxis\": \"y\"}, {\"hoverlabel\": {\"namelength\": 0}, \"hovertemplate\": \"Cluster_Temp=%{y}<br>TempAvg=%{x}\", \"legendgroup\": \"Cluster_Temp=<40 F\", \"marker\": {\"color\": \"#00cc96\", \"symbol\": \"circle\"}, \"mode\": \"markers\", \"name\": \"Cluster_Temp=<40 F\", \"showlegend\": true, \"type\": \"scatter\", \"x\": [39.3, 38.4, 39.2, 15.3, 19.2, 31.7, 32.8, 29.0, 25.5, 19.5, 28.7, 22.4, 26.6, 21.6, 19.6, 31.9, 31.1, 20.4, 15.7, 29.4, 25.4, 30.6, 36.1, 21.1, 14.0, 24.5, 32.2, 31.8, 34.1, 39.6, 37.9, 33.8, 32.7, 34.9, 32.3, 39.5, 34.0, 36.1, 38.5, 38.0, 34.7, 36.7, 39.3, 30.1, 27.3, 32.8, 32.0, 30.1, 36.8, 38.7, 37.3, 33.4, 29.8, 38.5, 39.3, 34.1, 34.1, 32.5, 32.5, 29.7, 29.9, 34.2, 39.0, 39.7, 38.7, 35.8, 34.7, 33.9, 34.2, 39.3, 38.9, 35.6, 29.8, 38.2, 39.1, 34.5, 31.2, 30.5, 36.0, 39.5], \"xaxis\": \"x\", \"y\": [\"<40 F\", \"<40 F\", \"<40 F\", \"<40 F\", \"<40 F\", \"<40 F\", \"<40 F\", \"<40 F\", \"<40 F\", \"<40 F\", \"<40 F\", \"<40 F\", \"<40 F\", \"<40 F\", \"<40 F\", \"<40 F\", \"<40 F\", \"<40 F\", \"<40 F\", \"<40 F\", \"<40 F\", \"<40 F\", \"<40 F\", \"<40 F\", \"<40 F\", \"<40 F\", \"<40 F\", \"<40 F\", \"<40 F\", \"<40 F\", \"<40 F\", \"<40 F\", \"<40 F\", \"<40 F\", \"<40 F\", \"<40 F\", \"<40 F\", \"<40 F\", \"<40 F\", \"<40 F\", \"<40 F\", \"<40 F\", \"<40 F\", \"<40 F\", \"<40 F\", \"<40 F\", \"<40 F\", \"<40 F\", \"<40 F\", \"<40 F\", \"<40 F\", \"<40 F\", \"<40 F\", \"<40 F\", \"<40 F\", \"<40 F\", \"<40 F\", \"<40 F\", \"<40 F\", \"<40 F\", \"<40 F\", \"<40 F\", \"<40 F\", \"<40 F\", \"<40 F\", \"<40 F\", \"<40 F\", \"<40 F\", \"<40 F\", \"<40 F\", \"<40 F\", \"<40 F\", \"<40 F\", \"<40 F\", \"<40 F\", \"<40 F\", \"<40 F\", \"<40 F\", \"<40 F\", \"<40 F\"], \"yaxis\": \"y\"}, {\"hoverlabel\": {\"namelength\": 0}, \"hovertemplate\": \"Cluster_Temp=<40 F\", \"legendgroup\": \"Cluster_Temp=<40 F\", \"marker\": {\"color\": \"#00cc96\", \"symbol\": \"circle\"}, \"mode\": \"lines\", \"name\": \"Cluster_Temp=<40 F\", \"showlegend\": false, \"type\": \"scatter\", \"xaxis\": \"x\", \"yaxis\": \"y\"}],\n",
       "                        {\"height\": 300, \"legend\": {\"tracegroupgap\": 0}, \"margin\": {\"t\": 60}, \"template\": {\"data\": {\"bar\": [{\"error_x\": {\"color\": \"#2a3f5f\"}, \"error_y\": {\"color\": \"#2a3f5f\"}, \"marker\": {\"line\": {\"color\": \"#E5ECF6\", \"width\": 0.5}}, \"type\": \"bar\"}], \"barpolar\": [{\"marker\": {\"line\": {\"color\": \"#E5ECF6\", \"width\": 0.5}}, \"type\": \"barpolar\"}], \"carpet\": [{\"aaxis\": {\"endlinecolor\": \"#2a3f5f\", \"gridcolor\": \"white\", \"linecolor\": \"white\", \"minorgridcolor\": \"white\", \"startlinecolor\": \"#2a3f5f\"}, \"baxis\": {\"endlinecolor\": \"#2a3f5f\", \"gridcolor\": \"white\", \"linecolor\": \"white\", \"minorgridcolor\": \"white\", \"startlinecolor\": \"#2a3f5f\"}, \"type\": \"carpet\"}], \"choropleth\": [{\"colorbar\": {\"outlinewidth\": 0, \"ticks\": \"\"}, \"type\": \"choropleth\"}], \"contour\": [{\"colorbar\": {\"outlinewidth\": 0, \"ticks\": \"\"}, \"colorscale\": [[0.0, \"#0d0887\"], [0.1111111111111111, \"#46039f\"], [0.2222222222222222, \"#7201a8\"], [0.3333333333333333, \"#9c179e\"], [0.4444444444444444, \"#bd3786\"], [0.5555555555555556, \"#d8576b\"], [0.6666666666666666, \"#ed7953\"], [0.7777777777777778, \"#fb9f3a\"], [0.8888888888888888, \"#fdca26\"], [1.0, \"#f0f921\"]], \"type\": \"contour\"}], \"contourcarpet\": [{\"colorbar\": {\"outlinewidth\": 0, \"ticks\": \"\"}, \"type\": \"contourcarpet\"}], \"heatmap\": [{\"colorbar\": {\"outlinewidth\": 0, \"ticks\": \"\"}, \"colorscale\": [[0.0, \"#0d0887\"], [0.1111111111111111, \"#46039f\"], [0.2222222222222222, \"#7201a8\"], [0.3333333333333333, \"#9c179e\"], [0.4444444444444444, \"#bd3786\"], [0.5555555555555556, \"#d8576b\"], [0.6666666666666666, \"#ed7953\"], [0.7777777777777778, \"#fb9f3a\"], [0.8888888888888888, \"#fdca26\"], [1.0, \"#f0f921\"]], \"type\": \"heatmap\"}], \"heatmapgl\": [{\"colorbar\": {\"outlinewidth\": 0, \"ticks\": \"\"}, \"colorscale\": [[0.0, \"#0d0887\"], [0.1111111111111111, \"#46039f\"], [0.2222222222222222, \"#7201a8\"], [0.3333333333333333, \"#9c179e\"], [0.4444444444444444, \"#bd3786\"], [0.5555555555555556, \"#d8576b\"], [0.6666666666666666, \"#ed7953\"], [0.7777777777777778, \"#fb9f3a\"], [0.8888888888888888, \"#fdca26\"], [1.0, \"#f0f921\"]], \"type\": \"heatmapgl\"}], \"histogram\": [{\"marker\": {\"colorbar\": {\"outlinewidth\": 0, \"ticks\": \"\"}}, \"type\": \"histogram\"}], \"histogram2d\": [{\"colorbar\": {\"outlinewidth\": 0, \"ticks\": \"\"}, \"colorscale\": [[0.0, \"#0d0887\"], [0.1111111111111111, \"#46039f\"], [0.2222222222222222, \"#7201a8\"], [0.3333333333333333, \"#9c179e\"], [0.4444444444444444, \"#bd3786\"], [0.5555555555555556, \"#d8576b\"], [0.6666666666666666, \"#ed7953\"], [0.7777777777777778, \"#fb9f3a\"], [0.8888888888888888, \"#fdca26\"], [1.0, \"#f0f921\"]], \"type\": \"histogram2d\"}], \"histogram2dcontour\": [{\"colorbar\": {\"outlinewidth\": 0, \"ticks\": \"\"}, \"colorscale\": [[0.0, \"#0d0887\"], [0.1111111111111111, \"#46039f\"], [0.2222222222222222, \"#7201a8\"], [0.3333333333333333, \"#9c179e\"], [0.4444444444444444, \"#bd3786\"], [0.5555555555555556, \"#d8576b\"], [0.6666666666666666, \"#ed7953\"], [0.7777777777777778, \"#fb9f3a\"], [0.8888888888888888, \"#fdca26\"], [1.0, \"#f0f921\"]], \"type\": \"histogram2dcontour\"}], \"mesh3d\": [{\"colorbar\": {\"outlinewidth\": 0, \"ticks\": \"\"}, \"type\": \"mesh3d\"}], \"parcoords\": [{\"line\": {\"colorbar\": {\"outlinewidth\": 0, \"ticks\": \"\"}}, \"type\": \"parcoords\"}], \"pie\": [{\"automargin\": true, \"type\": \"pie\"}], \"scatter\": [{\"marker\": {\"colorbar\": {\"outlinewidth\": 0, \"ticks\": \"\"}}, \"type\": \"scatter\"}], \"scatter3d\": [{\"line\": {\"colorbar\": {\"outlinewidth\": 0, \"ticks\": \"\"}}, \"marker\": {\"colorbar\": {\"outlinewidth\": 0, \"ticks\": \"\"}}, \"type\": \"scatter3d\"}], \"scattercarpet\": [{\"marker\": {\"colorbar\": {\"outlinewidth\": 0, \"ticks\": \"\"}}, \"type\": \"scattercarpet\"}], \"scattergeo\": [{\"marker\": {\"colorbar\": {\"outlinewidth\": 0, \"ticks\": \"\"}}, \"type\": \"scattergeo\"}], \"scattergl\": [{\"marker\": {\"colorbar\": {\"outlinewidth\": 0, \"ticks\": \"\"}}, \"type\": \"scattergl\"}], \"scattermapbox\": [{\"marker\": {\"colorbar\": {\"outlinewidth\": 0, \"ticks\": \"\"}}, \"type\": \"scattermapbox\"}], \"scatterpolar\": [{\"marker\": {\"colorbar\": {\"outlinewidth\": 0, \"ticks\": \"\"}}, \"type\": \"scatterpolar\"}], \"scatterpolargl\": [{\"marker\": {\"colorbar\": {\"outlinewidth\": 0, \"ticks\": \"\"}}, \"type\": \"scatterpolargl\"}], \"scatterternary\": [{\"marker\": {\"colorbar\": {\"outlinewidth\": 0, \"ticks\": \"\"}}, \"type\": \"scatterternary\"}], \"surface\": [{\"colorbar\": {\"outlinewidth\": 0, \"ticks\": \"\"}, \"colorscale\": [[0.0, \"#0d0887\"], [0.1111111111111111, \"#46039f\"], [0.2222222222222222, \"#7201a8\"], [0.3333333333333333, \"#9c179e\"], [0.4444444444444444, \"#bd3786\"], [0.5555555555555556, \"#d8576b\"], [0.6666666666666666, \"#ed7953\"], [0.7777777777777778, \"#fb9f3a\"], [0.8888888888888888, \"#fdca26\"], [1.0, \"#f0f921\"]], \"type\": \"surface\"}], \"table\": [{\"cells\": {\"fill\": {\"color\": \"#EBF0F8\"}, \"line\": {\"color\": \"white\"}}, \"header\": {\"fill\": {\"color\": \"#C8D4E3\"}, \"line\": {\"color\": \"white\"}}, \"type\": \"table\"}]}, \"layout\": {\"annotationdefaults\": {\"arrowcolor\": \"#2a3f5f\", \"arrowhead\": 0, \"arrowwidth\": 1}, \"coloraxis\": {\"colorbar\": {\"outlinewidth\": 0, \"ticks\": \"\"}}, \"colorscale\": {\"diverging\": [[0, \"#8e0152\"], [0.1, \"#c51b7d\"], [0.2, \"#de77ae\"], [0.3, \"#f1b6da\"], [0.4, \"#fde0ef\"], [0.5, \"#f7f7f7\"], [0.6, \"#e6f5d0\"], [0.7, \"#b8e186\"], [0.8, \"#7fbc41\"], [0.9, \"#4d9221\"], [1, \"#276419\"]], \"sequential\": [[0.0, \"#0d0887\"], [0.1111111111111111, \"#46039f\"], [0.2222222222222222, \"#7201a8\"], [0.3333333333333333, \"#9c179e\"], [0.4444444444444444, \"#bd3786\"], [0.5555555555555556, \"#d8576b\"], [0.6666666666666666, \"#ed7953\"], [0.7777777777777778, \"#fb9f3a\"], [0.8888888888888888, \"#fdca26\"], [1.0, \"#f0f921\"]], \"sequentialminus\": [[0.0, \"#0d0887\"], [0.1111111111111111, \"#46039f\"], [0.2222222222222222, \"#7201a8\"], [0.3333333333333333, \"#9c179e\"], [0.4444444444444444, \"#bd3786\"], [0.5555555555555556, \"#d8576b\"], [0.6666666666666666, \"#ed7953\"], [0.7777777777777778, \"#fb9f3a\"], [0.8888888888888888, \"#fdca26\"], [1.0, \"#f0f921\"]]}, \"colorway\": [\"#636efa\", \"#EF553B\", \"#00cc96\", \"#ab63fa\", \"#FFA15A\", \"#19d3f3\", \"#FF6692\", \"#B6E880\", \"#FF97FF\", \"#FECB52\"], \"font\": {\"color\": \"#2a3f5f\"}, \"geo\": {\"bgcolor\": \"white\", \"lakecolor\": \"white\", \"landcolor\": \"#E5ECF6\", \"showlakes\": true, \"showland\": true, \"subunitcolor\": \"white\"}, \"hoverlabel\": {\"align\": \"left\"}, \"hovermode\": \"closest\", \"mapbox\": {\"style\": \"light\"}, \"paper_bgcolor\": \"white\", \"plot_bgcolor\": \"#E5ECF6\", \"polar\": {\"angularaxis\": {\"gridcolor\": \"white\", \"linecolor\": \"white\", \"ticks\": \"\"}, \"bgcolor\": \"#E5ECF6\", \"radialaxis\": {\"gridcolor\": \"white\", \"linecolor\": \"white\", \"ticks\": \"\"}}, \"scene\": {\"xaxis\": {\"backgroundcolor\": \"#E5ECF6\", \"gridcolor\": \"white\", \"gridwidth\": 2, \"linecolor\": \"white\", \"showbackground\": true, \"ticks\": \"\", \"zerolinecolor\": \"white\"}, \"yaxis\": {\"backgroundcolor\": \"#E5ECF6\", \"gridcolor\": \"white\", \"gridwidth\": 2, \"linecolor\": \"white\", \"showbackground\": true, \"ticks\": \"\", \"zerolinecolor\": \"white\"}, \"zaxis\": {\"backgroundcolor\": \"#E5ECF6\", \"gridcolor\": \"white\", \"gridwidth\": 2, \"linecolor\": \"white\", \"showbackground\": true, \"ticks\": \"\", \"zerolinecolor\": \"white\"}}, \"shapedefaults\": {\"line\": {\"color\": \"#2a3f5f\"}}, \"ternary\": {\"aaxis\": {\"gridcolor\": \"white\", \"linecolor\": \"white\", \"ticks\": \"\"}, \"baxis\": {\"gridcolor\": \"white\", \"linecolor\": \"white\", \"ticks\": \"\"}, \"bgcolor\": \"#E5ECF6\", \"caxis\": {\"gridcolor\": \"white\", \"linecolor\": \"white\", \"ticks\": \"\"}}, \"title\": {\"x\": 0.05}, \"xaxis\": {\"automargin\": true, \"gridcolor\": \"white\", \"linecolor\": \"white\", \"ticks\": \"\", \"title\": {\"standoff\": 15}, \"zerolinecolor\": \"white\", \"zerolinewidth\": 2}, \"yaxis\": {\"automargin\": true, \"gridcolor\": \"white\", \"linecolor\": \"white\", \"ticks\": \"\", \"title\": {\"standoff\": 15}, \"zerolinecolor\": \"white\", \"zerolinewidth\": 2}}}, \"width\": 900, \"xaxis\": {\"anchor\": \"y\", \"domain\": [0.0, 1.0], \"title\": {\"text\": \"TempAvg\"}}, \"yaxis\": {\"anchor\": \"x\", \"categoryarray\": [\"<40 F\", \">60 F\", \"40-60 F\"], \"categoryorder\": \"array\", \"domain\": [0.0, 1.0], \"title\": {\"text\": \"Cluster_Temp\"}}},\n",
       "                        {\"responsive\": true}\n",
       "                    ).then(function(){\n",
       "                            \n",
       "var gd = document.getElementById('819eb121-28f0-4f37-bb2b-857ff8f5cf04');\n",
       "var x = new MutationObserver(function (mutations, observer) {{\n",
       "        var display = window.getComputedStyle(gd).display;\n",
       "        if (!display || display === 'none') {{\n",
       "            console.log([gd, 'removed!']);\n",
       "            Plotly.purge(gd);\n",
       "            observer.disconnect();\n",
       "        }}\n",
       "}});\n",
       "\n",
       "// Listen for the removal of the full notebook cells\n",
       "var notebookContainer = gd.closest('#notebook-container');\n",
       "if (notebookContainer) {{\n",
       "    x.observe(notebookContainer, {childList: true});\n",
       "}}\n",
       "\n",
       "// Listen for the clearing of the current output cell\n",
       "var outputEl = gd.closest('.output');\n",
       "if (outputEl) {{\n",
       "    x.observe(outputEl, {childList: true});\n",
       "}}\n",
       "\n",
       "                        })\n",
       "                };\n",
       "                });\n",
       "            </script>\n",
       "        </div>"
      ]
     },
     "metadata": {},
     "output_type": "display_data"
    }
   ],
   "source": [
    "# Dictionary with the new labels\n",
    "dic={0:'40-60 F', 1: '>60 F', 2: '<40 F'}\n",
    "# Replace the labels\n",
    "covid_weather['Cluster_Temp'].replace(dic,inplace=True)\n",
    "# Plot the clusters\n",
    "px.scatter(covid_weather, x=\"TempAvg\", y=\"Cluster_Temp\", color=\"Cluster_Temp\",\n",
    "                 marginal_y=None, marginal_x=None, trendline=\"o\",\n",
    "          width=900, height=300)"
   ]
  },
  {
   "cell_type": "markdown",
   "metadata": {},
   "source": [
    "The above discretization allows quantifying the number of infections by temperature ranges. Fig. _\"Temperature ranges and New Infections\"_ shows that the number of new infections is around 250 000 when the temperature is between $40$ and $60^o F$, which is significantly higher than the two other ranges. Also, this histogram shows that the number of new cases when the temperature is under $40^o F$ ($\\approx 35 000$) is notably bigger than when the temperature is over the $60^o F$, in which case our data only report around 10 000 new infections."
   ]
  },
  {
   "cell_type": "code",
   "execution_count": 33,
   "metadata": {},
   "outputs": [
    {
     "data": {
      "application/vnd.plotly.v1+json": {
       "config": {
        "plotlyServerURL": "https://plot.ly"
       },
       "data": [
        {
         "alignmentgroup": "True",
         "hoverlabel": {
          "namelength": 0
         },
         "hovertemplate": "Province/State=New York<br>Cluster_Temp=%{x}<br>Confirmed=%{y}",
         "legendgroup": "Province/State=New York",
         "marker": {
          "color": "#636efa"
         },
         "name": "Province/State=New York",
         "offsetgroup": "Province/State=New York",
         "orientation": "v",
         "showlegend": true,
         "textposition": "auto",
         "type": "bar",
         "x": [
          "40-60 F",
          "40-60 F",
          "40-60 F",
          "40-60 F",
          "40-60 F",
          "40-60 F",
          "40-60 F",
          "40-60 F",
          ">60 F",
          "40-60 F",
          "40-60 F",
          "40-60 F",
          "40-60 F",
          "40-60 F",
          "<40 F",
          "40-60 F",
          "40-60 F",
          "40-60 F",
          "40-60 F",
          "40-60 F",
          "<40 F",
          "<40 F",
          "40-60 F",
          "40-60 F",
          "40-60 F"
         ],
         "xaxis": "x",
         "y": [
          173,
          47,
          108,
          93,
          104,
          207,
          235,
          739,
          789,
          2870,
          2945,
          3400,
          4090,
          5084,
          4797,
          5160,
          7036,
          6999,
          7534,
          7238,
          7015,
          9170,
          8115,
          8558,
          10481
         ],
         "yaxis": "y"
        },
        {
         "alignmentgroup": "True",
         "hoverlabel": {
          "namelength": 0
         },
         "hovertemplate": "Province/State=Madrid<br>Cluster_Temp=%{x}<br>Confirmed=%{y}",
         "legendgroup": "Province/State=Madrid",
         "marker": {
          "color": "#EF553B"
         },
         "name": "Province/State=Madrid",
         "offsetgroup": "Province/State=Madrid",
         "orientation": "v",
         "showlegend": true,
         "textposition": "auto",
         "type": "bar",
         "x": [
          "40-60 F",
          "40-60 F",
          "40-60 F",
          "40-60 F",
          "40-60 F",
          "40-60 F",
          "40-60 F",
          "40-60 F",
          "40-60 F",
          "40-60 F",
          "40-60 F",
          "40-60 F",
          "40-60 F",
          "40-60 F",
          "40-60 F",
          "40-60 F",
          "40-60 F",
          "40-60 F",
          "40-60 F",
          "40-60 F",
          "40-60 F",
          "40-60 F",
          "40-60 F",
          "40-60 F",
          "40-60 F",
          "40-60 F",
          "40-60 F",
          "40-60 F",
          "40-60 F",
          "40-60 F",
          "40-60 F",
          "40-60 F",
          "40-60 F",
          "40-60 F",
          "40-60 F",
          "40-60 F",
          "40-60 F",
          "40-60 F",
          "40-60 F",
          "40-60 F",
          "40-60 F",
          "40-60 F",
          "40-60 F",
          "40-60 F",
          "40-60 F",
          "40-60 F",
          "40-60 F",
          "40-60 F",
          ">60 F",
          ">60 F",
          "40-60 F",
          "40-60 F",
          "40-60 F",
          "40-60 F",
          "40-60 F",
          "40-60 F",
          "40-60 F",
          "40-60 F",
          "40-60 F",
          "40-60 F",
          "40-60 F",
          "40-60 F",
          "40-60 F"
         ],
         "xaxis": "x",
         "y": [
          1,
          0,
          0,
          0,
          0,
          0,
          0,
          0,
          1,
          0,
          0,
          0,
          0,
          0,
          0,
          0,
          0,
          0,
          0,
          0,
          0,
          0,
          0,
          0,
          4,
          7,
          2,
          17,
          13,
          39,
          36,
          45,
          57,
          37,
          141,
          100,
          173,
          400,
          622,
          582,
          0,
          2955,
          1159,
          1407,
          2144,
          1806,
          2162,
          4053,
          2447,
          4964,
          3229,
          6533,
          4749,
          9630,
          8271,
          7933,
          7516,
          6875,
          7846,
          7967,
          8195,
          7947,
          7134
         ],
         "yaxis": "y"
        },
        {
         "alignmentgroup": "True",
         "hoverlabel": {
          "namelength": 0
         },
         "hovertemplate": "Province/State=Quebec<br>Cluster_Temp=%{x}<br>Confirmed=%{y}",
         "legendgroup": "Province/State=Quebec",
         "marker": {
          "color": "#00cc96"
         },
         "name": "Province/State=Quebec",
         "offsetgroup": "Province/State=Quebec",
         "orientation": "v",
         "showlegend": true,
         "textposition": "auto",
         "type": "bar",
         "x": [
          "<40 F",
          "<40 F",
          "<40 F",
          "<40 F",
          "<40 F",
          "<40 F",
          "<40 F",
          "<40 F",
          "<40 F",
          "<40 F",
          "<40 F",
          "<40 F",
          "<40 F",
          "<40 F",
          "<40 F",
          "<40 F",
          "<40 F",
          "<40 F",
          "<40 F",
          "<40 F",
          "<40 F",
          "<40 F",
          "<40 F",
          "<40 F",
          "<40 F",
          "<40 F"
         ],
         "xaxis": "x",
         "y": [
          3,
          1,
          4,
          1,
          8,
          0,
          7,
          26,
          24,
          20,
          27,
          18,
          42,
          38,
          409,
          385,
          329,
          290,
          392,
          474,
          342,
          590,
          732,
          449,
          907,
          583
         ],
         "yaxis": "y"
        },
        {
         "alignmentgroup": "True",
         "hoverlabel": {
          "namelength": 0
         },
         "hovertemplate": "Province/State=Lombardia<br>Cluster_Temp=%{x}<br>Confirmed=%{y}",
         "legendgroup": "Province/State=Lombardia",
         "marker": {
          "color": "#ab63fa"
         },
         "name": "Province/State=Lombardia",
         "offsetgroup": "Province/State=Lombardia",
         "orientation": "v",
         "showlegend": true,
         "textposition": "auto",
         "type": "bar",
         "x": [
          "40-60 F",
          "40-60 F",
          "40-60 F",
          "40-60 F",
          "40-60 F",
          "40-60 F",
          "40-60 F",
          "40-60 F",
          "40-60 F",
          "40-60 F",
          "40-60 F",
          "40-60 F",
          "40-60 F",
          "40-60 F",
          "40-60 F",
          "40-60 F",
          "40-60 F",
          "40-60 F",
          "40-60 F",
          "40-60 F",
          "40-60 F",
          "40-60 F",
          "40-60 F",
          "40-60 F",
          "40-60 F",
          "40-60 F",
          "40-60 F",
          "40-60 F",
          "40-60 F",
          "40-60 F",
          "40-60 F",
          "40-60 F",
          "40-60 F",
          "40-60 F",
          "40-60 F",
          "40-60 F",
          "40-60 F",
          "40-60 F",
          "40-60 F",
          "40-60 F"
         ],
         "xaxis": "x",
         "y": [
          172,
          68,
          18,
          145,
          128,
          84,
          369,
          270,
          266,
          300,
          431,
          361,
          808,
          769,
          1280,
          322,
          1489,
          1445,
          1095,
          1865,
          1587,
          1377,
          1571,
          1493,
          2171,
          2380,
          3251,
          1691,
          1555,
          1942,
          1643,
          2543,
          2409,
          2117,
          1592,
          1154,
          1047,
          1565,
          1292,
          1455
         ],
         "yaxis": "y"
        },
        {
         "alignmentgroup": "True",
         "hoverlabel": {
          "namelength": 0
         },
         "hovertemplate": "Province/State=Vienna<br>Cluster_Temp=%{x}<br>Confirmed=%{y}",
         "legendgroup": "Province/State=Vienna",
         "marker": {
          "color": "#FFA15A"
         },
         "name": "Province/State=Vienna",
         "offsetgroup": "Province/State=Vienna",
         "orientation": "v",
         "showlegend": true,
         "textposition": "auto",
         "type": "bar",
         "x": [
          "40-60 F",
          "40-60 F",
          "40-60 F",
          "40-60 F",
          "40-60 F",
          "40-60 F",
          "40-60 F",
          "40-60 F",
          "40-60 F",
          "40-60 F",
          "40-60 F",
          "<40 F",
          "40-60 F",
          "40-60 F",
          "40-60 F",
          "40-60 F",
          "40-60 F",
          "40-60 F",
          "40-60 F",
          "40-60 F",
          "40-60 F",
          "40-60 F",
          "40-60 F",
          "40-60 F",
          "40-60 F",
          "40-60 F",
          "40-60 F",
          "<40 F",
          "40-60 F",
          "40-60 F",
          "40-60 F",
          "40-60 F",
          "40-60 F",
          "40-60 F",
          "<40 F",
          "<40 F",
          "<40 F",
          "<40 F",
          "<40 F"
         ],
         "xaxis": "x",
         "y": [
          2,
          0,
          1,
          0,
          6,
          5,
          4,
          3,
          8,
          12,
          14,
          24,
          25,
          27,
          51,
          64,
          56,
          202,
          151,
          205,
          158,
          314,
          314,
          367,
          375,
          426,
          766,
          894,
          809,
          305,
          1321,
          748,
          614,
          517,
          830,
          562,
          531,
          418,
          395
         ],
         "yaxis": "y"
        },
        {
         "alignmentgroup": "True",
         "hoverlabel": {
          "namelength": 0
         },
         "hovertemplate": "Province/State=Stockholm<br>Cluster_Temp=%{x}<br>Confirmed=%{y}",
         "legendgroup": "Province/State=Stockholm",
         "marker": {
          "color": "#19d3f3"
         },
         "name": "Province/State=Stockholm",
         "offsetgroup": "Province/State=Stockholm",
         "orientation": "v",
         "showlegend": true,
         "textposition": "auto",
         "type": "bar",
         "x": [
          "<40 F",
          "40-60 F",
          "<40 F",
          "40-60 F",
          "40-60 F",
          "<40 F",
          "<40 F",
          "<40 F",
          "<40 F",
          "40-60 F",
          "<40 F",
          "<40 F",
          "<40 F",
          "<40 F",
          "<40 F",
          "<40 F",
          "<40 F",
          "40-60 F",
          "40-60 F",
          "<40 F",
          "<40 F",
          "<40 F",
          "<40 F",
          "<40 F",
          "40-60 F",
          "40-60 F",
          "40-60 F",
          "<40 F",
          "<40 F",
          "40-60 F",
          "40-60 F",
          "40-60 F",
          "<40 F",
          "<40 F",
          "<40 F",
          "<40 F",
          "<40 F",
          "<40 F",
          "<40 F",
          "<40 F",
          "<40 F",
          "<40 F",
          "<40 F",
          "<40 F",
          "<40 F",
          "<40 F",
          "40-60 F",
          "40-60 F",
          "40-60 F",
          "<40 F",
          "<40 F",
          "<40 F",
          "<40 F",
          "<40 F",
          "40-60 F",
          "40-60 F",
          "40-60 F",
          "<40 F",
          "<40 F",
          "<40 F",
          "<40 F",
          "<40 F",
          "40-60 F",
          "40-60 F"
         ],
         "xaxis": "x",
         "y": [
          1,
          0,
          0,
          0,
          0,
          0,
          0,
          0,
          0,
          0,
          0,
          0,
          0,
          0,
          0,
          0,
          0,
          0,
          0,
          0,
          0,
          0,
          0,
          0,
          0,
          0,
          1,
          5,
          0,
          5,
          2,
          1,
          6,
          14,
          59,
          7,
          60,
          42,
          45,
          107,
          145,
          99,
          215,
          147,
          61,
          81,
          87,
          89,
          160,
          200,
          124,
          168,
          115,
          240,
          240,
          314,
          229,
          378,
          253,
          328,
          407,
          512,
          621,
          563
         ],
         "yaxis": "y"
        },
        {
         "alignmentgroup": "True",
         "hoverlabel": {
          "namelength": 0
         },
         "hovertemplate": "Province/State=Doha<br>Cluster_Temp=%{x}<br>Confirmed=%{y}",
         "legendgroup": "Province/State=Doha",
         "marker": {
          "color": "#FF6692"
         },
         "name": "Province/State=Doha",
         "offsetgroup": "Province/State=Doha",
         "orientation": "v",
         "showlegend": true,
         "textposition": "auto",
         "type": "bar",
         "x": [
          ">60 F",
          ">60 F",
          ">60 F",
          ">60 F",
          ">60 F",
          ">60 F",
          ">60 F",
          ">60 F",
          ">60 F",
          ">60 F",
          ">60 F",
          ">60 F",
          ">60 F",
          ">60 F",
          ">60 F",
          ">60 F",
          ">60 F",
          ">60 F",
          ">60 F",
          ">60 F",
          ">60 F",
          ">60 F",
          ">60 F",
          ">60 F",
          ">60 F",
          ">60 F",
          ">60 F",
          ">60 F",
          ">60 F",
          ">60 F",
          ">60 F",
          ">60 F",
          ">60 F",
          ">60 F",
          ">60 F"
         ],
         "xaxis": "x",
         "y": [
          1,
          2,
          0,
          4,
          1,
          0,
          0,
          0,
          7,
          3,
          6,
          238,
          0,
          58,
          17,
          64,
          38,
          0,
          13,
          8,
          10,
          11,
          13,
          7,
          25,
          11,
          12,
          13,
          28,
          44,
          59,
          88,
          54,
          114,
          126
         ],
         "yaxis": "y"
        },
        {
         "alignmentgroup": "True",
         "hoverlabel": {
          "namelength": 0
         },
         "hovertemplate": "Province/State=Dubai<br>Cluster_Temp=%{x}<br>Confirmed=%{y}",
         "legendgroup": "Province/State=Dubai",
         "marker": {
          "color": "#B6E880"
         },
         "name": "Province/State=Dubai",
         "offsetgroup": "Province/State=Dubai",
         "orientation": "v",
         "showlegend": true,
         "textposition": "auto",
         "type": "bar",
         "x": [
          ">60 F",
          ">60 F",
          ">60 F",
          ">60 F",
          ">60 F",
          ">60 F",
          ">60 F",
          ">60 F",
          ">60 F",
          ">60 F",
          ">60 F",
          ">60 F",
          ">60 F",
          ">60 F",
          ">60 F",
          ">60 F",
          ">60 F",
          ">60 F",
          ">60 F",
          ">60 F",
          ">60 F",
          ">60 F",
          ">60 F",
          ">60 F",
          ">60 F",
          ">60 F",
          ">60 F",
          ">60 F",
          ">60 F",
          ">60 F",
          ">60 F",
          ">60 F",
          ">60 F",
          ">60 F",
          ">60 F",
          ">60 F",
          ">60 F",
          ">60 F",
          ">60 F",
          ">60 F",
          ">60 F",
          ">60 F",
          ">60 F",
          ">60 F",
          ">60 F",
          ">60 F",
          ">60 F",
          ">60 F",
          ">60 F",
          ">60 F",
          ">60 F",
          ">60 F",
          ">60 F",
          ">60 F",
          ">60 F",
          ">60 F",
          ">60 F",
          ">60 F",
          ">60 F",
          ">60 F",
          ">60 F",
          ">60 F",
          ">60 F",
          ">60 F",
          ">60 F",
          ">60 F"
         ],
         "xaxis": "x",
         "y": [
          4,
          0,
          0,
          0,
          1,
          0,
          0,
          0,
          0,
          0,
          2,
          0,
          1,
          0,
          0,
          0,
          0,
          0,
          1,
          0,
          0,
          0,
          0,
          0,
          4,
          0,
          0,
          0,
          0,
          0,
          6,
          2,
          0,
          0,
          6,
          0,
          2,
          0,
          16,
          0,
          0,
          29,
          0,
          11,
          0,
          0,
          13,
          0,
          0,
          15,
          27,
          0,
          13,
          0,
          45,
          50,
          85,
          0,
          72,
          63,
          102,
          41,
          53,
          150,
          210,
          240
         ],
         "yaxis": "y"
        },
        {
         "alignmentgroup": "True",
         "hoverlabel": {
          "namelength": 0
         },
         "hovertemplate": "Province/State=Dakar<br>Cluster_Temp=%{x}<br>Confirmed=%{y}",
         "legendgroup": "Province/State=Dakar",
         "marker": {
          "color": "#FF97FF"
         },
         "name": "Province/State=Dakar",
         "offsetgroup": "Province/State=Dakar",
         "orientation": "v",
         "showlegend": true,
         "textposition": "auto",
         "type": "bar",
         "x": [
          ">60 F",
          ">60 F",
          ">60 F",
          ">60 F",
          ">60 F",
          ">60 F",
          ">60 F",
          ">60 F",
          ">60 F",
          ">60 F",
          ">60 F",
          ">60 F",
          ">60 F",
          ">60 F",
          ">60 F",
          ">60 F",
          ">60 F",
          ">60 F",
          ">60 F",
          ">60 F",
          ">60 F",
          ">60 F",
          ">60 F",
          ">60 F",
          ">60 F",
          ">60 F",
          ">60 F",
          ">60 F",
          ">60 F",
          ">60 F",
          ">60 F",
          ">60 F",
          ">60 F"
         ],
         "xaxis": "x",
         "y": [
          1,
          1,
          2,
          0,
          0,
          0,
          0,
          0,
          0,
          0,
          0,
          6,
          0,
          14,
          0,
          2,
          5,
          0,
          7,
          9,
          20,
          12,
          7,
          13,
          6,
          14,
          11,
          12,
          20,
          13,
          15,
          5,
          12
         ],
         "yaxis": "y"
        }
       ],
       "layout": {
        "barmode": "relative",
        "height": 600,
        "legend": {
         "tracegroupgap": 0
        },
        "template": {
         "data": {
          "bar": [
           {
            "error_x": {
             "color": "#2a3f5f"
            },
            "error_y": {
             "color": "#2a3f5f"
            },
            "marker": {
             "line": {
              "color": "#E5ECF6",
              "width": 0.5
             }
            },
            "type": "bar"
           }
          ],
          "barpolar": [
           {
            "marker": {
             "line": {
              "color": "#E5ECF6",
              "width": 0.5
             }
            },
            "type": "barpolar"
           }
          ],
          "carpet": [
           {
            "aaxis": {
             "endlinecolor": "#2a3f5f",
             "gridcolor": "white",
             "linecolor": "white",
             "minorgridcolor": "white",
             "startlinecolor": "#2a3f5f"
            },
            "baxis": {
             "endlinecolor": "#2a3f5f",
             "gridcolor": "white",
             "linecolor": "white",
             "minorgridcolor": "white",
             "startlinecolor": "#2a3f5f"
            },
            "type": "carpet"
           }
          ],
          "choropleth": [
           {
            "colorbar": {
             "outlinewidth": 0,
             "ticks": ""
            },
            "type": "choropleth"
           }
          ],
          "contour": [
           {
            "colorbar": {
             "outlinewidth": 0,
             "ticks": ""
            },
            "colorscale": [
             [
              0,
              "#0d0887"
             ],
             [
              0.1111111111111111,
              "#46039f"
             ],
             [
              0.2222222222222222,
              "#7201a8"
             ],
             [
              0.3333333333333333,
              "#9c179e"
             ],
             [
              0.4444444444444444,
              "#bd3786"
             ],
             [
              0.5555555555555556,
              "#d8576b"
             ],
             [
              0.6666666666666666,
              "#ed7953"
             ],
             [
              0.7777777777777778,
              "#fb9f3a"
             ],
             [
              0.8888888888888888,
              "#fdca26"
             ],
             [
              1,
              "#f0f921"
             ]
            ],
            "type": "contour"
           }
          ],
          "contourcarpet": [
           {
            "colorbar": {
             "outlinewidth": 0,
             "ticks": ""
            },
            "type": "contourcarpet"
           }
          ],
          "heatmap": [
           {
            "colorbar": {
             "outlinewidth": 0,
             "ticks": ""
            },
            "colorscale": [
             [
              0,
              "#0d0887"
             ],
             [
              0.1111111111111111,
              "#46039f"
             ],
             [
              0.2222222222222222,
              "#7201a8"
             ],
             [
              0.3333333333333333,
              "#9c179e"
             ],
             [
              0.4444444444444444,
              "#bd3786"
             ],
             [
              0.5555555555555556,
              "#d8576b"
             ],
             [
              0.6666666666666666,
              "#ed7953"
             ],
             [
              0.7777777777777778,
              "#fb9f3a"
             ],
             [
              0.8888888888888888,
              "#fdca26"
             ],
             [
              1,
              "#f0f921"
             ]
            ],
            "type": "heatmap"
           }
          ],
          "heatmapgl": [
           {
            "colorbar": {
             "outlinewidth": 0,
             "ticks": ""
            },
            "colorscale": [
             [
              0,
              "#0d0887"
             ],
             [
              0.1111111111111111,
              "#46039f"
             ],
             [
              0.2222222222222222,
              "#7201a8"
             ],
             [
              0.3333333333333333,
              "#9c179e"
             ],
             [
              0.4444444444444444,
              "#bd3786"
             ],
             [
              0.5555555555555556,
              "#d8576b"
             ],
             [
              0.6666666666666666,
              "#ed7953"
             ],
             [
              0.7777777777777778,
              "#fb9f3a"
             ],
             [
              0.8888888888888888,
              "#fdca26"
             ],
             [
              1,
              "#f0f921"
             ]
            ],
            "type": "heatmapgl"
           }
          ],
          "histogram": [
           {
            "marker": {
             "colorbar": {
              "outlinewidth": 0,
              "ticks": ""
             }
            },
            "type": "histogram"
           }
          ],
          "histogram2d": [
           {
            "colorbar": {
             "outlinewidth": 0,
             "ticks": ""
            },
            "colorscale": [
             [
              0,
              "#0d0887"
             ],
             [
              0.1111111111111111,
              "#46039f"
             ],
             [
              0.2222222222222222,
              "#7201a8"
             ],
             [
              0.3333333333333333,
              "#9c179e"
             ],
             [
              0.4444444444444444,
              "#bd3786"
             ],
             [
              0.5555555555555556,
              "#d8576b"
             ],
             [
              0.6666666666666666,
              "#ed7953"
             ],
             [
              0.7777777777777778,
              "#fb9f3a"
             ],
             [
              0.8888888888888888,
              "#fdca26"
             ],
             [
              1,
              "#f0f921"
             ]
            ],
            "type": "histogram2d"
           }
          ],
          "histogram2dcontour": [
           {
            "colorbar": {
             "outlinewidth": 0,
             "ticks": ""
            },
            "colorscale": [
             [
              0,
              "#0d0887"
             ],
             [
              0.1111111111111111,
              "#46039f"
             ],
             [
              0.2222222222222222,
              "#7201a8"
             ],
             [
              0.3333333333333333,
              "#9c179e"
             ],
             [
              0.4444444444444444,
              "#bd3786"
             ],
             [
              0.5555555555555556,
              "#d8576b"
             ],
             [
              0.6666666666666666,
              "#ed7953"
             ],
             [
              0.7777777777777778,
              "#fb9f3a"
             ],
             [
              0.8888888888888888,
              "#fdca26"
             ],
             [
              1,
              "#f0f921"
             ]
            ],
            "type": "histogram2dcontour"
           }
          ],
          "mesh3d": [
           {
            "colorbar": {
             "outlinewidth": 0,
             "ticks": ""
            },
            "type": "mesh3d"
           }
          ],
          "parcoords": [
           {
            "line": {
             "colorbar": {
              "outlinewidth": 0,
              "ticks": ""
             }
            },
            "type": "parcoords"
           }
          ],
          "pie": [
           {
            "automargin": true,
            "type": "pie"
           }
          ],
          "scatter": [
           {
            "marker": {
             "colorbar": {
              "outlinewidth": 0,
              "ticks": ""
             }
            },
            "type": "scatter"
           }
          ],
          "scatter3d": [
           {
            "line": {
             "colorbar": {
              "outlinewidth": 0,
              "ticks": ""
             }
            },
            "marker": {
             "colorbar": {
              "outlinewidth": 0,
              "ticks": ""
             }
            },
            "type": "scatter3d"
           }
          ],
          "scattercarpet": [
           {
            "marker": {
             "colorbar": {
              "outlinewidth": 0,
              "ticks": ""
             }
            },
            "type": "scattercarpet"
           }
          ],
          "scattergeo": [
           {
            "marker": {
             "colorbar": {
              "outlinewidth": 0,
              "ticks": ""
             }
            },
            "type": "scattergeo"
           }
          ],
          "scattergl": [
           {
            "marker": {
             "colorbar": {
              "outlinewidth": 0,
              "ticks": ""
             }
            },
            "type": "scattergl"
           }
          ],
          "scattermapbox": [
           {
            "marker": {
             "colorbar": {
              "outlinewidth": 0,
              "ticks": ""
             }
            },
            "type": "scattermapbox"
           }
          ],
          "scatterpolar": [
           {
            "marker": {
             "colorbar": {
              "outlinewidth": 0,
              "ticks": ""
             }
            },
            "type": "scatterpolar"
           }
          ],
          "scatterpolargl": [
           {
            "marker": {
             "colorbar": {
              "outlinewidth": 0,
              "ticks": ""
             }
            },
            "type": "scatterpolargl"
           }
          ],
          "scatterternary": [
           {
            "marker": {
             "colorbar": {
              "outlinewidth": 0,
              "ticks": ""
             }
            },
            "type": "scatterternary"
           }
          ],
          "surface": [
           {
            "colorbar": {
             "outlinewidth": 0,
             "ticks": ""
            },
            "colorscale": [
             [
              0,
              "#0d0887"
             ],
             [
              0.1111111111111111,
              "#46039f"
             ],
             [
              0.2222222222222222,
              "#7201a8"
             ],
             [
              0.3333333333333333,
              "#9c179e"
             ],
             [
              0.4444444444444444,
              "#bd3786"
             ],
             [
              0.5555555555555556,
              "#d8576b"
             ],
             [
              0.6666666666666666,
              "#ed7953"
             ],
             [
              0.7777777777777778,
              "#fb9f3a"
             ],
             [
              0.8888888888888888,
              "#fdca26"
             ],
             [
              1,
              "#f0f921"
             ]
            ],
            "type": "surface"
           }
          ],
          "table": [
           {
            "cells": {
             "fill": {
              "color": "#EBF0F8"
             },
             "line": {
              "color": "white"
             }
            },
            "header": {
             "fill": {
              "color": "#C8D4E3"
             },
             "line": {
              "color": "white"
             }
            },
            "type": "table"
           }
          ]
         },
         "layout": {
          "annotationdefaults": {
           "arrowcolor": "#2a3f5f",
           "arrowhead": 0,
           "arrowwidth": 1
          },
          "coloraxis": {
           "colorbar": {
            "outlinewidth": 0,
            "ticks": ""
           }
          },
          "colorscale": {
           "diverging": [
            [
             0,
             "#8e0152"
            ],
            [
             0.1,
             "#c51b7d"
            ],
            [
             0.2,
             "#de77ae"
            ],
            [
             0.3,
             "#f1b6da"
            ],
            [
             0.4,
             "#fde0ef"
            ],
            [
             0.5,
             "#f7f7f7"
            ],
            [
             0.6,
             "#e6f5d0"
            ],
            [
             0.7,
             "#b8e186"
            ],
            [
             0.8,
             "#7fbc41"
            ],
            [
             0.9,
             "#4d9221"
            ],
            [
             1,
             "#276419"
            ]
           ],
           "sequential": [
            [
             0,
             "#0d0887"
            ],
            [
             0.1111111111111111,
             "#46039f"
            ],
            [
             0.2222222222222222,
             "#7201a8"
            ],
            [
             0.3333333333333333,
             "#9c179e"
            ],
            [
             0.4444444444444444,
             "#bd3786"
            ],
            [
             0.5555555555555556,
             "#d8576b"
            ],
            [
             0.6666666666666666,
             "#ed7953"
            ],
            [
             0.7777777777777778,
             "#fb9f3a"
            ],
            [
             0.8888888888888888,
             "#fdca26"
            ],
            [
             1,
             "#f0f921"
            ]
           ],
           "sequentialminus": [
            [
             0,
             "#0d0887"
            ],
            [
             0.1111111111111111,
             "#46039f"
            ],
            [
             0.2222222222222222,
             "#7201a8"
            ],
            [
             0.3333333333333333,
             "#9c179e"
            ],
            [
             0.4444444444444444,
             "#bd3786"
            ],
            [
             0.5555555555555556,
             "#d8576b"
            ],
            [
             0.6666666666666666,
             "#ed7953"
            ],
            [
             0.7777777777777778,
             "#fb9f3a"
            ],
            [
             0.8888888888888888,
             "#fdca26"
            ],
            [
             1,
             "#f0f921"
            ]
           ]
          },
          "colorway": [
           "#636efa",
           "#EF553B",
           "#00cc96",
           "#ab63fa",
           "#FFA15A",
           "#19d3f3",
           "#FF6692",
           "#B6E880",
           "#FF97FF",
           "#FECB52"
          ],
          "font": {
           "color": "#2a3f5f"
          },
          "geo": {
           "bgcolor": "white",
           "lakecolor": "white",
           "landcolor": "#E5ECF6",
           "showlakes": true,
           "showland": true,
           "subunitcolor": "white"
          },
          "hoverlabel": {
           "align": "left"
          },
          "hovermode": "closest",
          "mapbox": {
           "style": "light"
          },
          "paper_bgcolor": "white",
          "plot_bgcolor": "#E5ECF6",
          "polar": {
           "angularaxis": {
            "gridcolor": "white",
            "linecolor": "white",
            "ticks": ""
           },
           "bgcolor": "#E5ECF6",
           "radialaxis": {
            "gridcolor": "white",
            "linecolor": "white",
            "ticks": ""
           }
          },
          "scene": {
           "xaxis": {
            "backgroundcolor": "#E5ECF6",
            "gridcolor": "white",
            "gridwidth": 2,
            "linecolor": "white",
            "showbackground": true,
            "ticks": "",
            "zerolinecolor": "white"
           },
           "yaxis": {
            "backgroundcolor": "#E5ECF6",
            "gridcolor": "white",
            "gridwidth": 2,
            "linecolor": "white",
            "showbackground": true,
            "ticks": "",
            "zerolinecolor": "white"
           },
           "zaxis": {
            "backgroundcolor": "#E5ECF6",
            "gridcolor": "white",
            "gridwidth": 2,
            "linecolor": "white",
            "showbackground": true,
            "ticks": "",
            "zerolinecolor": "white"
           }
          },
          "shapedefaults": {
           "line": {
            "color": "#2a3f5f"
           }
          },
          "ternary": {
           "aaxis": {
            "gridcolor": "white",
            "linecolor": "white",
            "ticks": ""
           },
           "baxis": {
            "gridcolor": "white",
            "linecolor": "white",
            "ticks": ""
           },
           "bgcolor": "#E5ECF6",
           "caxis": {
            "gridcolor": "white",
            "linecolor": "white",
            "ticks": ""
           }
          },
          "title": {
           "x": 0.05
          },
          "xaxis": {
           "automargin": true,
           "gridcolor": "white",
           "linecolor": "white",
           "ticks": "",
           "title": {
            "standoff": 15
           },
           "zerolinecolor": "white",
           "zerolinewidth": 2
          },
          "yaxis": {
           "automargin": true,
           "gridcolor": "white",
           "linecolor": "white",
           "ticks": "",
           "title": {
            "standoff": 15
           },
           "zerolinecolor": "white",
           "zerolinewidth": 2
          }
         }
        },
        "title": {
         "text": "Temperature ranges and New Infections"
        },
        "xaxis": {
         "anchor": "y",
         "domain": [
          0,
          1
         ],
         "title": {
          "text": "Cluster_Temp"
         }
        },
        "yaxis": {
         "anchor": "x",
         "domain": [
          0,
          1
         ],
         "title": {
          "text": "Confirmed"
         }
        }
       }
      },
      "text/html": [
       "<div>\n",
       "        \n",
       "        \n",
       "            <div id=\"b71cb02b-100c-4832-bf5e-d605a64470b0\" class=\"plotly-graph-div\" style=\"height:600px; width:100%;\"></div>\n",
       "            <script type=\"text/javascript\">\n",
       "                require([\"plotly\"], function(Plotly) {\n",
       "                    window.PLOTLYENV=window.PLOTLYENV || {};\n",
       "                    \n",
       "                if (document.getElementById(\"b71cb02b-100c-4832-bf5e-d605a64470b0\")) {\n",
       "                    Plotly.newPlot(\n",
       "                        'b71cb02b-100c-4832-bf5e-d605a64470b0',\n",
       "                        [{\"alignmentgroup\": \"True\", \"hoverlabel\": {\"namelength\": 0}, \"hovertemplate\": \"Province/State=New York<br>Cluster_Temp=%{x}<br>Confirmed=%{y}\", \"legendgroup\": \"Province/State=New York\", \"marker\": {\"color\": \"#636efa\"}, \"name\": \"Province/State=New York\", \"offsetgroup\": \"Province/State=New York\", \"orientation\": \"v\", \"showlegend\": true, \"textposition\": \"auto\", \"type\": \"bar\", \"x\": [\"40-60 F\", \"40-60 F\", \"40-60 F\", \"40-60 F\", \"40-60 F\", \"40-60 F\", \"40-60 F\", \"40-60 F\", \">60 F\", \"40-60 F\", \"40-60 F\", \"40-60 F\", \"40-60 F\", \"40-60 F\", \"<40 F\", \"40-60 F\", \"40-60 F\", \"40-60 F\", \"40-60 F\", \"40-60 F\", \"<40 F\", \"<40 F\", \"40-60 F\", \"40-60 F\", \"40-60 F\"], \"xaxis\": \"x\", \"y\": [173, 47, 108, 93, 104, 207, 235, 739, 789, 2870, 2945, 3400, 4090, 5084, 4797, 5160, 7036, 6999, 7534, 7238, 7015, 9170, 8115, 8558, 10481], \"yaxis\": \"y\"}, {\"alignmentgroup\": \"True\", \"hoverlabel\": {\"namelength\": 0}, \"hovertemplate\": \"Province/State=Madrid<br>Cluster_Temp=%{x}<br>Confirmed=%{y}\", \"legendgroup\": \"Province/State=Madrid\", \"marker\": {\"color\": \"#EF553B\"}, \"name\": \"Province/State=Madrid\", \"offsetgroup\": \"Province/State=Madrid\", \"orientation\": \"v\", \"showlegend\": true, \"textposition\": \"auto\", \"type\": \"bar\", \"x\": [\"40-60 F\", \"40-60 F\", \"40-60 F\", \"40-60 F\", \"40-60 F\", \"40-60 F\", \"40-60 F\", \"40-60 F\", \"40-60 F\", \"40-60 F\", \"40-60 F\", \"40-60 F\", \"40-60 F\", \"40-60 F\", \"40-60 F\", \"40-60 F\", \"40-60 F\", \"40-60 F\", \"40-60 F\", \"40-60 F\", \"40-60 F\", \"40-60 F\", \"40-60 F\", \"40-60 F\", \"40-60 F\", \"40-60 F\", \"40-60 F\", \"40-60 F\", \"40-60 F\", \"40-60 F\", \"40-60 F\", \"40-60 F\", \"40-60 F\", \"40-60 F\", \"40-60 F\", \"40-60 F\", \"40-60 F\", \"40-60 F\", \"40-60 F\", \"40-60 F\", \"40-60 F\", \"40-60 F\", \"40-60 F\", \"40-60 F\", \"40-60 F\", \"40-60 F\", \"40-60 F\", \"40-60 F\", \">60 F\", \">60 F\", \"40-60 F\", \"40-60 F\", \"40-60 F\", \"40-60 F\", \"40-60 F\", \"40-60 F\", \"40-60 F\", \"40-60 F\", \"40-60 F\", \"40-60 F\", \"40-60 F\", \"40-60 F\", \"40-60 F\"], \"xaxis\": \"x\", \"y\": [1, 0, 0, 0, 0, 0, 0, 0, 1, 0, 0, 0, 0, 0, 0, 0, 0, 0, 0, 0, 0, 0, 0, 0, 4, 7, 2, 17, 13, 39, 36, 45, 57, 37, 141, 100, 173, 400, 622, 582, 0, 2955, 1159, 1407, 2144, 1806, 2162, 4053, 2447, 4964, 3229, 6533, 4749, 9630, 8271, 7933, 7516, 6875, 7846, 7967, 8195, 7947, 7134], \"yaxis\": \"y\"}, {\"alignmentgroup\": \"True\", \"hoverlabel\": {\"namelength\": 0}, \"hovertemplate\": \"Province/State=Quebec<br>Cluster_Temp=%{x}<br>Confirmed=%{y}\", \"legendgroup\": \"Province/State=Quebec\", \"marker\": {\"color\": \"#00cc96\"}, \"name\": \"Province/State=Quebec\", \"offsetgroup\": \"Province/State=Quebec\", \"orientation\": \"v\", \"showlegend\": true, \"textposition\": \"auto\", \"type\": \"bar\", \"x\": [\"<40 F\", \"<40 F\", \"<40 F\", \"<40 F\", \"<40 F\", \"<40 F\", \"<40 F\", \"<40 F\", \"<40 F\", \"<40 F\", \"<40 F\", \"<40 F\", \"<40 F\", \"<40 F\", \"<40 F\", \"<40 F\", \"<40 F\", \"<40 F\", \"<40 F\", \"<40 F\", \"<40 F\", \"<40 F\", \"<40 F\", \"<40 F\", \"<40 F\", \"<40 F\"], \"xaxis\": \"x\", \"y\": [3, 1, 4, 1, 8, 0, 7, 26, 24, 20, 27, 18, 42, 38, 409, 385, 329, 290, 392, 474, 342, 590, 732, 449, 907, 583], \"yaxis\": \"y\"}, {\"alignmentgroup\": \"True\", \"hoverlabel\": {\"namelength\": 0}, \"hovertemplate\": \"Province/State=Lombardia<br>Cluster_Temp=%{x}<br>Confirmed=%{y}\", \"legendgroup\": \"Province/State=Lombardia\", \"marker\": {\"color\": \"#ab63fa\"}, \"name\": \"Province/State=Lombardia\", \"offsetgroup\": \"Province/State=Lombardia\", \"orientation\": \"v\", \"showlegend\": true, \"textposition\": \"auto\", \"type\": \"bar\", \"x\": [\"40-60 F\", \"40-60 F\", \"40-60 F\", \"40-60 F\", \"40-60 F\", \"40-60 F\", \"40-60 F\", \"40-60 F\", \"40-60 F\", \"40-60 F\", \"40-60 F\", \"40-60 F\", \"40-60 F\", \"40-60 F\", \"40-60 F\", \"40-60 F\", \"40-60 F\", \"40-60 F\", \"40-60 F\", \"40-60 F\", \"40-60 F\", \"40-60 F\", \"40-60 F\", \"40-60 F\", \"40-60 F\", \"40-60 F\", \"40-60 F\", \"40-60 F\", \"40-60 F\", \"40-60 F\", \"40-60 F\", \"40-60 F\", \"40-60 F\", \"40-60 F\", \"40-60 F\", \"40-60 F\", \"40-60 F\", \"40-60 F\", \"40-60 F\", \"40-60 F\"], \"xaxis\": \"x\", \"y\": [172, 68, 18, 145, 128, 84, 369, 270, 266, 300, 431, 361, 808, 769, 1280, 322, 1489, 1445, 1095, 1865, 1587, 1377, 1571, 1493, 2171, 2380, 3251, 1691, 1555, 1942, 1643, 2543, 2409, 2117, 1592, 1154, 1047, 1565, 1292, 1455], \"yaxis\": \"y\"}, {\"alignmentgroup\": \"True\", \"hoverlabel\": {\"namelength\": 0}, \"hovertemplate\": \"Province/State=Vienna<br>Cluster_Temp=%{x}<br>Confirmed=%{y}\", \"legendgroup\": \"Province/State=Vienna\", \"marker\": {\"color\": \"#FFA15A\"}, \"name\": \"Province/State=Vienna\", \"offsetgroup\": \"Province/State=Vienna\", \"orientation\": \"v\", \"showlegend\": true, \"textposition\": \"auto\", \"type\": \"bar\", \"x\": [\"40-60 F\", \"40-60 F\", \"40-60 F\", \"40-60 F\", \"40-60 F\", \"40-60 F\", \"40-60 F\", \"40-60 F\", \"40-60 F\", \"40-60 F\", \"40-60 F\", \"<40 F\", \"40-60 F\", \"40-60 F\", \"40-60 F\", \"40-60 F\", \"40-60 F\", \"40-60 F\", \"40-60 F\", \"40-60 F\", \"40-60 F\", \"40-60 F\", \"40-60 F\", \"40-60 F\", \"40-60 F\", \"40-60 F\", \"40-60 F\", \"<40 F\", \"40-60 F\", \"40-60 F\", \"40-60 F\", \"40-60 F\", \"40-60 F\", \"40-60 F\", \"<40 F\", \"<40 F\", \"<40 F\", \"<40 F\", \"<40 F\"], \"xaxis\": \"x\", \"y\": [2, 0, 1, 0, 6, 5, 4, 3, 8, 12, 14, 24, 25, 27, 51, 64, 56, 202, 151, 205, 158, 314, 314, 367, 375, 426, 766, 894, 809, 305, 1321, 748, 614, 517, 830, 562, 531, 418, 395], \"yaxis\": \"y\"}, {\"alignmentgroup\": \"True\", \"hoverlabel\": {\"namelength\": 0}, \"hovertemplate\": \"Province/State=Stockholm<br>Cluster_Temp=%{x}<br>Confirmed=%{y}\", \"legendgroup\": \"Province/State=Stockholm\", \"marker\": {\"color\": \"#19d3f3\"}, \"name\": \"Province/State=Stockholm\", \"offsetgroup\": \"Province/State=Stockholm\", \"orientation\": \"v\", \"showlegend\": true, \"textposition\": \"auto\", \"type\": \"bar\", \"x\": [\"<40 F\", \"40-60 F\", \"<40 F\", \"40-60 F\", \"40-60 F\", \"<40 F\", \"<40 F\", \"<40 F\", \"<40 F\", \"40-60 F\", \"<40 F\", \"<40 F\", \"<40 F\", \"<40 F\", \"<40 F\", \"<40 F\", \"<40 F\", \"40-60 F\", \"40-60 F\", \"<40 F\", \"<40 F\", \"<40 F\", \"<40 F\", \"<40 F\", \"40-60 F\", \"40-60 F\", \"40-60 F\", \"<40 F\", \"<40 F\", \"40-60 F\", \"40-60 F\", \"40-60 F\", \"<40 F\", \"<40 F\", \"<40 F\", \"<40 F\", \"<40 F\", \"<40 F\", \"<40 F\", \"<40 F\", \"<40 F\", \"<40 F\", \"<40 F\", \"<40 F\", \"<40 F\", \"<40 F\", \"40-60 F\", \"40-60 F\", \"40-60 F\", \"<40 F\", \"<40 F\", \"<40 F\", \"<40 F\", \"<40 F\", \"40-60 F\", \"40-60 F\", \"40-60 F\", \"<40 F\", \"<40 F\", \"<40 F\", \"<40 F\", \"<40 F\", \"40-60 F\", \"40-60 F\"], \"xaxis\": \"x\", \"y\": [1, 0, 0, 0, 0, 0, 0, 0, 0, 0, 0, 0, 0, 0, 0, 0, 0, 0, 0, 0, 0, 0, 0, 0, 0, 0, 1, 5, 0, 5, 2, 1, 6, 14, 59, 7, 60, 42, 45, 107, 145, 99, 215, 147, 61, 81, 87, 89, 160, 200, 124, 168, 115, 240, 240, 314, 229, 378, 253, 328, 407, 512, 621, 563], \"yaxis\": \"y\"}, {\"alignmentgroup\": \"True\", \"hoverlabel\": {\"namelength\": 0}, \"hovertemplate\": \"Province/State=Doha<br>Cluster_Temp=%{x}<br>Confirmed=%{y}\", \"legendgroup\": \"Province/State=Doha\", \"marker\": {\"color\": \"#FF6692\"}, \"name\": \"Province/State=Doha\", \"offsetgroup\": \"Province/State=Doha\", \"orientation\": \"v\", \"showlegend\": true, \"textposition\": \"auto\", \"type\": \"bar\", \"x\": [\">60 F\", \">60 F\", \">60 F\", \">60 F\", \">60 F\", \">60 F\", \">60 F\", \">60 F\", \">60 F\", \">60 F\", \">60 F\", \">60 F\", \">60 F\", \">60 F\", \">60 F\", \">60 F\", \">60 F\", \">60 F\", \">60 F\", \">60 F\", \">60 F\", \">60 F\", \">60 F\", \">60 F\", \">60 F\", \">60 F\", \">60 F\", \">60 F\", \">60 F\", \">60 F\", \">60 F\", \">60 F\", \">60 F\", \">60 F\", \">60 F\"], \"xaxis\": \"x\", \"y\": [1, 2, 0, 4, 1, 0, 0, 0, 7, 3, 6, 238, 0, 58, 17, 64, 38, 0, 13, 8, 10, 11, 13, 7, 25, 11, 12, 13, 28, 44, 59, 88, 54, 114, 126], \"yaxis\": \"y\"}, {\"alignmentgroup\": \"True\", \"hoverlabel\": {\"namelength\": 0}, \"hovertemplate\": \"Province/State=Dubai<br>Cluster_Temp=%{x}<br>Confirmed=%{y}\", \"legendgroup\": \"Province/State=Dubai\", \"marker\": {\"color\": \"#B6E880\"}, \"name\": \"Province/State=Dubai\", \"offsetgroup\": \"Province/State=Dubai\", \"orientation\": \"v\", \"showlegend\": true, \"textposition\": \"auto\", \"type\": \"bar\", \"x\": [\">60 F\", \">60 F\", \">60 F\", \">60 F\", \">60 F\", \">60 F\", \">60 F\", \">60 F\", \">60 F\", \">60 F\", \">60 F\", \">60 F\", \">60 F\", \">60 F\", \">60 F\", \">60 F\", \">60 F\", \">60 F\", \">60 F\", \">60 F\", \">60 F\", \">60 F\", \">60 F\", \">60 F\", \">60 F\", \">60 F\", \">60 F\", \">60 F\", \">60 F\", \">60 F\", \">60 F\", \">60 F\", \">60 F\", \">60 F\", \">60 F\", \">60 F\", \">60 F\", \">60 F\", \">60 F\", \">60 F\", \">60 F\", \">60 F\", \">60 F\", \">60 F\", \">60 F\", \">60 F\", \">60 F\", \">60 F\", \">60 F\", \">60 F\", \">60 F\", \">60 F\", \">60 F\", \">60 F\", \">60 F\", \">60 F\", \">60 F\", \">60 F\", \">60 F\", \">60 F\", \">60 F\", \">60 F\", \">60 F\", \">60 F\", \">60 F\", \">60 F\"], \"xaxis\": \"x\", \"y\": [4, 0, 0, 0, 1, 0, 0, 0, 0, 0, 2, 0, 1, 0, 0, 0, 0, 0, 1, 0, 0, 0, 0, 0, 4, 0, 0, 0, 0, 0, 6, 2, 0, 0, 6, 0, 2, 0, 16, 0, 0, 29, 0, 11, 0, 0, 13, 0, 0, 15, 27, 0, 13, 0, 45, 50, 85, 0, 72, 63, 102, 41, 53, 150, 210, 240], \"yaxis\": \"y\"}, {\"alignmentgroup\": \"True\", \"hoverlabel\": {\"namelength\": 0}, \"hovertemplate\": \"Province/State=Dakar<br>Cluster_Temp=%{x}<br>Confirmed=%{y}\", \"legendgroup\": \"Province/State=Dakar\", \"marker\": {\"color\": \"#FF97FF\"}, \"name\": \"Province/State=Dakar\", \"offsetgroup\": \"Province/State=Dakar\", \"orientation\": \"v\", \"showlegend\": true, \"textposition\": \"auto\", \"type\": \"bar\", \"x\": [\">60 F\", \">60 F\", \">60 F\", \">60 F\", \">60 F\", \">60 F\", \">60 F\", \">60 F\", \">60 F\", \">60 F\", \">60 F\", \">60 F\", \">60 F\", \">60 F\", \">60 F\", \">60 F\", \">60 F\", \">60 F\", \">60 F\", \">60 F\", \">60 F\", \">60 F\", \">60 F\", \">60 F\", \">60 F\", \">60 F\", \">60 F\", \">60 F\", \">60 F\", \">60 F\", \">60 F\", \">60 F\", \">60 F\"], \"xaxis\": \"x\", \"y\": [1, 1, 2, 0, 0, 0, 0, 0, 0, 0, 0, 6, 0, 14, 0, 2, 5, 0, 7, 9, 20, 12, 7, 13, 6, 14, 11, 12, 20, 13, 15, 5, 12], \"yaxis\": \"y\"}],\n",
       "                        {\"barmode\": \"relative\", \"height\": 600, \"legend\": {\"tracegroupgap\": 0}, \"template\": {\"data\": {\"bar\": [{\"error_x\": {\"color\": \"#2a3f5f\"}, \"error_y\": {\"color\": \"#2a3f5f\"}, \"marker\": {\"line\": {\"color\": \"#E5ECF6\", \"width\": 0.5}}, \"type\": \"bar\"}], \"barpolar\": [{\"marker\": {\"line\": {\"color\": \"#E5ECF6\", \"width\": 0.5}}, \"type\": \"barpolar\"}], \"carpet\": [{\"aaxis\": {\"endlinecolor\": \"#2a3f5f\", \"gridcolor\": \"white\", \"linecolor\": \"white\", \"minorgridcolor\": \"white\", \"startlinecolor\": \"#2a3f5f\"}, \"baxis\": {\"endlinecolor\": \"#2a3f5f\", \"gridcolor\": \"white\", \"linecolor\": \"white\", \"minorgridcolor\": \"white\", \"startlinecolor\": \"#2a3f5f\"}, \"type\": \"carpet\"}], \"choropleth\": [{\"colorbar\": {\"outlinewidth\": 0, \"ticks\": \"\"}, \"type\": \"choropleth\"}], \"contour\": [{\"colorbar\": {\"outlinewidth\": 0, \"ticks\": \"\"}, \"colorscale\": [[0.0, \"#0d0887\"], [0.1111111111111111, \"#46039f\"], [0.2222222222222222, \"#7201a8\"], [0.3333333333333333, \"#9c179e\"], [0.4444444444444444, \"#bd3786\"], [0.5555555555555556, \"#d8576b\"], [0.6666666666666666, \"#ed7953\"], [0.7777777777777778, \"#fb9f3a\"], [0.8888888888888888, \"#fdca26\"], [1.0, \"#f0f921\"]], \"type\": \"contour\"}], \"contourcarpet\": [{\"colorbar\": {\"outlinewidth\": 0, \"ticks\": \"\"}, \"type\": \"contourcarpet\"}], \"heatmap\": [{\"colorbar\": {\"outlinewidth\": 0, \"ticks\": \"\"}, \"colorscale\": [[0.0, \"#0d0887\"], [0.1111111111111111, \"#46039f\"], [0.2222222222222222, \"#7201a8\"], [0.3333333333333333, \"#9c179e\"], [0.4444444444444444, \"#bd3786\"], [0.5555555555555556, \"#d8576b\"], [0.6666666666666666, \"#ed7953\"], [0.7777777777777778, \"#fb9f3a\"], [0.8888888888888888, \"#fdca26\"], [1.0, \"#f0f921\"]], \"type\": \"heatmap\"}], \"heatmapgl\": [{\"colorbar\": {\"outlinewidth\": 0, \"ticks\": \"\"}, \"colorscale\": [[0.0, \"#0d0887\"], [0.1111111111111111, \"#46039f\"], [0.2222222222222222, \"#7201a8\"], [0.3333333333333333, \"#9c179e\"], [0.4444444444444444, \"#bd3786\"], [0.5555555555555556, \"#d8576b\"], [0.6666666666666666, \"#ed7953\"], [0.7777777777777778, \"#fb9f3a\"], [0.8888888888888888, \"#fdca26\"], [1.0, \"#f0f921\"]], \"type\": \"heatmapgl\"}], \"histogram\": [{\"marker\": {\"colorbar\": {\"outlinewidth\": 0, \"ticks\": \"\"}}, \"type\": \"histogram\"}], \"histogram2d\": [{\"colorbar\": {\"outlinewidth\": 0, \"ticks\": \"\"}, \"colorscale\": [[0.0, \"#0d0887\"], [0.1111111111111111, \"#46039f\"], [0.2222222222222222, \"#7201a8\"], [0.3333333333333333, \"#9c179e\"], [0.4444444444444444, \"#bd3786\"], [0.5555555555555556, \"#d8576b\"], [0.6666666666666666, \"#ed7953\"], [0.7777777777777778, \"#fb9f3a\"], [0.8888888888888888, \"#fdca26\"], [1.0, \"#f0f921\"]], \"type\": \"histogram2d\"}], \"histogram2dcontour\": [{\"colorbar\": {\"outlinewidth\": 0, \"ticks\": \"\"}, \"colorscale\": [[0.0, \"#0d0887\"], [0.1111111111111111, \"#46039f\"], [0.2222222222222222, \"#7201a8\"], [0.3333333333333333, \"#9c179e\"], [0.4444444444444444, \"#bd3786\"], [0.5555555555555556, \"#d8576b\"], [0.6666666666666666, \"#ed7953\"], [0.7777777777777778, \"#fb9f3a\"], [0.8888888888888888, \"#fdca26\"], [1.0, \"#f0f921\"]], \"type\": \"histogram2dcontour\"}], \"mesh3d\": [{\"colorbar\": {\"outlinewidth\": 0, \"ticks\": \"\"}, \"type\": \"mesh3d\"}], \"parcoords\": [{\"line\": {\"colorbar\": {\"outlinewidth\": 0, \"ticks\": \"\"}}, \"type\": \"parcoords\"}], \"pie\": [{\"automargin\": true, \"type\": \"pie\"}], \"scatter\": [{\"marker\": {\"colorbar\": {\"outlinewidth\": 0, \"ticks\": \"\"}}, \"type\": \"scatter\"}], \"scatter3d\": [{\"line\": {\"colorbar\": {\"outlinewidth\": 0, \"ticks\": \"\"}}, \"marker\": {\"colorbar\": {\"outlinewidth\": 0, \"ticks\": \"\"}}, \"type\": \"scatter3d\"}], \"scattercarpet\": [{\"marker\": {\"colorbar\": {\"outlinewidth\": 0, \"ticks\": \"\"}}, \"type\": \"scattercarpet\"}], \"scattergeo\": [{\"marker\": {\"colorbar\": {\"outlinewidth\": 0, \"ticks\": \"\"}}, \"type\": \"scattergeo\"}], \"scattergl\": [{\"marker\": {\"colorbar\": {\"outlinewidth\": 0, \"ticks\": \"\"}}, \"type\": \"scattergl\"}], \"scattermapbox\": [{\"marker\": {\"colorbar\": {\"outlinewidth\": 0, \"ticks\": \"\"}}, \"type\": \"scattermapbox\"}], \"scatterpolar\": [{\"marker\": {\"colorbar\": {\"outlinewidth\": 0, \"ticks\": \"\"}}, \"type\": \"scatterpolar\"}], \"scatterpolargl\": [{\"marker\": {\"colorbar\": {\"outlinewidth\": 0, \"ticks\": \"\"}}, \"type\": \"scatterpolargl\"}], \"scatterternary\": [{\"marker\": {\"colorbar\": {\"outlinewidth\": 0, \"ticks\": \"\"}}, \"type\": \"scatterternary\"}], \"surface\": [{\"colorbar\": {\"outlinewidth\": 0, \"ticks\": \"\"}, \"colorscale\": [[0.0, \"#0d0887\"], [0.1111111111111111, \"#46039f\"], [0.2222222222222222, \"#7201a8\"], [0.3333333333333333, \"#9c179e\"], [0.4444444444444444, \"#bd3786\"], [0.5555555555555556, \"#d8576b\"], [0.6666666666666666, \"#ed7953\"], [0.7777777777777778, \"#fb9f3a\"], [0.8888888888888888, \"#fdca26\"], [1.0, \"#f0f921\"]], \"type\": \"surface\"}], \"table\": [{\"cells\": {\"fill\": {\"color\": \"#EBF0F8\"}, \"line\": {\"color\": \"white\"}}, \"header\": {\"fill\": {\"color\": \"#C8D4E3\"}, \"line\": {\"color\": \"white\"}}, \"type\": \"table\"}]}, \"layout\": {\"annotationdefaults\": {\"arrowcolor\": \"#2a3f5f\", \"arrowhead\": 0, \"arrowwidth\": 1}, \"coloraxis\": {\"colorbar\": {\"outlinewidth\": 0, \"ticks\": \"\"}}, \"colorscale\": {\"diverging\": [[0, \"#8e0152\"], [0.1, \"#c51b7d\"], [0.2, \"#de77ae\"], [0.3, \"#f1b6da\"], [0.4, \"#fde0ef\"], [0.5, \"#f7f7f7\"], [0.6, \"#e6f5d0\"], [0.7, \"#b8e186\"], [0.8, \"#7fbc41\"], [0.9, \"#4d9221\"], [1, \"#276419\"]], \"sequential\": [[0.0, \"#0d0887\"], [0.1111111111111111, \"#46039f\"], [0.2222222222222222, \"#7201a8\"], [0.3333333333333333, \"#9c179e\"], [0.4444444444444444, \"#bd3786\"], [0.5555555555555556, \"#d8576b\"], [0.6666666666666666, \"#ed7953\"], [0.7777777777777778, \"#fb9f3a\"], [0.8888888888888888, \"#fdca26\"], [1.0, \"#f0f921\"]], \"sequentialminus\": [[0.0, \"#0d0887\"], [0.1111111111111111, \"#46039f\"], [0.2222222222222222, \"#7201a8\"], [0.3333333333333333, \"#9c179e\"], [0.4444444444444444, \"#bd3786\"], [0.5555555555555556, \"#d8576b\"], [0.6666666666666666, \"#ed7953\"], [0.7777777777777778, \"#fb9f3a\"], [0.8888888888888888, \"#fdca26\"], [1.0, \"#f0f921\"]]}, \"colorway\": [\"#636efa\", \"#EF553B\", \"#00cc96\", \"#ab63fa\", \"#FFA15A\", \"#19d3f3\", \"#FF6692\", \"#B6E880\", \"#FF97FF\", \"#FECB52\"], \"font\": {\"color\": \"#2a3f5f\"}, \"geo\": {\"bgcolor\": \"white\", \"lakecolor\": \"white\", \"landcolor\": \"#E5ECF6\", \"showlakes\": true, \"showland\": true, \"subunitcolor\": \"white\"}, \"hoverlabel\": {\"align\": \"left\"}, \"hovermode\": \"closest\", \"mapbox\": {\"style\": \"light\"}, \"paper_bgcolor\": \"white\", \"plot_bgcolor\": \"#E5ECF6\", \"polar\": {\"angularaxis\": {\"gridcolor\": \"white\", \"linecolor\": \"white\", \"ticks\": \"\"}, \"bgcolor\": \"#E5ECF6\", \"radialaxis\": {\"gridcolor\": \"white\", \"linecolor\": \"white\", \"ticks\": \"\"}}, \"scene\": {\"xaxis\": {\"backgroundcolor\": \"#E5ECF6\", \"gridcolor\": \"white\", \"gridwidth\": 2, \"linecolor\": \"white\", \"showbackground\": true, \"ticks\": \"\", \"zerolinecolor\": \"white\"}, \"yaxis\": {\"backgroundcolor\": \"#E5ECF6\", \"gridcolor\": \"white\", \"gridwidth\": 2, \"linecolor\": \"white\", \"showbackground\": true, \"ticks\": \"\", \"zerolinecolor\": \"white\"}, \"zaxis\": {\"backgroundcolor\": \"#E5ECF6\", \"gridcolor\": \"white\", \"gridwidth\": 2, \"linecolor\": \"white\", \"showbackground\": true, \"ticks\": \"\", \"zerolinecolor\": \"white\"}}, \"shapedefaults\": {\"line\": {\"color\": \"#2a3f5f\"}}, \"ternary\": {\"aaxis\": {\"gridcolor\": \"white\", \"linecolor\": \"white\", \"ticks\": \"\"}, \"baxis\": {\"gridcolor\": \"white\", \"linecolor\": \"white\", \"ticks\": \"\"}, \"bgcolor\": \"#E5ECF6\", \"caxis\": {\"gridcolor\": \"white\", \"linecolor\": \"white\", \"ticks\": \"\"}}, \"title\": {\"x\": 0.05}, \"xaxis\": {\"automargin\": true, \"gridcolor\": \"white\", \"linecolor\": \"white\", \"ticks\": \"\", \"title\": {\"standoff\": 15}, \"zerolinecolor\": \"white\", \"zerolinewidth\": 2}, \"yaxis\": {\"automargin\": true, \"gridcolor\": \"white\", \"linecolor\": \"white\", \"ticks\": \"\", \"title\": {\"standoff\": 15}, \"zerolinecolor\": \"white\", \"zerolinewidth\": 2}}}, \"title\": {\"text\": \"Temperature ranges and New Infections\"}, \"xaxis\": {\"anchor\": \"y\", \"domain\": [0.0, 1.0], \"title\": {\"text\": \"Cluster_Temp\"}}, \"yaxis\": {\"anchor\": \"x\", \"domain\": [0.0, 1.0], \"title\": {\"text\": \"Confirmed\"}}},\n",
       "                        {\"responsive\": true}\n",
       "                    ).then(function(){\n",
       "                            \n",
       "var gd = document.getElementById('b71cb02b-100c-4832-bf5e-d605a64470b0');\n",
       "var x = new MutationObserver(function (mutations, observer) {{\n",
       "        var display = window.getComputedStyle(gd).display;\n",
       "        if (!display || display === 'none') {{\n",
       "            console.log([gd, 'removed!']);\n",
       "            Plotly.purge(gd);\n",
       "            observer.disconnect();\n",
       "        }}\n",
       "}});\n",
       "\n",
       "// Listen for the removal of the full notebook cells\n",
       "var notebookContainer = gd.closest('#notebook-container');\n",
       "if (notebookContainer) {{\n",
       "    x.observe(notebookContainer, {childList: true});\n",
       "}}\n",
       "\n",
       "// Listen for the clearing of the current output cell\n",
       "var outputEl = gd.closest('.output');\n",
       "if (outputEl) {{\n",
       "    x.observe(outputEl, {childList: true});\n",
       "}}\n",
       "\n",
       "                        })\n",
       "                };\n",
       "                });\n",
       "            </script>\n",
       "        </div>"
      ]
     },
     "metadata": {},
     "output_type": "display_data"
    }
   ],
   "source": [
    "# Histogram of the number of infections by group of temperature\n",
    "px.bar(covid_weather, x=\"Cluster_Temp\", y=\"Confirmed\", \n",
    "       color=\"Province/State\", title='Temperature ranges and New Infections')"
   ]
  },
  {
   "cell_type": "markdown",
   "metadata": {},
   "source": [
    "The previous observations are far away to be conclusive because these differences could be explained as a consequence of differents factors like:\n",
    "* Differences in the population density between Provinces/States (cities with more population are more likely to have more cases).\n",
    "* Our sample has mostly cities with temperatures between $40-60^o F$.\n",
    "* Sociocultural factors. Note here that Spanish and Italians are warm people, normally use to have close interpersonal relationships, and as a consequence this power the spread of the virus. The explanation is extensible for New York, which is a very multicultural city.\n",
    "\n",
    "The table below resumes the total days for each temperature group and `Province/Region`. As we can see, New York is the only city that has days in each of the temperature ranges but isn't enough to even consider a fair statistical comparison of the number of new cases between temperature groups. Without a doubt, this is a limitation of our dataset, and in my opinion, the best bet could be to compare cities with similar population density and different temperatures.\n",
    "> Note that taking this path, we are assuming that the sociocultural factors are similar between the population of two different cities, which could be a bias, but it's necessary to simplify our analysis because sadly our data is limited."
   ]
  },
  {
   "cell_type": "code",
   "execution_count": 167,
   "metadata": {
    "scrolled": true
   },
   "outputs": [
    {
     "data": {
      "text/html": [
       "<div>\n",
       "<style scoped>\n",
       "    .dataframe tbody tr th:only-of-type {\n",
       "        vertical-align: middle;\n",
       "    }\n",
       "\n",
       "    .dataframe tbody tr th {\n",
       "        vertical-align: top;\n",
       "    }\n",
       "\n",
       "    .dataframe thead th {\n",
       "        text-align: right;\n",
       "    }\n",
       "</style>\n",
       "<table border=\"1\" class=\"dataframe\">\n",
       "  <thead>\n",
       "    <tr style=\"text-align: right;\">\n",
       "      <th>Cluster_Temp</th>\n",
       "      <th>40-60 F</th>\n",
       "      <th>&lt;40 F</th>\n",
       "      <th>&gt;60 F</th>\n",
       "    </tr>\n",
       "    <tr>\n",
       "      <th>Province/State</th>\n",
       "      <th></th>\n",
       "      <th></th>\n",
       "      <th></th>\n",
       "    </tr>\n",
       "  </thead>\n",
       "  <tbody>\n",
       "    <tr>\n",
       "      <th>Dakar</th>\n",
       "      <td>NaN</td>\n",
       "      <td>NaN</td>\n",
       "      <td>33.0</td>\n",
       "    </tr>\n",
       "    <tr>\n",
       "      <th>Doha</th>\n",
       "      <td>NaN</td>\n",
       "      <td>NaN</td>\n",
       "      <td>35.0</td>\n",
       "    </tr>\n",
       "    <tr>\n",
       "      <th>Dubai</th>\n",
       "      <td>NaN</td>\n",
       "      <td>NaN</td>\n",
       "      <td>66.0</td>\n",
       "    </tr>\n",
       "    <tr>\n",
       "      <th>Lombardia</th>\n",
       "      <td>40.0</td>\n",
       "      <td>NaN</td>\n",
       "      <td>NaN</td>\n",
       "    </tr>\n",
       "    <tr>\n",
       "      <th>Madrid</th>\n",
       "      <td>61.0</td>\n",
       "      <td>NaN</td>\n",
       "      <td>2.0</td>\n",
       "    </tr>\n",
       "    <tr>\n",
       "      <th>New York</th>\n",
       "      <td>21.0</td>\n",
       "      <td>3.0</td>\n",
       "      <td>1.0</td>\n",
       "    </tr>\n",
       "    <tr>\n",
       "      <th>Quebec</th>\n",
       "      <td>NaN</td>\n",
       "      <td>26.0</td>\n",
       "      <td>NaN</td>\n",
       "    </tr>\n",
       "    <tr>\n",
       "      <th>Stockholm</th>\n",
       "      <td>20.0</td>\n",
       "      <td>44.0</td>\n",
       "      <td>NaN</td>\n",
       "    </tr>\n",
       "    <tr>\n",
       "      <th>Vienna</th>\n",
       "      <td>32.0</td>\n",
       "      <td>7.0</td>\n",
       "      <td>NaN</td>\n",
       "    </tr>\n",
       "  </tbody>\n",
       "</table>\n",
       "</div>"
      ],
      "text/plain": [
       "Cluster_Temp    40-60 F  <40 F  >60 F\n",
       "Province/State                       \n",
       "Dakar               NaN    NaN   33.0\n",
       "Doha                NaN    NaN   35.0\n",
       "Dubai               NaN    NaN   66.0\n",
       "Lombardia          40.0    NaN    NaN\n",
       "Madrid             61.0    NaN    2.0\n",
       "New York           21.0    3.0    1.0\n",
       "Quebec              NaN   26.0    NaN\n",
       "Stockholm          20.0   44.0    NaN\n",
       "Vienna             32.0    7.0    NaN"
      ]
     },
     "execution_count": 167,
     "metadata": {},
     "output_type": "execute_result"
    }
   ],
   "source": [
    "# Number of days that each Province/State had for each range of temperature\n",
    "covid_weather.pivot_table(index='Province/State',columns='Cluster_Temp',\n",
    "                          values='Days Since First Case',aggfunc='count')"
   ]
  },
  {
   "cell_type": "markdown",
   "metadata": {},
   "source": [
    "The data about the `Population`, `Land Area` and `Population Density` for each `Province/Region` was obtained from [Wikipedia](https://www.wikipedia.org/), and are shown in the next table. The good news is that Doha and Dakar are the regions with more population density, but also the temperature in these regions is always over $60^o F$, so, this opens the possibility to compare these regions with the others with other temperatures ranges."
   ]
  },
  {
   "cell_type": "code",
   "execution_count": 168,
   "metadata": {},
   "outputs": [
    {
     "data": {
      "text/html": [
       "<div>\n",
       "<style scoped>\n",
       "    .dataframe tbody tr th:only-of-type {\n",
       "        vertical-align: middle;\n",
       "    }\n",
       "\n",
       "    .dataframe tbody tr th {\n",
       "        vertical-align: top;\n",
       "    }\n",
       "\n",
       "    .dataframe thead th {\n",
       "        text-align: right;\n",
       "    }\n",
       "</style>\n",
       "<table border=\"1\" class=\"dataframe\">\n",
       "  <thead>\n",
       "    <tr style=\"text-align: right;\">\n",
       "      <th></th>\n",
       "      <th>Region/State</th>\n",
       "      <th>Population</th>\n",
       "      <th>Land Area (sq mi)</th>\n",
       "      <th>Population Density</th>\n",
       "    </tr>\n",
       "  </thead>\n",
       "  <tbody>\n",
       "    <tr>\n",
       "      <th>1</th>\n",
       "      <td>Doha</td>\n",
       "      <td>2382000</td>\n",
       "      <td>51.00</td>\n",
       "      <td>46705.882353</td>\n",
       "    </tr>\n",
       "    <tr>\n",
       "      <th>0</th>\n",
       "      <td>Dakar</td>\n",
       "      <td>2956023</td>\n",
       "      <td>211.00</td>\n",
       "      <td>14009.587678</td>\n",
       "    </tr>\n",
       "    <tr>\n",
       "      <th>4</th>\n",
       "      <td>Madrid</td>\n",
       "      <td>3223334</td>\n",
       "      <td>233.30</td>\n",
       "      <td>13816.262323</td>\n",
       "    </tr>\n",
       "    <tr>\n",
       "      <th>8</th>\n",
       "      <td>Vienna</td>\n",
       "      <td>1888776</td>\n",
       "      <td>160.15</td>\n",
       "      <td>11793.793319</td>\n",
       "    </tr>\n",
       "    <tr>\n",
       "      <th>2</th>\n",
       "      <td>Dubai</td>\n",
       "      <td>3331420</td>\n",
       "      <td>1588.00</td>\n",
       "      <td>2097.871537</td>\n",
       "    </tr>\n",
       "    <tr>\n",
       "      <th>3</th>\n",
       "      <td>Lombardia</td>\n",
       "      <td>10078012</td>\n",
       "      <td>9206.00</td>\n",
       "      <td>1094.722138</td>\n",
       "    </tr>\n",
       "    <tr>\n",
       "      <th>7</th>\n",
       "      <td>Stockholm</td>\n",
       "      <td>2377081</td>\n",
       "      <td>2517.00</td>\n",
       "      <td>944.410409</td>\n",
       "    </tr>\n",
       "    <tr>\n",
       "      <th>5</th>\n",
       "      <td>New York</td>\n",
       "      <td>19453561</td>\n",
       "      <td>54555.00</td>\n",
       "      <td>356.586216</td>\n",
       "    </tr>\n",
       "    <tr>\n",
       "      <th>6</th>\n",
       "      <td>Quebec</td>\n",
       "      <td>8164361</td>\n",
       "      <td>595391.00</td>\n",
       "      <td>13.712604</td>\n",
       "    </tr>\n",
       "  </tbody>\n",
       "</table>\n",
       "</div>"
      ],
      "text/plain": [
       "  Region/State  Population  Land Area (sq mi)  Population Density\n",
       "1         Doha     2382000              51.00        46705.882353\n",
       "0        Dakar     2956023             211.00        14009.587678\n",
       "4       Madrid     3223334             233.30        13816.262323\n",
       "8       Vienna     1888776             160.15        11793.793319\n",
       "2        Dubai     3331420            1588.00         2097.871537\n",
       "3    Lombardia    10078012            9206.00         1094.722138\n",
       "7    Stockholm     2377081            2517.00          944.410409\n",
       "5     New York    19453561           54555.00          356.586216\n",
       "6       Quebec     8164361          595391.00           13.712604"
      ]
     },
     "execution_count": 168,
     "metadata": {},
     "output_type": "execute_result"
    }
   ],
   "source": [
    "# Create a data frame with the Region/State population and Land Area\n",
    "region_state_density=pd.DataFrame({'Region/State':['Dakar', 'Doha', 'Dubai',\n",
    "                             'Lombardia','Madrid','New York',\n",
    "                             'Quebec','Stockholm','Vienna'], \n",
    "              'Population': [2956023,2382000,3331420, 10078012,\n",
    "                             3223334,19453561,8164361,2377081,1888776 ],\n",
    "             'Land Area (sq mi)': [211,51,1588,9206,233.3,54555,595391,2517,160.15]})\n",
    "# Compute the population density as Area/population\n",
    "region_state_density['Population Density']=region_state_density['Population']/region_state_density['Land Area (sq mi)']\n",
    "region_state_density.sort_values(by=['Population Density'],ascending=False,inplace=True)\n",
    "region_state_density"
   ]
  },
  {
   "cell_type": "markdown",
   "metadata": {},
   "source": [
    "Taking into account that we don't have a lot of information about states with low temperatures and higher population density than such regions or states with temperatures between $40-60^o F$, I decided to compare only the impact of high temperatures in the spread of the virus. For this comparison, I defined the next rules in order to decrease the bias (see points above):\n",
    "1. I am only going to consider Dakar, Dubai and Doha as the `Province/State` with high temperatures.\n",
    "2. In order the compare one `Province/State` with one of the above three cities ($X_i$), the population density of the `Province/State` should be less than the population density of $X_i$. With this, we avoid the bias that the differences between the number of new cases in two different cities are given because of the population's density and not for other factors.\n",
    "\n",
    "Based on the above rules, the comparables Provinces/State are:\n",
    "\n",
    "|           | Dakar | Doha | Dubai |\n",
    "|-----------|-------|------|-------|\n",
    "| New York  | ✔️     | ✔️    | ✔️     |\n",
    "| Madrid    | ✔️     | ✔️    | ✖️     |\n",
    "| Lombardia | ✔️     | ✔️    | ✔️     |\n",
    "| Vienna    | ✔️     | ✔️    | ✖️     |\n",
    "| Stockholm | ✔️     | ✔️    | ✔️     |\n",
    "| Quebec    | ✔️     | ✔️    | ✔️     |\n",
    "\n",
    "Our objective is to compare if the distribution of the new infections in two different cities comes from the same population or not. In other words, the null hypothesis is that the spread of the virus is independent of the temperature, and the alternative hypothesis is that the spread is lower in cities with high temperatures. \n",
    "  \n",
    "The distributions of the new infections are independent but also are far away from following a normal distribution (see Fig. _\"New Infections Histogram by Province/State\"_ below).  Nevertheless, it has been reported that samples with more than 15 observations (there are at least 25 in each of our distributions) are enough to avoid the normality assumption in the case of two samples t-student hypothesis test (see [here](https://support.minitab.com/en-us/minitab/18/Assistant_Two_Sample_t.pdf), or [here](https://books.google.com/books?hl=en&lr=&id=fZZTBgAAQBAJ&oi=fnd&pg=PR7&ots=KVNzlTQZBU&sig=uc2nGPRKmXFRx5q5d627Vf2ndPc#v=onepage&q&f=false), and also [here](https://www.ncbi.nlm.nih.gov/pmc/articles/PMC3693611/)). I'm not happy with this number of samples, but, in this case, it's important to make inference over the mean (parametric case) and not over the median (nonparametric case) Why? Because we need to take into account if exists a high number of new infections. Also, the nonparametric tests assume that all groups must have the same or very similar spread (variance), which doesn't seem to be the case in our data. Finally, a parametric test (like t-student) gives more statistical power to the test (less probability to fail to reject the null hypothesis when it is false)."
   ]
  },
  {
   "cell_type": "code",
   "execution_count": 36,
   "metadata": {},
   "outputs": [
    {
     "data": {
      "image/png": "[encoded data removed]",
      "text/plain": [
       "<Figure size 720x576 with 9 Axes>"
      ]
     },
     "metadata": {
      "needs_background": "light"
     },
     "output_type": "display_data"
    }
   ],
   "source": [
    "from functions import trim_axs, color_p_value\n",
    "# Histogram of the new cases by cities\n",
    "fig1, axs = plt.subplots(3, 3, figsize=(10,8), constrained_layout=True)\n",
    "axs = trim_axs(axs, len(cities))\n",
    "for ax, city in zip(axs, cities):\n",
    "    X=covid_weather.loc[covid_weather['Province/State']==city,'Confirmed']\n",
    "    ax.set_title('{} ({} days observed)'.format(city,len(X)))\n",
    "    sns.distplot(X,kde=False,ax=ax,bins=40)\n",
    "fig1.suptitle('New Infections Histogram by Province/State', fontsize=16);"
   ]
  },
  {
   "cell_type": "markdown",
   "metadata": {},
   "source": [
    "For these tests, I am going to set the critical value $\\alpha=0.05$, and establish the length of each sample to the lengh of the sample with less observations. This is, if X, Y are the two samples to compare with length $l_X$ and $l_Y$ respectively, and $\\hat{l}=min(l_X,l_Y)$, then I am only going to consider the observations of X and Y between the first infection day and the day $\\hat{l}$.\n",
    "> The above could look tricky, but in fact, it has an easy explanation, and it is that we need to compare the same number of days after the first infection because in the other way we are introducing a bias based on the lack of information in the distribution with fewer observations."
   ]
  },
  {
   "cell_type": "code",
   "execution_count": 169,
   "metadata": {},
   "outputs": [
    {
     "name": "stdout",
     "output_type": "stream",
     "text": [
      "The p-values are:\n"
     ]
    },
    {
     "data": {
      "text/html": [
       "<style  type=\"text/css\" >\n",
       "    #T_8cd16842_7f54_11ea_ba49_e13e3e24b04brow0_col0 {\n",
       "            color:  green;\n",
       "        }    #T_8cd16842_7f54_11ea_ba49_e13e3e24b04brow0_col1 {\n",
       "            color:  green;\n",
       "        }    #T_8cd16842_7f54_11ea_ba49_e13e3e24b04brow0_col2 {\n",
       "            color:  green;\n",
       "        }    #T_8cd16842_7f54_11ea_ba49_e13e3e24b04brow1_col0 {\n",
       "            color:  red;\n",
       "        }    #T_8cd16842_7f54_11ea_ba49_e13e3e24b04brow1_col1 {\n",
       "            color:  green;\n",
       "        }    #T_8cd16842_7f54_11ea_ba49_e13e3e24b04brow1_col2 {\n",
       "            color:  red;\n",
       "        }    #T_8cd16842_7f54_11ea_ba49_e13e3e24b04brow2_col0 {\n",
       "            color:  green;\n",
       "        }    #T_8cd16842_7f54_11ea_ba49_e13e3e24b04brow2_col1 {\n",
       "            color:  green;\n",
       "        }    #T_8cd16842_7f54_11ea_ba49_e13e3e24b04brow2_col2 {\n",
       "            color:  green;\n",
       "        }    #T_8cd16842_7f54_11ea_ba49_e13e3e24b04brow3_col0 {\n",
       "            color:  green;\n",
       "        }    #T_8cd16842_7f54_11ea_ba49_e13e3e24b04brow3_col1 {\n",
       "            color:  green;\n",
       "        }    #T_8cd16842_7f54_11ea_ba49_e13e3e24b04brow3_col2 {\n",
       "            color:  red;\n",
       "        }    #T_8cd16842_7f54_11ea_ba49_e13e3e24b04brow4_col0 {\n",
       "            color:  green;\n",
       "        }    #T_8cd16842_7f54_11ea_ba49_e13e3e24b04brow4_col1 {\n",
       "            color:  green;\n",
       "        }    #T_8cd16842_7f54_11ea_ba49_e13e3e24b04brow4_col2 {\n",
       "            color:  green;\n",
       "        }    #T_8cd16842_7f54_11ea_ba49_e13e3e24b04brow5_col0 {\n",
       "            color:  green;\n",
       "        }    #T_8cd16842_7f54_11ea_ba49_e13e3e24b04brow5_col1 {\n",
       "            color:  green;\n",
       "        }    #T_8cd16842_7f54_11ea_ba49_e13e3e24b04brow5_col2 {\n",
       "            color:  green;\n",
       "        }</style><table id=\"T_8cd16842_7f54_11ea_ba49_e13e3e24b04b\" ><thead>    <tr>        <th class=\"blank level0\" ></th>        <th class=\"col_heading level0 col0\" >Dakar</th>        <th class=\"col_heading level0 col1\" >Doha</th>        <th class=\"col_heading level0 col2\" >Dubai</th>    </tr></thead><tbody>\n",
       "                <tr>\n",
       "                        <th id=\"T_8cd16842_7f54_11ea_ba49_e13e3e24b04blevel0_row0\" class=\"row_heading level0 row0\" >New York</th>\n",
       "                        <td id=\"T_8cd16842_7f54_11ea_ba49_e13e3e24b04brow0_col0\" class=\"data row0 col0\" >0.000002</td>\n",
       "                        <td id=\"T_8cd16842_7f54_11ea_ba49_e13e3e24b04brow0_col1\" class=\"data row0 col1\" >0.000002</td>\n",
       "                        <td id=\"T_8cd16842_7f54_11ea_ba49_e13e3e24b04brow0_col2\" class=\"data row0 col2\" >0.000002</td>\n",
       "            </tr>\n",
       "            <tr>\n",
       "                        <th id=\"T_8cd16842_7f54_11ea_ba49_e13e3e24b04blevel0_row1\" class=\"row_heading level0 row1\" >Madrid</th>\n",
       "                        <td id=\"T_8cd16842_7f54_11ea_ba49_e13e3e24b04brow1_col0\" class=\"data row1 col0\" >0.436531</td>\n",
       "                        <td id=\"T_8cd16842_7f54_11ea_ba49_e13e3e24b04brow1_col1\" class=\"data row1 col1\" >0.022827</td>\n",
       "                        <td id=\"T_8cd16842_7f54_11ea_ba49_e13e3e24b04brow1_col2\" class=\"data row1 col2\" >nan</td>\n",
       "            </tr>\n",
       "            <tr>\n",
       "                        <th id=\"T_8cd16842_7f54_11ea_ba49_e13e3e24b04blevel0_row2\" class=\"row_heading level0 row2\" >Lombardia</th>\n",
       "                        <td id=\"T_8cd16842_7f54_11ea_ba49_e13e3e24b04brow2_col0\" class=\"data row2 col0\" >0.000000</td>\n",
       "                        <td id=\"T_8cd16842_7f54_11ea_ba49_e13e3e24b04brow2_col1\" class=\"data row2 col1\" >0.000000</td>\n",
       "                        <td id=\"T_8cd16842_7f54_11ea_ba49_e13e3e24b04brow2_col2\" class=\"data row2 col2\" >0.000000</td>\n",
       "            </tr>\n",
       "            <tr>\n",
       "                        <th id=\"T_8cd16842_7f54_11ea_ba49_e13e3e24b04blevel0_row3\" class=\"row_heading level0 row3\" >Vienna</th>\n",
       "                        <td id=\"T_8cd16842_7f54_11ea_ba49_e13e3e24b04brow3_col0\" class=\"data row3 col0\" >0.000094</td>\n",
       "                        <td id=\"T_8cd16842_7f54_11ea_ba49_e13e3e24b04brow3_col1\" class=\"data row3 col1\" >0.000084</td>\n",
       "                        <td id=\"T_8cd16842_7f54_11ea_ba49_e13e3e24b04brow3_col2\" class=\"data row3 col2\" >nan</td>\n",
       "            </tr>\n",
       "            <tr>\n",
       "                        <th id=\"T_8cd16842_7f54_11ea_ba49_e13e3e24b04blevel0_row4\" class=\"row_heading level0 row4\" >Stockholm</th>\n",
       "                        <td id=\"T_8cd16842_7f54_11ea_ba49_e13e3e24b04brow4_col0\" class=\"data row4 col0\" >0.000010</td>\n",
       "                        <td id=\"T_8cd16842_7f54_11ea_ba49_e13e3e24b04brow4_col1\" class=\"data row4 col1\" >0.000968</td>\n",
       "                        <td id=\"T_8cd16842_7f54_11ea_ba49_e13e3e24b04brow4_col2\" class=\"data row4 col2\" >0.000020</td>\n",
       "            </tr>\n",
       "            <tr>\n",
       "                        <th id=\"T_8cd16842_7f54_11ea_ba49_e13e3e24b04blevel0_row5\" class=\"row_heading level0 row5\" >Quebec</th>\n",
       "                        <td id=\"T_8cd16842_7f54_11ea_ba49_e13e3e24b04brow5_col0\" class=\"data row5 col0\" >0.000103</td>\n",
       "                        <td id=\"T_8cd16842_7f54_11ea_ba49_e13e3e24b04brow5_col1\" class=\"data row5 col1\" >0.000241</td>\n",
       "                        <td id=\"T_8cd16842_7f54_11ea_ba49_e13e3e24b04brow5_col2\" class=\"data row5 col2\" >0.000084</td>\n",
       "            </tr>\n",
       "    </tbody></table>"
      ],
      "text/plain": [
       "<pandas.io.formats.style.Styler at 0x7f0266f332b0>"
      ]
     },
     "execution_count": 169,
     "metadata": {},
     "output_type": "execute_result"
    }
   ],
   "source": [
    "## t-student Hypothesis tests ##\n",
    "from functions import t_test_byCities\n",
    "# Create a dictionary with the pairs of cities to be tested\n",
    "cities2test=dict({'Dakar': ['New York','Madrid','Lombardia','Vienna','Stockholm','Quebec'],\n",
    "                 'Doha': ['New York','Madrid','Lombardia','Vienna','Stockholm','Quebec'],\n",
    "                 'Dubai': ['New York','Lombardia','Stockholm','Quebec']})\n",
    "# Run the tests (use the function \"t_test_byCities\" available in \"functions.py\") \n",
    "results_pvalue, results_stat=t_test_byCities(cities2test,covid_weather)\n",
    "\n",
    "print('The p-values are:')\n",
    "results_pvalue.style.applymap(color_p_value)"
   ]
  },
  {
   "cell_type": "code",
   "execution_count": 170,
   "metadata": {},
   "outputs": [
    {
     "name": "stdout",
     "output_type": "stream",
     "text": [
      "The t-statistics are:\n"
     ]
    },
    {
     "data": {
      "text/html": [
       "<style  type=\"text/css\" >\n",
       "    #T_91766820_7f54_11ea_ba49_e13e3e24b04brow0_col0 {\n",
       "            color:  green;\n",
       "        }    #T_91766820_7f54_11ea_ba49_e13e3e24b04brow0_col1 {\n",
       "            color:  green;\n",
       "        }    #T_91766820_7f54_11ea_ba49_e13e3e24b04brow0_col2 {\n",
       "            color:  green;\n",
       "        }    #T_91766820_7f54_11ea_ba49_e13e3e24b04brow1_col0 {\n",
       "            color:  green;\n",
       "        }    #T_91766820_7f54_11ea_ba49_e13e3e24b04brow1_col1 {\n",
       "            color:  red;\n",
       "        }    #T_91766820_7f54_11ea_ba49_e13e3e24b04brow1_col2 {\n",
       "            color:  red;\n",
       "        }    #T_91766820_7f54_11ea_ba49_e13e3e24b04brow2_col0 {\n",
       "            color:  green;\n",
       "        }    #T_91766820_7f54_11ea_ba49_e13e3e24b04brow2_col1 {\n",
       "            color:  green;\n",
       "        }    #T_91766820_7f54_11ea_ba49_e13e3e24b04brow2_col2 {\n",
       "            color:  green;\n",
       "        }    #T_91766820_7f54_11ea_ba49_e13e3e24b04brow3_col0 {\n",
       "            color:  green;\n",
       "        }    #T_91766820_7f54_11ea_ba49_e13e3e24b04brow3_col1 {\n",
       "            color:  green;\n",
       "        }    #T_91766820_7f54_11ea_ba49_e13e3e24b04brow3_col2 {\n",
       "            color:  red;\n",
       "        }    #T_91766820_7f54_11ea_ba49_e13e3e24b04brow4_col0 {\n",
       "            color:  red;\n",
       "        }    #T_91766820_7f54_11ea_ba49_e13e3e24b04brow4_col1 {\n",
       "            color:  red;\n",
       "        }    #T_91766820_7f54_11ea_ba49_e13e3e24b04brow4_col2 {\n",
       "            color:  green;\n",
       "        }    #T_91766820_7f54_11ea_ba49_e13e3e24b04brow5_col0 {\n",
       "            color:  green;\n",
       "        }    #T_91766820_7f54_11ea_ba49_e13e3e24b04brow5_col1 {\n",
       "            color:  green;\n",
       "        }    #T_91766820_7f54_11ea_ba49_e13e3e24b04brow5_col2 {\n",
       "            color:  green;\n",
       "        }</style><table id=\"T_91766820_7f54_11ea_ba49_e13e3e24b04b\" ><thead>    <tr>        <th class=\"blank level0\" ></th>        <th class=\"col_heading level0 col0\" >Dakar</th>        <th class=\"col_heading level0 col1\" >Doha</th>        <th class=\"col_heading level0 col2\" >Dubai</th>    </tr></thead><tbody>\n",
       "                <tr>\n",
       "                        <th id=\"T_91766820_7f54_11ea_ba49_e13e3e24b04blevel0_row0\" class=\"row_heading level0 row0\" >New York</th>\n",
       "                        <td id=\"T_91766820_7f54_11ea_ba49_e13e3e24b04brow0_col0\" class=\"data row0 col0\" >-5.943571</td>\n",
       "                        <td id=\"T_91766820_7f54_11ea_ba49_e13e3e24b04brow0_col1\" class=\"data row0 col1\" >-5.918679</td>\n",
       "                        <td id=\"T_91766820_7f54_11ea_ba49_e13e3e24b04brow0_col2\" class=\"data row0 col2\" >-5.948893</td>\n",
       "            </tr>\n",
       "            <tr>\n",
       "                        <th id=\"T_91766820_7f54_11ea_ba49_e13e3e24b04blevel0_row1\" class=\"row_heading level0 row1\" >Madrid</th>\n",
       "                        <td id=\"T_91766820_7f54_11ea_ba49_e13e3e24b04brow1_col0\" class=\"data row1 col0\" >-0.160715</td>\n",
       "                        <td id=\"T_91766820_7f54_11ea_ba49_e13e3e24b04brow1_col1\" class=\"data row1 col1\" >2.046333</td>\n",
       "                        <td id=\"T_91766820_7f54_11ea_ba49_e13e3e24b04brow1_col2\" class=\"data row1 col2\" >nan</td>\n",
       "            </tr>\n",
       "            <tr>\n",
       "                        <th id=\"T_91766820_7f54_11ea_ba49_e13e3e24b04blevel0_row2\" class=\"row_heading level0 row2\" >Lombardia</th>\n",
       "                        <td id=\"T_91766820_7f54_11ea_ba49_e13e3e24b04brow2_col0\" class=\"data row2 col0\" >-7.355718</td>\n",
       "                        <td id=\"T_91766820_7f54_11ea_ba49_e13e3e24b04brow2_col1\" class=\"data row2 col1\" >-7.739180</td>\n",
       "                        <td id=\"T_91766820_7f54_11ea_ba49_e13e3e24b04brow2_col2\" class=\"data row2 col2\" >-9.187024</td>\n",
       "            </tr>\n",
       "            <tr>\n",
       "                        <th id=\"T_91766820_7f54_11ea_ba49_e13e3e24b04blevel0_row3\" class=\"row_heading level0 row3\" >Vienna</th>\n",
       "                        <td id=\"T_91766820_7f54_11ea_ba49_e13e3e24b04brow3_col0\" class=\"data row3 col0\" >-4.220422</td>\n",
       "                        <td id=\"T_91766820_7f54_11ea_ba49_e13e3e24b04brow3_col1\" class=\"data row3 col1\" >-4.207179</td>\n",
       "                        <td id=\"T_91766820_7f54_11ea_ba49_e13e3e24b04brow3_col2\" class=\"data row3 col2\" >nan</td>\n",
       "            </tr>\n",
       "            <tr>\n",
       "                        <th id=\"T_91766820_7f54_11ea_ba49_e13e3e24b04blevel0_row4\" class=\"row_heading level0 row4\" >Stockholm</th>\n",
       "                        <td id=\"T_91766820_7f54_11ea_ba49_e13e3e24b04brow4_col0\" class=\"data row4 col0\" >4.894843</td>\n",
       "                        <td id=\"T_91766820_7f54_11ea_ba49_e13e3e24b04brow4_col1\" class=\"data row4 col1\" >3.337723</td>\n",
       "                        <td id=\"T_91766820_7f54_11ea_ba49_e13e3e24b04brow4_col2\" class=\"data row4 col2\" >-4.390181</td>\n",
       "            </tr>\n",
       "            <tr>\n",
       "                        <th id=\"T_91766820_7f54_11ea_ba49_e13e3e24b04blevel0_row5\" class=\"row_heading level0 row5\" >Quebec</th>\n",
       "                        <td id=\"T_91766820_7f54_11ea_ba49_e13e3e24b04brow5_col0\" class=\"data row5 col0\" >-4.340313</td>\n",
       "                        <td id=\"T_91766820_7f54_11ea_ba49_e13e3e24b04brow5_col1\" class=\"data row5 col1\" >-3.977127</td>\n",
       "                        <td id=\"T_91766820_7f54_11ea_ba49_e13e3e24b04brow5_col2\" class=\"data row5 col2\" >-4.418207</td>\n",
       "            </tr>\n",
       "    </tbody></table>"
      ],
      "text/plain": [
       "<pandas.io.formats.style.Styler at 0x7f02618167f0>"
      ]
     },
     "execution_count": 170,
     "metadata": {},
     "output_type": "execute_result"
    }
   ],
   "source": [
    "print('The t-statistics are:')\n",
    "results_stat.style.applymap(color_p_value)"
   ]
  },
  {
   "cell_type": "markdown",
   "metadata": {},
   "source": [
    "The  results obtained through the `stats.ttest_ind` function are relatives to a [two-tailed test](https://docs.scipy.org/doc/scipy/reference/generated/scipy.stats.ttest_ind.html), and for that reason, I divided the p-value by 2 (one-tailed test), and print the t-statistic. \n",
    "* If $p/2<0.05$ and $t>0$ then we are on the right tail of the distribution and we can affirm that the mean of new cases in warm regions is greater than in other regions, \n",
    "* If $p/2<0.05$ and $t<0$ we can conclude that the mean of new cases is lesser when the temperature is upper $60^o F$.\n",
    "\n",
    "In 12 of the 16 hypothesis tests, we reject the null hypothesis in favor of the alternative (the mean of the people infected in regions with temperatures under $60^o F$ is more than regions with temperatures over $60^o F$). Nevertheless, it may be interesting to study what happened in these 4 cases where we fail to reject the null hypothesis. In my opinion, a nice way to see this is to relate the number of new infections by day. Fig. _\"New Infections and Average Temperature by Day (Madrid, Dakar, Doha)\"_ shows this relationship in the case of Madrid, Dakar and Doha (note that we fail to reject the null hyphotesis in the test between \"Madrid vs Doha\" and \"Madrid vs Dakar\"), and is easy to see an interesting patter here:\n",
    "1. We have only $\\approx 32$ days in common between the three distributions (number of days since the first infection).\n",
    "2. Madrid and Dakar have almost the same number of infections by day until day 32, while some days Doha seems to have more infections than Madrid, which explains why we fail to reject the null hypothesis in these case, but this isn't all:\n",
    "    1. After day 32, the number of cases increases exponentially in Madrid, but we don't have more information about Doha or Dakar because at this moment these regions only had one month since the first infection.  \n",
    "    2. The temperature in Madrid doesn't suffer big changes after day 32 (see Fig. _\"New Infections and Average Temperature by Day\"_), so, this doesn't seem to be the factor that shot the number of infections.\n",
    "    > At this point we can formulate two hypothesis:\n",
    "        1. The spread of the virus in Doha and Dakar is following a pattern very similar to the case of Madrid, and in the following days, we are going to see an exponential increase in the number of new infections in these regions (I don't believe that this is the case if we also consider that the number of new infections in Dubai is stable and close to zero).\n",
    "        2. Other factors (like socioculturals) make a huge impact in the spread of the virus. This looks like a more reasonable hypothesis, but we are not going deeper here because this topic is beyond the scope of this project."
   ]
  },
  {
   "cell_type": "code",
   "execution_count": 171,
   "metadata": {},
   "outputs": [
    {
     "data": {
      "image/png": "[encoded data removed]",
      "text/plain": [
       "<Figure size 620.5x360 with 2 Axes>"
      ]
     },
     "metadata": {
      "needs_background": "light"
     },
     "output_type": "display_data"
    }
   ],
   "source": [
    "# Extract only the information of Dakar, Doha, and Madrid\n",
    "Dakar_Doha_Madrid=covid_weather.loc[covid_weather['Province/State'].isin(['Doha','Dakar','Madrid']),:]\n",
    "# Plot the number of new cases and temperature for Madrid, Dakar and Doha\n",
    "g=sns.pairplot(x_vars=\"Days Since First Case\", aspect=3,\n",
    "             y_vars=[\"Confirmed\",\"TempAvg\"], kind='scatter', hue=\"Province/State\",\n",
    "             data=Dakar_Doha_Madrid);\n",
    "g.fig.suptitle(\"New Infections and Average Temperature by Day (Madrid, Dakar, Doha)\");    "
   ]
  },
  {
   "cell_type": "markdown",
   "metadata": {},
   "source": [
    "The same situation occurs in the case of Stockholm, Dakar, and Doha. You can see in Fig. _\"New Infections and Average Temperature by Day (Stockholm, Dakar, Doha)\"_ that the number of cases increases exponentially in Stockholm after the first 35 days of the first infection. The conclusions explained before in the case of Madrid are extensible to this case, and we need to wait for more information to draw conclusions in these four regions comparison."
   ]
  },
  {
   "cell_type": "code",
   "execution_count": 172,
   "metadata": {},
   "outputs": [
    {
     "data": {
      "image/png": "[encoded data removed]",
      "text/plain": [
       "<Figure size 628.25x360 with 2 Axes>"
      ]
     },
     "metadata": {
      "needs_background": "light"
     },
     "output_type": "display_data"
    }
   ],
   "source": [
    "Dakar_Doha_Stockholm=covid_weather.loc[covid_weather['Province/State'].isin(['Doha','Dakar','Stockholm']),:]\n",
    "# Plot the number of new cases and temperature in Stockholm, Dakar and Doha\n",
    "g=sns.pairplot(x_vars=\"Days Since First Case\", aspect=3,\n",
    "             y_vars=[\"Confirmed\",\"TempAvg\"], kind='scatter', hue=\"Province/State\",\n",
    "             data=Dakar_Doha_Stockholm);\n",
    "g.fig.suptitle(\"New Infections and Average Temperature by Day (Stockholm, Dakar, Doha)\");  "
   ]
  },
  {
   "cell_type": "markdown",
   "metadata": {},
   "source": [
    "Finally, below I include an interactive graphic as a tool if somebody wants to play with this data. If you can find some patterns that I didn't perceive, please, let me know about it."
   ]
  },
  {
   "cell_type": "code",
   "execution_count": 173,
   "metadata": {},
   "outputs": [
    {
     "data": {
      "application/vnd.plotly.v1+json": {
       "config": {
        "plotlyServerURL": "https://plot.ly"
       },
       "data": [
        {
         "hoverlabel": {
          "namelength": 0
         },
         "hovertemplate": "Province/State=New York<br>Days Since First Case=%{x}<br>Confirmed=%{y}",
         "legendgroup": "Province/State=New York",
         "marker": {
          "color": "#636efa",
          "symbol": "circle"
         },
         "mode": "markers",
         "name": "Province/State=New York",
         "showlegend": true,
         "type": "scatter",
         "x": [
          0,
          1,
          2,
          3,
          4,
          5,
          6,
          7,
          8,
          9,
          10,
          11,
          12,
          13,
          14,
          15,
          16,
          17,
          18,
          19,
          20,
          21,
          22,
          23,
          24
         ],
         "xaxis": "x",
         "y": [
          173,
          47,
          108,
          93,
          104,
          207,
          235,
          739,
          789,
          2870,
          2945,
          3400,
          4090,
          5084,
          4797,
          5160,
          7036,
          6999,
          7534,
          7238,
          7015,
          9170,
          8115,
          8558,
          10481
         ],
         "yaxis": "y"
        },
        {
         "hoverlabel": {
          "namelength": 0
         },
         "hovertemplate": "Province/State=Madrid<br>Days Since First Case=%{x}<br>Confirmed=%{y}",
         "legendgroup": "Province/State=Madrid",
         "marker": {
          "color": "#EF553B",
          "symbol": "circle"
         },
         "mode": "markers",
         "name": "Province/State=Madrid",
         "showlegend": true,
         "type": "scatter",
         "x": [
          0,
          1,
          2,
          3,
          4,
          5,
          6,
          7,
          8,
          9,
          10,
          11,
          12,
          13,
          14,
          15,
          16,
          17,
          18,
          19,
          20,
          21,
          22,
          23,
          24,
          25,
          26,
          27,
          28,
          29,
          30,
          31,
          32,
          33,
          34,
          35,
          36,
          37,
          38,
          39,
          40,
          41,
          42,
          43,
          44,
          45,
          46,
          47,
          48,
          49,
          50,
          51,
          52,
          53,
          54,
          55,
          56,
          57,
          58,
          59,
          60,
          61,
          62
         ],
         "xaxis": "x",
         "y": [
          1,
          0,
          0,
          0,
          0,
          0,
          0,
          0,
          1,
          0,
          0,
          0,
          0,
          0,
          0,
          0,
          0,
          0,
          0,
          0,
          0,
          0,
          0,
          0,
          4,
          7,
          2,
          17,
          13,
          39,
          36,
          45,
          57,
          37,
          141,
          100,
          173,
          400,
          622,
          582,
          0,
          2955,
          1159,
          1407,
          2144,
          1806,
          2162,
          4053,
          2447,
          4964,
          3229,
          6533,
          4749,
          9630,
          8271,
          7933,
          7516,
          6875,
          7846,
          7967,
          8195,
          7947,
          7134
         ],
         "yaxis": "y"
        },
        {
         "hoverlabel": {
          "namelength": 0
         },
         "hovertemplate": "Province/State=Quebec<br>Days Since First Case=%{x}<br>Confirmed=%{y}",
         "legendgroup": "Province/State=Quebec",
         "marker": {
          "color": "#00cc96",
          "symbol": "circle"
         },
         "mode": "markers",
         "name": "Province/State=Quebec",
         "showlegend": true,
         "type": "scatter",
         "x": [
          0,
          1,
          2,
          3,
          4,
          5,
          6,
          7,
          8,
          9,
          10,
          11,
          12,
          13,
          14,
          15,
          16,
          17,
          18,
          19,
          20,
          21,
          22,
          23,
          24,
          25
         ],
         "xaxis": "x",
         "y": [
          3,
          1,
          4,
          1,
          8,
          0,
          7,
          26,
          24,
          20,
          27,
          18,
          42,
          38,
          409,
          385,
          329,
          290,
          392,
          474,
          342,
          590,
          732,
          449,
          907,
          583
         ],
         "yaxis": "y"
        },
        {
         "hoverlabel": {
          "namelength": 0
         },
         "hovertemplate": "Province/State=Lombardia<br>Days Since First Case=%{x}<br>Confirmed=%{y}",
         "legendgroup": "Province/State=Lombardia",
         "marker": {
          "color": "#ab63fa",
          "symbol": "circle"
         },
         "mode": "markers",
         "name": "Province/State=Lombardia",
         "showlegend": true,
         "type": "scatter",
         "x": [
          0,
          1,
          2,
          3,
          4,
          5,
          6,
          7,
          8,
          9,
          10,
          11,
          12,
          13,
          14,
          15,
          16,
          17,
          18,
          19,
          20,
          21,
          22,
          23,
          24,
          25,
          26,
          27,
          28,
          29,
          30,
          31,
          32,
          33,
          34,
          35,
          36,
          37,
          38,
          39
         ],
         "xaxis": "x",
         "y": [
          172,
          68,
          18,
          145,
          128,
          84,
          369,
          270,
          266,
          300,
          431,
          361,
          808,
          769,
          1280,
          322,
          1489,
          1445,
          1095,
          1865,
          1587,
          1377,
          1571,
          1493,
          2171,
          2380,
          3251,
          1691,
          1555,
          1942,
          1643,
          2543,
          2409,
          2117,
          1592,
          1154,
          1047,
          1565,
          1292,
          1455
         ],
         "yaxis": "y"
        },
        {
         "hoverlabel": {
          "namelength": 0
         },
         "hovertemplate": "Province/State=Vienna<br>Days Since First Case=%{x}<br>Confirmed=%{y}",
         "legendgroup": "Province/State=Vienna",
         "marker": {
          "color": "#FFA15A",
          "symbol": "circle"
         },
         "mode": "markers",
         "name": "Province/State=Vienna",
         "showlegend": true,
         "type": "scatter",
         "x": [
          0,
          1,
          2,
          3,
          4,
          5,
          6,
          7,
          8,
          9,
          10,
          11,
          12,
          13,
          14,
          15,
          16,
          17,
          18,
          19,
          20,
          21,
          22,
          23,
          24,
          25,
          26,
          27,
          28,
          29,
          30,
          31,
          32,
          33,
          34,
          35,
          36,
          37,
          38
         ],
         "xaxis": "x",
         "y": [
          2,
          0,
          1,
          0,
          6,
          5,
          4,
          3,
          8,
          12,
          14,
          24,
          25,
          27,
          51,
          64,
          56,
          202,
          151,
          205,
          158,
          314,
          314,
          367,
          375,
          426,
          766,
          894,
          809,
          305,
          1321,
          748,
          614,
          517,
          830,
          562,
          531,
          418,
          395
         ],
         "yaxis": "y"
        },
        {
         "hoverlabel": {
          "namelength": 0
         },
         "hovertemplate": "Province/State=Stockholm<br>Days Since First Case=%{x}<br>Confirmed=%{y}",
         "legendgroup": "Province/State=Stockholm",
         "marker": {
          "color": "#19d3f3",
          "symbol": "circle"
         },
         "mode": "markers",
         "name": "Province/State=Stockholm",
         "showlegend": true,
         "type": "scatter",
         "x": [
          0,
          1,
          2,
          3,
          4,
          5,
          6,
          7,
          8,
          9,
          10,
          11,
          12,
          13,
          14,
          15,
          16,
          17,
          18,
          19,
          20,
          21,
          22,
          23,
          24,
          25,
          26,
          27,
          28,
          29,
          30,
          31,
          32,
          33,
          34,
          35,
          36,
          37,
          38,
          39,
          40,
          41,
          42,
          43,
          44,
          45,
          46,
          47,
          48,
          49,
          50,
          51,
          52,
          53,
          54,
          55,
          56,
          57,
          58,
          59,
          60,
          61,
          62,
          63
         ],
         "xaxis": "x",
         "y": [
          1,
          0,
          0,
          0,
          0,
          0,
          0,
          0,
          0,
          0,
          0,
          0,
          0,
          0,
          0,
          0,
          0,
          0,
          0,
          0,
          0,
          0,
          0,
          0,
          0,
          0,
          1,
          5,
          0,
          5,
          2,
          1,
          6,
          14,
          59,
          7,
          60,
          42,
          45,
          107,
          145,
          99,
          215,
          147,
          61,
          81,
          87,
          89,
          160,
          200,
          124,
          168,
          115,
          240,
          240,
          314,
          229,
          378,
          253,
          328,
          407,
          512,
          621,
          563
         ],
         "yaxis": "y"
        },
        {
         "hoverlabel": {
          "namelength": 0
         },
         "hovertemplate": "Province/State=Doha<br>Days Since First Case=%{x}<br>Confirmed=%{y}",
         "legendgroup": "Province/State=Doha",
         "marker": {
          "color": "#FF6692",
          "symbol": "circle"
         },
         "mode": "markers",
         "name": "Province/State=Doha",
         "showlegend": true,
         "type": "scatter",
         "x": [
          0,
          1,
          2,
          3,
          4,
          5,
          6,
          7,
          8,
          9,
          10,
          11,
          12,
          13,
          14,
          15,
          16,
          17,
          18,
          19,
          20,
          21,
          22,
          23,
          24,
          25,
          26,
          27,
          28,
          29,
          30,
          31,
          32,
          33,
          34
         ],
         "xaxis": "x",
         "y": [
          1,
          2,
          0,
          4,
          1,
          0,
          0,
          0,
          7,
          3,
          6,
          238,
          0,
          58,
          17,
          64,
          38,
          0,
          13,
          8,
          10,
          11,
          13,
          7,
          25,
          11,
          12,
          13,
          28,
          44,
          59,
          88,
          54,
          114,
          126
         ],
         "yaxis": "y"
        },
        {
         "hoverlabel": {
          "namelength": 0
         },
         "hovertemplate": "Province/State=Dubai<br>Days Since First Case=%{x}<br>Confirmed=%{y}",
         "legendgroup": "Province/State=Dubai",
         "marker": {
          "color": "#B6E880",
          "symbol": "circle"
         },
         "mode": "markers",
         "name": "Province/State=Dubai",
         "showlegend": true,
         "type": "scatter",
         "x": [
          0,
          1,
          2,
          3,
          4,
          5,
          6,
          7,
          8,
          9,
          10,
          11,
          12,
          13,
          14,
          15,
          16,
          17,
          18,
          19,
          20,
          21,
          22,
          23,
          24,
          25,
          26,
          27,
          28,
          29,
          30,
          31,
          32,
          33,
          34,
          35,
          36,
          37,
          38,
          39,
          40,
          41,
          42,
          43,
          44,
          45,
          46,
          47,
          48,
          49,
          50,
          51,
          52,
          53,
          54,
          55,
          56,
          57,
          58,
          59,
          60,
          61,
          62,
          63,
          64,
          65
         ],
         "xaxis": "x",
         "y": [
          4,
          0,
          0,
          0,
          1,
          0,
          0,
          0,
          0,
          0,
          2,
          0,
          1,
          0,
          0,
          0,
          0,
          0,
          1,
          0,
          0,
          0,
          0,
          0,
          4,
          0,
          0,
          0,
          0,
          0,
          6,
          2,
          0,
          0,
          6,
          0,
          2,
          0,
          16,
          0,
          0,
          29,
          0,
          11,
          0,
          0,
          13,
          0,
          0,
          15,
          27,
          0,
          13,
          0,
          45,
          50,
          85,
          0,
          72,
          63,
          102,
          41,
          53,
          150,
          210,
          240
         ],
         "yaxis": "y"
        },
        {
         "hoverlabel": {
          "namelength": 0
         },
         "hovertemplate": "Province/State=Dakar<br>Days Since First Case=%{x}<br>Confirmed=%{y}",
         "legendgroup": "Province/State=Dakar",
         "marker": {
          "color": "#FF97FF",
          "symbol": "circle"
         },
         "mode": "markers",
         "name": "Province/State=Dakar",
         "showlegend": true,
         "type": "scatter",
         "x": [
          0,
          1,
          2,
          3,
          4,
          5,
          6,
          7,
          8,
          9,
          10,
          11,
          12,
          13,
          14,
          15,
          16,
          17,
          18,
          19,
          20,
          21,
          22,
          23,
          24,
          25,
          26,
          27,
          28,
          29,
          30,
          31,
          32
         ],
         "xaxis": "x",
         "y": [
          1,
          1,
          2,
          0,
          0,
          0,
          0,
          0,
          0,
          0,
          0,
          6,
          0,
          14,
          0,
          2,
          5,
          0,
          7,
          9,
          20,
          12,
          7,
          13,
          6,
          14,
          11,
          12,
          20,
          13,
          15,
          5,
          12
         ],
         "yaxis": "y"
        }
       ],
       "layout": {
        "height": 600,
        "legend": {
         "tracegroupgap": 0
        },
        "template": {
         "data": {
          "bar": [
           {
            "error_x": {
             "color": "#2a3f5f"
            },
            "error_y": {
             "color": "#2a3f5f"
            },
            "marker": {
             "line": {
              "color": "#E5ECF6",
              "width": 0.5
             }
            },
            "type": "bar"
           }
          ],
          "barpolar": [
           {
            "marker": {
             "line": {
              "color": "#E5ECF6",
              "width": 0.5
             }
            },
            "type": "barpolar"
           }
          ],
          "carpet": [
           {
            "aaxis": {
             "endlinecolor": "#2a3f5f",
             "gridcolor": "white",
             "linecolor": "white",
             "minorgridcolor": "white",
             "startlinecolor": "#2a3f5f"
            },
            "baxis": {
             "endlinecolor": "#2a3f5f",
             "gridcolor": "white",
             "linecolor": "white",
             "minorgridcolor": "white",
             "startlinecolor": "#2a3f5f"
            },
            "type": "carpet"
           }
          ],
          "choropleth": [
           {
            "colorbar": {
             "outlinewidth": 0,
             "ticks": ""
            },
            "type": "choropleth"
           }
          ],
          "contour": [
           {
            "colorbar": {
             "outlinewidth": 0,
             "ticks": ""
            },
            "colorscale": [
             [
              0,
              "#0d0887"
             ],
             [
              0.1111111111111111,
              "#46039f"
             ],
             [
              0.2222222222222222,
              "#7201a8"
             ],
             [
              0.3333333333333333,
              "#9c179e"
             ],
             [
              0.4444444444444444,
              "#bd3786"
             ],
             [
              0.5555555555555556,
              "#d8576b"
             ],
             [
              0.6666666666666666,
              "#ed7953"
             ],
             [
              0.7777777777777778,
              "#fb9f3a"
             ],
             [
              0.8888888888888888,
              "#fdca26"
             ],
             [
              1,
              "#f0f921"
             ]
            ],
            "type": "contour"
           }
          ],
          "contourcarpet": [
           {
            "colorbar": {
             "outlinewidth": 0,
             "ticks": ""
            },
            "type": "contourcarpet"
           }
          ],
          "heatmap": [
           {
            "colorbar": {
             "outlinewidth": 0,
             "ticks": ""
            },
            "colorscale": [
             [
              0,
              "#0d0887"
             ],
             [
              0.1111111111111111,
              "#46039f"
             ],
             [
              0.2222222222222222,
              "#7201a8"
             ],
             [
              0.3333333333333333,
              "#9c179e"
             ],
             [
              0.4444444444444444,
              "#bd3786"
             ],
             [
              0.5555555555555556,
              "#d8576b"
             ],
             [
              0.6666666666666666,
              "#ed7953"
             ],
             [
              0.7777777777777778,
              "#fb9f3a"
             ],
             [
              0.8888888888888888,
              "#fdca26"
             ],
             [
              1,
              "#f0f921"
             ]
            ],
            "type": "heatmap"
           }
          ],
          "heatmapgl": [
           {
            "colorbar": {
             "outlinewidth": 0,
             "ticks": ""
            },
            "colorscale": [
             [
              0,
              "#0d0887"
             ],
             [
              0.1111111111111111,
              "#46039f"
             ],
             [
              0.2222222222222222,
              "#7201a8"
             ],
             [
              0.3333333333333333,
              "#9c179e"
             ],
             [
              0.4444444444444444,
              "#bd3786"
             ],
             [
              0.5555555555555556,
              "#d8576b"
             ],
             [
              0.6666666666666666,
              "#ed7953"
             ],
             [
              0.7777777777777778,
              "#fb9f3a"
             ],
             [
              0.8888888888888888,
              "#fdca26"
             ],
             [
              1,
              "#f0f921"
             ]
            ],
            "type": "heatmapgl"
           }
          ],
          "histogram": [
           {
            "marker": {
             "colorbar": {
              "outlinewidth": 0,
              "ticks": ""
             }
            },
            "type": "histogram"
           }
          ],
          "histogram2d": [
           {
            "colorbar": {
             "outlinewidth": 0,
             "ticks": ""
            },
            "colorscale": [
             [
              0,
              "#0d0887"
             ],
             [
              0.1111111111111111,
              "#46039f"
             ],
             [
              0.2222222222222222,
              "#7201a8"
             ],
             [
              0.3333333333333333,
              "#9c179e"
             ],
             [
              0.4444444444444444,
              "#bd3786"
             ],
             [
              0.5555555555555556,
              "#d8576b"
             ],
             [
              0.6666666666666666,
              "#ed7953"
             ],
             [
              0.7777777777777778,
              "#fb9f3a"
             ],
             [
              0.8888888888888888,
              "#fdca26"
             ],
             [
              1,
              "#f0f921"
             ]
            ],
            "type": "histogram2d"
           }
          ],
          "histogram2dcontour": [
           {
            "colorbar": {
             "outlinewidth": 0,
             "ticks": ""
            },
            "colorscale": [
             [
              0,
              "#0d0887"
             ],
             [
              0.1111111111111111,
              "#46039f"
             ],
             [
              0.2222222222222222,
              "#7201a8"
             ],
             [
              0.3333333333333333,
              "#9c179e"
             ],
             [
              0.4444444444444444,
              "#bd3786"
             ],
             [
              0.5555555555555556,
              "#d8576b"
             ],
             [
              0.6666666666666666,
              "#ed7953"
             ],
             [
              0.7777777777777778,
              "#fb9f3a"
             ],
             [
              0.8888888888888888,
              "#fdca26"
             ],
             [
              1,
              "#f0f921"
             ]
            ],
            "type": "histogram2dcontour"
           }
          ],
          "mesh3d": [
           {
            "colorbar": {
             "outlinewidth": 0,
             "ticks": ""
            },
            "type": "mesh3d"
           }
          ],
          "parcoords": [
           {
            "line": {
             "colorbar": {
              "outlinewidth": 0,
              "ticks": ""
             }
            },
            "type": "parcoords"
           }
          ],
          "pie": [
           {
            "automargin": true,
            "type": "pie"
           }
          ],
          "scatter": [
           {
            "marker": {
             "colorbar": {
              "outlinewidth": 0,
              "ticks": ""
             }
            },
            "type": "scatter"
           }
          ],
          "scatter3d": [
           {
            "line": {
             "colorbar": {
              "outlinewidth": 0,
              "ticks": ""
             }
            },
            "marker": {
             "colorbar": {
              "outlinewidth": 0,
              "ticks": ""
             }
            },
            "type": "scatter3d"
           }
          ],
          "scattercarpet": [
           {
            "marker": {
             "colorbar": {
              "outlinewidth": 0,
              "ticks": ""
             }
            },
            "type": "scattercarpet"
           }
          ],
          "scattergeo": [
           {
            "marker": {
             "colorbar": {
              "outlinewidth": 0,
              "ticks": ""
             }
            },
            "type": "scattergeo"
           }
          ],
          "scattergl": [
           {
            "marker": {
             "colorbar": {
              "outlinewidth": 0,
              "ticks": ""
             }
            },
            "type": "scattergl"
           }
          ],
          "scattermapbox": [
           {
            "marker": {
             "colorbar": {
              "outlinewidth": 0,
              "ticks": ""
             }
            },
            "type": "scattermapbox"
           }
          ],
          "scatterpolar": [
           {
            "marker": {
             "colorbar": {
              "outlinewidth": 0,
              "ticks": ""
             }
            },
            "type": "scatterpolar"
           }
          ],
          "scatterpolargl": [
           {
            "marker": {
             "colorbar": {
              "outlinewidth": 0,
              "ticks": ""
             }
            },
            "type": "scatterpolargl"
           }
          ],
          "scatterternary": [
           {
            "marker": {
             "colorbar": {
              "outlinewidth": 0,
              "ticks": ""
             }
            },
            "type": "scatterternary"
           }
          ],
          "surface": [
           {
            "colorbar": {
             "outlinewidth": 0,
             "ticks": ""
            },
            "colorscale": [
             [
              0,
              "#0d0887"
             ],
             [
              0.1111111111111111,
              "#46039f"
             ],
             [
              0.2222222222222222,
              "#7201a8"
             ],
             [
              0.3333333333333333,
              "#9c179e"
             ],
             [
              0.4444444444444444,
              "#bd3786"
             ],
             [
              0.5555555555555556,
              "#d8576b"
             ],
             [
              0.6666666666666666,
              "#ed7953"
             ],
             [
              0.7777777777777778,
              "#fb9f3a"
             ],
             [
              0.8888888888888888,
              "#fdca26"
             ],
             [
              1,
              "#f0f921"
             ]
            ],
            "type": "surface"
           }
          ],
          "table": [
           {
            "cells": {
             "fill": {
              "color": "#EBF0F8"
             },
             "line": {
              "color": "white"
             }
            },
            "header": {
             "fill": {
              "color": "#C8D4E3"
             },
             "line": {
              "color": "white"
             }
            },
            "type": "table"
           }
          ]
         },
         "layout": {
          "annotationdefaults": {
           "arrowcolor": "#2a3f5f",
           "arrowhead": 0,
           "arrowwidth": 1
          },
          "coloraxis": {
           "colorbar": {
            "outlinewidth": 0,
            "ticks": ""
           }
          },
          "colorscale": {
           "diverging": [
            [
             0,
             "#8e0152"
            ],
            [
             0.1,
             "#c51b7d"
            ],
            [
             0.2,
             "#de77ae"
            ],
            [
             0.3,
             "#f1b6da"
            ],
            [
             0.4,
             "#fde0ef"
            ],
            [
             0.5,
             "#f7f7f7"
            ],
            [
             0.6,
             "#e6f5d0"
            ],
            [
             0.7,
             "#b8e186"
            ],
            [
             0.8,
             "#7fbc41"
            ],
            [
             0.9,
             "#4d9221"
            ],
            [
             1,
             "#276419"
            ]
           ],
           "sequential": [
            [
             0,
             "#0d0887"
            ],
            [
             0.1111111111111111,
             "#46039f"
            ],
            [
             0.2222222222222222,
             "#7201a8"
            ],
            [
             0.3333333333333333,
             "#9c179e"
            ],
            [
             0.4444444444444444,
             "#bd3786"
            ],
            [
             0.5555555555555556,
             "#d8576b"
            ],
            [
             0.6666666666666666,
             "#ed7953"
            ],
            [
             0.7777777777777778,
             "#fb9f3a"
            ],
            [
             0.8888888888888888,
             "#fdca26"
            ],
            [
             1,
             "#f0f921"
            ]
           ],
           "sequentialminus": [
            [
             0,
             "#0d0887"
            ],
            [
             0.1111111111111111,
             "#46039f"
            ],
            [
             0.2222222222222222,
             "#7201a8"
            ],
            [
             0.3333333333333333,
             "#9c179e"
            ],
            [
             0.4444444444444444,
             "#bd3786"
            ],
            [
             0.5555555555555556,
             "#d8576b"
            ],
            [
             0.6666666666666666,
             "#ed7953"
            ],
            [
             0.7777777777777778,
             "#fb9f3a"
            ],
            [
             0.8888888888888888,
             "#fdca26"
            ],
            [
             1,
             "#f0f921"
            ]
           ]
          },
          "colorway": [
           "#636efa",
           "#EF553B",
           "#00cc96",
           "#ab63fa",
           "#FFA15A",
           "#19d3f3",
           "#FF6692",
           "#B6E880",
           "#FF97FF",
           "#FECB52"
          ],
          "font": {
           "color": "#2a3f5f"
          },
          "geo": {
           "bgcolor": "white",
           "lakecolor": "white",
           "landcolor": "#E5ECF6",
           "showlakes": true,
           "showland": true,
           "subunitcolor": "white"
          },
          "hoverlabel": {
           "align": "left"
          },
          "hovermode": "closest",
          "mapbox": {
           "style": "light"
          },
          "paper_bgcolor": "white",
          "plot_bgcolor": "#E5ECF6",
          "polar": {
           "angularaxis": {
            "gridcolor": "white",
            "linecolor": "white",
            "ticks": ""
           },
           "bgcolor": "#E5ECF6",
           "radialaxis": {
            "gridcolor": "white",
            "linecolor": "white",
            "ticks": ""
           }
          },
          "scene": {
           "xaxis": {
            "backgroundcolor": "#E5ECF6",
            "gridcolor": "white",
            "gridwidth": 2,
            "linecolor": "white",
            "showbackground": true,
            "ticks": "",
            "zerolinecolor": "white"
           },
           "yaxis": {
            "backgroundcolor": "#E5ECF6",
            "gridcolor": "white",
            "gridwidth": 2,
            "linecolor": "white",
            "showbackground": true,
            "ticks": "",
            "zerolinecolor": "white"
           },
           "zaxis": {
            "backgroundcolor": "#E5ECF6",
            "gridcolor": "white",
            "gridwidth": 2,
            "linecolor": "white",
            "showbackground": true,
            "ticks": "",
            "zerolinecolor": "white"
           }
          },
          "shapedefaults": {
           "line": {
            "color": "#2a3f5f"
           }
          },
          "ternary": {
           "aaxis": {
            "gridcolor": "white",
            "linecolor": "white",
            "ticks": ""
           },
           "baxis": {
            "gridcolor": "white",
            "linecolor": "white",
            "ticks": ""
           },
           "bgcolor": "#E5ECF6",
           "caxis": {
            "gridcolor": "white",
            "linecolor": "white",
            "ticks": ""
           }
          },
          "title": {
           "x": 0.05
          },
          "xaxis": {
           "automargin": true,
           "gridcolor": "white",
           "linecolor": "white",
           "ticks": "",
           "title": {
            "standoff": 15
           },
           "zerolinecolor": "white",
           "zerolinewidth": 2
          },
          "yaxis": {
           "automargin": true,
           "gridcolor": "white",
           "linecolor": "white",
           "ticks": "",
           "title": {
            "standoff": 15
           },
           "zerolinecolor": "white",
           "zerolinewidth": 2
          }
         }
        },
        "title": {
         "text": "New Infections by Day"
        },
        "xaxis": {
         "anchor": "y",
         "domain": [
          0,
          1
         ],
         "title": {
          "text": "Days Since First Case"
         }
        },
        "yaxis": {
         "anchor": "x",
         "domain": [
          0,
          1
         ],
         "title": {
          "text": "Confirmed"
         }
        }
       }
      },
      "text/html": [
       "<div>\n",
       "        \n",
       "        \n",
       "            <div id=\"2713c3f0-1802-4d01-8fdb-70b5f73e295b\" class=\"plotly-graph-div\" style=\"height:600px; width:100%;\"></div>\n",
       "            <script type=\"text/javascript\">\n",
       "                require([\"plotly\"], function(Plotly) {\n",
       "                    window.PLOTLYENV=window.PLOTLYENV || {};\n",
       "                    \n",
       "                if (document.getElementById(\"2713c3f0-1802-4d01-8fdb-70b5f73e295b\")) {\n",
       "                    Plotly.newPlot(\n",
       "                        '2713c3f0-1802-4d01-8fdb-70b5f73e295b',\n",
       "                        [{\"hoverlabel\": {\"namelength\": 0}, \"hovertemplate\": \"Province/State=New York<br>Days Since First Case=%{x}<br>Confirmed=%{y}\", \"legendgroup\": \"Province/State=New York\", \"marker\": {\"color\": \"#636efa\", \"symbol\": \"circle\"}, \"mode\": \"markers\", \"name\": \"Province/State=New York\", \"showlegend\": true, \"type\": \"scatter\", \"x\": [0, 1, 2, 3, 4, 5, 6, 7, 8, 9, 10, 11, 12, 13, 14, 15, 16, 17, 18, 19, 20, 21, 22, 23, 24], \"xaxis\": \"x\", \"y\": [173, 47, 108, 93, 104, 207, 235, 739, 789, 2870, 2945, 3400, 4090, 5084, 4797, 5160, 7036, 6999, 7534, 7238, 7015, 9170, 8115, 8558, 10481], \"yaxis\": \"y\"}, {\"hoverlabel\": {\"namelength\": 0}, \"hovertemplate\": \"Province/State=Madrid<br>Days Since First Case=%{x}<br>Confirmed=%{y}\", \"legendgroup\": \"Province/State=Madrid\", \"marker\": {\"color\": \"#EF553B\", \"symbol\": \"circle\"}, \"mode\": \"markers\", \"name\": \"Province/State=Madrid\", \"showlegend\": true, \"type\": \"scatter\", \"x\": [0, 1, 2, 3, 4, 5, 6, 7, 8, 9, 10, 11, 12, 13, 14, 15, 16, 17, 18, 19, 20, 21, 22, 23, 24, 25, 26, 27, 28, 29, 30, 31, 32, 33, 34, 35, 36, 37, 38, 39, 40, 41, 42, 43, 44, 45, 46, 47, 48, 49, 50, 51, 52, 53, 54, 55, 56, 57, 58, 59, 60, 61, 62], \"xaxis\": \"x\", \"y\": [1, 0, 0, 0, 0, 0, 0, 0, 1, 0, 0, 0, 0, 0, 0, 0, 0, 0, 0, 0, 0, 0, 0, 0, 4, 7, 2, 17, 13, 39, 36, 45, 57, 37, 141, 100, 173, 400, 622, 582, 0, 2955, 1159, 1407, 2144, 1806, 2162, 4053, 2447, 4964, 3229, 6533, 4749, 9630, 8271, 7933, 7516, 6875, 7846, 7967, 8195, 7947, 7134], \"yaxis\": \"y\"}, {\"hoverlabel\": {\"namelength\": 0}, \"hovertemplate\": \"Province/State=Quebec<br>Days Since First Case=%{x}<br>Confirmed=%{y}\", \"legendgroup\": \"Province/State=Quebec\", \"marker\": {\"color\": \"#00cc96\", \"symbol\": \"circle\"}, \"mode\": \"markers\", \"name\": \"Province/State=Quebec\", \"showlegend\": true, \"type\": \"scatter\", \"x\": [0, 1, 2, 3, 4, 5, 6, 7, 8, 9, 10, 11, 12, 13, 14, 15, 16, 17, 18, 19, 20, 21, 22, 23, 24, 25], \"xaxis\": \"x\", \"y\": [3, 1, 4, 1, 8, 0, 7, 26, 24, 20, 27, 18, 42, 38, 409, 385, 329, 290, 392, 474, 342, 590, 732, 449, 907, 583], \"yaxis\": \"y\"}, {\"hoverlabel\": {\"namelength\": 0}, \"hovertemplate\": \"Province/State=Lombardia<br>Days Since First Case=%{x}<br>Confirmed=%{y}\", \"legendgroup\": \"Province/State=Lombardia\", \"marker\": {\"color\": \"#ab63fa\", \"symbol\": \"circle\"}, \"mode\": \"markers\", \"name\": \"Province/State=Lombardia\", \"showlegend\": true, \"type\": \"scatter\", \"x\": [0, 1, 2, 3, 4, 5, 6, 7, 8, 9, 10, 11, 12, 13, 14, 15, 16, 17, 18, 19, 20, 21, 22, 23, 24, 25, 26, 27, 28, 29, 30, 31, 32, 33, 34, 35, 36, 37, 38, 39], \"xaxis\": \"x\", \"y\": [172, 68, 18, 145, 128, 84, 369, 270, 266, 300, 431, 361, 808, 769, 1280, 322, 1489, 1445, 1095, 1865, 1587, 1377, 1571, 1493, 2171, 2380, 3251, 1691, 1555, 1942, 1643, 2543, 2409, 2117, 1592, 1154, 1047, 1565, 1292, 1455], \"yaxis\": \"y\"}, {\"hoverlabel\": {\"namelength\": 0}, \"hovertemplate\": \"Province/State=Vienna<br>Days Since First Case=%{x}<br>Confirmed=%{y}\", \"legendgroup\": \"Province/State=Vienna\", \"marker\": {\"color\": \"#FFA15A\", \"symbol\": \"circle\"}, \"mode\": \"markers\", \"name\": \"Province/State=Vienna\", \"showlegend\": true, \"type\": \"scatter\", \"x\": [0, 1, 2, 3, 4, 5, 6, 7, 8, 9, 10, 11, 12, 13, 14, 15, 16, 17, 18, 19, 20, 21, 22, 23, 24, 25, 26, 27, 28, 29, 30, 31, 32, 33, 34, 35, 36, 37, 38], \"xaxis\": \"x\", \"y\": [2, 0, 1, 0, 6, 5, 4, 3, 8, 12, 14, 24, 25, 27, 51, 64, 56, 202, 151, 205, 158, 314, 314, 367, 375, 426, 766, 894, 809, 305, 1321, 748, 614, 517, 830, 562, 531, 418, 395], \"yaxis\": \"y\"}, {\"hoverlabel\": {\"namelength\": 0}, \"hovertemplate\": \"Province/State=Stockholm<br>Days Since First Case=%{x}<br>Confirmed=%{y}\", \"legendgroup\": \"Province/State=Stockholm\", \"marker\": {\"color\": \"#19d3f3\", \"symbol\": \"circle\"}, \"mode\": \"markers\", \"name\": \"Province/State=Stockholm\", \"showlegend\": true, \"type\": \"scatter\", \"x\": [0, 1, 2, 3, 4, 5, 6, 7, 8, 9, 10, 11, 12, 13, 14, 15, 16, 17, 18, 19, 20, 21, 22, 23, 24, 25, 26, 27, 28, 29, 30, 31, 32, 33, 34, 35, 36, 37, 38, 39, 40, 41, 42, 43, 44, 45, 46, 47, 48, 49, 50, 51, 52, 53, 54, 55, 56, 57, 58, 59, 60, 61, 62, 63], \"xaxis\": \"x\", \"y\": [1, 0, 0, 0, 0, 0, 0, 0, 0, 0, 0, 0, 0, 0, 0, 0, 0, 0, 0, 0, 0, 0, 0, 0, 0, 0, 1, 5, 0, 5, 2, 1, 6, 14, 59, 7, 60, 42, 45, 107, 145, 99, 215, 147, 61, 81, 87, 89, 160, 200, 124, 168, 115, 240, 240, 314, 229, 378, 253, 328, 407, 512, 621, 563], \"yaxis\": \"y\"}, {\"hoverlabel\": {\"namelength\": 0}, \"hovertemplate\": \"Province/State=Doha<br>Days Since First Case=%{x}<br>Confirmed=%{y}\", \"legendgroup\": \"Province/State=Doha\", \"marker\": {\"color\": \"#FF6692\", \"symbol\": \"circle\"}, \"mode\": \"markers\", \"name\": \"Province/State=Doha\", \"showlegend\": true, \"type\": \"scatter\", \"x\": [0, 1, 2, 3, 4, 5, 6, 7, 8, 9, 10, 11, 12, 13, 14, 15, 16, 17, 18, 19, 20, 21, 22, 23, 24, 25, 26, 27, 28, 29, 30, 31, 32, 33, 34], \"xaxis\": \"x\", \"y\": [1, 2, 0, 4, 1, 0, 0, 0, 7, 3, 6, 238, 0, 58, 17, 64, 38, 0, 13, 8, 10, 11, 13, 7, 25, 11, 12, 13, 28, 44, 59, 88, 54, 114, 126], \"yaxis\": \"y\"}, {\"hoverlabel\": {\"namelength\": 0}, \"hovertemplate\": \"Province/State=Dubai<br>Days Since First Case=%{x}<br>Confirmed=%{y}\", \"legendgroup\": \"Province/State=Dubai\", \"marker\": {\"color\": \"#B6E880\", \"symbol\": \"circle\"}, \"mode\": \"markers\", \"name\": \"Province/State=Dubai\", \"showlegend\": true, \"type\": \"scatter\", \"x\": [0, 1, 2, 3, 4, 5, 6, 7, 8, 9, 10, 11, 12, 13, 14, 15, 16, 17, 18, 19, 20, 21, 22, 23, 24, 25, 26, 27, 28, 29, 30, 31, 32, 33, 34, 35, 36, 37, 38, 39, 40, 41, 42, 43, 44, 45, 46, 47, 48, 49, 50, 51, 52, 53, 54, 55, 56, 57, 58, 59, 60, 61, 62, 63, 64, 65], \"xaxis\": \"x\", \"y\": [4, 0, 0, 0, 1, 0, 0, 0, 0, 0, 2, 0, 1, 0, 0, 0, 0, 0, 1, 0, 0, 0, 0, 0, 4, 0, 0, 0, 0, 0, 6, 2, 0, 0, 6, 0, 2, 0, 16, 0, 0, 29, 0, 11, 0, 0, 13, 0, 0, 15, 27, 0, 13, 0, 45, 50, 85, 0, 72, 63, 102, 41, 53, 150, 210, 240], \"yaxis\": \"y\"}, {\"hoverlabel\": {\"namelength\": 0}, \"hovertemplate\": \"Province/State=Dakar<br>Days Since First Case=%{x}<br>Confirmed=%{y}\", \"legendgroup\": \"Province/State=Dakar\", \"marker\": {\"color\": \"#FF97FF\", \"symbol\": \"circle\"}, \"mode\": \"markers\", \"name\": \"Province/State=Dakar\", \"showlegend\": true, \"type\": \"scatter\", \"x\": [0, 1, 2, 3, 4, 5, 6, 7, 8, 9, 10, 11, 12, 13, 14, 15, 16, 17, 18, 19, 20, 21, 22, 23, 24, 25, 26, 27, 28, 29, 30, 31, 32], \"xaxis\": \"x\", \"y\": [1, 1, 2, 0, 0, 0, 0, 0, 0, 0, 0, 6, 0, 14, 0, 2, 5, 0, 7, 9, 20, 12, 7, 13, 6, 14, 11, 12, 20, 13, 15, 5, 12], \"yaxis\": \"y\"}],\n",
       "                        {\"height\": 600, \"legend\": {\"tracegroupgap\": 0}, \"template\": {\"data\": {\"bar\": [{\"error_x\": {\"color\": \"#2a3f5f\"}, \"error_y\": {\"color\": \"#2a3f5f\"}, \"marker\": {\"line\": {\"color\": \"#E5ECF6\", \"width\": 0.5}}, \"type\": \"bar\"}], \"barpolar\": [{\"marker\": {\"line\": {\"color\": \"#E5ECF6\", \"width\": 0.5}}, \"type\": \"barpolar\"}], \"carpet\": [{\"aaxis\": {\"endlinecolor\": \"#2a3f5f\", \"gridcolor\": \"white\", \"linecolor\": \"white\", \"minorgridcolor\": \"white\", \"startlinecolor\": \"#2a3f5f\"}, \"baxis\": {\"endlinecolor\": \"#2a3f5f\", \"gridcolor\": \"white\", \"linecolor\": \"white\", \"minorgridcolor\": \"white\", \"startlinecolor\": \"#2a3f5f\"}, \"type\": \"carpet\"}], \"choropleth\": [{\"colorbar\": {\"outlinewidth\": 0, \"ticks\": \"\"}, \"type\": \"choropleth\"}], \"contour\": [{\"colorbar\": {\"outlinewidth\": 0, \"ticks\": \"\"}, \"colorscale\": [[0.0, \"#0d0887\"], [0.1111111111111111, \"#46039f\"], [0.2222222222222222, \"#7201a8\"], [0.3333333333333333, \"#9c179e\"], [0.4444444444444444, \"#bd3786\"], [0.5555555555555556, \"#d8576b\"], [0.6666666666666666, \"#ed7953\"], [0.7777777777777778, \"#fb9f3a\"], [0.8888888888888888, \"#fdca26\"], [1.0, \"#f0f921\"]], \"type\": \"contour\"}], \"contourcarpet\": [{\"colorbar\": {\"outlinewidth\": 0, \"ticks\": \"\"}, \"type\": \"contourcarpet\"}], \"heatmap\": [{\"colorbar\": {\"outlinewidth\": 0, \"ticks\": \"\"}, \"colorscale\": [[0.0, \"#0d0887\"], [0.1111111111111111, \"#46039f\"], [0.2222222222222222, \"#7201a8\"], [0.3333333333333333, \"#9c179e\"], [0.4444444444444444, \"#bd3786\"], [0.5555555555555556, \"#d8576b\"], [0.6666666666666666, \"#ed7953\"], [0.7777777777777778, \"#fb9f3a\"], [0.8888888888888888, \"#fdca26\"], [1.0, \"#f0f921\"]], \"type\": \"heatmap\"}], \"heatmapgl\": [{\"colorbar\": {\"outlinewidth\": 0, \"ticks\": \"\"}, \"colorscale\": [[0.0, \"#0d0887\"], [0.1111111111111111, \"#46039f\"], [0.2222222222222222, \"#7201a8\"], [0.3333333333333333, \"#9c179e\"], [0.4444444444444444, \"#bd3786\"], [0.5555555555555556, \"#d8576b\"], [0.6666666666666666, \"#ed7953\"], [0.7777777777777778, \"#fb9f3a\"], [0.8888888888888888, \"#fdca26\"], [1.0, \"#f0f921\"]], \"type\": \"heatmapgl\"}], \"histogram\": [{\"marker\": {\"colorbar\": {\"outlinewidth\": 0, \"ticks\": \"\"}}, \"type\": \"histogram\"}], \"histogram2d\": [{\"colorbar\": {\"outlinewidth\": 0, \"ticks\": \"\"}, \"colorscale\": [[0.0, \"#0d0887\"], [0.1111111111111111, \"#46039f\"], [0.2222222222222222, \"#7201a8\"], [0.3333333333333333, \"#9c179e\"], [0.4444444444444444, \"#bd3786\"], [0.5555555555555556, \"#d8576b\"], [0.6666666666666666, \"#ed7953\"], [0.7777777777777778, \"#fb9f3a\"], [0.8888888888888888, \"#fdca26\"], [1.0, \"#f0f921\"]], \"type\": \"histogram2d\"}], \"histogram2dcontour\": [{\"colorbar\": {\"outlinewidth\": 0, \"ticks\": \"\"}, \"colorscale\": [[0.0, \"#0d0887\"], [0.1111111111111111, \"#46039f\"], [0.2222222222222222, \"#7201a8\"], [0.3333333333333333, \"#9c179e\"], [0.4444444444444444, \"#bd3786\"], [0.5555555555555556, \"#d8576b\"], [0.6666666666666666, \"#ed7953\"], [0.7777777777777778, \"#fb9f3a\"], [0.8888888888888888, \"#fdca26\"], [1.0, \"#f0f921\"]], \"type\": \"histogram2dcontour\"}], \"mesh3d\": [{\"colorbar\": {\"outlinewidth\": 0, \"ticks\": \"\"}, \"type\": \"mesh3d\"}], \"parcoords\": [{\"line\": {\"colorbar\": {\"outlinewidth\": 0, \"ticks\": \"\"}}, \"type\": \"parcoords\"}], \"pie\": [{\"automargin\": true, \"type\": \"pie\"}], \"scatter\": [{\"marker\": {\"colorbar\": {\"outlinewidth\": 0, \"ticks\": \"\"}}, \"type\": \"scatter\"}], \"scatter3d\": [{\"line\": {\"colorbar\": {\"outlinewidth\": 0, \"ticks\": \"\"}}, \"marker\": {\"colorbar\": {\"outlinewidth\": 0, \"ticks\": \"\"}}, \"type\": \"scatter3d\"}], \"scattercarpet\": [{\"marker\": {\"colorbar\": {\"outlinewidth\": 0, \"ticks\": \"\"}}, \"type\": \"scattercarpet\"}], \"scattergeo\": [{\"marker\": {\"colorbar\": {\"outlinewidth\": 0, \"ticks\": \"\"}}, \"type\": \"scattergeo\"}], \"scattergl\": [{\"marker\": {\"colorbar\": {\"outlinewidth\": 0, \"ticks\": \"\"}}, \"type\": \"scattergl\"}], \"scattermapbox\": [{\"marker\": {\"colorbar\": {\"outlinewidth\": 0, \"ticks\": \"\"}}, \"type\": \"scattermapbox\"}], \"scatterpolar\": [{\"marker\": {\"colorbar\": {\"outlinewidth\": 0, \"ticks\": \"\"}}, \"type\": \"scatterpolar\"}], \"scatterpolargl\": [{\"marker\": {\"colorbar\": {\"outlinewidth\": 0, \"ticks\": \"\"}}, \"type\": \"scatterpolargl\"}], \"scatterternary\": [{\"marker\": {\"colorbar\": {\"outlinewidth\": 0, \"ticks\": \"\"}}, \"type\": \"scatterternary\"}], \"surface\": [{\"colorbar\": {\"outlinewidth\": 0, \"ticks\": \"\"}, \"colorscale\": [[0.0, \"#0d0887\"], [0.1111111111111111, \"#46039f\"], [0.2222222222222222, \"#7201a8\"], [0.3333333333333333, \"#9c179e\"], [0.4444444444444444, \"#bd3786\"], [0.5555555555555556, \"#d8576b\"], [0.6666666666666666, \"#ed7953\"], [0.7777777777777778, \"#fb9f3a\"], [0.8888888888888888, \"#fdca26\"], [1.0, \"#f0f921\"]], \"type\": \"surface\"}], \"table\": [{\"cells\": {\"fill\": {\"color\": \"#EBF0F8\"}, \"line\": {\"color\": \"white\"}}, \"header\": {\"fill\": {\"color\": \"#C8D4E3\"}, \"line\": {\"color\": \"white\"}}, \"type\": \"table\"}]}, \"layout\": {\"annotationdefaults\": {\"arrowcolor\": \"#2a3f5f\", \"arrowhead\": 0, \"arrowwidth\": 1}, \"coloraxis\": {\"colorbar\": {\"outlinewidth\": 0, \"ticks\": \"\"}}, \"colorscale\": {\"diverging\": [[0, \"#8e0152\"], [0.1, \"#c51b7d\"], [0.2, \"#de77ae\"], [0.3, \"#f1b6da\"], [0.4, \"#fde0ef\"], [0.5, \"#f7f7f7\"], [0.6, \"#e6f5d0\"], [0.7, \"#b8e186\"], [0.8, \"#7fbc41\"], [0.9, \"#4d9221\"], [1, \"#276419\"]], \"sequential\": [[0.0, \"#0d0887\"], [0.1111111111111111, \"#46039f\"], [0.2222222222222222, \"#7201a8\"], [0.3333333333333333, \"#9c179e\"], [0.4444444444444444, \"#bd3786\"], [0.5555555555555556, \"#d8576b\"], [0.6666666666666666, \"#ed7953\"], [0.7777777777777778, \"#fb9f3a\"], [0.8888888888888888, \"#fdca26\"], [1.0, \"#f0f921\"]], \"sequentialminus\": [[0.0, \"#0d0887\"], [0.1111111111111111, \"#46039f\"], [0.2222222222222222, \"#7201a8\"], [0.3333333333333333, \"#9c179e\"], [0.4444444444444444, \"#bd3786\"], [0.5555555555555556, \"#d8576b\"], [0.6666666666666666, \"#ed7953\"], [0.7777777777777778, \"#fb9f3a\"], [0.8888888888888888, \"#fdca26\"], [1.0, \"#f0f921\"]]}, \"colorway\": [\"#636efa\", \"#EF553B\", \"#00cc96\", \"#ab63fa\", \"#FFA15A\", \"#19d3f3\", \"#FF6692\", \"#B6E880\", \"#FF97FF\", \"#FECB52\"], \"font\": {\"color\": \"#2a3f5f\"}, \"geo\": {\"bgcolor\": \"white\", \"lakecolor\": \"white\", \"landcolor\": \"#E5ECF6\", \"showlakes\": true, \"showland\": true, \"subunitcolor\": \"white\"}, \"hoverlabel\": {\"align\": \"left\"}, \"hovermode\": \"closest\", \"mapbox\": {\"style\": \"light\"}, \"paper_bgcolor\": \"white\", \"plot_bgcolor\": \"#E5ECF6\", \"polar\": {\"angularaxis\": {\"gridcolor\": \"white\", \"linecolor\": \"white\", \"ticks\": \"\"}, \"bgcolor\": \"#E5ECF6\", \"radialaxis\": {\"gridcolor\": \"white\", \"linecolor\": \"white\", \"ticks\": \"\"}}, \"scene\": {\"xaxis\": {\"backgroundcolor\": \"#E5ECF6\", \"gridcolor\": \"white\", \"gridwidth\": 2, \"linecolor\": \"white\", \"showbackground\": true, \"ticks\": \"\", \"zerolinecolor\": \"white\"}, \"yaxis\": {\"backgroundcolor\": \"#E5ECF6\", \"gridcolor\": \"white\", \"gridwidth\": 2, \"linecolor\": \"white\", \"showbackground\": true, \"ticks\": \"\", \"zerolinecolor\": \"white\"}, \"zaxis\": {\"backgroundcolor\": \"#E5ECF6\", \"gridcolor\": \"white\", \"gridwidth\": 2, \"linecolor\": \"white\", \"showbackground\": true, \"ticks\": \"\", \"zerolinecolor\": \"white\"}}, \"shapedefaults\": {\"line\": {\"color\": \"#2a3f5f\"}}, \"ternary\": {\"aaxis\": {\"gridcolor\": \"white\", \"linecolor\": \"white\", \"ticks\": \"\"}, \"baxis\": {\"gridcolor\": \"white\", \"linecolor\": \"white\", \"ticks\": \"\"}, \"bgcolor\": \"#E5ECF6\", \"caxis\": {\"gridcolor\": \"white\", \"linecolor\": \"white\", \"ticks\": \"\"}}, \"title\": {\"x\": 0.05}, \"xaxis\": {\"automargin\": true, \"gridcolor\": \"white\", \"linecolor\": \"white\", \"ticks\": \"\", \"title\": {\"standoff\": 15}, \"zerolinecolor\": \"white\", \"zerolinewidth\": 2}, \"yaxis\": {\"automargin\": true, \"gridcolor\": \"white\", \"linecolor\": \"white\", \"ticks\": \"\", \"title\": {\"standoff\": 15}, \"zerolinecolor\": \"white\", \"zerolinewidth\": 2}}}, \"title\": {\"text\": \"New Infections by Day\"}, \"xaxis\": {\"anchor\": \"y\", \"domain\": [0.0, 1.0], \"title\": {\"text\": \"Days Since First Case\"}}, \"yaxis\": {\"anchor\": \"x\", \"domain\": [0.0, 1.0], \"title\": {\"text\": \"Confirmed\"}}},\n",
       "                        {\"responsive\": true}\n",
       "                    ).then(function(){\n",
       "                            \n",
       "var gd = document.getElementById('2713c3f0-1802-4d01-8fdb-70b5f73e295b');\n",
       "var x = new MutationObserver(function (mutations, observer) {{\n",
       "        var display = window.getComputedStyle(gd).display;\n",
       "        if (!display || display === 'none') {{\n",
       "            console.log([gd, 'removed!']);\n",
       "            Plotly.purge(gd);\n",
       "            observer.disconnect();\n",
       "        }}\n",
       "}});\n",
       "\n",
       "// Listen for the removal of the full notebook cells\n",
       "var notebookContainer = gd.closest('#notebook-container');\n",
       "if (notebookContainer) {{\n",
       "    x.observe(notebookContainer, {childList: true});\n",
       "}}\n",
       "\n",
       "// Listen for the clearing of the current output cell\n",
       "var outputEl = gd.closest('.output');\n",
       "if (outputEl) {{\n",
       "    x.observe(outputEl, {childList: true});\n",
       "}}\n",
       "\n",
       "                        })\n",
       "                };\n",
       "                });\n",
       "            </script>\n",
       "        </div>"
      ]
     },
     "metadata": {},
     "output_type": "display_data"
    }
   ],
   "source": [
    "# Plot the number of new infections by day and region\n",
    "px.scatter(covid_weather, x=\"Days Since First Case\",y=\"Confirmed\",color=\"Province/State\",\n",
    "          title='New Infections by Day')"
   ]
  },
  {
   "cell_type": "markdown",
   "metadata": {},
   "source": [
    "### Coronavirus vs Humidity\n",
    "<a id='coronavirus_vs_humidity'></a>"
   ]
  },
  {
   "cell_type": "markdown",
   "metadata": {},
   "source": [
    "So far, we know that high temperatures potentially reduce the spread of the coronavirus, but what about other weather factors like humidity or pressure? In this section, I am going to see if exists any kind of relationship between the humidity and the spread of the virus.     \n",
    "The next table resumes the minimum and maximum values of the average humidity by `Province/State`. The range of values is wide in each of the cases, being New York the State with less reported humidity.    "
   ]
  },
  {
   "cell_type": "code",
   "execution_count": 174,
   "metadata": {},
   "outputs": [
    {
     "data": {
      "text/html": [
       "<div>\n",
       "<style scoped>\n",
       "    .dataframe tbody tr th:only-of-type {\n",
       "        vertical-align: middle;\n",
       "    }\n",
       "\n",
       "    .dataframe tbody tr th {\n",
       "        vertical-align: top;\n",
       "    }\n",
       "\n",
       "    .dataframe thead tr th {\n",
       "        text-align: left;\n",
       "    }\n",
       "\n",
       "    .dataframe thead tr:last-of-type th {\n",
       "        text-align: right;\n",
       "    }\n",
       "</style>\n",
       "<table border=\"1\" class=\"dataframe\">\n",
       "  <thead>\n",
       "    <tr>\n",
       "      <th></th>\n",
       "      <th>min</th>\n",
       "      <th>max</th>\n",
       "    </tr>\n",
       "    <tr>\n",
       "      <th></th>\n",
       "      <th>HumAvg</th>\n",
       "      <th>HumAvg</th>\n",
       "    </tr>\n",
       "    <tr>\n",
       "      <th>Province/State</th>\n",
       "      <th></th>\n",
       "      <th></th>\n",
       "    </tr>\n",
       "  </thead>\n",
       "  <tbody>\n",
       "    <tr>\n",
       "      <th>Dakar</th>\n",
       "      <td>34.7</td>\n",
       "      <td>86.5</td>\n",
       "    </tr>\n",
       "    <tr>\n",
       "      <th>Doha</th>\n",
       "      <td>36.7</td>\n",
       "      <td>88.1</td>\n",
       "    </tr>\n",
       "    <tr>\n",
       "      <th>Dubai</th>\n",
       "      <td>28.0</td>\n",
       "      <td>73.8</td>\n",
       "    </tr>\n",
       "    <tr>\n",
       "      <th>Lombardia</th>\n",
       "      <td>30.5</td>\n",
       "      <td>96.7</td>\n",
       "    </tr>\n",
       "    <tr>\n",
       "      <th>Madrid</th>\n",
       "      <td>47.3</td>\n",
       "      <td>95.4</td>\n",
       "    </tr>\n",
       "    <tr>\n",
       "      <th>New York</th>\n",
       "      <td>25.8</td>\n",
       "      <td>80.8</td>\n",
       "    </tr>\n",
       "    <tr>\n",
       "      <th>Quebec</th>\n",
       "      <td>48.9</td>\n",
       "      <td>94.3</td>\n",
       "    </tr>\n",
       "    <tr>\n",
       "      <th>Stockholm</th>\n",
       "      <td>34.2</td>\n",
       "      <td>97.9</td>\n",
       "    </tr>\n",
       "    <tr>\n",
       "      <th>Vienna</th>\n",
       "      <td>44.9</td>\n",
       "      <td>78.8</td>\n",
       "    </tr>\n",
       "  </tbody>\n",
       "</table>\n",
       "</div>"
      ],
      "text/plain": [
       "                  min    max\n",
       "               HumAvg HumAvg\n",
       "Province/State              \n",
       "Dakar            34.7   86.5\n",
       "Doha             36.7   88.1\n",
       "Dubai            28.0   73.8\n",
       "Lombardia        30.5   96.7\n",
       "Madrid           47.3   95.4\n",
       "New York         25.8   80.8\n",
       "Quebec           48.9   94.3\n",
       "Stockholm        34.2   97.9\n",
       "Vienna           44.9   78.8"
      ]
     },
     "execution_count": 174,
     "metadata": {},
     "output_type": "execute_result"
    }
   ],
   "source": [
    "# Min and Max Humidity Average values by Province/State\n",
    "covid_weather.pivot_table(index=\"Province/State\",values=\"HumAvg\", aggfunc=['min','max'])"
   ]
  },
  {
   "cell_type": "markdown",
   "metadata": {},
   "source": [
    "Fig. _\"Number of New Infections by Day and Humidity Average\"_ shows the number of new infections in relationship with the days since the first infection and the humidity average by day. If we interact with the graphic, it's possible to observe than don't exists (at least with the naked eye) a clear relationship between the humidity and the new infections (low or high humidity doesn't imply a high or a low number of infections and vice versa in each `Province/State`).       \n",
    "> Nevertheless, would be interesting to see if exists differences in the humidity between regions and in such cases if that difference seems to have an impact on the number of cases."
   ]
  },
  {
   "cell_type": "code",
   "execution_count": 175,
   "metadata": {},
   "outputs": [
    {
     "data": {
      "application/vnd.plotly.v1+json": {
       "config": {
        "plotlyServerURL": "https://plot.ly"
       },
       "data": [
        {
         "hoverlabel": {
          "namelength": 0
         },
         "hovertemplate": "Province/State=New York<br>Days Since First Case=%{x}<br>Confirmed=%{y}<br>HumAvg=%{marker.size}",
         "legendgroup": "Province/State=New York",
         "marker": {
          "color": "#636efa",
          "size": [
           51.1,
           75.5,
           44.8,
           48.5,
           74.7,
           42.1,
           27.6,
           25.8,
           46.8,
           44.6,
           72.5,
           70.3,
           34.5,
           34.9,
           48.9,
           71.6,
           44.7,
           79.5,
           74.8,
           38,
           39.8,
           80.8,
           64.1,
           71,
           57.6
          ],
          "sizemode": "area",
          "sizeref": 0.24475000000000002,
          "symbol": "circle"
         },
         "mode": "markers",
         "name": "Province/State=New York",
         "showlegend": true,
         "type": "scatter",
         "x": [
          0,
          1,
          2,
          3,
          4,
          5,
          6,
          7,
          8,
          9,
          10,
          11,
          12,
          13,
          14,
          15,
          16,
          17,
          18,
          19,
          20,
          21,
          22,
          23,
          24
         ],
         "xaxis": "x",
         "y": [
          173,
          47,
          108,
          93,
          104,
          207,
          235,
          739,
          789,
          2870,
          2945,
          3400,
          4090,
          5084,
          4797,
          5160,
          7036,
          6999,
          7534,
          7238,
          7015,
          9170,
          8115,
          8558,
          10481
         ],
         "yaxis": "y"
        },
        {
         "hoverlabel": {
          "namelength": 0
         },
         "hovertemplate": "Province/State=Madrid<br>Days Since First Case=%{x}<br>Confirmed=%{y}<br>HumAvg=%{marker.size}",
         "legendgroup": "Province/State=Madrid",
         "marker": {
          "color": "#EF553B",
          "size": [
           88.2,
           93.8,
           89.2,
           92.3,
           86.9,
           83.7,
           84,
           83.4,
           84.3,
           89.3,
           86.5,
           78,
           63.9,
           83.8,
           84.9,
           92.1,
           89.3,
           91.3,
           95.4,
           92.8,
           84.3,
           87.4,
           83.6,
           80.2,
           90.5,
           76.7,
           66,
           68,
           57.5,
           58.8,
           53.8,
           57.4,
           64.6,
           50.3,
           52.8,
           57.2,
           69.1,
           76.2,
           61.5,
           69.1,
           65.9,
           66.1,
           47.3,
           56.4,
           66.7,
           53.7,
           53.8,
           61,
           61.5,
           59.6,
           59.7,
           65.1,
           81,
           78.8,
           74.6,
           67.5,
           69.6,
           83.6,
           86.7,
           84.7,
           69.3,
           62.4,
           47.7
          ],
          "sizemode": "area",
          "sizeref": 0.24475000000000002,
          "symbol": "circle"
         },
         "mode": "markers",
         "name": "Province/State=Madrid",
         "showlegend": true,
         "type": "scatter",
         "x": [
          0,
          1,
          2,
          3,
          4,
          5,
          6,
          7,
          8,
          9,
          10,
          11,
          12,
          13,
          14,
          15,
          16,
          17,
          18,
          19,
          20,
          21,
          22,
          23,
          24,
          25,
          26,
          27,
          28,
          29,
          30,
          31,
          32,
          33,
          34,
          35,
          36,
          37,
          38,
          39,
          40,
          41,
          42,
          43,
          44,
          45,
          46,
          47,
          48,
          49,
          50,
          51,
          52,
          53,
          54,
          55,
          56,
          57,
          58,
          59,
          60,
          61,
          62
         ],
         "xaxis": "x",
         "y": [
          1,
          0,
          0,
          0,
          0,
          0,
          0,
          0,
          1,
          0,
          0,
          0,
          0,
          0,
          0,
          0,
          0,
          0,
          0,
          0,
          0,
          0,
          0,
          0,
          4,
          7,
          2,
          17,
          13,
          39,
          36,
          45,
          57,
          37,
          141,
          100,
          173,
          400,
          622,
          582,
          0,
          2955,
          1159,
          1407,
          2144,
          1806,
          2162,
          4053,
          2447,
          4964,
          3229,
          6533,
          4749,
          9630,
          8271,
          7933,
          7516,
          6875,
          7846,
          7967,
          8195,
          7947,
          7134
         ],
         "yaxis": "y"
        },
        {
         "hoverlabel": {
          "namelength": 0
         },
         "hovertemplate": "Province/State=Quebec<br>Days Since First Case=%{x}<br>Confirmed=%{y}<br>HumAvg=%{marker.size}",
         "legendgroup": "Province/State=Quebec",
         "marker": {
          "color": "#00cc96",
          "size": [
           74.6,
           84.6,
           94.3,
           87.5,
           57,
           66.8,
           54.5,
           61.6,
           83.5,
           94.1,
           74.3,
           75.5,
           86.1,
           62.1,
           50.3,
           55.9,
           85,
           60.9,
           65.3,
           93.3,
           48.9,
           56.6,
           71.4,
           80.4,
           68.2,
           75.7
          ],
          "sizemode": "area",
          "sizeref": 0.24475000000000002,
          "symbol": "circle"
         },
         "mode": "markers",
         "name": "Province/State=Quebec",
         "showlegend": true,
         "type": "scatter",
         "x": [
          0,
          1,
          2,
          3,
          4,
          5,
          6,
          7,
          8,
          9,
          10,
          11,
          12,
          13,
          14,
          15,
          16,
          17,
          18,
          19,
          20,
          21,
          22,
          23,
          24,
          25
         ],
         "xaxis": "x",
         "y": [
          3,
          1,
          4,
          1,
          8,
          0,
          7,
          26,
          24,
          20,
          27,
          18,
          42,
          38,
          409,
          385,
          329,
          290,
          392,
          474,
          342,
          590,
          732,
          449,
          907,
          583
         ],
         "yaxis": "y"
        },
        {
         "hoverlabel": {
          "namelength": 0
         },
         "hovertemplate": "Province/State=Lombardia<br>Days Since First Case=%{x}<br>Confirmed=%{y}<br>HumAvg=%{marker.size}",
         "legendgroup": "Province/State=Lombardia",
         "marker": {
          "color": "#ab63fa",
          "size": [
           80.3,
           95.4,
           85.2,
           76.3,
           51.4,
           65.7,
           67.7,
           74.3,
           70.5,
           80.2,
           57,
           39,
           30.5,
           55,
           89.4,
           96.7,
           82.5,
           71.4,
           80.4,
           82.1,
           68.7,
           61.9,
           72.4,
           62.4,
           63.9,
           81.3,
           72.4,
           79.4,
           77.6,
           67.9,
           69.6,
           68.3,
           63.5,
           69.4,
           64.1,
           69.8,
           47.4,
           50.4,
           53.6,
           56.9
          ],
          "sizemode": "area",
          "sizeref": 0.24475000000000002,
          "symbol": "circle"
         },
         "mode": "markers",
         "name": "Province/State=Lombardia",
         "showlegend": true,
         "type": "scatter",
         "x": [
          0,
          1,
          2,
          3,
          4,
          5,
          6,
          7,
          8,
          9,
          10,
          11,
          12,
          13,
          14,
          15,
          16,
          17,
          18,
          19,
          20,
          21,
          22,
          23,
          24,
          25,
          26,
          27,
          28,
          29,
          30,
          31,
          32,
          33,
          34,
          35,
          36,
          37,
          38,
          39
         ],
         "xaxis": "x",
         "y": [
          172,
          68,
          18,
          145,
          128,
          84,
          369,
          270,
          266,
          300,
          431,
          361,
          808,
          769,
          1280,
          322,
          1489,
          1445,
          1095,
          1865,
          1587,
          1377,
          1571,
          1493,
          2171,
          2380,
          3251,
          1691,
          1555,
          1942,
          1643,
          2543,
          2409,
          2117,
          1592,
          1154,
          1047,
          1565,
          1292,
          1455
         ],
         "yaxis": "y"
        },
        {
         "hoverlabel": {
          "namelength": 0
         },
         "hovertemplate": "Province/State=Vienna<br>Days Since First Case=%{x}<br>Confirmed=%{y}<br>HumAvg=%{marker.size}",
         "legendgroup": "Province/State=Vienna",
         "marker": {
          "color": "#FFA15A",
          "size": [
           72.3,
           56.3,
           65.8,
           58.3,
           63,
           57.5,
           50.6,
           59.8,
           60.9,
           59.5,
           56.5,
           64.3,
           56.2,
           75.2,
           65.4,
           71.2,
           59.3,
           59.5,
           78.8,
           63.1,
           56.3,
           69,
           61.4,
           65.8,
           58,
           59.7,
           51.9,
           48.9,
           44.9,
           64,
           67.5,
           64,
           61.9,
           77.2,
           55.7,
           48,
           46.7,
           61.2,
           60.4
          ],
          "sizemode": "area",
          "sizeref": 0.24475000000000002,
          "symbol": "circle"
         },
         "mode": "markers",
         "name": "Province/State=Vienna",
         "showlegend": true,
         "type": "scatter",
         "x": [
          0,
          1,
          2,
          3,
          4,
          5,
          6,
          7,
          8,
          9,
          10,
          11,
          12,
          13,
          14,
          15,
          16,
          17,
          18,
          19,
          20,
          21,
          22,
          23,
          24,
          25,
          26,
          27,
          28,
          29,
          30,
          31,
          32,
          33,
          34,
          35,
          36,
          37,
          38
         ],
         "xaxis": "x",
         "y": [
          2,
          0,
          1,
          0,
          6,
          5,
          4,
          3,
          8,
          12,
          14,
          24,
          25,
          27,
          51,
          64,
          56,
          202,
          151,
          205,
          158,
          314,
          314,
          367,
          375,
          426,
          766,
          894,
          809,
          305,
          1321,
          748,
          614,
          517,
          830,
          562,
          531,
          418,
          395
         ],
         "yaxis": "y"
        },
        {
         "hoverlabel": {
          "namelength": 0
         },
         "hovertemplate": "Province/State=Stockholm<br>Days Since First Case=%{x}<br>Confirmed=%{y}<br>HumAvg=%{marker.size}",
         "legendgroup": "Province/State=Stockholm",
         "marker": {
          "color": "#19d3f3",
          "size": [
           78.6,
           83.2,
           79.7,
           82,
           91.6,
           96.2,
           94.6,
           97.9,
           92.5,
           91.8,
           77,
           82.1,
           87.8,
           76.7,
           79.9,
           91.5,
           90.9,
           89.3,
           81.9,
           75.6,
           84.6,
           74.7,
           84.1,
           85.5,
           87.5,
           74,
           70.1,
           75.3,
           89.3,
           75.4,
           77.4,
           64.2,
           63.6,
           83.9,
           63.5,
           85.8,
           74.3,
           91,
           88.9,
           83,
           93.3,
           97.1,
           93.7,
           84.9,
           96,
           84.6,
           81.6,
           92.8,
           85.8,
           84.5,
           59.5,
           47.1,
           68.3,
           72.8,
           76.5,
           81.9,
           65.2,
           72.9,
           62.4,
           69.8,
           59.6,
           54.3,
           34.2,
           46.1
          ],
          "sizemode": "area",
          "sizeref": 0.24475000000000002,
          "symbol": "circle"
         },
         "mode": "markers",
         "name": "Province/State=Stockholm",
         "showlegend": true,
         "type": "scatter",
         "x": [
          0,
          1,
          2,
          3,
          4,
          5,
          6,
          7,
          8,
          9,
          10,
          11,
          12,
          13,
          14,
          15,
          16,
          17,
          18,
          19,
          20,
          21,
          22,
          23,
          24,
          25,
          26,
          27,
          28,
          29,
          30,
          31,
          32,
          33,
          34,
          35,
          36,
          37,
          38,
          39,
          40,
          41,
          42,
          43,
          44,
          45,
          46,
          47,
          48,
          49,
          50,
          51,
          52,
          53,
          54,
          55,
          56,
          57,
          58,
          59,
          60,
          61,
          62,
          63
         ],
         "xaxis": "x",
         "y": [
          1,
          0,
          0,
          0,
          0,
          0,
          0,
          0,
          0,
          0,
          0,
          0,
          0,
          0,
          0,
          0,
          0,
          0,
          0,
          0,
          0,
          0,
          0,
          0,
          0,
          0,
          1,
          5,
          0,
          5,
          2,
          1,
          6,
          14,
          59,
          7,
          60,
          42,
          45,
          107,
          145,
          99,
          215,
          147,
          61,
          81,
          87,
          89,
          160,
          200,
          124,
          168,
          115,
          240,
          240,
          314,
          229,
          378,
          253,
          328,
          407,
          512,
          621,
          563
         ],
         "yaxis": "y"
        },
        {
         "hoverlabel": {
          "namelength": 0
         },
         "hovertemplate": "Province/State=Doha<br>Days Since First Case=%{x}<br>Confirmed=%{y}<br>HumAvg=%{marker.size}",
         "legendgroup": "Province/State=Doha",
         "marker": {
          "color": "#FF6692",
          "size": [
           62.6,
           74,
           88.1,
           70.3,
           64.8,
           47.9,
           52.6,
           56.7,
           65.7,
           72.5,
           70.1,
           45.9,
           47.3,
           53.8,
           63.7,
           64.8,
           54.9,
           51.2,
           58.7,
           62.2,
           64.9,
           64.7,
           56.3,
           54.6,
           61.6,
           71.9,
           69.1,
           66.3,
           62.8,
           72.6,
           62,
           36.7,
           41.9,
           50,
           62.6
          ],
          "sizemode": "area",
          "sizeref": 0.24475000000000002,
          "symbol": "circle"
         },
         "mode": "markers",
         "name": "Province/State=Doha",
         "showlegend": true,
         "type": "scatter",
         "x": [
          0,
          1,
          2,
          3,
          4,
          5,
          6,
          7,
          8,
          9,
          10,
          11,
          12,
          13,
          14,
          15,
          16,
          17,
          18,
          19,
          20,
          21,
          22,
          23,
          24,
          25,
          26,
          27,
          28,
          29,
          30,
          31,
          32,
          33,
          34
         ],
         "xaxis": "x",
         "y": [
          1,
          2,
          0,
          4,
          1,
          0,
          0,
          0,
          7,
          3,
          6,
          238,
          0,
          58,
          17,
          64,
          38,
          0,
          13,
          8,
          10,
          11,
          13,
          7,
          25,
          11,
          12,
          13,
          28,
          44,
          59,
          88,
          54,
          114,
          126
         ],
         "yaxis": "y"
        },
        {
         "hoverlabel": {
          "namelength": 0
         },
         "hovertemplate": "Province/State=Dubai<br>Days Since First Case=%{x}<br>Confirmed=%{y}<br>HumAvg=%{marker.size}",
         "legendgroup": "Province/State=Dubai",
         "marker": {
          "color": "#B6E880",
          "size": [
           59.6,
           56.3,
           62.8,
           66.5,
           59.8,
           55.7,
           56.3,
           57.2,
           58.5,
           59.6,
           65.5,
           56,
           62.1,
           59,
           53.6,
           63.7,
           73.8,
           73.2,
           64.6,
           53.5,
           59.1,
           64.3,
           53.8,
           57.8,
           59.3,
           70.4,
           58.5,
           33.1,
           36.3,
           46.9,
           43.2,
           58.5,
           67.9,
           64.1,
           53,
           43,
           50.7,
           57,
           65.3,
           69.8,
           69.8,
           60.5,
           66,
           56.4,
           61.2,
           57,
           51.4,
           51.5,
           65.3,
           42.8,
           44,
           58.9,
           50.6,
           31.5,
           28,
           48,
           58,
           43.4,
           45.4,
           46.6,
           69.2,
           72.9,
           44.1,
           53.4,
           62.2,
           63.1
          ],
          "sizemode": "area",
          "sizeref": 0.24475000000000002,
          "symbol": "circle"
         },
         "mode": "markers",
         "name": "Province/State=Dubai",
         "showlegend": true,
         "type": "scatter",
         "x": [
          0,
          1,
          2,
          3,
          4,
          5,
          6,
          7,
          8,
          9,
          10,
          11,
          12,
          13,
          14,
          15,
          16,
          17,
          18,
          19,
          20,
          21,
          22,
          23,
          24,
          25,
          26,
          27,
          28,
          29,
          30,
          31,
          32,
          33,
          34,
          35,
          36,
          37,
          38,
          39,
          40,
          41,
          42,
          43,
          44,
          45,
          46,
          47,
          48,
          49,
          50,
          51,
          52,
          53,
          54,
          55,
          56,
          57,
          58,
          59,
          60,
          61,
          62,
          63,
          64,
          65
         ],
         "xaxis": "x",
         "y": [
          4,
          0,
          0,
          0,
          1,
          0,
          0,
          0,
          0,
          0,
          2,
          0,
          1,
          0,
          0,
          0,
          0,
          0,
          1,
          0,
          0,
          0,
          0,
          0,
          4,
          0,
          0,
          0,
          0,
          0,
          6,
          2,
          0,
          0,
          6,
          0,
          2,
          0,
          16,
          0,
          0,
          29,
          0,
          11,
          0,
          0,
          13,
          0,
          0,
          15,
          27,
          0,
          13,
          0,
          45,
          50,
          85,
          0,
          72,
          63,
          102,
          41,
          53,
          150,
          210,
          240
         ],
         "yaxis": "y"
        },
        {
         "hoverlabel": {
          "namelength": 0
         },
         "hovertemplate": "Province/State=Dakar<br>Days Since First Case=%{x}<br>Confirmed=%{y}<br>HumAvg=%{marker.size}",
         "legendgroup": "Province/State=Dakar",
         "marker": {
          "color": "#FF97FF",
          "size": [
           86.5,
           77.8,
           34.7,
           39.9,
           49.9,
           64.2,
           72.3,
           72.7,
           60.7,
           50.5,
           75.7,
           80.3,
           81.8,
           81.5,
           78.7,
           78.9,
           67,
           71.2,
           64.1,
           69.4,
           79,
           82.8,
           76.4,
           83.9,
           81.4,
           77,
           76.4,
           74.3,
           79.9,
           75.4,
           77,
           83.3,
           85.3
          ],
          "sizemode": "area",
          "sizeref": 0.24475000000000002,
          "symbol": "circle"
         },
         "mode": "markers",
         "name": "Province/State=Dakar",
         "showlegend": true,
         "type": "scatter",
         "x": [
          0,
          1,
          2,
          3,
          4,
          5,
          6,
          7,
          8,
          9,
          10,
          11,
          12,
          13,
          14,
          15,
          16,
          17,
          18,
          19,
          20,
          21,
          22,
          23,
          24,
          25,
          26,
          27,
          28,
          29,
          30,
          31,
          32
         ],
         "xaxis": "x",
         "y": [
          1,
          1,
          2,
          0,
          0,
          0,
          0,
          0,
          0,
          0,
          0,
          6,
          0,
          14,
          0,
          2,
          5,
          0,
          7,
          9,
          20,
          12,
          7,
          13,
          6,
          14,
          11,
          12,
          20,
          13,
          15,
          5,
          12
         ],
         "yaxis": "y"
        }
       ],
       "layout": {
        "height": 600,
        "legend": {
         "itemsizing": "constant",
         "tracegroupgap": 0
        },
        "template": {
         "data": {
          "bar": [
           {
            "error_x": {
             "color": "#2a3f5f"
            },
            "error_y": {
             "color": "#2a3f5f"
            },
            "marker": {
             "line": {
              "color": "#E5ECF6",
              "width": 0.5
             }
            },
            "type": "bar"
           }
          ],
          "barpolar": [
           {
            "marker": {
             "line": {
              "color": "#E5ECF6",
              "width": 0.5
             }
            },
            "type": "barpolar"
           }
          ],
          "carpet": [
           {
            "aaxis": {
             "endlinecolor": "#2a3f5f",
             "gridcolor": "white",
             "linecolor": "white",
             "minorgridcolor": "white",
             "startlinecolor": "#2a3f5f"
            },
            "baxis": {
             "endlinecolor": "#2a3f5f",
             "gridcolor": "white",
             "linecolor": "white",
             "minorgridcolor": "white",
             "startlinecolor": "#2a3f5f"
            },
            "type": "carpet"
           }
          ],
          "choropleth": [
           {
            "colorbar": {
             "outlinewidth": 0,
             "ticks": ""
            },
            "type": "choropleth"
           }
          ],
          "contour": [
           {
            "colorbar": {
             "outlinewidth": 0,
             "ticks": ""
            },
            "colorscale": [
             [
              0,
              "#0d0887"
             ],
             [
              0.1111111111111111,
              "#46039f"
             ],
             [
              0.2222222222222222,
              "#7201a8"
             ],
             [
              0.3333333333333333,
              "#9c179e"
             ],
             [
              0.4444444444444444,
              "#bd3786"
             ],
             [
              0.5555555555555556,
              "#d8576b"
             ],
             [
              0.6666666666666666,
              "#ed7953"
             ],
             [
              0.7777777777777778,
              "#fb9f3a"
             ],
             [
              0.8888888888888888,
              "#fdca26"
             ],
             [
              1,
              "#f0f921"
             ]
            ],
            "type": "contour"
           }
          ],
          "contourcarpet": [
           {
            "colorbar": {
             "outlinewidth": 0,
             "ticks": ""
            },
            "type": "contourcarpet"
           }
          ],
          "heatmap": [
           {
            "colorbar": {
             "outlinewidth": 0,
             "ticks": ""
            },
            "colorscale": [
             [
              0,
              "#0d0887"
             ],
             [
              0.1111111111111111,
              "#46039f"
             ],
             [
              0.2222222222222222,
              "#7201a8"
             ],
             [
              0.3333333333333333,
              "#9c179e"
             ],
             [
              0.4444444444444444,
              "#bd3786"
             ],
             [
              0.5555555555555556,
              "#d8576b"
             ],
             [
              0.6666666666666666,
              "#ed7953"
             ],
             [
              0.7777777777777778,
              "#fb9f3a"
             ],
             [
              0.8888888888888888,
              "#fdca26"
             ],
             [
              1,
              "#f0f921"
             ]
            ],
            "type": "heatmap"
           }
          ],
          "heatmapgl": [
           {
            "colorbar": {
             "outlinewidth": 0,
             "ticks": ""
            },
            "colorscale": [
             [
              0,
              "#0d0887"
             ],
             [
              0.1111111111111111,
              "#46039f"
             ],
             [
              0.2222222222222222,
              "#7201a8"
             ],
             [
              0.3333333333333333,
              "#9c179e"
             ],
             [
              0.4444444444444444,
              "#bd3786"
             ],
             [
              0.5555555555555556,
              "#d8576b"
             ],
             [
              0.6666666666666666,
              "#ed7953"
             ],
             [
              0.7777777777777778,
              "#fb9f3a"
             ],
             [
              0.8888888888888888,
              "#fdca26"
             ],
             [
              1,
              "#f0f921"
             ]
            ],
            "type": "heatmapgl"
           }
          ],
          "histogram": [
           {
            "marker": {
             "colorbar": {
              "outlinewidth": 0,
              "ticks": ""
             }
            },
            "type": "histogram"
           }
          ],
          "histogram2d": [
           {
            "colorbar": {
             "outlinewidth": 0,
             "ticks": ""
            },
            "colorscale": [
             [
              0,
              "#0d0887"
             ],
             [
              0.1111111111111111,
              "#46039f"
             ],
             [
              0.2222222222222222,
              "#7201a8"
             ],
             [
              0.3333333333333333,
              "#9c179e"
             ],
             [
              0.4444444444444444,
              "#bd3786"
             ],
             [
              0.5555555555555556,
              "#d8576b"
             ],
             [
              0.6666666666666666,
              "#ed7953"
             ],
             [
              0.7777777777777778,
              "#fb9f3a"
             ],
             [
              0.8888888888888888,
              "#fdca26"
             ],
             [
              1,
              "#f0f921"
             ]
            ],
            "type": "histogram2d"
           }
          ],
          "histogram2dcontour": [
           {
            "colorbar": {
             "outlinewidth": 0,
             "ticks": ""
            },
            "colorscale": [
             [
              0,
              "#0d0887"
             ],
             [
              0.1111111111111111,
              "#46039f"
             ],
             [
              0.2222222222222222,
              "#7201a8"
             ],
             [
              0.3333333333333333,
              "#9c179e"
             ],
             [
              0.4444444444444444,
              "#bd3786"
             ],
             [
              0.5555555555555556,
              "#d8576b"
             ],
             [
              0.6666666666666666,
              "#ed7953"
             ],
             [
              0.7777777777777778,
              "#fb9f3a"
             ],
             [
              0.8888888888888888,
              "#fdca26"
             ],
             [
              1,
              "#f0f921"
             ]
            ],
            "type": "histogram2dcontour"
           }
          ],
          "mesh3d": [
           {
            "colorbar": {
             "outlinewidth": 0,
             "ticks": ""
            },
            "type": "mesh3d"
           }
          ],
          "parcoords": [
           {
            "line": {
             "colorbar": {
              "outlinewidth": 0,
              "ticks": ""
             }
            },
            "type": "parcoords"
           }
          ],
          "pie": [
           {
            "automargin": true,
            "type": "pie"
           }
          ],
          "scatter": [
           {
            "marker": {
             "colorbar": {
              "outlinewidth": 0,
              "ticks": ""
             }
            },
            "type": "scatter"
           }
          ],
          "scatter3d": [
           {
            "line": {
             "colorbar": {
              "outlinewidth": 0,
              "ticks": ""
             }
            },
            "marker": {
             "colorbar": {
              "outlinewidth": 0,
              "ticks": ""
             }
            },
            "type": "scatter3d"
           }
          ],
          "scattercarpet": [
           {
            "marker": {
             "colorbar": {
              "outlinewidth": 0,
              "ticks": ""
             }
            },
            "type": "scattercarpet"
           }
          ],
          "scattergeo": [
           {
            "marker": {
             "colorbar": {
              "outlinewidth": 0,
              "ticks": ""
             }
            },
            "type": "scattergeo"
           }
          ],
          "scattergl": [
           {
            "marker": {
             "colorbar": {
              "outlinewidth": 0,
              "ticks": ""
             }
            },
            "type": "scattergl"
           }
          ],
          "scattermapbox": [
           {
            "marker": {
             "colorbar": {
              "outlinewidth": 0,
              "ticks": ""
             }
            },
            "type": "scattermapbox"
           }
          ],
          "scatterpolar": [
           {
            "marker": {
             "colorbar": {
              "outlinewidth": 0,
              "ticks": ""
             }
            },
            "type": "scatterpolar"
           }
          ],
          "scatterpolargl": [
           {
            "marker": {
             "colorbar": {
              "outlinewidth": 0,
              "ticks": ""
             }
            },
            "type": "scatterpolargl"
           }
          ],
          "scatterternary": [
           {
            "marker": {
             "colorbar": {
              "outlinewidth": 0,
              "ticks": ""
             }
            },
            "type": "scatterternary"
           }
          ],
          "surface": [
           {
            "colorbar": {
             "outlinewidth": 0,
             "ticks": ""
            },
            "colorscale": [
             [
              0,
              "#0d0887"
             ],
             [
              0.1111111111111111,
              "#46039f"
             ],
             [
              0.2222222222222222,
              "#7201a8"
             ],
             [
              0.3333333333333333,
              "#9c179e"
             ],
             [
              0.4444444444444444,
              "#bd3786"
             ],
             [
              0.5555555555555556,
              "#d8576b"
             ],
             [
              0.6666666666666666,
              "#ed7953"
             ],
             [
              0.7777777777777778,
              "#fb9f3a"
             ],
             [
              0.8888888888888888,
              "#fdca26"
             ],
             [
              1,
              "#f0f921"
             ]
            ],
            "type": "surface"
           }
          ],
          "table": [
           {
            "cells": {
             "fill": {
              "color": "#EBF0F8"
             },
             "line": {
              "color": "white"
             }
            },
            "header": {
             "fill": {
              "color": "#C8D4E3"
             },
             "line": {
              "color": "white"
             }
            },
            "type": "table"
           }
          ]
         },
         "layout": {
          "annotationdefaults": {
           "arrowcolor": "#2a3f5f",
           "arrowhead": 0,
           "arrowwidth": 1
          },
          "coloraxis": {
           "colorbar": {
            "outlinewidth": 0,
            "ticks": ""
           }
          },
          "colorscale": {
           "diverging": [
            [
             0,
             "#8e0152"
            ],
            [
             0.1,
             "#c51b7d"
            ],
            [
             0.2,
             "#de77ae"
            ],
            [
             0.3,
             "#f1b6da"
            ],
            [
             0.4,
             "#fde0ef"
            ],
            [
             0.5,
             "#f7f7f7"
            ],
            [
             0.6,
             "#e6f5d0"
            ],
            [
             0.7,
             "#b8e186"
            ],
            [
             0.8,
             "#7fbc41"
            ],
            [
             0.9,
             "#4d9221"
            ],
            [
             1,
             "#276419"
            ]
           ],
           "sequential": [
            [
             0,
             "#0d0887"
            ],
            [
             0.1111111111111111,
             "#46039f"
            ],
            [
             0.2222222222222222,
             "#7201a8"
            ],
            [
             0.3333333333333333,
             "#9c179e"
            ],
            [
             0.4444444444444444,
             "#bd3786"
            ],
            [
             0.5555555555555556,
             "#d8576b"
            ],
            [
             0.6666666666666666,
             "#ed7953"
            ],
            [
             0.7777777777777778,
             "#fb9f3a"
            ],
            [
             0.8888888888888888,
             "#fdca26"
            ],
            [
             1,
             "#f0f921"
            ]
           ],
           "sequentialminus": [
            [
             0,
             "#0d0887"
            ],
            [
             0.1111111111111111,
             "#46039f"
            ],
            [
             0.2222222222222222,
             "#7201a8"
            ],
            [
             0.3333333333333333,
             "#9c179e"
            ],
            [
             0.4444444444444444,
             "#bd3786"
            ],
            [
             0.5555555555555556,
             "#d8576b"
            ],
            [
             0.6666666666666666,
             "#ed7953"
            ],
            [
             0.7777777777777778,
             "#fb9f3a"
            ],
            [
             0.8888888888888888,
             "#fdca26"
            ],
            [
             1,
             "#f0f921"
            ]
           ]
          },
          "colorway": [
           "#636efa",
           "#EF553B",
           "#00cc96",
           "#ab63fa",
           "#FFA15A",
           "#19d3f3",
           "#FF6692",
           "#B6E880",
           "#FF97FF",
           "#FECB52"
          ],
          "font": {
           "color": "#2a3f5f"
          },
          "geo": {
           "bgcolor": "white",
           "lakecolor": "white",
           "landcolor": "#E5ECF6",
           "showlakes": true,
           "showland": true,
           "subunitcolor": "white"
          },
          "hoverlabel": {
           "align": "left"
          },
          "hovermode": "closest",
          "mapbox": {
           "style": "light"
          },
          "paper_bgcolor": "white",
          "plot_bgcolor": "#E5ECF6",
          "polar": {
           "angularaxis": {
            "gridcolor": "white",
            "linecolor": "white",
            "ticks": ""
           },
           "bgcolor": "#E5ECF6",
           "radialaxis": {
            "gridcolor": "white",
            "linecolor": "white",
            "ticks": ""
           }
          },
          "scene": {
           "xaxis": {
            "backgroundcolor": "#E5ECF6",
            "gridcolor": "white",
            "gridwidth": 2,
            "linecolor": "white",
            "showbackground": true,
            "ticks": "",
            "zerolinecolor": "white"
           },
           "yaxis": {
            "backgroundcolor": "#E5ECF6",
            "gridcolor": "white",
            "gridwidth": 2,
            "linecolor": "white",
            "showbackground": true,
            "ticks": "",
            "zerolinecolor": "white"
           },
           "zaxis": {
            "backgroundcolor": "#E5ECF6",
            "gridcolor": "white",
            "gridwidth": 2,
            "linecolor": "white",
            "showbackground": true,
            "ticks": "",
            "zerolinecolor": "white"
           }
          },
          "shapedefaults": {
           "line": {
            "color": "#2a3f5f"
           }
          },
          "ternary": {
           "aaxis": {
            "gridcolor": "white",
            "linecolor": "white",
            "ticks": ""
           },
           "baxis": {
            "gridcolor": "white",
            "linecolor": "white",
            "ticks": ""
           },
           "bgcolor": "#E5ECF6",
           "caxis": {
            "gridcolor": "white",
            "linecolor": "white",
            "ticks": ""
           }
          },
          "title": {
           "x": 0.05
          },
          "xaxis": {
           "automargin": true,
           "gridcolor": "white",
           "linecolor": "white",
           "ticks": "",
           "title": {
            "standoff": 15
           },
           "zerolinecolor": "white",
           "zerolinewidth": 2
          },
          "yaxis": {
           "automargin": true,
           "gridcolor": "white",
           "linecolor": "white",
           "ticks": "",
           "title": {
            "standoff": 15
           },
           "zerolinecolor": "white",
           "zerolinewidth": 2
          }
         }
        },
        "title": {
         "text": "Number of New Infections by Day and Humidity Average"
        },
        "xaxis": {
         "anchor": "y",
         "domain": [
          0,
          1
         ],
         "title": {
          "text": "Days Since First Case"
         }
        },
        "yaxis": {
         "anchor": "x",
         "domain": [
          0,
          1
         ],
         "title": {
          "text": "Confirmed"
         }
        }
       }
      },
      "text/html": [
       "<div>\n",
       "        \n",
       "        \n",
       "            <div id=\"642b5180-7f00-4942-9483-73debfd1f314\" class=\"plotly-graph-div\" style=\"height:600px; width:100%;\"></div>\n",
       "            <script type=\"text/javascript\">\n",
       "                require([\"plotly\"], function(Plotly) {\n",
       "                    window.PLOTLYENV=window.PLOTLYENV || {};\n",
       "                    \n",
       "                if (document.getElementById(\"642b5180-7f00-4942-9483-73debfd1f314\")) {\n",
       "                    Plotly.newPlot(\n",
       "                        '642b5180-7f00-4942-9483-73debfd1f314',\n",
       "                        [{\"hoverlabel\": {\"namelength\": 0}, \"hovertemplate\": \"Province/State=New York<br>Days Since First Case=%{x}<br>Confirmed=%{y}<br>HumAvg=%{marker.size}\", \"legendgroup\": \"Province/State=New York\", \"marker\": {\"color\": \"#636efa\", \"size\": [51.1, 75.5, 44.8, 48.5, 74.7, 42.1, 27.6, 25.8, 46.8, 44.6, 72.5, 70.3, 34.5, 34.9, 48.9, 71.6, 44.7, 79.5, 74.8, 38.0, 39.8, 80.8, 64.1, 71.0, 57.6], \"sizemode\": \"area\", \"sizeref\": 0.24475000000000002, \"symbol\": \"circle\"}, \"mode\": \"markers\", \"name\": \"Province/State=New York\", \"showlegend\": true, \"type\": \"scatter\", \"x\": [0, 1, 2, 3, 4, 5, 6, 7, 8, 9, 10, 11, 12, 13, 14, 15, 16, 17, 18, 19, 20, 21, 22, 23, 24], \"xaxis\": \"x\", \"y\": [173, 47, 108, 93, 104, 207, 235, 739, 789, 2870, 2945, 3400, 4090, 5084, 4797, 5160, 7036, 6999, 7534, 7238, 7015, 9170, 8115, 8558, 10481], \"yaxis\": \"y\"}, {\"hoverlabel\": {\"namelength\": 0}, \"hovertemplate\": \"Province/State=Madrid<br>Days Since First Case=%{x}<br>Confirmed=%{y}<br>HumAvg=%{marker.size}\", \"legendgroup\": \"Province/State=Madrid\", \"marker\": {\"color\": \"#EF553B\", \"size\": [88.2, 93.8, 89.2, 92.3, 86.9, 83.7, 84.0, 83.4, 84.3, 89.3, 86.5, 78.0, 63.9, 83.8, 84.9, 92.1, 89.3, 91.3, 95.4, 92.8, 84.3, 87.4, 83.6, 80.2, 90.5, 76.7, 66.0, 68.0, 57.5, 58.8, 53.8, 57.4, 64.6, 50.3, 52.8, 57.2, 69.1, 76.2, 61.5, 69.1, 65.9, 66.1, 47.3, 56.4, 66.7, 53.7, 53.8, 61.0, 61.5, 59.6, 59.7, 65.1, 81.0, 78.8, 74.6, 67.5, 69.6, 83.6, 86.7, 84.7, 69.3, 62.4, 47.7], \"sizemode\": \"area\", \"sizeref\": 0.24475000000000002, \"symbol\": \"circle\"}, \"mode\": \"markers\", \"name\": \"Province/State=Madrid\", \"showlegend\": true, \"type\": \"scatter\", \"x\": [0, 1, 2, 3, 4, 5, 6, 7, 8, 9, 10, 11, 12, 13, 14, 15, 16, 17, 18, 19, 20, 21, 22, 23, 24, 25, 26, 27, 28, 29, 30, 31, 32, 33, 34, 35, 36, 37, 38, 39, 40, 41, 42, 43, 44, 45, 46, 47, 48, 49, 50, 51, 52, 53, 54, 55, 56, 57, 58, 59, 60, 61, 62], \"xaxis\": \"x\", \"y\": [1, 0, 0, 0, 0, 0, 0, 0, 1, 0, 0, 0, 0, 0, 0, 0, 0, 0, 0, 0, 0, 0, 0, 0, 4, 7, 2, 17, 13, 39, 36, 45, 57, 37, 141, 100, 173, 400, 622, 582, 0, 2955, 1159, 1407, 2144, 1806, 2162, 4053, 2447, 4964, 3229, 6533, 4749, 9630, 8271, 7933, 7516, 6875, 7846, 7967, 8195, 7947, 7134], \"yaxis\": \"y\"}, {\"hoverlabel\": {\"namelength\": 0}, \"hovertemplate\": \"Province/State=Quebec<br>Days Since First Case=%{x}<br>Confirmed=%{y}<br>HumAvg=%{marker.size}\", \"legendgroup\": \"Province/State=Quebec\", \"marker\": {\"color\": \"#00cc96\", \"size\": [74.6, 84.6, 94.3, 87.5, 57.0, 66.8, 54.5, 61.6, 83.5, 94.1, 74.3, 75.5, 86.1, 62.1, 50.3, 55.9, 85.0, 60.9, 65.3, 93.3, 48.9, 56.6, 71.4, 80.4, 68.2, 75.7], \"sizemode\": \"area\", \"sizeref\": 0.24475000000000002, \"symbol\": \"circle\"}, \"mode\": \"markers\", \"name\": \"Province/State=Quebec\", \"showlegend\": true, \"type\": \"scatter\", \"x\": [0, 1, 2, 3, 4, 5, 6, 7, 8, 9, 10, 11, 12, 13, 14, 15, 16, 17, 18, 19, 20, 21, 22, 23, 24, 25], \"xaxis\": \"x\", \"y\": [3, 1, 4, 1, 8, 0, 7, 26, 24, 20, 27, 18, 42, 38, 409, 385, 329, 290, 392, 474, 342, 590, 732, 449, 907, 583], \"yaxis\": \"y\"}, {\"hoverlabel\": {\"namelength\": 0}, \"hovertemplate\": \"Province/State=Lombardia<br>Days Since First Case=%{x}<br>Confirmed=%{y}<br>HumAvg=%{marker.size}\", \"legendgroup\": \"Province/State=Lombardia\", \"marker\": {\"color\": \"#ab63fa\", \"size\": [80.3, 95.4, 85.2, 76.3, 51.4, 65.7, 67.7, 74.3, 70.5, 80.2, 57.0, 39.0, 30.5, 55.0, 89.4, 96.7, 82.5, 71.4, 80.4, 82.1, 68.7, 61.9, 72.4, 62.4, 63.9, 81.3, 72.4, 79.4, 77.6, 67.9, 69.6, 68.3, 63.5, 69.4, 64.1, 69.8, 47.4, 50.4, 53.6, 56.9], \"sizemode\": \"area\", \"sizeref\": 0.24475000000000002, \"symbol\": \"circle\"}, \"mode\": \"markers\", \"name\": \"Province/State=Lombardia\", \"showlegend\": true, \"type\": \"scatter\", \"x\": [0, 1, 2, 3, 4, 5, 6, 7, 8, 9, 10, 11, 12, 13, 14, 15, 16, 17, 18, 19, 20, 21, 22, 23, 24, 25, 26, 27, 28, 29, 30, 31, 32, 33, 34, 35, 36, 37, 38, 39], \"xaxis\": \"x\", \"y\": [172, 68, 18, 145, 128, 84, 369, 270, 266, 300, 431, 361, 808, 769, 1280, 322, 1489, 1445, 1095, 1865, 1587, 1377, 1571, 1493, 2171, 2380, 3251, 1691, 1555, 1942, 1643, 2543, 2409, 2117, 1592, 1154, 1047, 1565, 1292, 1455], \"yaxis\": \"y\"}, {\"hoverlabel\": {\"namelength\": 0}, \"hovertemplate\": \"Province/State=Vienna<br>Days Since First Case=%{x}<br>Confirmed=%{y}<br>HumAvg=%{marker.size}\", \"legendgroup\": \"Province/State=Vienna\", \"marker\": {\"color\": \"#FFA15A\", \"size\": [72.3, 56.3, 65.8, 58.3, 63.0, 57.5, 50.6, 59.8, 60.9, 59.5, 56.5, 64.3, 56.2, 75.2, 65.4, 71.2, 59.3, 59.5, 78.8, 63.1, 56.3, 69.0, 61.4, 65.8, 58.0, 59.7, 51.9, 48.9, 44.9, 64.0, 67.5, 64.0, 61.9, 77.2, 55.7, 48.0, 46.7, 61.2, 60.4], \"sizemode\": \"area\", \"sizeref\": 0.24475000000000002, \"symbol\": \"circle\"}, \"mode\": \"markers\", \"name\": \"Province/State=Vienna\", \"showlegend\": true, \"type\": \"scatter\", \"x\": [0, 1, 2, 3, 4, 5, 6, 7, 8, 9, 10, 11, 12, 13, 14, 15, 16, 17, 18, 19, 20, 21, 22, 23, 24, 25, 26, 27, 28, 29, 30, 31, 32, 33, 34, 35, 36, 37, 38], \"xaxis\": \"x\", \"y\": [2, 0, 1, 0, 6, 5, 4, 3, 8, 12, 14, 24, 25, 27, 51, 64, 56, 202, 151, 205, 158, 314, 314, 367, 375, 426, 766, 894, 809, 305, 1321, 748, 614, 517, 830, 562, 531, 418, 395], \"yaxis\": \"y\"}, {\"hoverlabel\": {\"namelength\": 0}, \"hovertemplate\": \"Province/State=Stockholm<br>Days Since First Case=%{x}<br>Confirmed=%{y}<br>HumAvg=%{marker.size}\", \"legendgroup\": \"Province/State=Stockholm\", \"marker\": {\"color\": \"#19d3f3\", \"size\": [78.6, 83.2, 79.7, 82.0, 91.6, 96.2, 94.6, 97.9, 92.5, 91.8, 77.0, 82.1, 87.8, 76.7, 79.9, 91.5, 90.9, 89.3, 81.9, 75.6, 84.6, 74.7, 84.1, 85.5, 87.5, 74.0, 70.1, 75.3, 89.3, 75.4, 77.4, 64.2, 63.6, 83.9, 63.5, 85.8, 74.3, 91.0, 88.9, 83.0, 93.3, 97.1, 93.7, 84.9, 96.0, 84.6, 81.6, 92.8, 85.8, 84.5, 59.5, 47.1, 68.3, 72.8, 76.5, 81.9, 65.2, 72.9, 62.4, 69.8, 59.6, 54.3, 34.2, 46.1], \"sizemode\": \"area\", \"sizeref\": 0.24475000000000002, \"symbol\": \"circle\"}, \"mode\": \"markers\", \"name\": \"Province/State=Stockholm\", \"showlegend\": true, \"type\": \"scatter\", \"x\": [0, 1, 2, 3, 4, 5, 6, 7, 8, 9, 10, 11, 12, 13, 14, 15, 16, 17, 18, 19, 20, 21, 22, 23, 24, 25, 26, 27, 28, 29, 30, 31, 32, 33, 34, 35, 36, 37, 38, 39, 40, 41, 42, 43, 44, 45, 46, 47, 48, 49, 50, 51, 52, 53, 54, 55, 56, 57, 58, 59, 60, 61, 62, 63], \"xaxis\": \"x\", \"y\": [1, 0, 0, 0, 0, 0, 0, 0, 0, 0, 0, 0, 0, 0, 0, 0, 0, 0, 0, 0, 0, 0, 0, 0, 0, 0, 1, 5, 0, 5, 2, 1, 6, 14, 59, 7, 60, 42, 45, 107, 145, 99, 215, 147, 61, 81, 87, 89, 160, 200, 124, 168, 115, 240, 240, 314, 229, 378, 253, 328, 407, 512, 621, 563], \"yaxis\": \"y\"}, {\"hoverlabel\": {\"namelength\": 0}, \"hovertemplate\": \"Province/State=Doha<br>Days Since First Case=%{x}<br>Confirmed=%{y}<br>HumAvg=%{marker.size}\", \"legendgroup\": \"Province/State=Doha\", \"marker\": {\"color\": \"#FF6692\", \"size\": [62.6, 74.0, 88.1, 70.3, 64.8, 47.9, 52.6, 56.7, 65.7, 72.5, 70.1, 45.9, 47.3, 53.8, 63.7, 64.8, 54.9, 51.2, 58.7, 62.2, 64.9, 64.7, 56.3, 54.6, 61.6, 71.9, 69.1, 66.3, 62.8, 72.6, 62.0, 36.7, 41.9, 50.0, 62.6], \"sizemode\": \"area\", \"sizeref\": 0.24475000000000002, \"symbol\": \"circle\"}, \"mode\": \"markers\", \"name\": \"Province/State=Doha\", \"showlegend\": true, \"type\": \"scatter\", \"x\": [0, 1, 2, 3, 4, 5, 6, 7, 8, 9, 10, 11, 12, 13, 14, 15, 16, 17, 18, 19, 20, 21, 22, 23, 24, 25, 26, 27, 28, 29, 30, 31, 32, 33, 34], \"xaxis\": \"x\", \"y\": [1, 2, 0, 4, 1, 0, 0, 0, 7, 3, 6, 238, 0, 58, 17, 64, 38, 0, 13, 8, 10, 11, 13, 7, 25, 11, 12, 13, 28, 44, 59, 88, 54, 114, 126], \"yaxis\": \"y\"}, {\"hoverlabel\": {\"namelength\": 0}, \"hovertemplate\": \"Province/State=Dubai<br>Days Since First Case=%{x}<br>Confirmed=%{y}<br>HumAvg=%{marker.size}\", \"legendgroup\": \"Province/State=Dubai\", \"marker\": {\"color\": \"#B6E880\", \"size\": [59.6, 56.3, 62.8, 66.5, 59.8, 55.7, 56.3, 57.2, 58.5, 59.6, 65.5, 56.0, 62.1, 59.0, 53.6, 63.7, 73.8, 73.2, 64.6, 53.5, 59.1, 64.3, 53.8, 57.8, 59.3, 70.4, 58.5, 33.1, 36.3, 46.9, 43.2, 58.5, 67.9, 64.1, 53.0, 43.0, 50.7, 57.0, 65.3, 69.8, 69.8, 60.5, 66.0, 56.4, 61.2, 57.0, 51.4, 51.5, 65.3, 42.8, 44.0, 58.9, 50.6, 31.5, 28.0, 48.0, 58.0, 43.4, 45.4, 46.6, 69.2, 72.9, 44.1, 53.4, 62.2, 63.1], \"sizemode\": \"area\", \"sizeref\": 0.24475000000000002, \"symbol\": \"circle\"}, \"mode\": \"markers\", \"name\": \"Province/State=Dubai\", \"showlegend\": true, \"type\": \"scatter\", \"x\": [0, 1, 2, 3, 4, 5, 6, 7, 8, 9, 10, 11, 12, 13, 14, 15, 16, 17, 18, 19, 20, 21, 22, 23, 24, 25, 26, 27, 28, 29, 30, 31, 32, 33, 34, 35, 36, 37, 38, 39, 40, 41, 42, 43, 44, 45, 46, 47, 48, 49, 50, 51, 52, 53, 54, 55, 56, 57, 58, 59, 60, 61, 62, 63, 64, 65], \"xaxis\": \"x\", \"y\": [4, 0, 0, 0, 1, 0, 0, 0, 0, 0, 2, 0, 1, 0, 0, 0, 0, 0, 1, 0, 0, 0, 0, 0, 4, 0, 0, 0, 0, 0, 6, 2, 0, 0, 6, 0, 2, 0, 16, 0, 0, 29, 0, 11, 0, 0, 13, 0, 0, 15, 27, 0, 13, 0, 45, 50, 85, 0, 72, 63, 102, 41, 53, 150, 210, 240], \"yaxis\": \"y\"}, {\"hoverlabel\": {\"namelength\": 0}, \"hovertemplate\": \"Province/State=Dakar<br>Days Since First Case=%{x}<br>Confirmed=%{y}<br>HumAvg=%{marker.size}\", \"legendgroup\": \"Province/State=Dakar\", \"marker\": {\"color\": \"#FF97FF\", \"size\": [86.5, 77.8, 34.7, 39.9, 49.9, 64.2, 72.3, 72.7, 60.7, 50.5, 75.7, 80.3, 81.8, 81.5, 78.7, 78.9, 67.0, 71.2, 64.1, 69.4, 79.0, 82.8, 76.4, 83.9, 81.4, 77.0, 76.4, 74.3, 79.9, 75.4, 77.0, 83.3, 85.3], \"sizemode\": \"area\", \"sizeref\": 0.24475000000000002, \"symbol\": \"circle\"}, \"mode\": \"markers\", \"name\": \"Province/State=Dakar\", \"showlegend\": true, \"type\": \"scatter\", \"x\": [0, 1, 2, 3, 4, 5, 6, 7, 8, 9, 10, 11, 12, 13, 14, 15, 16, 17, 18, 19, 20, 21, 22, 23, 24, 25, 26, 27, 28, 29, 30, 31, 32], \"xaxis\": \"x\", \"y\": [1, 1, 2, 0, 0, 0, 0, 0, 0, 0, 0, 6, 0, 14, 0, 2, 5, 0, 7, 9, 20, 12, 7, 13, 6, 14, 11, 12, 20, 13, 15, 5, 12], \"yaxis\": \"y\"}],\n",
       "                        {\"height\": 600, \"legend\": {\"itemsizing\": \"constant\", \"tracegroupgap\": 0}, \"template\": {\"data\": {\"bar\": [{\"error_x\": {\"color\": \"#2a3f5f\"}, \"error_y\": {\"color\": \"#2a3f5f\"}, \"marker\": {\"line\": {\"color\": \"#E5ECF6\", \"width\": 0.5}}, \"type\": \"bar\"}], \"barpolar\": [{\"marker\": {\"line\": {\"color\": \"#E5ECF6\", \"width\": 0.5}}, \"type\": \"barpolar\"}], \"carpet\": [{\"aaxis\": {\"endlinecolor\": \"#2a3f5f\", \"gridcolor\": \"white\", \"linecolor\": \"white\", \"minorgridcolor\": \"white\", \"startlinecolor\": \"#2a3f5f\"}, \"baxis\": {\"endlinecolor\": \"#2a3f5f\", \"gridcolor\": \"white\", \"linecolor\": \"white\", \"minorgridcolor\": \"white\", \"startlinecolor\": \"#2a3f5f\"}, \"type\": \"carpet\"}], \"choropleth\": [{\"colorbar\": {\"outlinewidth\": 0, \"ticks\": \"\"}, \"type\": \"choropleth\"}], \"contour\": [{\"colorbar\": {\"outlinewidth\": 0, \"ticks\": \"\"}, \"colorscale\": [[0.0, \"#0d0887\"], [0.1111111111111111, \"#46039f\"], [0.2222222222222222, \"#7201a8\"], [0.3333333333333333, \"#9c179e\"], [0.4444444444444444, \"#bd3786\"], [0.5555555555555556, \"#d8576b\"], [0.6666666666666666, \"#ed7953\"], [0.7777777777777778, \"#fb9f3a\"], [0.8888888888888888, \"#fdca26\"], [1.0, \"#f0f921\"]], \"type\": \"contour\"}], \"contourcarpet\": [{\"colorbar\": {\"outlinewidth\": 0, \"ticks\": \"\"}, \"type\": \"contourcarpet\"}], \"heatmap\": [{\"colorbar\": {\"outlinewidth\": 0, \"ticks\": \"\"}, \"colorscale\": [[0.0, \"#0d0887\"], [0.1111111111111111, \"#46039f\"], [0.2222222222222222, \"#7201a8\"], [0.3333333333333333, \"#9c179e\"], [0.4444444444444444, \"#bd3786\"], [0.5555555555555556, \"#d8576b\"], [0.6666666666666666, \"#ed7953\"], [0.7777777777777778, \"#fb9f3a\"], [0.8888888888888888, \"#fdca26\"], [1.0, \"#f0f921\"]], \"type\": \"heatmap\"}], \"heatmapgl\": [{\"colorbar\": {\"outlinewidth\": 0, \"ticks\": \"\"}, \"colorscale\": [[0.0, \"#0d0887\"], [0.1111111111111111, \"#46039f\"], [0.2222222222222222, \"#7201a8\"], [0.3333333333333333, \"#9c179e\"], [0.4444444444444444, \"#bd3786\"], [0.5555555555555556, \"#d8576b\"], [0.6666666666666666, \"#ed7953\"], [0.7777777777777778, \"#fb9f3a\"], [0.8888888888888888, \"#fdca26\"], [1.0, \"#f0f921\"]], \"type\": \"heatmapgl\"}], \"histogram\": [{\"marker\": {\"colorbar\": {\"outlinewidth\": 0, \"ticks\": \"\"}}, \"type\": \"histogram\"}], \"histogram2d\": [{\"colorbar\": {\"outlinewidth\": 0, \"ticks\": \"\"}, \"colorscale\": [[0.0, \"#0d0887\"], [0.1111111111111111, \"#46039f\"], [0.2222222222222222, \"#7201a8\"], [0.3333333333333333, \"#9c179e\"], [0.4444444444444444, \"#bd3786\"], [0.5555555555555556, \"#d8576b\"], [0.6666666666666666, \"#ed7953\"], [0.7777777777777778, \"#fb9f3a\"], [0.8888888888888888, \"#fdca26\"], [1.0, \"#f0f921\"]], \"type\": \"histogram2d\"}], \"histogram2dcontour\": [{\"colorbar\": {\"outlinewidth\": 0, \"ticks\": \"\"}, \"colorscale\": [[0.0, \"#0d0887\"], [0.1111111111111111, \"#46039f\"], [0.2222222222222222, \"#7201a8\"], [0.3333333333333333, \"#9c179e\"], [0.4444444444444444, \"#bd3786\"], [0.5555555555555556, \"#d8576b\"], [0.6666666666666666, \"#ed7953\"], [0.7777777777777778, \"#fb9f3a\"], [0.8888888888888888, \"#fdca26\"], [1.0, \"#f0f921\"]], \"type\": \"histogram2dcontour\"}], \"mesh3d\": [{\"colorbar\": {\"outlinewidth\": 0, \"ticks\": \"\"}, \"type\": \"mesh3d\"}], \"parcoords\": [{\"line\": {\"colorbar\": {\"outlinewidth\": 0, \"ticks\": \"\"}}, \"type\": \"parcoords\"}], \"pie\": [{\"automargin\": true, \"type\": \"pie\"}], \"scatter\": [{\"marker\": {\"colorbar\": {\"outlinewidth\": 0, \"ticks\": \"\"}}, \"type\": \"scatter\"}], \"scatter3d\": [{\"line\": {\"colorbar\": {\"outlinewidth\": 0, \"ticks\": \"\"}}, \"marker\": {\"colorbar\": {\"outlinewidth\": 0, \"ticks\": \"\"}}, \"type\": \"scatter3d\"}], \"scattercarpet\": [{\"marker\": {\"colorbar\": {\"outlinewidth\": 0, \"ticks\": \"\"}}, \"type\": \"scattercarpet\"}], \"scattergeo\": [{\"marker\": {\"colorbar\": {\"outlinewidth\": 0, \"ticks\": \"\"}}, \"type\": \"scattergeo\"}], \"scattergl\": [{\"marker\": {\"colorbar\": {\"outlinewidth\": 0, \"ticks\": \"\"}}, \"type\": \"scattergl\"}], \"scattermapbox\": [{\"marker\": {\"colorbar\": {\"outlinewidth\": 0, \"ticks\": \"\"}}, \"type\": \"scattermapbox\"}], \"scatterpolar\": [{\"marker\": {\"colorbar\": {\"outlinewidth\": 0, \"ticks\": \"\"}}, \"type\": \"scatterpolar\"}], \"scatterpolargl\": [{\"marker\": {\"colorbar\": {\"outlinewidth\": 0, \"ticks\": \"\"}}, \"type\": \"scatterpolargl\"}], \"scatterternary\": [{\"marker\": {\"colorbar\": {\"outlinewidth\": 0, \"ticks\": \"\"}}, \"type\": \"scatterternary\"}], \"surface\": [{\"colorbar\": {\"outlinewidth\": 0, \"ticks\": \"\"}, \"colorscale\": [[0.0, \"#0d0887\"], [0.1111111111111111, \"#46039f\"], [0.2222222222222222, \"#7201a8\"], [0.3333333333333333, \"#9c179e\"], [0.4444444444444444, \"#bd3786\"], [0.5555555555555556, \"#d8576b\"], [0.6666666666666666, \"#ed7953\"], [0.7777777777777778, \"#fb9f3a\"], [0.8888888888888888, \"#fdca26\"], [1.0, \"#f0f921\"]], \"type\": \"surface\"}], \"table\": [{\"cells\": {\"fill\": {\"color\": \"#EBF0F8\"}, \"line\": {\"color\": \"white\"}}, \"header\": {\"fill\": {\"color\": \"#C8D4E3\"}, \"line\": {\"color\": \"white\"}}, \"type\": \"table\"}]}, \"layout\": {\"annotationdefaults\": {\"arrowcolor\": \"#2a3f5f\", \"arrowhead\": 0, \"arrowwidth\": 1}, \"coloraxis\": {\"colorbar\": {\"outlinewidth\": 0, \"ticks\": \"\"}}, \"colorscale\": {\"diverging\": [[0, \"#8e0152\"], [0.1, \"#c51b7d\"], [0.2, \"#de77ae\"], [0.3, \"#f1b6da\"], [0.4, \"#fde0ef\"], [0.5, \"#f7f7f7\"], [0.6, \"#e6f5d0\"], [0.7, \"#b8e186\"], [0.8, \"#7fbc41\"], [0.9, \"#4d9221\"], [1, \"#276419\"]], \"sequential\": [[0.0, \"#0d0887\"], [0.1111111111111111, \"#46039f\"], [0.2222222222222222, \"#7201a8\"], [0.3333333333333333, \"#9c179e\"], [0.4444444444444444, \"#bd3786\"], [0.5555555555555556, \"#d8576b\"], [0.6666666666666666, \"#ed7953\"], [0.7777777777777778, \"#fb9f3a\"], [0.8888888888888888, \"#fdca26\"], [1.0, \"#f0f921\"]], \"sequentialminus\": [[0.0, \"#0d0887\"], [0.1111111111111111, \"#46039f\"], [0.2222222222222222, \"#7201a8\"], [0.3333333333333333, \"#9c179e\"], [0.4444444444444444, \"#bd3786\"], [0.5555555555555556, \"#d8576b\"], [0.6666666666666666, \"#ed7953\"], [0.7777777777777778, \"#fb9f3a\"], [0.8888888888888888, \"#fdca26\"], [1.0, \"#f0f921\"]]}, \"colorway\": [\"#636efa\", \"#EF553B\", \"#00cc96\", \"#ab63fa\", \"#FFA15A\", \"#19d3f3\", \"#FF6692\", \"#B6E880\", \"#FF97FF\", \"#FECB52\"], \"font\": {\"color\": \"#2a3f5f\"}, \"geo\": {\"bgcolor\": \"white\", \"lakecolor\": \"white\", \"landcolor\": \"#E5ECF6\", \"showlakes\": true, \"showland\": true, \"subunitcolor\": \"white\"}, \"hoverlabel\": {\"align\": \"left\"}, \"hovermode\": \"closest\", \"mapbox\": {\"style\": \"light\"}, \"paper_bgcolor\": \"white\", \"plot_bgcolor\": \"#E5ECF6\", \"polar\": {\"angularaxis\": {\"gridcolor\": \"white\", \"linecolor\": \"white\", \"ticks\": \"\"}, \"bgcolor\": \"#E5ECF6\", \"radialaxis\": {\"gridcolor\": \"white\", \"linecolor\": \"white\", \"ticks\": \"\"}}, \"scene\": {\"xaxis\": {\"backgroundcolor\": \"#E5ECF6\", \"gridcolor\": \"white\", \"gridwidth\": 2, \"linecolor\": \"white\", \"showbackground\": true, \"ticks\": \"\", \"zerolinecolor\": \"white\"}, \"yaxis\": {\"backgroundcolor\": \"#E5ECF6\", \"gridcolor\": \"white\", \"gridwidth\": 2, \"linecolor\": \"white\", \"showbackground\": true, \"ticks\": \"\", \"zerolinecolor\": \"white\"}, \"zaxis\": {\"backgroundcolor\": \"#E5ECF6\", \"gridcolor\": \"white\", \"gridwidth\": 2, \"linecolor\": \"white\", \"showbackground\": true, \"ticks\": \"\", \"zerolinecolor\": \"white\"}}, \"shapedefaults\": {\"line\": {\"color\": \"#2a3f5f\"}}, \"ternary\": {\"aaxis\": {\"gridcolor\": \"white\", \"linecolor\": \"white\", \"ticks\": \"\"}, \"baxis\": {\"gridcolor\": \"white\", \"linecolor\": \"white\", \"ticks\": \"\"}, \"bgcolor\": \"#E5ECF6\", \"caxis\": {\"gridcolor\": \"white\", \"linecolor\": \"white\", \"ticks\": \"\"}}, \"title\": {\"x\": 0.05}, \"xaxis\": {\"automargin\": true, \"gridcolor\": \"white\", \"linecolor\": \"white\", \"ticks\": \"\", \"title\": {\"standoff\": 15}, \"zerolinecolor\": \"white\", \"zerolinewidth\": 2}, \"yaxis\": {\"automargin\": true, \"gridcolor\": \"white\", \"linecolor\": \"white\", \"ticks\": \"\", \"title\": {\"standoff\": 15}, \"zerolinecolor\": \"white\", \"zerolinewidth\": 2}}}, \"title\": {\"text\": \"Number of New Infections by Day and Humidity Average\"}, \"xaxis\": {\"anchor\": \"y\", \"domain\": [0.0, 1.0], \"title\": {\"text\": \"Days Since First Case\"}}, \"yaxis\": {\"anchor\": \"x\", \"domain\": [0.0, 1.0], \"title\": {\"text\": \"Confirmed\"}}},\n",
       "                        {\"responsive\": true}\n",
       "                    ).then(function(){\n",
       "                            \n",
       "var gd = document.getElementById('642b5180-7f00-4942-9483-73debfd1f314');\n",
       "var x = new MutationObserver(function (mutations, observer) {{\n",
       "        var display = window.getComputedStyle(gd).display;\n",
       "        if (!display || display === 'none') {{\n",
       "            console.log([gd, 'removed!']);\n",
       "            Plotly.purge(gd);\n",
       "            observer.disconnect();\n",
       "        }}\n",
       "}});\n",
       "\n",
       "// Listen for the removal of the full notebook cells\n",
       "var notebookContainer = gd.closest('#notebook-container');\n",
       "if (notebookContainer) {{\n",
       "    x.observe(notebookContainer, {childList: true});\n",
       "}}\n",
       "\n",
       "// Listen for the clearing of the current output cell\n",
       "var outputEl = gd.closest('.output');\n",
       "if (outputEl) {{\n",
       "    x.observe(outputEl, {childList: true});\n",
       "}}\n",
       "\n",
       "                        })\n",
       "                };\n",
       "                });\n",
       "            </script>\n",
       "        </div>"
      ]
     },
     "metadata": {},
     "output_type": "display_data"
    }
   ],
   "source": [
    "# PLot the number of infections in relationship with the Days since the first infection and the Humidity Avg\n",
    "px.scatter(covid_weather, x=\"Days Since First Case\", \n",
    "           y=\"Confirmed\", size=\"HumAvg\",color=\"Province/State\",\n",
    "          title=\"Number of New Infections by Day and Humidity Average\")"
   ]
  },
  {
   "cell_type": "markdown",
   "metadata": {},
   "source": [
    "Again, if we want to compare the number of cases between regions it's necessary to consider the same number of days since the first infection. The  table below shows that the maximum number of days that we can consider is 25 (New York). "
   ]
  },
  {
   "cell_type": "code",
   "execution_count": 176,
   "metadata": {},
   "outputs": [
    {
     "data": {
      "text/html": [
       "<div>\n",
       "<style scoped>\n",
       "    .dataframe tbody tr th:only-of-type {\n",
       "        vertical-align: middle;\n",
       "    }\n",
       "\n",
       "    .dataframe tbody tr th {\n",
       "        vertical-align: top;\n",
       "    }\n",
       "\n",
       "    .dataframe thead th {\n",
       "        text-align: right;\n",
       "    }\n",
       "</style>\n",
       "<table border=\"1\" class=\"dataframe\">\n",
       "  <thead>\n",
       "    <tr style=\"text-align: right;\">\n",
       "      <th></th>\n",
       "      <th>HumAvg</th>\n",
       "    </tr>\n",
       "    <tr>\n",
       "      <th>Province/State</th>\n",
       "      <th></th>\n",
       "    </tr>\n",
       "  </thead>\n",
       "  <tbody>\n",
       "    <tr>\n",
       "      <th>Dakar</th>\n",
       "      <td>33</td>\n",
       "    </tr>\n",
       "    <tr>\n",
       "      <th>Doha</th>\n",
       "      <td>35</td>\n",
       "    </tr>\n",
       "    <tr>\n",
       "      <th>Dubai</th>\n",
       "      <td>66</td>\n",
       "    </tr>\n",
       "    <tr>\n",
       "      <th>Lombardia</th>\n",
       "      <td>40</td>\n",
       "    </tr>\n",
       "    <tr>\n",
       "      <th>Madrid</th>\n",
       "      <td>63</td>\n",
       "    </tr>\n",
       "    <tr>\n",
       "      <th>New York</th>\n",
       "      <td>25</td>\n",
       "    </tr>\n",
       "    <tr>\n",
       "      <th>Quebec</th>\n",
       "      <td>26</td>\n",
       "    </tr>\n",
       "    <tr>\n",
       "      <th>Stockholm</th>\n",
       "      <td>64</td>\n",
       "    </tr>\n",
       "    <tr>\n",
       "      <th>Vienna</th>\n",
       "      <td>39</td>\n",
       "    </tr>\n",
       "  </tbody>\n",
       "</table>\n",
       "</div>"
      ],
      "text/plain": [
       "                HumAvg\n",
       "Province/State        \n",
       "Dakar               33\n",
       "Doha                35\n",
       "Dubai               66\n",
       "Lombardia           40\n",
       "Madrid              63\n",
       "New York            25\n",
       "Quebec              26\n",
       "Stockholm           64\n",
       "Vienna              39"
      ]
     },
     "execution_count": 176,
     "metadata": {},
     "output_type": "execute_result"
    }
   ],
   "source": [
    "# Number of cases by Province/State\n",
    "covid_weather.pivot_table(index=\"Province/State\",values='HumAvg',aggfunc='count')"
   ]
  },
  {
   "cell_type": "markdown",
   "metadata": {},
   "source": [
    "The next chunk of code transforms or data frame and now we only include the first 25 observations by region. Just to be sure that everything looks as was planned, I printed the minimum and maximum day after the first case by Province/State."
   ]
  },
  {
   "cell_type": "code",
   "execution_count": 45,
   "metadata": {},
   "outputs": [
    {
     "data": {
      "text/html": [
       "<div>\n",
       "<style scoped>\n",
       "    .dataframe tbody tr th:only-of-type {\n",
       "        vertical-align: middle;\n",
       "    }\n",
       "\n",
       "    .dataframe tbody tr th {\n",
       "        vertical-align: top;\n",
       "    }\n",
       "\n",
       "    .dataframe thead tr th {\n",
       "        text-align: left;\n",
       "    }\n",
       "\n",
       "    .dataframe thead tr:last-of-type th {\n",
       "        text-align: right;\n",
       "    }\n",
       "</style>\n",
       "<table border=\"1\" class=\"dataframe\">\n",
       "  <thead>\n",
       "    <tr>\n",
       "      <th></th>\n",
       "      <th>min</th>\n",
       "      <th>max</th>\n",
       "    </tr>\n",
       "    <tr>\n",
       "      <th></th>\n",
       "      <th>Days Since First Case</th>\n",
       "      <th>Days Since First Case</th>\n",
       "    </tr>\n",
       "    <tr>\n",
       "      <th>Province/State</th>\n",
       "      <th></th>\n",
       "      <th></th>\n",
       "    </tr>\n",
       "  </thead>\n",
       "  <tbody>\n",
       "    <tr>\n",
       "      <th>Dakar</th>\n",
       "      <td>0</td>\n",
       "      <td>24</td>\n",
       "    </tr>\n",
       "    <tr>\n",
       "      <th>Doha</th>\n",
       "      <td>0</td>\n",
       "      <td>24</td>\n",
       "    </tr>\n",
       "    <tr>\n",
       "      <th>Dubai</th>\n",
       "      <td>0</td>\n",
       "      <td>24</td>\n",
       "    </tr>\n",
       "    <tr>\n",
       "      <th>Lombardia</th>\n",
       "      <td>0</td>\n",
       "      <td>24</td>\n",
       "    </tr>\n",
       "    <tr>\n",
       "      <th>Madrid</th>\n",
       "      <td>0</td>\n",
       "      <td>24</td>\n",
       "    </tr>\n",
       "    <tr>\n",
       "      <th>New York</th>\n",
       "      <td>0</td>\n",
       "      <td>24</td>\n",
       "    </tr>\n",
       "    <tr>\n",
       "      <th>Quebec</th>\n",
       "      <td>0</td>\n",
       "      <td>24</td>\n",
       "    </tr>\n",
       "    <tr>\n",
       "      <th>Stockholm</th>\n",
       "      <td>0</td>\n",
       "      <td>24</td>\n",
       "    </tr>\n",
       "    <tr>\n",
       "      <th>Vienna</th>\n",
       "      <td>0</td>\n",
       "      <td>24</td>\n",
       "    </tr>\n",
       "  </tbody>\n",
       "</table>\n",
       "</div>"
      ],
      "text/plain": [
       "                                 min                   max\n",
       "               Days Since First Case Days Since First Case\n",
       "Province/State                                            \n",
       "Dakar                              0                    24\n",
       "Doha                               0                    24\n",
       "Dubai                              0                    24\n",
       "Lombardia                          0                    24\n",
       "Madrid                             0                    24\n",
       "New York                           0                    24\n",
       "Quebec                             0                    24\n",
       "Stockholm                          0                    24\n",
       "Vienna                             0                    24"
      ]
     },
     "execution_count": 45,
     "metadata": {},
     "output_type": "execute_result"
    }
   ],
   "source": [
    "# Reduce each group to only the first 25 observations\n",
    "reduced_data=covid_weather.loc[(covid_weather['Days Since First Case']>=0) & \n",
    "                 (covid_weather['Days Since First Case']<=24),:]\n",
    "reduced_data.pivot_table(index='Province/State',values='Days Since First Case',aggfunc=['min','max'])"
   ]
  },
  {
   "cell_type": "markdown",
   "metadata": {},
   "source": [
    "The faster way to prove the existence of differences in the distribution of the `HumAvg` between regions (`Province/State`) is to use an analysis of variance ([ANOVA](https://en.wikipedia.org/wiki/Analysis_of_variance)). One of the key assumptions of this test is the homogeneity of the variance ([homoscedasticity](https://en.wikipedia.org/wiki/Homoscedasticity)), and a good way to prove this is using the [Levene's Tests](https://en.wikipedia.org/wiki/Levene%27s_test). Under the null hypothesis, this test assumes the equality of the variance while the alternative hypothesis is that the variance are different. Again, I am going to use a critical value $\\alpha=0.05$."
   ]
  },
  {
   "cell_type": "code",
   "execution_count": 177,
   "metadata": {},
   "outputs": [],
   "source": [
    "# Create a list of 1-D arrays with the information of the Average Humidity.  \n",
    "data = [reduced_data.loc[ids, 'HumAvg'].values for ids in \n",
    "        reduced_data.groupby('Province/State').groups.values()]"
   ]
  },
  {
   "cell_type": "code",
   "execution_count": 178,
   "metadata": {},
   "outputs": [
    {
     "name": "stdout",
     "output_type": "stream",
     "text": [
      "LeveneResult(statistic=7.524914343656738, pvalue=7.474531583844797e-09)\n"
     ]
    }
   ],
   "source": [
    "# Run the Levene's test for the homeostasis of the variance\n",
    "from scipy import stats\n",
    "print(stats.levene(*data))"
   ]
  },
  {
   "cell_type": "markdown",
   "metadata": {},
   "source": [
    "The p-value is smaller than 0.05, so we reject the null hypothesis ==> There are differences in the variance between groups ==> We can\\'t use ANOVA. The alternative is to use a [Kruskal-Wallis H hypothesis test](https://en.wikipedia.org/wiki/Kruskal%E2%80%93Wallis_one-way_analysis_of_variance), which is the non-parametric version of ANOVA."
   ]
  },
  {
   "cell_type": "code",
   "execution_count": 179,
   "metadata": {},
   "outputs": [
    {
     "data": {
      "text/plain": [
       "KruskalResult(statistic=107.55533795280314, pvalue=1.2099119778068317e-19)"
      ]
     },
     "execution_count": 179,
     "metadata": {},
     "output_type": "execute_result"
    }
   ],
   "source": [
    "# Kruskal-Wallis H hypothesis test (analysis of the variance)\n",
    "stats.kruskal(*data)"
   ]
  },
  {
   "cell_type": "markdown",
   "metadata": {},
   "source": [
    "The p-value is in the order of $10^{-19}$ ==> Reject the null hypothesis that the population medians of all of the groups are equal, and as consequence, exist differences in the humidity between cities. Now, we need to do a post hoc test to see which groups are different. For this, I am going to use [Dunn's tests](https://www.tandfonline.com/doi/abs/10.1080/00401706.1964.10490181) as a post hoc with a [Bonferroni correction](https://en.wikipedia.org/wiki/Bonferroni_correction) of the p-value, and this is justified because:\n",
    "* Dunn's test employs the same ranking than the Kruskal-Wallis test.\n",
    "* Dunn's test employs the pooled variance implied by the null hypothesis of the Kruskal-Wallis test. See [here](https://en.wikipedia.org/wiki/Kruskal%E2%80%93Wallis_one-way_analysis_of_variance#cite_note-Dunn-5) for more information.    \n",
    "Note that the Bonferroni correction is necessary because we are doing multiple comparisons between groups."
   ]
  },
  {
   "cell_type": "code",
   "execution_count": 181,
   "metadata": {},
   "outputs": [],
   "source": [
    "# Use the library scikit_posthocs to the posthoc test\n",
    "import scikit_posthocs as sp\n",
    "result=sp.posthoc_dunn(reduced_data,val_col='HumAvg',p_adjust='bonferroni',group_col='Province/State')"
   ]
  },
  {
   "cell_type": "markdown",
   "metadata": {},
   "source": [
    "The next heatmap shows the results of the post hoc test, and if we take into account our previous study about the differences between the number of new infections, we can infer that the humidity doesn't have any influence on the spread of the virus. For example, in the first 25 days of infection, New York had 195 times more cases than Doha and 7922 times that Dubai, but our test revealed that don't exist statistical differences between the humidity of these regions. On the other hand, there is a significant difference between the humidity in Madrid and Dakar but as we analyzed in the previous section, there are no differences between the distribution of the new infections of these two regions.   \n",
    "> Based on these results, I think that the humidity is not an influencing environmental factor in the spread of the virus."
   ]
  },
  {
   "cell_type": "code",
   "execution_count": 50,
   "metadata": {},
   "outputs": [
    {
     "data": {
      "image/png": "[encoded data removed]",
      "text/plain": [
       "<Figure size 432x288 with 2 Axes>"
      ]
     },
     "metadata": {
      "needs_background": "light"
     },
     "output_type": "display_data"
    }
   ],
   "source": [
    "# Plot the results as a heatmap\n",
    "sp.sign_plot(result);"
   ]
  },
  {
   "cell_type": "markdown",
   "metadata": {},
   "source": [
    "### Coronavirus vs Pressure\n",
    "<a id='coronavirus_vs_pressure'></a>\n",
    "\n",
    "According to [Gay-Lussac's law](https://en.wikipedia.org/wiki/Gay-Lussac%27s_law) the pressure and the temperatures are directly proportional to each other, so, if the temperature increase, the pressure increase, and vice-versa. Some good examples and explanations are available [here](https://www.enotes.com/homework-help/what-relationship-between-air-temperature-air-162931).\n",
    "> \"An easy way to understand this concept is by comparing car tires in the winter and car tires in the summer. In the summer the air is a lot warmer so the molecules are moving around a lot. The tire expands and you not need as much air because the pressure in the tires is high enough. In the winter, when the air is cold, the molecules are moving very slowly. Many people need to add more air to their tires because there is not enough pressure.\"    \n",
    "\n",
    "So, if these two variables are correlated and we analyzed the temperature, there is no reason to analyze the pressure, right? Maybe, but no soo fast! There is another atmospheric relationship that we don't talk yet and it is that the [pressure drops as altitude increases](https://www.nationalgeographic.org/encyclopedia/atmospheric-pressure/), and as the pressure decrease the amount of oxygen also decreases. Now, do you think that it's valid to study the relationship between the altitude of the province or states as a factor in the spread of the virus? It seems unlikely that this could be a key factor but at least we can get out of the doubt.\n",
    "\n",
    "The altitude in feet and meters of our 9 `Province/State` are included in the next table.\n",
    "\n",
    "| Province/State | Altitude     |\n",
    "|----------------|--------------|\n",
    "| New York       | 33' (10m)    |\n",
    "| Madrid         | 2188' (667m) |\n",
    "| Doha           | 33' (10m)    |\n",
    "| Dakar          | 72' (22m)    |\n",
    "| Dubai          | 52' (16m)    |\n",
    "| Lombardia      | 390' (120m)  |\n",
    "| Quebec         | 322' (98m)   |\n",
    "| Stockholm      | 62' (19m)    |\n",
    "| Vienna         | 2273' (350m) |\n",
    "\n",
    "The region with more altitude is Madrid followed by Vienna and Lombardia,  while New York, Doha, and Dubai have very close altitudes. The case of Madrid is interesting because we know that this city is one of the three with more cases worldwide. Fig. _\"Boxplot Pressure by Province/Stats\"_ shows that as was expected, Madrid has a significantly lower pressure than the other regions. So, if the pressure given the altitude is a factor in the spread of the virus, we should expect that the number of infections in Madrid will be greater (lower) than each of the other regions."
   ]
  },
  {
   "cell_type": "code",
   "execution_count": 182,
   "metadata": {},
   "outputs": [
    {
     "data": {
      "application/vnd.plotly.v1+json": {
       "config": {
        "plotlyServerURL": "https://plot.ly"
       },
       "data": [
        {
         "alignmentgroup": "True",
         "hoverlabel": {
          "namelength": 0
         },
         "hovertemplate": "Province/State=%{x}<br>Pressure_Avg=%{y}",
         "legendgroup": "",
         "marker": {
          "color": "#636efa"
         },
         "name": "",
         "notched": false,
         "offsetgroup": "",
         "orientation": "v",
         "showlegend": false,
         "type": "box",
         "x": [
          "New York",
          "New York",
          "New York",
          "New York",
          "New York",
          "New York",
          "New York",
          "New York",
          "New York",
          "New York",
          "New York",
          "New York",
          "New York",
          "New York",
          "New York",
          "New York",
          "New York",
          "New York",
          "New York",
          "New York",
          "New York",
          "New York",
          "New York",
          "New York",
          "New York",
          "Madrid",
          "Madrid",
          "Madrid",
          "Madrid",
          "Madrid",
          "Madrid",
          "Madrid",
          "Madrid",
          "Madrid",
          "Madrid",
          "Madrid",
          "Madrid",
          "Madrid",
          "Madrid",
          "Madrid",
          "Madrid",
          "Madrid",
          "Madrid",
          "Madrid",
          "Madrid",
          "Madrid",
          "Madrid",
          "Madrid",
          "Madrid",
          "Madrid",
          "Madrid",
          "Madrid",
          "Madrid",
          "Madrid",
          "Madrid",
          "Madrid",
          "Madrid",
          "Madrid",
          "Madrid",
          "Madrid",
          "Madrid",
          "Madrid",
          "Madrid",
          "Madrid",
          "Madrid",
          "Madrid",
          "Madrid",
          "Madrid",
          "Madrid",
          "Madrid",
          "Madrid",
          "Madrid",
          "Madrid",
          "Madrid",
          "Madrid",
          "Madrid",
          "Madrid",
          "Madrid",
          "Madrid",
          "Madrid",
          "Madrid",
          "Madrid",
          "Madrid",
          "Madrid",
          "Madrid",
          "Madrid",
          "Madrid",
          "Madrid",
          "Quebec",
          "Quebec",
          "Quebec",
          "Quebec",
          "Quebec",
          "Quebec",
          "Quebec",
          "Quebec",
          "Quebec",
          "Quebec",
          "Quebec",
          "Quebec",
          "Quebec",
          "Quebec",
          "Quebec",
          "Quebec",
          "Quebec",
          "Quebec",
          "Quebec",
          "Quebec",
          "Quebec",
          "Quebec",
          "Quebec",
          "Quebec",
          "Quebec",
          "Quebec",
          "Lombardia",
          "Lombardia",
          "Lombardia",
          "Lombardia",
          "Lombardia",
          "Lombardia",
          "Lombardia",
          "Lombardia",
          "Lombardia",
          "Lombardia",
          "Lombardia",
          "Lombardia",
          "Lombardia",
          "Lombardia",
          "Lombardia",
          "Lombardia",
          "Lombardia",
          "Lombardia",
          "Lombardia",
          "Lombardia",
          "Lombardia",
          "Lombardia",
          "Lombardia",
          "Lombardia",
          "Lombardia",
          "Lombardia",
          "Lombardia",
          "Lombardia",
          "Lombardia",
          "Lombardia",
          "Lombardia",
          "Lombardia",
          "Lombardia",
          "Lombardia",
          "Lombardia",
          "Lombardia",
          "Lombardia",
          "Lombardia",
          "Lombardia",
          "Lombardia",
          "Vienna",
          "Vienna",
          "Vienna",
          "Vienna",
          "Vienna",
          "Vienna",
          "Vienna",
          "Vienna",
          "Vienna",
          "Vienna",
          "Vienna",
          "Vienna",
          "Vienna",
          "Vienna",
          "Vienna",
          "Vienna",
          "Vienna",
          "Vienna",
          "Vienna",
          "Vienna",
          "Vienna",
          "Vienna",
          "Vienna",
          "Vienna",
          "Vienna",
          "Vienna",
          "Vienna",
          "Vienna",
          "Vienna",
          "Vienna",
          "Vienna",
          "Vienna",
          "Vienna",
          "Vienna",
          "Vienna",
          "Vienna",
          "Vienna",
          "Vienna",
          "Vienna",
          "Stockholm",
          "Stockholm",
          "Stockholm",
          "Stockholm",
          "Stockholm",
          "Stockholm",
          "Stockholm",
          "Stockholm",
          "Stockholm",
          "Stockholm",
          "Stockholm",
          "Stockholm",
          "Stockholm",
          "Stockholm",
          "Stockholm",
          "Stockholm",
          "Stockholm",
          "Stockholm",
          "Stockholm",
          "Stockholm",
          "Stockholm",
          "Stockholm",
          "Stockholm",
          "Stockholm",
          "Stockholm",
          "Stockholm",
          "Stockholm",
          "Stockholm",
          "Stockholm",
          "Stockholm",
          "Stockholm",
          "Stockholm",
          "Stockholm",
          "Stockholm",
          "Stockholm",
          "Stockholm",
          "Stockholm",
          "Stockholm",
          "Stockholm",
          "Stockholm",
          "Stockholm",
          "Stockholm",
          "Stockholm",
          "Stockholm",
          "Stockholm",
          "Stockholm",
          "Stockholm",
          "Stockholm",
          "Stockholm",
          "Stockholm",
          "Stockholm",
          "Stockholm",
          "Stockholm",
          "Stockholm",
          "Stockholm",
          "Stockholm",
          "Stockholm",
          "Stockholm",
          "Stockholm",
          "Stockholm",
          "Stockholm",
          "Stockholm",
          "Stockholm",
          "Stockholm",
          "Doha",
          "Doha",
          "Doha",
          "Doha",
          "Doha",
          "Doha",
          "Doha",
          "Doha",
          "Doha",
          "Doha",
          "Doha",
          "Doha",
          "Doha",
          "Doha",
          "Doha",
          "Doha",
          "Doha",
          "Doha",
          "Doha",
          "Doha",
          "Doha",
          "Doha",
          "Doha",
          "Doha",
          "Doha",
          "Doha",
          "Doha",
          "Doha",
          "Doha",
          "Doha",
          "Doha",
          "Doha",
          "Doha",
          "Doha",
          "Doha",
          "Dubai",
          "Dubai",
          "Dubai",
          "Dubai",
          "Dubai",
          "Dubai",
          "Dubai",
          "Dubai",
          "Dubai",
          "Dubai",
          "Dubai",
          "Dubai",
          "Dubai",
          "Dubai",
          "Dubai",
          "Dubai",
          "Dubai",
          "Dubai",
          "Dubai",
          "Dubai",
          "Dubai",
          "Dubai",
          "Dubai",
          "Dubai",
          "Dubai",
          "Dubai",
          "Dubai",
          "Dubai",
          "Dubai",
          "Dubai",
          "Dubai",
          "Dubai",
          "Dubai",
          "Dubai",
          "Dubai",
          "Dubai",
          "Dubai",
          "Dubai",
          "Dubai",
          "Dubai",
          "Dubai",
          "Dubai",
          "Dubai",
          "Dubai",
          "Dubai",
          "Dubai",
          "Dubai",
          "Dubai",
          "Dubai",
          "Dubai",
          "Dubai",
          "Dubai",
          "Dubai",
          "Dubai",
          "Dubai",
          "Dubai",
          "Dubai",
          "Dubai",
          "Dubai",
          "Dubai",
          "Dubai",
          "Dubai",
          "Dubai",
          "Dubai",
          "Dubai",
          "Dubai",
          "Dakar",
          "Dakar",
          "Dakar",
          "Dakar",
          "Dakar",
          "Dakar",
          "Dakar",
          "Dakar",
          "Dakar",
          "Dakar",
          "Dakar",
          "Dakar",
          "Dakar",
          "Dakar",
          "Dakar",
          "Dakar",
          "Dakar",
          "Dakar",
          "Dakar",
          "Dakar",
          "Dakar",
          "Dakar",
          "Dakar",
          "Dakar",
          "Dakar",
          "Dakar",
          "Dakar",
          "Dakar",
          "Dakar",
          "Dakar",
          "Dakar",
          "Dakar",
          "Dakar"
         ],
         "x0": " ",
         "xaxis": "x",
         "y": [
          29.9,
          29.6,
          29.7,
          30.1,
          29.9,
          30.2,
          30.4,
          30.3,
          30,
          30.1,
          30.1,
          29.9,
          30.3,
          30.4,
          30.5,
          30.2,
          30.4,
          30.2,
          29.9,
          30.2,
          30.6,
          30.2,
          30.1,
          30.1,
          29.9,
          28,
          27.9,
          28,
          28.1,
          28.1,
          28.1,
          28.1,
          28.1,
          28.1,
          28.3,
          28.3,
          28.3,
          28.2,
          28.1,
          28.1,
          28.1,
          28.3,
          28.3,
          28.2,
          28.1,
          28.1,
          28.2,
          28.2,
          28.2,
          28.2,
          28.3,
          28.3,
          28.1,
          28.2,
          28.3,
          28.4,
          28.2,
          28,
          28,
          28.1,
          28,
          27.8,
          27.8,
          27.7,
          27.9,
          28,
          27.8,
          27.9,
          28.1,
          28.1,
          28.1,
          28.2,
          28.1,
          28,
          27.9,
          28,
          27.8,
          27.8,
          28.1,
          28.1,
          28,
          27.9,
          27.8,
          27.8,
          27.9,
          27.9,
          27.9,
          27.7,
          29.7,
          29.5,
          29.4,
          29,
          29.7,
          29.9,
          30,
          29.9,
          30,
          29.6,
          29.9,
          30,
          29.5,
          29.7,
          30.3,
          30.3,
          29.7,
          30.1,
          30.1,
          29.3,
          30,
          30.4,
          30.1,
          29.9,
          29.9,
          29.6,
          30,
          29.9,
          29.8,
          29.8,
          29.8,
          29.8,
          30.1,
          29.9,
          29.7,
          29.4,
          29.2,
          29.4,
          29.6,
          29.6,
          29.3,
          29.1,
          29.1,
          29.5,
          29.4,
          28.6,
          29.5,
          29.7,
          29.6,
          29.6,
          29.7,
          29.7,
          29.6,
          29.7,
          29.9,
          29.9,
          30,
          30,
          29.9,
          29.8,
          29.6,
          29.7,
          29.9,
          29.9,
          29.8,
          29.6,
          29.4,
          29.6,
          29.5,
          29.6,
          29.6,
          29.7,
          29.4,
          29.4,
          29,
          28.9,
          29,
          29.2,
          29.1,
          29,
          28.8,
          28.9,
          29.2,
          29.1,
          28.9,
          29.3,
          29.5,
          29.3,
          29.3,
          29.3,
          29.3,
          29.4,
          29.5,
          29.7,
          29.6,
          29.7,
          29.7,
          29.6,
          29.5,
          29.5,
          29.7,
          29.8,
          29.8,
          29.7,
          29.6,
          29.9,
          29.6,
          29.7,
          29.6,
          29.6,
          29.3,
          29.2,
          29.3,
          29.3,
          29,
          29,
          29.4,
          29.6,
          29.9,
          30,
          30.2,
          30,
          29.3,
          28.4,
          28.7,
          28.9,
          29.4,
          29.9,
          29.8,
          29.1,
          29.1,
          29.3,
          29.5,
          29.7,
          29.4,
          29.1,
          29.1,
          29.5,
          29.3,
          29.2,
          29.4,
          29.5,
          29.4,
          29,
          29.3,
          29.6,
          29.5,
          29.5,
          29.6,
          29.8,
          29.7,
          29.6,
          29.4,
          29,
          28.9,
          29.4,
          30,
          29.8,
          29.8,
          29.9,
          29.7,
          29.9,
          30.2,
          30.5,
          30.7,
          30.5,
          30.4,
          30.3,
          30.3,
          29.9,
          30,
          30,
          29.9,
          29.8,
          29.9,
          30,
          30,
          29.9,
          29.8,
          29.9,
          30,
          30,
          29.9,
          29.9,
          29.9,
          29.9,
          29.9,
          29.9,
          30,
          30,
          30,
          29.9,
          29.8,
          29.9,
          29.9,
          29.8,
          29.8,
          29.8,
          29.7,
          29.7,
          29.9,
          29.9,
          29.9,
          29.8,
          30,
          30,
          30,
          30,
          30.1,
          30,
          30.1,
          30.1,
          30.1,
          30.1,
          30,
          30,
          30.1,
          30.1,
          30,
          30.1,
          30.1,
          30.1,
          30,
          30,
          29.9,
          30,
          30.2,
          30.2,
          30.1,
          30.1,
          30,
          30,
          30,
          29.9,
          29.9,
          29.9,
          30,
          30,
          30,
          29.9,
          29.9,
          30,
          29.9,
          29.9,
          29.9,
          29.9,
          29.9,
          29.9,
          29.9,
          29.9,
          29.9,
          29.9,
          29.9,
          29.9,
          30,
          30,
          30,
          29.9,
          29.9,
          29.9,
          29.9,
          29.9,
          29.8,
          29.8,
          29.8,
          29.7,
          29.9,
          29.9,
          29.9,
          29.9,
          29.8,
          29.8,
          29.7,
          29.7,
          29.8,
          29.8,
          29.8,
          29.8,
          29.8,
          29.8,
          31,
          29.8,
          29.8,
          29.7,
          29.7,
          29.8,
          29.7,
          29.7,
          29.7,
          29.8,
          29.8,
          29.8,
          29.8,
          29.8,
          29.8,
          29.8,
          29.8,
          29.8,
          29.8,
          29.8,
          29.9,
          29.8,
          29.8
         ],
         "y0": " ",
         "yaxis": "y"
        }
       ],
       "layout": {
        "boxmode": "group",
        "height": 600,
        "legend": {
         "tracegroupgap": 0
        },
        "template": {
         "data": {
          "bar": [
           {
            "error_x": {
             "color": "#2a3f5f"
            },
            "error_y": {
             "color": "#2a3f5f"
            },
            "marker": {
             "line": {
              "color": "#E5ECF6",
              "width": 0.5
             }
            },
            "type": "bar"
           }
          ],
          "barpolar": [
           {
            "marker": {
             "line": {
              "color": "#E5ECF6",
              "width": 0.5
             }
            },
            "type": "barpolar"
           }
          ],
          "carpet": [
           {
            "aaxis": {
             "endlinecolor": "#2a3f5f",
             "gridcolor": "white",
             "linecolor": "white",
             "minorgridcolor": "white",
             "startlinecolor": "#2a3f5f"
            },
            "baxis": {
             "endlinecolor": "#2a3f5f",
             "gridcolor": "white",
             "linecolor": "white",
             "minorgridcolor": "white",
             "startlinecolor": "#2a3f5f"
            },
            "type": "carpet"
           }
          ],
          "choropleth": [
           {
            "colorbar": {
             "outlinewidth": 0,
             "ticks": ""
            },
            "type": "choropleth"
           }
          ],
          "contour": [
           {
            "colorbar": {
             "outlinewidth": 0,
             "ticks": ""
            },
            "colorscale": [
             [
              0,
              "#0d0887"
             ],
             [
              0.1111111111111111,
              "#46039f"
             ],
             [
              0.2222222222222222,
              "#7201a8"
             ],
             [
              0.3333333333333333,
              "#9c179e"
             ],
             [
              0.4444444444444444,
              "#bd3786"
             ],
             [
              0.5555555555555556,
              "#d8576b"
             ],
             [
              0.6666666666666666,
              "#ed7953"
             ],
             [
              0.7777777777777778,
              "#fb9f3a"
             ],
             [
              0.8888888888888888,
              "#fdca26"
             ],
             [
              1,
              "#f0f921"
             ]
            ],
            "type": "contour"
           }
          ],
          "contourcarpet": [
           {
            "colorbar": {
             "outlinewidth": 0,
             "ticks": ""
            },
            "type": "contourcarpet"
           }
          ],
          "heatmap": [
           {
            "colorbar": {
             "outlinewidth": 0,
             "ticks": ""
            },
            "colorscale": [
             [
              0,
              "#0d0887"
             ],
             [
              0.1111111111111111,
              "#46039f"
             ],
             [
              0.2222222222222222,
              "#7201a8"
             ],
             [
              0.3333333333333333,
              "#9c179e"
             ],
             [
              0.4444444444444444,
              "#bd3786"
             ],
             [
              0.5555555555555556,
              "#d8576b"
             ],
             [
              0.6666666666666666,
              "#ed7953"
             ],
             [
              0.7777777777777778,
              "#fb9f3a"
             ],
             [
              0.8888888888888888,
              "#fdca26"
             ],
             [
              1,
              "#f0f921"
             ]
            ],
            "type": "heatmap"
           }
          ],
          "heatmapgl": [
           {
            "colorbar": {
             "outlinewidth": 0,
             "ticks": ""
            },
            "colorscale": [
             [
              0,
              "#0d0887"
             ],
             [
              0.1111111111111111,
              "#46039f"
             ],
             [
              0.2222222222222222,
              "#7201a8"
             ],
             [
              0.3333333333333333,
              "#9c179e"
             ],
             [
              0.4444444444444444,
              "#bd3786"
             ],
             [
              0.5555555555555556,
              "#d8576b"
             ],
             [
              0.6666666666666666,
              "#ed7953"
             ],
             [
              0.7777777777777778,
              "#fb9f3a"
             ],
             [
              0.8888888888888888,
              "#fdca26"
             ],
             [
              1,
              "#f0f921"
             ]
            ],
            "type": "heatmapgl"
           }
          ],
          "histogram": [
           {
            "marker": {
             "colorbar": {
              "outlinewidth": 0,
              "ticks": ""
             }
            },
            "type": "histogram"
           }
          ],
          "histogram2d": [
           {
            "colorbar": {
             "outlinewidth": 0,
             "ticks": ""
            },
            "colorscale": [
             [
              0,
              "#0d0887"
             ],
             [
              0.1111111111111111,
              "#46039f"
             ],
             [
              0.2222222222222222,
              "#7201a8"
             ],
             [
              0.3333333333333333,
              "#9c179e"
             ],
             [
              0.4444444444444444,
              "#bd3786"
             ],
             [
              0.5555555555555556,
              "#d8576b"
             ],
             [
              0.6666666666666666,
              "#ed7953"
             ],
             [
              0.7777777777777778,
              "#fb9f3a"
             ],
             [
              0.8888888888888888,
              "#fdca26"
             ],
             [
              1,
              "#f0f921"
             ]
            ],
            "type": "histogram2d"
           }
          ],
          "histogram2dcontour": [
           {
            "colorbar": {
             "outlinewidth": 0,
             "ticks": ""
            },
            "colorscale": [
             [
              0,
              "#0d0887"
             ],
             [
              0.1111111111111111,
              "#46039f"
             ],
             [
              0.2222222222222222,
              "#7201a8"
             ],
             [
              0.3333333333333333,
              "#9c179e"
             ],
             [
              0.4444444444444444,
              "#bd3786"
             ],
             [
              0.5555555555555556,
              "#d8576b"
             ],
             [
              0.6666666666666666,
              "#ed7953"
             ],
             [
              0.7777777777777778,
              "#fb9f3a"
             ],
             [
              0.8888888888888888,
              "#fdca26"
             ],
             [
              1,
              "#f0f921"
             ]
            ],
            "type": "histogram2dcontour"
           }
          ],
          "mesh3d": [
           {
            "colorbar": {
             "outlinewidth": 0,
             "ticks": ""
            },
            "type": "mesh3d"
           }
          ],
          "parcoords": [
           {
            "line": {
             "colorbar": {
              "outlinewidth": 0,
              "ticks": ""
             }
            },
            "type": "parcoords"
           }
          ],
          "pie": [
           {
            "automargin": true,
            "type": "pie"
           }
          ],
          "scatter": [
           {
            "marker": {
             "colorbar": {
              "outlinewidth": 0,
              "ticks": ""
             }
            },
            "type": "scatter"
           }
          ],
          "scatter3d": [
           {
            "line": {
             "colorbar": {
              "outlinewidth": 0,
              "ticks": ""
             }
            },
            "marker": {
             "colorbar": {
              "outlinewidth": 0,
              "ticks": ""
             }
            },
            "type": "scatter3d"
           }
          ],
          "scattercarpet": [
           {
            "marker": {
             "colorbar": {
              "outlinewidth": 0,
              "ticks": ""
             }
            },
            "type": "scattercarpet"
           }
          ],
          "scattergeo": [
           {
            "marker": {
             "colorbar": {
              "outlinewidth": 0,
              "ticks": ""
             }
            },
            "type": "scattergeo"
           }
          ],
          "scattergl": [
           {
            "marker": {
             "colorbar": {
              "outlinewidth": 0,
              "ticks": ""
             }
            },
            "type": "scattergl"
           }
          ],
          "scattermapbox": [
           {
            "marker": {
             "colorbar": {
              "outlinewidth": 0,
              "ticks": ""
             }
            },
            "type": "scattermapbox"
           }
          ],
          "scatterpolar": [
           {
            "marker": {
             "colorbar": {
              "outlinewidth": 0,
              "ticks": ""
             }
            },
            "type": "scatterpolar"
           }
          ],
          "scatterpolargl": [
           {
            "marker": {
             "colorbar": {
              "outlinewidth": 0,
              "ticks": ""
             }
            },
            "type": "scatterpolargl"
           }
          ],
          "scatterternary": [
           {
            "marker": {
             "colorbar": {
              "outlinewidth": 0,
              "ticks": ""
             }
            },
            "type": "scatterternary"
           }
          ],
          "surface": [
           {
            "colorbar": {
             "outlinewidth": 0,
             "ticks": ""
            },
            "colorscale": [
             [
              0,
              "#0d0887"
             ],
             [
              0.1111111111111111,
              "#46039f"
             ],
             [
              0.2222222222222222,
              "#7201a8"
             ],
             [
              0.3333333333333333,
              "#9c179e"
             ],
             [
              0.4444444444444444,
              "#bd3786"
             ],
             [
              0.5555555555555556,
              "#d8576b"
             ],
             [
              0.6666666666666666,
              "#ed7953"
             ],
             [
              0.7777777777777778,
              "#fb9f3a"
             ],
             [
              0.8888888888888888,
              "#fdca26"
             ],
             [
              1,
              "#f0f921"
             ]
            ],
            "type": "surface"
           }
          ],
          "table": [
           {
            "cells": {
             "fill": {
              "color": "#EBF0F8"
             },
             "line": {
              "color": "white"
             }
            },
            "header": {
             "fill": {
              "color": "#C8D4E3"
             },
             "line": {
              "color": "white"
             }
            },
            "type": "table"
           }
          ]
         },
         "layout": {
          "annotationdefaults": {
           "arrowcolor": "#2a3f5f",
           "arrowhead": 0,
           "arrowwidth": 1
          },
          "coloraxis": {
           "colorbar": {
            "outlinewidth": 0,
            "ticks": ""
           }
          },
          "colorscale": {
           "diverging": [
            [
             0,
             "#8e0152"
            ],
            [
             0.1,
             "#c51b7d"
            ],
            [
             0.2,
             "#de77ae"
            ],
            [
             0.3,
             "#f1b6da"
            ],
            [
             0.4,
             "#fde0ef"
            ],
            [
             0.5,
             "#f7f7f7"
            ],
            [
             0.6,
             "#e6f5d0"
            ],
            [
             0.7,
             "#b8e186"
            ],
            [
             0.8,
             "#7fbc41"
            ],
            [
             0.9,
             "#4d9221"
            ],
            [
             1,
             "#276419"
            ]
           ],
           "sequential": [
            [
             0,
             "#0d0887"
            ],
            [
             0.1111111111111111,
             "#46039f"
            ],
            [
             0.2222222222222222,
             "#7201a8"
            ],
            [
             0.3333333333333333,
             "#9c179e"
            ],
            [
             0.4444444444444444,
             "#bd3786"
            ],
            [
             0.5555555555555556,
             "#d8576b"
            ],
            [
             0.6666666666666666,
             "#ed7953"
            ],
            [
             0.7777777777777778,
             "#fb9f3a"
            ],
            [
             0.8888888888888888,
             "#fdca26"
            ],
            [
             1,
             "#f0f921"
            ]
           ],
           "sequentialminus": [
            [
             0,
             "#0d0887"
            ],
            [
             0.1111111111111111,
             "#46039f"
            ],
            [
             0.2222222222222222,
             "#7201a8"
            ],
            [
             0.3333333333333333,
             "#9c179e"
            ],
            [
             0.4444444444444444,
             "#bd3786"
            ],
            [
             0.5555555555555556,
             "#d8576b"
            ],
            [
             0.6666666666666666,
             "#ed7953"
            ],
            [
             0.7777777777777778,
             "#fb9f3a"
            ],
            [
             0.8888888888888888,
             "#fdca26"
            ],
            [
             1,
             "#f0f921"
            ]
           ]
          },
          "colorway": [
           "#636efa",
           "#EF553B",
           "#00cc96",
           "#ab63fa",
           "#FFA15A",
           "#19d3f3",
           "#FF6692",
           "#B6E880",
           "#FF97FF",
           "#FECB52"
          ],
          "font": {
           "color": "#2a3f5f"
          },
          "geo": {
           "bgcolor": "white",
           "lakecolor": "white",
           "landcolor": "#E5ECF6",
           "showlakes": true,
           "showland": true,
           "subunitcolor": "white"
          },
          "hoverlabel": {
           "align": "left"
          },
          "hovermode": "closest",
          "mapbox": {
           "style": "light"
          },
          "paper_bgcolor": "white",
          "plot_bgcolor": "#E5ECF6",
          "polar": {
           "angularaxis": {
            "gridcolor": "white",
            "linecolor": "white",
            "ticks": ""
           },
           "bgcolor": "#E5ECF6",
           "radialaxis": {
            "gridcolor": "white",
            "linecolor": "white",
            "ticks": ""
           }
          },
          "scene": {
           "xaxis": {
            "backgroundcolor": "#E5ECF6",
            "gridcolor": "white",
            "gridwidth": 2,
            "linecolor": "white",
            "showbackground": true,
            "ticks": "",
            "zerolinecolor": "white"
           },
           "yaxis": {
            "backgroundcolor": "#E5ECF6",
            "gridcolor": "white",
            "gridwidth": 2,
            "linecolor": "white",
            "showbackground": true,
            "ticks": "",
            "zerolinecolor": "white"
           },
           "zaxis": {
            "backgroundcolor": "#E5ECF6",
            "gridcolor": "white",
            "gridwidth": 2,
            "linecolor": "white",
            "showbackground": true,
            "ticks": "",
            "zerolinecolor": "white"
           }
          },
          "shapedefaults": {
           "line": {
            "color": "#2a3f5f"
           }
          },
          "ternary": {
           "aaxis": {
            "gridcolor": "white",
            "linecolor": "white",
            "ticks": ""
           },
           "baxis": {
            "gridcolor": "white",
            "linecolor": "white",
            "ticks": ""
           },
           "bgcolor": "#E5ECF6",
           "caxis": {
            "gridcolor": "white",
            "linecolor": "white",
            "ticks": ""
           }
          },
          "title": {
           "x": 0.05
          },
          "xaxis": {
           "automargin": true,
           "gridcolor": "white",
           "linecolor": "white",
           "ticks": "",
           "title": {
            "standoff": 15
           },
           "zerolinecolor": "white",
           "zerolinewidth": 2
          },
          "yaxis": {
           "automargin": true,
           "gridcolor": "white",
           "linecolor": "white",
           "ticks": "",
           "title": {
            "standoff": 15
           },
           "zerolinecolor": "white",
           "zerolinewidth": 2
          }
         }
        },
        "title": {
         "text": "Boxplot Pressure by Province/State"
        },
        "xaxis": {
         "anchor": "y",
         "domain": [
          0,
          1
         ],
         "title": {
          "text": "Province/State"
         }
        },
        "yaxis": {
         "anchor": "x",
         "domain": [
          0,
          1
         ],
         "title": {
          "text": "Pressure_Avg"
         }
        }
       }
      },
      "text/html": [
       "<div>\n",
       "        \n",
       "        \n",
       "            <div id=\"fcb61aad-5f7a-45d3-976e-ef91b49ca991\" class=\"plotly-graph-div\" style=\"height:600px; width:100%;\"></div>\n",
       "            <script type=\"text/javascript\">\n",
       "                require([\"plotly\"], function(Plotly) {\n",
       "                    window.PLOTLYENV=window.PLOTLYENV || {};\n",
       "                    \n",
       "                if (document.getElementById(\"fcb61aad-5f7a-45d3-976e-ef91b49ca991\")) {\n",
       "                    Plotly.newPlot(\n",
       "                        'fcb61aad-5f7a-45d3-976e-ef91b49ca991',\n",
       "                        [{\"alignmentgroup\": \"True\", \"hoverlabel\": {\"namelength\": 0}, \"hovertemplate\": \"Province/State=%{x}<br>Pressure_Avg=%{y}\", \"legendgroup\": \"\", \"marker\": {\"color\": \"#636efa\"}, \"name\": \"\", \"notched\": false, \"offsetgroup\": \"\", \"orientation\": \"v\", \"showlegend\": false, \"type\": \"box\", \"x\": [\"New York\", \"New York\", \"New York\", \"New York\", \"New York\", \"New York\", \"New York\", \"New York\", \"New York\", \"New York\", \"New York\", \"New York\", \"New York\", \"New York\", \"New York\", \"New York\", \"New York\", \"New York\", \"New York\", \"New York\", \"New York\", \"New York\", \"New York\", \"New York\", \"New York\", \"Madrid\", \"Madrid\", \"Madrid\", \"Madrid\", \"Madrid\", \"Madrid\", \"Madrid\", \"Madrid\", \"Madrid\", \"Madrid\", \"Madrid\", \"Madrid\", \"Madrid\", \"Madrid\", \"Madrid\", \"Madrid\", \"Madrid\", \"Madrid\", \"Madrid\", \"Madrid\", \"Madrid\", \"Madrid\", \"Madrid\", \"Madrid\", \"Madrid\", \"Madrid\", \"Madrid\", \"Madrid\", \"Madrid\", \"Madrid\", \"Madrid\", \"Madrid\", \"Madrid\", \"Madrid\", \"Madrid\", \"Madrid\", \"Madrid\", \"Madrid\", \"Madrid\", \"Madrid\", \"Madrid\", \"Madrid\", \"Madrid\", \"Madrid\", \"Madrid\", \"Madrid\", \"Madrid\", \"Madrid\", \"Madrid\", \"Madrid\", \"Madrid\", \"Madrid\", \"Madrid\", \"Madrid\", \"Madrid\", \"Madrid\", \"Madrid\", \"Madrid\", \"Madrid\", \"Madrid\", \"Madrid\", \"Madrid\", \"Madrid\", \"Quebec\", \"Quebec\", \"Quebec\", \"Quebec\", \"Quebec\", \"Quebec\", \"Quebec\", \"Quebec\", \"Quebec\", \"Quebec\", \"Quebec\", \"Quebec\", \"Quebec\", \"Quebec\", \"Quebec\", \"Quebec\", \"Quebec\", \"Quebec\", \"Quebec\", \"Quebec\", \"Quebec\", \"Quebec\", \"Quebec\", \"Quebec\", \"Quebec\", \"Quebec\", \"Lombardia\", \"Lombardia\", \"Lombardia\", \"Lombardia\", \"Lombardia\", \"Lombardia\", \"Lombardia\", \"Lombardia\", \"Lombardia\", \"Lombardia\", \"Lombardia\", \"Lombardia\", \"Lombardia\", \"Lombardia\", \"Lombardia\", \"Lombardia\", \"Lombardia\", \"Lombardia\", \"Lombardia\", \"Lombardia\", \"Lombardia\", \"Lombardia\", \"Lombardia\", \"Lombardia\", \"Lombardia\", \"Lombardia\", \"Lombardia\", \"Lombardia\", \"Lombardia\", \"Lombardia\", \"Lombardia\", \"Lombardia\", \"Lombardia\", \"Lombardia\", \"Lombardia\", \"Lombardia\", \"Lombardia\", \"Lombardia\", \"Lombardia\", \"Lombardia\", \"Vienna\", \"Vienna\", \"Vienna\", \"Vienna\", \"Vienna\", \"Vienna\", \"Vienna\", \"Vienna\", \"Vienna\", \"Vienna\", \"Vienna\", \"Vienna\", \"Vienna\", \"Vienna\", \"Vienna\", \"Vienna\", \"Vienna\", \"Vienna\", \"Vienna\", \"Vienna\", \"Vienna\", \"Vienna\", \"Vienna\", \"Vienna\", \"Vienna\", \"Vienna\", \"Vienna\", \"Vienna\", \"Vienna\", \"Vienna\", \"Vienna\", \"Vienna\", \"Vienna\", \"Vienna\", \"Vienna\", \"Vienna\", \"Vienna\", \"Vienna\", \"Vienna\", \"Stockholm\", \"Stockholm\", \"Stockholm\", \"Stockholm\", \"Stockholm\", \"Stockholm\", \"Stockholm\", \"Stockholm\", \"Stockholm\", \"Stockholm\", \"Stockholm\", \"Stockholm\", \"Stockholm\", \"Stockholm\", \"Stockholm\", \"Stockholm\", \"Stockholm\", \"Stockholm\", \"Stockholm\", \"Stockholm\", \"Stockholm\", \"Stockholm\", \"Stockholm\", \"Stockholm\", \"Stockholm\", \"Stockholm\", \"Stockholm\", \"Stockholm\", \"Stockholm\", \"Stockholm\", \"Stockholm\", \"Stockholm\", \"Stockholm\", \"Stockholm\", \"Stockholm\", \"Stockholm\", \"Stockholm\", \"Stockholm\", \"Stockholm\", \"Stockholm\", \"Stockholm\", \"Stockholm\", \"Stockholm\", \"Stockholm\", \"Stockholm\", \"Stockholm\", \"Stockholm\", \"Stockholm\", \"Stockholm\", \"Stockholm\", \"Stockholm\", \"Stockholm\", \"Stockholm\", \"Stockholm\", \"Stockholm\", \"Stockholm\", \"Stockholm\", \"Stockholm\", \"Stockholm\", \"Stockholm\", \"Stockholm\", \"Stockholm\", \"Stockholm\", \"Stockholm\", \"Doha\", \"Doha\", \"Doha\", \"Doha\", \"Doha\", \"Doha\", \"Doha\", \"Doha\", \"Doha\", \"Doha\", \"Doha\", \"Doha\", \"Doha\", \"Doha\", \"Doha\", \"Doha\", \"Doha\", \"Doha\", \"Doha\", \"Doha\", \"Doha\", \"Doha\", \"Doha\", \"Doha\", \"Doha\", \"Doha\", \"Doha\", \"Doha\", \"Doha\", \"Doha\", \"Doha\", \"Doha\", \"Doha\", \"Doha\", \"Doha\", \"Dubai\", \"Dubai\", \"Dubai\", \"Dubai\", \"Dubai\", \"Dubai\", \"Dubai\", \"Dubai\", \"Dubai\", \"Dubai\", \"Dubai\", \"Dubai\", \"Dubai\", \"Dubai\", \"Dubai\", \"Dubai\", \"Dubai\", \"Dubai\", \"Dubai\", \"Dubai\", \"Dubai\", \"Dubai\", \"Dubai\", \"Dubai\", \"Dubai\", \"Dubai\", \"Dubai\", \"Dubai\", \"Dubai\", \"Dubai\", \"Dubai\", \"Dubai\", \"Dubai\", \"Dubai\", \"Dubai\", \"Dubai\", \"Dubai\", \"Dubai\", \"Dubai\", \"Dubai\", \"Dubai\", \"Dubai\", \"Dubai\", \"Dubai\", \"Dubai\", \"Dubai\", \"Dubai\", \"Dubai\", \"Dubai\", \"Dubai\", \"Dubai\", \"Dubai\", \"Dubai\", \"Dubai\", \"Dubai\", \"Dubai\", \"Dubai\", \"Dubai\", \"Dubai\", \"Dubai\", \"Dubai\", \"Dubai\", \"Dubai\", \"Dubai\", \"Dubai\", \"Dubai\", \"Dakar\", \"Dakar\", \"Dakar\", \"Dakar\", \"Dakar\", \"Dakar\", \"Dakar\", \"Dakar\", \"Dakar\", \"Dakar\", \"Dakar\", \"Dakar\", \"Dakar\", \"Dakar\", \"Dakar\", \"Dakar\", \"Dakar\", \"Dakar\", \"Dakar\", \"Dakar\", \"Dakar\", \"Dakar\", \"Dakar\", \"Dakar\", \"Dakar\", \"Dakar\", \"Dakar\", \"Dakar\", \"Dakar\", \"Dakar\", \"Dakar\", \"Dakar\", \"Dakar\"], \"x0\": \" \", \"xaxis\": \"x\", \"y\": [29.9, 29.6, 29.7, 30.1, 29.9, 30.2, 30.4, 30.3, 30.0, 30.1, 30.1, 29.9, 30.3, 30.4, 30.5, 30.2, 30.4, 30.2, 29.9, 30.2, 30.6, 30.2, 30.1, 30.1, 29.9, 28.0, 27.9, 28.0, 28.1, 28.1, 28.1, 28.1, 28.1, 28.1, 28.3, 28.3, 28.3, 28.2, 28.1, 28.1, 28.1, 28.3, 28.3, 28.2, 28.1, 28.1, 28.2, 28.2, 28.2, 28.2, 28.3, 28.3, 28.1, 28.2, 28.3, 28.4, 28.2, 28.0, 28.0, 28.1, 28.0, 27.8, 27.8, 27.7, 27.9, 28.0, 27.8, 27.9, 28.1, 28.1, 28.1, 28.2, 28.1, 28.0, 27.9, 28.0, 27.8, 27.8, 28.1, 28.1, 28.0, 27.9, 27.8, 27.8, 27.9, 27.9, 27.9, 27.7, 29.7, 29.5, 29.4, 29.0, 29.7, 29.9, 30.0, 29.9, 30.0, 29.6, 29.9, 30.0, 29.5, 29.7, 30.3, 30.3, 29.7, 30.1, 30.1, 29.3, 30.0, 30.4, 30.1, 29.9, 29.9, 29.6, 30.0, 29.9, 29.8, 29.8, 29.8, 29.8, 30.1, 29.9, 29.7, 29.4, 29.2, 29.4, 29.6, 29.6, 29.3, 29.1, 29.1, 29.5, 29.4, 28.6, 29.5, 29.7, 29.6, 29.6, 29.7, 29.7, 29.6, 29.7, 29.9, 29.9, 30.0, 30.0, 29.9, 29.8, 29.6, 29.7, 29.9, 29.9, 29.8, 29.6, 29.4, 29.6, 29.5, 29.6, 29.6, 29.7, 29.4, 29.4, 29.0, 28.9, 29.0, 29.2, 29.1, 29.0, 28.8, 28.9, 29.2, 29.1, 28.9, 29.3, 29.5, 29.3, 29.3, 29.3, 29.3, 29.4, 29.5, 29.7, 29.6, 29.7, 29.7, 29.6, 29.5, 29.5, 29.7, 29.8, 29.8, 29.7, 29.6, 29.9, 29.6, 29.7, 29.6, 29.6, 29.3, 29.2, 29.3, 29.3, 29.0, 29.0, 29.4, 29.6, 29.9, 30.0, 30.2, 30.0, 29.3, 28.4, 28.7, 28.9, 29.4, 29.9, 29.8, 29.1, 29.1, 29.3, 29.5, 29.7, 29.4, 29.1, 29.1, 29.5, 29.3, 29.2, 29.4, 29.5, 29.4, 29.0, 29.3, 29.6, 29.5, 29.5, 29.6, 29.8, 29.7, 29.6, 29.4, 29.0, 28.9, 29.4, 30.0, 29.8, 29.8, 29.9, 29.7, 29.9, 30.2, 30.5, 30.7, 30.5, 30.4, 30.3, 30.3, 29.9, 30.0, 30.0, 29.9, 29.8, 29.9, 30.0, 30.0, 29.9, 29.8, 29.9, 30.0, 30.0, 29.9, 29.9, 29.9, 29.9, 29.9, 29.9, 30.0, 30.0, 30.0, 29.9, 29.8, 29.9, 29.9, 29.8, 29.8, 29.8, 29.7, 29.7, 29.9, 29.9, 29.9, 29.8, 30.0, 30.0, 30.0, 30.0, 30.1, 30.0, 30.1, 30.1, 30.1, 30.1, 30.0, 30.0, 30.1, 30.1, 30.0, 30.1, 30.1, 30.1, 30.0, 30.0, 29.9, 30.0, 30.2, 30.2, 30.1, 30.1, 30.0, 30.0, 30.0, 29.9, 29.9, 29.9, 30.0, 30.0, 30.0, 29.9, 29.9, 30.0, 29.9, 29.9, 29.9, 29.9, 29.9, 29.9, 29.9, 29.9, 29.9, 29.9, 29.9, 29.9, 30.0, 30.0, 30.0, 29.9, 29.9, 29.9, 29.9, 29.9, 29.8, 29.8, 29.8, 29.7, 29.9, 29.9, 29.9, 29.9, 29.8, 29.8, 29.7, 29.7, 29.8, 29.8, 29.8, 29.8, 29.8, 29.8, 31.0, 29.8, 29.8, 29.7, 29.7, 29.8, 29.7, 29.7, 29.7, 29.8, 29.8, 29.8, 29.8, 29.8, 29.8, 29.8, 29.8, 29.8, 29.8, 29.8, 29.9, 29.8, 29.8], \"y0\": \" \", \"yaxis\": \"y\"}],\n",
       "                        {\"boxmode\": \"group\", \"height\": 600, \"legend\": {\"tracegroupgap\": 0}, \"template\": {\"data\": {\"bar\": [{\"error_x\": {\"color\": \"#2a3f5f\"}, \"error_y\": {\"color\": \"#2a3f5f\"}, \"marker\": {\"line\": {\"color\": \"#E5ECF6\", \"width\": 0.5}}, \"type\": \"bar\"}], \"barpolar\": [{\"marker\": {\"line\": {\"color\": \"#E5ECF6\", \"width\": 0.5}}, \"type\": \"barpolar\"}], \"carpet\": [{\"aaxis\": {\"endlinecolor\": \"#2a3f5f\", \"gridcolor\": \"white\", \"linecolor\": \"white\", \"minorgridcolor\": \"white\", \"startlinecolor\": \"#2a3f5f\"}, \"baxis\": {\"endlinecolor\": \"#2a3f5f\", \"gridcolor\": \"white\", \"linecolor\": \"white\", \"minorgridcolor\": \"white\", \"startlinecolor\": \"#2a3f5f\"}, \"type\": \"carpet\"}], \"choropleth\": [{\"colorbar\": {\"outlinewidth\": 0, \"ticks\": \"\"}, \"type\": \"choropleth\"}], \"contour\": [{\"colorbar\": {\"outlinewidth\": 0, \"ticks\": \"\"}, \"colorscale\": [[0.0, \"#0d0887\"], [0.1111111111111111, \"#46039f\"], [0.2222222222222222, \"#7201a8\"], [0.3333333333333333, \"#9c179e\"], [0.4444444444444444, \"#bd3786\"], [0.5555555555555556, \"#d8576b\"], [0.6666666666666666, \"#ed7953\"], [0.7777777777777778, \"#fb9f3a\"], [0.8888888888888888, \"#fdca26\"], [1.0, \"#f0f921\"]], \"type\": \"contour\"}], \"contourcarpet\": [{\"colorbar\": {\"outlinewidth\": 0, \"ticks\": \"\"}, \"type\": \"contourcarpet\"}], \"heatmap\": [{\"colorbar\": {\"outlinewidth\": 0, \"ticks\": \"\"}, \"colorscale\": [[0.0, \"#0d0887\"], [0.1111111111111111, \"#46039f\"], [0.2222222222222222, \"#7201a8\"], [0.3333333333333333, \"#9c179e\"], [0.4444444444444444, \"#bd3786\"], [0.5555555555555556, \"#d8576b\"], [0.6666666666666666, \"#ed7953\"], [0.7777777777777778, \"#fb9f3a\"], [0.8888888888888888, \"#fdca26\"], [1.0, \"#f0f921\"]], \"type\": \"heatmap\"}], \"heatmapgl\": [{\"colorbar\": {\"outlinewidth\": 0, \"ticks\": \"\"}, \"colorscale\": [[0.0, \"#0d0887\"], [0.1111111111111111, \"#46039f\"], [0.2222222222222222, \"#7201a8\"], [0.3333333333333333, \"#9c179e\"], [0.4444444444444444, \"#bd3786\"], [0.5555555555555556, \"#d8576b\"], [0.6666666666666666, \"#ed7953\"], [0.7777777777777778, \"#fb9f3a\"], [0.8888888888888888, \"#fdca26\"], [1.0, \"#f0f921\"]], \"type\": \"heatmapgl\"}], \"histogram\": [{\"marker\": {\"colorbar\": {\"outlinewidth\": 0, \"ticks\": \"\"}}, \"type\": \"histogram\"}], \"histogram2d\": [{\"colorbar\": {\"outlinewidth\": 0, \"ticks\": \"\"}, \"colorscale\": [[0.0, \"#0d0887\"], [0.1111111111111111, \"#46039f\"], [0.2222222222222222, \"#7201a8\"], [0.3333333333333333, \"#9c179e\"], [0.4444444444444444, \"#bd3786\"], [0.5555555555555556, \"#d8576b\"], [0.6666666666666666, \"#ed7953\"], [0.7777777777777778, \"#fb9f3a\"], [0.8888888888888888, \"#fdca26\"], [1.0, \"#f0f921\"]], \"type\": \"histogram2d\"}], \"histogram2dcontour\": [{\"colorbar\": {\"outlinewidth\": 0, \"ticks\": \"\"}, \"colorscale\": [[0.0, \"#0d0887\"], [0.1111111111111111, \"#46039f\"], [0.2222222222222222, \"#7201a8\"], [0.3333333333333333, \"#9c179e\"], [0.4444444444444444, \"#bd3786\"], [0.5555555555555556, \"#d8576b\"], [0.6666666666666666, \"#ed7953\"], [0.7777777777777778, \"#fb9f3a\"], [0.8888888888888888, \"#fdca26\"], [1.0, \"#f0f921\"]], \"type\": \"histogram2dcontour\"}], \"mesh3d\": [{\"colorbar\": {\"outlinewidth\": 0, \"ticks\": \"\"}, \"type\": \"mesh3d\"}], \"parcoords\": [{\"line\": {\"colorbar\": {\"outlinewidth\": 0, \"ticks\": \"\"}}, \"type\": \"parcoords\"}], \"pie\": [{\"automargin\": true, \"type\": \"pie\"}], \"scatter\": [{\"marker\": {\"colorbar\": {\"outlinewidth\": 0, \"ticks\": \"\"}}, \"type\": \"scatter\"}], \"scatter3d\": [{\"line\": {\"colorbar\": {\"outlinewidth\": 0, \"ticks\": \"\"}}, \"marker\": {\"colorbar\": {\"outlinewidth\": 0, \"ticks\": \"\"}}, \"type\": \"scatter3d\"}], \"scattercarpet\": [{\"marker\": {\"colorbar\": {\"outlinewidth\": 0, \"ticks\": \"\"}}, \"type\": \"scattercarpet\"}], \"scattergeo\": [{\"marker\": {\"colorbar\": {\"outlinewidth\": 0, \"ticks\": \"\"}}, \"type\": \"scattergeo\"}], \"scattergl\": [{\"marker\": {\"colorbar\": {\"outlinewidth\": 0, \"ticks\": \"\"}}, \"type\": \"scattergl\"}], \"scattermapbox\": [{\"marker\": {\"colorbar\": {\"outlinewidth\": 0, \"ticks\": \"\"}}, \"type\": \"scattermapbox\"}], \"scatterpolar\": [{\"marker\": {\"colorbar\": {\"outlinewidth\": 0, \"ticks\": \"\"}}, \"type\": \"scatterpolar\"}], \"scatterpolargl\": [{\"marker\": {\"colorbar\": {\"outlinewidth\": 0, \"ticks\": \"\"}}, \"type\": \"scatterpolargl\"}], \"scatterternary\": [{\"marker\": {\"colorbar\": {\"outlinewidth\": 0, \"ticks\": \"\"}}, \"type\": \"scatterternary\"}], \"surface\": [{\"colorbar\": {\"outlinewidth\": 0, \"ticks\": \"\"}, \"colorscale\": [[0.0, \"#0d0887\"], [0.1111111111111111, \"#46039f\"], [0.2222222222222222, \"#7201a8\"], [0.3333333333333333, \"#9c179e\"], [0.4444444444444444, \"#bd3786\"], [0.5555555555555556, \"#d8576b\"], [0.6666666666666666, \"#ed7953\"], [0.7777777777777778, \"#fb9f3a\"], [0.8888888888888888, \"#fdca26\"], [1.0, \"#f0f921\"]], \"type\": \"surface\"}], \"table\": [{\"cells\": {\"fill\": {\"color\": \"#EBF0F8\"}, \"line\": {\"color\": \"white\"}}, \"header\": {\"fill\": {\"color\": \"#C8D4E3\"}, \"line\": {\"color\": \"white\"}}, \"type\": \"table\"}]}, \"layout\": {\"annotationdefaults\": {\"arrowcolor\": \"#2a3f5f\", \"arrowhead\": 0, \"arrowwidth\": 1}, \"coloraxis\": {\"colorbar\": {\"outlinewidth\": 0, \"ticks\": \"\"}}, \"colorscale\": {\"diverging\": [[0, \"#8e0152\"], [0.1, \"#c51b7d\"], [0.2, \"#de77ae\"], [0.3, \"#f1b6da\"], [0.4, \"#fde0ef\"], [0.5, \"#f7f7f7\"], [0.6, \"#e6f5d0\"], [0.7, \"#b8e186\"], [0.8, \"#7fbc41\"], [0.9, \"#4d9221\"], [1, \"#276419\"]], \"sequential\": [[0.0, \"#0d0887\"], [0.1111111111111111, \"#46039f\"], [0.2222222222222222, \"#7201a8\"], [0.3333333333333333, \"#9c179e\"], [0.4444444444444444, \"#bd3786\"], [0.5555555555555556, \"#d8576b\"], [0.6666666666666666, \"#ed7953\"], [0.7777777777777778, \"#fb9f3a\"], [0.8888888888888888, \"#fdca26\"], [1.0, \"#f0f921\"]], \"sequentialminus\": [[0.0, \"#0d0887\"], [0.1111111111111111, \"#46039f\"], [0.2222222222222222, \"#7201a8\"], [0.3333333333333333, \"#9c179e\"], [0.4444444444444444, \"#bd3786\"], [0.5555555555555556, \"#d8576b\"], [0.6666666666666666, \"#ed7953\"], [0.7777777777777778, \"#fb9f3a\"], [0.8888888888888888, \"#fdca26\"], [1.0, \"#f0f921\"]]}, \"colorway\": [\"#636efa\", \"#EF553B\", \"#00cc96\", \"#ab63fa\", \"#FFA15A\", \"#19d3f3\", \"#FF6692\", \"#B6E880\", \"#FF97FF\", \"#FECB52\"], \"font\": {\"color\": \"#2a3f5f\"}, \"geo\": {\"bgcolor\": \"white\", \"lakecolor\": \"white\", \"landcolor\": \"#E5ECF6\", \"showlakes\": true, \"showland\": true, \"subunitcolor\": \"white\"}, \"hoverlabel\": {\"align\": \"left\"}, \"hovermode\": \"closest\", \"mapbox\": {\"style\": \"light\"}, \"paper_bgcolor\": \"white\", \"plot_bgcolor\": \"#E5ECF6\", \"polar\": {\"angularaxis\": {\"gridcolor\": \"white\", \"linecolor\": \"white\", \"ticks\": \"\"}, \"bgcolor\": \"#E5ECF6\", \"radialaxis\": {\"gridcolor\": \"white\", \"linecolor\": \"white\", \"ticks\": \"\"}}, \"scene\": {\"xaxis\": {\"backgroundcolor\": \"#E5ECF6\", \"gridcolor\": \"white\", \"gridwidth\": 2, \"linecolor\": \"white\", \"showbackground\": true, \"ticks\": \"\", \"zerolinecolor\": \"white\"}, \"yaxis\": {\"backgroundcolor\": \"#E5ECF6\", \"gridcolor\": \"white\", \"gridwidth\": 2, \"linecolor\": \"white\", \"showbackground\": true, \"ticks\": \"\", \"zerolinecolor\": \"white\"}, \"zaxis\": {\"backgroundcolor\": \"#E5ECF6\", \"gridcolor\": \"white\", \"gridwidth\": 2, \"linecolor\": \"white\", \"showbackground\": true, \"ticks\": \"\", \"zerolinecolor\": \"white\"}}, \"shapedefaults\": {\"line\": {\"color\": \"#2a3f5f\"}}, \"ternary\": {\"aaxis\": {\"gridcolor\": \"white\", \"linecolor\": \"white\", \"ticks\": \"\"}, \"baxis\": {\"gridcolor\": \"white\", \"linecolor\": \"white\", \"ticks\": \"\"}, \"bgcolor\": \"#E5ECF6\", \"caxis\": {\"gridcolor\": \"white\", \"linecolor\": \"white\", \"ticks\": \"\"}}, \"title\": {\"x\": 0.05}, \"xaxis\": {\"automargin\": true, \"gridcolor\": \"white\", \"linecolor\": \"white\", \"ticks\": \"\", \"title\": {\"standoff\": 15}, \"zerolinecolor\": \"white\", \"zerolinewidth\": 2}, \"yaxis\": {\"automargin\": true, \"gridcolor\": \"white\", \"linecolor\": \"white\", \"ticks\": \"\", \"title\": {\"standoff\": 15}, \"zerolinecolor\": \"white\", \"zerolinewidth\": 2}}}, \"title\": {\"text\": \"Boxplot Pressure by Province/State\"}, \"xaxis\": {\"anchor\": \"y\", \"domain\": [0.0, 1.0], \"title\": {\"text\": \"Province/State\"}}, \"yaxis\": {\"anchor\": \"x\", \"domain\": [0.0, 1.0], \"title\": {\"text\": \"Pressure_Avg\"}}},\n",
       "                        {\"responsive\": true}\n",
       "                    ).then(function(){\n",
       "                            \n",
       "var gd = document.getElementById('fcb61aad-5f7a-45d3-976e-ef91b49ca991');\n",
       "var x = new MutationObserver(function (mutations, observer) {{\n",
       "        var display = window.getComputedStyle(gd).display;\n",
       "        if (!display || display === 'none') {{\n",
       "            console.log([gd, 'removed!']);\n",
       "            Plotly.purge(gd);\n",
       "            observer.disconnect();\n",
       "        }}\n",
       "}});\n",
       "\n",
       "// Listen for the removal of the full notebook cells\n",
       "var notebookContainer = gd.closest('#notebook-container');\n",
       "if (notebookContainer) {{\n",
       "    x.observe(notebookContainer, {childList: true});\n",
       "}}\n",
       "\n",
       "// Listen for the clearing of the current output cell\n",
       "var outputEl = gd.closest('.output');\n",
       "if (outputEl) {{\n",
       "    x.observe(outputEl, {childList: true});\n",
       "}}\n",
       "\n",
       "                        })\n",
       "                };\n",
       "                });\n",
       "            </script>\n",
       "        </div>"
      ]
     },
     "metadata": {},
     "output_type": "display_data"
    }
   ],
   "source": [
    "# Boxplot of the pressure by Province/State\n",
    "px.box(covid_weather, x='Province/State', y='Pressure_Avg',\n",
    "       title='Boxplot Pressure by Province/State')"
   ]
  },
  {
   "cell_type": "markdown",
   "metadata": {},
   "source": [
    "The previous idea seems valid, but in fact, we need to take the temperature out of the equation if we want to be sure that if exist differences is because the altitude/pressure and not for the temperature (which we are pretty sure that have an influence in the spread of the virus). With this aim, the simpler solution is to include in the study only the `Province/Regions` with temperatures that are not significantly different than Madrid. As we did in Section [Coronavirus vs Humidity](#coronavirus_vs_humidity), we are going to analyze all the cities at the same time through a variance analysis. "
   ]
  },
  {
   "cell_type": "code",
   "execution_count": 52,
   "metadata": {},
   "outputs": [
    {
     "name": "stdout",
     "output_type": "stream",
     "text": [
      "LeveneResult(statistic=4.217025207829537, pvalue=0.00010215607663407147)\n",
      "The test reveals that there are statistically significant differences between the variance of the temperature in different cities.\n"
     ]
    }
   ],
   "source": [
    "# Create a list of 1-D arrays with the information of the Average Humidity.  \n",
    "data = [reduced_data.loc[ids, 'TempAvg'].values for ids in \n",
    "        reduced_data.groupby('Province/State').groups.values()]\n",
    "# Levene's test\n",
    "print(stats.levene(*data))\n",
    "print('The test reveals that there are statistically significant differences between the variance of the temperature in different cities.')"
   ]
  },
  {
   "cell_type": "code",
   "execution_count": 53,
   "metadata": {},
   "outputs": [
    {
     "name": "stdout",
     "output_type": "stream",
     "text": [
      "KruskalResult(statistic=197.93719460751058, pvalue=1.738021217309792e-38)\n",
      "The Kruskal-Wallis test shows that there are differences in the distribution of the temperature across different Province/State.\n"
     ]
    }
   ],
   "source": [
    "# Kruskal-Wallis H hypothesis test (analysis of the variance)\n",
    "print(stats.kruskal(*data))\n",
    "print('The Kruskal-Wallis test shows that there are differences in the distribution of the temperature across different Province/State.')"
   ]
  },
  {
   "cell_type": "markdown",
   "metadata": {},
   "source": [
    "The below heatmap shows the result of the post hoc Dunn's test with Bonferroni correction. In the case of Madrid, we fail to reject the null hypothesis of equality of the median of the temperatures in the combinations with New York, Lombardia, and Vienna, so now we can take these two by two combinations {(Madrid-New York), (Madrid-Lombardia), (Madrid-Vienna)} and see if existing differences in the number of new infections."
   ]
  },
  {
   "cell_type": "code",
   "execution_count": 183,
   "metadata": {},
   "outputs": [
    {
     "data": {
      "image/png": "[encoded data removed]",
      "text/plain": [
       "<Figure size 432x288 with 2 Axes>"
      ]
     },
     "metadata": {
      "needs_background": "light"
     },
     "output_type": "display_data"
    }
   ],
   "source": [
    "# Dunn Posthoc test with Bonferroni correction \n",
    "result=sp.posthoc_dunn(covid_weather,val_col='TempAvg',p_adjust='bonferroni',group_col='Province/State')\n",
    "sp.sign_plot(result);"
   ]
  },
  {
   "cell_type": "markdown",
   "metadata": {},
   "source": [
    "At this point, the objective is to see if exists differences in the number of infections in each of the three pair of cities defined before. Based on the same explanation given in Section [Coronavirus vs Temperature](#coronavirus_vs_temperature), we are going to use a one tail t-student test with critical value $\\alpha=0.05$. Again, the null hypothesis is that there aren't differences in the mean of the number of new infections between the cities and the alternative is that there is.    \n",
    "The results (see data frame below) are extremely interesting! Note that in all the comparisons we obtained that the number of new infections in Madrid is significantly lower (from a statistical point of view) than in all the other regions with similar temperatures. Also, the population density in Madrid is greater than the other three regions, so, this doesn't seem to be the factor that explains this difference.    \n",
    "What do you think about this? Is it not weird? I think it is, and this is because currently, we know that Madrid is one of the three regions with more cases, so, what happened here?     \n",
    "* This effect is given because (as we did before) we are only considering the common maximum number of days since the first infection between both cities. Remember that I made this decision as a way to mitigate the effect that cities with a greater number of days are more likely to have more cases.\n",
    "* If we observe the relationship of the number of new cases by city and the number of days since the first infection (Fig. _\"New Infections by Day (Madrid, New York, Lombardia, Vienna)\"_ below), it is easy to see that our dataset only have the information of Vienna and Lombardia in approximately 40 days, and in those first 40 days, Madrid has fewer infections than these two regions and New York, so, this is the reason why we are obtaining significant statistical differences.\n",
    "* Now, the number of cases increased exponentially in Madrid after  40 days of infection, so, maybe these differences in the first 40 days are just a random effect and are not related with the altitude, or the altitude has an effect in the spread of the virus, but a new factor took effect in Madrid after the 40 first days and mitigated the effect of the altitude.    \n",
    "> At this point, this analysis is something interesting but is far away to be conclusive! A lot more data and analysis are necessary if we want to prove this hypothesis."
   ]
  },
  {
   "cell_type": "code",
   "execution_count": 184,
   "metadata": {},
   "outputs": [
    {
     "data": {
      "text/html": [
       "<div>\n",
       "<style scoped>\n",
       "    .dataframe tbody tr th:only-of-type {\n",
       "        vertical-align: middle;\n",
       "    }\n",
       "\n",
       "    .dataframe tbody tr th {\n",
       "        vertical-align: top;\n",
       "    }\n",
       "\n",
       "    .dataframe thead th {\n",
       "        text-align: right;\n",
       "    }\n",
       "</style>\n",
       "<table border=\"1\" class=\"dataframe\">\n",
       "  <thead>\n",
       "    <tr style=\"text-align: right;\">\n",
       "      <th></th>\n",
       "      <th>p-value</th>\n",
       "      <th>t-stats</th>\n",
       "    </tr>\n",
       "  </thead>\n",
       "  <tbody>\n",
       "    <tr>\n",
       "      <th>Lombardia</th>\n",
       "      <td>4.320449e-11</td>\n",
       "      <td>-8.619533</td>\n",
       "    </tr>\n",
       "    <tr>\n",
       "      <th>New York</th>\n",
       "      <td>1.930117e-06</td>\n",
       "      <td>-5.949297</td>\n",
       "    </tr>\n",
       "    <tr>\n",
       "      <th>Vienna</th>\n",
       "      <td>2.118015e-05</td>\n",
       "      <td>-4.506821</td>\n",
       "    </tr>\n",
       "  </tbody>\n",
       "</table>\n",
       "</div>"
      ],
      "text/plain": [
       "                p-value   t-stats\n",
       "Lombardia  4.320449e-11 -8.619533\n",
       "New York   1.930117e-06 -5.949297\n",
       "Vienna     2.118015e-05 -4.506821"
      ]
     },
     "execution_count": 184,
     "metadata": {},
     "output_type": "execute_result"
    }
   ],
   "source": [
    "# Create a dictionary with the combinations of cities\n",
    "cities2test=dict({'Madrid': ['New York','Lombardia','Vienna']})\n",
    "# Run the tests\n",
    "results_pvalue, results_stat=t_test_byCities(cities2test,covid_weather)\n",
    "results_pvalue['t-stats']=results_stat['Madrid']\n",
    "results_pvalue=results_pvalue.rename(columns={'Madrid':'p-value'})\n",
    "results_pvalue"
   ]
  },
  {
   "cell_type": "code",
   "execution_count": 185,
   "metadata": {},
   "outputs": [
    {
     "data": {
      "image/png": "[encoded data removed]",
      "text/plain": [
       "<Figure size 468.5x360 with 1 Axes>"
      ]
     },
     "metadata": {
      "needs_background": "light"
     },
     "output_type": "display_data"
    }
   ],
   "source": [
    "# Plot the number of cases by day only for Madrid, Lombardia, New York and Vienna.\n",
    "g=sns.relplot(x='Days Since First Case',y='Confirmed',hue='Province/State',\n",
    "            data=covid_weather.loc[covid_weather['Province/State'].isin(['Madrid',\n",
    "                                                                         'New York','Lombardia',\n",
    "                                                                         'Vienna']),:]);\n",
    "g.fig.suptitle(\"New Infections by Day (Madrid, New York, Lombardia, Vienna)\");"
   ]
  },
  {
   "cell_type": "markdown",
   "metadata": {},
   "source": [
    "## Conclusions and Remarks\n",
    "<a id='conclusions_and_remarks'></a>\n",
    "1. Temperatures over the $60^o F$ seems to affect the spread of the virus.\n",
    "2. The humidity doesn't seem to be an environmental factor that affects the spread of the virus.\n",
    "3. Our data shows that in the case of Madrid, the pressure given the altitude had a negative effect on the spread of the virus (reduced the spread) in the first 40 days of infection, but these results are not conclusive and we need a lot of more data to have a better idea of this effect.\n",
    "\n",
    "### Remarks\n",
    "* In my opinion, the study of only 9 cities (even when the cities were selected with a logical criterion) is not enough to draw valid conclusions about general climatological conditions that affect or not the spread of the virus independently of the city or region. \n",
    "* There are a lot of factors, like the sociocultural ones, that have a strong incidence in the spread of the virus independently of the weather. Assuming (like I did) that these factors are going to be similar between different regions is a long shot, but it is the only way at this moment to contrast different weather conditions with the number of new infections.\n",
    "* In this project, we only developed a univariate statistical analysis about the influence of 3 weather variables with the number of new infections, but a multivariate analysis would be great to elucidate more complex relationships between the weather and the spread of the virus.\n",
    "\n",
    "In general, a lot of work remains to do, and more data it's necessary if we want to provide accurate answers. All the codes and datasets employed in this project are available [here](https://github.com/Yasel-Garces/The-impact-of-weather-in-the-coronavirus-spread), and if you have or know where to find more open/free weather data to improve this analysis, please let me know. \n",
    "\n",
    "> Meanwhile, would be great to know what you think about the impact of the weather in the spread of the coronavirus or your opinion about the questions that remain open in this work.\n",
    "\n",
    "**Thanks for reading and keep safe!!**"
   ]
  }
 ],
 "metadata": {
  "kernelspec": {
   "display_name": "Python 3",
   "language": "python",
   "name": "python3"
  },
  "language_info": {
   "codemirror_mode": {
    "name": "ipython",
    "version": 3
   },
   "file_extension": ".py",
   "mimetype": "text/x-python",
   "name": "python",
   "nbconvert_exporter": "python",
   "pygments_lexer": "ipython3",
   "version": "3.7.3"
  }
 },
 "nbformat": 4,
 "nbformat_minor": 2
}
