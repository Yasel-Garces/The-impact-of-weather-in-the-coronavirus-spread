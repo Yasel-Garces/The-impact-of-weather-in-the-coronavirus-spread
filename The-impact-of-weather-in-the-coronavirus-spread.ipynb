{
 "cells": [
  {
   "cell_type": "markdown",
   "metadata": {},
   "source": [
    "# The Impact of Weather in the Coronavirus Spread\n",
    "\n",
    "<img src=\"img/coronavirus-weather-hero.jpg\">\n",
    "\n",
    "The World stopped and the fear is around any corner of the planet, everybody speaks about the same and the humans seem powerless in front of a microscopic enemy. With more than 775 748 peoples infected and 37109 deaths (03/30/2020) and with a significative decrease of usual human activity, the COVID-19 will be remembered as a sad part of mankind's history.\n",
    "\n",
    "I, like many others, am trying to keep doing what I love to do and avoid get crazy thinking about the impact of this crisis in my family and people around the World. I am not a politician, I don't have any kind of power, unfortunately, I'm not a doctor or nurse, and even when I have some ideas and hypotheses about what could be done to get through this crisis (as any other person), I only have my family and potentially my group of 50 friends in Facebook to share it. But, at the same time, I feel that I need to do something else, and for that reason, I began this project as a modest contribution of what I think could be some interesting open questions about the COVID-19.\n",
    "\n",
    "These are questions:\n",
    "1. Is there is a relationship between the coronavirus spread and the weather?\n",
    "2. Is there any difference in the number of deaths and recoveries by gender between countries?\n",
    "3. Is there a relationship between the number of cases and population density in the US?"
   ]
  },
  {
   "cell_type": "markdown",
   "metadata": {},
   "source": [
    "## Relationship between the coronavirus spread and the weather"
   ]
  },
  {
   "cell_type": "markdown",
   "metadata": {},
   "source": [
    "This question is one of the [5 tasks available in Kaggle](https://www.kaggle.com/sudalairajkumar/novel-corona-virus-2019-dataset/tasks?taskId=62) about the COVID-19. For this question, I am going to use different datasets:\n",
    "1. The first 4 were obtained from Kaggle: \n",
    "    1. \"[covid_19_data.csv](https://www.kaggle.com/sudalairajkumar/novel-corona-virus-2019-dataset#covid_19_data.csv)\": Relates the total number of confirmed, deaths and recovered cases per day, Province/State and Country/Region.\n",
    "    2. \"[time_series_covid_19_confirmed.csv](https://www.kaggle.com/sudalairajkumar/novel-corona-virus-2019-dataset#time_series_covid_19_confirmed.csv)\": Time series data on number of confirmed cases.\n",
    "    3. \"[time_series_covid_19_deaths.csv](https://www.kaggle.com/sudalairajkumar/novel-corona-virus-2019-dataset#time_series_covid_19_deaths.csv)\": Time series data on number of deaths.\n",
    "    4. \"[time_series_covid_19_recovered.csv](https://www.kaggle.com/sudalairajkumar/novel-corona-virus-2019-dataset#time_series_covid_19_recovered.csv)\": Time series data on number of recovered cases.\n",
    "2. The weather datasets (5) were obtained from [\"Weather Underground\"](https://www.wunderground.com/).      \n",
    "\n"
   ]
  },
  {
   "cell_type": "code",
   "execution_count": 442,
   "metadata": {},
   "outputs": [],
   "source": [
    "# Load libraries\n",
    "import pandas as pd\n",
    "import numpy as np\n",
    "# Use the \"glob\" module to extract pathnames matching a specified pattern\n",
    "import glob\n",
    "import calendar\n",
    "# Visualization\n",
    "import seaborn as sns\n",
    "import matplotlib.pyplot as plt\n",
    "import plotly.express as px\n",
    "from scipy.stats import mannwhitneyu"
   ]
  },
  {
   "cell_type": "code",
   "execution_count": 2,
   "metadata": {},
   "outputs": [
    {
     "data": {
      "text/html": [
       "<div>\n",
       "<style scoped>\n",
       "    .dataframe tbody tr th:only-of-type {\n",
       "        vertical-align: middle;\n",
       "    }\n",
       "\n",
       "    .dataframe tbody tr th {\n",
       "        vertical-align: top;\n",
       "    }\n",
       "\n",
       "    .dataframe thead th {\n",
       "        text-align: right;\n",
       "    }\n",
       "</style>\n",
       "<table border=\"1\" class=\"dataframe\">\n",
       "  <thead>\n",
       "    <tr style=\"text-align: right;\">\n",
       "      <th></th>\n",
       "      <th>SNo</th>\n",
       "      <th>ObservationDate</th>\n",
       "      <th>Province/State</th>\n",
       "      <th>Country/Region</th>\n",
       "      <th>Last Update</th>\n",
       "      <th>Confirmed</th>\n",
       "      <th>Deaths</th>\n",
       "      <th>Recovered</th>\n",
       "    </tr>\n",
       "  </thead>\n",
       "  <tbody>\n",
       "    <tr>\n",
       "      <th>0</th>\n",
       "      <td>1</td>\n",
       "      <td>01/22/2020</td>\n",
       "      <td>Anhui</td>\n",
       "      <td>Mainland China</td>\n",
       "      <td>1/22/2020 17:00</td>\n",
       "      <td>1.0</td>\n",
       "      <td>0.0</td>\n",
       "      <td>0.0</td>\n",
       "    </tr>\n",
       "    <tr>\n",
       "      <th>1</th>\n",
       "      <td>2</td>\n",
       "      <td>01/22/2020</td>\n",
       "      <td>Beijing</td>\n",
       "      <td>Mainland China</td>\n",
       "      <td>1/22/2020 17:00</td>\n",
       "      <td>14.0</td>\n",
       "      <td>0.0</td>\n",
       "      <td>0.0</td>\n",
       "    </tr>\n",
       "    <tr>\n",
       "      <th>2</th>\n",
       "      <td>3</td>\n",
       "      <td>01/22/2020</td>\n",
       "      <td>Chongqing</td>\n",
       "      <td>Mainland China</td>\n",
       "      <td>1/22/2020 17:00</td>\n",
       "      <td>6.0</td>\n",
       "      <td>0.0</td>\n",
       "      <td>0.0</td>\n",
       "    </tr>\n",
       "    <tr>\n",
       "      <th>3</th>\n",
       "      <td>4</td>\n",
       "      <td>01/22/2020</td>\n",
       "      <td>Fujian</td>\n",
       "      <td>Mainland China</td>\n",
       "      <td>1/22/2020 17:00</td>\n",
       "      <td>1.0</td>\n",
       "      <td>0.0</td>\n",
       "      <td>0.0</td>\n",
       "    </tr>\n",
       "    <tr>\n",
       "      <th>4</th>\n",
       "      <td>5</td>\n",
       "      <td>01/22/2020</td>\n",
       "      <td>Gansu</td>\n",
       "      <td>Mainland China</td>\n",
       "      <td>1/22/2020 17:00</td>\n",
       "      <td>0.0</td>\n",
       "      <td>0.0</td>\n",
       "      <td>0.0</td>\n",
       "    </tr>\n",
       "  </tbody>\n",
       "</table>\n",
       "</div>"
      ],
      "text/plain": [
       "   SNo ObservationDate Province/State  Country/Region      Last Update  \\\n",
       "0    1      01/22/2020          Anhui  Mainland China  1/22/2020 17:00   \n",
       "1    2      01/22/2020        Beijing  Mainland China  1/22/2020 17:00   \n",
       "2    3      01/22/2020      Chongqing  Mainland China  1/22/2020 17:00   \n",
       "3    4      01/22/2020         Fujian  Mainland China  1/22/2020 17:00   \n",
       "4    5      01/22/2020          Gansu  Mainland China  1/22/2020 17:00   \n",
       "\n",
       "   Confirmed  Deaths  Recovered  \n",
       "0        1.0     0.0        0.0  \n",
       "1       14.0     0.0        0.0  \n",
       "2        6.0     0.0        0.0  \n",
       "3        1.0     0.0        0.0  \n",
       "4        0.0     0.0        0.0  "
      ]
     },
     "execution_count": 2,
     "metadata": {},
     "output_type": "execute_result"
    }
   ],
   "source": [
    "# Load the covid_19_data dataset \n",
    "covid_2019=pd.read_csv(\"novel-corona-virus-2019-dataset/covid_19_data.csv\")\n",
    "covid_2019.head()"
   ]
  },
  {
   "cell_type": "code",
   "execution_count": 3,
   "metadata": {},
   "outputs": [
    {
     "data": {
      "text/plain": [
       "SNo                  int64\n",
       "ObservationDate     object\n",
       "Province/State      object\n",
       "Country/Region      object\n",
       "Last Update         object\n",
       "Confirmed          float64\n",
       "Deaths             float64\n",
       "Recovered          float64\n",
       "dtype: object"
      ]
     },
     "execution_count": 3,
     "metadata": {},
     "output_type": "execute_result"
    }
   ],
   "source": [
    "# List the data feature types\n",
    "covid_2019.dtypes"
   ]
  },
  {
   "cell_type": "code",
   "execution_count": 4,
   "metadata": {},
   "outputs": [
    {
     "data": {
      "text/plain": [
       "SNo                         int64\n",
       "ObservationDate    datetime64[ns]\n",
       "Province/State           category\n",
       "Country/Region           category\n",
       "Last Update        datetime64[ns]\n",
       "Confirmed                   int64\n",
       "Deaths                      int64\n",
       "Recovered                   int64\n",
       "dtype: object"
      ]
     },
     "execution_count": 4,
     "metadata": {},
     "output_type": "execute_result"
    }
   ],
   "source": [
    "## Transform the data type to the correct format\n",
    "# 'Last Update' and 'ObservationDate' to datetime\n",
    "covid_2019['Last Update']=pd.to_datetime(covid_2019['Last Update'])\n",
    "covid_2019['ObservationDate']=pd.to_datetime(covid_2019['ObservationDate'])\n",
    "# 'Confirmed','Deaths','Recovered' to int\n",
    "covid_2019[['Confirmed','Deaths','Recovered']]=covid_2019[['Confirmed','Deaths','Recovered']].astype('int')\n",
    "# \n",
    "covid_2019[['Province/State','Country/Region']]=covid_2019[['Province/State','Country/Region']].astype('category')\n",
    "covid_2019.dtypes"
   ]
  },
  {
   "cell_type": "markdown",
   "metadata": {},
   "source": [
    "### Cities Selection\n",
    "For this study I considered the weather in the last 4 months (December 1 to March 29) of 9 differents cities. The selection criterion was:\n",
    "* Include the most infected city of the 3 countries with more cases. At 30/03/2020 these countries were US, Italy, and Spain, and the cities were \"New York\" (US), the region of \"Lombardia\" in Italy (in this case we selected Milan, which is the capital of Lombardia), and Madrid (Spain) (see details in the subsection [Most infected city of the 3 countries with more cases](#sec:most_infected_cities)).\n",
    "* Include the city with a greater number of cases for the 3 coldest countries. The list with the coldest countries in the World was obtained from [here](https://www.swedishnomad.com/coldest-countries-in-the-world/) taking into account the average yearly temperature. \n",
    "    * The results show that the coldest countries with more cases are \"Austria\", \"Norway\", and \"Sweden\" with 9618, 4445 and 4028 cases respectively. For these countries the most afected cities are Vienna (Austria's capital), Oslo (Norway's capital) and Stockholm (Sweden's capital). For details, see the subsection [Cities in Coldest-Countries](sec:coldest_countries). \n",
    "* Include the city with a greater number of cases for the 3 hottest countries. A list with the 15 hottest countries given the average yearly temperature was obtained from [here](https://www.swedishnomad.com/hottest-countries-in-the-world/). \n",
    "    * Given these selection parameters, I obtained that the hottest 3 countries with the greatest number of cases are Qatar, United Arab Emirates and Burkina Faso with 693, 611 and 246 cases respectively. I can't found a free access to the weather data of Burkina Faso and as consequence I pick the next country in the list, which is Senegal with 162 cases. The historic weather in the capitals of these 3 countries (Doha, Dubai, Dakar) were selected for this analysis (see details in the subsection [Cities in Hottest-Countries](#sec:hottest_countries)).\n",
    "\n",
    "\n",
    "> Unfortunately, it was very difficult for me to find accurate information about the weather by country/cities in the last 4 months. All the webpages sell this information (and is very expensive by the way), so, I created and curated manually this data. If anybody has or knows where to obtain this kind of data easily, please, share this information."
   ]
  },
  {
   "cell_type": "markdown",
   "metadata": {},
   "source": [
    "#### Most infected city of the 3 countries with more cases\n",
    "<a id='sec:most_infected_cities'></a>"
   ]
  },
  {
   "cell_type": "code",
   "execution_count": 5,
   "metadata": {},
   "outputs": [
    {
     "data": {
      "text/html": [
       "<div>\n",
       "<style scoped>\n",
       "    .dataframe tbody tr th:only-of-type {\n",
       "        vertical-align: middle;\n",
       "    }\n",
       "\n",
       "    .dataframe tbody tr th {\n",
       "        vertical-align: top;\n",
       "    }\n",
       "\n",
       "    .dataframe thead th {\n",
       "        text-align: right;\n",
       "    }\n",
       "</style>\n",
       "<table border=\"1\" class=\"dataframe\">\n",
       "  <thead>\n",
       "    <tr style=\"text-align: right;\">\n",
       "      <th></th>\n",
       "      <th>SNo</th>\n",
       "      <th>ObservationDate</th>\n",
       "      <th>Province/State</th>\n",
       "      <th>Country/Region</th>\n",
       "      <th>Last Update</th>\n",
       "      <th>Confirmed</th>\n",
       "      <th>Deaths</th>\n",
       "      <th>Recovered</th>\n",
       "    </tr>\n",
       "  </thead>\n",
       "  <tbody>\n",
       "    <tr>\n",
       "      <th>11299</th>\n",
       "      <td>11300</td>\n",
       "      <td>2020-04-03</td>\n",
       "      <td>NaN</td>\n",
       "      <td>Afghanistan</td>\n",
       "      <td>2020-04-03 22:52:45</td>\n",
       "      <td>281</td>\n",
       "      <td>6</td>\n",
       "      <td>10</td>\n",
       "    </tr>\n",
       "    <tr>\n",
       "      <th>11300</th>\n",
       "      <td>11301</td>\n",
       "      <td>2020-04-03</td>\n",
       "      <td>NaN</td>\n",
       "      <td>Albania</td>\n",
       "      <td>2020-04-03 22:52:45</td>\n",
       "      <td>304</td>\n",
       "      <td>17</td>\n",
       "      <td>89</td>\n",
       "    </tr>\n",
       "    <tr>\n",
       "      <th>11301</th>\n",
       "      <td>11302</td>\n",
       "      <td>2020-04-03</td>\n",
       "      <td>NaN</td>\n",
       "      <td>Algeria</td>\n",
       "      <td>2020-04-03 22:52:45</td>\n",
       "      <td>1171</td>\n",
       "      <td>105</td>\n",
       "      <td>62</td>\n",
       "    </tr>\n",
       "    <tr>\n",
       "      <th>11302</th>\n",
       "      <td>11303</td>\n",
       "      <td>2020-04-03</td>\n",
       "      <td>NaN</td>\n",
       "      <td>Andorra</td>\n",
       "      <td>2020-04-03 22:52:45</td>\n",
       "      <td>439</td>\n",
       "      <td>16</td>\n",
       "      <td>16</td>\n",
       "    </tr>\n",
       "    <tr>\n",
       "      <th>11303</th>\n",
       "      <td>11304</td>\n",
       "      <td>2020-04-03</td>\n",
       "      <td>NaN</td>\n",
       "      <td>Angola</td>\n",
       "      <td>2020-04-03 22:52:45</td>\n",
       "      <td>8</td>\n",
       "      <td>2</td>\n",
       "      <td>1</td>\n",
       "    </tr>\n",
       "  </tbody>\n",
       "</table>\n",
       "</div>"
      ],
      "text/plain": [
       "         SNo ObservationDate Province/State Country/Region  \\\n",
       "11299  11300      2020-04-03            NaN    Afghanistan   \n",
       "11300  11301      2020-04-03            NaN        Albania   \n",
       "11301  11302      2020-04-03            NaN        Algeria   \n",
       "11302  11303      2020-04-03            NaN        Andorra   \n",
       "11303  11304      2020-04-03            NaN         Angola   \n",
       "\n",
       "              Last Update  Confirmed  Deaths  Recovered  \n",
       "11299 2020-04-03 22:52:45        281       6         10  \n",
       "11300 2020-04-03 22:52:45        304      17         89  \n",
       "11301 2020-04-03 22:52:45       1171     105         62  \n",
       "11302 2020-04-03 22:52:45        439      16         16  \n",
       "11303 2020-04-03 22:52:45          8       2          1  "
      ]
     },
     "execution_count": 5,
     "metadata": {},
     "output_type": "execute_result"
    }
   ],
   "source": [
    "# Extract the data of the last day\n",
    "covid_2019_lastDay=covid_2019.loc[covid_2019['ObservationDate']==max(covid_2019['ObservationDate']),:]\n",
    "covid_2019_lastDay.head()"
   ]
  },
  {
   "cell_type": "code",
   "execution_count": 6,
   "metadata": {},
   "outputs": [
    {
     "name": "stdout",
     "output_type": "stream",
     "text": [
      "The countries with more cases are:\n",
      "                 Confirmed\n",
      "Country/Region           \n",
      "US                 275586\n",
      "Italy              119827\n",
      "Spain              119199\n",
      "Germany             91159\n",
      "Mainland China      81623\n"
     ]
    }
   ],
   "source": [
    "# Compute the number total cases by country\n",
    "cases_by_countries=covid_2019_lastDay.pivot_table(index=['Country/Region'],\n",
    "                                                  values='Confirmed',\n",
    "                                                  aggfunc='sum').sort_values(by='Confirmed',\n",
    "                                                                             ascending=False)\n",
    "print('The countries with more cases are:\\n {}'.format(cases_by_countries.head()))"
   ]
  },
  {
   "cell_type": "code",
   "execution_count": 7,
   "metadata": {},
   "outputs": [
    {
     "name": "stdout",
     "output_type": "stream",
     "text": [
      "The cities with more cases for each of the top countries are:\n",
      "          US     Italy     Spain\n",
      "0  New York       NaN       NaN\n",
      "1    102987  119827.0  119199.0\n"
     ]
    }
   ],
   "source": [
    "# Select the city with more cases for each of the first 3 countries.\n",
    "countries=['US', 'Italy','Spain']\n",
    "function = lambda country: covid_2019_lastDay.loc[covid_2019_lastDay['Country/Region']==country,:].sort_values(by='Confirmed',\n",
    "                                                                             ascending=False).iloc[0,[2,5]]\n",
    "\n",
    "result={country: list(function(country)) for country in countries}\n",
    "print('The cities with more cases for each of the top countries are:\\n {}'.format(pd.DataFrame(result)))"
   ]
  },
  {
   "cell_type": "markdown",
   "metadata": {},
   "source": [
    "We can see here something unexpected (wasn't obtained any city for Italy or Spain). Let's see what happened:"
   ]
  },
  {
   "cell_type": "code",
   "execution_count": 8,
   "metadata": {},
   "outputs": [
    {
     "data": {
      "text/html": [
       "<div>\n",
       "<style scoped>\n",
       "    .dataframe tbody tr th:only-of-type {\n",
       "        vertical-align: middle;\n",
       "    }\n",
       "\n",
       "    .dataframe tbody tr th {\n",
       "        vertical-align: top;\n",
       "    }\n",
       "\n",
       "    .dataframe thead th {\n",
       "        text-align: right;\n",
       "    }\n",
       "</style>\n",
       "<table border=\"1\" class=\"dataframe\">\n",
       "  <thead>\n",
       "    <tr style=\"text-align: right;\">\n",
       "      <th></th>\n",
       "      <th>SNo</th>\n",
       "      <th>ObservationDate</th>\n",
       "      <th>Province/State</th>\n",
       "      <th>Country/Region</th>\n",
       "      <th>Last Update</th>\n",
       "      <th>Confirmed</th>\n",
       "      <th>Deaths</th>\n",
       "      <th>Recovered</th>\n",
       "    </tr>\n",
       "  </thead>\n",
       "  <tbody>\n",
       "    <tr>\n",
       "      <th>11379</th>\n",
       "      <td>11380</td>\n",
       "      <td>2020-04-03</td>\n",
       "      <td>NaN</td>\n",
       "      <td>Italy</td>\n",
       "      <td>2020-04-03 22:52:45</td>\n",
       "      <td>119827</td>\n",
       "      <td>14681</td>\n",
       "      <td>19758</td>\n",
       "    </tr>\n",
       "    <tr>\n",
       "      <th>11064</th>\n",
       "      <td>11065</td>\n",
       "      <td>2020-04-02</td>\n",
       "      <td>NaN</td>\n",
       "      <td>Italy</td>\n",
       "      <td>2020-04-02 23:32:01</td>\n",
       "      <td>115242</td>\n",
       "      <td>13915</td>\n",
       "      <td>18278</td>\n",
       "    </tr>\n",
       "    <tr>\n",
       "      <th>10751</th>\n",
       "      <td>10752</td>\n",
       "      <td>2020-04-01</td>\n",
       "      <td>NaN</td>\n",
       "      <td>Italy</td>\n",
       "      <td>2020-04-01 22:04:58</td>\n",
       "      <td>110574</td>\n",
       "      <td>13155</td>\n",
       "      <td>16847</td>\n",
       "    </tr>\n",
       "    <tr>\n",
       "      <th>10438</th>\n",
       "      <td>10439</td>\n",
       "      <td>2020-03-31</td>\n",
       "      <td>NaN</td>\n",
       "      <td>Italy</td>\n",
       "      <td>2020-03-31 23:49:27</td>\n",
       "      <td>105792</td>\n",
       "      <td>12428</td>\n",
       "      <td>15729</td>\n",
       "    </tr>\n",
       "    <tr>\n",
       "      <th>10125</th>\n",
       "      <td>10126</td>\n",
       "      <td>2020-03-30</td>\n",
       "      <td>NaN</td>\n",
       "      <td>Italy</td>\n",
       "      <td>2020-03-30 22:58:55</td>\n",
       "      <td>101739</td>\n",
       "      <td>11591</td>\n",
       "      <td>14620</td>\n",
       "    </tr>\n",
       "  </tbody>\n",
       "</table>\n",
       "</div>"
      ],
      "text/plain": [
       "         SNo ObservationDate Province/State Country/Region  \\\n",
       "11379  11380      2020-04-03            NaN          Italy   \n",
       "11064  11065      2020-04-02            NaN          Italy   \n",
       "10751  10752      2020-04-01            NaN          Italy   \n",
       "10438  10439      2020-03-31            NaN          Italy   \n",
       "10125  10126      2020-03-30            NaN          Italy   \n",
       "\n",
       "              Last Update  Confirmed  Deaths  Recovered  \n",
       "11379 2020-04-03 22:52:45     119827   14681      19758  \n",
       "11064 2020-04-02 23:32:01     115242   13915      18278  \n",
       "10751 2020-04-01 22:04:58     110574   13155      16847  \n",
       "10438 2020-03-31 23:49:27     105792   12428      15729  \n",
       "10125 2020-03-30 22:58:55     101739   11591      14620  "
      ]
     },
     "execution_count": 8,
     "metadata": {},
     "output_type": "execute_result"
    }
   ],
   "source": [
    "# Slice the dataset to show only the information relative to Italy \n",
    "covid_2019.loc[covid_2019['Country/Region']=='Italy',:].sort_values(by='Confirmed',\n",
    "                                                                             ascending=False).head()"
   ]
  },
  {
   "cell_type": "markdown",
   "metadata": {},
   "source": [
    "The problem seems to be clear, and it's that our dataset doesn't contain the information of Italy or Spain segmented by regions or provinces (note that only exists one record per day). Fortunately, in the case of Italy, this inconvenience can be overcome using another available [dataset in Kaggle that contain specific information about Italy](https://www.kaggle.com/sudalairajkumar/covid19-in-italy#covid19_italy_region.csv). Therefore, I decided to drop all the information relative to Italy from the `covid_2019` dataset and include the new information available in the Italy dataset."
   ]
  },
  {
   "cell_type": "code",
   "execution_count": 9,
   "metadata": {},
   "outputs": [
    {
     "data": {
      "text/html": [
       "<div>\n",
       "<style scoped>\n",
       "    .dataframe tbody tr th:only-of-type {\n",
       "        vertical-align: middle;\n",
       "    }\n",
       "\n",
       "    .dataframe tbody tr th {\n",
       "        vertical-align: top;\n",
       "    }\n",
       "\n",
       "    .dataframe thead th {\n",
       "        text-align: right;\n",
       "    }\n",
       "</style>\n",
       "<table border=\"1\" class=\"dataframe\">\n",
       "  <thead>\n",
       "    <tr style=\"text-align: right;\">\n",
       "      <th></th>\n",
       "      <th>SNo</th>\n",
       "      <th>ObservationDate</th>\n",
       "      <th>Province/State</th>\n",
       "      <th>Country/Region</th>\n",
       "      <th>Last Update</th>\n",
       "      <th>Confirmed</th>\n",
       "      <th>Deaths</th>\n",
       "      <th>Recovered</th>\n",
       "    </tr>\n",
       "  </thead>\n",
       "  <tbody>\n",
       "  </tbody>\n",
       "</table>\n",
       "</div>"
      ],
      "text/plain": [
       "Empty DataFrame\n",
       "Columns: [SNo, ObservationDate, Province/State, Country/Region, Last Update, Confirmed, Deaths, Recovered]\n",
       "Index: []"
      ]
     },
     "execution_count": 9,
     "metadata": {},
     "output_type": "execute_result"
    }
   ],
   "source": [
    "# Drop all the information relative  to Italy from \"covid_2019\"\n",
    "covid_2019=covid_2019.loc[covid_2019['Country/Region']!='Italy',:]\n",
    "# Check that the information was droped\n",
    "covid_2019.loc[covid_2019['Country/Region']=='Italy',:]"
   ]
  },
  {
   "cell_type": "code",
   "execution_count": 10,
   "metadata": {},
   "outputs": [
    {
     "data": {
      "text/plain": [
       "Index(['SNo', 'Date', 'Country', 'RegionCode', 'RegionName', 'Latitude',\n",
       "       'Longitude', 'HospitalizedPatients', 'IntensiveCarePatients',\n",
       "       'TotalHospitalizedPatients', 'HomeConfinement', 'CurrentPositiveCases',\n",
       "       'NewPositiveCases', 'Recovered', 'Deaths', 'TotalPositiveCases',\n",
       "       'TestsPerformed'],\n",
       "      dtype='object')"
      ]
     },
     "execution_count": 10,
     "metadata": {},
     "output_type": "execute_result"
    }
   ],
   "source": [
    "# Load the new dataframe with the information about Italy\n",
    "italy=pd.read_csv(\"novel-corona-virus-2019-dataset/covid19_italy_region.csv\")\n",
    "# print the columns in this dataframe\n",
    "italy.columns"
   ]
  },
  {
   "cell_type": "markdown",
   "metadata": {},
   "source": [
    "If we look at the columns of the `italy` dataframme, shows up that the features that  we need to concat the `covid_2019` dataframe and the new one are: `Sno`, `Country`, `Date`, `Recovered`, `Deaths`, `TotalPositiveCases`."
   ]
  },
  {
   "cell_type": "code",
   "execution_count": 11,
   "metadata": {},
   "outputs": [],
   "source": [
    "# Create a new dataframe for Italy with only the necesary variables (listed above)\n",
    "italy=italy[['SNo','Date','RegionName','Country','Date','TotalPositiveCases','Deaths','Recovered']]\n",
    "italy.columns=['SNo','ObservationDate','Province/State','Country/Region','Last Update',\n",
    "               'Confirmed','Deaths','Recovered']"
   ]
  },
  {
   "cell_type": "code",
   "execution_count": 12,
   "metadata": {},
   "outputs": [
    {
     "data": {
      "text/html": [
       "<div>\n",
       "<style scoped>\n",
       "    .dataframe tbody tr th:only-of-type {\n",
       "        vertical-align: middle;\n",
       "    }\n",
       "\n",
       "    .dataframe tbody tr th {\n",
       "        vertical-align: top;\n",
       "    }\n",
       "\n",
       "    .dataframe thead th {\n",
       "        text-align: right;\n",
       "    }\n",
       "</style>\n",
       "<table border=\"1\" class=\"dataframe\">\n",
       "  <thead>\n",
       "    <tr style=\"text-align: right;\">\n",
       "      <th></th>\n",
       "      <th>SNo</th>\n",
       "      <th>ObservationDate</th>\n",
       "      <th>Province/State</th>\n",
       "      <th>Country/Region</th>\n",
       "      <th>Last Update</th>\n",
       "      <th>Confirmed</th>\n",
       "      <th>Deaths</th>\n",
       "      <th>Recovered</th>\n",
       "    </tr>\n",
       "  </thead>\n",
       "  <tbody>\n",
       "    <tr>\n",
       "      <th>0</th>\n",
       "      <td>0</td>\n",
       "      <td>2020-02-24T18:00:00</td>\n",
       "      <td>Abruzzo</td>\n",
       "      <td>Italy</td>\n",
       "      <td>2020-02-24T18:00:00</td>\n",
       "      <td>0</td>\n",
       "      <td>0</td>\n",
       "      <td>0</td>\n",
       "    </tr>\n",
       "    <tr>\n",
       "      <th>1</th>\n",
       "      <td>1</td>\n",
       "      <td>2020-02-24T18:00:00</td>\n",
       "      <td>Basilicata</td>\n",
       "      <td>Italy</td>\n",
       "      <td>2020-02-24T18:00:00</td>\n",
       "      <td>0</td>\n",
       "      <td>0</td>\n",
       "      <td>0</td>\n",
       "    </tr>\n",
       "    <tr>\n",
       "      <th>2</th>\n",
       "      <td>2</td>\n",
       "      <td>2020-02-24T18:00:00</td>\n",
       "      <td>P.A. Bolzano</td>\n",
       "      <td>Italy</td>\n",
       "      <td>2020-02-24T18:00:00</td>\n",
       "      <td>0</td>\n",
       "      <td>0</td>\n",
       "      <td>0</td>\n",
       "    </tr>\n",
       "    <tr>\n",
       "      <th>3</th>\n",
       "      <td>3</td>\n",
       "      <td>2020-02-24T18:00:00</td>\n",
       "      <td>Calabria</td>\n",
       "      <td>Italy</td>\n",
       "      <td>2020-02-24T18:00:00</td>\n",
       "      <td>0</td>\n",
       "      <td>0</td>\n",
       "      <td>0</td>\n",
       "    </tr>\n",
       "    <tr>\n",
       "      <th>4</th>\n",
       "      <td>4</td>\n",
       "      <td>2020-02-24T18:00:00</td>\n",
       "      <td>Campania</td>\n",
       "      <td>Italy</td>\n",
       "      <td>2020-02-24T18:00:00</td>\n",
       "      <td>0</td>\n",
       "      <td>0</td>\n",
       "      <td>0</td>\n",
       "    </tr>\n",
       "  </tbody>\n",
       "</table>\n",
       "</div>"
      ],
      "text/plain": [
       "   SNo      ObservationDate Province/State Country/Region  \\\n",
       "0    0  2020-02-24T18:00:00        Abruzzo          Italy   \n",
       "1    1  2020-02-24T18:00:00     Basilicata          Italy   \n",
       "2    2  2020-02-24T18:00:00   P.A. Bolzano          Italy   \n",
       "3    3  2020-02-24T18:00:00       Calabria          Italy   \n",
       "4    4  2020-02-24T18:00:00       Campania          Italy   \n",
       "\n",
       "           Last Update  Confirmed  Deaths  Recovered  \n",
       "0  2020-02-24T18:00:00          0       0          0  \n",
       "1  2020-02-24T18:00:00          0       0          0  \n",
       "2  2020-02-24T18:00:00          0       0          0  \n",
       "3  2020-02-24T18:00:00          0       0          0  \n",
       "4  2020-02-24T18:00:00          0       0          0  "
      ]
     },
     "execution_count": 12,
     "metadata": {},
     "output_type": "execute_result"
    }
   ],
   "source": [
    "# Concat the two dataframes\n",
    "covid_2019=pd.concat([covid_2019,italy])\n",
    "# Rename ITA for Italy\n",
    "covid_2019['Country/Region'].replace(to_replace='ITA',value='Italy',inplace=True)\n",
    "covid_2019.loc[covid_2019['Country/Region']=='Italy',:].head()"
   ]
  },
  {
   "cell_type": "markdown",
   "metadata": {},
   "source": [
    "I don't found detailed information on the number of cases in Spain by region, but, we know that the greatest number of cases are in Madrid, so, I'm going to pick the information about the weather in Madrid for this analysis.   \n",
    "Finally, the functions `transform_dtypes` and `cases_country_city` available in the `functions.py` script runs all the steps that we did earlier in [this subsection](#sec:most_infected_cities). The results shows that at this moment New York is US's city with more cases ($\\approx 66663$), while the region of Lombardia in Italy has $\\approx 42161$ cases."
   ]
  },
  {
   "cell_type": "code",
   "execution_count": 13,
   "metadata": {},
   "outputs": [
    {
     "data": {
      "text/html": [
       "<div>\n",
       "<style scoped>\n",
       "    .dataframe tbody tr th:only-of-type {\n",
       "        vertical-align: middle;\n",
       "    }\n",
       "\n",
       "    .dataframe tbody tr th {\n",
       "        vertical-align: top;\n",
       "    }\n",
       "\n",
       "    .dataframe thead th {\n",
       "        text-align: right;\n",
       "    }\n",
       "</style>\n",
       "<table border=\"1\" class=\"dataframe\">\n",
       "  <thead>\n",
       "    <tr style=\"text-align: right;\">\n",
       "      <th></th>\n",
       "      <th>SNo</th>\n",
       "      <th>ObservationDate</th>\n",
       "      <th>Province/State</th>\n",
       "      <th>Country/Region</th>\n",
       "      <th>Last Update</th>\n",
       "      <th>Confirmed</th>\n",
       "      <th>Deaths</th>\n",
       "      <th>Recovered</th>\n",
       "    </tr>\n",
       "  </thead>\n",
       "  <tbody>\n",
       "    <tr>\n",
       "      <th>0</th>\n",
       "      <td>1</td>\n",
       "      <td>2020-01-22 00:00:00</td>\n",
       "      <td>Anhui</td>\n",
       "      <td>Mainland China</td>\n",
       "      <td>2020-01-22 17:00:00</td>\n",
       "      <td>1</td>\n",
       "      <td>0</td>\n",
       "      <td>0</td>\n",
       "    </tr>\n",
       "    <tr>\n",
       "      <th>1</th>\n",
       "      <td>2</td>\n",
       "      <td>2020-01-22 00:00:00</td>\n",
       "      <td>Beijing</td>\n",
       "      <td>Mainland China</td>\n",
       "      <td>2020-01-22 17:00:00</td>\n",
       "      <td>14</td>\n",
       "      <td>0</td>\n",
       "      <td>0</td>\n",
       "    </tr>\n",
       "    <tr>\n",
       "      <th>2</th>\n",
       "      <td>3</td>\n",
       "      <td>2020-01-22 00:00:00</td>\n",
       "      <td>Chongqing</td>\n",
       "      <td>Mainland China</td>\n",
       "      <td>2020-01-22 17:00:00</td>\n",
       "      <td>6</td>\n",
       "      <td>0</td>\n",
       "      <td>0</td>\n",
       "    </tr>\n",
       "    <tr>\n",
       "      <th>3</th>\n",
       "      <td>4</td>\n",
       "      <td>2020-01-22 00:00:00</td>\n",
       "      <td>Fujian</td>\n",
       "      <td>Mainland China</td>\n",
       "      <td>2020-01-22 17:00:00</td>\n",
       "      <td>1</td>\n",
       "      <td>0</td>\n",
       "      <td>0</td>\n",
       "    </tr>\n",
       "    <tr>\n",
       "      <th>4</th>\n",
       "      <td>5</td>\n",
       "      <td>2020-01-22 00:00:00</td>\n",
       "      <td>Gansu</td>\n",
       "      <td>Mainland China</td>\n",
       "      <td>2020-01-22 17:00:00</td>\n",
       "      <td>0</td>\n",
       "      <td>0</td>\n",
       "      <td>0</td>\n",
       "    </tr>\n",
       "    <tr>\n",
       "      <th>...</th>\n",
       "      <td>...</td>\n",
       "      <td>...</td>\n",
       "      <td>...</td>\n",
       "      <td>...</td>\n",
       "      <td>...</td>\n",
       "      <td>...</td>\n",
       "      <td>...</td>\n",
       "      <td>...</td>\n",
       "    </tr>\n",
       "    <tr>\n",
       "      <th>835</th>\n",
       "      <td>835</td>\n",
       "      <td>2020-04-03T17:00:00</td>\n",
       "      <td>Toscana</td>\n",
       "      <td>Italy</td>\n",
       "      <td>2020-04-03T17:00:00</td>\n",
       "      <td>5499</td>\n",
       "      <td>290</td>\n",
       "      <td>300</td>\n",
       "    </tr>\n",
       "    <tr>\n",
       "      <th>836</th>\n",
       "      <td>836</td>\n",
       "      <td>2020-04-03T17:00:00</td>\n",
       "      <td>P.A. Trento</td>\n",
       "      <td>Italy</td>\n",
       "      <td>2020-04-03T17:00:00</td>\n",
       "      <td>2109</td>\n",
       "      <td>204</td>\n",
       "      <td>246</td>\n",
       "    </tr>\n",
       "    <tr>\n",
       "      <th>837</th>\n",
       "      <td>837</td>\n",
       "      <td>2020-04-03T17:00:00</td>\n",
       "      <td>Umbria</td>\n",
       "      <td>Italy</td>\n",
       "      <td>2020-04-03T17:00:00</td>\n",
       "      <td>1179</td>\n",
       "      <td>39</td>\n",
       "      <td>220</td>\n",
       "    </tr>\n",
       "    <tr>\n",
       "      <th>838</th>\n",
       "      <td>838</td>\n",
       "      <td>2020-04-03T17:00:00</td>\n",
       "      <td>Valle d'Aosta</td>\n",
       "      <td>Italy</td>\n",
       "      <td>2020-04-03T17:00:00</td>\n",
       "      <td>719</td>\n",
       "      <td>70</td>\n",
       "      <td>89</td>\n",
       "    </tr>\n",
       "    <tr>\n",
       "      <th>839</th>\n",
       "      <td>839</td>\n",
       "      <td>2020-04-03T17:00:00</td>\n",
       "      <td>Veneto</td>\n",
       "      <td>Italy</td>\n",
       "      <td>2020-04-03T17:00:00</td>\n",
       "      <td>10464</td>\n",
       "      <td>572</td>\n",
       "      <td>1031</td>\n",
       "    </tr>\n",
       "  </tbody>\n",
       "</table>\n",
       "<p>12390 rows × 8 columns</p>\n",
       "</div>"
      ],
      "text/plain": [
       "     SNo      ObservationDate Province/State  Country/Region  \\\n",
       "0      1  2020-01-22 00:00:00          Anhui  Mainland China   \n",
       "1      2  2020-01-22 00:00:00        Beijing  Mainland China   \n",
       "2      3  2020-01-22 00:00:00      Chongqing  Mainland China   \n",
       "3      4  2020-01-22 00:00:00         Fujian  Mainland China   \n",
       "4      5  2020-01-22 00:00:00          Gansu  Mainland China   \n",
       "..   ...                  ...            ...             ...   \n",
       "835  835  2020-04-03T17:00:00        Toscana           Italy   \n",
       "836  836  2020-04-03T17:00:00    P.A. Trento           Italy   \n",
       "837  837  2020-04-03T17:00:00         Umbria           Italy   \n",
       "838  838  2020-04-03T17:00:00  Valle d'Aosta           Italy   \n",
       "839  839  2020-04-03T17:00:00         Veneto           Italy   \n",
       "\n",
       "             Last Update  Confirmed  Deaths  Recovered  \n",
       "0    2020-01-22 17:00:00          1       0          0  \n",
       "1    2020-01-22 17:00:00         14       0          0  \n",
       "2    2020-01-22 17:00:00          6       0          0  \n",
       "3    2020-01-22 17:00:00          1       0          0  \n",
       "4    2020-01-22 17:00:00          0       0          0  \n",
       "..                   ...        ...     ...        ...  \n",
       "835  2020-04-03T17:00:00       5499     290        300  \n",
       "836  2020-04-03T17:00:00       2109     204        246  \n",
       "837  2020-04-03T17:00:00       1179      39        220  \n",
       "838  2020-04-03T17:00:00        719      70         89  \n",
       "839  2020-04-03T17:00:00      10464     572       1031  \n",
       "\n",
       "[12390 rows x 8 columns]"
      ]
     },
     "execution_count": 13,
     "metadata": {},
     "output_type": "execute_result"
    }
   ],
   "source": [
    "covid_2019"
   ]
  },
  {
   "cell_type": "code",
   "execution_count": 14,
   "metadata": {},
   "outputs": [
    {
     "data": {
      "text/plain": [
       "{'US': ['New York', 102987],\n",
       " 'Italy': ['Lombardia', 47520],\n",
       " 'Spain': [nan, 119199]}"
      ]
     },
     "execution_count": 14,
     "metadata": {},
     "output_type": "execute_result"
    }
   ],
   "source": [
    "from functions import transform_dtypes, cases_country_city\n",
    "# Transform data types\n",
    "covid_2019=transform_dtypes(covid_2019)\n",
    "# Extract the information about the cities with more cases\n",
    "_ , cities=cases_country_city(covid_2019)\n",
    "cities"
   ]
  },
  {
   "cell_type": "markdown",
   "metadata": {},
   "source": [
    "#### Cities in Coldest-Countries\n",
    "<a id='sec:coldest_countries'></a>"
   ]
  },
  {
   "cell_type": "code",
   "execution_count": 15,
   "metadata": {},
   "outputs": [
    {
     "data": {
      "text/html": [
       "<div>\n",
       "<style scoped>\n",
       "    .dataframe tbody tr th:only-of-type {\n",
       "        vertical-align: middle;\n",
       "    }\n",
       "\n",
       "    .dataframe tbody tr th {\n",
       "        vertical-align: top;\n",
       "    }\n",
       "\n",
       "    .dataframe thead th {\n",
       "        text-align: right;\n",
       "    }\n",
       "</style>\n",
       "<table border=\"1\" class=\"dataframe\">\n",
       "  <thead>\n",
       "    <tr style=\"text-align: right;\">\n",
       "      <th></th>\n",
       "      <th>SNo</th>\n",
       "      <th>ObservationDate</th>\n",
       "      <th>Province/State</th>\n",
       "      <th>Country/Region</th>\n",
       "      <th>Last Update</th>\n",
       "      <th>Confirmed</th>\n",
       "      <th>Deaths</th>\n",
       "      <th>Recovered</th>\n",
       "    </tr>\n",
       "  </thead>\n",
       "  <tbody>\n",
       "    <tr>\n",
       "      <th>11307</th>\n",
       "      <td>11308</td>\n",
       "      <td>2020-04-03</td>\n",
       "      <td>NaN</td>\n",
       "      <td>Austria</td>\n",
       "      <td>2020-04-03 22:52:45</td>\n",
       "      <td>11524</td>\n",
       "      <td>168</td>\n",
       "      <td>2022</td>\n",
       "    </tr>\n",
       "    <tr>\n",
       "      <th>11454</th>\n",
       "      <td>11455</td>\n",
       "      <td>2020-04-03</td>\n",
       "      <td>NaN</td>\n",
       "      <td>Sweden</td>\n",
       "      <td>2020-04-03 22:52:45</td>\n",
       "      <td>6131</td>\n",
       "      <td>358</td>\n",
       "      <td>205</td>\n",
       "    </tr>\n",
       "    <tr>\n",
       "      <th>11576</th>\n",
       "      <td>11577</td>\n",
       "      <td>2020-04-03</td>\n",
       "      <td>Quebec</td>\n",
       "      <td>Canada</td>\n",
       "      <td>2020-04-03 22:52:45</td>\n",
       "      <td>6101</td>\n",
       "      <td>61</td>\n",
       "      <td>0</td>\n",
       "    </tr>\n",
       "    <tr>\n",
       "      <th>11421</th>\n",
       "      <td>11422</td>\n",
       "      <td>2020-04-03</td>\n",
       "      <td>NaN</td>\n",
       "      <td>Norway</td>\n",
       "      <td>2020-04-03 22:52:45</td>\n",
       "      <td>5370</td>\n",
       "      <td>59</td>\n",
       "      <td>32</td>\n",
       "    </tr>\n",
       "    <tr>\n",
       "      <th>11433</th>\n",
       "      <td>11434</td>\n",
       "      <td>2020-04-03</td>\n",
       "      <td>NaN</td>\n",
       "      <td>Russia</td>\n",
       "      <td>2020-04-03 22:52:45</td>\n",
       "      <td>4149</td>\n",
       "      <td>34</td>\n",
       "      <td>281</td>\n",
       "    </tr>\n",
       "    <tr>\n",
       "      <th>11570</th>\n",
       "      <td>11571</td>\n",
       "      <td>2020-04-03</td>\n",
       "      <td>Ontario</td>\n",
       "      <td>Canada</td>\n",
       "      <td>2020-04-03 22:52:45</td>\n",
       "      <td>3255</td>\n",
       "      <td>67</td>\n",
       "      <td>0</td>\n",
       "    </tr>\n",
       "    <tr>\n",
       "      <th>11355</th>\n",
       "      <td>11356</td>\n",
       "      <td>2020-04-03</td>\n",
       "      <td>NaN</td>\n",
       "      <td>Finland</td>\n",
       "      <td>2020-04-03 22:52:45</td>\n",
       "      <td>1615</td>\n",
       "      <td>20</td>\n",
       "      <td>300</td>\n",
       "    </tr>\n",
       "    <tr>\n",
       "      <th>11372</th>\n",
       "      <td>11373</td>\n",
       "      <td>2020-04-03</td>\n",
       "      <td>NaN</td>\n",
       "      <td>Iceland</td>\n",
       "      <td>2020-04-03 22:52:45</td>\n",
       "      <td>1364</td>\n",
       "      <td>4</td>\n",
       "      <td>309</td>\n",
       "    </tr>\n",
       "    <tr>\n",
       "      <th>11488</th>\n",
       "      <td>11489</td>\n",
       "      <td>2020-04-03</td>\n",
       "      <td>British Columbia</td>\n",
       "      <td>Canada</td>\n",
       "      <td>2020-04-03 22:52:45</td>\n",
       "      <td>1174</td>\n",
       "      <td>31</td>\n",
       "      <td>0</td>\n",
       "    </tr>\n",
       "  </tbody>\n",
       "</table>\n",
       "</div>"
      ],
      "text/plain": [
       "         SNo ObservationDate    Province/State Country/Region  \\\n",
       "11307  11308      2020-04-03               NaN        Austria   \n",
       "11454  11455      2020-04-03               NaN         Sweden   \n",
       "11576  11577      2020-04-03            Quebec         Canada   \n",
       "11421  11422      2020-04-03               NaN         Norway   \n",
       "11433  11434      2020-04-03               NaN         Russia   \n",
       "11570  11571      2020-04-03           Ontario         Canada   \n",
       "11355  11356      2020-04-03               NaN        Finland   \n",
       "11372  11373      2020-04-03               NaN        Iceland   \n",
       "11488  11489      2020-04-03  British Columbia         Canada   \n",
       "\n",
       "              Last Update  Confirmed  Deaths  Recovered  \n",
       "11307 2020-04-03 22:52:45      11524     168       2022  \n",
       "11454 2020-04-03 22:52:45       6131     358        205  \n",
       "11576 2020-04-03 22:52:45       6101      61          0  \n",
       "11421 2020-04-03 22:52:45       5370      59         32  \n",
       "11433 2020-04-03 22:52:45       4149      34        281  \n",
       "11570 2020-04-03 22:52:45       3255      67          0  \n",
       "11355 2020-04-03 22:52:45       1615      20        300  \n",
       "11372 2020-04-03 22:52:45       1364       4        309  \n",
       "11488 2020-04-03 22:52:45       1174      31          0  "
      ]
     },
     "execution_count": 15,
     "metadata": {},
     "output_type": "execute_result"
    }
   ],
   "source": [
    "# List the names of the coldest countries\n",
    "coldest_countries=['Canada','Russia','Mongolia','Greenland','Sweden','Norway','Finland','Iceland','Austria']\n",
    "# Pick only the information of the countries in \"coldest_countries\" with more than 1000 cases\n",
    "ind=(covid_2019_lastDay['Country/Region'].isin(set(coldest_countries))) & (covid_2019_lastDay['Confirmed']>1000)\n",
    "# Subset and sort the dataframe using the number of confirmed cases\n",
    "covid_2019_lastDay.loc[ind,:].sort_values('Confirmed',ascending=False)"
   ]
  },
  {
   "cell_type": "markdown",
   "metadata": {},
   "source": [
    "#### Cities in Hottest-Countries\n",
    "<a id='sec:hottest_countries'></a>"
   ]
  },
  {
   "cell_type": "code",
   "execution_count": 16,
   "metadata": {},
   "outputs": [
    {
     "data": {
      "text/html": [
       "<div>\n",
       "<style scoped>\n",
       "    .dataframe tbody tr th:only-of-type {\n",
       "        vertical-align: middle;\n",
       "    }\n",
       "\n",
       "    .dataframe tbody tr th {\n",
       "        vertical-align: top;\n",
       "    }\n",
       "\n",
       "    .dataframe thead th {\n",
       "        text-align: right;\n",
       "    }\n",
       "</style>\n",
       "<table border=\"1\" class=\"dataframe\">\n",
       "  <thead>\n",
       "    <tr style=\"text-align: right;\">\n",
       "      <th></th>\n",
       "      <th>SNo</th>\n",
       "      <th>ObservationDate</th>\n",
       "      <th>Province/State</th>\n",
       "      <th>Country/Region</th>\n",
       "      <th>Last Update</th>\n",
       "      <th>Confirmed</th>\n",
       "      <th>Deaths</th>\n",
       "      <th>Recovered</th>\n",
       "    </tr>\n",
       "  </thead>\n",
       "  <tbody>\n",
       "    <tr>\n",
       "      <th>11468</th>\n",
       "      <td>11469</td>\n",
       "      <td>2020-04-03</td>\n",
       "      <td>NaN</td>\n",
       "      <td>United Arab Emirates</td>\n",
       "      <td>2020-04-03 22:52:45</td>\n",
       "      <td>1264</td>\n",
       "      <td>9</td>\n",
       "      <td>108</td>\n",
       "    </tr>\n",
       "    <tr>\n",
       "      <th>11431</th>\n",
       "      <td>11432</td>\n",
       "      <td>2020-04-03</td>\n",
       "      <td>NaN</td>\n",
       "      <td>Qatar</td>\n",
       "      <td>2020-04-03 22:52:45</td>\n",
       "      <td>1075</td>\n",
       "      <td>3</td>\n",
       "      <td>93</td>\n",
       "    </tr>\n",
       "    <tr>\n",
       "      <th>11324</th>\n",
       "      <td>11325</td>\n",
       "      <td>2020-04-03</td>\n",
       "      <td>NaN</td>\n",
       "      <td>Burkina Faso</td>\n",
       "      <td>2020-04-03 22:52:45</td>\n",
       "      <td>302</td>\n",
       "      <td>16</td>\n",
       "      <td>50</td>\n",
       "    </tr>\n",
       "    <tr>\n",
       "      <th>11440</th>\n",
       "      <td>11441</td>\n",
       "      <td>2020-04-03</td>\n",
       "      <td>NaN</td>\n",
       "      <td>Senegal</td>\n",
       "      <td>2020-04-03 22:52:45</td>\n",
       "      <td>207</td>\n",
       "      <td>1</td>\n",
       "      <td>66</td>\n",
       "    </tr>\n",
       "    <tr>\n",
       "      <th>11361</th>\n",
       "      <td>11362</td>\n",
       "      <td>2020-04-03</td>\n",
       "      <td>NaN</td>\n",
       "      <td>Ghana</td>\n",
       "      <td>2020-04-03 22:52:45</td>\n",
       "      <td>205</td>\n",
       "      <td>5</td>\n",
       "      <td>31</td>\n",
       "    </tr>\n",
       "  </tbody>\n",
       "</table>\n",
       "</div>"
      ],
      "text/plain": [
       "         SNo ObservationDate Province/State        Country/Region  \\\n",
       "11468  11469      2020-04-03            NaN  United Arab Emirates   \n",
       "11431  11432      2020-04-03            NaN                 Qatar   \n",
       "11324  11325      2020-04-03            NaN          Burkina Faso   \n",
       "11440  11441      2020-04-03            NaN               Senegal   \n",
       "11361  11362      2020-04-03            NaN                 Ghana   \n",
       "\n",
       "              Last Update  Confirmed  Deaths  Recovered  \n",
       "11468 2020-04-03 22:52:45       1264       9        108  \n",
       "11431 2020-04-03 22:52:45       1075       3         93  \n",
       "11324 2020-04-03 22:52:45        302      16         50  \n",
       "11440 2020-04-03 22:52:45        207       1         66  \n",
       "11361 2020-04-03 22:52:45        205       5         31  "
      ]
     },
     "execution_count": 16,
     "metadata": {},
     "output_type": "execute_result"
    }
   ],
   "source": [
    "# List of hottest countries \n",
    "hottest_countries=['Mali','Burkina Faso','Senegal','Mauritania','Djibouti','Benin','Ghana','Niger',\n",
    "                  'Cambodia','South Sudan','Qatar','United Arab Emirates','Sudan',\n",
    "                  'Saint Vincent and the Grenadines','Togo']\n",
    "# Pick only the information of the countries in \"hottest_countries\"\n",
    "ind=(covid_2019_lastDay['Country/Region'].isin(set(hottest_countries)))\n",
    "# Subset and sort the dataframe using the number of confirmed cases\n",
    "covid_2019_lastDay.loc[ind,:].sort_values('Confirmed',ascending=False).head()"
   ]
  },
  {
   "cell_type": "markdown",
   "metadata": {},
   "source": [
    "### Historical weather data\n",
    "<a id='sec:historical_weather_data'></a>\n",
    "\n",
    "The historical weather of the selected 9 cities was collected from [\"Weather Underground\"](https://www.wunderground.com/) and saved in independents CSV files (one file per city). Each file contains information about the weather from December 2019 to March 30, 2020 (121 observations), condensed into 18 variables: \n",
    "\n",
    "| Variable                                     | Description                                       |\n",
    "|:----------------------------------------------|:---------------------------------------------------|\n",
    "| Day                                          | Day                                               |\n",
    "| Month                                        | Month                                             |\n",
    "| Year                                         | Year                                              |\n",
    "| Country                                      | Name of the country                               |\n",
    "| State                                        | Name of the state or region                       |\n",
    "| TempMax/TempAvg/TempMin                      | Maximum, average and minimum temperature ($^o F$) |\n",
    "| HumMax/HumAvg/HumMin                         | Maximum, average and minimum humidity (%)         |\n",
    "| Wind_Speed_Max/Wind_Speed_Avg/Wind_Speed_Min | Maximum, average and minimum wind speed (mph)     |\n",
    "| Pressure_Max/Pressure_Avg/Pressure_Min       | Maximum, average and minimum pressure (Hg)        |\n",
    "| Total_Precipitations                         | Total precipitations (in)                         |\n",
    "\n",
    "\n",
    "\n",
    "Below you can take a look at this information in the case of New York."
   ]
  },
  {
   "cell_type": "code",
   "execution_count": 17,
   "metadata": {},
   "outputs": [
    {
     "name": "stdout",
     "output_type": "stream",
     "text": [
      "This dataset is composed by 121 observations and 18 variables.\n"
     ]
    },
    {
     "data": {
      "text/html": [
       "<div>\n",
       "<style scoped>\n",
       "    .dataframe tbody tr th:only-of-type {\n",
       "        vertical-align: middle;\n",
       "    }\n",
       "\n",
       "    .dataframe tbody tr th {\n",
       "        vertical-align: top;\n",
       "    }\n",
       "\n",
       "    .dataframe thead th {\n",
       "        text-align: right;\n",
       "    }\n",
       "</style>\n",
       "<table border=\"1\" class=\"dataframe\">\n",
       "  <thead>\n",
       "    <tr style=\"text-align: right;\">\n",
       "      <th></th>\n",
       "      <th>Day</th>\n",
       "      <th>Month</th>\n",
       "      <th>Year</th>\n",
       "      <th>Country</th>\n",
       "      <th>State</th>\n",
       "      <th>TempMax</th>\n",
       "      <th>TempAvg</th>\n",
       "      <th>TempMin</th>\n",
       "      <th>HumMax</th>\n",
       "      <th>HumAvg</th>\n",
       "      <th>HumMin</th>\n",
       "      <th>Wind_Speed_Max</th>\n",
       "      <th>Wind_Speed_Avg</th>\n",
       "      <th>Wind_Speed_Min</th>\n",
       "      <th>Pressure_Max</th>\n",
       "      <th>Pressure_Avg</th>\n",
       "      <th>Pressure_Min</th>\n",
       "      <th>Total_Precipitations</th>\n",
       "    </tr>\n",
       "  </thead>\n",
       "  <tbody>\n",
       "    <tr>\n",
       "      <th>0</th>\n",
       "      <td>1</td>\n",
       "      <td>December</td>\n",
       "      <td>2019</td>\n",
       "      <td>USA</td>\n",
       "      <td>New York</td>\n",
       "      <td>40</td>\n",
       "      <td>35.2</td>\n",
       "      <td>30</td>\n",
       "      <td>93</td>\n",
       "      <td>75.7</td>\n",
       "      <td>42</td>\n",
       "      <td>31</td>\n",
       "      <td>18.2</td>\n",
       "      <td>7</td>\n",
       "      <td>30.0</td>\n",
       "      <td>29.8</td>\n",
       "      <td>29.5</td>\n",
       "      <td>0.00</td>\n",
       "    </tr>\n",
       "    <tr>\n",
       "      <th>1</th>\n",
       "      <td>2</td>\n",
       "      <td>December</td>\n",
       "      <td>2019</td>\n",
       "      <td>USA</td>\n",
       "      <td>New York</td>\n",
       "      <td>39</td>\n",
       "      <td>35.7</td>\n",
       "      <td>32</td>\n",
       "      <td>89</td>\n",
       "      <td>86.1</td>\n",
       "      <td>82</td>\n",
       "      <td>28</td>\n",
       "      <td>17.7</td>\n",
       "      <td>9</td>\n",
       "      <td>29.5</td>\n",
       "      <td>29.5</td>\n",
       "      <td>29.5</td>\n",
       "      <td>0.62</td>\n",
       "    </tr>\n",
       "    <tr>\n",
       "      <th>2</th>\n",
       "      <td>3</td>\n",
       "      <td>December</td>\n",
       "      <td>2019</td>\n",
       "      <td>USA</td>\n",
       "      <td>New York</td>\n",
       "      <td>38</td>\n",
       "      <td>33.9</td>\n",
       "      <td>32</td>\n",
       "      <td>85</td>\n",
       "      <td>69.7</td>\n",
       "      <td>54</td>\n",
       "      <td>29</td>\n",
       "      <td>18.3</td>\n",
       "      <td>10</td>\n",
       "      <td>29.6</td>\n",
       "      <td>29.5</td>\n",
       "      <td>29.5</td>\n",
       "      <td>0.34</td>\n",
       "    </tr>\n",
       "    <tr>\n",
       "      <th>3</th>\n",
       "      <td>4</td>\n",
       "      <td>December</td>\n",
       "      <td>2019</td>\n",
       "      <td>USA</td>\n",
       "      <td>New York</td>\n",
       "      <td>40</td>\n",
       "      <td>38.1</td>\n",
       "      <td>34</td>\n",
       "      <td>76</td>\n",
       "      <td>68.4</td>\n",
       "      <td>63</td>\n",
       "      <td>16</td>\n",
       "      <td>10.7</td>\n",
       "      <td>6</td>\n",
       "      <td>29.6</td>\n",
       "      <td>29.5</td>\n",
       "      <td>29.5</td>\n",
       "      <td>0.00</td>\n",
       "    </tr>\n",
       "    <tr>\n",
       "      <th>4</th>\n",
       "      <td>5</td>\n",
       "      <td>December</td>\n",
       "      <td>2019</td>\n",
       "      <td>USA</td>\n",
       "      <td>New York</td>\n",
       "      <td>43</td>\n",
       "      <td>39.9</td>\n",
       "      <td>38</td>\n",
       "      <td>76</td>\n",
       "      <td>57.5</td>\n",
       "      <td>40</td>\n",
       "      <td>24</td>\n",
       "      <td>16.0</td>\n",
       "      <td>9</td>\n",
       "      <td>30.1</td>\n",
       "      <td>29.8</td>\n",
       "      <td>29.5</td>\n",
       "      <td>0.00</td>\n",
       "    </tr>\n",
       "  </tbody>\n",
       "</table>\n",
       "</div>"
      ],
      "text/plain": [
       "   Day     Month  Year Country     State  TempMax  TempAvg  TempMin  HumMax  \\\n",
       "0    1  December  2019     USA  New York       40     35.2       30      93   \n",
       "1    2  December  2019     USA  New York       39     35.7       32      89   \n",
       "2    3  December  2019     USA  New York       38     33.9       32      85   \n",
       "3    4  December  2019     USA  New York       40     38.1       34      76   \n",
       "4    5  December  2019     USA  New York       43     39.9       38      76   \n",
       "\n",
       "   HumAvg  HumMin  Wind_Speed_Max  Wind_Speed_Avg  Wind_Speed_Min  \\\n",
       "0    75.7      42              31            18.2               7   \n",
       "1    86.1      82              28            17.7               9   \n",
       "2    69.7      54              29            18.3              10   \n",
       "3    68.4      63              16            10.7               6   \n",
       "4    57.5      40              24            16.0               9   \n",
       "\n",
       "   Pressure_Max  Pressure_Avg  Pressure_Min  Total_Precipitations  \n",
       "0          30.0          29.8          29.5                  0.00  \n",
       "1          29.5          29.5          29.5                  0.62  \n",
       "2          29.6          29.5          29.5                  0.34  \n",
       "3          29.6          29.5          29.5                  0.00  \n",
       "4          30.1          29.8          29.5                  0.00  "
      ]
     },
     "execution_count": 17,
     "metadata": {},
     "output_type": "execute_result"
    }
   ],
   "source": [
    "weather_NewYork=pd.read_csv(\"Weather/NewYork_December2019_March_2020.csv\")\n",
    "print('This dataset is composed by {} observations and {} variables.'.format(weather_NewYork.shape[0],\n",
    "                                                                            weather_NewYork.shape[1]))\n",
    "weather_NewYork.head()"
   ]
  },
  {
   "cell_type": "markdown",
   "metadata": {},
   "source": [
    "The next step is to merge the information in all these 9 files in only one."
   ]
  },
  {
   "cell_type": "code",
   "execution_count": 284,
   "metadata": {},
   "outputs": [
    {
     "data": {
      "text/html": [
       "<div>\n",
       "<style scoped>\n",
       "    .dataframe tbody tr th:only-of-type {\n",
       "        vertical-align: middle;\n",
       "    }\n",
       "\n",
       "    .dataframe tbody tr th {\n",
       "        vertical-align: top;\n",
       "    }\n",
       "\n",
       "    .dataframe thead th {\n",
       "        text-align: right;\n",
       "    }\n",
       "</style>\n",
       "<table border=\"1\" class=\"dataframe\">\n",
       "  <thead>\n",
       "    <tr style=\"text-align: right;\">\n",
       "      <th></th>\n",
       "      <th>Day</th>\n",
       "      <th>Month</th>\n",
       "      <th>Year</th>\n",
       "      <th>Country</th>\n",
       "      <th>State</th>\n",
       "      <th>TempMax</th>\n",
       "      <th>TempAvg</th>\n",
       "      <th>TempMin</th>\n",
       "      <th>HumMax</th>\n",
       "      <th>HumAvg</th>\n",
       "      <th>HumMin</th>\n",
       "      <th>Wind_Speed_Max</th>\n",
       "      <th>Wind_Speed_Avg</th>\n",
       "      <th>Wind_Speed_Min</th>\n",
       "      <th>Pressure_Max</th>\n",
       "      <th>Pressure_Avg</th>\n",
       "      <th>Pressure_Min</th>\n",
       "      <th>Total_Precipitations</th>\n",
       "    </tr>\n",
       "  </thead>\n",
       "  <tbody>\n",
       "    <tr>\n",
       "      <th>0</th>\n",
       "      <td>1</td>\n",
       "      <td>December</td>\n",
       "      <td>2019</td>\n",
       "      <td>Austria</td>\n",
       "      <td>Vienna</td>\n",
       "      <td>39</td>\n",
       "      <td>33.7</td>\n",
       "      <td>27</td>\n",
       "      <td>93</td>\n",
       "      <td>80.8</td>\n",
       "      <td>65</td>\n",
       "      <td>22</td>\n",
       "      <td>12.9</td>\n",
       "      <td>3</td>\n",
       "      <td>29.6</td>\n",
       "      <td>29.5</td>\n",
       "      <td>29.4</td>\n",
       "      <td>0.0</td>\n",
       "    </tr>\n",
       "    <tr>\n",
       "      <th>1</th>\n",
       "      <td>2</td>\n",
       "      <td>December</td>\n",
       "      <td>2019</td>\n",
       "      <td>Austria</td>\n",
       "      <td>Vienna</td>\n",
       "      <td>39</td>\n",
       "      <td>35.8</td>\n",
       "      <td>32</td>\n",
       "      <td>100</td>\n",
       "      <td>81.5</td>\n",
       "      <td>61</td>\n",
       "      <td>20</td>\n",
       "      <td>11.8</td>\n",
       "      <td>2</td>\n",
       "      <td>29.6</td>\n",
       "      <td>29.5</td>\n",
       "      <td>29.4</td>\n",
       "      <td>0.0</td>\n",
       "    </tr>\n",
       "    <tr>\n",
       "      <th>2</th>\n",
       "      <td>3</td>\n",
       "      <td>December</td>\n",
       "      <td>2019</td>\n",
       "      <td>Austria</td>\n",
       "      <td>Vienna</td>\n",
       "      <td>41</td>\n",
       "      <td>36.0</td>\n",
       "      <td>27</td>\n",
       "      <td>93</td>\n",
       "      <td>70.4</td>\n",
       "      <td>53</td>\n",
       "      <td>17</td>\n",
       "      <td>10.3</td>\n",
       "      <td>1</td>\n",
       "      <td>29.7</td>\n",
       "      <td>29.7</td>\n",
       "      <td>29.6</td>\n",
       "      <td>0.0</td>\n",
       "    </tr>\n",
       "    <tr>\n",
       "      <th>3</th>\n",
       "      <td>4</td>\n",
       "      <td>December</td>\n",
       "      <td>2019</td>\n",
       "      <td>Austria</td>\n",
       "      <td>Vienna</td>\n",
       "      <td>37</td>\n",
       "      <td>29.7</td>\n",
       "      <td>25</td>\n",
       "      <td>93</td>\n",
       "      <td>85.6</td>\n",
       "      <td>65</td>\n",
       "      <td>24</td>\n",
       "      <td>13.3</td>\n",
       "      <td>3</td>\n",
       "      <td>29.7</td>\n",
       "      <td>29.7</td>\n",
       "      <td>29.6</td>\n",
       "      <td>0.0</td>\n",
       "    </tr>\n",
       "    <tr>\n",
       "      <th>4</th>\n",
       "      <td>5</td>\n",
       "      <td>December</td>\n",
       "      <td>2019</td>\n",
       "      <td>Austria</td>\n",
       "      <td>Vienna</td>\n",
       "      <td>32</td>\n",
       "      <td>30.0</td>\n",
       "      <td>28</td>\n",
       "      <td>93</td>\n",
       "      <td>83.9</td>\n",
       "      <td>75</td>\n",
       "      <td>28</td>\n",
       "      <td>17.3</td>\n",
       "      <td>8</td>\n",
       "      <td>29.7</td>\n",
       "      <td>29.6</td>\n",
       "      <td>29.6</td>\n",
       "      <td>0.0</td>\n",
       "    </tr>\n",
       "  </tbody>\n",
       "</table>\n",
       "</div>"
      ],
      "text/plain": [
       "   Day     Month  Year  Country   State  TempMax  TempAvg  TempMin  HumMax  \\\n",
       "0    1  December  2019  Austria  Vienna       39     33.7       27      93   \n",
       "1    2  December  2019  Austria  Vienna       39     35.8       32     100   \n",
       "2    3  December  2019  Austria  Vienna       41     36.0       27      93   \n",
       "3    4  December  2019  Austria  Vienna       37     29.7       25      93   \n",
       "4    5  December  2019  Austria  Vienna       32     30.0       28      93   \n",
       "\n",
       "   HumAvg  HumMin  Wind_Speed_Max  Wind_Speed_Avg  Wind_Speed_Min  \\\n",
       "0    80.8      65              22            12.9               3   \n",
       "1    81.5      61              20            11.8               2   \n",
       "2    70.4      53              17            10.3               1   \n",
       "3    85.6      65              24            13.3               3   \n",
       "4    83.9      75              28            17.3               8   \n",
       "\n",
       "   Pressure_Max  Pressure_Avg  Pressure_Min  Total_Precipitations  \n",
       "0          29.6          29.5          29.4                   0.0  \n",
       "1          29.6          29.5          29.4                   0.0  \n",
       "2          29.7          29.7          29.6                   0.0  \n",
       "3          29.7          29.7          29.6                   0.0  \n",
       "4          29.7          29.6          29.6                   0.0  "
      ]
     },
     "execution_count": 284,
     "metadata": {},
     "output_type": "execute_result"
    }
   ],
   "source": [
    "# Extract the directories\n",
    "directories=glob.glob(\"/home/yasel/Data Science/Projects/Coronavirus/Weather/*.csv\")\n",
    "# Create an empty dataframe to store the information\n",
    "weather=pd.DataFrame()\n",
    "# Include the new data in \"weather\" for each csv file in the directory\n",
    "for file in directories:\n",
    "    this_data=pd.read_csv(file)\n",
    "    weather=pd.concat([weather,this_data],axis=0)\n",
    "weather.head()"
   ]
  },
  {
   "cell_type": "markdown",
   "metadata": {},
   "source": [
    "Above, you can see that the `months` appear as a `string`, probably will be better to transform this variable to `int`."
   ]
  },
  {
   "cell_type": "code",
   "execution_count": 285,
   "metadata": {},
   "outputs": [
    {
     "data": {
      "text/html": [
       "<div>\n",
       "<style scoped>\n",
       "    .dataframe tbody tr th:only-of-type {\n",
       "        vertical-align: middle;\n",
       "    }\n",
       "\n",
       "    .dataframe tbody tr th {\n",
       "        vertical-align: top;\n",
       "    }\n",
       "\n",
       "    .dataframe thead th {\n",
       "        text-align: right;\n",
       "    }\n",
       "</style>\n",
       "<table border=\"1\" class=\"dataframe\">\n",
       "  <thead>\n",
       "    <tr style=\"text-align: right;\">\n",
       "      <th></th>\n",
       "      <th>Day</th>\n",
       "      <th>Month</th>\n",
       "      <th>Year</th>\n",
       "      <th>Country</th>\n",
       "      <th>State</th>\n",
       "      <th>TempMax</th>\n",
       "      <th>TempAvg</th>\n",
       "      <th>TempMin</th>\n",
       "      <th>HumMax</th>\n",
       "      <th>HumAvg</th>\n",
       "      <th>HumMin</th>\n",
       "      <th>Wind_Speed_Max</th>\n",
       "      <th>Wind_Speed_Avg</th>\n",
       "      <th>Wind_Speed_Min</th>\n",
       "      <th>Pressure_Max</th>\n",
       "      <th>Pressure_Avg</th>\n",
       "      <th>Pressure_Min</th>\n",
       "      <th>Total_Precipitations</th>\n",
       "    </tr>\n",
       "  </thead>\n",
       "  <tbody>\n",
       "    <tr>\n",
       "      <th>0</th>\n",
       "      <td>1</td>\n",
       "      <td>12</td>\n",
       "      <td>2019</td>\n",
       "      <td>Austria</td>\n",
       "      <td>Vienna</td>\n",
       "      <td>39</td>\n",
       "      <td>33.7</td>\n",
       "      <td>27</td>\n",
       "      <td>93</td>\n",
       "      <td>80.8</td>\n",
       "      <td>65</td>\n",
       "      <td>22</td>\n",
       "      <td>12.9</td>\n",
       "      <td>3</td>\n",
       "      <td>29.6</td>\n",
       "      <td>29.5</td>\n",
       "      <td>29.4</td>\n",
       "      <td>0.0</td>\n",
       "    </tr>\n",
       "    <tr>\n",
       "      <th>1</th>\n",
       "      <td>2</td>\n",
       "      <td>12</td>\n",
       "      <td>2019</td>\n",
       "      <td>Austria</td>\n",
       "      <td>Vienna</td>\n",
       "      <td>39</td>\n",
       "      <td>35.8</td>\n",
       "      <td>32</td>\n",
       "      <td>100</td>\n",
       "      <td>81.5</td>\n",
       "      <td>61</td>\n",
       "      <td>20</td>\n",
       "      <td>11.8</td>\n",
       "      <td>2</td>\n",
       "      <td>29.6</td>\n",
       "      <td>29.5</td>\n",
       "      <td>29.4</td>\n",
       "      <td>0.0</td>\n",
       "    </tr>\n",
       "    <tr>\n",
       "      <th>2</th>\n",
       "      <td>3</td>\n",
       "      <td>12</td>\n",
       "      <td>2019</td>\n",
       "      <td>Austria</td>\n",
       "      <td>Vienna</td>\n",
       "      <td>41</td>\n",
       "      <td>36.0</td>\n",
       "      <td>27</td>\n",
       "      <td>93</td>\n",
       "      <td>70.4</td>\n",
       "      <td>53</td>\n",
       "      <td>17</td>\n",
       "      <td>10.3</td>\n",
       "      <td>1</td>\n",
       "      <td>29.7</td>\n",
       "      <td>29.7</td>\n",
       "      <td>29.6</td>\n",
       "      <td>0.0</td>\n",
       "    </tr>\n",
       "    <tr>\n",
       "      <th>3</th>\n",
       "      <td>4</td>\n",
       "      <td>12</td>\n",
       "      <td>2019</td>\n",
       "      <td>Austria</td>\n",
       "      <td>Vienna</td>\n",
       "      <td>37</td>\n",
       "      <td>29.7</td>\n",
       "      <td>25</td>\n",
       "      <td>93</td>\n",
       "      <td>85.6</td>\n",
       "      <td>65</td>\n",
       "      <td>24</td>\n",
       "      <td>13.3</td>\n",
       "      <td>3</td>\n",
       "      <td>29.7</td>\n",
       "      <td>29.7</td>\n",
       "      <td>29.6</td>\n",
       "      <td>0.0</td>\n",
       "    </tr>\n",
       "    <tr>\n",
       "      <th>4</th>\n",
       "      <td>5</td>\n",
       "      <td>12</td>\n",
       "      <td>2019</td>\n",
       "      <td>Austria</td>\n",
       "      <td>Vienna</td>\n",
       "      <td>32</td>\n",
       "      <td>30.0</td>\n",
       "      <td>28</td>\n",
       "      <td>93</td>\n",
       "      <td>83.9</td>\n",
       "      <td>75</td>\n",
       "      <td>28</td>\n",
       "      <td>17.3</td>\n",
       "      <td>8</td>\n",
       "      <td>29.7</td>\n",
       "      <td>29.6</td>\n",
       "      <td>29.6</td>\n",
       "      <td>0.0</td>\n",
       "    </tr>\n",
       "  </tbody>\n",
       "</table>\n",
       "</div>"
      ],
      "text/plain": [
       "   Day  Month  Year  Country   State  TempMax  TempAvg  TempMin  HumMax  \\\n",
       "0    1     12  2019  Austria  Vienna       39     33.7       27      93   \n",
       "1    2     12  2019  Austria  Vienna       39     35.8       32     100   \n",
       "2    3     12  2019  Austria  Vienna       41     36.0       27      93   \n",
       "3    4     12  2019  Austria  Vienna       37     29.7       25      93   \n",
       "4    5     12  2019  Austria  Vienna       32     30.0       28      93   \n",
       "\n",
       "   HumAvg  HumMin  Wind_Speed_Max  Wind_Speed_Avg  Wind_Speed_Min  \\\n",
       "0    80.8      65              22            12.9               3   \n",
       "1    81.5      61              20            11.8               2   \n",
       "2    70.4      53              17            10.3               1   \n",
       "3    85.6      65              24            13.3               3   \n",
       "4    83.9      75              28            17.3               8   \n",
       "\n",
       "   Pressure_Max  Pressure_Avg  Pressure_Min  Total_Precipitations  \n",
       "0          29.6          29.5          29.4                   0.0  \n",
       "1          29.6          29.5          29.4                   0.0  \n",
       "2          29.7          29.7          29.6                   0.0  \n",
       "3          29.7          29.7          29.6                   0.0  \n",
       "4          29.7          29.6          29.6                   0.0  "
      ]
     },
     "execution_count": 285,
     "metadata": {},
     "output_type": "execute_result"
    }
   ],
   "source": [
    "# Create a dictionary with the names of the months and the number that represent it.\n",
    "d = dict((v,k) for k,v in enumerate(calendar.month_name))\n",
    "# Replace the variable 'Month' using the dictionary\n",
    "weather['Month']=weather['Month'].map(d)\n",
    "weather.head()"
   ]
  },
  {
   "cell_type": "code",
   "execution_count": 286,
   "metadata": {
    "scrolled": true
   },
   "outputs": [
    {
     "data": {
      "text/html": [
       "<div>\n",
       "<style scoped>\n",
       "    .dataframe tbody tr th:only-of-type {\n",
       "        vertical-align: middle;\n",
       "    }\n",
       "\n",
       "    .dataframe tbody tr th {\n",
       "        vertical-align: top;\n",
       "    }\n",
       "\n",
       "    .dataframe thead th {\n",
       "        text-align: right;\n",
       "    }\n",
       "</style>\n",
       "<table border=\"1\" class=\"dataframe\">\n",
       "  <thead>\n",
       "    <tr style=\"text-align: right;\">\n",
       "      <th></th>\n",
       "      <th>Country</th>\n",
       "      <th>State</th>\n",
       "      <th>TempMax</th>\n",
       "      <th>TempAvg</th>\n",
       "      <th>TempMin</th>\n",
       "      <th>HumMax</th>\n",
       "      <th>HumAvg</th>\n",
       "      <th>HumMin</th>\n",
       "      <th>Wind_Speed_Max</th>\n",
       "      <th>Wind_Speed_Avg</th>\n",
       "      <th>Wind_Speed_Min</th>\n",
       "      <th>Pressure_Max</th>\n",
       "      <th>Pressure_Avg</th>\n",
       "      <th>Pressure_Min</th>\n",
       "      <th>Total_Precipitations</th>\n",
       "      <th>Infection Day</th>\n",
       "    </tr>\n",
       "  </thead>\n",
       "  <tbody>\n",
       "    <tr>\n",
       "      <th>0</th>\n",
       "      <td>Austria</td>\n",
       "      <td>Vienna</td>\n",
       "      <td>39</td>\n",
       "      <td>33.7</td>\n",
       "      <td>27</td>\n",
       "      <td>93</td>\n",
       "      <td>80.8</td>\n",
       "      <td>65</td>\n",
       "      <td>22</td>\n",
       "      <td>12.9</td>\n",
       "      <td>3</td>\n",
       "      <td>29.6</td>\n",
       "      <td>29.5</td>\n",
       "      <td>29.4</td>\n",
       "      <td>0.0</td>\n",
       "      <td>2019-12-01</td>\n",
       "    </tr>\n",
       "    <tr>\n",
       "      <th>1</th>\n",
       "      <td>Austria</td>\n",
       "      <td>Vienna</td>\n",
       "      <td>39</td>\n",
       "      <td>35.8</td>\n",
       "      <td>32</td>\n",
       "      <td>100</td>\n",
       "      <td>81.5</td>\n",
       "      <td>61</td>\n",
       "      <td>20</td>\n",
       "      <td>11.8</td>\n",
       "      <td>2</td>\n",
       "      <td>29.6</td>\n",
       "      <td>29.5</td>\n",
       "      <td>29.4</td>\n",
       "      <td>0.0</td>\n",
       "      <td>2019-12-02</td>\n",
       "    </tr>\n",
       "    <tr>\n",
       "      <th>2</th>\n",
       "      <td>Austria</td>\n",
       "      <td>Vienna</td>\n",
       "      <td>41</td>\n",
       "      <td>36.0</td>\n",
       "      <td>27</td>\n",
       "      <td>93</td>\n",
       "      <td>70.4</td>\n",
       "      <td>53</td>\n",
       "      <td>17</td>\n",
       "      <td>10.3</td>\n",
       "      <td>1</td>\n",
       "      <td>29.7</td>\n",
       "      <td>29.7</td>\n",
       "      <td>29.6</td>\n",
       "      <td>0.0</td>\n",
       "      <td>2019-12-03</td>\n",
       "    </tr>\n",
       "    <tr>\n",
       "      <th>3</th>\n",
       "      <td>Austria</td>\n",
       "      <td>Vienna</td>\n",
       "      <td>37</td>\n",
       "      <td>29.7</td>\n",
       "      <td>25</td>\n",
       "      <td>93</td>\n",
       "      <td>85.6</td>\n",
       "      <td>65</td>\n",
       "      <td>24</td>\n",
       "      <td>13.3</td>\n",
       "      <td>3</td>\n",
       "      <td>29.7</td>\n",
       "      <td>29.7</td>\n",
       "      <td>29.6</td>\n",
       "      <td>0.0</td>\n",
       "      <td>2019-12-04</td>\n",
       "    </tr>\n",
       "    <tr>\n",
       "      <th>4</th>\n",
       "      <td>Austria</td>\n",
       "      <td>Vienna</td>\n",
       "      <td>32</td>\n",
       "      <td>30.0</td>\n",
       "      <td>28</td>\n",
       "      <td>93</td>\n",
       "      <td>83.9</td>\n",
       "      <td>75</td>\n",
       "      <td>28</td>\n",
       "      <td>17.3</td>\n",
       "      <td>8</td>\n",
       "      <td>29.7</td>\n",
       "      <td>29.6</td>\n",
       "      <td>29.6</td>\n",
       "      <td>0.0</td>\n",
       "      <td>2019-12-05</td>\n",
       "    </tr>\n",
       "  </tbody>\n",
       "</table>\n",
       "</div>"
      ],
      "text/plain": [
       "   Country   State  TempMax  TempAvg  TempMin  HumMax  HumAvg  HumMin  \\\n",
       "0  Austria  Vienna       39     33.7       27      93    80.8      65   \n",
       "1  Austria  Vienna       39     35.8       32     100    81.5      61   \n",
       "2  Austria  Vienna       41     36.0       27      93    70.4      53   \n",
       "3  Austria  Vienna       37     29.7       25      93    85.6      65   \n",
       "4  Austria  Vienna       32     30.0       28      93    83.9      75   \n",
       "\n",
       "   Wind_Speed_Max  Wind_Speed_Avg  Wind_Speed_Min  Pressure_Max  Pressure_Avg  \\\n",
       "0              22            12.9               3          29.6          29.5   \n",
       "1              20            11.8               2          29.6          29.5   \n",
       "2              17            10.3               1          29.7          29.7   \n",
       "3              24            13.3               3          29.7          29.7   \n",
       "4              28            17.3               8          29.7          29.6   \n",
       "\n",
       "   Pressure_Min  Total_Precipitations Infection Day  \n",
       "0          29.4                   0.0    2019-12-01  \n",
       "1          29.4                   0.0    2019-12-02  \n",
       "2          29.6                   0.0    2019-12-03  \n",
       "3          29.6                   0.0    2019-12-04  \n",
       "4          29.6                   0.0    2019-12-05  "
      ]
     },
     "execution_count": 286,
     "metadata": {},
     "output_type": "execute_result"
    }
   ],
   "source": [
    "# Include a new variable called \"Infection Day\" with the date (note that I name this variable as in the case \n",
    "# of the covid dataframe to make clear that I am going the merge this dataframes using this variable)\n",
    "weather['Infection Day']=pd.to_datetime(weather[['Year', 'Month', 'Day']]).dt.date\n",
    "# Drop the information relative to the Day, Month and Year\n",
    "weather.drop(columns=['Day','Month','Year'],inplace=True)\n",
    "# Convert the 'Country' and 'State' features from objects to category variables\n",
    "weather[['Country','State']]=weather[['Country','State']].astype('category')\n",
    "weather.head()"
   ]
  },
  {
   "cell_type": "code",
   "execution_count": 292,
   "metadata": {},
   "outputs": [
    {
     "name": "stdout",
     "output_type": "stream",
     "text": [
      "The dataframe with all the weather information is composed by 1218 rows and 16 columns.\n",
      "The countries included in this dataframe are:\n",
      " [Austria, USA, United Arab Emirates, Qatar, Senegal, Sweden, Norway, Spain, Italy, Canada]\n",
      "Categories (10, object): [Austria, USA, United Arab Emirates, Qatar, ..., Norway, Spain, Italy, Canada]\n",
      "The cities included in this dataframe are:\n",
      " [Vienna, New York, Dubai, Doha, Dakar, Stockholm, Oslo, Madrid, Lombardia, Quebec]\n",
      "Categories (10, object): [Vienna, New York, Dubai, Doha, ..., Oslo, Madrid, Lombardia, Quebec]\n",
      "The total number of Missing Values are: 0\n"
     ]
    }
   ],
   "source": [
    "# Print some basic exploration statistics\n",
    "print('The dataframe with all the weather information is composed by {} rows and {} columns.'.format(weather.shape[0],\n",
    "                                                                                                   weather.shape[1]))\n",
    "print('The countries included in this dataframe are:\\n {}'.format(weather['Country'].unique()))\n",
    "print('The cities included in this dataframe are:\\n {}'.format(weather['State'].unique()))\n",
    "print('The total number of Missing Values are: {}'.format(weather.isna().sum().sum()))"
   ]
  },
  {
   "cell_type": "markdown",
   "metadata": {},
   "source": [
    "> So far, the weather information looks nice, so, we can move forward and try to relate the covid 2019 dataset with this new weather information."
   ]
  },
  {
   "cell_type": "markdown",
   "metadata": {},
   "source": [
    "### Weather and Infected people by day\n",
    "<a id='sec:weather_and_infected_people_by_day'></a>\n",
    "At this point it's important to structure the dataset based on some previous assumptions:\n",
    "   1. We are only considering 7 cities to study the relationship of the disease with the weather. \n",
    "   2. If a person \"X\" was reported as infected at the day \"D\", then the exposure occurred [between 2-14 days before](https://www.cdc.gov/coronavirus/2019-ncov/symptoms-testing/symptoms.html). I am going to assume here that the mean of persons with the disease has the first symptoms on day 8 (the mean point between 2 and 14) after exposure. This is, the weather that matter in the infection of \"X\" is the weather in the day (\"D\" - 8).\n",
    "       > I am assuming that the weather doesn't matter once the virus gets into a person (which for me seems logical)."
   ]
  },
  {
   "cell_type": "markdown",
   "metadata": {},
   "source": [
    "In accordance with the first point above, let's extract from our general data the information about these 7 cities/countries. Here it's important to remember that our dataset has the information of some countries segmented by cities (e.g. US, Italy), but others (like Spain, Austria) only have country-level data, so, the first step is to complete the missing information in the `Province/State` feature. "
   ]
  },
  {
   "cell_type": "code",
   "execution_count": 293,
   "metadata": {},
   "outputs": [
    {
     "name": "stdout",
     "output_type": "stream",
     "text": [
      "The number of missing values in the Province/State feature is: 0 ---> Great!!\n"
     ]
    }
   ],
   "source": [
    "# Filter only the observations of the selected countries\n",
    "selected_countries=['US','Italy','Austria', 'Canada', 'Sweden', 'Qatar', \n",
    "                    'United Arab Emirates', 'Senegal', 'Spain']\n",
    "covid_2019_countries=covid_2019.loc[covid_2019['Country/Region'].isin(selected_countries),:].copy()\n",
    "\n",
    "# Include the cities in the selected countries without city level information\n",
    "countries_without_cities={'Austria': 'Vienna', 'Sweden': 'Stockholm',\n",
    "                          'Qatar': 'Doha', 'United Arab Emirates': 'Dubai', \n",
    "                          'Senegal': 'Dakar', 'Spain':'Madrid'}\n",
    "covid_2019_countries.loc[:,'Province/State'] = covid_2019_countries.apply(\n",
    "    lambda row: countries_without_cities[row['Country/Region']] if \n",
    "    row['Country/Region'] in countries_without_cities.keys() else row['Province/State'],\n",
    "    axis=1\n",
    ")\n",
    "# Check that we don't have missing information in the \"Province/State\" feature\n",
    "print('The number of missing values in the Province/State feature is: {} ---> Great!!'.format(covid_2019_countries['Province/State'].isna().sum()))"
   ]
  },
  {
   "cell_type": "code",
   "execution_count": 294,
   "metadata": {},
   "outputs": [
    {
     "name": "stdout",
     "output_type": "stream",
     "text": [
      "The cities available in the reduced dataframe are:\n",
      " ['Dubai' 'Stockholm' 'Madrid' 'Vienna' 'Doha' 'Dakar' 'Quebec' 'New York'\n",
      " 'Lombardia'] ==> Nice, everything looks fine\n",
      "The countries available in the reduced dataframe are:\n",
      " ['United Arab Emirates', 'Sweden', 'Spain', 'Austria', 'Qatar', 'Senegal', 'Canada', 'US', 'Italy'] ==> Nice!\n",
      "So far, the information about the cities of interests is contained in 391 rows and 8 columns.\n",
      "The new dataset has 0 missing values\n"
     ]
    },
    {
     "data": {
      "text/html": [
       "<div>\n",
       "<style scoped>\n",
       "    .dataframe tbody tr th:only-of-type {\n",
       "        vertical-align: middle;\n",
       "    }\n",
       "\n",
       "    .dataframe tbody tr th {\n",
       "        vertical-align: top;\n",
       "    }\n",
       "\n",
       "    .dataframe thead th {\n",
       "        text-align: right;\n",
       "    }\n",
       "</style>\n",
       "<table border=\"1\" class=\"dataframe\">\n",
       "  <thead>\n",
       "    <tr style=\"text-align: right;\">\n",
       "      <th></th>\n",
       "      <th>SNo</th>\n",
       "      <th>ObservationDate</th>\n",
       "      <th>Province/State</th>\n",
       "      <th>Country/Region</th>\n",
       "      <th>Last Update</th>\n",
       "      <th>Confirmed</th>\n",
       "      <th>Deaths</th>\n",
       "      <th>Recovered</th>\n",
       "    </tr>\n",
       "  </thead>\n",
       "  <tbody>\n",
       "    <tr>\n",
       "      <th>372</th>\n",
       "      <td>373</td>\n",
       "      <td>2020-01-29</td>\n",
       "      <td>Dubai</td>\n",
       "      <td>United Arab Emirates</td>\n",
       "      <td>2020-01-29 19:30:00</td>\n",
       "      <td>4</td>\n",
       "      <td>0</td>\n",
       "      <td>0</td>\n",
       "    </tr>\n",
       "    <tr>\n",
       "      <th>428</th>\n",
       "      <td>429</td>\n",
       "      <td>2020-01-30</td>\n",
       "      <td>Dubai</td>\n",
       "      <td>United Arab Emirates</td>\n",
       "      <td>2020-01-30 16:00:00</td>\n",
       "      <td>4</td>\n",
       "      <td>0</td>\n",
       "      <td>0</td>\n",
       "    </tr>\n",
       "    <tr>\n",
       "      <th>473</th>\n",
       "      <td>474</td>\n",
       "      <td>2020-01-31</td>\n",
       "      <td>Dubai</td>\n",
       "      <td>United Arab Emirates</td>\n",
       "      <td>2020-01-31 23:59:00</td>\n",
       "      <td>4</td>\n",
       "      <td>0</td>\n",
       "      <td>0</td>\n",
       "    </tr>\n",
       "    <tr>\n",
       "      <th>492</th>\n",
       "      <td>493</td>\n",
       "      <td>2020-01-31</td>\n",
       "      <td>Stockholm</td>\n",
       "      <td>Sweden</td>\n",
       "      <td>2020-01-31 23:59:00</td>\n",
       "      <td>1</td>\n",
       "      <td>0</td>\n",
       "      <td>0</td>\n",
       "    </tr>\n",
       "    <tr>\n",
       "      <th>536</th>\n",
       "      <td>537</td>\n",
       "      <td>2020-02-01</td>\n",
       "      <td>Dubai</td>\n",
       "      <td>United Arab Emirates</td>\n",
       "      <td>2020-01-31 08:15:00</td>\n",
       "      <td>4</td>\n",
       "      <td>0</td>\n",
       "      <td>0</td>\n",
       "    </tr>\n",
       "  </tbody>\n",
       "</table>\n",
       "</div>"
      ],
      "text/plain": [
       "     SNo ObservationDate Province/State        Country/Region  \\\n",
       "372  373      2020-01-29          Dubai  United Arab Emirates   \n",
       "428  429      2020-01-30          Dubai  United Arab Emirates   \n",
       "473  474      2020-01-31          Dubai  United Arab Emirates   \n",
       "492  493      2020-01-31      Stockholm                Sweden   \n",
       "536  537      2020-02-01          Dubai  United Arab Emirates   \n",
       "\n",
       "             Last Update  Confirmed  Deaths  Recovered  \n",
       "372  2020-01-29 19:30:00          4       0          0  \n",
       "428  2020-01-30 16:00:00          4       0          0  \n",
       "473  2020-01-31 23:59:00          4       0          0  \n",
       "492  2020-01-31 23:59:00          1       0          0  \n",
       "536  2020-01-31 08:15:00          4       0          0  "
      ]
     },
     "execution_count": 294,
     "metadata": {},
     "output_type": "execute_result"
    }
   ],
   "source": [
    "# Now, it's time to select only the information relative to the cities\n",
    "cities=['New York','Madrid','Quebec','Lombardia','Vienna','Stockholm',\n",
    "       'Doha','Dubai','Dakar']\n",
    "covid_final=covid_2019_countries.loc[covid_2019_countries['Province/State'].isin(cities),:].copy()\n",
    "print('The cities available in the reduced dataframe are:\\n {} ==> Nice, everything looks fine'.format(covid_final['Province/State'].unique()))\n",
    "print('The countries available in the reduced dataframe are:\\n {} ==> Nice!'.format(list(covid_final['Country/Region'].unique())))\n",
    "print('So far, the information about the cities of interests is contained in {} rows and {} columns.'.format(covid_final.shape[0],covid_final.shape[1]))\n",
    "print('The new dataset has {} missing values'.format(covid_final.isna().sum().sum()))\n",
    "covid_final.head()"
   ]
  },
  {
   "cell_type": "markdown",
   "metadata": {},
   "source": [
    "The first task described at the [beginning of this section](#sec:weather_and_infected_people_by_day) is done, so now we need to move forward to the second point. Remember, for this, we need to compute the number of new cases by day and city (now our dataset contains the accumulative number of cases), and next we need to move back the dates in 8 days (see [above](#sec:weather_and_infected_people_by_day) for more details).\n",
    "\n",
    "Also, I am going to create a new variable (`Days Since First Case`) that represents the number of days since the first infection case was reported in a city. Note that this variable could give more direct information about the number of new cases per day after the first infection."
   ]
  },
  {
   "cell_type": "code",
   "execution_count": 302,
   "metadata": {},
   "outputs": [
    {
     "data": {
      "text/html": [
       "<div>\n",
       "<style scoped>\n",
       "    .dataframe tbody tr th:only-of-type {\n",
       "        vertical-align: middle;\n",
       "    }\n",
       "\n",
       "    .dataframe tbody tr th {\n",
       "        vertical-align: top;\n",
       "    }\n",
       "\n",
       "    .dataframe thead th {\n",
       "        text-align: right;\n",
       "    }\n",
       "</style>\n",
       "<table border=\"1\" class=\"dataframe\">\n",
       "  <thead>\n",
       "    <tr style=\"text-align: right;\">\n",
       "      <th></th>\n",
       "      <th>SNo</th>\n",
       "      <th>ObservationDate</th>\n",
       "      <th>Province/State</th>\n",
       "      <th>Country/Region</th>\n",
       "      <th>Last Update</th>\n",
       "      <th>Confirmed</th>\n",
       "      <th>Deaths</th>\n",
       "      <th>Recovered</th>\n",
       "      <th>Days Since First Case</th>\n",
       "    </tr>\n",
       "  </thead>\n",
       "  <tbody>\n",
       "    <tr>\n",
       "      <th>4549</th>\n",
       "      <td>4550</td>\n",
       "      <td>2020-03-10</td>\n",
       "      <td>New York</td>\n",
       "      <td>US</td>\n",
       "      <td>2020-03-10 17:13:27</td>\n",
       "      <td>173</td>\n",
       "      <td>0</td>\n",
       "      <td>0</td>\n",
       "      <td>0</td>\n",
       "    </tr>\n",
       "    <tr>\n",
       "      <th>4755</th>\n",
       "      <td>4756</td>\n",
       "      <td>2020-03-11</td>\n",
       "      <td>New York</td>\n",
       "      <td>US</td>\n",
       "      <td>2020-03-11 22:53:03</td>\n",
       "      <td>47</td>\n",
       "      <td>0</td>\n",
       "      <td>0</td>\n",
       "      <td>1</td>\n",
       "    </tr>\n",
       "    <tr>\n",
       "      <th>4964</th>\n",
       "      <td>4965</td>\n",
       "      <td>2020-03-12</td>\n",
       "      <td>New York</td>\n",
       "      <td>US</td>\n",
       "      <td>2020-03-12 21:39:10</td>\n",
       "      <td>108</td>\n",
       "      <td>0</td>\n",
       "      <td>0</td>\n",
       "      <td>2</td>\n",
       "    </tr>\n",
       "    <tr>\n",
       "      <th>5356</th>\n",
       "      <td>5357</td>\n",
       "      <td>2020-03-13</td>\n",
       "      <td>New York</td>\n",
       "      <td>US</td>\n",
       "      <td>2020-03-11 20:00:00</td>\n",
       "      <td>93</td>\n",
       "      <td>0</td>\n",
       "      <td>0</td>\n",
       "      <td>3</td>\n",
       "    </tr>\n",
       "    <tr>\n",
       "      <th>5411</th>\n",
       "      <td>5412</td>\n",
       "      <td>2020-03-14</td>\n",
       "      <td>New York</td>\n",
       "      <td>US</td>\n",
       "      <td>2020-03-14 22:13:32</td>\n",
       "      <td>104</td>\n",
       "      <td>2</td>\n",
       "      <td>0</td>\n",
       "      <td>4</td>\n",
       "    </tr>\n",
       "  </tbody>\n",
       "</table>\n",
       "</div>"
      ],
      "text/plain": [
       "       SNo ObservationDate Province/State Country/Region          Last Update  \\\n",
       "4549  4550      2020-03-10       New York             US  2020-03-10 17:13:27   \n",
       "4755  4756      2020-03-11       New York             US  2020-03-11 22:53:03   \n",
       "4964  4965      2020-03-12       New York             US  2020-03-12 21:39:10   \n",
       "5356  5357      2020-03-13       New York             US  2020-03-11 20:00:00   \n",
       "5411  5412      2020-03-14       New York             US  2020-03-14 22:13:32   \n",
       "\n",
       "      Confirmed  Deaths  Recovered  Days Since First Case  \n",
       "4549        173       0          0                      0  \n",
       "4755         47       0          0                      1  \n",
       "4964        108       0          0                      2  \n",
       "5356         93       0          0                      3  \n",
       "5411        104       2          0                      4  "
      ]
     },
     "execution_count": 302,
     "metadata": {},
     "output_type": "execute_result"
    }
   ],
   "source": [
    "# The number of new cases in the day (N_d) can be computed as [N_d - N_(d-1)]. \n",
    "# Remember that we need to do this by city.\n",
    "# Iterate ove the cities and compute the number of new cases per day\n",
    "covid_new_cases=pd.DataFrame()\n",
    "for city in cities:\n",
    "    # Subset the dataset to considder only one city\n",
    "    temp=covid_final.loc[covid_final['Province/State']==city,:].sort_values(by='ObservationDate')\n",
    "    # Compute the subtractin for all the days except for the first one and storage the results in \n",
    "    # the column \"ObservationDate\"\n",
    "    temp.loc[temp['ObservationDate']>min(temp['ObservationDate']),\n",
    "             'Confirmed'] = temp['Confirmed'][1:].values - temp['Confirmed'][:-1].values\n",
    "    \n",
    "    # Compute the subtractin of all days since the first one \n",
    "    days=temp.loc[0:,'ObservationDate'].values - temp.iloc[0,1]\n",
    "    temp['Days Since First Case'] =[tt.days for tt in days]\n",
    "    \n",
    "    # Concatenate the result with the \"covid_new_cases\" dataframe\n",
    "    covid_new_cases=pd.concat([covid_new_cases,temp])\n",
    "# Print a piece of \"covid_new_cases\" dataframe\n",
    "covid_new_cases.head()"
   ]
  },
  {
   "cell_type": "markdown",
   "metadata": {},
   "source": [
    "Above, we can see that the number of confirmed cases is no longer a cumulative variable. But given that this variable is very important for this project, let's be more cautious and confirm that everything looks as we want after the transformation. For this, let's compute the sum of all the new cases by city and compare the result with the number of cases the last day in the original data frame."
   ]
  },
  {
   "cell_type": "code",
   "execution_count": 297,
   "metadata": {},
   "outputs": [
    {
     "data": {
      "text/html": [
       "<div>\n",
       "<style scoped>\n",
       "    .dataframe tbody tr th:only-of-type {\n",
       "        vertical-align: middle;\n",
       "    }\n",
       "\n",
       "    .dataframe tbody tr th {\n",
       "        vertical-align: top;\n",
       "    }\n",
       "\n",
       "    .dataframe thead th {\n",
       "        text-align: right;\n",
       "    }\n",
       "</style>\n",
       "<table border=\"1\" class=\"dataframe\">\n",
       "  <thead>\n",
       "    <tr style=\"text-align: right;\">\n",
       "      <th></th>\n",
       "      <th>Province/State</th>\n",
       "      <th>Confirmed_cumulative (Last Day)</th>\n",
       "      <th>Confirmed_sum (new cases per day)</th>\n",
       "    </tr>\n",
       "  </thead>\n",
       "  <tbody>\n",
       "    <tr>\n",
       "      <th>0</th>\n",
       "      <td>Dakar</td>\n",
       "      <td>207</td>\n",
       "      <td>207</td>\n",
       "    </tr>\n",
       "    <tr>\n",
       "      <th>1</th>\n",
       "      <td>Doha</td>\n",
       "      <td>1075</td>\n",
       "      <td>1075</td>\n",
       "    </tr>\n",
       "    <tr>\n",
       "      <th>2</th>\n",
       "      <td>Dubai</td>\n",
       "      <td>1264</td>\n",
       "      <td>1264</td>\n",
       "    </tr>\n",
       "    <tr>\n",
       "      <th>3</th>\n",
       "      <td>Lombardia</td>\n",
       "      <td>47520</td>\n",
       "      <td>47520</td>\n",
       "    </tr>\n",
       "    <tr>\n",
       "      <th>4</th>\n",
       "      <td>Madrid</td>\n",
       "      <td>119199</td>\n",
       "      <td>119199</td>\n",
       "    </tr>\n",
       "    <tr>\n",
       "      <th>5</th>\n",
       "      <td>New York</td>\n",
       "      <td>102987</td>\n",
       "      <td>102987</td>\n",
       "    </tr>\n",
       "    <tr>\n",
       "      <th>6</th>\n",
       "      <td>Quebec</td>\n",
       "      <td>6101</td>\n",
       "      <td>6101</td>\n",
       "    </tr>\n",
       "    <tr>\n",
       "      <th>7</th>\n",
       "      <td>Stockholm</td>\n",
       "      <td>6131</td>\n",
       "      <td>6131</td>\n",
       "    </tr>\n",
       "    <tr>\n",
       "      <th>8</th>\n",
       "      <td>Vienna</td>\n",
       "      <td>11524</td>\n",
       "      <td>11524</td>\n",
       "    </tr>\n",
       "  </tbody>\n",
       "</table>\n",
       "</div>"
      ],
      "text/plain": [
       "  Province/State  Confirmed_cumulative (Last Day)  \\\n",
       "0          Dakar                              207   \n",
       "1           Doha                             1075   \n",
       "2          Dubai                             1264   \n",
       "3      Lombardia                            47520   \n",
       "4         Madrid                           119199   \n",
       "5       New York                           102987   \n",
       "6         Quebec                             6101   \n",
       "7      Stockholm                             6131   \n",
       "8         Vienna                            11524   \n",
       "\n",
       "   Confirmed_sum (new cases per day)  \n",
       "0                                207  \n",
       "1                               1075  \n",
       "2                               1264  \n",
       "3                              47520  \n",
       "4                             119199  \n",
       "5                             102987  \n",
       "6                               6101  \n",
       "7                               6131  \n",
       "8                              11524  "
      ]
     },
     "execution_count": 297,
     "metadata": {},
     "output_type": "execute_result"
    }
   ],
   "source": [
    "# Resume in test1 the sum of the new cases by cities\n",
    "test1=covid_new_cases.pivot_table(index=['Province/State'],values='Confirmed',aggfunc='sum')\n",
    "# Extract in test2 the number of cases the last day\n",
    "test2=covid_final.loc[covid_final['ObservationDate']==max(covid_final['ObservationDate']),['Province/State','Confirmed']]\n",
    "# Merge and show this information\n",
    "pd.merge(test1,test2,on='Province/State',suffixes=('_cumulative (Last Day)', '_sum (new cases per day)'))"
   ]
  },
  {
   "cell_type": "markdown",
   "metadata": {},
   "source": [
    "As we can see in the above table, everything looks good and only remain to move the dates 8 days back in the calendar as an approximation of when the infection occurred. For this, I am going to include a new variable called `Infection Day`."
   ]
  },
  {
   "cell_type": "code",
   "execution_count": 298,
   "metadata": {},
   "outputs": [
    {
     "data": {
      "text/html": [
       "<div>\n",
       "<style scoped>\n",
       "    .dataframe tbody tr th:only-of-type {\n",
       "        vertical-align: middle;\n",
       "    }\n",
       "\n",
       "    .dataframe tbody tr th {\n",
       "        vertical-align: top;\n",
       "    }\n",
       "\n",
       "    .dataframe thead th {\n",
       "        text-align: right;\n",
       "    }\n",
       "</style>\n",
       "<table border=\"1\" class=\"dataframe\">\n",
       "  <thead>\n",
       "    <tr style=\"text-align: right;\">\n",
       "      <th></th>\n",
       "      <th>SNo</th>\n",
       "      <th>ObservationDate</th>\n",
       "      <th>Province/State</th>\n",
       "      <th>Country/Region</th>\n",
       "      <th>Last Update</th>\n",
       "      <th>Confirmed</th>\n",
       "      <th>Deaths</th>\n",
       "      <th>Recovered</th>\n",
       "      <th>Days Since First Case</th>\n",
       "      <th>Infection Day</th>\n",
       "    </tr>\n",
       "  </thead>\n",
       "  <tbody>\n",
       "    <tr>\n",
       "      <th>4549</th>\n",
       "      <td>4550</td>\n",
       "      <td>2020-03-10</td>\n",
       "      <td>New York</td>\n",
       "      <td>US</td>\n",
       "      <td>2020-03-10 17:13:27</td>\n",
       "      <td>173</td>\n",
       "      <td>0</td>\n",
       "      <td>0</td>\n",
       "      <td>0</td>\n",
       "      <td>2020-03-02</td>\n",
       "    </tr>\n",
       "    <tr>\n",
       "      <th>4755</th>\n",
       "      <td>4756</td>\n",
       "      <td>2020-03-11</td>\n",
       "      <td>New York</td>\n",
       "      <td>US</td>\n",
       "      <td>2020-03-11 22:53:03</td>\n",
       "      <td>47</td>\n",
       "      <td>0</td>\n",
       "      <td>0</td>\n",
       "      <td>1</td>\n",
       "      <td>2020-03-03</td>\n",
       "    </tr>\n",
       "    <tr>\n",
       "      <th>4964</th>\n",
       "      <td>4965</td>\n",
       "      <td>2020-03-12</td>\n",
       "      <td>New York</td>\n",
       "      <td>US</td>\n",
       "      <td>2020-03-12 21:39:10</td>\n",
       "      <td>108</td>\n",
       "      <td>0</td>\n",
       "      <td>0</td>\n",
       "      <td>2</td>\n",
       "      <td>2020-03-04</td>\n",
       "    </tr>\n",
       "    <tr>\n",
       "      <th>5356</th>\n",
       "      <td>5357</td>\n",
       "      <td>2020-03-13</td>\n",
       "      <td>New York</td>\n",
       "      <td>US</td>\n",
       "      <td>2020-03-11 20:00:00</td>\n",
       "      <td>93</td>\n",
       "      <td>0</td>\n",
       "      <td>0</td>\n",
       "      <td>3</td>\n",
       "      <td>2020-03-05</td>\n",
       "    </tr>\n",
       "    <tr>\n",
       "      <th>5411</th>\n",
       "      <td>5412</td>\n",
       "      <td>2020-03-14</td>\n",
       "      <td>New York</td>\n",
       "      <td>US</td>\n",
       "      <td>2020-03-14 22:13:32</td>\n",
       "      <td>104</td>\n",
       "      <td>2</td>\n",
       "      <td>0</td>\n",
       "      <td>4</td>\n",
       "      <td>2020-03-06</td>\n",
       "    </tr>\n",
       "  </tbody>\n",
       "</table>\n",
       "</div>"
      ],
      "text/plain": [
       "       SNo ObservationDate Province/State Country/Region          Last Update  \\\n",
       "4549  4550      2020-03-10       New York             US  2020-03-10 17:13:27   \n",
       "4755  4756      2020-03-11       New York             US  2020-03-11 22:53:03   \n",
       "4964  4965      2020-03-12       New York             US  2020-03-12 21:39:10   \n",
       "5356  5357      2020-03-13       New York             US  2020-03-11 20:00:00   \n",
       "5411  5412      2020-03-14       New York             US  2020-03-14 22:13:32   \n",
       "\n",
       "      Confirmed  Deaths  Recovered  Days Since First Case Infection Day  \n",
       "4549        173       0          0                      0    2020-03-02  \n",
       "4755         47       0          0                      1    2020-03-03  \n",
       "4964        108       0          0                      2    2020-03-04  \n",
       "5356         93       0          0                      3    2020-03-05  \n",
       "5411        104       2          0                      4    2020-03-06  "
      ]
     },
     "execution_count": 298,
     "metadata": {},
     "output_type": "execute_result"
    }
   ],
   "source": [
    "# Estimate the infection day\n",
    "covid_new_cases['Infection Day']=covid_new_cases['ObservationDate'] -  pd.to_timedelta(8,'d')\n",
    "# Shows the new results\n",
    "covid_new_cases.head()"
   ]
  },
  {
   "cell_type": "markdown",
   "metadata": {},
   "source": [
    "At this moment, we covered the two points described at the beginning of [this section](#sec:weather_and_infected_people_by_day) and only remain to merge the information in the coronavirus dataset (\"covid_new_cases\") with the weather dataset \"weather\". Note that we need to do a left join (complete the  information in the \"covid_new_cases\" dataset with the weather)."
   ]
  },
  {
   "cell_type": "code",
   "execution_count": 299,
   "metadata": {},
   "outputs": [
    {
     "data": {
      "text/html": [
       "<div>\n",
       "<style scoped>\n",
       "    .dataframe tbody tr th:only-of-type {\n",
       "        vertical-align: middle;\n",
       "    }\n",
       "\n",
       "    .dataframe tbody tr th {\n",
       "        vertical-align: top;\n",
       "    }\n",
       "\n",
       "    .dataframe thead th {\n",
       "        text-align: right;\n",
       "    }\n",
       "</style>\n",
       "<table border=\"1\" class=\"dataframe\">\n",
       "  <thead>\n",
       "    <tr style=\"text-align: right;\">\n",
       "      <th></th>\n",
       "      <th>ObservationDate</th>\n",
       "      <th>Province/State</th>\n",
       "      <th>Country/Region</th>\n",
       "      <th>Confirmed</th>\n",
       "      <th>Deaths</th>\n",
       "      <th>Recovered</th>\n",
       "      <th>Days Since First Case</th>\n",
       "      <th>Infection Day</th>\n",
       "      <th>TempMax</th>\n",
       "      <th>TempAvg</th>\n",
       "      <th>TempMin</th>\n",
       "      <th>HumMax</th>\n",
       "      <th>HumAvg</th>\n",
       "      <th>HumMin</th>\n",
       "      <th>Wind_Speed_Max</th>\n",
       "      <th>Wind_Speed_Avg</th>\n",
       "      <th>Wind_Speed_Min</th>\n",
       "      <th>Pressure_Max</th>\n",
       "      <th>Pressure_Avg</th>\n",
       "      <th>Pressure_Min</th>\n",
       "      <th>Total_Precipitations</th>\n",
       "    </tr>\n",
       "  </thead>\n",
       "  <tbody>\n",
       "    <tr>\n",
       "      <th>0</th>\n",
       "      <td>2020-03-10</td>\n",
       "      <td>New York</td>\n",
       "      <td>US</td>\n",
       "      <td>173</td>\n",
       "      <td>0</td>\n",
       "      <td>0</td>\n",
       "      <td>0</td>\n",
       "      <td>2020-03-02</td>\n",
       "      <td>56</td>\n",
       "      <td>48.2</td>\n",
       "      <td>38</td>\n",
       "      <td>73</td>\n",
       "      <td>51.1</td>\n",
       "      <td>35</td>\n",
       "      <td>16</td>\n",
       "      <td>10.3</td>\n",
       "      <td>5</td>\n",
       "      <td>30.1</td>\n",
       "      <td>29.9</td>\n",
       "      <td>29.8</td>\n",
       "      <td>0.00</td>\n",
       "    </tr>\n",
       "    <tr>\n",
       "      <th>1</th>\n",
       "      <td>2020-03-11</td>\n",
       "      <td>New York</td>\n",
       "      <td>US</td>\n",
       "      <td>47</td>\n",
       "      <td>0</td>\n",
       "      <td>0</td>\n",
       "      <td>1</td>\n",
       "      <td>2020-03-03</td>\n",
       "      <td>58</td>\n",
       "      <td>52.4</td>\n",
       "      <td>48</td>\n",
       "      <td>89</td>\n",
       "      <td>75.5</td>\n",
       "      <td>53</td>\n",
       "      <td>26</td>\n",
       "      <td>10.1</td>\n",
       "      <td>0</td>\n",
       "      <td>29.8</td>\n",
       "      <td>29.6</td>\n",
       "      <td>29.4</td>\n",
       "      <td>0.01</td>\n",
       "    </tr>\n",
       "    <tr>\n",
       "      <th>2</th>\n",
       "      <td>2020-03-12</td>\n",
       "      <td>New York</td>\n",
       "      <td>US</td>\n",
       "      <td>108</td>\n",
       "      <td>0</td>\n",
       "      <td>0</td>\n",
       "      <td>2</td>\n",
       "      <td>2020-03-04</td>\n",
       "      <td>57</td>\n",
       "      <td>50.5</td>\n",
       "      <td>46</td>\n",
       "      <td>66</td>\n",
       "      <td>44.8</td>\n",
       "      <td>24</td>\n",
       "      <td>28</td>\n",
       "      <td>18.2</td>\n",
       "      <td>12</td>\n",
       "      <td>29.9</td>\n",
       "      <td>29.7</td>\n",
       "      <td>29.5</td>\n",
       "      <td>0.28</td>\n",
       "    </tr>\n",
       "    <tr>\n",
       "      <th>3</th>\n",
       "      <td>2020-03-13</td>\n",
       "      <td>New York</td>\n",
       "      <td>US</td>\n",
       "      <td>93</td>\n",
       "      <td>0</td>\n",
       "      <td>0</td>\n",
       "      <td>3</td>\n",
       "      <td>2020-03-05</td>\n",
       "      <td>52</td>\n",
       "      <td>44.8</td>\n",
       "      <td>40</td>\n",
       "      <td>71</td>\n",
       "      <td>48.5</td>\n",
       "      <td>27</td>\n",
       "      <td>24</td>\n",
       "      <td>12.9</td>\n",
       "      <td>5</td>\n",
       "      <td>30.1</td>\n",
       "      <td>30.1</td>\n",
       "      <td>29.9</td>\n",
       "      <td>0.00</td>\n",
       "    </tr>\n",
       "    <tr>\n",
       "      <th>4</th>\n",
       "      <td>2020-03-14</td>\n",
       "      <td>New York</td>\n",
       "      <td>US</td>\n",
       "      <td>104</td>\n",
       "      <td>2</td>\n",
       "      <td>0</td>\n",
       "      <td>4</td>\n",
       "      <td>2020-03-06</td>\n",
       "      <td>45</td>\n",
       "      <td>41.6</td>\n",
       "      <td>37</td>\n",
       "      <td>89</td>\n",
       "      <td>74.7</td>\n",
       "      <td>65</td>\n",
       "      <td>20</td>\n",
       "      <td>13.0</td>\n",
       "      <td>5</td>\n",
       "      <td>30.1</td>\n",
       "      <td>29.9</td>\n",
       "      <td>29.8</td>\n",
       "      <td>0.00</td>\n",
       "    </tr>\n",
       "  </tbody>\n",
       "</table>\n",
       "</div>"
      ],
      "text/plain": [
       "  ObservationDate Province/State Country/Region  Confirmed  Deaths  Recovered  \\\n",
       "0      2020-03-10       New York             US        173       0          0   \n",
       "1      2020-03-11       New York             US         47       0          0   \n",
       "2      2020-03-12       New York             US        108       0          0   \n",
       "3      2020-03-13       New York             US         93       0          0   \n",
       "4      2020-03-14       New York             US        104       2          0   \n",
       "\n",
       "   Days Since First Case Infection Day  TempMax  TempAvg  TempMin  HumMax  \\\n",
       "0                      0    2020-03-02       56     48.2       38      73   \n",
       "1                      1    2020-03-03       58     52.4       48      89   \n",
       "2                      2    2020-03-04       57     50.5       46      66   \n",
       "3                      3    2020-03-05       52     44.8       40      71   \n",
       "4                      4    2020-03-06       45     41.6       37      89   \n",
       "\n",
       "   HumAvg  HumMin  Wind_Speed_Max  Wind_Speed_Avg  Wind_Speed_Min  \\\n",
       "0    51.1      35              16            10.3               5   \n",
       "1    75.5      53              26            10.1               0   \n",
       "2    44.8      24              28            18.2              12   \n",
       "3    48.5      27              24            12.9               5   \n",
       "4    74.7      65              20            13.0               5   \n",
       "\n",
       "   Pressure_Max  Pressure_Avg  Pressure_Min  Total_Precipitations  \n",
       "0          30.1          29.9          29.8                  0.00  \n",
       "1          29.8          29.6          29.4                  0.01  \n",
       "2          29.9          29.7          29.5                  0.28  \n",
       "3          30.1          30.1          29.9                  0.00  \n",
       "4          30.1          29.9          29.8                  0.00  "
      ]
     },
     "execution_count": 299,
     "metadata": {},
     "output_type": "execute_result"
    }
   ],
   "source": [
    "# Left Join the two data frames\n",
    "covid_weather=pd.merge(covid_new_cases,weather,how='left',left_on=['Infection Day','Province/State'],\n",
    "                                            right_on=['Infection Day','State'])\n",
    "# Some variables like SNo, State (is a duplication of \"Province/State\"), \n",
    "# Country (is a duplication of \"Country/Region\") or \"LastUpdate\" are not \n",
    "# necessary to this study, so let's drop it from the data.\n",
    "covid_weather.drop(columns=['SNo','State','Country','Last Update'],inplace=True)\n",
    "covid_weather.head()"
   ]
  },
  {
   "cell_type": "code",
   "execution_count": 300,
   "metadata": {},
   "outputs": [
    {
     "name": "stdout",
     "output_type": "stream",
     "text": [
      "The data frames have a True match between the number of observations in New York\n",
      "The data frames have a True match between the number of observations in Madrid\n",
      "The data frames have a True match between the number of observations in Quebec\n",
      "The data frames have a True match between the number of observations in Lombardia\n",
      "The data frames have a True match between the number of observations in Vienna\n",
      "The data frames have a True match between the number of observations in Stockholm\n",
      "The data frames have a True match between the number of observations in Doha\n",
      "The data frames have a True match between the number of observations in Dubai\n",
      "The data frames have a True match between the number of observations in Dakar\n",
      "The final data frame that condense all the information about the coronavirus disease and the weather in the selected 9 cities has 391 observations and 21 features.\n",
      "The total number of missing values in the data frame is 0 ==> Great!!\n"
     ]
    }
   ],
   "source": [
    "for city in cities:\n",
    "    print('The data frames have a {} match between the number of observations in {}'.format(\n",
    "        covid_weather.loc[covid_weather['Province/State']==city,:].shape[0]==\n",
    "        covid_new_cases.loc[covid_new_cases['Province/State']==city,:].shape[0],city))\n",
    "print('The final data frame that condense all the information about the coronavirus disease and the weather in the selected 9 cities has {} observations and {} features.'.\n",
    "     format(covid_weather.shape[0],covid_weather.shape[1]))\n",
    "print('The total number of missing values in the data frame is {} ==> Great!!'.format(covid_weather.isna().sum().sum()))"
   ]
  },
  {
   "cell_type": "markdown",
   "metadata": {},
   "source": [
    "> Finally!!! Our data looks tidy and we are ready to board our scientific questions."
   ]
  },
  {
   "cell_type": "markdown",
   "metadata": {},
   "source": [
    "## Coronavirus vs Temperature"
   ]
  },
  {
   "cell_type": "markdown",
   "metadata": {},
   "source": [
    "For the following analysis is important to remember that the variable `Confirmed` contains the information about the new cases that were infected at `Infection Day`. Note that this is an estimation, but in my opinion is more realistic that study the weather around 8 days after that the infection accour.   \n",
    "\n",
    "Fig. \"_Temperature Avg by Day_\" shows the temperature in the 9 `Province/State` since the `Infection Day` of the first reported patient. This time series shows that the hottests `Province/State` (Dakar, Dubai, Doha) have mean temperatures over $\\approx 65^o F$ in all days, while Quebec is the only `Province/State` that had under $30^o F$ most of the time. The temperature in all the others `Province/States` were between 30 and $60^o F$.\n",
    "> Note that this graph shows the possibility to make a discretization of the temperature potentially considering 3 ranges of values. In the future, should be nice to do a k-means analysis with 3 clusters to study the number of cases by the range of temperature (see below)."
   ]
  },
  {
   "cell_type": "code",
   "execution_count": 326,
   "metadata": {},
   "outputs": [
    {
     "data": {
      "application/vnd.plotly.v1+json": {
       "config": {
        "plotlyServerURL": "https://plot.ly"
       },
       "data": [
        {
         "hoverlabel": {
          "namelength": 0
         },
         "hovertemplate": "Province/State=New York<br>Infection Day=%{x}<br>TempAvg=%{y}",
         "legendgroup": "Province/State=New York",
         "line": {
          "color": "#636efa",
          "dash": "solid"
         },
         "mode": "lines",
         "name": "Province/State=New York",
         "showlegend": true,
         "type": "scatter",
         "x": [
          "2020-03-02",
          "2020-03-03",
          "2020-03-04",
          "2020-03-05",
          "2020-03-06",
          "2020-03-07",
          "2020-03-08",
          "2020-03-09",
          "2020-03-10",
          "2020-03-11",
          "2020-03-12",
          "2020-03-13",
          "2020-03-14",
          "2020-03-15",
          "2020-03-16",
          "2020-03-17",
          "2020-03-18",
          "2020-03-19",
          "2020-03-20",
          "2020-03-21",
          "2020-03-22",
          "2020-03-23",
          "2020-03-24",
          "2020-03-25",
          "2020-03-26"
         ],
         "xaxis": "x",
         "y": [
          48.2,
          52.4,
          50.5,
          44.8,
          41.6,
          41,
          47.8,
          59.3,
          61,
          50.4,
          44.7,
          54.6,
          48.9,
          46.8,
          39.3,
          47.5,
          47.6,
          46.2,
          56,
          48.5,
          38.4,
          39.2,
          44,
          42.8,
          47
         ],
         "yaxis": "y"
        },
        {
         "hoverlabel": {
          "namelength": 0
         },
         "hovertemplate": "Province/State=Madrid<br>Infection Day=%{x}<br>TempAvg=%{y}",
         "legendgroup": "Province/State=Madrid",
         "line": {
          "color": "#EF553B",
          "dash": "solid"
         },
         "mode": "lines",
         "name": "Province/State=Madrid",
         "showlegend": true,
         "type": "scatter",
         "x": [
          "2020-01-24",
          "2020-01-25",
          "2020-01-26",
          "2020-01-27",
          "2020-01-28",
          "2020-01-29",
          "2020-01-30",
          "2020-01-31",
          "2020-02-01",
          "2020-02-02",
          "2020-02-03",
          "2020-02-04",
          "2020-02-05",
          "2020-02-06",
          "2020-02-07",
          "2020-02-08",
          "2020-02-09",
          "2020-02-10",
          "2020-02-11",
          "2020-02-12",
          "2020-02-13",
          "2020-02-14",
          "2020-02-15",
          "2020-02-16",
          "2020-02-17",
          "2020-02-18",
          "2020-02-19",
          "2020-02-20",
          "2020-02-21",
          "2020-02-22",
          "2020-02-23",
          "2020-02-24",
          "2020-02-25",
          "2020-02-26",
          "2020-02-27",
          "2020-02-28",
          "2020-02-29",
          "2020-03-01",
          "2020-03-02",
          "2020-03-03",
          "2020-03-04",
          "2020-03-05",
          "2020-03-06",
          "2020-03-07",
          "2020-03-08",
          "2020-03-09",
          "2020-03-10",
          "2020-03-11",
          "2020-03-12",
          "2020-03-13",
          "2020-03-14",
          "2020-03-15",
          "2020-03-16",
          "2020-03-17",
          "2020-03-18",
          "2020-03-19",
          "2020-03-20",
          "2020-03-21",
          "2020-03-22",
          "2020-03-23",
          "2020-03-24",
          "2020-03-25",
          "2020-03-26"
         ],
         "xaxis": "x",
         "y": [
          45.2,
          45.4,
          43.5,
          41.7,
          52.1,
          53.7,
          51.1,
          54.2,
          56.9,
          53.3,
          52,
          50.2,
          45.9,
          41.2,
          44.4,
          44,
          46.7,
          48.1,
          46.4,
          49.5,
          52.1,
          47.5,
          45.7,
          48.7,
          47.4,
          46.3,
          45.6,
          44.4,
          48,
          48.6,
          50.5,
          50.5,
          49,
          52.4,
          52.9,
          51,
          51.1,
          52.6,
          51.8,
          51.3,
          58.3,
          55,
          49.1,
          46.9,
          47.1,
          53.8,
          54.4,
          58.6,
          60.3,
          60.4,
          59.3,
          54.9,
          45.1,
          50.8,
          54.3,
          54.9,
          52.9,
          48.2,
          48.5,
          50.4,
          53.4,
          53,
          48.2
         ],
         "yaxis": "y"
        },
        {
         "hoverlabel": {
          "namelength": 0
         },
         "hovertemplate": "Province/State=Quebec<br>Infection Day=%{x}<br>TempAvg=%{y}",
         "legendgroup": "Province/State=Quebec",
         "line": {
          "color": "#00cc96",
          "dash": "solid"
         },
         "mode": "lines",
         "name": "Province/State=Quebec",
         "showlegend": true,
         "type": "scatter",
         "x": [
          "2020-03-01",
          "2020-03-02",
          "2020-03-03",
          "2020-03-04",
          "2020-03-05",
          "2020-03-06",
          "2020-03-07",
          "2020-03-08",
          "2020-03-09",
          "2020-03-10",
          "2020-03-11",
          "2020-03-12",
          "2020-03-13",
          "2020-03-14",
          "2020-03-15",
          "2020-03-16",
          "2020-03-17",
          "2020-03-18",
          "2020-03-19",
          "2020-03-20",
          "2020-03-21",
          "2020-03-22",
          "2020-03-23",
          "2020-03-24",
          "2020-03-25",
          "2020-03-26"
         ],
         "xaxis": "x",
         "y": [
          15.3,
          19.2,
          31.7,
          32.8,
          29,
          25.5,
          19.5,
          28.7,
          22.4,
          26.6,
          21.6,
          19.6,
          31.9,
          31.1,
          20.4,
          15.7,
          29.4,
          25.4,
          30.6,
          36.1,
          21.1,
          14,
          24.5,
          32.2,
          31.8,
          34.1
         ],
         "yaxis": "y"
        },
        {
         "hoverlabel": {
          "namelength": 0
         },
         "hovertemplate": "Province/State=Lombardia<br>Infection Day=%{x}<br>TempAvg=%{y}",
         "legendgroup": "Province/State=Lombardia",
         "line": {
          "color": "#ab63fa",
          "dash": "solid"
         },
         "mode": "lines",
         "name": "Province/State=Lombardia",
         "showlegend": true,
         "type": "scatter",
         "x": [
          "2020-02-16",
          "2020-02-17",
          "2020-02-18",
          "2020-02-19",
          "2020-02-20",
          "2020-02-21",
          "2020-02-22",
          "2020-02-23",
          "2020-02-24",
          "2020-02-25",
          "2020-02-26",
          "2020-02-27",
          "2020-02-28",
          "2020-02-29",
          "2020-03-01",
          "2020-03-02",
          "2020-03-03",
          "2020-03-04",
          "2020-03-05",
          "2020-03-06",
          "2020-03-07",
          "2020-03-08",
          "2020-03-09",
          "2020-03-10",
          "2020-03-11",
          "2020-03-12",
          "2020-03-13",
          "2020-03-14",
          "2020-03-15",
          "2020-03-16",
          "2020-03-17",
          "2020-03-18",
          "2020-03-19",
          "2020-03-20",
          "2020-03-21",
          "2020-03-22",
          "2020-03-23",
          "2020-03-24",
          "2020-03-25",
          "2020-03-26"
         ],
         "xaxis": "x",
         "y": [
          46.2,
          49.3,
          50,
          46.9,
          45.2,
          45.9,
          46.6,
          50.2,
          55.4,
          52.1,
          49.1,
          45.8,
          49.8,
          44.7,
          44.2,
          40.8,
          46.6,
          45.5,
          43.9,
          43.7,
          48.1,
          47.4,
          45.6,
          49.5,
          53.8,
          52.5,
          58.9,
          51.2,
          47.1,
          48.1,
          49.5,
          52.4,
          55.4,
          54.1,
          55,
          53.3,
          43.3,
          42.9,
          42.4,
          40.7
         ],
         "yaxis": "y"
        },
        {
         "hoverlabel": {
          "namelength": 0
         },
         "hovertemplate": "Province/State=Vienna<br>Infection Day=%{x}<br>TempAvg=%{y}",
         "legendgroup": "Province/State=Vienna",
         "line": {
          "color": "#FFA15A",
          "dash": "solid"
         },
         "mode": "lines",
         "name": "Province/State=Vienna",
         "showlegend": true,
         "type": "scatter",
         "x": [
          "2020-02-17",
          "2020-02-18",
          "2020-02-19",
          "2020-02-20",
          "2020-02-21",
          "2020-02-22",
          "2020-02-23",
          "2020-02-24",
          "2020-02-25",
          "2020-02-26",
          "2020-02-27",
          "2020-02-28",
          "2020-02-29",
          "2020-03-01",
          "2020-03-02",
          "2020-03-03",
          "2020-03-04",
          "2020-03-05",
          "2020-03-06",
          "2020-03-07",
          "2020-03-08",
          "2020-03-09",
          "2020-03-10",
          "2020-03-11",
          "2020-03-12",
          "2020-03-13",
          "2020-03-14",
          "2020-03-15",
          "2020-03-16",
          "2020-03-17",
          "2020-03-18",
          "2020-03-19",
          "2020-03-20",
          "2020-03-21",
          "2020-03-22",
          "2020-03-23",
          "2020-03-24",
          "2020-03-25",
          "2020-03-26"
         ],
         "xaxis": "x",
         "y": [
          45,
          48.6,
          41.6,
          43,
          40.9,
          41.9,
          57.5,
          46.8,
          49.5,
          45,
          41.4,
          39.6,
          41,
          42.8,
          49.9,
          46,
          43.8,
          42.1,
          44.7,
          44.8,
          42.7,
          40.8,
          49.1,
          57.6,
          59.3,
          49.8,
          44.3,
          37.9,
          44.3,
          44.8,
          52.3,
          52.6,
          54.5,
          43.1,
          33.8,
          32.7,
          34.9,
          32.3,
          39.5
         ],
         "yaxis": "y"
        },
        {
         "hoverlabel": {
          "namelength": 0
         },
         "hovertemplate": "Province/State=Stockholm<br>Infection Day=%{x}<br>TempAvg=%{y}",
         "legendgroup": "Province/State=Stockholm",
         "line": {
          "color": "#19d3f3",
          "dash": "solid"
         },
         "mode": "lines",
         "name": "Province/State=Stockholm",
         "showlegend": true,
         "type": "scatter",
         "x": [
          "2020-01-23",
          "2020-01-24",
          "2020-01-25",
          "2020-01-26",
          "2020-01-27",
          "2020-01-28",
          "2020-01-29",
          "2020-01-30",
          "2020-01-31",
          "2020-02-01",
          "2020-02-02",
          "2020-02-03",
          "2020-02-04",
          "2020-02-05",
          "2020-02-06",
          "2020-02-07",
          "2020-02-08",
          "2020-02-09",
          "2020-02-10",
          "2020-02-11",
          "2020-02-12",
          "2020-02-13",
          "2020-02-14",
          "2020-02-15",
          "2020-02-16",
          "2020-02-17",
          "2020-02-18",
          "2020-02-19",
          "2020-02-20",
          "2020-02-21",
          "2020-02-22",
          "2020-02-23",
          "2020-02-24",
          "2020-02-25",
          "2020-02-26",
          "2020-02-27",
          "2020-02-28",
          "2020-02-29",
          "2020-03-01",
          "2020-03-02",
          "2020-03-03",
          "2020-03-04",
          "2020-03-05",
          "2020-03-06",
          "2020-03-07",
          "2020-03-08",
          "2020-03-09",
          "2020-03-10",
          "2020-03-11",
          "2020-03-12",
          "2020-03-13",
          "2020-03-14",
          "2020-03-15",
          "2020-03-16",
          "2020-03-17",
          "2020-03-18",
          "2020-03-19",
          "2020-03-20",
          "2020-03-21",
          "2020-03-22",
          "2020-03-23",
          "2020-03-24",
          "2020-03-25",
          "2020-03-26"
         ],
         "xaxis": "x",
         "y": [
          34,
          41.9,
          36.1,
          43.3,
          40.7,
          38.5,
          38,
          34.7,
          36.7,
          42.4,
          39.3,
          30.1,
          27.3,
          32.8,
          32,
          30.1,
          36.8,
          40.3,
          43,
          38.7,
          37.3,
          33.4,
          29.8,
          38.5,
          44.5,
          43.2,
          44.3,
          39.3,
          34.1,
          42.7,
          43.2,
          41.3,
          34.1,
          32.5,
          32.5,
          29.7,
          29.9,
          34.2,
          39,
          39.7,
          38.7,
          35.8,
          34.7,
          33.9,
          34.2,
          39.3,
          44,
          40.7,
          40.7,
          38.9,
          35.6,
          29.8,
          38.2,
          39.1,
          41.2,
          43.4,
          41.6,
          34.5,
          31.2,
          30.5,
          36,
          39.5,
          45,
          43.2
         ],
         "yaxis": "y"
        },
        {
         "hoverlabel": {
          "namelength": 0
         },
         "hovertemplate": "Province/State=Doha<br>Infection Day=%{x}<br>TempAvg=%{y}",
         "legendgroup": "Province/State=Doha",
         "line": {
          "color": "#FF6692",
          "dash": "solid"
         },
         "mode": "lines",
         "name": "Province/State=Doha",
         "showlegend": true,
         "type": "scatter",
         "x": [
          "2020-02-21",
          "2020-02-22",
          "2020-02-23",
          "2020-02-24",
          "2020-02-25",
          "2020-02-26",
          "2020-02-27",
          "2020-02-28",
          "2020-02-29",
          "2020-03-01",
          "2020-03-02",
          "2020-03-03",
          "2020-03-04",
          "2020-03-05",
          "2020-03-06",
          "2020-03-07",
          "2020-03-08",
          "2020-03-09",
          "2020-03-10",
          "2020-03-11",
          "2020-03-12",
          "2020-03-13",
          "2020-03-14",
          "2020-03-15",
          "2020-03-16",
          "2020-03-17",
          "2020-03-18",
          "2020-03-19",
          "2020-03-20",
          "2020-03-21",
          "2020-03-22",
          "2020-03-23",
          "2020-03-24",
          "2020-03-25",
          "2020-03-26"
         ],
         "xaxis": "x",
         "y": [
          69.5,
          68.2,
          70.8,
          74.1,
          75.6,
          71.8,
          67.8,
          68.6,
          67.9,
          69,
          69.8,
          68.8,
          68.4,
          69.3,
          68.6,
          69.9,
          72.6,
          71.5,
          68,
          71.4,
          70.2,
          70.9,
          74.8,
          76.6,
          76.1,
          74.7,
          76.6,
          78.1,
          75.6,
          75.5,
          75.3,
          71,
          70.9,
          71.8,
          72.3
         ],
         "yaxis": "y"
        },
        {
         "hoverlabel": {
          "namelength": 0
         },
         "hovertemplate": "Province/State=Dubai<br>Infection Day=%{x}<br>TempAvg=%{y}",
         "legendgroup": "Province/State=Dubai",
         "line": {
          "color": "#B6E880",
          "dash": "solid"
         },
         "mode": "lines",
         "name": "Province/State=Dubai",
         "showlegend": true,
         "type": "scatter",
         "x": [
          "2020-01-21",
          "2020-01-22",
          "2020-01-23",
          "2020-01-24",
          "2020-01-25",
          "2020-01-26",
          "2020-01-27",
          "2020-01-28",
          "2020-01-29",
          "2020-01-30",
          "2020-01-31",
          "2020-02-01",
          "2020-02-02",
          "2020-02-03",
          "2020-02-04",
          "2020-02-05",
          "2020-02-06",
          "2020-02-07",
          "2020-02-08",
          "2020-02-09",
          "2020-02-10",
          "2020-02-11",
          "2020-02-12",
          "2020-02-13",
          "2020-02-14",
          "2020-02-15",
          "2020-02-16",
          "2020-02-17",
          "2020-02-18",
          "2020-02-19",
          "2020-02-20",
          "2020-02-21",
          "2020-02-22",
          "2020-02-23",
          "2020-02-24",
          "2020-02-25",
          "2020-02-26",
          "2020-02-27",
          "2020-02-28",
          "2020-02-29",
          "2020-03-01",
          "2020-03-02",
          "2020-03-03",
          "2020-03-04",
          "2020-03-05",
          "2020-03-06",
          "2020-03-07",
          "2020-03-08",
          "2020-03-09",
          "2020-03-10",
          "2020-03-11",
          "2020-03-12",
          "2020-03-13",
          "2020-03-14",
          "2020-03-15",
          "2020-03-16",
          "2020-03-17",
          "2020-03-18",
          "2020-03-19",
          "2020-03-20",
          "2020-03-21",
          "2020-03-22",
          "2020-03-23",
          "2020-03-24",
          "2020-03-25",
          "2020-03-26"
         ],
         "xaxis": "x",
         "y": [
          68.7,
          69.8,
          73.2,
          69,
          67.4,
          65.2,
          65.2,
          65,
          67.3,
          67.3,
          65.3,
          67,
          67.7,
          66.9,
          67.5,
          65.9,
          68,
          69.3,
          72.4,
          75,
          74.8,
          71.8,
          65.1,
          64.4,
          65.7,
          66.4,
          71.9,
          75.3,
          73.9,
          75.6,
          77.4,
          75.3,
          76.7,
          77.8,
          80,
          81.7,
          79.2,
          71.1,
          70.5,
          72.5,
          72.5,
          75.3,
          71.7,
          70.6,
          71.6,
          73.4,
          75.4,
          76.3,
          73,
          74.8,
          72.8,
          71.9,
          74.6,
          79.4,
          81,
          77.7,
          77.8,
          80.5,
          83.3,
          83.2,
          75.7,
          76,
          72.5,
          70.6,
          70.7,
          73.9
         ],
         "yaxis": "y"
        },
        {
         "hoverlabel": {
          "namelength": 0
         },
         "hovertemplate": "Province/State=Dakar<br>Infection Day=%{x}<br>TempAvg=%{y}",
         "legendgroup": "Province/State=Dakar",
         "line": {
          "color": "#FF97FF",
          "dash": "solid"
         },
         "mode": "lines",
         "name": "Province/State=Dakar",
         "showlegend": true,
         "type": "scatter",
         "x": [
          "2020-02-23",
          "2020-02-24",
          "2020-02-25",
          "2020-02-26",
          "2020-02-27",
          "2020-02-28",
          "2020-02-29",
          "2020-03-01",
          "2020-03-02",
          "2020-03-03",
          "2020-03-04",
          "2020-03-05",
          "2020-03-06",
          "2020-03-07",
          "2020-03-08",
          "2020-03-09",
          "2020-03-10",
          "2020-03-11",
          "2020-03-12",
          "2020-03-13",
          "2020-03-14",
          "2020-03-15",
          "2020-03-16",
          "2020-03-17",
          "2020-03-18",
          "2020-03-19",
          "2020-03-20",
          "2020-03-21",
          "2020-03-22",
          "2020-03-23",
          "2020-03-24",
          "2020-03-25",
          "2020-03-26"
         ],
         "xaxis": "x",
         "y": [
          72.2,
          74.2,
          86.9,
          80.7,
          78,
          75.4,
          73.9,
          74.3,
          76.1,
          80.2,
          75.3,
          74.7,
          74.9,
          75.8,
          75.5,
          75.5,
          77.8,
          76.1,
          77.2,
          76.4,
          75,
          74.2,
          74.2,
          72.3,
          73.1,
          72.6,
          73.1,
          74.1,
          72.3,
          70.8,
          68.5,
          68.3,
          69.9
         ],
         "yaxis": "y"
        }
       ],
       "layout": {
        "height": 600,
        "legend": {
         "tracegroupgap": 0
        },
        "template": {
         "data": {
          "bar": [
           {
            "error_x": {
             "color": "#2a3f5f"
            },
            "error_y": {
             "color": "#2a3f5f"
            },
            "marker": {
             "line": {
              "color": "#E5ECF6",
              "width": 0.5
             }
            },
            "type": "bar"
           }
          ],
          "barpolar": [
           {
            "marker": {
             "line": {
              "color": "#E5ECF6",
              "width": 0.5
             }
            },
            "type": "barpolar"
           }
          ],
          "carpet": [
           {
            "aaxis": {
             "endlinecolor": "#2a3f5f",
             "gridcolor": "white",
             "linecolor": "white",
             "minorgridcolor": "white",
             "startlinecolor": "#2a3f5f"
            },
            "baxis": {
             "endlinecolor": "#2a3f5f",
             "gridcolor": "white",
             "linecolor": "white",
             "minorgridcolor": "white",
             "startlinecolor": "#2a3f5f"
            },
            "type": "carpet"
           }
          ],
          "choropleth": [
           {
            "colorbar": {
             "outlinewidth": 0,
             "ticks": ""
            },
            "type": "choropleth"
           }
          ],
          "contour": [
           {
            "colorbar": {
             "outlinewidth": 0,
             "ticks": ""
            },
            "colorscale": [
             [
              0,
              "#0d0887"
             ],
             [
              0.1111111111111111,
              "#46039f"
             ],
             [
              0.2222222222222222,
              "#7201a8"
             ],
             [
              0.3333333333333333,
              "#9c179e"
             ],
             [
              0.4444444444444444,
              "#bd3786"
             ],
             [
              0.5555555555555556,
              "#d8576b"
             ],
             [
              0.6666666666666666,
              "#ed7953"
             ],
             [
              0.7777777777777778,
              "#fb9f3a"
             ],
             [
              0.8888888888888888,
              "#fdca26"
             ],
             [
              1,
              "#f0f921"
             ]
            ],
            "type": "contour"
           }
          ],
          "contourcarpet": [
           {
            "colorbar": {
             "outlinewidth": 0,
             "ticks": ""
            },
            "type": "contourcarpet"
           }
          ],
          "heatmap": [
           {
            "colorbar": {
             "outlinewidth": 0,
             "ticks": ""
            },
            "colorscale": [
             [
              0,
              "#0d0887"
             ],
             [
              0.1111111111111111,
              "#46039f"
             ],
             [
              0.2222222222222222,
              "#7201a8"
             ],
             [
              0.3333333333333333,
              "#9c179e"
             ],
             [
              0.4444444444444444,
              "#bd3786"
             ],
             [
              0.5555555555555556,
              "#d8576b"
             ],
             [
              0.6666666666666666,
              "#ed7953"
             ],
             [
              0.7777777777777778,
              "#fb9f3a"
             ],
             [
              0.8888888888888888,
              "#fdca26"
             ],
             [
              1,
              "#f0f921"
             ]
            ],
            "type": "heatmap"
           }
          ],
          "heatmapgl": [
           {
            "colorbar": {
             "outlinewidth": 0,
             "ticks": ""
            },
            "colorscale": [
             [
              0,
              "#0d0887"
             ],
             [
              0.1111111111111111,
              "#46039f"
             ],
             [
              0.2222222222222222,
              "#7201a8"
             ],
             [
              0.3333333333333333,
              "#9c179e"
             ],
             [
              0.4444444444444444,
              "#bd3786"
             ],
             [
              0.5555555555555556,
              "#d8576b"
             ],
             [
              0.6666666666666666,
              "#ed7953"
             ],
             [
              0.7777777777777778,
              "#fb9f3a"
             ],
             [
              0.8888888888888888,
              "#fdca26"
             ],
             [
              1,
              "#f0f921"
             ]
            ],
            "type": "heatmapgl"
           }
          ],
          "histogram": [
           {
            "marker": {
             "colorbar": {
              "outlinewidth": 0,
              "ticks": ""
             }
            },
            "type": "histogram"
           }
          ],
          "histogram2d": [
           {
            "colorbar": {
             "outlinewidth": 0,
             "ticks": ""
            },
            "colorscale": [
             [
              0,
              "#0d0887"
             ],
             [
              0.1111111111111111,
              "#46039f"
             ],
             [
              0.2222222222222222,
              "#7201a8"
             ],
             [
              0.3333333333333333,
              "#9c179e"
             ],
             [
              0.4444444444444444,
              "#bd3786"
             ],
             [
              0.5555555555555556,
              "#d8576b"
             ],
             [
              0.6666666666666666,
              "#ed7953"
             ],
             [
              0.7777777777777778,
              "#fb9f3a"
             ],
             [
              0.8888888888888888,
              "#fdca26"
             ],
             [
              1,
              "#f0f921"
             ]
            ],
            "type": "histogram2d"
           }
          ],
          "histogram2dcontour": [
           {
            "colorbar": {
             "outlinewidth": 0,
             "ticks": ""
            },
            "colorscale": [
             [
              0,
              "#0d0887"
             ],
             [
              0.1111111111111111,
              "#46039f"
             ],
             [
              0.2222222222222222,
              "#7201a8"
             ],
             [
              0.3333333333333333,
              "#9c179e"
             ],
             [
              0.4444444444444444,
              "#bd3786"
             ],
             [
              0.5555555555555556,
              "#d8576b"
             ],
             [
              0.6666666666666666,
              "#ed7953"
             ],
             [
              0.7777777777777778,
              "#fb9f3a"
             ],
             [
              0.8888888888888888,
              "#fdca26"
             ],
             [
              1,
              "#f0f921"
             ]
            ],
            "type": "histogram2dcontour"
           }
          ],
          "mesh3d": [
           {
            "colorbar": {
             "outlinewidth": 0,
             "ticks": ""
            },
            "type": "mesh3d"
           }
          ],
          "parcoords": [
           {
            "line": {
             "colorbar": {
              "outlinewidth": 0,
              "ticks": ""
             }
            },
            "type": "parcoords"
           }
          ],
          "pie": [
           {
            "automargin": true,
            "type": "pie"
           }
          ],
          "scatter": [
           {
            "marker": {
             "colorbar": {
              "outlinewidth": 0,
              "ticks": ""
             }
            },
            "type": "scatter"
           }
          ],
          "scatter3d": [
           {
            "line": {
             "colorbar": {
              "outlinewidth": 0,
              "ticks": ""
             }
            },
            "marker": {
             "colorbar": {
              "outlinewidth": 0,
              "ticks": ""
             }
            },
            "type": "scatter3d"
           }
          ],
          "scattercarpet": [
           {
            "marker": {
             "colorbar": {
              "outlinewidth": 0,
              "ticks": ""
             }
            },
            "type": "scattercarpet"
           }
          ],
          "scattergeo": [
           {
            "marker": {
             "colorbar": {
              "outlinewidth": 0,
              "ticks": ""
             }
            },
            "type": "scattergeo"
           }
          ],
          "scattergl": [
           {
            "marker": {
             "colorbar": {
              "outlinewidth": 0,
              "ticks": ""
             }
            },
            "type": "scattergl"
           }
          ],
          "scattermapbox": [
           {
            "marker": {
             "colorbar": {
              "outlinewidth": 0,
              "ticks": ""
             }
            },
            "type": "scattermapbox"
           }
          ],
          "scatterpolar": [
           {
            "marker": {
             "colorbar": {
              "outlinewidth": 0,
              "ticks": ""
             }
            },
            "type": "scatterpolar"
           }
          ],
          "scatterpolargl": [
           {
            "marker": {
             "colorbar": {
              "outlinewidth": 0,
              "ticks": ""
             }
            },
            "type": "scatterpolargl"
           }
          ],
          "scatterternary": [
           {
            "marker": {
             "colorbar": {
              "outlinewidth": 0,
              "ticks": ""
             }
            },
            "type": "scatterternary"
           }
          ],
          "surface": [
           {
            "colorbar": {
             "outlinewidth": 0,
             "ticks": ""
            },
            "colorscale": [
             [
              0,
              "#0d0887"
             ],
             [
              0.1111111111111111,
              "#46039f"
             ],
             [
              0.2222222222222222,
              "#7201a8"
             ],
             [
              0.3333333333333333,
              "#9c179e"
             ],
             [
              0.4444444444444444,
              "#bd3786"
             ],
             [
              0.5555555555555556,
              "#d8576b"
             ],
             [
              0.6666666666666666,
              "#ed7953"
             ],
             [
              0.7777777777777778,
              "#fb9f3a"
             ],
             [
              0.8888888888888888,
              "#fdca26"
             ],
             [
              1,
              "#f0f921"
             ]
            ],
            "type": "surface"
           }
          ],
          "table": [
           {
            "cells": {
             "fill": {
              "color": "#EBF0F8"
             },
             "line": {
              "color": "white"
             }
            },
            "header": {
             "fill": {
              "color": "#C8D4E3"
             },
             "line": {
              "color": "white"
             }
            },
            "type": "table"
           }
          ]
         },
         "layout": {
          "annotationdefaults": {
           "arrowcolor": "#2a3f5f",
           "arrowhead": 0,
           "arrowwidth": 1
          },
          "coloraxis": {
           "colorbar": {
            "outlinewidth": 0,
            "ticks": ""
           }
          },
          "colorscale": {
           "diverging": [
            [
             0,
             "#8e0152"
            ],
            [
             0.1,
             "#c51b7d"
            ],
            [
             0.2,
             "#de77ae"
            ],
            [
             0.3,
             "#f1b6da"
            ],
            [
             0.4,
             "#fde0ef"
            ],
            [
             0.5,
             "#f7f7f7"
            ],
            [
             0.6,
             "#e6f5d0"
            ],
            [
             0.7,
             "#b8e186"
            ],
            [
             0.8,
             "#7fbc41"
            ],
            [
             0.9,
             "#4d9221"
            ],
            [
             1,
             "#276419"
            ]
           ],
           "sequential": [
            [
             0,
             "#0d0887"
            ],
            [
             0.1111111111111111,
             "#46039f"
            ],
            [
             0.2222222222222222,
             "#7201a8"
            ],
            [
             0.3333333333333333,
             "#9c179e"
            ],
            [
             0.4444444444444444,
             "#bd3786"
            ],
            [
             0.5555555555555556,
             "#d8576b"
            ],
            [
             0.6666666666666666,
             "#ed7953"
            ],
            [
             0.7777777777777778,
             "#fb9f3a"
            ],
            [
             0.8888888888888888,
             "#fdca26"
            ],
            [
             1,
             "#f0f921"
            ]
           ],
           "sequentialminus": [
            [
             0,
             "#0d0887"
            ],
            [
             0.1111111111111111,
             "#46039f"
            ],
            [
             0.2222222222222222,
             "#7201a8"
            ],
            [
             0.3333333333333333,
             "#9c179e"
            ],
            [
             0.4444444444444444,
             "#bd3786"
            ],
            [
             0.5555555555555556,
             "#d8576b"
            ],
            [
             0.6666666666666666,
             "#ed7953"
            ],
            [
             0.7777777777777778,
             "#fb9f3a"
            ],
            [
             0.8888888888888888,
             "#fdca26"
            ],
            [
             1,
             "#f0f921"
            ]
           ]
          },
          "colorway": [
           "#636efa",
           "#EF553B",
           "#00cc96",
           "#ab63fa",
           "#FFA15A",
           "#19d3f3",
           "#FF6692",
           "#B6E880",
           "#FF97FF",
           "#FECB52"
          ],
          "font": {
           "color": "#2a3f5f"
          },
          "geo": {
           "bgcolor": "white",
           "lakecolor": "white",
           "landcolor": "#E5ECF6",
           "showlakes": true,
           "showland": true,
           "subunitcolor": "white"
          },
          "hoverlabel": {
           "align": "left"
          },
          "hovermode": "closest",
          "mapbox": {
           "style": "light"
          },
          "paper_bgcolor": "white",
          "plot_bgcolor": "#E5ECF6",
          "polar": {
           "angularaxis": {
            "gridcolor": "white",
            "linecolor": "white",
            "ticks": ""
           },
           "bgcolor": "#E5ECF6",
           "radialaxis": {
            "gridcolor": "white",
            "linecolor": "white",
            "ticks": ""
           }
          },
          "scene": {
           "xaxis": {
            "backgroundcolor": "#E5ECF6",
            "gridcolor": "white",
            "gridwidth": 2,
            "linecolor": "white",
            "showbackground": true,
            "ticks": "",
            "zerolinecolor": "white"
           },
           "yaxis": {
            "backgroundcolor": "#E5ECF6",
            "gridcolor": "white",
            "gridwidth": 2,
            "linecolor": "white",
            "showbackground": true,
            "ticks": "",
            "zerolinecolor": "white"
           },
           "zaxis": {
            "backgroundcolor": "#E5ECF6",
            "gridcolor": "white",
            "gridwidth": 2,
            "linecolor": "white",
            "showbackground": true,
            "ticks": "",
            "zerolinecolor": "white"
           }
          },
          "shapedefaults": {
           "line": {
            "color": "#2a3f5f"
           }
          },
          "ternary": {
           "aaxis": {
            "gridcolor": "white",
            "linecolor": "white",
            "ticks": ""
           },
           "baxis": {
            "gridcolor": "white",
            "linecolor": "white",
            "ticks": ""
           },
           "bgcolor": "#E5ECF6",
           "caxis": {
            "gridcolor": "white",
            "linecolor": "white",
            "ticks": ""
           }
          },
          "title": {
           "x": 0.05
          },
          "xaxis": {
           "automargin": true,
           "gridcolor": "white",
           "linecolor": "white",
           "ticks": "",
           "title": {
            "standoff": 15
           },
           "zerolinecolor": "white",
           "zerolinewidth": 2
          },
          "yaxis": {
           "automargin": true,
           "gridcolor": "white",
           "linecolor": "white",
           "ticks": "",
           "title": {
            "standoff": 15
           },
           "zerolinecolor": "white",
           "zerolinewidth": 2
          }
         }
        },
        "title": {
         "text": "Average Temperature by Day"
        },
        "xaxis": {
         "anchor": "y",
         "domain": [
          0,
          1
         ],
         "title": {
          "text": "Infection Day"
         }
        },
        "yaxis": {
         "anchor": "x",
         "domain": [
          0,
          1
         ],
         "title": {
          "text": "TempAvg"
         }
        }
       }
      },
      "text/html": [
       "<div>\n",
       "        \n",
       "        \n",
       "            <div id=\"b289edfa-4ea2-463b-b815-3d1d63be1ba7\" class=\"plotly-graph-div\" style=\"height:600px; width:100%;\"></div>\n",
       "            <script type=\"text/javascript\">\n",
       "                require([\"plotly\"], function(Plotly) {\n",
       "                    window.PLOTLYENV=window.PLOTLYENV || {};\n",
       "                    \n",
       "                if (document.getElementById(\"b289edfa-4ea2-463b-b815-3d1d63be1ba7\")) {\n",
       "                    Plotly.newPlot(\n",
       "                        'b289edfa-4ea2-463b-b815-3d1d63be1ba7',\n",
       "                        [{\"hoverlabel\": {\"namelength\": 0}, \"hovertemplate\": \"Province/State=New York<br>Infection Day=%{x}<br>TempAvg=%{y}\", \"legendgroup\": \"Province/State=New York\", \"line\": {\"color\": \"#636efa\", \"dash\": \"solid\"}, \"mode\": \"lines\", \"name\": \"Province/State=New York\", \"showlegend\": true, \"type\": \"scatter\", \"x\": [\"2020-03-02\", \"2020-03-03\", \"2020-03-04\", \"2020-03-05\", \"2020-03-06\", \"2020-03-07\", \"2020-03-08\", \"2020-03-09\", \"2020-03-10\", \"2020-03-11\", \"2020-03-12\", \"2020-03-13\", \"2020-03-14\", \"2020-03-15\", \"2020-03-16\", \"2020-03-17\", \"2020-03-18\", \"2020-03-19\", \"2020-03-20\", \"2020-03-21\", \"2020-03-22\", \"2020-03-23\", \"2020-03-24\", \"2020-03-25\", \"2020-03-26\"], \"xaxis\": \"x\", \"y\": [48.2, 52.4, 50.5, 44.8, 41.6, 41.0, 47.8, 59.3, 61.0, 50.4, 44.7, 54.6, 48.9, 46.8, 39.3, 47.5, 47.6, 46.2, 56.0, 48.5, 38.4, 39.2, 44.0, 42.8, 47.0], \"yaxis\": \"y\"}, {\"hoverlabel\": {\"namelength\": 0}, \"hovertemplate\": \"Province/State=Madrid<br>Infection Day=%{x}<br>TempAvg=%{y}\", \"legendgroup\": \"Province/State=Madrid\", \"line\": {\"color\": \"#EF553B\", \"dash\": \"solid\"}, \"mode\": \"lines\", \"name\": \"Province/State=Madrid\", \"showlegend\": true, \"type\": \"scatter\", \"x\": [\"2020-01-24\", \"2020-01-25\", \"2020-01-26\", \"2020-01-27\", \"2020-01-28\", \"2020-01-29\", \"2020-01-30\", \"2020-01-31\", \"2020-02-01\", \"2020-02-02\", \"2020-02-03\", \"2020-02-04\", \"2020-02-05\", \"2020-02-06\", \"2020-02-07\", \"2020-02-08\", \"2020-02-09\", \"2020-02-10\", \"2020-02-11\", \"2020-02-12\", \"2020-02-13\", \"2020-02-14\", \"2020-02-15\", \"2020-02-16\", \"2020-02-17\", \"2020-02-18\", \"2020-02-19\", \"2020-02-20\", \"2020-02-21\", \"2020-02-22\", \"2020-02-23\", \"2020-02-24\", \"2020-02-25\", \"2020-02-26\", \"2020-02-27\", \"2020-02-28\", \"2020-02-29\", \"2020-03-01\", \"2020-03-02\", \"2020-03-03\", \"2020-03-04\", \"2020-03-05\", \"2020-03-06\", \"2020-03-07\", \"2020-03-08\", \"2020-03-09\", \"2020-03-10\", \"2020-03-11\", \"2020-03-12\", \"2020-03-13\", \"2020-03-14\", \"2020-03-15\", \"2020-03-16\", \"2020-03-17\", \"2020-03-18\", \"2020-03-19\", \"2020-03-20\", \"2020-03-21\", \"2020-03-22\", \"2020-03-23\", \"2020-03-24\", \"2020-03-25\", \"2020-03-26\"], \"xaxis\": \"x\", \"y\": [45.2, 45.4, 43.5, 41.7, 52.1, 53.7, 51.1, 54.2, 56.9, 53.3, 52.0, 50.2, 45.9, 41.2, 44.4, 44.0, 46.7, 48.1, 46.4, 49.5, 52.1, 47.5, 45.7, 48.7, 47.4, 46.3, 45.6, 44.4, 48.0, 48.6, 50.5, 50.5, 49.0, 52.4, 52.9, 51.0, 51.1, 52.6, 51.8, 51.3, 58.3, 55.0, 49.1, 46.9, 47.1, 53.8, 54.4, 58.6, 60.3, 60.4, 59.3, 54.9, 45.1, 50.8, 54.3, 54.9, 52.9, 48.2, 48.5, 50.4, 53.4, 53.0, 48.2], \"yaxis\": \"y\"}, {\"hoverlabel\": {\"namelength\": 0}, \"hovertemplate\": \"Province/State=Quebec<br>Infection Day=%{x}<br>TempAvg=%{y}\", \"legendgroup\": \"Province/State=Quebec\", \"line\": {\"color\": \"#00cc96\", \"dash\": \"solid\"}, \"mode\": \"lines\", \"name\": \"Province/State=Quebec\", \"showlegend\": true, \"type\": \"scatter\", \"x\": [\"2020-03-01\", \"2020-03-02\", \"2020-03-03\", \"2020-03-04\", \"2020-03-05\", \"2020-03-06\", \"2020-03-07\", \"2020-03-08\", \"2020-03-09\", \"2020-03-10\", \"2020-03-11\", \"2020-03-12\", \"2020-03-13\", \"2020-03-14\", \"2020-03-15\", \"2020-03-16\", \"2020-03-17\", \"2020-03-18\", \"2020-03-19\", \"2020-03-20\", \"2020-03-21\", \"2020-03-22\", \"2020-03-23\", \"2020-03-24\", \"2020-03-25\", \"2020-03-26\"], \"xaxis\": \"x\", \"y\": [15.3, 19.2, 31.7, 32.8, 29.0, 25.5, 19.5, 28.7, 22.4, 26.6, 21.6, 19.6, 31.9, 31.1, 20.4, 15.7, 29.4, 25.4, 30.6, 36.1, 21.1, 14.0, 24.5, 32.2, 31.8, 34.1], \"yaxis\": \"y\"}, {\"hoverlabel\": {\"namelength\": 0}, \"hovertemplate\": \"Province/State=Lombardia<br>Infection Day=%{x}<br>TempAvg=%{y}\", \"legendgroup\": \"Province/State=Lombardia\", \"line\": {\"color\": \"#ab63fa\", \"dash\": \"solid\"}, \"mode\": \"lines\", \"name\": \"Province/State=Lombardia\", \"showlegend\": true, \"type\": \"scatter\", \"x\": [\"2020-02-16\", \"2020-02-17\", \"2020-02-18\", \"2020-02-19\", \"2020-02-20\", \"2020-02-21\", \"2020-02-22\", \"2020-02-23\", \"2020-02-24\", \"2020-02-25\", \"2020-02-26\", \"2020-02-27\", \"2020-02-28\", \"2020-02-29\", \"2020-03-01\", \"2020-03-02\", \"2020-03-03\", \"2020-03-04\", \"2020-03-05\", \"2020-03-06\", \"2020-03-07\", \"2020-03-08\", \"2020-03-09\", \"2020-03-10\", \"2020-03-11\", \"2020-03-12\", \"2020-03-13\", \"2020-03-14\", \"2020-03-15\", \"2020-03-16\", \"2020-03-17\", \"2020-03-18\", \"2020-03-19\", \"2020-03-20\", \"2020-03-21\", \"2020-03-22\", \"2020-03-23\", \"2020-03-24\", \"2020-03-25\", \"2020-03-26\"], \"xaxis\": \"x\", \"y\": [46.2, 49.3, 50.0, 46.9, 45.2, 45.9, 46.6, 50.2, 55.4, 52.1, 49.1, 45.8, 49.8, 44.7, 44.2, 40.8, 46.6, 45.5, 43.9, 43.7, 48.1, 47.4, 45.6, 49.5, 53.8, 52.5, 58.9, 51.2, 47.1, 48.1, 49.5, 52.4, 55.4, 54.1, 55.0, 53.3, 43.3, 42.9, 42.4, 40.7], \"yaxis\": \"y\"}, {\"hoverlabel\": {\"namelength\": 0}, \"hovertemplate\": \"Province/State=Vienna<br>Infection Day=%{x}<br>TempAvg=%{y}\", \"legendgroup\": \"Province/State=Vienna\", \"line\": {\"color\": \"#FFA15A\", \"dash\": \"solid\"}, \"mode\": \"lines\", \"name\": \"Province/State=Vienna\", \"showlegend\": true, \"type\": \"scatter\", \"x\": [\"2020-02-17\", \"2020-02-18\", \"2020-02-19\", \"2020-02-20\", \"2020-02-21\", \"2020-02-22\", \"2020-02-23\", \"2020-02-24\", \"2020-02-25\", \"2020-02-26\", \"2020-02-27\", \"2020-02-28\", \"2020-02-29\", \"2020-03-01\", \"2020-03-02\", \"2020-03-03\", \"2020-03-04\", \"2020-03-05\", \"2020-03-06\", \"2020-03-07\", \"2020-03-08\", \"2020-03-09\", \"2020-03-10\", \"2020-03-11\", \"2020-03-12\", \"2020-03-13\", \"2020-03-14\", \"2020-03-15\", \"2020-03-16\", \"2020-03-17\", \"2020-03-18\", \"2020-03-19\", \"2020-03-20\", \"2020-03-21\", \"2020-03-22\", \"2020-03-23\", \"2020-03-24\", \"2020-03-25\", \"2020-03-26\"], \"xaxis\": \"x\", \"y\": [45.0, 48.6, 41.6, 43.0, 40.9, 41.9, 57.5, 46.8, 49.5, 45.0, 41.4, 39.6, 41.0, 42.8, 49.9, 46.0, 43.8, 42.1, 44.7, 44.8, 42.7, 40.8, 49.1, 57.6, 59.3, 49.8, 44.3, 37.9, 44.3, 44.8, 52.3, 52.6, 54.5, 43.1, 33.8, 32.7, 34.9, 32.3, 39.5], \"yaxis\": \"y\"}, {\"hoverlabel\": {\"namelength\": 0}, \"hovertemplate\": \"Province/State=Stockholm<br>Infection Day=%{x}<br>TempAvg=%{y}\", \"legendgroup\": \"Province/State=Stockholm\", \"line\": {\"color\": \"#19d3f3\", \"dash\": \"solid\"}, \"mode\": \"lines\", \"name\": \"Province/State=Stockholm\", \"showlegend\": true, \"type\": \"scatter\", \"x\": [\"2020-01-23\", \"2020-01-24\", \"2020-01-25\", \"2020-01-26\", \"2020-01-27\", \"2020-01-28\", \"2020-01-29\", \"2020-01-30\", \"2020-01-31\", \"2020-02-01\", \"2020-02-02\", \"2020-02-03\", \"2020-02-04\", \"2020-02-05\", \"2020-02-06\", \"2020-02-07\", \"2020-02-08\", \"2020-02-09\", \"2020-02-10\", \"2020-02-11\", \"2020-02-12\", \"2020-02-13\", \"2020-02-14\", \"2020-02-15\", \"2020-02-16\", \"2020-02-17\", \"2020-02-18\", \"2020-02-19\", \"2020-02-20\", \"2020-02-21\", \"2020-02-22\", \"2020-02-23\", \"2020-02-24\", \"2020-02-25\", \"2020-02-26\", \"2020-02-27\", \"2020-02-28\", \"2020-02-29\", \"2020-03-01\", \"2020-03-02\", \"2020-03-03\", \"2020-03-04\", \"2020-03-05\", \"2020-03-06\", \"2020-03-07\", \"2020-03-08\", \"2020-03-09\", \"2020-03-10\", \"2020-03-11\", \"2020-03-12\", \"2020-03-13\", \"2020-03-14\", \"2020-03-15\", \"2020-03-16\", \"2020-03-17\", \"2020-03-18\", \"2020-03-19\", \"2020-03-20\", \"2020-03-21\", \"2020-03-22\", \"2020-03-23\", \"2020-03-24\", \"2020-03-25\", \"2020-03-26\"], \"xaxis\": \"x\", \"y\": [34.0, 41.9, 36.1, 43.3, 40.7, 38.5, 38.0, 34.7, 36.7, 42.4, 39.3, 30.1, 27.3, 32.8, 32.0, 30.1, 36.8, 40.3, 43.0, 38.7, 37.3, 33.4, 29.8, 38.5, 44.5, 43.2, 44.3, 39.3, 34.1, 42.7, 43.2, 41.3, 34.1, 32.5, 32.5, 29.7, 29.9, 34.2, 39.0, 39.7, 38.7, 35.8, 34.7, 33.9, 34.2, 39.3, 44.0, 40.7, 40.7, 38.9, 35.6, 29.8, 38.2, 39.1, 41.2, 43.4, 41.6, 34.5, 31.2, 30.5, 36.0, 39.5, 45.0, 43.2], \"yaxis\": \"y\"}, {\"hoverlabel\": {\"namelength\": 0}, \"hovertemplate\": \"Province/State=Doha<br>Infection Day=%{x}<br>TempAvg=%{y}\", \"legendgroup\": \"Province/State=Doha\", \"line\": {\"color\": \"#FF6692\", \"dash\": \"solid\"}, \"mode\": \"lines\", \"name\": \"Province/State=Doha\", \"showlegend\": true, \"type\": \"scatter\", \"x\": [\"2020-02-21\", \"2020-02-22\", \"2020-02-23\", \"2020-02-24\", \"2020-02-25\", \"2020-02-26\", \"2020-02-27\", \"2020-02-28\", \"2020-02-29\", \"2020-03-01\", \"2020-03-02\", \"2020-03-03\", \"2020-03-04\", \"2020-03-05\", \"2020-03-06\", \"2020-03-07\", \"2020-03-08\", \"2020-03-09\", \"2020-03-10\", \"2020-03-11\", \"2020-03-12\", \"2020-03-13\", \"2020-03-14\", \"2020-03-15\", \"2020-03-16\", \"2020-03-17\", \"2020-03-18\", \"2020-03-19\", \"2020-03-20\", \"2020-03-21\", \"2020-03-22\", \"2020-03-23\", \"2020-03-24\", \"2020-03-25\", \"2020-03-26\"], \"xaxis\": \"x\", \"y\": [69.5, 68.2, 70.8, 74.1, 75.6, 71.8, 67.8, 68.6, 67.9, 69.0, 69.8, 68.8, 68.4, 69.3, 68.6, 69.9, 72.6, 71.5, 68.0, 71.4, 70.2, 70.9, 74.8, 76.6, 76.1, 74.7, 76.6, 78.1, 75.6, 75.5, 75.3, 71.0, 70.9, 71.8, 72.3], \"yaxis\": \"y\"}, {\"hoverlabel\": {\"namelength\": 0}, \"hovertemplate\": \"Province/State=Dubai<br>Infection Day=%{x}<br>TempAvg=%{y}\", \"legendgroup\": \"Province/State=Dubai\", \"line\": {\"color\": \"#B6E880\", \"dash\": \"solid\"}, \"mode\": \"lines\", \"name\": \"Province/State=Dubai\", \"showlegend\": true, \"type\": \"scatter\", \"x\": [\"2020-01-21\", \"2020-01-22\", \"2020-01-23\", \"2020-01-24\", \"2020-01-25\", \"2020-01-26\", \"2020-01-27\", \"2020-01-28\", \"2020-01-29\", \"2020-01-30\", \"2020-01-31\", \"2020-02-01\", \"2020-02-02\", \"2020-02-03\", \"2020-02-04\", \"2020-02-05\", \"2020-02-06\", \"2020-02-07\", \"2020-02-08\", \"2020-02-09\", \"2020-02-10\", \"2020-02-11\", \"2020-02-12\", \"2020-02-13\", \"2020-02-14\", \"2020-02-15\", \"2020-02-16\", \"2020-02-17\", \"2020-02-18\", \"2020-02-19\", \"2020-02-20\", \"2020-02-21\", \"2020-02-22\", \"2020-02-23\", \"2020-02-24\", \"2020-02-25\", \"2020-02-26\", \"2020-02-27\", \"2020-02-28\", \"2020-02-29\", \"2020-03-01\", \"2020-03-02\", \"2020-03-03\", \"2020-03-04\", \"2020-03-05\", \"2020-03-06\", \"2020-03-07\", \"2020-03-08\", \"2020-03-09\", \"2020-03-10\", \"2020-03-11\", \"2020-03-12\", \"2020-03-13\", \"2020-03-14\", \"2020-03-15\", \"2020-03-16\", \"2020-03-17\", \"2020-03-18\", \"2020-03-19\", \"2020-03-20\", \"2020-03-21\", \"2020-03-22\", \"2020-03-23\", \"2020-03-24\", \"2020-03-25\", \"2020-03-26\"], \"xaxis\": \"x\", \"y\": [68.7, 69.8, 73.2, 69.0, 67.4, 65.2, 65.2, 65.0, 67.3, 67.3, 65.3, 67.0, 67.7, 66.9, 67.5, 65.9, 68.0, 69.3, 72.4, 75.0, 74.8, 71.8, 65.1, 64.4, 65.7, 66.4, 71.9, 75.3, 73.9, 75.6, 77.4, 75.3, 76.7, 77.8, 80.0, 81.7, 79.2, 71.1, 70.5, 72.5, 72.5, 75.3, 71.7, 70.6, 71.6, 73.4, 75.4, 76.3, 73.0, 74.8, 72.8, 71.9, 74.6, 79.4, 81.0, 77.7, 77.8, 80.5, 83.3, 83.2, 75.7, 76.0, 72.5, 70.6, 70.7, 73.9], \"yaxis\": \"y\"}, {\"hoverlabel\": {\"namelength\": 0}, \"hovertemplate\": \"Province/State=Dakar<br>Infection Day=%{x}<br>TempAvg=%{y}\", \"legendgroup\": \"Province/State=Dakar\", \"line\": {\"color\": \"#FF97FF\", \"dash\": \"solid\"}, \"mode\": \"lines\", \"name\": \"Province/State=Dakar\", \"showlegend\": true, \"type\": \"scatter\", \"x\": [\"2020-02-23\", \"2020-02-24\", \"2020-02-25\", \"2020-02-26\", \"2020-02-27\", \"2020-02-28\", \"2020-02-29\", \"2020-03-01\", \"2020-03-02\", \"2020-03-03\", \"2020-03-04\", \"2020-03-05\", \"2020-03-06\", \"2020-03-07\", \"2020-03-08\", \"2020-03-09\", \"2020-03-10\", \"2020-03-11\", \"2020-03-12\", \"2020-03-13\", \"2020-03-14\", \"2020-03-15\", \"2020-03-16\", \"2020-03-17\", \"2020-03-18\", \"2020-03-19\", \"2020-03-20\", \"2020-03-21\", \"2020-03-22\", \"2020-03-23\", \"2020-03-24\", \"2020-03-25\", \"2020-03-26\"], \"xaxis\": \"x\", \"y\": [72.2, 74.2, 86.9, 80.7, 78.0, 75.4, 73.9, 74.3, 76.1, 80.2, 75.3, 74.7, 74.9, 75.8, 75.5, 75.5, 77.8, 76.1, 77.2, 76.4, 75.0, 74.2, 74.2, 72.3, 73.1, 72.6, 73.1, 74.1, 72.3, 70.8, 68.5, 68.3, 69.9], \"yaxis\": \"y\"}],\n",
       "                        {\"height\": 600, \"legend\": {\"tracegroupgap\": 0}, \"template\": {\"data\": {\"bar\": [{\"error_x\": {\"color\": \"#2a3f5f\"}, \"error_y\": {\"color\": \"#2a3f5f\"}, \"marker\": {\"line\": {\"color\": \"#E5ECF6\", \"width\": 0.5}}, \"type\": \"bar\"}], \"barpolar\": [{\"marker\": {\"line\": {\"color\": \"#E5ECF6\", \"width\": 0.5}}, \"type\": \"barpolar\"}], \"carpet\": [{\"aaxis\": {\"endlinecolor\": \"#2a3f5f\", \"gridcolor\": \"white\", \"linecolor\": \"white\", \"minorgridcolor\": \"white\", \"startlinecolor\": \"#2a3f5f\"}, \"baxis\": {\"endlinecolor\": \"#2a3f5f\", \"gridcolor\": \"white\", \"linecolor\": \"white\", \"minorgridcolor\": \"white\", \"startlinecolor\": \"#2a3f5f\"}, \"type\": \"carpet\"}], \"choropleth\": [{\"colorbar\": {\"outlinewidth\": 0, \"ticks\": \"\"}, \"type\": \"choropleth\"}], \"contour\": [{\"colorbar\": {\"outlinewidth\": 0, \"ticks\": \"\"}, \"colorscale\": [[0.0, \"#0d0887\"], [0.1111111111111111, \"#46039f\"], [0.2222222222222222, \"#7201a8\"], [0.3333333333333333, \"#9c179e\"], [0.4444444444444444, \"#bd3786\"], [0.5555555555555556, \"#d8576b\"], [0.6666666666666666, \"#ed7953\"], [0.7777777777777778, \"#fb9f3a\"], [0.8888888888888888, \"#fdca26\"], [1.0, \"#f0f921\"]], \"type\": \"contour\"}], \"contourcarpet\": [{\"colorbar\": {\"outlinewidth\": 0, \"ticks\": \"\"}, \"type\": \"contourcarpet\"}], \"heatmap\": [{\"colorbar\": {\"outlinewidth\": 0, \"ticks\": \"\"}, \"colorscale\": [[0.0, \"#0d0887\"], [0.1111111111111111, \"#46039f\"], [0.2222222222222222, \"#7201a8\"], [0.3333333333333333, \"#9c179e\"], [0.4444444444444444, \"#bd3786\"], [0.5555555555555556, \"#d8576b\"], [0.6666666666666666, \"#ed7953\"], [0.7777777777777778, \"#fb9f3a\"], [0.8888888888888888, \"#fdca26\"], [1.0, \"#f0f921\"]], \"type\": \"heatmap\"}], \"heatmapgl\": [{\"colorbar\": {\"outlinewidth\": 0, \"ticks\": \"\"}, \"colorscale\": [[0.0, \"#0d0887\"], [0.1111111111111111, \"#46039f\"], [0.2222222222222222, \"#7201a8\"], [0.3333333333333333, \"#9c179e\"], [0.4444444444444444, \"#bd3786\"], [0.5555555555555556, \"#d8576b\"], [0.6666666666666666, \"#ed7953\"], [0.7777777777777778, \"#fb9f3a\"], [0.8888888888888888, \"#fdca26\"], [1.0, \"#f0f921\"]], \"type\": \"heatmapgl\"}], \"histogram\": [{\"marker\": {\"colorbar\": {\"outlinewidth\": 0, \"ticks\": \"\"}}, \"type\": \"histogram\"}], \"histogram2d\": [{\"colorbar\": {\"outlinewidth\": 0, \"ticks\": \"\"}, \"colorscale\": [[0.0, \"#0d0887\"], [0.1111111111111111, \"#46039f\"], [0.2222222222222222, \"#7201a8\"], [0.3333333333333333, \"#9c179e\"], [0.4444444444444444, \"#bd3786\"], [0.5555555555555556, \"#d8576b\"], [0.6666666666666666, \"#ed7953\"], [0.7777777777777778, \"#fb9f3a\"], [0.8888888888888888, \"#fdca26\"], [1.0, \"#f0f921\"]], \"type\": \"histogram2d\"}], \"histogram2dcontour\": [{\"colorbar\": {\"outlinewidth\": 0, \"ticks\": \"\"}, \"colorscale\": [[0.0, \"#0d0887\"], [0.1111111111111111, \"#46039f\"], [0.2222222222222222, \"#7201a8\"], [0.3333333333333333, \"#9c179e\"], [0.4444444444444444, \"#bd3786\"], [0.5555555555555556, \"#d8576b\"], [0.6666666666666666, \"#ed7953\"], [0.7777777777777778, \"#fb9f3a\"], [0.8888888888888888, \"#fdca26\"], [1.0, \"#f0f921\"]], \"type\": \"histogram2dcontour\"}], \"mesh3d\": [{\"colorbar\": {\"outlinewidth\": 0, \"ticks\": \"\"}, \"type\": \"mesh3d\"}], \"parcoords\": [{\"line\": {\"colorbar\": {\"outlinewidth\": 0, \"ticks\": \"\"}}, \"type\": \"parcoords\"}], \"pie\": [{\"automargin\": true, \"type\": \"pie\"}], \"scatter\": [{\"marker\": {\"colorbar\": {\"outlinewidth\": 0, \"ticks\": \"\"}}, \"type\": \"scatter\"}], \"scatter3d\": [{\"line\": {\"colorbar\": {\"outlinewidth\": 0, \"ticks\": \"\"}}, \"marker\": {\"colorbar\": {\"outlinewidth\": 0, \"ticks\": \"\"}}, \"type\": \"scatter3d\"}], \"scattercarpet\": [{\"marker\": {\"colorbar\": {\"outlinewidth\": 0, \"ticks\": \"\"}}, \"type\": \"scattercarpet\"}], \"scattergeo\": [{\"marker\": {\"colorbar\": {\"outlinewidth\": 0, \"ticks\": \"\"}}, \"type\": \"scattergeo\"}], \"scattergl\": [{\"marker\": {\"colorbar\": {\"outlinewidth\": 0, \"ticks\": \"\"}}, \"type\": \"scattergl\"}], \"scattermapbox\": [{\"marker\": {\"colorbar\": {\"outlinewidth\": 0, \"ticks\": \"\"}}, \"type\": \"scattermapbox\"}], \"scatterpolar\": [{\"marker\": {\"colorbar\": {\"outlinewidth\": 0, \"ticks\": \"\"}}, \"type\": \"scatterpolar\"}], \"scatterpolargl\": [{\"marker\": {\"colorbar\": {\"outlinewidth\": 0, \"ticks\": \"\"}}, \"type\": \"scatterpolargl\"}], \"scatterternary\": [{\"marker\": {\"colorbar\": {\"outlinewidth\": 0, \"ticks\": \"\"}}, \"type\": \"scatterternary\"}], \"surface\": [{\"colorbar\": {\"outlinewidth\": 0, \"ticks\": \"\"}, \"colorscale\": [[0.0, \"#0d0887\"], [0.1111111111111111, \"#46039f\"], [0.2222222222222222, \"#7201a8\"], [0.3333333333333333, \"#9c179e\"], [0.4444444444444444, \"#bd3786\"], [0.5555555555555556, \"#d8576b\"], [0.6666666666666666, \"#ed7953\"], [0.7777777777777778, \"#fb9f3a\"], [0.8888888888888888, \"#fdca26\"], [1.0, \"#f0f921\"]], \"type\": \"surface\"}], \"table\": [{\"cells\": {\"fill\": {\"color\": \"#EBF0F8\"}, \"line\": {\"color\": \"white\"}}, \"header\": {\"fill\": {\"color\": \"#C8D4E3\"}, \"line\": {\"color\": \"white\"}}, \"type\": \"table\"}]}, \"layout\": {\"annotationdefaults\": {\"arrowcolor\": \"#2a3f5f\", \"arrowhead\": 0, \"arrowwidth\": 1}, \"coloraxis\": {\"colorbar\": {\"outlinewidth\": 0, \"ticks\": \"\"}}, \"colorscale\": {\"diverging\": [[0, \"#8e0152\"], [0.1, \"#c51b7d\"], [0.2, \"#de77ae\"], [0.3, \"#f1b6da\"], [0.4, \"#fde0ef\"], [0.5, \"#f7f7f7\"], [0.6, \"#e6f5d0\"], [0.7, \"#b8e186\"], [0.8, \"#7fbc41\"], [0.9, \"#4d9221\"], [1, \"#276419\"]], \"sequential\": [[0.0, \"#0d0887\"], [0.1111111111111111, \"#46039f\"], [0.2222222222222222, \"#7201a8\"], [0.3333333333333333, \"#9c179e\"], [0.4444444444444444, \"#bd3786\"], [0.5555555555555556, \"#d8576b\"], [0.6666666666666666, \"#ed7953\"], [0.7777777777777778, \"#fb9f3a\"], [0.8888888888888888, \"#fdca26\"], [1.0, \"#f0f921\"]], \"sequentialminus\": [[0.0, \"#0d0887\"], [0.1111111111111111, \"#46039f\"], [0.2222222222222222, \"#7201a8\"], [0.3333333333333333, \"#9c179e\"], [0.4444444444444444, \"#bd3786\"], [0.5555555555555556, \"#d8576b\"], [0.6666666666666666, \"#ed7953\"], [0.7777777777777778, \"#fb9f3a\"], [0.8888888888888888, \"#fdca26\"], [1.0, \"#f0f921\"]]}, \"colorway\": [\"#636efa\", \"#EF553B\", \"#00cc96\", \"#ab63fa\", \"#FFA15A\", \"#19d3f3\", \"#FF6692\", \"#B6E880\", \"#FF97FF\", \"#FECB52\"], \"font\": {\"color\": \"#2a3f5f\"}, \"geo\": {\"bgcolor\": \"white\", \"lakecolor\": \"white\", \"landcolor\": \"#E5ECF6\", \"showlakes\": true, \"showland\": true, \"subunitcolor\": \"white\"}, \"hoverlabel\": {\"align\": \"left\"}, \"hovermode\": \"closest\", \"mapbox\": {\"style\": \"light\"}, \"paper_bgcolor\": \"white\", \"plot_bgcolor\": \"#E5ECF6\", \"polar\": {\"angularaxis\": {\"gridcolor\": \"white\", \"linecolor\": \"white\", \"ticks\": \"\"}, \"bgcolor\": \"#E5ECF6\", \"radialaxis\": {\"gridcolor\": \"white\", \"linecolor\": \"white\", \"ticks\": \"\"}}, \"scene\": {\"xaxis\": {\"backgroundcolor\": \"#E5ECF6\", \"gridcolor\": \"white\", \"gridwidth\": 2, \"linecolor\": \"white\", \"showbackground\": true, \"ticks\": \"\", \"zerolinecolor\": \"white\"}, \"yaxis\": {\"backgroundcolor\": \"#E5ECF6\", \"gridcolor\": \"white\", \"gridwidth\": 2, \"linecolor\": \"white\", \"showbackground\": true, \"ticks\": \"\", \"zerolinecolor\": \"white\"}, \"zaxis\": {\"backgroundcolor\": \"#E5ECF6\", \"gridcolor\": \"white\", \"gridwidth\": 2, \"linecolor\": \"white\", \"showbackground\": true, \"ticks\": \"\", \"zerolinecolor\": \"white\"}}, \"shapedefaults\": {\"line\": {\"color\": \"#2a3f5f\"}}, \"ternary\": {\"aaxis\": {\"gridcolor\": \"white\", \"linecolor\": \"white\", \"ticks\": \"\"}, \"baxis\": {\"gridcolor\": \"white\", \"linecolor\": \"white\", \"ticks\": \"\"}, \"bgcolor\": \"#E5ECF6\", \"caxis\": {\"gridcolor\": \"white\", \"linecolor\": \"white\", \"ticks\": \"\"}}, \"title\": {\"x\": 0.05}, \"xaxis\": {\"automargin\": true, \"gridcolor\": \"white\", \"linecolor\": \"white\", \"ticks\": \"\", \"title\": {\"standoff\": 15}, \"zerolinecolor\": \"white\", \"zerolinewidth\": 2}, \"yaxis\": {\"automargin\": true, \"gridcolor\": \"white\", \"linecolor\": \"white\", \"ticks\": \"\", \"title\": {\"standoff\": 15}, \"zerolinecolor\": \"white\", \"zerolinewidth\": 2}}}, \"title\": {\"text\": \"Average Temperature by Day\"}, \"xaxis\": {\"anchor\": \"y\", \"domain\": [0.0, 1.0], \"title\": {\"text\": \"Infection Day\"}}, \"yaxis\": {\"anchor\": \"x\", \"domain\": [0.0, 1.0], \"title\": {\"text\": \"TempAvg\"}}},\n",
       "                        {\"responsive\": true}\n",
       "                    ).then(function(){\n",
       "                            \n",
       "var gd = document.getElementById('b289edfa-4ea2-463b-b815-3d1d63be1ba7');\n",
       "var x = new MutationObserver(function (mutations, observer) {{\n",
       "        var display = window.getComputedStyle(gd).display;\n",
       "        if (!display || display === 'none') {{\n",
       "            console.log([gd, 'removed!']);\n",
       "            Plotly.purge(gd);\n",
       "            observer.disconnect();\n",
       "        }}\n",
       "}});\n",
       "\n",
       "// Listen for the removal of the full notebook cells\n",
       "var notebookContainer = gd.closest('#notebook-container');\n",
       "if (notebookContainer) {{\n",
       "    x.observe(notebookContainer, {childList: true});\n",
       "}}\n",
       "\n",
       "// Listen for the clearing of the current output cell\n",
       "var outputEl = gd.closest('.output');\n",
       "if (outputEl) {{\n",
       "    x.observe(outputEl, {childList: true});\n",
       "}}\n",
       "\n",
       "                        })\n",
       "                };\n",
       "                });\n",
       "            </script>\n",
       "        </div>"
      ]
     },
     "metadata": {},
     "output_type": "display_data"
    }
   ],
   "source": [
    "# PLot the Temperature Avg by day\n",
    "px.line(covid_weather, x='Infection Day', y='TempAvg', color='Province/State',\n",
    "       title='Average Temperature by Day')"
   ]
  },
  {
   "cell_type": "markdown",
   "metadata": {},
   "source": [
    "Now it's time to begin to explore the relationship between the temperature and the number of new cases. Fig. _New Infections vs Temperature_ shows that the greatest number of infections occurs in cities with a mean temperature between $40$ and $60^o F$. This is the case of New York, Madrid, and Lombardia with a median temperature of $47.5^o F$, $50.5^o F$ and $47.75^o F$ respectively.     \n",
    "Note that for temperatures over $65^o F$ the numbers of infections seems to be very low in comparison with the other regions with lowest temperatures. Also, as we advertise previously, Quebec is the province with the lowest temperature, and also seems to has a low number of new infections in comparison with the regions with temperatures between $40$ and $60^o F$, but more than those regions with high temperatures.\n",
    "> Even when this is not concluded, we can hypothesize that if the temperature has an impact on the spread of the Coronavirus, then:\n",
    "1. The spread is reduced significatively when the temperature is over $\\approx 65^o F$.\n",
    "2. It's more probable to have more infections when the temperature varies between $40$ and $60^o F$ approximately.\n",
    "3. For temperatures under the $\\approx 35^o F$, the spread seems to be less than when the temperature is between $40$ and $60^o F$ but greater than for regions with temperatures over $65^o F$. In resume, the cold seems to be a factor that impacts the spread of the virus but less than hight temperatures."
   ]
  },
  {
   "cell_type": "code",
   "execution_count": 349,
   "metadata": {},
   "outputs": [
    {
     "data": {
      "application/vnd.plotly.v1+json": {
       "config": {
        "plotlyServerURL": "https://plot.ly"
       },
       "data": [
        {
         "hoverlabel": {
          "namelength": 0
         },
         "hovertemplate": "Province/State=New York<br>TempAvg=%{x}<br>Confirmed=%{y}",
         "legendgroup": "Province/State=New York",
         "marker": {
          "color": "#636efa",
          "symbol": "circle"
         },
         "mode": "markers",
         "name": "Province/State=New York",
         "showlegend": true,
         "type": "scatter",
         "x": [
          48.2,
          52.4,
          50.5,
          44.8,
          41.6,
          41,
          47.8,
          59.3,
          61,
          50.4,
          44.7,
          54.6,
          48.9,
          46.8,
          39.3,
          47.5,
          47.6,
          46.2,
          56,
          48.5,
          38.4,
          39.2,
          44,
          42.8,
          47
         ],
         "xaxis": "x",
         "y": [
          173,
          47,
          108,
          93,
          104,
          207,
          235,
          739,
          789,
          2870,
          2945,
          3400,
          4090,
          5084,
          4797,
          5160,
          7036,
          6999,
          7534,
          7238,
          7015,
          9170,
          8115,
          8558,
          10481
         ],
         "yaxis": "y"
        },
        {
         "alignmentgroup": "True",
         "hoverlabel": {
          "namelength": 0
         },
         "hovertemplate": "Province/State=New York<br>TempAvg=%{x}",
         "legendgroup": "Province/State=New York",
         "marker": {
          "color": "#636efa",
          "symbol": "circle"
         },
         "name": "Province/State=New York",
         "notched": true,
         "offsetgroup": "Province/State=New York",
         "showlegend": false,
         "type": "box",
         "x": [
          48.2,
          52.4,
          50.5,
          44.8,
          41.6,
          41,
          47.8,
          59.3,
          61,
          50.4,
          44.7,
          54.6,
          48.9,
          46.8,
          39.3,
          47.5,
          47.6,
          46.2,
          56,
          48.5,
          38.4,
          39.2,
          44,
          42.8,
          47
         ],
         "xaxis": "x2",
         "yaxis": "y2"
        },
        {
         "hoverlabel": {
          "namelength": 0
         },
         "hovertemplate": "Province/State=New York",
         "legendgroup": "Province/State=New York",
         "marker": {
          "color": "#636efa",
          "symbol": "circle"
         },
         "mode": "lines",
         "name": "Province/State=New York",
         "showlegend": false,
         "type": "scatter",
         "xaxis": "x",
         "yaxis": "y"
        },
        {
         "hoverlabel": {
          "namelength": 0
         },
         "hovertemplate": "Province/State=Madrid<br>TempAvg=%{x}<br>Confirmed=%{y}",
         "legendgroup": "Province/State=Madrid",
         "marker": {
          "color": "#EF553B",
          "symbol": "circle"
         },
         "mode": "markers",
         "name": "Province/State=Madrid",
         "showlegend": true,
         "type": "scatter",
         "x": [
          45.2,
          45.4,
          43.5,
          41.7,
          52.1,
          53.7,
          51.1,
          54.2,
          56.9,
          53.3,
          52,
          50.2,
          45.9,
          41.2,
          44.4,
          44,
          46.7,
          48.1,
          46.4,
          49.5,
          52.1,
          47.5,
          45.7,
          48.7,
          47.4,
          46.3,
          45.6,
          44.4,
          48,
          48.6,
          50.5,
          50.5,
          49,
          52.4,
          52.9,
          51,
          51.1,
          52.6,
          51.8,
          51.3,
          58.3,
          55,
          49.1,
          46.9,
          47.1,
          53.8,
          54.4,
          58.6,
          60.3,
          60.4,
          59.3,
          54.9,
          45.1,
          50.8,
          54.3,
          54.9,
          52.9,
          48.2,
          48.5,
          50.4,
          53.4,
          53,
          48.2
         ],
         "xaxis": "x",
         "y": [
          1,
          0,
          0,
          0,
          0,
          0,
          0,
          0,
          1,
          0,
          0,
          0,
          0,
          0,
          0,
          0,
          0,
          0,
          0,
          0,
          0,
          0,
          0,
          0,
          4,
          7,
          2,
          17,
          13,
          39,
          36,
          45,
          57,
          37,
          141,
          100,
          173,
          400,
          622,
          582,
          0,
          2955,
          1159,
          1407,
          2144,
          1806,
          2162,
          4053,
          2447,
          4964,
          3229,
          6533,
          4749,
          9630,
          8271,
          7933,
          7516,
          6875,
          7846,
          7967,
          8195,
          7947,
          7134
         ],
         "yaxis": "y"
        },
        {
         "alignmentgroup": "True",
         "hoverlabel": {
          "namelength": 0
         },
         "hovertemplate": "Province/State=Madrid<br>TempAvg=%{x}",
         "legendgroup": "Province/State=Madrid",
         "marker": {
          "color": "#EF553B",
          "symbol": "circle"
         },
         "name": "Province/State=Madrid",
         "notched": true,
         "offsetgroup": "Province/State=Madrid",
         "showlegend": false,
         "type": "box",
         "x": [
          45.2,
          45.4,
          43.5,
          41.7,
          52.1,
          53.7,
          51.1,
          54.2,
          56.9,
          53.3,
          52,
          50.2,
          45.9,
          41.2,
          44.4,
          44,
          46.7,
          48.1,
          46.4,
          49.5,
          52.1,
          47.5,
          45.7,
          48.7,
          47.4,
          46.3,
          45.6,
          44.4,
          48,
          48.6,
          50.5,
          50.5,
          49,
          52.4,
          52.9,
          51,
          51.1,
          52.6,
          51.8,
          51.3,
          58.3,
          55,
          49.1,
          46.9,
          47.1,
          53.8,
          54.4,
          58.6,
          60.3,
          60.4,
          59.3,
          54.9,
          45.1,
          50.8,
          54.3,
          54.9,
          52.9,
          48.2,
          48.5,
          50.4,
          53.4,
          53,
          48.2
         ],
         "xaxis": "x2",
         "yaxis": "y2"
        },
        {
         "hoverlabel": {
          "namelength": 0
         },
         "hovertemplate": "Province/State=Madrid",
         "legendgroup": "Province/State=Madrid",
         "marker": {
          "color": "#EF553B",
          "symbol": "circle"
         },
         "mode": "lines",
         "name": "Province/State=Madrid",
         "showlegend": false,
         "type": "scatter",
         "xaxis": "x",
         "yaxis": "y"
        },
        {
         "hoverlabel": {
          "namelength": 0
         },
         "hovertemplate": "Province/State=Quebec<br>TempAvg=%{x}<br>Confirmed=%{y}",
         "legendgroup": "Province/State=Quebec",
         "marker": {
          "color": "#00cc96",
          "symbol": "circle"
         },
         "mode": "markers",
         "name": "Province/State=Quebec",
         "showlegend": true,
         "type": "scatter",
         "x": [
          15.3,
          19.2,
          31.7,
          32.8,
          29,
          25.5,
          19.5,
          28.7,
          22.4,
          26.6,
          21.6,
          19.6,
          31.9,
          31.1,
          20.4,
          15.7,
          29.4,
          25.4,
          30.6,
          36.1,
          21.1,
          14,
          24.5,
          32.2,
          31.8,
          34.1
         ],
         "xaxis": "x",
         "y": [
          3,
          1,
          4,
          1,
          8,
          0,
          7,
          26,
          24,
          20,
          27,
          18,
          42,
          38,
          409,
          385,
          329,
          290,
          392,
          474,
          342,
          590,
          732,
          449,
          907,
          583
         ],
         "yaxis": "y"
        },
        {
         "alignmentgroup": "True",
         "hoverlabel": {
          "namelength": 0
         },
         "hovertemplate": "Province/State=Quebec<br>TempAvg=%{x}",
         "legendgroup": "Province/State=Quebec",
         "marker": {
          "color": "#00cc96",
          "symbol": "circle"
         },
         "name": "Province/State=Quebec",
         "notched": true,
         "offsetgroup": "Province/State=Quebec",
         "showlegend": false,
         "type": "box",
         "x": [
          15.3,
          19.2,
          31.7,
          32.8,
          29,
          25.5,
          19.5,
          28.7,
          22.4,
          26.6,
          21.6,
          19.6,
          31.9,
          31.1,
          20.4,
          15.7,
          29.4,
          25.4,
          30.6,
          36.1,
          21.1,
          14,
          24.5,
          32.2,
          31.8,
          34.1
         ],
         "xaxis": "x2",
         "yaxis": "y2"
        },
        {
         "hoverlabel": {
          "namelength": 0
         },
         "hovertemplate": "Province/State=Quebec",
         "legendgroup": "Province/State=Quebec",
         "marker": {
          "color": "#00cc96",
          "symbol": "circle"
         },
         "mode": "lines",
         "name": "Province/State=Quebec",
         "showlegend": false,
         "type": "scatter",
         "xaxis": "x",
         "yaxis": "y"
        },
        {
         "hoverlabel": {
          "namelength": 0
         },
         "hovertemplate": "Province/State=Lombardia<br>TempAvg=%{x}<br>Confirmed=%{y}",
         "legendgroup": "Province/State=Lombardia",
         "marker": {
          "color": "#ab63fa",
          "symbol": "circle"
         },
         "mode": "markers",
         "name": "Province/State=Lombardia",
         "showlegend": true,
         "type": "scatter",
         "x": [
          46.2,
          49.3,
          50,
          46.9,
          45.2,
          45.9,
          46.6,
          50.2,
          55.4,
          52.1,
          49.1,
          45.8,
          49.8,
          44.7,
          44.2,
          40.8,
          46.6,
          45.5,
          43.9,
          43.7,
          48.1,
          47.4,
          45.6,
          49.5,
          53.8,
          52.5,
          58.9,
          51.2,
          47.1,
          48.1,
          49.5,
          52.4,
          55.4,
          54.1,
          55,
          53.3,
          43.3,
          42.9,
          42.4,
          40.7
         ],
         "xaxis": "x",
         "y": [
          172,
          68,
          18,
          145,
          128,
          84,
          369,
          270,
          266,
          300,
          431,
          361,
          808,
          769,
          1280,
          322,
          1489,
          1445,
          1095,
          1865,
          1587,
          1377,
          1571,
          1493,
          2171,
          2380,
          3251,
          1691,
          1555,
          1942,
          1643,
          2543,
          2409,
          2117,
          1592,
          1154,
          1047,
          1565,
          1292,
          1455
         ],
         "yaxis": "y"
        },
        {
         "alignmentgroup": "True",
         "hoverlabel": {
          "namelength": 0
         },
         "hovertemplate": "Province/State=Lombardia<br>TempAvg=%{x}",
         "legendgroup": "Province/State=Lombardia",
         "marker": {
          "color": "#ab63fa",
          "symbol": "circle"
         },
         "name": "Province/State=Lombardia",
         "notched": true,
         "offsetgroup": "Province/State=Lombardia",
         "showlegend": false,
         "type": "box",
         "x": [
          46.2,
          49.3,
          50,
          46.9,
          45.2,
          45.9,
          46.6,
          50.2,
          55.4,
          52.1,
          49.1,
          45.8,
          49.8,
          44.7,
          44.2,
          40.8,
          46.6,
          45.5,
          43.9,
          43.7,
          48.1,
          47.4,
          45.6,
          49.5,
          53.8,
          52.5,
          58.9,
          51.2,
          47.1,
          48.1,
          49.5,
          52.4,
          55.4,
          54.1,
          55,
          53.3,
          43.3,
          42.9,
          42.4,
          40.7
         ],
         "xaxis": "x2",
         "yaxis": "y2"
        },
        {
         "hoverlabel": {
          "namelength": 0
         },
         "hovertemplate": "Province/State=Lombardia",
         "legendgroup": "Province/State=Lombardia",
         "marker": {
          "color": "#ab63fa",
          "symbol": "circle"
         },
         "mode": "lines",
         "name": "Province/State=Lombardia",
         "showlegend": false,
         "type": "scatter",
         "xaxis": "x",
         "yaxis": "y"
        },
        {
         "hoverlabel": {
          "namelength": 0
         },
         "hovertemplate": "Province/State=Vienna<br>TempAvg=%{x}<br>Confirmed=%{y}",
         "legendgroup": "Province/State=Vienna",
         "marker": {
          "color": "#FFA15A",
          "symbol": "circle"
         },
         "mode": "markers",
         "name": "Province/State=Vienna",
         "showlegend": true,
         "type": "scatter",
         "x": [
          45,
          48.6,
          41.6,
          43,
          40.9,
          41.9,
          57.5,
          46.8,
          49.5,
          45,
          41.4,
          39.6,
          41,
          42.8,
          49.9,
          46,
          43.8,
          42.1,
          44.7,
          44.8,
          42.7,
          40.8,
          49.1,
          57.6,
          59.3,
          49.8,
          44.3,
          37.9,
          44.3,
          44.8,
          52.3,
          52.6,
          54.5,
          43.1,
          33.8,
          32.7,
          34.9,
          32.3,
          39.5
         ],
         "xaxis": "x",
         "y": [
          2,
          0,
          1,
          0,
          6,
          5,
          4,
          3,
          8,
          12,
          14,
          24,
          25,
          27,
          51,
          64,
          56,
          202,
          151,
          205,
          158,
          314,
          314,
          367,
          375,
          426,
          766,
          894,
          809,
          305,
          1321,
          748,
          614,
          517,
          830,
          562,
          531,
          418,
          395
         ],
         "yaxis": "y"
        },
        {
         "alignmentgroup": "True",
         "hoverlabel": {
          "namelength": 0
         },
         "hovertemplate": "Province/State=Vienna<br>TempAvg=%{x}",
         "legendgroup": "Province/State=Vienna",
         "marker": {
          "color": "#FFA15A",
          "symbol": "circle"
         },
         "name": "Province/State=Vienna",
         "notched": true,
         "offsetgroup": "Province/State=Vienna",
         "showlegend": false,
         "type": "box",
         "x": [
          45,
          48.6,
          41.6,
          43,
          40.9,
          41.9,
          57.5,
          46.8,
          49.5,
          45,
          41.4,
          39.6,
          41,
          42.8,
          49.9,
          46,
          43.8,
          42.1,
          44.7,
          44.8,
          42.7,
          40.8,
          49.1,
          57.6,
          59.3,
          49.8,
          44.3,
          37.9,
          44.3,
          44.8,
          52.3,
          52.6,
          54.5,
          43.1,
          33.8,
          32.7,
          34.9,
          32.3,
          39.5
         ],
         "xaxis": "x2",
         "yaxis": "y2"
        },
        {
         "hoverlabel": {
          "namelength": 0
         },
         "hovertemplate": "Province/State=Vienna",
         "legendgroup": "Province/State=Vienna",
         "marker": {
          "color": "#FFA15A",
          "symbol": "circle"
         },
         "mode": "lines",
         "name": "Province/State=Vienna",
         "showlegend": false,
         "type": "scatter",
         "xaxis": "x",
         "yaxis": "y"
        },
        {
         "hoverlabel": {
          "namelength": 0
         },
         "hovertemplate": "Province/State=Stockholm<br>TempAvg=%{x}<br>Confirmed=%{y}",
         "legendgroup": "Province/State=Stockholm",
         "marker": {
          "color": "#19d3f3",
          "symbol": "circle"
         },
         "mode": "markers",
         "name": "Province/State=Stockholm",
         "showlegend": true,
         "type": "scatter",
         "x": [
          34,
          41.9,
          36.1,
          43.3,
          40.7,
          38.5,
          38,
          34.7,
          36.7,
          42.4,
          39.3,
          30.1,
          27.3,
          32.8,
          32,
          30.1,
          36.8,
          40.3,
          43,
          38.7,
          37.3,
          33.4,
          29.8,
          38.5,
          44.5,
          43.2,
          44.3,
          39.3,
          34.1,
          42.7,
          43.2,
          41.3,
          34.1,
          32.5,
          32.5,
          29.7,
          29.9,
          34.2,
          39,
          39.7,
          38.7,
          35.8,
          34.7,
          33.9,
          34.2,
          39.3,
          44,
          40.7,
          40.7,
          38.9,
          35.6,
          29.8,
          38.2,
          39.1,
          41.2,
          43.4,
          41.6,
          34.5,
          31.2,
          30.5,
          36,
          39.5,
          45,
          43.2
         ],
         "xaxis": "x",
         "y": [
          1,
          0,
          0,
          0,
          0,
          0,
          0,
          0,
          0,
          0,
          0,
          0,
          0,
          0,
          0,
          0,
          0,
          0,
          0,
          0,
          0,
          0,
          0,
          0,
          0,
          0,
          1,
          5,
          0,
          5,
          2,
          1,
          6,
          14,
          59,
          7,
          60,
          42,
          45,
          107,
          145,
          99,
          215,
          147,
          61,
          81,
          87,
          89,
          160,
          200,
          124,
          168,
          115,
          240,
          240,
          314,
          229,
          378,
          253,
          328,
          407,
          512,
          621,
          563
         ],
         "yaxis": "y"
        },
        {
         "alignmentgroup": "True",
         "hoverlabel": {
          "namelength": 0
         },
         "hovertemplate": "Province/State=Stockholm<br>TempAvg=%{x}",
         "legendgroup": "Province/State=Stockholm",
         "marker": {
          "color": "#19d3f3",
          "symbol": "circle"
         },
         "name": "Province/State=Stockholm",
         "notched": true,
         "offsetgroup": "Province/State=Stockholm",
         "showlegend": false,
         "type": "box",
         "x": [
          34,
          41.9,
          36.1,
          43.3,
          40.7,
          38.5,
          38,
          34.7,
          36.7,
          42.4,
          39.3,
          30.1,
          27.3,
          32.8,
          32,
          30.1,
          36.8,
          40.3,
          43,
          38.7,
          37.3,
          33.4,
          29.8,
          38.5,
          44.5,
          43.2,
          44.3,
          39.3,
          34.1,
          42.7,
          43.2,
          41.3,
          34.1,
          32.5,
          32.5,
          29.7,
          29.9,
          34.2,
          39,
          39.7,
          38.7,
          35.8,
          34.7,
          33.9,
          34.2,
          39.3,
          44,
          40.7,
          40.7,
          38.9,
          35.6,
          29.8,
          38.2,
          39.1,
          41.2,
          43.4,
          41.6,
          34.5,
          31.2,
          30.5,
          36,
          39.5,
          45,
          43.2
         ],
         "xaxis": "x2",
         "yaxis": "y2"
        },
        {
         "hoverlabel": {
          "namelength": 0
         },
         "hovertemplate": "Province/State=Stockholm",
         "legendgroup": "Province/State=Stockholm",
         "marker": {
          "color": "#19d3f3",
          "symbol": "circle"
         },
         "mode": "lines",
         "name": "Province/State=Stockholm",
         "showlegend": false,
         "type": "scatter",
         "xaxis": "x",
         "yaxis": "y"
        },
        {
         "hoverlabel": {
          "namelength": 0
         },
         "hovertemplate": "Province/State=Doha<br>TempAvg=%{x}<br>Confirmed=%{y}",
         "legendgroup": "Province/State=Doha",
         "marker": {
          "color": "#FF6692",
          "symbol": "circle"
         },
         "mode": "markers",
         "name": "Province/State=Doha",
         "showlegend": true,
         "type": "scatter",
         "x": [
          69.5,
          68.2,
          70.8,
          74.1,
          75.6,
          71.8,
          67.8,
          68.6,
          67.9,
          69,
          69.8,
          68.8,
          68.4,
          69.3,
          68.6,
          69.9,
          72.6,
          71.5,
          68,
          71.4,
          70.2,
          70.9,
          74.8,
          76.6,
          76.1,
          74.7,
          76.6,
          78.1,
          75.6,
          75.5,
          75.3,
          71,
          70.9,
          71.8,
          72.3
         ],
         "xaxis": "x",
         "y": [
          1,
          2,
          0,
          4,
          1,
          0,
          0,
          0,
          7,
          3,
          6,
          238,
          0,
          58,
          17,
          64,
          38,
          0,
          13,
          8,
          10,
          11,
          13,
          7,
          25,
          11,
          12,
          13,
          28,
          44,
          59,
          88,
          54,
          114,
          126
         ],
         "yaxis": "y"
        },
        {
         "alignmentgroup": "True",
         "hoverlabel": {
          "namelength": 0
         },
         "hovertemplate": "Province/State=Doha<br>TempAvg=%{x}",
         "legendgroup": "Province/State=Doha",
         "marker": {
          "color": "#FF6692",
          "symbol": "circle"
         },
         "name": "Province/State=Doha",
         "notched": true,
         "offsetgroup": "Province/State=Doha",
         "showlegend": false,
         "type": "box",
         "x": [
          69.5,
          68.2,
          70.8,
          74.1,
          75.6,
          71.8,
          67.8,
          68.6,
          67.9,
          69,
          69.8,
          68.8,
          68.4,
          69.3,
          68.6,
          69.9,
          72.6,
          71.5,
          68,
          71.4,
          70.2,
          70.9,
          74.8,
          76.6,
          76.1,
          74.7,
          76.6,
          78.1,
          75.6,
          75.5,
          75.3,
          71,
          70.9,
          71.8,
          72.3
         ],
         "xaxis": "x2",
         "yaxis": "y2"
        },
        {
         "hoverlabel": {
          "namelength": 0
         },
         "hovertemplate": "Province/State=Doha",
         "legendgroup": "Province/State=Doha",
         "marker": {
          "color": "#FF6692",
          "symbol": "circle"
         },
         "mode": "lines",
         "name": "Province/State=Doha",
         "showlegend": false,
         "type": "scatter",
         "xaxis": "x",
         "yaxis": "y"
        },
        {
         "hoverlabel": {
          "namelength": 0
         },
         "hovertemplate": "Province/State=Dubai<br>TempAvg=%{x}<br>Confirmed=%{y}",
         "legendgroup": "Province/State=Dubai",
         "marker": {
          "color": "#B6E880",
          "symbol": "circle"
         },
         "mode": "markers",
         "name": "Province/State=Dubai",
         "showlegend": true,
         "type": "scatter",
         "x": [
          68.7,
          69.8,
          73.2,
          69,
          67.4,
          65.2,
          65.2,
          65,
          67.3,
          67.3,
          65.3,
          67,
          67.7,
          66.9,
          67.5,
          65.9,
          68,
          69.3,
          72.4,
          75,
          74.8,
          71.8,
          65.1,
          64.4,
          65.7,
          66.4,
          71.9,
          75.3,
          73.9,
          75.6,
          77.4,
          75.3,
          76.7,
          77.8,
          80,
          81.7,
          79.2,
          71.1,
          70.5,
          72.5,
          72.5,
          75.3,
          71.7,
          70.6,
          71.6,
          73.4,
          75.4,
          76.3,
          73,
          74.8,
          72.8,
          71.9,
          74.6,
          79.4,
          81,
          77.7,
          77.8,
          80.5,
          83.3,
          83.2,
          75.7,
          76,
          72.5,
          70.6,
          70.7,
          73.9
         ],
         "xaxis": "x",
         "y": [
          4,
          0,
          0,
          0,
          1,
          0,
          0,
          0,
          0,
          0,
          2,
          0,
          1,
          0,
          0,
          0,
          0,
          0,
          1,
          0,
          0,
          0,
          0,
          0,
          4,
          0,
          0,
          0,
          0,
          0,
          6,
          2,
          0,
          0,
          6,
          0,
          2,
          0,
          16,
          0,
          0,
          29,
          0,
          11,
          0,
          0,
          13,
          0,
          0,
          15,
          27,
          0,
          13,
          0,
          45,
          50,
          85,
          0,
          72,
          63,
          102,
          41,
          53,
          150,
          210,
          240
         ],
         "yaxis": "y"
        },
        {
         "alignmentgroup": "True",
         "hoverlabel": {
          "namelength": 0
         },
         "hovertemplate": "Province/State=Dubai<br>TempAvg=%{x}",
         "legendgroup": "Province/State=Dubai",
         "marker": {
          "color": "#B6E880",
          "symbol": "circle"
         },
         "name": "Province/State=Dubai",
         "notched": true,
         "offsetgroup": "Province/State=Dubai",
         "showlegend": false,
         "type": "box",
         "x": [
          68.7,
          69.8,
          73.2,
          69,
          67.4,
          65.2,
          65.2,
          65,
          67.3,
          67.3,
          65.3,
          67,
          67.7,
          66.9,
          67.5,
          65.9,
          68,
          69.3,
          72.4,
          75,
          74.8,
          71.8,
          65.1,
          64.4,
          65.7,
          66.4,
          71.9,
          75.3,
          73.9,
          75.6,
          77.4,
          75.3,
          76.7,
          77.8,
          80,
          81.7,
          79.2,
          71.1,
          70.5,
          72.5,
          72.5,
          75.3,
          71.7,
          70.6,
          71.6,
          73.4,
          75.4,
          76.3,
          73,
          74.8,
          72.8,
          71.9,
          74.6,
          79.4,
          81,
          77.7,
          77.8,
          80.5,
          83.3,
          83.2,
          75.7,
          76,
          72.5,
          70.6,
          70.7,
          73.9
         ],
         "xaxis": "x2",
         "yaxis": "y2"
        },
        {
         "hoverlabel": {
          "namelength": 0
         },
         "hovertemplate": "Province/State=Dubai",
         "legendgroup": "Province/State=Dubai",
         "marker": {
          "color": "#B6E880",
          "symbol": "circle"
         },
         "mode": "lines",
         "name": "Province/State=Dubai",
         "showlegend": false,
         "type": "scatter",
         "xaxis": "x",
         "yaxis": "y"
        },
        {
         "hoverlabel": {
          "namelength": 0
         },
         "hovertemplate": "Province/State=Dakar<br>TempAvg=%{x}<br>Confirmed=%{y}",
         "legendgroup": "Province/State=Dakar",
         "marker": {
          "color": "#FF97FF",
          "symbol": "circle"
         },
         "mode": "markers",
         "name": "Province/State=Dakar",
         "showlegend": true,
         "type": "scatter",
         "x": [
          72.2,
          74.2,
          86.9,
          80.7,
          78,
          75.4,
          73.9,
          74.3,
          76.1,
          80.2,
          75.3,
          74.7,
          74.9,
          75.8,
          75.5,
          75.5,
          77.8,
          76.1,
          77.2,
          76.4,
          75,
          74.2,
          74.2,
          72.3,
          73.1,
          72.6,
          73.1,
          74.1,
          72.3,
          70.8,
          68.5,
          68.3,
          69.9
         ],
         "xaxis": "x",
         "y": [
          1,
          1,
          2,
          0,
          0,
          0,
          0,
          0,
          0,
          0,
          0,
          6,
          0,
          14,
          0,
          2,
          5,
          0,
          7,
          9,
          20,
          12,
          7,
          13,
          6,
          14,
          11,
          12,
          20,
          13,
          15,
          5,
          12
         ],
         "yaxis": "y"
        },
        {
         "alignmentgroup": "True",
         "hoverlabel": {
          "namelength": 0
         },
         "hovertemplate": "Province/State=Dakar<br>TempAvg=%{x}",
         "legendgroup": "Province/State=Dakar",
         "marker": {
          "color": "#FF97FF",
          "symbol": "circle"
         },
         "name": "Province/State=Dakar",
         "notched": true,
         "offsetgroup": "Province/State=Dakar",
         "showlegend": false,
         "type": "box",
         "x": [
          72.2,
          74.2,
          86.9,
          80.7,
          78,
          75.4,
          73.9,
          74.3,
          76.1,
          80.2,
          75.3,
          74.7,
          74.9,
          75.8,
          75.5,
          75.5,
          77.8,
          76.1,
          77.2,
          76.4,
          75,
          74.2,
          74.2,
          72.3,
          73.1,
          72.6,
          73.1,
          74.1,
          72.3,
          70.8,
          68.5,
          68.3,
          69.9
         ],
         "xaxis": "x2",
         "yaxis": "y2"
        },
        {
         "hoverlabel": {
          "namelength": 0
         },
         "hovertemplate": "Province/State=Dakar",
         "legendgroup": "Province/State=Dakar",
         "marker": {
          "color": "#FF97FF",
          "symbol": "circle"
         },
         "mode": "lines",
         "name": "Province/State=Dakar",
         "showlegend": false,
         "type": "scatter",
         "xaxis": "x",
         "yaxis": "y"
        }
       ],
       "layout": {
        "height": 600,
        "legend": {
         "tracegroupgap": 0
        },
        "template": {
         "data": {
          "bar": [
           {
            "error_x": {
             "color": "#2a3f5f"
            },
            "error_y": {
             "color": "#2a3f5f"
            },
            "marker": {
             "line": {
              "color": "#E5ECF6",
              "width": 0.5
             }
            },
            "type": "bar"
           }
          ],
          "barpolar": [
           {
            "marker": {
             "line": {
              "color": "#E5ECF6",
              "width": 0.5
             }
            },
            "type": "barpolar"
           }
          ],
          "carpet": [
           {
            "aaxis": {
             "endlinecolor": "#2a3f5f",
             "gridcolor": "white",
             "linecolor": "white",
             "minorgridcolor": "white",
             "startlinecolor": "#2a3f5f"
            },
            "baxis": {
             "endlinecolor": "#2a3f5f",
             "gridcolor": "white",
             "linecolor": "white",
             "minorgridcolor": "white",
             "startlinecolor": "#2a3f5f"
            },
            "type": "carpet"
           }
          ],
          "choropleth": [
           {
            "colorbar": {
             "outlinewidth": 0,
             "ticks": ""
            },
            "type": "choropleth"
           }
          ],
          "contour": [
           {
            "colorbar": {
             "outlinewidth": 0,
             "ticks": ""
            },
            "colorscale": [
             [
              0,
              "#0d0887"
             ],
             [
              0.1111111111111111,
              "#46039f"
             ],
             [
              0.2222222222222222,
              "#7201a8"
             ],
             [
              0.3333333333333333,
              "#9c179e"
             ],
             [
              0.4444444444444444,
              "#bd3786"
             ],
             [
              0.5555555555555556,
              "#d8576b"
             ],
             [
              0.6666666666666666,
              "#ed7953"
             ],
             [
              0.7777777777777778,
              "#fb9f3a"
             ],
             [
              0.8888888888888888,
              "#fdca26"
             ],
             [
              1,
              "#f0f921"
             ]
            ],
            "type": "contour"
           }
          ],
          "contourcarpet": [
           {
            "colorbar": {
             "outlinewidth": 0,
             "ticks": ""
            },
            "type": "contourcarpet"
           }
          ],
          "heatmap": [
           {
            "colorbar": {
             "outlinewidth": 0,
             "ticks": ""
            },
            "colorscale": [
             [
              0,
              "#0d0887"
             ],
             [
              0.1111111111111111,
              "#46039f"
             ],
             [
              0.2222222222222222,
              "#7201a8"
             ],
             [
              0.3333333333333333,
              "#9c179e"
             ],
             [
              0.4444444444444444,
              "#bd3786"
             ],
             [
              0.5555555555555556,
              "#d8576b"
             ],
             [
              0.6666666666666666,
              "#ed7953"
             ],
             [
              0.7777777777777778,
              "#fb9f3a"
             ],
             [
              0.8888888888888888,
              "#fdca26"
             ],
             [
              1,
              "#f0f921"
             ]
            ],
            "type": "heatmap"
           }
          ],
          "heatmapgl": [
           {
            "colorbar": {
             "outlinewidth": 0,
             "ticks": ""
            },
            "colorscale": [
             [
              0,
              "#0d0887"
             ],
             [
              0.1111111111111111,
              "#46039f"
             ],
             [
              0.2222222222222222,
              "#7201a8"
             ],
             [
              0.3333333333333333,
              "#9c179e"
             ],
             [
              0.4444444444444444,
              "#bd3786"
             ],
             [
              0.5555555555555556,
              "#d8576b"
             ],
             [
              0.6666666666666666,
              "#ed7953"
             ],
             [
              0.7777777777777778,
              "#fb9f3a"
             ],
             [
              0.8888888888888888,
              "#fdca26"
             ],
             [
              1,
              "#f0f921"
             ]
            ],
            "type": "heatmapgl"
           }
          ],
          "histogram": [
           {
            "marker": {
             "colorbar": {
              "outlinewidth": 0,
              "ticks": ""
             }
            },
            "type": "histogram"
           }
          ],
          "histogram2d": [
           {
            "colorbar": {
             "outlinewidth": 0,
             "ticks": ""
            },
            "colorscale": [
             [
              0,
              "#0d0887"
             ],
             [
              0.1111111111111111,
              "#46039f"
             ],
             [
              0.2222222222222222,
              "#7201a8"
             ],
             [
              0.3333333333333333,
              "#9c179e"
             ],
             [
              0.4444444444444444,
              "#bd3786"
             ],
             [
              0.5555555555555556,
              "#d8576b"
             ],
             [
              0.6666666666666666,
              "#ed7953"
             ],
             [
              0.7777777777777778,
              "#fb9f3a"
             ],
             [
              0.8888888888888888,
              "#fdca26"
             ],
             [
              1,
              "#f0f921"
             ]
            ],
            "type": "histogram2d"
           }
          ],
          "histogram2dcontour": [
           {
            "colorbar": {
             "outlinewidth": 0,
             "ticks": ""
            },
            "colorscale": [
             [
              0,
              "#0d0887"
             ],
             [
              0.1111111111111111,
              "#46039f"
             ],
             [
              0.2222222222222222,
              "#7201a8"
             ],
             [
              0.3333333333333333,
              "#9c179e"
             ],
             [
              0.4444444444444444,
              "#bd3786"
             ],
             [
              0.5555555555555556,
              "#d8576b"
             ],
             [
              0.6666666666666666,
              "#ed7953"
             ],
             [
              0.7777777777777778,
              "#fb9f3a"
             ],
             [
              0.8888888888888888,
              "#fdca26"
             ],
             [
              1,
              "#f0f921"
             ]
            ],
            "type": "histogram2dcontour"
           }
          ],
          "mesh3d": [
           {
            "colorbar": {
             "outlinewidth": 0,
             "ticks": ""
            },
            "type": "mesh3d"
           }
          ],
          "parcoords": [
           {
            "line": {
             "colorbar": {
              "outlinewidth": 0,
              "ticks": ""
             }
            },
            "type": "parcoords"
           }
          ],
          "pie": [
           {
            "automargin": true,
            "type": "pie"
           }
          ],
          "scatter": [
           {
            "marker": {
             "colorbar": {
              "outlinewidth": 0,
              "ticks": ""
             }
            },
            "type": "scatter"
           }
          ],
          "scatter3d": [
           {
            "line": {
             "colorbar": {
              "outlinewidth": 0,
              "ticks": ""
             }
            },
            "marker": {
             "colorbar": {
              "outlinewidth": 0,
              "ticks": ""
             }
            },
            "type": "scatter3d"
           }
          ],
          "scattercarpet": [
           {
            "marker": {
             "colorbar": {
              "outlinewidth": 0,
              "ticks": ""
             }
            },
            "type": "scattercarpet"
           }
          ],
          "scattergeo": [
           {
            "marker": {
             "colorbar": {
              "outlinewidth": 0,
              "ticks": ""
             }
            },
            "type": "scattergeo"
           }
          ],
          "scattergl": [
           {
            "marker": {
             "colorbar": {
              "outlinewidth": 0,
              "ticks": ""
             }
            },
            "type": "scattergl"
           }
          ],
          "scattermapbox": [
           {
            "marker": {
             "colorbar": {
              "outlinewidth": 0,
              "ticks": ""
             }
            },
            "type": "scattermapbox"
           }
          ],
          "scatterpolar": [
           {
            "marker": {
             "colorbar": {
              "outlinewidth": 0,
              "ticks": ""
             }
            },
            "type": "scatterpolar"
           }
          ],
          "scatterpolargl": [
           {
            "marker": {
             "colorbar": {
              "outlinewidth": 0,
              "ticks": ""
             }
            },
            "type": "scatterpolargl"
           }
          ],
          "scatterternary": [
           {
            "marker": {
             "colorbar": {
              "outlinewidth": 0,
              "ticks": ""
             }
            },
            "type": "scatterternary"
           }
          ],
          "surface": [
           {
            "colorbar": {
             "outlinewidth": 0,
             "ticks": ""
            },
            "colorscale": [
             [
              0,
              "#0d0887"
             ],
             [
              0.1111111111111111,
              "#46039f"
             ],
             [
              0.2222222222222222,
              "#7201a8"
             ],
             [
              0.3333333333333333,
              "#9c179e"
             ],
             [
              0.4444444444444444,
              "#bd3786"
             ],
             [
              0.5555555555555556,
              "#d8576b"
             ],
             [
              0.6666666666666666,
              "#ed7953"
             ],
             [
              0.7777777777777778,
              "#fb9f3a"
             ],
             [
              0.8888888888888888,
              "#fdca26"
             ],
             [
              1,
              "#f0f921"
             ]
            ],
            "type": "surface"
           }
          ],
          "table": [
           {
            "cells": {
             "fill": {
              "color": "#EBF0F8"
             },
             "line": {
              "color": "white"
             }
            },
            "header": {
             "fill": {
              "color": "#C8D4E3"
             },
             "line": {
              "color": "white"
             }
            },
            "type": "table"
           }
          ]
         },
         "layout": {
          "annotationdefaults": {
           "arrowcolor": "#2a3f5f",
           "arrowhead": 0,
           "arrowwidth": 1
          },
          "coloraxis": {
           "colorbar": {
            "outlinewidth": 0,
            "ticks": ""
           }
          },
          "colorscale": {
           "diverging": [
            [
             0,
             "#8e0152"
            ],
            [
             0.1,
             "#c51b7d"
            ],
            [
             0.2,
             "#de77ae"
            ],
            [
             0.3,
             "#f1b6da"
            ],
            [
             0.4,
             "#fde0ef"
            ],
            [
             0.5,
             "#f7f7f7"
            ],
            [
             0.6,
             "#e6f5d0"
            ],
            [
             0.7,
             "#b8e186"
            ],
            [
             0.8,
             "#7fbc41"
            ],
            [
             0.9,
             "#4d9221"
            ],
            [
             1,
             "#276419"
            ]
           ],
           "sequential": [
            [
             0,
             "#0d0887"
            ],
            [
             0.1111111111111111,
             "#46039f"
            ],
            [
             0.2222222222222222,
             "#7201a8"
            ],
            [
             0.3333333333333333,
             "#9c179e"
            ],
            [
             0.4444444444444444,
             "#bd3786"
            ],
            [
             0.5555555555555556,
             "#d8576b"
            ],
            [
             0.6666666666666666,
             "#ed7953"
            ],
            [
             0.7777777777777778,
             "#fb9f3a"
            ],
            [
             0.8888888888888888,
             "#fdca26"
            ],
            [
             1,
             "#f0f921"
            ]
           ],
           "sequentialminus": [
            [
             0,
             "#0d0887"
            ],
            [
             0.1111111111111111,
             "#46039f"
            ],
            [
             0.2222222222222222,
             "#7201a8"
            ],
            [
             0.3333333333333333,
             "#9c179e"
            ],
            [
             0.4444444444444444,
             "#bd3786"
            ],
            [
             0.5555555555555556,
             "#d8576b"
            ],
            [
             0.6666666666666666,
             "#ed7953"
            ],
            [
             0.7777777777777778,
             "#fb9f3a"
            ],
            [
             0.8888888888888888,
             "#fdca26"
            ],
            [
             1,
             "#f0f921"
            ]
           ]
          },
          "colorway": [
           "#636efa",
           "#EF553B",
           "#00cc96",
           "#ab63fa",
           "#FFA15A",
           "#19d3f3",
           "#FF6692",
           "#B6E880",
           "#FF97FF",
           "#FECB52"
          ],
          "font": {
           "color": "#2a3f5f"
          },
          "geo": {
           "bgcolor": "white",
           "lakecolor": "white",
           "landcolor": "#E5ECF6",
           "showlakes": true,
           "showland": true,
           "subunitcolor": "white"
          },
          "hoverlabel": {
           "align": "left"
          },
          "hovermode": "closest",
          "mapbox": {
           "style": "light"
          },
          "paper_bgcolor": "white",
          "plot_bgcolor": "#E5ECF6",
          "polar": {
           "angularaxis": {
            "gridcolor": "white",
            "linecolor": "white",
            "ticks": ""
           },
           "bgcolor": "#E5ECF6",
           "radialaxis": {
            "gridcolor": "white",
            "linecolor": "white",
            "ticks": ""
           }
          },
          "scene": {
           "xaxis": {
            "backgroundcolor": "#E5ECF6",
            "gridcolor": "white",
            "gridwidth": 2,
            "linecolor": "white",
            "showbackground": true,
            "ticks": "",
            "zerolinecolor": "white"
           },
           "yaxis": {
            "backgroundcolor": "#E5ECF6",
            "gridcolor": "white",
            "gridwidth": 2,
            "linecolor": "white",
            "showbackground": true,
            "ticks": "",
            "zerolinecolor": "white"
           },
           "zaxis": {
            "backgroundcolor": "#E5ECF6",
            "gridcolor": "white",
            "gridwidth": 2,
            "linecolor": "white",
            "showbackground": true,
            "ticks": "",
            "zerolinecolor": "white"
           }
          },
          "shapedefaults": {
           "line": {
            "color": "#2a3f5f"
           }
          },
          "ternary": {
           "aaxis": {
            "gridcolor": "white",
            "linecolor": "white",
            "ticks": ""
           },
           "baxis": {
            "gridcolor": "white",
            "linecolor": "white",
            "ticks": ""
           },
           "bgcolor": "#E5ECF6",
           "caxis": {
            "gridcolor": "white",
            "linecolor": "white",
            "ticks": ""
           }
          },
          "title": {
           "x": 0.05
          },
          "xaxis": {
           "automargin": true,
           "gridcolor": "white",
           "linecolor": "white",
           "ticks": "",
           "title": {
            "standoff": 15
           },
           "zerolinecolor": "white",
           "zerolinewidth": 2
          },
          "yaxis": {
           "automargin": true,
           "gridcolor": "white",
           "linecolor": "white",
           "ticks": "",
           "title": {
            "standoff": 15
           },
           "zerolinecolor": "white",
           "zerolinewidth": 2
          }
         }
        },
        "title": {
         "text": "New Infections vs Temperature"
        },
        "xaxis": {
         "anchor": "y",
         "domain": [
          0,
          1
         ],
         "title": {
          "text": "TempAvg"
         }
        },
        "xaxis2": {
         "anchor": "y2",
         "domain": [
          0,
          1
         ],
         "matches": "x",
         "showgrid": true,
         "showticklabels": false
        },
        "yaxis": {
         "anchor": "x",
         "domain": [
          0,
          0.7326
         ],
         "title": {
          "text": "Confirmed"
         }
        },
        "yaxis2": {
         "anchor": "x2",
         "domain": [
          0.7426,
          1
         ],
         "matches": "y2",
         "showgrid": false,
         "showline": false,
         "showticklabels": false,
         "ticks": ""
        }
       }
      },
      "text/html": [
       "<div>\n",
       "        \n",
       "        \n",
       "            <div id=\"14bbce48-de57-49f3-986e-6c9717c5886a\" class=\"plotly-graph-div\" style=\"height:600px; width:100%;\"></div>\n",
       "            <script type=\"text/javascript\">\n",
       "                require([\"plotly\"], function(Plotly) {\n",
       "                    window.PLOTLYENV=window.PLOTLYENV || {};\n",
       "                    \n",
       "                if (document.getElementById(\"14bbce48-de57-49f3-986e-6c9717c5886a\")) {\n",
       "                    Plotly.newPlot(\n",
       "                        '14bbce48-de57-49f3-986e-6c9717c5886a',\n",
       "                        [{\"hoverlabel\": {\"namelength\": 0}, \"hovertemplate\": \"Province/State=New York<br>TempAvg=%{x}<br>Confirmed=%{y}\", \"legendgroup\": \"Province/State=New York\", \"marker\": {\"color\": \"#636efa\", \"symbol\": \"circle\"}, \"mode\": \"markers\", \"name\": \"Province/State=New York\", \"showlegend\": true, \"type\": \"scatter\", \"x\": [48.2, 52.4, 50.5, 44.8, 41.6, 41.0, 47.8, 59.3, 61.0, 50.4, 44.7, 54.6, 48.9, 46.8, 39.3, 47.5, 47.6, 46.2, 56.0, 48.5, 38.4, 39.2, 44.0, 42.8, 47.0], \"xaxis\": \"x\", \"y\": [173, 47, 108, 93, 104, 207, 235, 739, 789, 2870, 2945, 3400, 4090, 5084, 4797, 5160, 7036, 6999, 7534, 7238, 7015, 9170, 8115, 8558, 10481], \"yaxis\": \"y\"}, {\"alignmentgroup\": \"True\", \"hoverlabel\": {\"namelength\": 0}, \"hovertemplate\": \"Province/State=New York<br>TempAvg=%{x}\", \"legendgroup\": \"Province/State=New York\", \"marker\": {\"color\": \"#636efa\", \"symbol\": \"circle\"}, \"name\": \"Province/State=New York\", \"notched\": true, \"offsetgroup\": \"Province/State=New York\", \"showlegend\": false, \"type\": \"box\", \"x\": [48.2, 52.4, 50.5, 44.8, 41.6, 41.0, 47.8, 59.3, 61.0, 50.4, 44.7, 54.6, 48.9, 46.8, 39.3, 47.5, 47.6, 46.2, 56.0, 48.5, 38.4, 39.2, 44.0, 42.8, 47.0], \"xaxis\": \"x2\", \"yaxis\": \"y2\"}, {\"hoverlabel\": {\"namelength\": 0}, \"hovertemplate\": \"Province/State=New York\", \"legendgroup\": \"Province/State=New York\", \"marker\": {\"color\": \"#636efa\", \"symbol\": \"circle\"}, \"mode\": \"lines\", \"name\": \"Province/State=New York\", \"showlegend\": false, \"type\": \"scatter\", \"xaxis\": \"x\", \"yaxis\": \"y\"}, {\"hoverlabel\": {\"namelength\": 0}, \"hovertemplate\": \"Province/State=Madrid<br>TempAvg=%{x}<br>Confirmed=%{y}\", \"legendgroup\": \"Province/State=Madrid\", \"marker\": {\"color\": \"#EF553B\", \"symbol\": \"circle\"}, \"mode\": \"markers\", \"name\": \"Province/State=Madrid\", \"showlegend\": true, \"type\": \"scatter\", \"x\": [45.2, 45.4, 43.5, 41.7, 52.1, 53.7, 51.1, 54.2, 56.9, 53.3, 52.0, 50.2, 45.9, 41.2, 44.4, 44.0, 46.7, 48.1, 46.4, 49.5, 52.1, 47.5, 45.7, 48.7, 47.4, 46.3, 45.6, 44.4, 48.0, 48.6, 50.5, 50.5, 49.0, 52.4, 52.9, 51.0, 51.1, 52.6, 51.8, 51.3, 58.3, 55.0, 49.1, 46.9, 47.1, 53.8, 54.4, 58.6, 60.3, 60.4, 59.3, 54.9, 45.1, 50.8, 54.3, 54.9, 52.9, 48.2, 48.5, 50.4, 53.4, 53.0, 48.2], \"xaxis\": \"x\", \"y\": [1, 0, 0, 0, 0, 0, 0, 0, 1, 0, 0, 0, 0, 0, 0, 0, 0, 0, 0, 0, 0, 0, 0, 0, 4, 7, 2, 17, 13, 39, 36, 45, 57, 37, 141, 100, 173, 400, 622, 582, 0, 2955, 1159, 1407, 2144, 1806, 2162, 4053, 2447, 4964, 3229, 6533, 4749, 9630, 8271, 7933, 7516, 6875, 7846, 7967, 8195, 7947, 7134], \"yaxis\": \"y\"}, {\"alignmentgroup\": \"True\", \"hoverlabel\": {\"namelength\": 0}, \"hovertemplate\": \"Province/State=Madrid<br>TempAvg=%{x}\", \"legendgroup\": \"Province/State=Madrid\", \"marker\": {\"color\": \"#EF553B\", \"symbol\": \"circle\"}, \"name\": \"Province/State=Madrid\", \"notched\": true, \"offsetgroup\": \"Province/State=Madrid\", \"showlegend\": false, \"type\": \"box\", \"x\": [45.2, 45.4, 43.5, 41.7, 52.1, 53.7, 51.1, 54.2, 56.9, 53.3, 52.0, 50.2, 45.9, 41.2, 44.4, 44.0, 46.7, 48.1, 46.4, 49.5, 52.1, 47.5, 45.7, 48.7, 47.4, 46.3, 45.6, 44.4, 48.0, 48.6, 50.5, 50.5, 49.0, 52.4, 52.9, 51.0, 51.1, 52.6, 51.8, 51.3, 58.3, 55.0, 49.1, 46.9, 47.1, 53.8, 54.4, 58.6, 60.3, 60.4, 59.3, 54.9, 45.1, 50.8, 54.3, 54.9, 52.9, 48.2, 48.5, 50.4, 53.4, 53.0, 48.2], \"xaxis\": \"x2\", \"yaxis\": \"y2\"}, {\"hoverlabel\": {\"namelength\": 0}, \"hovertemplate\": \"Province/State=Madrid\", \"legendgroup\": \"Province/State=Madrid\", \"marker\": {\"color\": \"#EF553B\", \"symbol\": \"circle\"}, \"mode\": \"lines\", \"name\": \"Province/State=Madrid\", \"showlegend\": false, \"type\": \"scatter\", \"xaxis\": \"x\", \"yaxis\": \"y\"}, {\"hoverlabel\": {\"namelength\": 0}, \"hovertemplate\": \"Province/State=Quebec<br>TempAvg=%{x}<br>Confirmed=%{y}\", \"legendgroup\": \"Province/State=Quebec\", \"marker\": {\"color\": \"#00cc96\", \"symbol\": \"circle\"}, \"mode\": \"markers\", \"name\": \"Province/State=Quebec\", \"showlegend\": true, \"type\": \"scatter\", \"x\": [15.3, 19.2, 31.7, 32.8, 29.0, 25.5, 19.5, 28.7, 22.4, 26.6, 21.6, 19.6, 31.9, 31.1, 20.4, 15.7, 29.4, 25.4, 30.6, 36.1, 21.1, 14.0, 24.5, 32.2, 31.8, 34.1], \"xaxis\": \"x\", \"y\": [3, 1, 4, 1, 8, 0, 7, 26, 24, 20, 27, 18, 42, 38, 409, 385, 329, 290, 392, 474, 342, 590, 732, 449, 907, 583], \"yaxis\": \"y\"}, {\"alignmentgroup\": \"True\", \"hoverlabel\": {\"namelength\": 0}, \"hovertemplate\": \"Province/State=Quebec<br>TempAvg=%{x}\", \"legendgroup\": \"Province/State=Quebec\", \"marker\": {\"color\": \"#00cc96\", \"symbol\": \"circle\"}, \"name\": \"Province/State=Quebec\", \"notched\": true, \"offsetgroup\": \"Province/State=Quebec\", \"showlegend\": false, \"type\": \"box\", \"x\": [15.3, 19.2, 31.7, 32.8, 29.0, 25.5, 19.5, 28.7, 22.4, 26.6, 21.6, 19.6, 31.9, 31.1, 20.4, 15.7, 29.4, 25.4, 30.6, 36.1, 21.1, 14.0, 24.5, 32.2, 31.8, 34.1], \"xaxis\": \"x2\", \"yaxis\": \"y2\"}, {\"hoverlabel\": {\"namelength\": 0}, \"hovertemplate\": \"Province/State=Quebec\", \"legendgroup\": \"Province/State=Quebec\", \"marker\": {\"color\": \"#00cc96\", \"symbol\": \"circle\"}, \"mode\": \"lines\", \"name\": \"Province/State=Quebec\", \"showlegend\": false, \"type\": \"scatter\", \"xaxis\": \"x\", \"yaxis\": \"y\"}, {\"hoverlabel\": {\"namelength\": 0}, \"hovertemplate\": \"Province/State=Lombardia<br>TempAvg=%{x}<br>Confirmed=%{y}\", \"legendgroup\": \"Province/State=Lombardia\", \"marker\": {\"color\": \"#ab63fa\", \"symbol\": \"circle\"}, \"mode\": \"markers\", \"name\": \"Province/State=Lombardia\", \"showlegend\": true, \"type\": \"scatter\", \"x\": [46.2, 49.3, 50.0, 46.9, 45.2, 45.9, 46.6, 50.2, 55.4, 52.1, 49.1, 45.8, 49.8, 44.7, 44.2, 40.8, 46.6, 45.5, 43.9, 43.7, 48.1, 47.4, 45.6, 49.5, 53.8, 52.5, 58.9, 51.2, 47.1, 48.1, 49.5, 52.4, 55.4, 54.1, 55.0, 53.3, 43.3, 42.9, 42.4, 40.7], \"xaxis\": \"x\", \"y\": [172, 68, 18, 145, 128, 84, 369, 270, 266, 300, 431, 361, 808, 769, 1280, 322, 1489, 1445, 1095, 1865, 1587, 1377, 1571, 1493, 2171, 2380, 3251, 1691, 1555, 1942, 1643, 2543, 2409, 2117, 1592, 1154, 1047, 1565, 1292, 1455], \"yaxis\": \"y\"}, {\"alignmentgroup\": \"True\", \"hoverlabel\": {\"namelength\": 0}, \"hovertemplate\": \"Province/State=Lombardia<br>TempAvg=%{x}\", \"legendgroup\": \"Province/State=Lombardia\", \"marker\": {\"color\": \"#ab63fa\", \"symbol\": \"circle\"}, \"name\": \"Province/State=Lombardia\", \"notched\": true, \"offsetgroup\": \"Province/State=Lombardia\", \"showlegend\": false, \"type\": \"box\", \"x\": [46.2, 49.3, 50.0, 46.9, 45.2, 45.9, 46.6, 50.2, 55.4, 52.1, 49.1, 45.8, 49.8, 44.7, 44.2, 40.8, 46.6, 45.5, 43.9, 43.7, 48.1, 47.4, 45.6, 49.5, 53.8, 52.5, 58.9, 51.2, 47.1, 48.1, 49.5, 52.4, 55.4, 54.1, 55.0, 53.3, 43.3, 42.9, 42.4, 40.7], \"xaxis\": \"x2\", \"yaxis\": \"y2\"}, {\"hoverlabel\": {\"namelength\": 0}, \"hovertemplate\": \"Province/State=Lombardia\", \"legendgroup\": \"Province/State=Lombardia\", \"marker\": {\"color\": \"#ab63fa\", \"symbol\": \"circle\"}, \"mode\": \"lines\", \"name\": \"Province/State=Lombardia\", \"showlegend\": false, \"type\": \"scatter\", \"xaxis\": \"x\", \"yaxis\": \"y\"}, {\"hoverlabel\": {\"namelength\": 0}, \"hovertemplate\": \"Province/State=Vienna<br>TempAvg=%{x}<br>Confirmed=%{y}\", \"legendgroup\": \"Province/State=Vienna\", \"marker\": {\"color\": \"#FFA15A\", \"symbol\": \"circle\"}, \"mode\": \"markers\", \"name\": \"Province/State=Vienna\", \"showlegend\": true, \"type\": \"scatter\", \"x\": [45.0, 48.6, 41.6, 43.0, 40.9, 41.9, 57.5, 46.8, 49.5, 45.0, 41.4, 39.6, 41.0, 42.8, 49.9, 46.0, 43.8, 42.1, 44.7, 44.8, 42.7, 40.8, 49.1, 57.6, 59.3, 49.8, 44.3, 37.9, 44.3, 44.8, 52.3, 52.6, 54.5, 43.1, 33.8, 32.7, 34.9, 32.3, 39.5], \"xaxis\": \"x\", \"y\": [2, 0, 1, 0, 6, 5, 4, 3, 8, 12, 14, 24, 25, 27, 51, 64, 56, 202, 151, 205, 158, 314, 314, 367, 375, 426, 766, 894, 809, 305, 1321, 748, 614, 517, 830, 562, 531, 418, 395], \"yaxis\": \"y\"}, {\"alignmentgroup\": \"True\", \"hoverlabel\": {\"namelength\": 0}, \"hovertemplate\": \"Province/State=Vienna<br>TempAvg=%{x}\", \"legendgroup\": \"Province/State=Vienna\", \"marker\": {\"color\": \"#FFA15A\", \"symbol\": \"circle\"}, \"name\": \"Province/State=Vienna\", \"notched\": true, \"offsetgroup\": \"Province/State=Vienna\", \"showlegend\": false, \"type\": \"box\", \"x\": [45.0, 48.6, 41.6, 43.0, 40.9, 41.9, 57.5, 46.8, 49.5, 45.0, 41.4, 39.6, 41.0, 42.8, 49.9, 46.0, 43.8, 42.1, 44.7, 44.8, 42.7, 40.8, 49.1, 57.6, 59.3, 49.8, 44.3, 37.9, 44.3, 44.8, 52.3, 52.6, 54.5, 43.1, 33.8, 32.7, 34.9, 32.3, 39.5], \"xaxis\": \"x2\", \"yaxis\": \"y2\"}, {\"hoverlabel\": {\"namelength\": 0}, \"hovertemplate\": \"Province/State=Vienna\", \"legendgroup\": \"Province/State=Vienna\", \"marker\": {\"color\": \"#FFA15A\", \"symbol\": \"circle\"}, \"mode\": \"lines\", \"name\": \"Province/State=Vienna\", \"showlegend\": false, \"type\": \"scatter\", \"xaxis\": \"x\", \"yaxis\": \"y\"}, {\"hoverlabel\": {\"namelength\": 0}, \"hovertemplate\": \"Province/State=Stockholm<br>TempAvg=%{x}<br>Confirmed=%{y}\", \"legendgroup\": \"Province/State=Stockholm\", \"marker\": {\"color\": \"#19d3f3\", \"symbol\": \"circle\"}, \"mode\": \"markers\", \"name\": \"Province/State=Stockholm\", \"showlegend\": true, \"type\": \"scatter\", \"x\": [34.0, 41.9, 36.1, 43.3, 40.7, 38.5, 38.0, 34.7, 36.7, 42.4, 39.3, 30.1, 27.3, 32.8, 32.0, 30.1, 36.8, 40.3, 43.0, 38.7, 37.3, 33.4, 29.8, 38.5, 44.5, 43.2, 44.3, 39.3, 34.1, 42.7, 43.2, 41.3, 34.1, 32.5, 32.5, 29.7, 29.9, 34.2, 39.0, 39.7, 38.7, 35.8, 34.7, 33.9, 34.2, 39.3, 44.0, 40.7, 40.7, 38.9, 35.6, 29.8, 38.2, 39.1, 41.2, 43.4, 41.6, 34.5, 31.2, 30.5, 36.0, 39.5, 45.0, 43.2], \"xaxis\": \"x\", \"y\": [1, 0, 0, 0, 0, 0, 0, 0, 0, 0, 0, 0, 0, 0, 0, 0, 0, 0, 0, 0, 0, 0, 0, 0, 0, 0, 1, 5, 0, 5, 2, 1, 6, 14, 59, 7, 60, 42, 45, 107, 145, 99, 215, 147, 61, 81, 87, 89, 160, 200, 124, 168, 115, 240, 240, 314, 229, 378, 253, 328, 407, 512, 621, 563], \"yaxis\": \"y\"}, {\"alignmentgroup\": \"True\", \"hoverlabel\": {\"namelength\": 0}, \"hovertemplate\": \"Province/State=Stockholm<br>TempAvg=%{x}\", \"legendgroup\": \"Province/State=Stockholm\", \"marker\": {\"color\": \"#19d3f3\", \"symbol\": \"circle\"}, \"name\": \"Province/State=Stockholm\", \"notched\": true, \"offsetgroup\": \"Province/State=Stockholm\", \"showlegend\": false, \"type\": \"box\", \"x\": [34.0, 41.9, 36.1, 43.3, 40.7, 38.5, 38.0, 34.7, 36.7, 42.4, 39.3, 30.1, 27.3, 32.8, 32.0, 30.1, 36.8, 40.3, 43.0, 38.7, 37.3, 33.4, 29.8, 38.5, 44.5, 43.2, 44.3, 39.3, 34.1, 42.7, 43.2, 41.3, 34.1, 32.5, 32.5, 29.7, 29.9, 34.2, 39.0, 39.7, 38.7, 35.8, 34.7, 33.9, 34.2, 39.3, 44.0, 40.7, 40.7, 38.9, 35.6, 29.8, 38.2, 39.1, 41.2, 43.4, 41.6, 34.5, 31.2, 30.5, 36.0, 39.5, 45.0, 43.2], \"xaxis\": \"x2\", \"yaxis\": \"y2\"}, {\"hoverlabel\": {\"namelength\": 0}, \"hovertemplate\": \"Province/State=Stockholm\", \"legendgroup\": \"Province/State=Stockholm\", \"marker\": {\"color\": \"#19d3f3\", \"symbol\": \"circle\"}, \"mode\": \"lines\", \"name\": \"Province/State=Stockholm\", \"showlegend\": false, \"type\": \"scatter\", \"xaxis\": \"x\", \"yaxis\": \"y\"}, {\"hoverlabel\": {\"namelength\": 0}, \"hovertemplate\": \"Province/State=Doha<br>TempAvg=%{x}<br>Confirmed=%{y}\", \"legendgroup\": \"Province/State=Doha\", \"marker\": {\"color\": \"#FF6692\", \"symbol\": \"circle\"}, \"mode\": \"markers\", \"name\": \"Province/State=Doha\", \"showlegend\": true, \"type\": \"scatter\", \"x\": [69.5, 68.2, 70.8, 74.1, 75.6, 71.8, 67.8, 68.6, 67.9, 69.0, 69.8, 68.8, 68.4, 69.3, 68.6, 69.9, 72.6, 71.5, 68.0, 71.4, 70.2, 70.9, 74.8, 76.6, 76.1, 74.7, 76.6, 78.1, 75.6, 75.5, 75.3, 71.0, 70.9, 71.8, 72.3], \"xaxis\": \"x\", \"y\": [1, 2, 0, 4, 1, 0, 0, 0, 7, 3, 6, 238, 0, 58, 17, 64, 38, 0, 13, 8, 10, 11, 13, 7, 25, 11, 12, 13, 28, 44, 59, 88, 54, 114, 126], \"yaxis\": \"y\"}, {\"alignmentgroup\": \"True\", \"hoverlabel\": {\"namelength\": 0}, \"hovertemplate\": \"Province/State=Doha<br>TempAvg=%{x}\", \"legendgroup\": \"Province/State=Doha\", \"marker\": {\"color\": \"#FF6692\", \"symbol\": \"circle\"}, \"name\": \"Province/State=Doha\", \"notched\": true, \"offsetgroup\": \"Province/State=Doha\", \"showlegend\": false, \"type\": \"box\", \"x\": [69.5, 68.2, 70.8, 74.1, 75.6, 71.8, 67.8, 68.6, 67.9, 69.0, 69.8, 68.8, 68.4, 69.3, 68.6, 69.9, 72.6, 71.5, 68.0, 71.4, 70.2, 70.9, 74.8, 76.6, 76.1, 74.7, 76.6, 78.1, 75.6, 75.5, 75.3, 71.0, 70.9, 71.8, 72.3], \"xaxis\": \"x2\", \"yaxis\": \"y2\"}, {\"hoverlabel\": {\"namelength\": 0}, \"hovertemplate\": \"Province/State=Doha\", \"legendgroup\": \"Province/State=Doha\", \"marker\": {\"color\": \"#FF6692\", \"symbol\": \"circle\"}, \"mode\": \"lines\", \"name\": \"Province/State=Doha\", \"showlegend\": false, \"type\": \"scatter\", \"xaxis\": \"x\", \"yaxis\": \"y\"}, {\"hoverlabel\": {\"namelength\": 0}, \"hovertemplate\": \"Province/State=Dubai<br>TempAvg=%{x}<br>Confirmed=%{y}\", \"legendgroup\": \"Province/State=Dubai\", \"marker\": {\"color\": \"#B6E880\", \"symbol\": \"circle\"}, \"mode\": \"markers\", \"name\": \"Province/State=Dubai\", \"showlegend\": true, \"type\": \"scatter\", \"x\": [68.7, 69.8, 73.2, 69.0, 67.4, 65.2, 65.2, 65.0, 67.3, 67.3, 65.3, 67.0, 67.7, 66.9, 67.5, 65.9, 68.0, 69.3, 72.4, 75.0, 74.8, 71.8, 65.1, 64.4, 65.7, 66.4, 71.9, 75.3, 73.9, 75.6, 77.4, 75.3, 76.7, 77.8, 80.0, 81.7, 79.2, 71.1, 70.5, 72.5, 72.5, 75.3, 71.7, 70.6, 71.6, 73.4, 75.4, 76.3, 73.0, 74.8, 72.8, 71.9, 74.6, 79.4, 81.0, 77.7, 77.8, 80.5, 83.3, 83.2, 75.7, 76.0, 72.5, 70.6, 70.7, 73.9], \"xaxis\": \"x\", \"y\": [4, 0, 0, 0, 1, 0, 0, 0, 0, 0, 2, 0, 1, 0, 0, 0, 0, 0, 1, 0, 0, 0, 0, 0, 4, 0, 0, 0, 0, 0, 6, 2, 0, 0, 6, 0, 2, 0, 16, 0, 0, 29, 0, 11, 0, 0, 13, 0, 0, 15, 27, 0, 13, 0, 45, 50, 85, 0, 72, 63, 102, 41, 53, 150, 210, 240], \"yaxis\": \"y\"}, {\"alignmentgroup\": \"True\", \"hoverlabel\": {\"namelength\": 0}, \"hovertemplate\": \"Province/State=Dubai<br>TempAvg=%{x}\", \"legendgroup\": \"Province/State=Dubai\", \"marker\": {\"color\": \"#B6E880\", \"symbol\": \"circle\"}, \"name\": \"Province/State=Dubai\", \"notched\": true, \"offsetgroup\": \"Province/State=Dubai\", \"showlegend\": false, \"type\": \"box\", \"x\": [68.7, 69.8, 73.2, 69.0, 67.4, 65.2, 65.2, 65.0, 67.3, 67.3, 65.3, 67.0, 67.7, 66.9, 67.5, 65.9, 68.0, 69.3, 72.4, 75.0, 74.8, 71.8, 65.1, 64.4, 65.7, 66.4, 71.9, 75.3, 73.9, 75.6, 77.4, 75.3, 76.7, 77.8, 80.0, 81.7, 79.2, 71.1, 70.5, 72.5, 72.5, 75.3, 71.7, 70.6, 71.6, 73.4, 75.4, 76.3, 73.0, 74.8, 72.8, 71.9, 74.6, 79.4, 81.0, 77.7, 77.8, 80.5, 83.3, 83.2, 75.7, 76.0, 72.5, 70.6, 70.7, 73.9], \"xaxis\": \"x2\", \"yaxis\": \"y2\"}, {\"hoverlabel\": {\"namelength\": 0}, \"hovertemplate\": \"Province/State=Dubai\", \"legendgroup\": \"Province/State=Dubai\", \"marker\": {\"color\": \"#B6E880\", \"symbol\": \"circle\"}, \"mode\": \"lines\", \"name\": \"Province/State=Dubai\", \"showlegend\": false, \"type\": \"scatter\", \"xaxis\": \"x\", \"yaxis\": \"y\"}, {\"hoverlabel\": {\"namelength\": 0}, \"hovertemplate\": \"Province/State=Dakar<br>TempAvg=%{x}<br>Confirmed=%{y}\", \"legendgroup\": \"Province/State=Dakar\", \"marker\": {\"color\": \"#FF97FF\", \"symbol\": \"circle\"}, \"mode\": \"markers\", \"name\": \"Province/State=Dakar\", \"showlegend\": true, \"type\": \"scatter\", \"x\": [72.2, 74.2, 86.9, 80.7, 78.0, 75.4, 73.9, 74.3, 76.1, 80.2, 75.3, 74.7, 74.9, 75.8, 75.5, 75.5, 77.8, 76.1, 77.2, 76.4, 75.0, 74.2, 74.2, 72.3, 73.1, 72.6, 73.1, 74.1, 72.3, 70.8, 68.5, 68.3, 69.9], \"xaxis\": \"x\", \"y\": [1, 1, 2, 0, 0, 0, 0, 0, 0, 0, 0, 6, 0, 14, 0, 2, 5, 0, 7, 9, 20, 12, 7, 13, 6, 14, 11, 12, 20, 13, 15, 5, 12], \"yaxis\": \"y\"}, {\"alignmentgroup\": \"True\", \"hoverlabel\": {\"namelength\": 0}, \"hovertemplate\": \"Province/State=Dakar<br>TempAvg=%{x}\", \"legendgroup\": \"Province/State=Dakar\", \"marker\": {\"color\": \"#FF97FF\", \"symbol\": \"circle\"}, \"name\": \"Province/State=Dakar\", \"notched\": true, \"offsetgroup\": \"Province/State=Dakar\", \"showlegend\": false, \"type\": \"box\", \"x\": [72.2, 74.2, 86.9, 80.7, 78.0, 75.4, 73.9, 74.3, 76.1, 80.2, 75.3, 74.7, 74.9, 75.8, 75.5, 75.5, 77.8, 76.1, 77.2, 76.4, 75.0, 74.2, 74.2, 72.3, 73.1, 72.6, 73.1, 74.1, 72.3, 70.8, 68.5, 68.3, 69.9], \"xaxis\": \"x2\", \"yaxis\": \"y2\"}, {\"hoverlabel\": {\"namelength\": 0}, \"hovertemplate\": \"Province/State=Dakar\", \"legendgroup\": \"Province/State=Dakar\", \"marker\": {\"color\": \"#FF97FF\", \"symbol\": \"circle\"}, \"mode\": \"lines\", \"name\": \"Province/State=Dakar\", \"showlegend\": false, \"type\": \"scatter\", \"xaxis\": \"x\", \"yaxis\": \"y\"}],\n",
       "                        {\"height\": 600, \"legend\": {\"tracegroupgap\": 0}, \"template\": {\"data\": {\"bar\": [{\"error_x\": {\"color\": \"#2a3f5f\"}, \"error_y\": {\"color\": \"#2a3f5f\"}, \"marker\": {\"line\": {\"color\": \"#E5ECF6\", \"width\": 0.5}}, \"type\": \"bar\"}], \"barpolar\": [{\"marker\": {\"line\": {\"color\": \"#E5ECF6\", \"width\": 0.5}}, \"type\": \"barpolar\"}], \"carpet\": [{\"aaxis\": {\"endlinecolor\": \"#2a3f5f\", \"gridcolor\": \"white\", \"linecolor\": \"white\", \"minorgridcolor\": \"white\", \"startlinecolor\": \"#2a3f5f\"}, \"baxis\": {\"endlinecolor\": \"#2a3f5f\", \"gridcolor\": \"white\", \"linecolor\": \"white\", \"minorgridcolor\": \"white\", \"startlinecolor\": \"#2a3f5f\"}, \"type\": \"carpet\"}], \"choropleth\": [{\"colorbar\": {\"outlinewidth\": 0, \"ticks\": \"\"}, \"type\": \"choropleth\"}], \"contour\": [{\"colorbar\": {\"outlinewidth\": 0, \"ticks\": \"\"}, \"colorscale\": [[0.0, \"#0d0887\"], [0.1111111111111111, \"#46039f\"], [0.2222222222222222, \"#7201a8\"], [0.3333333333333333, \"#9c179e\"], [0.4444444444444444, \"#bd3786\"], [0.5555555555555556, \"#d8576b\"], [0.6666666666666666, \"#ed7953\"], [0.7777777777777778, \"#fb9f3a\"], [0.8888888888888888, \"#fdca26\"], [1.0, \"#f0f921\"]], \"type\": \"contour\"}], \"contourcarpet\": [{\"colorbar\": {\"outlinewidth\": 0, \"ticks\": \"\"}, \"type\": \"contourcarpet\"}], \"heatmap\": [{\"colorbar\": {\"outlinewidth\": 0, \"ticks\": \"\"}, \"colorscale\": [[0.0, \"#0d0887\"], [0.1111111111111111, \"#46039f\"], [0.2222222222222222, \"#7201a8\"], [0.3333333333333333, \"#9c179e\"], [0.4444444444444444, \"#bd3786\"], [0.5555555555555556, \"#d8576b\"], [0.6666666666666666, \"#ed7953\"], [0.7777777777777778, \"#fb9f3a\"], [0.8888888888888888, \"#fdca26\"], [1.0, \"#f0f921\"]], \"type\": \"heatmap\"}], \"heatmapgl\": [{\"colorbar\": {\"outlinewidth\": 0, \"ticks\": \"\"}, \"colorscale\": [[0.0, \"#0d0887\"], [0.1111111111111111, \"#46039f\"], [0.2222222222222222, \"#7201a8\"], [0.3333333333333333, \"#9c179e\"], [0.4444444444444444, \"#bd3786\"], [0.5555555555555556, \"#d8576b\"], [0.6666666666666666, \"#ed7953\"], [0.7777777777777778, \"#fb9f3a\"], [0.8888888888888888, \"#fdca26\"], [1.0, \"#f0f921\"]], \"type\": \"heatmapgl\"}], \"histogram\": [{\"marker\": {\"colorbar\": {\"outlinewidth\": 0, \"ticks\": \"\"}}, \"type\": \"histogram\"}], \"histogram2d\": [{\"colorbar\": {\"outlinewidth\": 0, \"ticks\": \"\"}, \"colorscale\": [[0.0, \"#0d0887\"], [0.1111111111111111, \"#46039f\"], [0.2222222222222222, \"#7201a8\"], [0.3333333333333333, \"#9c179e\"], [0.4444444444444444, \"#bd3786\"], [0.5555555555555556, \"#d8576b\"], [0.6666666666666666, \"#ed7953\"], [0.7777777777777778, \"#fb9f3a\"], [0.8888888888888888, \"#fdca26\"], [1.0, \"#f0f921\"]], \"type\": \"histogram2d\"}], \"histogram2dcontour\": [{\"colorbar\": {\"outlinewidth\": 0, \"ticks\": \"\"}, \"colorscale\": [[0.0, \"#0d0887\"], [0.1111111111111111, \"#46039f\"], [0.2222222222222222, \"#7201a8\"], [0.3333333333333333, \"#9c179e\"], [0.4444444444444444, \"#bd3786\"], [0.5555555555555556, \"#d8576b\"], [0.6666666666666666, \"#ed7953\"], [0.7777777777777778, \"#fb9f3a\"], [0.8888888888888888, \"#fdca26\"], [1.0, \"#f0f921\"]], \"type\": \"histogram2dcontour\"}], \"mesh3d\": [{\"colorbar\": {\"outlinewidth\": 0, \"ticks\": \"\"}, \"type\": \"mesh3d\"}], \"parcoords\": [{\"line\": {\"colorbar\": {\"outlinewidth\": 0, \"ticks\": \"\"}}, \"type\": \"parcoords\"}], \"pie\": [{\"automargin\": true, \"type\": \"pie\"}], \"scatter\": [{\"marker\": {\"colorbar\": {\"outlinewidth\": 0, \"ticks\": \"\"}}, \"type\": \"scatter\"}], \"scatter3d\": [{\"line\": {\"colorbar\": {\"outlinewidth\": 0, \"ticks\": \"\"}}, \"marker\": {\"colorbar\": {\"outlinewidth\": 0, \"ticks\": \"\"}}, \"type\": \"scatter3d\"}], \"scattercarpet\": [{\"marker\": {\"colorbar\": {\"outlinewidth\": 0, \"ticks\": \"\"}}, \"type\": \"scattercarpet\"}], \"scattergeo\": [{\"marker\": {\"colorbar\": {\"outlinewidth\": 0, \"ticks\": \"\"}}, \"type\": \"scattergeo\"}], \"scattergl\": [{\"marker\": {\"colorbar\": {\"outlinewidth\": 0, \"ticks\": \"\"}}, \"type\": \"scattergl\"}], \"scattermapbox\": [{\"marker\": {\"colorbar\": {\"outlinewidth\": 0, \"ticks\": \"\"}}, \"type\": \"scattermapbox\"}], \"scatterpolar\": [{\"marker\": {\"colorbar\": {\"outlinewidth\": 0, \"ticks\": \"\"}}, \"type\": \"scatterpolar\"}], \"scatterpolargl\": [{\"marker\": {\"colorbar\": {\"outlinewidth\": 0, \"ticks\": \"\"}}, \"type\": \"scatterpolargl\"}], \"scatterternary\": [{\"marker\": {\"colorbar\": {\"outlinewidth\": 0, \"ticks\": \"\"}}, \"type\": \"scatterternary\"}], \"surface\": [{\"colorbar\": {\"outlinewidth\": 0, \"ticks\": \"\"}, \"colorscale\": [[0.0, \"#0d0887\"], [0.1111111111111111, \"#46039f\"], [0.2222222222222222, \"#7201a8\"], [0.3333333333333333, \"#9c179e\"], [0.4444444444444444, \"#bd3786\"], [0.5555555555555556, \"#d8576b\"], [0.6666666666666666, \"#ed7953\"], [0.7777777777777778, \"#fb9f3a\"], [0.8888888888888888, \"#fdca26\"], [1.0, \"#f0f921\"]], \"type\": \"surface\"}], \"table\": [{\"cells\": {\"fill\": {\"color\": \"#EBF0F8\"}, \"line\": {\"color\": \"white\"}}, \"header\": {\"fill\": {\"color\": \"#C8D4E3\"}, \"line\": {\"color\": \"white\"}}, \"type\": \"table\"}]}, \"layout\": {\"annotationdefaults\": {\"arrowcolor\": \"#2a3f5f\", \"arrowhead\": 0, \"arrowwidth\": 1}, \"coloraxis\": {\"colorbar\": {\"outlinewidth\": 0, \"ticks\": \"\"}}, \"colorscale\": {\"diverging\": [[0, \"#8e0152\"], [0.1, \"#c51b7d\"], [0.2, \"#de77ae\"], [0.3, \"#f1b6da\"], [0.4, \"#fde0ef\"], [0.5, \"#f7f7f7\"], [0.6, \"#e6f5d0\"], [0.7, \"#b8e186\"], [0.8, \"#7fbc41\"], [0.9, \"#4d9221\"], [1, \"#276419\"]], \"sequential\": [[0.0, \"#0d0887\"], [0.1111111111111111, \"#46039f\"], [0.2222222222222222, \"#7201a8\"], [0.3333333333333333, \"#9c179e\"], [0.4444444444444444, \"#bd3786\"], [0.5555555555555556, \"#d8576b\"], [0.6666666666666666, \"#ed7953\"], [0.7777777777777778, \"#fb9f3a\"], [0.8888888888888888, \"#fdca26\"], [1.0, \"#f0f921\"]], \"sequentialminus\": [[0.0, \"#0d0887\"], [0.1111111111111111, \"#46039f\"], [0.2222222222222222, \"#7201a8\"], [0.3333333333333333, \"#9c179e\"], [0.4444444444444444, \"#bd3786\"], [0.5555555555555556, \"#d8576b\"], [0.6666666666666666, \"#ed7953\"], [0.7777777777777778, \"#fb9f3a\"], [0.8888888888888888, \"#fdca26\"], [1.0, \"#f0f921\"]]}, \"colorway\": [\"#636efa\", \"#EF553B\", \"#00cc96\", \"#ab63fa\", \"#FFA15A\", \"#19d3f3\", \"#FF6692\", \"#B6E880\", \"#FF97FF\", \"#FECB52\"], \"font\": {\"color\": \"#2a3f5f\"}, \"geo\": {\"bgcolor\": \"white\", \"lakecolor\": \"white\", \"landcolor\": \"#E5ECF6\", \"showlakes\": true, \"showland\": true, \"subunitcolor\": \"white\"}, \"hoverlabel\": {\"align\": \"left\"}, \"hovermode\": \"closest\", \"mapbox\": {\"style\": \"light\"}, \"paper_bgcolor\": \"white\", \"plot_bgcolor\": \"#E5ECF6\", \"polar\": {\"angularaxis\": {\"gridcolor\": \"white\", \"linecolor\": \"white\", \"ticks\": \"\"}, \"bgcolor\": \"#E5ECF6\", \"radialaxis\": {\"gridcolor\": \"white\", \"linecolor\": \"white\", \"ticks\": \"\"}}, \"scene\": {\"xaxis\": {\"backgroundcolor\": \"#E5ECF6\", \"gridcolor\": \"white\", \"gridwidth\": 2, \"linecolor\": \"white\", \"showbackground\": true, \"ticks\": \"\", \"zerolinecolor\": \"white\"}, \"yaxis\": {\"backgroundcolor\": \"#E5ECF6\", \"gridcolor\": \"white\", \"gridwidth\": 2, \"linecolor\": \"white\", \"showbackground\": true, \"ticks\": \"\", \"zerolinecolor\": \"white\"}, \"zaxis\": {\"backgroundcolor\": \"#E5ECF6\", \"gridcolor\": \"white\", \"gridwidth\": 2, \"linecolor\": \"white\", \"showbackground\": true, \"ticks\": \"\", \"zerolinecolor\": \"white\"}}, \"shapedefaults\": {\"line\": {\"color\": \"#2a3f5f\"}}, \"ternary\": {\"aaxis\": {\"gridcolor\": \"white\", \"linecolor\": \"white\", \"ticks\": \"\"}, \"baxis\": {\"gridcolor\": \"white\", \"linecolor\": \"white\", \"ticks\": \"\"}, \"bgcolor\": \"#E5ECF6\", \"caxis\": {\"gridcolor\": \"white\", \"linecolor\": \"white\", \"ticks\": \"\"}}, \"title\": {\"x\": 0.05}, \"xaxis\": {\"automargin\": true, \"gridcolor\": \"white\", \"linecolor\": \"white\", \"ticks\": \"\", \"title\": {\"standoff\": 15}, \"zerolinecolor\": \"white\", \"zerolinewidth\": 2}, \"yaxis\": {\"automargin\": true, \"gridcolor\": \"white\", \"linecolor\": \"white\", \"ticks\": \"\", \"title\": {\"standoff\": 15}, \"zerolinecolor\": \"white\", \"zerolinewidth\": 2}}}, \"title\": {\"text\": \"New Infections vs Temperature\"}, \"xaxis\": {\"anchor\": \"y\", \"domain\": [0.0, 1.0], \"title\": {\"text\": \"TempAvg\"}}, \"xaxis2\": {\"anchor\": \"y2\", \"domain\": [0.0, 1.0], \"matches\": \"x\", \"showgrid\": true, \"showticklabels\": false}, \"yaxis\": {\"anchor\": \"x\", \"domain\": [0.0, 0.7326], \"title\": {\"text\": \"Confirmed\"}}, \"yaxis2\": {\"anchor\": \"x2\", \"domain\": [0.7426, 1.0], \"matches\": \"y2\", \"showgrid\": false, \"showline\": false, \"showticklabels\": false, \"ticks\": \"\"}},\n",
       "                        {\"responsive\": true}\n",
       "                    ).then(function(){\n",
       "                            \n",
       "var gd = document.getElementById('14bbce48-de57-49f3-986e-6c9717c5886a');\n",
       "var x = new MutationObserver(function (mutations, observer) {{\n",
       "        var display = window.getComputedStyle(gd).display;\n",
       "        if (!display || display === 'none') {{\n",
       "            console.log([gd, 'removed!']);\n",
       "            Plotly.purge(gd);\n",
       "            observer.disconnect();\n",
       "        }}\n",
       "}});\n",
       "\n",
       "// Listen for the removal of the full notebook cells\n",
       "var notebookContainer = gd.closest('#notebook-container');\n",
       "if (notebookContainer) {{\n",
       "    x.observe(notebookContainer, {childList: true});\n",
       "}}\n",
       "\n",
       "// Listen for the clearing of the current output cell\n",
       "var outputEl = gd.closest('.output');\n",
       "if (outputEl) {{\n",
       "    x.observe(outputEl, {childList: true});\n",
       "}}\n",
       "\n",
       "                        })\n",
       "                };\n",
       "                });\n",
       "            </script>\n",
       "        </div>"
      ]
     },
     "metadata": {},
     "output_type": "display_data"
    }
   ],
   "source": [
    "# Scatterplot between the Average Temperature and the number of Cases by Province/State\n",
    "px.scatter(covid_weather, x=\"TempAvg\", y=\"Confirmed\", color=\"Province/State\",\n",
    "                 marginal_y=None, marginal_x=\"box\", trendline=\"o\",\n",
    "          title='New Infections vs Temperature')"
   ]
  },
  {
   "cell_type": "markdown",
   "metadata": {},
   "source": [
    "As we exposed at the beginning of this section, it could be interesting (and potentially better for visualization) to create 3 clusters using the temperature variable. Probably and given the descriptive and exploratory analysis that we did so far, we know between which ranges the temperature will vary, but I think it's better to use a K-means algorithm to find for us these intervals."
   ]
  },
  {
   "cell_type": "code",
   "execution_count": 354,
   "metadata": {},
   "outputs": [
    {
     "data": {
      "text/html": [
       "<div>\n",
       "<style scoped>\n",
       "    .dataframe tbody tr th:only-of-type {\n",
       "        vertical-align: middle;\n",
       "    }\n",
       "\n",
       "    .dataframe tbody tr th {\n",
       "        vertical-align: top;\n",
       "    }\n",
       "\n",
       "    .dataframe thead tr th {\n",
       "        text-align: left;\n",
       "    }\n",
       "\n",
       "    .dataframe thead tr:last-of-type th {\n",
       "        text-align: right;\n",
       "    }\n",
       "</style>\n",
       "<table border=\"1\" class=\"dataframe\">\n",
       "  <thead>\n",
       "    <tr>\n",
       "      <th></th>\n",
       "      <th>min</th>\n",
       "      <th>max</th>\n",
       "    </tr>\n",
       "    <tr>\n",
       "      <th></th>\n",
       "      <th>TempAvg</th>\n",
       "      <th>TempAvg</th>\n",
       "    </tr>\n",
       "    <tr>\n",
       "      <th>Cluster_Temp</th>\n",
       "      <th></th>\n",
       "      <th></th>\n",
       "    </tr>\n",
       "  </thead>\n",
       "  <tbody>\n",
       "    <tr>\n",
       "      <th>0</th>\n",
       "      <td>40.3</td>\n",
       "      <td>59.3</td>\n",
       "    </tr>\n",
       "    <tr>\n",
       "      <th>1</th>\n",
       "      <td>60.3</td>\n",
       "      <td>86.9</td>\n",
       "    </tr>\n",
       "    <tr>\n",
       "      <th>2</th>\n",
       "      <td>14.0</td>\n",
       "      <td>39.7</td>\n",
       "    </tr>\n",
       "  </tbody>\n",
       "</table>\n",
       "</div>"
      ],
      "text/plain": [
       "                 min     max\n",
       "             TempAvg TempAvg\n",
       "Cluster_Temp                \n",
       "0               40.3    59.3\n",
       "1               60.3    86.9\n",
       "2               14.0    39.7"
      ]
     },
     "execution_count": 354,
     "metadata": {},
     "output_type": "execute_result"
    }
   ],
   "source": [
    "# Import k-means from sklearn\n",
    "from sklearn.cluster import KMeans\n",
    "# Extract the information  about the temperatures\n",
    "X=np.array(covid_weather['TempAvg'])\n",
    "# Cluster\n",
    "kmeans = KMeans(n_clusters=3, random_state=0).fit(X.reshape(-1,1))\n",
    "# Include the labels in our data frame in the variable \"Cluster_Temp\"\n",
    "covid_weather['Cluster_Temp']=kmeans.labels_\n",
    "# Compute the min and max teperatures values in each cluster\n",
    "covid_weather.pivot_table(index='Cluster_Temp',values='TempAvg',aggfunc=['min','max'])"
   ]
  },
  {
   "cell_type": "markdown",
   "metadata": {},
   "source": [
    "The above table resumes the results of the k-means analysis. The results look very similar to what we expected, note that one of the cluster (cluster #2) groups temperatures under $\\approx 40^o F$ while the cluster #1 groups temperatures greater than $60^o F$. Finally, the cluster #0 groups temperatures between $\\approx 40$ and $60^o F$.    \n",
    "Now, let's transform the new variable `Cluster_Temp` to include the ranges of values as labels instead of integer labels than don't provide much information."
   ]
  },
  {
   "cell_type": "code",
   "execution_count": 367,
   "metadata": {},
   "outputs": [
    {
     "data": {
      "application/vnd.plotly.v1+json": {
       "config": {
        "plotlyServerURL": "https://plot.ly"
       },
       "data": [
        {
         "hoverlabel": {
          "namelength": 0
         },
         "hovertemplate": "Cluster_Temp=%{y}<br>TempAvg=%{x}",
         "legendgroup": "Cluster_Temp=40-60 F",
         "marker": {
          "color": "#636efa",
          "symbol": "circle"
         },
         "mode": "markers",
         "name": "Cluster_Temp=40-60 F",
         "showlegend": true,
         "type": "scatter",
         "x": [
          48.2,
          52.4,
          50.5,
          44.8,
          41.6,
          41,
          47.8,
          59.3,
          50.4,
          44.7,
          54.6,
          48.9,
          46.8,
          47.5,
          47.6,
          46.2,
          56,
          48.5,
          44,
          42.8,
          47,
          45.2,
          45.4,
          43.5,
          41.7,
          52.1,
          53.7,
          51.1,
          54.2,
          56.9,
          53.3,
          52,
          50.2,
          45.9,
          41.2,
          44.4,
          44,
          46.7,
          48.1,
          46.4,
          49.5,
          52.1,
          47.5,
          45.7,
          48.7,
          47.4,
          46.3,
          45.6,
          44.4,
          48,
          48.6,
          50.5,
          50.5,
          49,
          52.4,
          52.9,
          51,
          51.1,
          52.6,
          51.8,
          51.3,
          58.3,
          55,
          49.1,
          46.9,
          47.1,
          53.8,
          54.4,
          58.6,
          59.3,
          54.9,
          45.1,
          50.8,
          54.3,
          54.9,
          52.9,
          48.2,
          48.5,
          50.4,
          53.4,
          53,
          48.2,
          46.2,
          49.3,
          50,
          46.9,
          45.2,
          45.9,
          46.6,
          50.2,
          55.4,
          52.1,
          49.1,
          45.8,
          49.8,
          44.7,
          44.2,
          40.8,
          46.6,
          45.5,
          43.9,
          43.7,
          48.1,
          47.4,
          45.6,
          49.5,
          53.8,
          52.5,
          58.9,
          51.2,
          47.1,
          48.1,
          49.5,
          52.4,
          55.4,
          54.1,
          55,
          53.3,
          43.3,
          42.9,
          42.4,
          40.7,
          45,
          48.6,
          41.6,
          43,
          40.9,
          41.9,
          57.5,
          46.8,
          49.5,
          45,
          41.4,
          41,
          42.8,
          49.9,
          46,
          43.8,
          42.1,
          44.7,
          44.8,
          42.7,
          40.8,
          49.1,
          57.6,
          59.3,
          49.8,
          44.3,
          44.3,
          44.8,
          52.3,
          52.6,
          54.5,
          43.1,
          41.9,
          43.3,
          40.7,
          42.4,
          40.3,
          43,
          44.5,
          43.2,
          44.3,
          42.7,
          43.2,
          41.3,
          44,
          40.7,
          40.7,
          41.2,
          43.4,
          41.6,
          45,
          43.2
         ],
         "xaxis": "x",
         "y": [
          "40-60 F",
          "40-60 F",
          "40-60 F",
          "40-60 F",
          "40-60 F",
          "40-60 F",
          "40-60 F",
          "40-60 F",
          "40-60 F",
          "40-60 F",
          "40-60 F",
          "40-60 F",
          "40-60 F",
          "40-60 F",
          "40-60 F",
          "40-60 F",
          "40-60 F",
          "40-60 F",
          "40-60 F",
          "40-60 F",
          "40-60 F",
          "40-60 F",
          "40-60 F",
          "40-60 F",
          "40-60 F",
          "40-60 F",
          "40-60 F",
          "40-60 F",
          "40-60 F",
          "40-60 F",
          "40-60 F",
          "40-60 F",
          "40-60 F",
          "40-60 F",
          "40-60 F",
          "40-60 F",
          "40-60 F",
          "40-60 F",
          "40-60 F",
          "40-60 F",
          "40-60 F",
          "40-60 F",
          "40-60 F",
          "40-60 F",
          "40-60 F",
          "40-60 F",
          "40-60 F",
          "40-60 F",
          "40-60 F",
          "40-60 F",
          "40-60 F",
          "40-60 F",
          "40-60 F",
          "40-60 F",
          "40-60 F",
          "40-60 F",
          "40-60 F",
          "40-60 F",
          "40-60 F",
          "40-60 F",
          "40-60 F",
          "40-60 F",
          "40-60 F",
          "40-60 F",
          "40-60 F",
          "40-60 F",
          "40-60 F",
          "40-60 F",
          "40-60 F",
          "40-60 F",
          "40-60 F",
          "40-60 F",
          "40-60 F",
          "40-60 F",
          "40-60 F",
          "40-60 F",
          "40-60 F",
          "40-60 F",
          "40-60 F",
          "40-60 F",
          "40-60 F",
          "40-60 F",
          "40-60 F",
          "40-60 F",
          "40-60 F",
          "40-60 F",
          "40-60 F",
          "40-60 F",
          "40-60 F",
          "40-60 F",
          "40-60 F",
          "40-60 F",
          "40-60 F",
          "40-60 F",
          "40-60 F",
          "40-60 F",
          "40-60 F",
          "40-60 F",
          "40-60 F",
          "40-60 F",
          "40-60 F",
          "40-60 F",
          "40-60 F",
          "40-60 F",
          "40-60 F",
          "40-60 F",
          "40-60 F",
          "40-60 F",
          "40-60 F",
          "40-60 F",
          "40-60 F",
          "40-60 F",
          "40-60 F",
          "40-60 F",
          "40-60 F",
          "40-60 F",
          "40-60 F",
          "40-60 F",
          "40-60 F",
          "40-60 F",
          "40-60 F",
          "40-60 F",
          "40-60 F",
          "40-60 F",
          "40-60 F",
          "40-60 F",
          "40-60 F",
          "40-60 F",
          "40-60 F",
          "40-60 F",
          "40-60 F",
          "40-60 F",
          "40-60 F",
          "40-60 F",
          "40-60 F",
          "40-60 F",
          "40-60 F",
          "40-60 F",
          "40-60 F",
          "40-60 F",
          "40-60 F",
          "40-60 F",
          "40-60 F",
          "40-60 F",
          "40-60 F",
          "40-60 F",
          "40-60 F",
          "40-60 F",
          "40-60 F",
          "40-60 F",
          "40-60 F",
          "40-60 F",
          "40-60 F",
          "40-60 F",
          "40-60 F",
          "40-60 F",
          "40-60 F",
          "40-60 F",
          "40-60 F",
          "40-60 F",
          "40-60 F",
          "40-60 F",
          "40-60 F",
          "40-60 F",
          "40-60 F",
          "40-60 F",
          "40-60 F",
          "40-60 F",
          "40-60 F",
          "40-60 F",
          "40-60 F",
          "40-60 F",
          "40-60 F",
          "40-60 F"
         ],
         "yaxis": "y"
        },
        {
         "hoverlabel": {
          "namelength": 0
         },
         "hovertemplate": "Cluster_Temp=40-60 F",
         "legendgroup": "Cluster_Temp=40-60 F",
         "marker": {
          "color": "#636efa",
          "symbol": "circle"
         },
         "mode": "lines",
         "name": "Cluster_Temp=40-60 F",
         "showlegend": false,
         "type": "scatter",
         "xaxis": "x",
         "yaxis": "y"
        },
        {
         "hoverlabel": {
          "namelength": 0
         },
         "hovertemplate": "Cluster_Temp=%{y}<br>TempAvg=%{x}",
         "legendgroup": "Cluster_Temp=>60 F",
         "marker": {
          "color": "#EF553B",
          "symbol": "circle"
         },
         "mode": "markers",
         "name": "Cluster_Temp=>60 F",
         "showlegend": true,
         "type": "scatter",
         "x": [
          61,
          60.3,
          60.4,
          69.5,
          68.2,
          70.8,
          74.1,
          75.6,
          71.8,
          67.8,
          68.6,
          67.9,
          69,
          69.8,
          68.8,
          68.4,
          69.3,
          68.6,
          69.9,
          72.6,
          71.5,
          68,
          71.4,
          70.2,
          70.9,
          74.8,
          76.6,
          76.1,
          74.7,
          76.6,
          78.1,
          75.6,
          75.5,
          75.3,
          71,
          70.9,
          71.8,
          72.3,
          68.7,
          69.8,
          73.2,
          69,
          67.4,
          65.2,
          65.2,
          65,
          67.3,
          67.3,
          65.3,
          67,
          67.7,
          66.9,
          67.5,
          65.9,
          68,
          69.3,
          72.4,
          75,
          74.8,
          71.8,
          65.1,
          64.4,
          65.7,
          66.4,
          71.9,
          75.3,
          73.9,
          75.6,
          77.4,
          75.3,
          76.7,
          77.8,
          80,
          81.7,
          79.2,
          71.1,
          70.5,
          72.5,
          72.5,
          75.3,
          71.7,
          70.6,
          71.6,
          73.4,
          75.4,
          76.3,
          73,
          74.8,
          72.8,
          71.9,
          74.6,
          79.4,
          81,
          77.7,
          77.8,
          80.5,
          83.3,
          83.2,
          75.7,
          76,
          72.5,
          70.6,
          70.7,
          73.9,
          72.2,
          74.2,
          86.9,
          80.7,
          78,
          75.4,
          73.9,
          74.3,
          76.1,
          80.2,
          75.3,
          74.7,
          74.9,
          75.8,
          75.5,
          75.5,
          77.8,
          76.1,
          77.2,
          76.4,
          75,
          74.2,
          74.2,
          72.3,
          73.1,
          72.6,
          73.1,
          74.1,
          72.3,
          70.8,
          68.5,
          68.3,
          69.9
         ],
         "xaxis": "x",
         "y": [
          ">60 F",
          ">60 F",
          ">60 F",
          ">60 F",
          ">60 F",
          ">60 F",
          ">60 F",
          ">60 F",
          ">60 F",
          ">60 F",
          ">60 F",
          ">60 F",
          ">60 F",
          ">60 F",
          ">60 F",
          ">60 F",
          ">60 F",
          ">60 F",
          ">60 F",
          ">60 F",
          ">60 F",
          ">60 F",
          ">60 F",
          ">60 F",
          ">60 F",
          ">60 F",
          ">60 F",
          ">60 F",
          ">60 F",
          ">60 F",
          ">60 F",
          ">60 F",
          ">60 F",
          ">60 F",
          ">60 F",
          ">60 F",
          ">60 F",
          ">60 F",
          ">60 F",
          ">60 F",
          ">60 F",
          ">60 F",
          ">60 F",
          ">60 F",
          ">60 F",
          ">60 F",
          ">60 F",
          ">60 F",
          ">60 F",
          ">60 F",
          ">60 F",
          ">60 F",
          ">60 F",
          ">60 F",
          ">60 F",
          ">60 F",
          ">60 F",
          ">60 F",
          ">60 F",
          ">60 F",
          ">60 F",
          ">60 F",
          ">60 F",
          ">60 F",
          ">60 F",
          ">60 F",
          ">60 F",
          ">60 F",
          ">60 F",
          ">60 F",
          ">60 F",
          ">60 F",
          ">60 F",
          ">60 F",
          ">60 F",
          ">60 F",
          ">60 F",
          ">60 F",
          ">60 F",
          ">60 F",
          ">60 F",
          ">60 F",
          ">60 F",
          ">60 F",
          ">60 F",
          ">60 F",
          ">60 F",
          ">60 F",
          ">60 F",
          ">60 F",
          ">60 F",
          ">60 F",
          ">60 F",
          ">60 F",
          ">60 F",
          ">60 F",
          ">60 F",
          ">60 F",
          ">60 F",
          ">60 F",
          ">60 F",
          ">60 F",
          ">60 F",
          ">60 F",
          ">60 F",
          ">60 F",
          ">60 F",
          ">60 F",
          ">60 F",
          ">60 F",
          ">60 F",
          ">60 F",
          ">60 F",
          ">60 F",
          ">60 F",
          ">60 F",
          ">60 F",
          ">60 F",
          ">60 F",
          ">60 F",
          ">60 F",
          ">60 F",
          ">60 F",
          ">60 F",
          ">60 F",
          ">60 F",
          ">60 F",
          ">60 F",
          ">60 F",
          ">60 F",
          ">60 F",
          ">60 F",
          ">60 F",
          ">60 F",
          ">60 F",
          ">60 F",
          ">60 F"
         ],
         "yaxis": "y"
        },
        {
         "hoverlabel": {
          "namelength": 0
         },
         "hovertemplate": "Cluster_Temp=>60 F",
         "legendgroup": "Cluster_Temp=>60 F",
         "marker": {
          "color": "#EF553B",
          "symbol": "circle"
         },
         "mode": "lines",
         "name": "Cluster_Temp=>60 F",
         "showlegend": false,
         "type": "scatter",
         "xaxis": "x",
         "yaxis": "y"
        },
        {
         "hoverlabel": {
          "namelength": 0
         },
         "hovertemplate": "Cluster_Temp=%{y}<br>TempAvg=%{x}",
         "legendgroup": "Cluster_Temp=<40 F",
         "marker": {
          "color": "#00cc96",
          "symbol": "circle"
         },
         "mode": "markers",
         "name": "Cluster_Temp=<40 F",
         "showlegend": true,
         "type": "scatter",
         "x": [
          39.3,
          38.4,
          39.2,
          15.3,
          19.2,
          31.7,
          32.8,
          29,
          25.5,
          19.5,
          28.7,
          22.4,
          26.6,
          21.6,
          19.6,
          31.9,
          31.1,
          20.4,
          15.7,
          29.4,
          25.4,
          30.6,
          36.1,
          21.1,
          14,
          24.5,
          32.2,
          31.8,
          34.1,
          39.6,
          37.9,
          33.8,
          32.7,
          34.9,
          32.3,
          39.5,
          34,
          36.1,
          38.5,
          38,
          34.7,
          36.7,
          39.3,
          30.1,
          27.3,
          32.8,
          32,
          30.1,
          36.8,
          38.7,
          37.3,
          33.4,
          29.8,
          38.5,
          39.3,
          34.1,
          34.1,
          32.5,
          32.5,
          29.7,
          29.9,
          34.2,
          39,
          39.7,
          38.7,
          35.8,
          34.7,
          33.9,
          34.2,
          39.3,
          38.9,
          35.6,
          29.8,
          38.2,
          39.1,
          34.5,
          31.2,
          30.5,
          36,
          39.5
         ],
         "xaxis": "x",
         "y": [
          "<40 F",
          "<40 F",
          "<40 F",
          "<40 F",
          "<40 F",
          "<40 F",
          "<40 F",
          "<40 F",
          "<40 F",
          "<40 F",
          "<40 F",
          "<40 F",
          "<40 F",
          "<40 F",
          "<40 F",
          "<40 F",
          "<40 F",
          "<40 F",
          "<40 F",
          "<40 F",
          "<40 F",
          "<40 F",
          "<40 F",
          "<40 F",
          "<40 F",
          "<40 F",
          "<40 F",
          "<40 F",
          "<40 F",
          "<40 F",
          "<40 F",
          "<40 F",
          "<40 F",
          "<40 F",
          "<40 F",
          "<40 F",
          "<40 F",
          "<40 F",
          "<40 F",
          "<40 F",
          "<40 F",
          "<40 F",
          "<40 F",
          "<40 F",
          "<40 F",
          "<40 F",
          "<40 F",
          "<40 F",
          "<40 F",
          "<40 F",
          "<40 F",
          "<40 F",
          "<40 F",
          "<40 F",
          "<40 F",
          "<40 F",
          "<40 F",
          "<40 F",
          "<40 F",
          "<40 F",
          "<40 F",
          "<40 F",
          "<40 F",
          "<40 F",
          "<40 F",
          "<40 F",
          "<40 F",
          "<40 F",
          "<40 F",
          "<40 F",
          "<40 F",
          "<40 F",
          "<40 F",
          "<40 F",
          "<40 F",
          "<40 F",
          "<40 F",
          "<40 F",
          "<40 F",
          "<40 F"
         ],
         "yaxis": "y"
        },
        {
         "hoverlabel": {
          "namelength": 0
         },
         "hovertemplate": "Cluster_Temp=<40 F",
         "legendgroup": "Cluster_Temp=<40 F",
         "marker": {
          "color": "#00cc96",
          "symbol": "circle"
         },
         "mode": "lines",
         "name": "Cluster_Temp=<40 F",
         "showlegend": false,
         "type": "scatter",
         "xaxis": "x",
         "yaxis": "y"
        }
       ],
       "layout": {
        "height": 300,
        "legend": {
         "tracegroupgap": 0
        },
        "margin": {
         "t": 60
        },
        "template": {
         "data": {
          "bar": [
           {
            "error_x": {
             "color": "#2a3f5f"
            },
            "error_y": {
             "color": "#2a3f5f"
            },
            "marker": {
             "line": {
              "color": "#E5ECF6",
              "width": 0.5
             }
            },
            "type": "bar"
           }
          ],
          "barpolar": [
           {
            "marker": {
             "line": {
              "color": "#E5ECF6",
              "width": 0.5
             }
            },
            "type": "barpolar"
           }
          ],
          "carpet": [
           {
            "aaxis": {
             "endlinecolor": "#2a3f5f",
             "gridcolor": "white",
             "linecolor": "white",
             "minorgridcolor": "white",
             "startlinecolor": "#2a3f5f"
            },
            "baxis": {
             "endlinecolor": "#2a3f5f",
             "gridcolor": "white",
             "linecolor": "white",
             "minorgridcolor": "white",
             "startlinecolor": "#2a3f5f"
            },
            "type": "carpet"
           }
          ],
          "choropleth": [
           {
            "colorbar": {
             "outlinewidth": 0,
             "ticks": ""
            },
            "type": "choropleth"
           }
          ],
          "contour": [
           {
            "colorbar": {
             "outlinewidth": 0,
             "ticks": ""
            },
            "colorscale": [
             [
              0,
              "#0d0887"
             ],
             [
              0.1111111111111111,
              "#46039f"
             ],
             [
              0.2222222222222222,
              "#7201a8"
             ],
             [
              0.3333333333333333,
              "#9c179e"
             ],
             [
              0.4444444444444444,
              "#bd3786"
             ],
             [
              0.5555555555555556,
              "#d8576b"
             ],
             [
              0.6666666666666666,
              "#ed7953"
             ],
             [
              0.7777777777777778,
              "#fb9f3a"
             ],
             [
              0.8888888888888888,
              "#fdca26"
             ],
             [
              1,
              "#f0f921"
             ]
            ],
            "type": "contour"
           }
          ],
          "contourcarpet": [
           {
            "colorbar": {
             "outlinewidth": 0,
             "ticks": ""
            },
            "type": "contourcarpet"
           }
          ],
          "heatmap": [
           {
            "colorbar": {
             "outlinewidth": 0,
             "ticks": ""
            },
            "colorscale": [
             [
              0,
              "#0d0887"
             ],
             [
              0.1111111111111111,
              "#46039f"
             ],
             [
              0.2222222222222222,
              "#7201a8"
             ],
             [
              0.3333333333333333,
              "#9c179e"
             ],
             [
              0.4444444444444444,
              "#bd3786"
             ],
             [
              0.5555555555555556,
              "#d8576b"
             ],
             [
              0.6666666666666666,
              "#ed7953"
             ],
             [
              0.7777777777777778,
              "#fb9f3a"
             ],
             [
              0.8888888888888888,
              "#fdca26"
             ],
             [
              1,
              "#f0f921"
             ]
            ],
            "type": "heatmap"
           }
          ],
          "heatmapgl": [
           {
            "colorbar": {
             "outlinewidth": 0,
             "ticks": ""
            },
            "colorscale": [
             [
              0,
              "#0d0887"
             ],
             [
              0.1111111111111111,
              "#46039f"
             ],
             [
              0.2222222222222222,
              "#7201a8"
             ],
             [
              0.3333333333333333,
              "#9c179e"
             ],
             [
              0.4444444444444444,
              "#bd3786"
             ],
             [
              0.5555555555555556,
              "#d8576b"
             ],
             [
              0.6666666666666666,
              "#ed7953"
             ],
             [
              0.7777777777777778,
              "#fb9f3a"
             ],
             [
              0.8888888888888888,
              "#fdca26"
             ],
             [
              1,
              "#f0f921"
             ]
            ],
            "type": "heatmapgl"
           }
          ],
          "histogram": [
           {
            "marker": {
             "colorbar": {
              "outlinewidth": 0,
              "ticks": ""
             }
            },
            "type": "histogram"
           }
          ],
          "histogram2d": [
           {
            "colorbar": {
             "outlinewidth": 0,
             "ticks": ""
            },
            "colorscale": [
             [
              0,
              "#0d0887"
             ],
             [
              0.1111111111111111,
              "#46039f"
             ],
             [
              0.2222222222222222,
              "#7201a8"
             ],
             [
              0.3333333333333333,
              "#9c179e"
             ],
             [
              0.4444444444444444,
              "#bd3786"
             ],
             [
              0.5555555555555556,
              "#d8576b"
             ],
             [
              0.6666666666666666,
              "#ed7953"
             ],
             [
              0.7777777777777778,
              "#fb9f3a"
             ],
             [
              0.8888888888888888,
              "#fdca26"
             ],
             [
              1,
              "#f0f921"
             ]
            ],
            "type": "histogram2d"
           }
          ],
          "histogram2dcontour": [
           {
            "colorbar": {
             "outlinewidth": 0,
             "ticks": ""
            },
            "colorscale": [
             [
              0,
              "#0d0887"
             ],
             [
              0.1111111111111111,
              "#46039f"
             ],
             [
              0.2222222222222222,
              "#7201a8"
             ],
             [
              0.3333333333333333,
              "#9c179e"
             ],
             [
              0.4444444444444444,
              "#bd3786"
             ],
             [
              0.5555555555555556,
              "#d8576b"
             ],
             [
              0.6666666666666666,
              "#ed7953"
             ],
             [
              0.7777777777777778,
              "#fb9f3a"
             ],
             [
              0.8888888888888888,
              "#fdca26"
             ],
             [
              1,
              "#f0f921"
             ]
            ],
            "type": "histogram2dcontour"
           }
          ],
          "mesh3d": [
           {
            "colorbar": {
             "outlinewidth": 0,
             "ticks": ""
            },
            "type": "mesh3d"
           }
          ],
          "parcoords": [
           {
            "line": {
             "colorbar": {
              "outlinewidth": 0,
              "ticks": ""
             }
            },
            "type": "parcoords"
           }
          ],
          "pie": [
           {
            "automargin": true,
            "type": "pie"
           }
          ],
          "scatter": [
           {
            "marker": {
             "colorbar": {
              "outlinewidth": 0,
              "ticks": ""
             }
            },
            "type": "scatter"
           }
          ],
          "scatter3d": [
           {
            "line": {
             "colorbar": {
              "outlinewidth": 0,
              "ticks": ""
             }
            },
            "marker": {
             "colorbar": {
              "outlinewidth": 0,
              "ticks": ""
             }
            },
            "type": "scatter3d"
           }
          ],
          "scattercarpet": [
           {
            "marker": {
             "colorbar": {
              "outlinewidth": 0,
              "ticks": ""
             }
            },
            "type": "scattercarpet"
           }
          ],
          "scattergeo": [
           {
            "marker": {
             "colorbar": {
              "outlinewidth": 0,
              "ticks": ""
             }
            },
            "type": "scattergeo"
           }
          ],
          "scattergl": [
           {
            "marker": {
             "colorbar": {
              "outlinewidth": 0,
              "ticks": ""
             }
            },
            "type": "scattergl"
           }
          ],
          "scattermapbox": [
           {
            "marker": {
             "colorbar": {
              "outlinewidth": 0,
              "ticks": ""
             }
            },
            "type": "scattermapbox"
           }
          ],
          "scatterpolar": [
           {
            "marker": {
             "colorbar": {
              "outlinewidth": 0,
              "ticks": ""
             }
            },
            "type": "scatterpolar"
           }
          ],
          "scatterpolargl": [
           {
            "marker": {
             "colorbar": {
              "outlinewidth": 0,
              "ticks": ""
             }
            },
            "type": "scatterpolargl"
           }
          ],
          "scatterternary": [
           {
            "marker": {
             "colorbar": {
              "outlinewidth": 0,
              "ticks": ""
             }
            },
            "type": "scatterternary"
           }
          ],
          "surface": [
           {
            "colorbar": {
             "outlinewidth": 0,
             "ticks": ""
            },
            "colorscale": [
             [
              0,
              "#0d0887"
             ],
             [
              0.1111111111111111,
              "#46039f"
             ],
             [
              0.2222222222222222,
              "#7201a8"
             ],
             [
              0.3333333333333333,
              "#9c179e"
             ],
             [
              0.4444444444444444,
              "#bd3786"
             ],
             [
              0.5555555555555556,
              "#d8576b"
             ],
             [
              0.6666666666666666,
              "#ed7953"
             ],
             [
              0.7777777777777778,
              "#fb9f3a"
             ],
             [
              0.8888888888888888,
              "#fdca26"
             ],
             [
              1,
              "#f0f921"
             ]
            ],
            "type": "surface"
           }
          ],
          "table": [
           {
            "cells": {
             "fill": {
              "color": "#EBF0F8"
             },
             "line": {
              "color": "white"
             }
            },
            "header": {
             "fill": {
              "color": "#C8D4E3"
             },
             "line": {
              "color": "white"
             }
            },
            "type": "table"
           }
          ]
         },
         "layout": {
          "annotationdefaults": {
           "arrowcolor": "#2a3f5f",
           "arrowhead": 0,
           "arrowwidth": 1
          },
          "coloraxis": {
           "colorbar": {
            "outlinewidth": 0,
            "ticks": ""
           }
          },
          "colorscale": {
           "diverging": [
            [
             0,
             "#8e0152"
            ],
            [
             0.1,
             "#c51b7d"
            ],
            [
             0.2,
             "#de77ae"
            ],
            [
             0.3,
             "#f1b6da"
            ],
            [
             0.4,
             "#fde0ef"
            ],
            [
             0.5,
             "#f7f7f7"
            ],
            [
             0.6,
             "#e6f5d0"
            ],
            [
             0.7,
             "#b8e186"
            ],
            [
             0.8,
             "#7fbc41"
            ],
            [
             0.9,
             "#4d9221"
            ],
            [
             1,
             "#276419"
            ]
           ],
           "sequential": [
            [
             0,
             "#0d0887"
            ],
            [
             0.1111111111111111,
             "#46039f"
            ],
            [
             0.2222222222222222,
             "#7201a8"
            ],
            [
             0.3333333333333333,
             "#9c179e"
            ],
            [
             0.4444444444444444,
             "#bd3786"
            ],
            [
             0.5555555555555556,
             "#d8576b"
            ],
            [
             0.6666666666666666,
             "#ed7953"
            ],
            [
             0.7777777777777778,
             "#fb9f3a"
            ],
            [
             0.8888888888888888,
             "#fdca26"
            ],
            [
             1,
             "#f0f921"
            ]
           ],
           "sequentialminus": [
            [
             0,
             "#0d0887"
            ],
            [
             0.1111111111111111,
             "#46039f"
            ],
            [
             0.2222222222222222,
             "#7201a8"
            ],
            [
             0.3333333333333333,
             "#9c179e"
            ],
            [
             0.4444444444444444,
             "#bd3786"
            ],
            [
             0.5555555555555556,
             "#d8576b"
            ],
            [
             0.6666666666666666,
             "#ed7953"
            ],
            [
             0.7777777777777778,
             "#fb9f3a"
            ],
            [
             0.8888888888888888,
             "#fdca26"
            ],
            [
             1,
             "#f0f921"
            ]
           ]
          },
          "colorway": [
           "#636efa",
           "#EF553B",
           "#00cc96",
           "#ab63fa",
           "#FFA15A",
           "#19d3f3",
           "#FF6692",
           "#B6E880",
           "#FF97FF",
           "#FECB52"
          ],
          "font": {
           "color": "#2a3f5f"
          },
          "geo": {
           "bgcolor": "white",
           "lakecolor": "white",
           "landcolor": "#E5ECF6",
           "showlakes": true,
           "showland": true,
           "subunitcolor": "white"
          },
          "hoverlabel": {
           "align": "left"
          },
          "hovermode": "closest",
          "mapbox": {
           "style": "light"
          },
          "paper_bgcolor": "white",
          "plot_bgcolor": "#E5ECF6",
          "polar": {
           "angularaxis": {
            "gridcolor": "white",
            "linecolor": "white",
            "ticks": ""
           },
           "bgcolor": "#E5ECF6",
           "radialaxis": {
            "gridcolor": "white",
            "linecolor": "white",
            "ticks": ""
           }
          },
          "scene": {
           "xaxis": {
            "backgroundcolor": "#E5ECF6",
            "gridcolor": "white",
            "gridwidth": 2,
            "linecolor": "white",
            "showbackground": true,
            "ticks": "",
            "zerolinecolor": "white"
           },
           "yaxis": {
            "backgroundcolor": "#E5ECF6",
            "gridcolor": "white",
            "gridwidth": 2,
            "linecolor": "white",
            "showbackground": true,
            "ticks": "",
            "zerolinecolor": "white"
           },
           "zaxis": {
            "backgroundcolor": "#E5ECF6",
            "gridcolor": "white",
            "gridwidth": 2,
            "linecolor": "white",
            "showbackground": true,
            "ticks": "",
            "zerolinecolor": "white"
           }
          },
          "shapedefaults": {
           "line": {
            "color": "#2a3f5f"
           }
          },
          "ternary": {
           "aaxis": {
            "gridcolor": "white",
            "linecolor": "white",
            "ticks": ""
           },
           "baxis": {
            "gridcolor": "white",
            "linecolor": "white",
            "ticks": ""
           },
           "bgcolor": "#E5ECF6",
           "caxis": {
            "gridcolor": "white",
            "linecolor": "white",
            "ticks": ""
           }
          },
          "title": {
           "x": 0.05
          },
          "xaxis": {
           "automargin": true,
           "gridcolor": "white",
           "linecolor": "white",
           "ticks": "",
           "title": {
            "standoff": 15
           },
           "zerolinecolor": "white",
           "zerolinewidth": 2
          },
          "yaxis": {
           "automargin": true,
           "gridcolor": "white",
           "linecolor": "white",
           "ticks": "",
           "title": {
            "standoff": 15
           },
           "zerolinecolor": "white",
           "zerolinewidth": 2
          }
         }
        },
        "width": 900,
        "xaxis": {
         "anchor": "y",
         "domain": [
          0,
          1
         ],
         "title": {
          "text": "TempAvg"
         }
        },
        "yaxis": {
         "anchor": "x",
         "categoryarray": [
          "<40 F",
          ">60 F",
          "40-60 F"
         ],
         "categoryorder": "array",
         "domain": [
          0,
          1
         ],
         "title": {
          "text": "Cluster_Temp"
         }
        }
       }
      },
      "text/html": [
       "<div>\n",
       "        \n",
       "        \n",
       "            <div id=\"13c3f1d2-0318-484c-831d-31a5e81298aa\" class=\"plotly-graph-div\" style=\"height:300px; width:900px;\"></div>\n",
       "            <script type=\"text/javascript\">\n",
       "                require([\"plotly\"], function(Plotly) {\n",
       "                    window.PLOTLYENV=window.PLOTLYENV || {};\n",
       "                    \n",
       "                if (document.getElementById(\"13c3f1d2-0318-484c-831d-31a5e81298aa\")) {\n",
       "                    Plotly.newPlot(\n",
       "                        '13c3f1d2-0318-484c-831d-31a5e81298aa',\n",
       "                        [{\"hoverlabel\": {\"namelength\": 0}, \"hovertemplate\": \"Cluster_Temp=%{y}<br>TempAvg=%{x}\", \"legendgroup\": \"Cluster_Temp=40-60 F\", \"marker\": {\"color\": \"#636efa\", \"symbol\": \"circle\"}, \"mode\": \"markers\", \"name\": \"Cluster_Temp=40-60 F\", \"showlegend\": true, \"type\": \"scatter\", \"x\": [48.2, 52.4, 50.5, 44.8, 41.6, 41.0, 47.8, 59.3, 50.4, 44.7, 54.6, 48.9, 46.8, 47.5, 47.6, 46.2, 56.0, 48.5, 44.0, 42.8, 47.0, 45.2, 45.4, 43.5, 41.7, 52.1, 53.7, 51.1, 54.2, 56.9, 53.3, 52.0, 50.2, 45.9, 41.2, 44.4, 44.0, 46.7, 48.1, 46.4, 49.5, 52.1, 47.5, 45.7, 48.7, 47.4, 46.3, 45.6, 44.4, 48.0, 48.6, 50.5, 50.5, 49.0, 52.4, 52.9, 51.0, 51.1, 52.6, 51.8, 51.3, 58.3, 55.0, 49.1, 46.9, 47.1, 53.8, 54.4, 58.6, 59.3, 54.9, 45.1, 50.8, 54.3, 54.9, 52.9, 48.2, 48.5, 50.4, 53.4, 53.0, 48.2, 46.2, 49.3, 50.0, 46.9, 45.2, 45.9, 46.6, 50.2, 55.4, 52.1, 49.1, 45.8, 49.8, 44.7, 44.2, 40.8, 46.6, 45.5, 43.9, 43.7, 48.1, 47.4, 45.6, 49.5, 53.8, 52.5, 58.9, 51.2, 47.1, 48.1, 49.5, 52.4, 55.4, 54.1, 55.0, 53.3, 43.3, 42.9, 42.4, 40.7, 45.0, 48.6, 41.6, 43.0, 40.9, 41.9, 57.5, 46.8, 49.5, 45.0, 41.4, 41.0, 42.8, 49.9, 46.0, 43.8, 42.1, 44.7, 44.8, 42.7, 40.8, 49.1, 57.6, 59.3, 49.8, 44.3, 44.3, 44.8, 52.3, 52.6, 54.5, 43.1, 41.9, 43.3, 40.7, 42.4, 40.3, 43.0, 44.5, 43.2, 44.3, 42.7, 43.2, 41.3, 44.0, 40.7, 40.7, 41.2, 43.4, 41.6, 45.0, 43.2], \"xaxis\": \"x\", \"y\": [\"40-60 F\", \"40-60 F\", \"40-60 F\", \"40-60 F\", \"40-60 F\", \"40-60 F\", \"40-60 F\", \"40-60 F\", \"40-60 F\", \"40-60 F\", \"40-60 F\", \"40-60 F\", \"40-60 F\", \"40-60 F\", \"40-60 F\", \"40-60 F\", \"40-60 F\", \"40-60 F\", \"40-60 F\", \"40-60 F\", \"40-60 F\", \"40-60 F\", \"40-60 F\", \"40-60 F\", \"40-60 F\", \"40-60 F\", \"40-60 F\", \"40-60 F\", \"40-60 F\", \"40-60 F\", \"40-60 F\", \"40-60 F\", \"40-60 F\", \"40-60 F\", \"40-60 F\", \"40-60 F\", \"40-60 F\", \"40-60 F\", \"40-60 F\", \"40-60 F\", \"40-60 F\", \"40-60 F\", \"40-60 F\", \"40-60 F\", \"40-60 F\", \"40-60 F\", \"40-60 F\", \"40-60 F\", \"40-60 F\", \"40-60 F\", \"40-60 F\", \"40-60 F\", \"40-60 F\", \"40-60 F\", \"40-60 F\", \"40-60 F\", \"40-60 F\", \"40-60 F\", \"40-60 F\", \"40-60 F\", \"40-60 F\", \"40-60 F\", \"40-60 F\", \"40-60 F\", \"40-60 F\", \"40-60 F\", \"40-60 F\", \"40-60 F\", \"40-60 F\", \"40-60 F\", \"40-60 F\", \"40-60 F\", \"40-60 F\", \"40-60 F\", \"40-60 F\", \"40-60 F\", \"40-60 F\", \"40-60 F\", \"40-60 F\", \"40-60 F\", \"40-60 F\", \"40-60 F\", \"40-60 F\", \"40-60 F\", \"40-60 F\", \"40-60 F\", \"40-60 F\", \"40-60 F\", \"40-60 F\", \"40-60 F\", \"40-60 F\", \"40-60 F\", \"40-60 F\", \"40-60 F\", \"40-60 F\", \"40-60 F\", \"40-60 F\", \"40-60 F\", \"40-60 F\", \"40-60 F\", \"40-60 F\", \"40-60 F\", \"40-60 F\", \"40-60 F\", \"40-60 F\", \"40-60 F\", \"40-60 F\", \"40-60 F\", \"40-60 F\", \"40-60 F\", \"40-60 F\", \"40-60 F\", \"40-60 F\", \"40-60 F\", \"40-60 F\", \"40-60 F\", \"40-60 F\", \"40-60 F\", \"40-60 F\", \"40-60 F\", \"40-60 F\", \"40-60 F\", \"40-60 F\", \"40-60 F\", \"40-60 F\", \"40-60 F\", \"40-60 F\", \"40-60 F\", \"40-60 F\", \"40-60 F\", \"40-60 F\", \"40-60 F\", \"40-60 F\", \"40-60 F\", \"40-60 F\", \"40-60 F\", \"40-60 F\", \"40-60 F\", \"40-60 F\", \"40-60 F\", \"40-60 F\", \"40-60 F\", \"40-60 F\", \"40-60 F\", \"40-60 F\", \"40-60 F\", \"40-60 F\", \"40-60 F\", \"40-60 F\", \"40-60 F\", \"40-60 F\", \"40-60 F\", \"40-60 F\", \"40-60 F\", \"40-60 F\", \"40-60 F\", \"40-60 F\", \"40-60 F\", \"40-60 F\", \"40-60 F\", \"40-60 F\", \"40-60 F\", \"40-60 F\", \"40-60 F\", \"40-60 F\", \"40-60 F\", \"40-60 F\", \"40-60 F\", \"40-60 F\", \"40-60 F\", \"40-60 F\", \"40-60 F\", \"40-60 F\", \"40-60 F\"], \"yaxis\": \"y\"}, {\"hoverlabel\": {\"namelength\": 0}, \"hovertemplate\": \"Cluster_Temp=40-60 F\", \"legendgroup\": \"Cluster_Temp=40-60 F\", \"marker\": {\"color\": \"#636efa\", \"symbol\": \"circle\"}, \"mode\": \"lines\", \"name\": \"Cluster_Temp=40-60 F\", \"showlegend\": false, \"type\": \"scatter\", \"xaxis\": \"x\", \"yaxis\": \"y\"}, {\"hoverlabel\": {\"namelength\": 0}, \"hovertemplate\": \"Cluster_Temp=%{y}<br>TempAvg=%{x}\", \"legendgroup\": \"Cluster_Temp=>60 F\", \"marker\": {\"color\": \"#EF553B\", \"symbol\": \"circle\"}, \"mode\": \"markers\", \"name\": \"Cluster_Temp=>60 F\", \"showlegend\": true, \"type\": \"scatter\", \"x\": [61.0, 60.3, 60.4, 69.5, 68.2, 70.8, 74.1, 75.6, 71.8, 67.8, 68.6, 67.9, 69.0, 69.8, 68.8, 68.4, 69.3, 68.6, 69.9, 72.6, 71.5, 68.0, 71.4, 70.2, 70.9, 74.8, 76.6, 76.1, 74.7, 76.6, 78.1, 75.6, 75.5, 75.3, 71.0, 70.9, 71.8, 72.3, 68.7, 69.8, 73.2, 69.0, 67.4, 65.2, 65.2, 65.0, 67.3, 67.3, 65.3, 67.0, 67.7, 66.9, 67.5, 65.9, 68.0, 69.3, 72.4, 75.0, 74.8, 71.8, 65.1, 64.4, 65.7, 66.4, 71.9, 75.3, 73.9, 75.6, 77.4, 75.3, 76.7, 77.8, 80.0, 81.7, 79.2, 71.1, 70.5, 72.5, 72.5, 75.3, 71.7, 70.6, 71.6, 73.4, 75.4, 76.3, 73.0, 74.8, 72.8, 71.9, 74.6, 79.4, 81.0, 77.7, 77.8, 80.5, 83.3, 83.2, 75.7, 76.0, 72.5, 70.6, 70.7, 73.9, 72.2, 74.2, 86.9, 80.7, 78.0, 75.4, 73.9, 74.3, 76.1, 80.2, 75.3, 74.7, 74.9, 75.8, 75.5, 75.5, 77.8, 76.1, 77.2, 76.4, 75.0, 74.2, 74.2, 72.3, 73.1, 72.6, 73.1, 74.1, 72.3, 70.8, 68.5, 68.3, 69.9], \"xaxis\": \"x\", \"y\": [\">60 F\", \">60 F\", \">60 F\", \">60 F\", \">60 F\", \">60 F\", \">60 F\", \">60 F\", \">60 F\", \">60 F\", \">60 F\", \">60 F\", \">60 F\", \">60 F\", \">60 F\", \">60 F\", \">60 F\", \">60 F\", \">60 F\", \">60 F\", \">60 F\", \">60 F\", \">60 F\", \">60 F\", \">60 F\", \">60 F\", \">60 F\", \">60 F\", \">60 F\", \">60 F\", \">60 F\", \">60 F\", \">60 F\", \">60 F\", \">60 F\", \">60 F\", \">60 F\", \">60 F\", \">60 F\", \">60 F\", \">60 F\", \">60 F\", \">60 F\", \">60 F\", \">60 F\", \">60 F\", \">60 F\", \">60 F\", \">60 F\", \">60 F\", \">60 F\", \">60 F\", \">60 F\", \">60 F\", \">60 F\", \">60 F\", \">60 F\", \">60 F\", \">60 F\", \">60 F\", \">60 F\", \">60 F\", \">60 F\", \">60 F\", \">60 F\", \">60 F\", \">60 F\", \">60 F\", \">60 F\", \">60 F\", \">60 F\", \">60 F\", \">60 F\", \">60 F\", \">60 F\", \">60 F\", \">60 F\", \">60 F\", \">60 F\", \">60 F\", \">60 F\", \">60 F\", \">60 F\", \">60 F\", \">60 F\", \">60 F\", \">60 F\", \">60 F\", \">60 F\", \">60 F\", \">60 F\", \">60 F\", \">60 F\", \">60 F\", \">60 F\", \">60 F\", \">60 F\", \">60 F\", \">60 F\", \">60 F\", \">60 F\", \">60 F\", \">60 F\", \">60 F\", \">60 F\", \">60 F\", \">60 F\", \">60 F\", \">60 F\", \">60 F\", \">60 F\", \">60 F\", \">60 F\", \">60 F\", \">60 F\", \">60 F\", \">60 F\", \">60 F\", \">60 F\", \">60 F\", \">60 F\", \">60 F\", \">60 F\", \">60 F\", \">60 F\", \">60 F\", \">60 F\", \">60 F\", \">60 F\", \">60 F\", \">60 F\", \">60 F\", \">60 F\", \">60 F\", \">60 F\", \">60 F\", \">60 F\"], \"yaxis\": \"y\"}, {\"hoverlabel\": {\"namelength\": 0}, \"hovertemplate\": \"Cluster_Temp=>60 F\", \"legendgroup\": \"Cluster_Temp=>60 F\", \"marker\": {\"color\": \"#EF553B\", \"symbol\": \"circle\"}, \"mode\": \"lines\", \"name\": \"Cluster_Temp=>60 F\", \"showlegend\": false, \"type\": \"scatter\", \"xaxis\": \"x\", \"yaxis\": \"y\"}, {\"hoverlabel\": {\"namelength\": 0}, \"hovertemplate\": \"Cluster_Temp=%{y}<br>TempAvg=%{x}\", \"legendgroup\": \"Cluster_Temp=<40 F\", \"marker\": {\"color\": \"#00cc96\", \"symbol\": \"circle\"}, \"mode\": \"markers\", \"name\": \"Cluster_Temp=<40 F\", \"showlegend\": true, \"type\": \"scatter\", \"x\": [39.3, 38.4, 39.2, 15.3, 19.2, 31.7, 32.8, 29.0, 25.5, 19.5, 28.7, 22.4, 26.6, 21.6, 19.6, 31.9, 31.1, 20.4, 15.7, 29.4, 25.4, 30.6, 36.1, 21.1, 14.0, 24.5, 32.2, 31.8, 34.1, 39.6, 37.9, 33.8, 32.7, 34.9, 32.3, 39.5, 34.0, 36.1, 38.5, 38.0, 34.7, 36.7, 39.3, 30.1, 27.3, 32.8, 32.0, 30.1, 36.8, 38.7, 37.3, 33.4, 29.8, 38.5, 39.3, 34.1, 34.1, 32.5, 32.5, 29.7, 29.9, 34.2, 39.0, 39.7, 38.7, 35.8, 34.7, 33.9, 34.2, 39.3, 38.9, 35.6, 29.8, 38.2, 39.1, 34.5, 31.2, 30.5, 36.0, 39.5], \"xaxis\": \"x\", \"y\": [\"<40 F\", \"<40 F\", \"<40 F\", \"<40 F\", \"<40 F\", \"<40 F\", \"<40 F\", \"<40 F\", \"<40 F\", \"<40 F\", \"<40 F\", \"<40 F\", \"<40 F\", \"<40 F\", \"<40 F\", \"<40 F\", \"<40 F\", \"<40 F\", \"<40 F\", \"<40 F\", \"<40 F\", \"<40 F\", \"<40 F\", \"<40 F\", \"<40 F\", \"<40 F\", \"<40 F\", \"<40 F\", \"<40 F\", \"<40 F\", \"<40 F\", \"<40 F\", \"<40 F\", \"<40 F\", \"<40 F\", \"<40 F\", \"<40 F\", \"<40 F\", \"<40 F\", \"<40 F\", \"<40 F\", \"<40 F\", \"<40 F\", \"<40 F\", \"<40 F\", \"<40 F\", \"<40 F\", \"<40 F\", \"<40 F\", \"<40 F\", \"<40 F\", \"<40 F\", \"<40 F\", \"<40 F\", \"<40 F\", \"<40 F\", \"<40 F\", \"<40 F\", \"<40 F\", \"<40 F\", \"<40 F\", \"<40 F\", \"<40 F\", \"<40 F\", \"<40 F\", \"<40 F\", \"<40 F\", \"<40 F\", \"<40 F\", \"<40 F\", \"<40 F\", \"<40 F\", \"<40 F\", \"<40 F\", \"<40 F\", \"<40 F\", \"<40 F\", \"<40 F\", \"<40 F\", \"<40 F\"], \"yaxis\": \"y\"}, {\"hoverlabel\": {\"namelength\": 0}, \"hovertemplate\": \"Cluster_Temp=<40 F\", \"legendgroup\": \"Cluster_Temp=<40 F\", \"marker\": {\"color\": \"#00cc96\", \"symbol\": \"circle\"}, \"mode\": \"lines\", \"name\": \"Cluster_Temp=<40 F\", \"showlegend\": false, \"type\": \"scatter\", \"xaxis\": \"x\", \"yaxis\": \"y\"}],\n",
       "                        {\"height\": 300, \"legend\": {\"tracegroupgap\": 0}, \"margin\": {\"t\": 60}, \"template\": {\"data\": {\"bar\": [{\"error_x\": {\"color\": \"#2a3f5f\"}, \"error_y\": {\"color\": \"#2a3f5f\"}, \"marker\": {\"line\": {\"color\": \"#E5ECF6\", \"width\": 0.5}}, \"type\": \"bar\"}], \"barpolar\": [{\"marker\": {\"line\": {\"color\": \"#E5ECF6\", \"width\": 0.5}}, \"type\": \"barpolar\"}], \"carpet\": [{\"aaxis\": {\"endlinecolor\": \"#2a3f5f\", \"gridcolor\": \"white\", \"linecolor\": \"white\", \"minorgridcolor\": \"white\", \"startlinecolor\": \"#2a3f5f\"}, \"baxis\": {\"endlinecolor\": \"#2a3f5f\", \"gridcolor\": \"white\", \"linecolor\": \"white\", \"minorgridcolor\": \"white\", \"startlinecolor\": \"#2a3f5f\"}, \"type\": \"carpet\"}], \"choropleth\": [{\"colorbar\": {\"outlinewidth\": 0, \"ticks\": \"\"}, \"type\": \"choropleth\"}], \"contour\": [{\"colorbar\": {\"outlinewidth\": 0, \"ticks\": \"\"}, \"colorscale\": [[0.0, \"#0d0887\"], [0.1111111111111111, \"#46039f\"], [0.2222222222222222, \"#7201a8\"], [0.3333333333333333, \"#9c179e\"], [0.4444444444444444, \"#bd3786\"], [0.5555555555555556, \"#d8576b\"], [0.6666666666666666, \"#ed7953\"], [0.7777777777777778, \"#fb9f3a\"], [0.8888888888888888, \"#fdca26\"], [1.0, \"#f0f921\"]], \"type\": \"contour\"}], \"contourcarpet\": [{\"colorbar\": {\"outlinewidth\": 0, \"ticks\": \"\"}, \"type\": \"contourcarpet\"}], \"heatmap\": [{\"colorbar\": {\"outlinewidth\": 0, \"ticks\": \"\"}, \"colorscale\": [[0.0, \"#0d0887\"], [0.1111111111111111, \"#46039f\"], [0.2222222222222222, \"#7201a8\"], [0.3333333333333333, \"#9c179e\"], [0.4444444444444444, \"#bd3786\"], [0.5555555555555556, \"#d8576b\"], [0.6666666666666666, \"#ed7953\"], [0.7777777777777778, \"#fb9f3a\"], [0.8888888888888888, \"#fdca26\"], [1.0, \"#f0f921\"]], \"type\": \"heatmap\"}], \"heatmapgl\": [{\"colorbar\": {\"outlinewidth\": 0, \"ticks\": \"\"}, \"colorscale\": [[0.0, \"#0d0887\"], [0.1111111111111111, \"#46039f\"], [0.2222222222222222, \"#7201a8\"], [0.3333333333333333, \"#9c179e\"], [0.4444444444444444, \"#bd3786\"], [0.5555555555555556, \"#d8576b\"], [0.6666666666666666, \"#ed7953\"], [0.7777777777777778, \"#fb9f3a\"], [0.8888888888888888, \"#fdca26\"], [1.0, \"#f0f921\"]], \"type\": \"heatmapgl\"}], \"histogram\": [{\"marker\": {\"colorbar\": {\"outlinewidth\": 0, \"ticks\": \"\"}}, \"type\": \"histogram\"}], \"histogram2d\": [{\"colorbar\": {\"outlinewidth\": 0, \"ticks\": \"\"}, \"colorscale\": [[0.0, \"#0d0887\"], [0.1111111111111111, \"#46039f\"], [0.2222222222222222, \"#7201a8\"], [0.3333333333333333, \"#9c179e\"], [0.4444444444444444, \"#bd3786\"], [0.5555555555555556, \"#d8576b\"], [0.6666666666666666, \"#ed7953\"], [0.7777777777777778, \"#fb9f3a\"], [0.8888888888888888, \"#fdca26\"], [1.0, \"#f0f921\"]], \"type\": \"histogram2d\"}], \"histogram2dcontour\": [{\"colorbar\": {\"outlinewidth\": 0, \"ticks\": \"\"}, \"colorscale\": [[0.0, \"#0d0887\"], [0.1111111111111111, \"#46039f\"], [0.2222222222222222, \"#7201a8\"], [0.3333333333333333, \"#9c179e\"], [0.4444444444444444, \"#bd3786\"], [0.5555555555555556, \"#d8576b\"], [0.6666666666666666, \"#ed7953\"], [0.7777777777777778, \"#fb9f3a\"], [0.8888888888888888, \"#fdca26\"], [1.0, \"#f0f921\"]], \"type\": \"histogram2dcontour\"}], \"mesh3d\": [{\"colorbar\": {\"outlinewidth\": 0, \"ticks\": \"\"}, \"type\": \"mesh3d\"}], \"parcoords\": [{\"line\": {\"colorbar\": {\"outlinewidth\": 0, \"ticks\": \"\"}}, \"type\": \"parcoords\"}], \"pie\": [{\"automargin\": true, \"type\": \"pie\"}], \"scatter\": [{\"marker\": {\"colorbar\": {\"outlinewidth\": 0, \"ticks\": \"\"}}, \"type\": \"scatter\"}], \"scatter3d\": [{\"line\": {\"colorbar\": {\"outlinewidth\": 0, \"ticks\": \"\"}}, \"marker\": {\"colorbar\": {\"outlinewidth\": 0, \"ticks\": \"\"}}, \"type\": \"scatter3d\"}], \"scattercarpet\": [{\"marker\": {\"colorbar\": {\"outlinewidth\": 0, \"ticks\": \"\"}}, \"type\": \"scattercarpet\"}], \"scattergeo\": [{\"marker\": {\"colorbar\": {\"outlinewidth\": 0, \"ticks\": \"\"}}, \"type\": \"scattergeo\"}], \"scattergl\": [{\"marker\": {\"colorbar\": {\"outlinewidth\": 0, \"ticks\": \"\"}}, \"type\": \"scattergl\"}], \"scattermapbox\": [{\"marker\": {\"colorbar\": {\"outlinewidth\": 0, \"ticks\": \"\"}}, \"type\": \"scattermapbox\"}], \"scatterpolar\": [{\"marker\": {\"colorbar\": {\"outlinewidth\": 0, \"ticks\": \"\"}}, \"type\": \"scatterpolar\"}], \"scatterpolargl\": [{\"marker\": {\"colorbar\": {\"outlinewidth\": 0, \"ticks\": \"\"}}, \"type\": \"scatterpolargl\"}], \"scatterternary\": [{\"marker\": {\"colorbar\": {\"outlinewidth\": 0, \"ticks\": \"\"}}, \"type\": \"scatterternary\"}], \"surface\": [{\"colorbar\": {\"outlinewidth\": 0, \"ticks\": \"\"}, \"colorscale\": [[0.0, \"#0d0887\"], [0.1111111111111111, \"#46039f\"], [0.2222222222222222, \"#7201a8\"], [0.3333333333333333, \"#9c179e\"], [0.4444444444444444, \"#bd3786\"], [0.5555555555555556, \"#d8576b\"], [0.6666666666666666, \"#ed7953\"], [0.7777777777777778, \"#fb9f3a\"], [0.8888888888888888, \"#fdca26\"], [1.0, \"#f0f921\"]], \"type\": \"surface\"}], \"table\": [{\"cells\": {\"fill\": {\"color\": \"#EBF0F8\"}, \"line\": {\"color\": \"white\"}}, \"header\": {\"fill\": {\"color\": \"#C8D4E3\"}, \"line\": {\"color\": \"white\"}}, \"type\": \"table\"}]}, \"layout\": {\"annotationdefaults\": {\"arrowcolor\": \"#2a3f5f\", \"arrowhead\": 0, \"arrowwidth\": 1}, \"coloraxis\": {\"colorbar\": {\"outlinewidth\": 0, \"ticks\": \"\"}}, \"colorscale\": {\"diverging\": [[0, \"#8e0152\"], [0.1, \"#c51b7d\"], [0.2, \"#de77ae\"], [0.3, \"#f1b6da\"], [0.4, \"#fde0ef\"], [0.5, \"#f7f7f7\"], [0.6, \"#e6f5d0\"], [0.7, \"#b8e186\"], [0.8, \"#7fbc41\"], [0.9, \"#4d9221\"], [1, \"#276419\"]], \"sequential\": [[0.0, \"#0d0887\"], [0.1111111111111111, \"#46039f\"], [0.2222222222222222, \"#7201a8\"], [0.3333333333333333, \"#9c179e\"], [0.4444444444444444, \"#bd3786\"], [0.5555555555555556, \"#d8576b\"], [0.6666666666666666, \"#ed7953\"], [0.7777777777777778, \"#fb9f3a\"], [0.8888888888888888, \"#fdca26\"], [1.0, \"#f0f921\"]], \"sequentialminus\": [[0.0, \"#0d0887\"], [0.1111111111111111, \"#46039f\"], [0.2222222222222222, \"#7201a8\"], [0.3333333333333333, \"#9c179e\"], [0.4444444444444444, \"#bd3786\"], [0.5555555555555556, \"#d8576b\"], [0.6666666666666666, \"#ed7953\"], [0.7777777777777778, \"#fb9f3a\"], [0.8888888888888888, \"#fdca26\"], [1.0, \"#f0f921\"]]}, \"colorway\": [\"#636efa\", \"#EF553B\", \"#00cc96\", \"#ab63fa\", \"#FFA15A\", \"#19d3f3\", \"#FF6692\", \"#B6E880\", \"#FF97FF\", \"#FECB52\"], \"font\": {\"color\": \"#2a3f5f\"}, \"geo\": {\"bgcolor\": \"white\", \"lakecolor\": \"white\", \"landcolor\": \"#E5ECF6\", \"showlakes\": true, \"showland\": true, \"subunitcolor\": \"white\"}, \"hoverlabel\": {\"align\": \"left\"}, \"hovermode\": \"closest\", \"mapbox\": {\"style\": \"light\"}, \"paper_bgcolor\": \"white\", \"plot_bgcolor\": \"#E5ECF6\", \"polar\": {\"angularaxis\": {\"gridcolor\": \"white\", \"linecolor\": \"white\", \"ticks\": \"\"}, \"bgcolor\": \"#E5ECF6\", \"radialaxis\": {\"gridcolor\": \"white\", \"linecolor\": \"white\", \"ticks\": \"\"}}, \"scene\": {\"xaxis\": {\"backgroundcolor\": \"#E5ECF6\", \"gridcolor\": \"white\", \"gridwidth\": 2, \"linecolor\": \"white\", \"showbackground\": true, \"ticks\": \"\", \"zerolinecolor\": \"white\"}, \"yaxis\": {\"backgroundcolor\": \"#E5ECF6\", \"gridcolor\": \"white\", \"gridwidth\": 2, \"linecolor\": \"white\", \"showbackground\": true, \"ticks\": \"\", \"zerolinecolor\": \"white\"}, \"zaxis\": {\"backgroundcolor\": \"#E5ECF6\", \"gridcolor\": \"white\", \"gridwidth\": 2, \"linecolor\": \"white\", \"showbackground\": true, \"ticks\": \"\", \"zerolinecolor\": \"white\"}}, \"shapedefaults\": {\"line\": {\"color\": \"#2a3f5f\"}}, \"ternary\": {\"aaxis\": {\"gridcolor\": \"white\", \"linecolor\": \"white\", \"ticks\": \"\"}, \"baxis\": {\"gridcolor\": \"white\", \"linecolor\": \"white\", \"ticks\": \"\"}, \"bgcolor\": \"#E5ECF6\", \"caxis\": {\"gridcolor\": \"white\", \"linecolor\": \"white\", \"ticks\": \"\"}}, \"title\": {\"x\": 0.05}, \"xaxis\": {\"automargin\": true, \"gridcolor\": \"white\", \"linecolor\": \"white\", \"ticks\": \"\", \"title\": {\"standoff\": 15}, \"zerolinecolor\": \"white\", \"zerolinewidth\": 2}, \"yaxis\": {\"automargin\": true, \"gridcolor\": \"white\", \"linecolor\": \"white\", \"ticks\": \"\", \"title\": {\"standoff\": 15}, \"zerolinecolor\": \"white\", \"zerolinewidth\": 2}}}, \"width\": 900, \"xaxis\": {\"anchor\": \"y\", \"domain\": [0.0, 1.0], \"title\": {\"text\": \"TempAvg\"}}, \"yaxis\": {\"anchor\": \"x\", \"categoryarray\": [\"<40 F\", \">60 F\", \"40-60 F\"], \"categoryorder\": \"array\", \"domain\": [0.0, 1.0], \"title\": {\"text\": \"Cluster_Temp\"}}},\n",
       "                        {\"responsive\": true}\n",
       "                    ).then(function(){\n",
       "                            \n",
       "var gd = document.getElementById('13c3f1d2-0318-484c-831d-31a5e81298aa');\n",
       "var x = new MutationObserver(function (mutations, observer) {{\n",
       "        var display = window.getComputedStyle(gd).display;\n",
       "        if (!display || display === 'none') {{\n",
       "            console.log([gd, 'removed!']);\n",
       "            Plotly.purge(gd);\n",
       "            observer.disconnect();\n",
       "        }}\n",
       "}});\n",
       "\n",
       "// Listen for the removal of the full notebook cells\n",
       "var notebookContainer = gd.closest('#notebook-container');\n",
       "if (notebookContainer) {{\n",
       "    x.observe(notebookContainer, {childList: true});\n",
       "}}\n",
       "\n",
       "// Listen for the clearing of the current output cell\n",
       "var outputEl = gd.closest('.output');\n",
       "if (outputEl) {{\n",
       "    x.observe(outputEl, {childList: true});\n",
       "}}\n",
       "\n",
       "                        })\n",
       "                };\n",
       "                });\n",
       "            </script>\n",
       "        </div>"
      ]
     },
     "metadata": {},
     "output_type": "display_data"
    }
   ],
   "source": [
    "dic={0:'40-60 F', 1: '>60 F', 2: '<40 F'}\n",
    "covid_weather['Cluster_Temp'].replace(dic,inplace=True)\n",
    "px.scatter(covid_weather, x=\"TempAvg\", y=\"Cluster_Temp\", color=\"Cluster_Temp\",\n",
    "                 marginal_y=None, marginal_x=None, trendline=\"o\",\n",
    "          width=900, height=300)"
   ]
  },
  {
   "cell_type": "markdown",
   "metadata": {},
   "source": [
    "The above discretization allows quantifying the number of infections by temperature ranges. Fig. _Temperature ranges and New Infections_ shows that the number of new infections is around 250 000 across all the `Province/State` when the temperature is between $40$ and $60^o F$, which is significantly higher than the two other ranges. Also, this histogram shows that the number of total new cases when the temperature is under $40^o F$ ($\\approx 35 000$) is notably bigger than when the temperature is over the $60^o F$, in which case our data only report around 10 000 new infections."
   ]
  },
  {
   "cell_type": "code",
   "execution_count": 380,
   "metadata": {},
   "outputs": [
    {
     "data": {
      "application/vnd.plotly.v1+json": {
       "config": {
        "plotlyServerURL": "https://plot.ly"
       },
       "data": [
        {
         "alignmentgroup": "True",
         "hoverlabel": {
          "namelength": 0
         },
         "hovertemplate": "Province/State=New York<br>Cluster_Temp=%{x}<br>Confirmed=%{y}",
         "legendgroup": "Province/State=New York",
         "marker": {
          "color": "#636efa"
         },
         "name": "Province/State=New York",
         "offsetgroup": "Province/State=New York",
         "orientation": "v",
         "showlegend": true,
         "textposition": "auto",
         "type": "bar",
         "x": [
          "40-60 F",
          "40-60 F",
          "40-60 F",
          "40-60 F",
          "40-60 F",
          "40-60 F",
          "40-60 F",
          "40-60 F",
          ">60 F",
          "40-60 F",
          "40-60 F",
          "40-60 F",
          "40-60 F",
          "40-60 F",
          "<40 F",
          "40-60 F",
          "40-60 F",
          "40-60 F",
          "40-60 F",
          "40-60 F",
          "<40 F",
          "<40 F",
          "40-60 F",
          "40-60 F",
          "40-60 F"
         ],
         "xaxis": "x",
         "y": [
          173,
          47,
          108,
          93,
          104,
          207,
          235,
          739,
          789,
          2870,
          2945,
          3400,
          4090,
          5084,
          4797,
          5160,
          7036,
          6999,
          7534,
          7238,
          7015,
          9170,
          8115,
          8558,
          10481
         ],
         "yaxis": "y"
        },
        {
         "alignmentgroup": "True",
         "hoverlabel": {
          "namelength": 0
         },
         "hovertemplate": "Province/State=Madrid<br>Cluster_Temp=%{x}<br>Confirmed=%{y}",
         "legendgroup": "Province/State=Madrid",
         "marker": {
          "color": "#EF553B"
         },
         "name": "Province/State=Madrid",
         "offsetgroup": "Province/State=Madrid",
         "orientation": "v",
         "showlegend": true,
         "textposition": "auto",
         "type": "bar",
         "x": [
          "40-60 F",
          "40-60 F",
          "40-60 F",
          "40-60 F",
          "40-60 F",
          "40-60 F",
          "40-60 F",
          "40-60 F",
          "40-60 F",
          "40-60 F",
          "40-60 F",
          "40-60 F",
          "40-60 F",
          "40-60 F",
          "40-60 F",
          "40-60 F",
          "40-60 F",
          "40-60 F",
          "40-60 F",
          "40-60 F",
          "40-60 F",
          "40-60 F",
          "40-60 F",
          "40-60 F",
          "40-60 F",
          "40-60 F",
          "40-60 F",
          "40-60 F",
          "40-60 F",
          "40-60 F",
          "40-60 F",
          "40-60 F",
          "40-60 F",
          "40-60 F",
          "40-60 F",
          "40-60 F",
          "40-60 F",
          "40-60 F",
          "40-60 F",
          "40-60 F",
          "40-60 F",
          "40-60 F",
          "40-60 F",
          "40-60 F",
          "40-60 F",
          "40-60 F",
          "40-60 F",
          "40-60 F",
          ">60 F",
          ">60 F",
          "40-60 F",
          "40-60 F",
          "40-60 F",
          "40-60 F",
          "40-60 F",
          "40-60 F",
          "40-60 F",
          "40-60 F",
          "40-60 F",
          "40-60 F",
          "40-60 F",
          "40-60 F",
          "40-60 F"
         ],
         "xaxis": "x",
         "y": [
          1,
          0,
          0,
          0,
          0,
          0,
          0,
          0,
          1,
          0,
          0,
          0,
          0,
          0,
          0,
          0,
          0,
          0,
          0,
          0,
          0,
          0,
          0,
          0,
          4,
          7,
          2,
          17,
          13,
          39,
          36,
          45,
          57,
          37,
          141,
          100,
          173,
          400,
          622,
          582,
          0,
          2955,
          1159,
          1407,
          2144,
          1806,
          2162,
          4053,
          2447,
          4964,
          3229,
          6533,
          4749,
          9630,
          8271,
          7933,
          7516,
          6875,
          7846,
          7967,
          8195,
          7947,
          7134
         ],
         "yaxis": "y"
        },
        {
         "alignmentgroup": "True",
         "hoverlabel": {
          "namelength": 0
         },
         "hovertemplate": "Province/State=Quebec<br>Cluster_Temp=%{x}<br>Confirmed=%{y}",
         "legendgroup": "Province/State=Quebec",
         "marker": {
          "color": "#00cc96"
         },
         "name": "Province/State=Quebec",
         "offsetgroup": "Province/State=Quebec",
         "orientation": "v",
         "showlegend": true,
         "textposition": "auto",
         "type": "bar",
         "x": [
          "<40 F",
          "<40 F",
          "<40 F",
          "<40 F",
          "<40 F",
          "<40 F",
          "<40 F",
          "<40 F",
          "<40 F",
          "<40 F",
          "<40 F",
          "<40 F",
          "<40 F",
          "<40 F",
          "<40 F",
          "<40 F",
          "<40 F",
          "<40 F",
          "<40 F",
          "<40 F",
          "<40 F",
          "<40 F",
          "<40 F",
          "<40 F",
          "<40 F",
          "<40 F"
         ],
         "xaxis": "x",
         "y": [
          3,
          1,
          4,
          1,
          8,
          0,
          7,
          26,
          24,
          20,
          27,
          18,
          42,
          38,
          409,
          385,
          329,
          290,
          392,
          474,
          342,
          590,
          732,
          449,
          907,
          583
         ],
         "yaxis": "y"
        },
        {
         "alignmentgroup": "True",
         "hoverlabel": {
          "namelength": 0
         },
         "hovertemplate": "Province/State=Lombardia<br>Cluster_Temp=%{x}<br>Confirmed=%{y}",
         "legendgroup": "Province/State=Lombardia",
         "marker": {
          "color": "#ab63fa"
         },
         "name": "Province/State=Lombardia",
         "offsetgroup": "Province/State=Lombardia",
         "orientation": "v",
         "showlegend": true,
         "textposition": "auto",
         "type": "bar",
         "x": [
          "40-60 F",
          "40-60 F",
          "40-60 F",
          "40-60 F",
          "40-60 F",
          "40-60 F",
          "40-60 F",
          "40-60 F",
          "40-60 F",
          "40-60 F",
          "40-60 F",
          "40-60 F",
          "40-60 F",
          "40-60 F",
          "40-60 F",
          "40-60 F",
          "40-60 F",
          "40-60 F",
          "40-60 F",
          "40-60 F",
          "40-60 F",
          "40-60 F",
          "40-60 F",
          "40-60 F",
          "40-60 F",
          "40-60 F",
          "40-60 F",
          "40-60 F",
          "40-60 F",
          "40-60 F",
          "40-60 F",
          "40-60 F",
          "40-60 F",
          "40-60 F",
          "40-60 F",
          "40-60 F",
          "40-60 F",
          "40-60 F",
          "40-60 F",
          "40-60 F"
         ],
         "xaxis": "x",
         "y": [
          172,
          68,
          18,
          145,
          128,
          84,
          369,
          270,
          266,
          300,
          431,
          361,
          808,
          769,
          1280,
          322,
          1489,
          1445,
          1095,
          1865,
          1587,
          1377,
          1571,
          1493,
          2171,
          2380,
          3251,
          1691,
          1555,
          1942,
          1643,
          2543,
          2409,
          2117,
          1592,
          1154,
          1047,
          1565,
          1292,
          1455
         ],
         "yaxis": "y"
        },
        {
         "alignmentgroup": "True",
         "hoverlabel": {
          "namelength": 0
         },
         "hovertemplate": "Province/State=Vienna<br>Cluster_Temp=%{x}<br>Confirmed=%{y}",
         "legendgroup": "Province/State=Vienna",
         "marker": {
          "color": "#FFA15A"
         },
         "name": "Province/State=Vienna",
         "offsetgroup": "Province/State=Vienna",
         "orientation": "v",
         "showlegend": true,
         "textposition": "auto",
         "type": "bar",
         "x": [
          "40-60 F",
          "40-60 F",
          "40-60 F",
          "40-60 F",
          "40-60 F",
          "40-60 F",
          "40-60 F",
          "40-60 F",
          "40-60 F",
          "40-60 F",
          "40-60 F",
          "<40 F",
          "40-60 F",
          "40-60 F",
          "40-60 F",
          "40-60 F",
          "40-60 F",
          "40-60 F",
          "40-60 F",
          "40-60 F",
          "40-60 F",
          "40-60 F",
          "40-60 F",
          "40-60 F",
          "40-60 F",
          "40-60 F",
          "40-60 F",
          "<40 F",
          "40-60 F",
          "40-60 F",
          "40-60 F",
          "40-60 F",
          "40-60 F",
          "40-60 F",
          "<40 F",
          "<40 F",
          "<40 F",
          "<40 F",
          "<40 F"
         ],
         "xaxis": "x",
         "y": [
          2,
          0,
          1,
          0,
          6,
          5,
          4,
          3,
          8,
          12,
          14,
          24,
          25,
          27,
          51,
          64,
          56,
          202,
          151,
          205,
          158,
          314,
          314,
          367,
          375,
          426,
          766,
          894,
          809,
          305,
          1321,
          748,
          614,
          517,
          830,
          562,
          531,
          418,
          395
         ],
         "yaxis": "y"
        },
        {
         "alignmentgroup": "True",
         "hoverlabel": {
          "namelength": 0
         },
         "hovertemplate": "Province/State=Stockholm<br>Cluster_Temp=%{x}<br>Confirmed=%{y}",
         "legendgroup": "Province/State=Stockholm",
         "marker": {
          "color": "#19d3f3"
         },
         "name": "Province/State=Stockholm",
         "offsetgroup": "Province/State=Stockholm",
         "orientation": "v",
         "showlegend": true,
         "textposition": "auto",
         "type": "bar",
         "x": [
          "<40 F",
          "40-60 F",
          "<40 F",
          "40-60 F",
          "40-60 F",
          "<40 F",
          "<40 F",
          "<40 F",
          "<40 F",
          "40-60 F",
          "<40 F",
          "<40 F",
          "<40 F",
          "<40 F",
          "<40 F",
          "<40 F",
          "<40 F",
          "40-60 F",
          "40-60 F",
          "<40 F",
          "<40 F",
          "<40 F",
          "<40 F",
          "<40 F",
          "40-60 F",
          "40-60 F",
          "40-60 F",
          "<40 F",
          "<40 F",
          "40-60 F",
          "40-60 F",
          "40-60 F",
          "<40 F",
          "<40 F",
          "<40 F",
          "<40 F",
          "<40 F",
          "<40 F",
          "<40 F",
          "<40 F",
          "<40 F",
          "<40 F",
          "<40 F",
          "<40 F",
          "<40 F",
          "<40 F",
          "40-60 F",
          "40-60 F",
          "40-60 F",
          "<40 F",
          "<40 F",
          "<40 F",
          "<40 F",
          "<40 F",
          "40-60 F",
          "40-60 F",
          "40-60 F",
          "<40 F",
          "<40 F",
          "<40 F",
          "<40 F",
          "<40 F",
          "40-60 F",
          "40-60 F"
         ],
         "xaxis": "x",
         "y": [
          1,
          0,
          0,
          0,
          0,
          0,
          0,
          0,
          0,
          0,
          0,
          0,
          0,
          0,
          0,
          0,
          0,
          0,
          0,
          0,
          0,
          0,
          0,
          0,
          0,
          0,
          1,
          5,
          0,
          5,
          2,
          1,
          6,
          14,
          59,
          7,
          60,
          42,
          45,
          107,
          145,
          99,
          215,
          147,
          61,
          81,
          87,
          89,
          160,
          200,
          124,
          168,
          115,
          240,
          240,
          314,
          229,
          378,
          253,
          328,
          407,
          512,
          621,
          563
         ],
         "yaxis": "y"
        },
        {
         "alignmentgroup": "True",
         "hoverlabel": {
          "namelength": 0
         },
         "hovertemplate": "Province/State=Doha<br>Cluster_Temp=%{x}<br>Confirmed=%{y}",
         "legendgroup": "Province/State=Doha",
         "marker": {
          "color": "#FF6692"
         },
         "name": "Province/State=Doha",
         "offsetgroup": "Province/State=Doha",
         "orientation": "v",
         "showlegend": true,
         "textposition": "auto",
         "type": "bar",
         "x": [
          ">60 F",
          ">60 F",
          ">60 F",
          ">60 F",
          ">60 F",
          ">60 F",
          ">60 F",
          ">60 F",
          ">60 F",
          ">60 F",
          ">60 F",
          ">60 F",
          ">60 F",
          ">60 F",
          ">60 F",
          ">60 F",
          ">60 F",
          ">60 F",
          ">60 F",
          ">60 F",
          ">60 F",
          ">60 F",
          ">60 F",
          ">60 F",
          ">60 F",
          ">60 F",
          ">60 F",
          ">60 F",
          ">60 F",
          ">60 F",
          ">60 F",
          ">60 F",
          ">60 F",
          ">60 F",
          ">60 F"
         ],
         "xaxis": "x",
         "y": [
          1,
          2,
          0,
          4,
          1,
          0,
          0,
          0,
          7,
          3,
          6,
          238,
          0,
          58,
          17,
          64,
          38,
          0,
          13,
          8,
          10,
          11,
          13,
          7,
          25,
          11,
          12,
          13,
          28,
          44,
          59,
          88,
          54,
          114,
          126
         ],
         "yaxis": "y"
        },
        {
         "alignmentgroup": "True",
         "hoverlabel": {
          "namelength": 0
         },
         "hovertemplate": "Province/State=Dubai<br>Cluster_Temp=%{x}<br>Confirmed=%{y}",
         "legendgroup": "Province/State=Dubai",
         "marker": {
          "color": "#B6E880"
         },
         "name": "Province/State=Dubai",
         "offsetgroup": "Province/State=Dubai",
         "orientation": "v",
         "showlegend": true,
         "textposition": "auto",
         "type": "bar",
         "x": [
          ">60 F",
          ">60 F",
          ">60 F",
          ">60 F",
          ">60 F",
          ">60 F",
          ">60 F",
          ">60 F",
          ">60 F",
          ">60 F",
          ">60 F",
          ">60 F",
          ">60 F",
          ">60 F",
          ">60 F",
          ">60 F",
          ">60 F",
          ">60 F",
          ">60 F",
          ">60 F",
          ">60 F",
          ">60 F",
          ">60 F",
          ">60 F",
          ">60 F",
          ">60 F",
          ">60 F",
          ">60 F",
          ">60 F",
          ">60 F",
          ">60 F",
          ">60 F",
          ">60 F",
          ">60 F",
          ">60 F",
          ">60 F",
          ">60 F",
          ">60 F",
          ">60 F",
          ">60 F",
          ">60 F",
          ">60 F",
          ">60 F",
          ">60 F",
          ">60 F",
          ">60 F",
          ">60 F",
          ">60 F",
          ">60 F",
          ">60 F",
          ">60 F",
          ">60 F",
          ">60 F",
          ">60 F",
          ">60 F",
          ">60 F",
          ">60 F",
          ">60 F",
          ">60 F",
          ">60 F",
          ">60 F",
          ">60 F",
          ">60 F",
          ">60 F",
          ">60 F",
          ">60 F"
         ],
         "xaxis": "x",
         "y": [
          4,
          0,
          0,
          0,
          1,
          0,
          0,
          0,
          0,
          0,
          2,
          0,
          1,
          0,
          0,
          0,
          0,
          0,
          1,
          0,
          0,
          0,
          0,
          0,
          4,
          0,
          0,
          0,
          0,
          0,
          6,
          2,
          0,
          0,
          6,
          0,
          2,
          0,
          16,
          0,
          0,
          29,
          0,
          11,
          0,
          0,
          13,
          0,
          0,
          15,
          27,
          0,
          13,
          0,
          45,
          50,
          85,
          0,
          72,
          63,
          102,
          41,
          53,
          150,
          210,
          240
         ],
         "yaxis": "y"
        },
        {
         "alignmentgroup": "True",
         "hoverlabel": {
          "namelength": 0
         },
         "hovertemplate": "Province/State=Dakar<br>Cluster_Temp=%{x}<br>Confirmed=%{y}",
         "legendgroup": "Province/State=Dakar",
         "marker": {
          "color": "#FF97FF"
         },
         "name": "Province/State=Dakar",
         "offsetgroup": "Province/State=Dakar",
         "orientation": "v",
         "showlegend": true,
         "textposition": "auto",
         "type": "bar",
         "x": [
          ">60 F",
          ">60 F",
          ">60 F",
          ">60 F",
          ">60 F",
          ">60 F",
          ">60 F",
          ">60 F",
          ">60 F",
          ">60 F",
          ">60 F",
          ">60 F",
          ">60 F",
          ">60 F",
          ">60 F",
          ">60 F",
          ">60 F",
          ">60 F",
          ">60 F",
          ">60 F",
          ">60 F",
          ">60 F",
          ">60 F",
          ">60 F",
          ">60 F",
          ">60 F",
          ">60 F",
          ">60 F",
          ">60 F",
          ">60 F",
          ">60 F",
          ">60 F",
          ">60 F"
         ],
         "xaxis": "x",
         "y": [
          1,
          1,
          2,
          0,
          0,
          0,
          0,
          0,
          0,
          0,
          0,
          6,
          0,
          14,
          0,
          2,
          5,
          0,
          7,
          9,
          20,
          12,
          7,
          13,
          6,
          14,
          11,
          12,
          20,
          13,
          15,
          5,
          12
         ],
         "yaxis": "y"
        }
       ],
       "layout": {
        "barmode": "relative",
        "height": 600,
        "legend": {
         "tracegroupgap": 0
        },
        "template": {
         "data": {
          "bar": [
           {
            "error_x": {
             "color": "#2a3f5f"
            },
            "error_y": {
             "color": "#2a3f5f"
            },
            "marker": {
             "line": {
              "color": "#E5ECF6",
              "width": 0.5
             }
            },
            "type": "bar"
           }
          ],
          "barpolar": [
           {
            "marker": {
             "line": {
              "color": "#E5ECF6",
              "width": 0.5
             }
            },
            "type": "barpolar"
           }
          ],
          "carpet": [
           {
            "aaxis": {
             "endlinecolor": "#2a3f5f",
             "gridcolor": "white",
             "linecolor": "white",
             "minorgridcolor": "white",
             "startlinecolor": "#2a3f5f"
            },
            "baxis": {
             "endlinecolor": "#2a3f5f",
             "gridcolor": "white",
             "linecolor": "white",
             "minorgridcolor": "white",
             "startlinecolor": "#2a3f5f"
            },
            "type": "carpet"
           }
          ],
          "choropleth": [
           {
            "colorbar": {
             "outlinewidth": 0,
             "ticks": ""
            },
            "type": "choropleth"
           }
          ],
          "contour": [
           {
            "colorbar": {
             "outlinewidth": 0,
             "ticks": ""
            },
            "colorscale": [
             [
              0,
              "#0d0887"
             ],
             [
              0.1111111111111111,
              "#46039f"
             ],
             [
              0.2222222222222222,
              "#7201a8"
             ],
             [
              0.3333333333333333,
              "#9c179e"
             ],
             [
              0.4444444444444444,
              "#bd3786"
             ],
             [
              0.5555555555555556,
              "#d8576b"
             ],
             [
              0.6666666666666666,
              "#ed7953"
             ],
             [
              0.7777777777777778,
              "#fb9f3a"
             ],
             [
              0.8888888888888888,
              "#fdca26"
             ],
             [
              1,
              "#f0f921"
             ]
            ],
            "type": "contour"
           }
          ],
          "contourcarpet": [
           {
            "colorbar": {
             "outlinewidth": 0,
             "ticks": ""
            },
            "type": "contourcarpet"
           }
          ],
          "heatmap": [
           {
            "colorbar": {
             "outlinewidth": 0,
             "ticks": ""
            },
            "colorscale": [
             [
              0,
              "#0d0887"
             ],
             [
              0.1111111111111111,
              "#46039f"
             ],
             [
              0.2222222222222222,
              "#7201a8"
             ],
             [
              0.3333333333333333,
              "#9c179e"
             ],
             [
              0.4444444444444444,
              "#bd3786"
             ],
             [
              0.5555555555555556,
              "#d8576b"
             ],
             [
              0.6666666666666666,
              "#ed7953"
             ],
             [
              0.7777777777777778,
              "#fb9f3a"
             ],
             [
              0.8888888888888888,
              "#fdca26"
             ],
             [
              1,
              "#f0f921"
             ]
            ],
            "type": "heatmap"
           }
          ],
          "heatmapgl": [
           {
            "colorbar": {
             "outlinewidth": 0,
             "ticks": ""
            },
            "colorscale": [
             [
              0,
              "#0d0887"
             ],
             [
              0.1111111111111111,
              "#46039f"
             ],
             [
              0.2222222222222222,
              "#7201a8"
             ],
             [
              0.3333333333333333,
              "#9c179e"
             ],
             [
              0.4444444444444444,
              "#bd3786"
             ],
             [
              0.5555555555555556,
              "#d8576b"
             ],
             [
              0.6666666666666666,
              "#ed7953"
             ],
             [
              0.7777777777777778,
              "#fb9f3a"
             ],
             [
              0.8888888888888888,
              "#fdca26"
             ],
             [
              1,
              "#f0f921"
             ]
            ],
            "type": "heatmapgl"
           }
          ],
          "histogram": [
           {
            "marker": {
             "colorbar": {
              "outlinewidth": 0,
              "ticks": ""
             }
            },
            "type": "histogram"
           }
          ],
          "histogram2d": [
           {
            "colorbar": {
             "outlinewidth": 0,
             "ticks": ""
            },
            "colorscale": [
             [
              0,
              "#0d0887"
             ],
             [
              0.1111111111111111,
              "#46039f"
             ],
             [
              0.2222222222222222,
              "#7201a8"
             ],
             [
              0.3333333333333333,
              "#9c179e"
             ],
             [
              0.4444444444444444,
              "#bd3786"
             ],
             [
              0.5555555555555556,
              "#d8576b"
             ],
             [
              0.6666666666666666,
              "#ed7953"
             ],
             [
              0.7777777777777778,
              "#fb9f3a"
             ],
             [
              0.8888888888888888,
              "#fdca26"
             ],
             [
              1,
              "#f0f921"
             ]
            ],
            "type": "histogram2d"
           }
          ],
          "histogram2dcontour": [
           {
            "colorbar": {
             "outlinewidth": 0,
             "ticks": ""
            },
            "colorscale": [
             [
              0,
              "#0d0887"
             ],
             [
              0.1111111111111111,
              "#46039f"
             ],
             [
              0.2222222222222222,
              "#7201a8"
             ],
             [
              0.3333333333333333,
              "#9c179e"
             ],
             [
              0.4444444444444444,
              "#bd3786"
             ],
             [
              0.5555555555555556,
              "#d8576b"
             ],
             [
              0.6666666666666666,
              "#ed7953"
             ],
             [
              0.7777777777777778,
              "#fb9f3a"
             ],
             [
              0.8888888888888888,
              "#fdca26"
             ],
             [
              1,
              "#f0f921"
             ]
            ],
            "type": "histogram2dcontour"
           }
          ],
          "mesh3d": [
           {
            "colorbar": {
             "outlinewidth": 0,
             "ticks": ""
            },
            "type": "mesh3d"
           }
          ],
          "parcoords": [
           {
            "line": {
             "colorbar": {
              "outlinewidth": 0,
              "ticks": ""
             }
            },
            "type": "parcoords"
           }
          ],
          "pie": [
           {
            "automargin": true,
            "type": "pie"
           }
          ],
          "scatter": [
           {
            "marker": {
             "colorbar": {
              "outlinewidth": 0,
              "ticks": ""
             }
            },
            "type": "scatter"
           }
          ],
          "scatter3d": [
           {
            "line": {
             "colorbar": {
              "outlinewidth": 0,
              "ticks": ""
             }
            },
            "marker": {
             "colorbar": {
              "outlinewidth": 0,
              "ticks": ""
             }
            },
            "type": "scatter3d"
           }
          ],
          "scattercarpet": [
           {
            "marker": {
             "colorbar": {
              "outlinewidth": 0,
              "ticks": ""
             }
            },
            "type": "scattercarpet"
           }
          ],
          "scattergeo": [
           {
            "marker": {
             "colorbar": {
              "outlinewidth": 0,
              "ticks": ""
             }
            },
            "type": "scattergeo"
           }
          ],
          "scattergl": [
           {
            "marker": {
             "colorbar": {
              "outlinewidth": 0,
              "ticks": ""
             }
            },
            "type": "scattergl"
           }
          ],
          "scattermapbox": [
           {
            "marker": {
             "colorbar": {
              "outlinewidth": 0,
              "ticks": ""
             }
            },
            "type": "scattermapbox"
           }
          ],
          "scatterpolar": [
           {
            "marker": {
             "colorbar": {
              "outlinewidth": 0,
              "ticks": ""
             }
            },
            "type": "scatterpolar"
           }
          ],
          "scatterpolargl": [
           {
            "marker": {
             "colorbar": {
              "outlinewidth": 0,
              "ticks": ""
             }
            },
            "type": "scatterpolargl"
           }
          ],
          "scatterternary": [
           {
            "marker": {
             "colorbar": {
              "outlinewidth": 0,
              "ticks": ""
             }
            },
            "type": "scatterternary"
           }
          ],
          "surface": [
           {
            "colorbar": {
             "outlinewidth": 0,
             "ticks": ""
            },
            "colorscale": [
             [
              0,
              "#0d0887"
             ],
             [
              0.1111111111111111,
              "#46039f"
             ],
             [
              0.2222222222222222,
              "#7201a8"
             ],
             [
              0.3333333333333333,
              "#9c179e"
             ],
             [
              0.4444444444444444,
              "#bd3786"
             ],
             [
              0.5555555555555556,
              "#d8576b"
             ],
             [
              0.6666666666666666,
              "#ed7953"
             ],
             [
              0.7777777777777778,
              "#fb9f3a"
             ],
             [
              0.8888888888888888,
              "#fdca26"
             ],
             [
              1,
              "#f0f921"
             ]
            ],
            "type": "surface"
           }
          ],
          "table": [
           {
            "cells": {
             "fill": {
              "color": "#EBF0F8"
             },
             "line": {
              "color": "white"
             }
            },
            "header": {
             "fill": {
              "color": "#C8D4E3"
             },
             "line": {
              "color": "white"
             }
            },
            "type": "table"
           }
          ]
         },
         "layout": {
          "annotationdefaults": {
           "arrowcolor": "#2a3f5f",
           "arrowhead": 0,
           "arrowwidth": 1
          },
          "coloraxis": {
           "colorbar": {
            "outlinewidth": 0,
            "ticks": ""
           }
          },
          "colorscale": {
           "diverging": [
            [
             0,
             "#8e0152"
            ],
            [
             0.1,
             "#c51b7d"
            ],
            [
             0.2,
             "#de77ae"
            ],
            [
             0.3,
             "#f1b6da"
            ],
            [
             0.4,
             "#fde0ef"
            ],
            [
             0.5,
             "#f7f7f7"
            ],
            [
             0.6,
             "#e6f5d0"
            ],
            [
             0.7,
             "#b8e186"
            ],
            [
             0.8,
             "#7fbc41"
            ],
            [
             0.9,
             "#4d9221"
            ],
            [
             1,
             "#276419"
            ]
           ],
           "sequential": [
            [
             0,
             "#0d0887"
            ],
            [
             0.1111111111111111,
             "#46039f"
            ],
            [
             0.2222222222222222,
             "#7201a8"
            ],
            [
             0.3333333333333333,
             "#9c179e"
            ],
            [
             0.4444444444444444,
             "#bd3786"
            ],
            [
             0.5555555555555556,
             "#d8576b"
            ],
            [
             0.6666666666666666,
             "#ed7953"
            ],
            [
             0.7777777777777778,
             "#fb9f3a"
            ],
            [
             0.8888888888888888,
             "#fdca26"
            ],
            [
             1,
             "#f0f921"
            ]
           ],
           "sequentialminus": [
            [
             0,
             "#0d0887"
            ],
            [
             0.1111111111111111,
             "#46039f"
            ],
            [
             0.2222222222222222,
             "#7201a8"
            ],
            [
             0.3333333333333333,
             "#9c179e"
            ],
            [
             0.4444444444444444,
             "#bd3786"
            ],
            [
             0.5555555555555556,
             "#d8576b"
            ],
            [
             0.6666666666666666,
             "#ed7953"
            ],
            [
             0.7777777777777778,
             "#fb9f3a"
            ],
            [
             0.8888888888888888,
             "#fdca26"
            ],
            [
             1,
             "#f0f921"
            ]
           ]
          },
          "colorway": [
           "#636efa",
           "#EF553B",
           "#00cc96",
           "#ab63fa",
           "#FFA15A",
           "#19d3f3",
           "#FF6692",
           "#B6E880",
           "#FF97FF",
           "#FECB52"
          ],
          "font": {
           "color": "#2a3f5f"
          },
          "geo": {
           "bgcolor": "white",
           "lakecolor": "white",
           "landcolor": "#E5ECF6",
           "showlakes": true,
           "showland": true,
           "subunitcolor": "white"
          },
          "hoverlabel": {
           "align": "left"
          },
          "hovermode": "closest",
          "mapbox": {
           "style": "light"
          },
          "paper_bgcolor": "white",
          "plot_bgcolor": "#E5ECF6",
          "polar": {
           "angularaxis": {
            "gridcolor": "white",
            "linecolor": "white",
            "ticks": ""
           },
           "bgcolor": "#E5ECF6",
           "radialaxis": {
            "gridcolor": "white",
            "linecolor": "white",
            "ticks": ""
           }
          },
          "scene": {
           "xaxis": {
            "backgroundcolor": "#E5ECF6",
            "gridcolor": "white",
            "gridwidth": 2,
            "linecolor": "white",
            "showbackground": true,
            "ticks": "",
            "zerolinecolor": "white"
           },
           "yaxis": {
            "backgroundcolor": "#E5ECF6",
            "gridcolor": "white",
            "gridwidth": 2,
            "linecolor": "white",
            "showbackground": true,
            "ticks": "",
            "zerolinecolor": "white"
           },
           "zaxis": {
            "backgroundcolor": "#E5ECF6",
            "gridcolor": "white",
            "gridwidth": 2,
            "linecolor": "white",
            "showbackground": true,
            "ticks": "",
            "zerolinecolor": "white"
           }
          },
          "shapedefaults": {
           "line": {
            "color": "#2a3f5f"
           }
          },
          "ternary": {
           "aaxis": {
            "gridcolor": "white",
            "linecolor": "white",
            "ticks": ""
           },
           "baxis": {
            "gridcolor": "white",
            "linecolor": "white",
            "ticks": ""
           },
           "bgcolor": "#E5ECF6",
           "caxis": {
            "gridcolor": "white",
            "linecolor": "white",
            "ticks": ""
           }
          },
          "title": {
           "x": 0.05
          },
          "xaxis": {
           "automargin": true,
           "gridcolor": "white",
           "linecolor": "white",
           "ticks": "",
           "title": {
            "standoff": 15
           },
           "zerolinecolor": "white",
           "zerolinewidth": 2
          },
          "yaxis": {
           "automargin": true,
           "gridcolor": "white",
           "linecolor": "white",
           "ticks": "",
           "title": {
            "standoff": 15
           },
           "zerolinecolor": "white",
           "zerolinewidth": 2
          }
         }
        },
        "title": {
         "text": "Temperature ranges and New Infections"
        },
        "xaxis": {
         "anchor": "y",
         "domain": [
          0,
          1
         ],
         "title": {
          "text": "Cluster_Temp"
         }
        },
        "yaxis": {
         "anchor": "x",
         "domain": [
          0,
          1
         ],
         "title": {
          "text": "Confirmed"
         }
        }
       }
      },
      "text/html": [
       "<div>\n",
       "        \n",
       "        \n",
       "            <div id=\"46e3c517-fe69-4622-ac3a-2098a7a0da6d\" class=\"plotly-graph-div\" style=\"height:600px; width:100%;\"></div>\n",
       "            <script type=\"text/javascript\">\n",
       "                require([\"plotly\"], function(Plotly) {\n",
       "                    window.PLOTLYENV=window.PLOTLYENV || {};\n",
       "                    \n",
       "                if (document.getElementById(\"46e3c517-fe69-4622-ac3a-2098a7a0da6d\")) {\n",
       "                    Plotly.newPlot(\n",
       "                        '46e3c517-fe69-4622-ac3a-2098a7a0da6d',\n",
       "                        [{\"alignmentgroup\": \"True\", \"hoverlabel\": {\"namelength\": 0}, \"hovertemplate\": \"Province/State=New York<br>Cluster_Temp=%{x}<br>Confirmed=%{y}\", \"legendgroup\": \"Province/State=New York\", \"marker\": {\"color\": \"#636efa\"}, \"name\": \"Province/State=New York\", \"offsetgroup\": \"Province/State=New York\", \"orientation\": \"v\", \"showlegend\": true, \"textposition\": \"auto\", \"type\": \"bar\", \"x\": [\"40-60 F\", \"40-60 F\", \"40-60 F\", \"40-60 F\", \"40-60 F\", \"40-60 F\", \"40-60 F\", \"40-60 F\", \">60 F\", \"40-60 F\", \"40-60 F\", \"40-60 F\", \"40-60 F\", \"40-60 F\", \"<40 F\", \"40-60 F\", \"40-60 F\", \"40-60 F\", \"40-60 F\", \"40-60 F\", \"<40 F\", \"<40 F\", \"40-60 F\", \"40-60 F\", \"40-60 F\"], \"xaxis\": \"x\", \"y\": [173, 47, 108, 93, 104, 207, 235, 739, 789, 2870, 2945, 3400, 4090, 5084, 4797, 5160, 7036, 6999, 7534, 7238, 7015, 9170, 8115, 8558, 10481], \"yaxis\": \"y\"}, {\"alignmentgroup\": \"True\", \"hoverlabel\": {\"namelength\": 0}, \"hovertemplate\": \"Province/State=Madrid<br>Cluster_Temp=%{x}<br>Confirmed=%{y}\", \"legendgroup\": \"Province/State=Madrid\", \"marker\": {\"color\": \"#EF553B\"}, \"name\": \"Province/State=Madrid\", \"offsetgroup\": \"Province/State=Madrid\", \"orientation\": \"v\", \"showlegend\": true, \"textposition\": \"auto\", \"type\": \"bar\", \"x\": [\"40-60 F\", \"40-60 F\", \"40-60 F\", \"40-60 F\", \"40-60 F\", \"40-60 F\", \"40-60 F\", \"40-60 F\", \"40-60 F\", \"40-60 F\", \"40-60 F\", \"40-60 F\", \"40-60 F\", \"40-60 F\", \"40-60 F\", \"40-60 F\", \"40-60 F\", \"40-60 F\", \"40-60 F\", \"40-60 F\", \"40-60 F\", \"40-60 F\", \"40-60 F\", \"40-60 F\", \"40-60 F\", \"40-60 F\", \"40-60 F\", \"40-60 F\", \"40-60 F\", \"40-60 F\", \"40-60 F\", \"40-60 F\", \"40-60 F\", \"40-60 F\", \"40-60 F\", \"40-60 F\", \"40-60 F\", \"40-60 F\", \"40-60 F\", \"40-60 F\", \"40-60 F\", \"40-60 F\", \"40-60 F\", \"40-60 F\", \"40-60 F\", \"40-60 F\", \"40-60 F\", \"40-60 F\", \">60 F\", \">60 F\", \"40-60 F\", \"40-60 F\", \"40-60 F\", \"40-60 F\", \"40-60 F\", \"40-60 F\", \"40-60 F\", \"40-60 F\", \"40-60 F\", \"40-60 F\", \"40-60 F\", \"40-60 F\", \"40-60 F\"], \"xaxis\": \"x\", \"y\": [1, 0, 0, 0, 0, 0, 0, 0, 1, 0, 0, 0, 0, 0, 0, 0, 0, 0, 0, 0, 0, 0, 0, 0, 4, 7, 2, 17, 13, 39, 36, 45, 57, 37, 141, 100, 173, 400, 622, 582, 0, 2955, 1159, 1407, 2144, 1806, 2162, 4053, 2447, 4964, 3229, 6533, 4749, 9630, 8271, 7933, 7516, 6875, 7846, 7967, 8195, 7947, 7134], \"yaxis\": \"y\"}, {\"alignmentgroup\": \"True\", \"hoverlabel\": {\"namelength\": 0}, \"hovertemplate\": \"Province/State=Quebec<br>Cluster_Temp=%{x}<br>Confirmed=%{y}\", \"legendgroup\": \"Province/State=Quebec\", \"marker\": {\"color\": \"#00cc96\"}, \"name\": \"Province/State=Quebec\", \"offsetgroup\": \"Province/State=Quebec\", \"orientation\": \"v\", \"showlegend\": true, \"textposition\": \"auto\", \"type\": \"bar\", \"x\": [\"<40 F\", \"<40 F\", \"<40 F\", \"<40 F\", \"<40 F\", \"<40 F\", \"<40 F\", \"<40 F\", \"<40 F\", \"<40 F\", \"<40 F\", \"<40 F\", \"<40 F\", \"<40 F\", \"<40 F\", \"<40 F\", \"<40 F\", \"<40 F\", \"<40 F\", \"<40 F\", \"<40 F\", \"<40 F\", \"<40 F\", \"<40 F\", \"<40 F\", \"<40 F\"], \"xaxis\": \"x\", \"y\": [3, 1, 4, 1, 8, 0, 7, 26, 24, 20, 27, 18, 42, 38, 409, 385, 329, 290, 392, 474, 342, 590, 732, 449, 907, 583], \"yaxis\": \"y\"}, {\"alignmentgroup\": \"True\", \"hoverlabel\": {\"namelength\": 0}, \"hovertemplate\": \"Province/State=Lombardia<br>Cluster_Temp=%{x}<br>Confirmed=%{y}\", \"legendgroup\": \"Province/State=Lombardia\", \"marker\": {\"color\": \"#ab63fa\"}, \"name\": \"Province/State=Lombardia\", \"offsetgroup\": \"Province/State=Lombardia\", \"orientation\": \"v\", \"showlegend\": true, \"textposition\": \"auto\", \"type\": \"bar\", \"x\": [\"40-60 F\", \"40-60 F\", \"40-60 F\", \"40-60 F\", \"40-60 F\", \"40-60 F\", \"40-60 F\", \"40-60 F\", \"40-60 F\", \"40-60 F\", \"40-60 F\", \"40-60 F\", \"40-60 F\", \"40-60 F\", \"40-60 F\", \"40-60 F\", \"40-60 F\", \"40-60 F\", \"40-60 F\", \"40-60 F\", \"40-60 F\", \"40-60 F\", \"40-60 F\", \"40-60 F\", \"40-60 F\", \"40-60 F\", \"40-60 F\", \"40-60 F\", \"40-60 F\", \"40-60 F\", \"40-60 F\", \"40-60 F\", \"40-60 F\", \"40-60 F\", \"40-60 F\", \"40-60 F\", \"40-60 F\", \"40-60 F\", \"40-60 F\", \"40-60 F\"], \"xaxis\": \"x\", \"y\": [172, 68, 18, 145, 128, 84, 369, 270, 266, 300, 431, 361, 808, 769, 1280, 322, 1489, 1445, 1095, 1865, 1587, 1377, 1571, 1493, 2171, 2380, 3251, 1691, 1555, 1942, 1643, 2543, 2409, 2117, 1592, 1154, 1047, 1565, 1292, 1455], \"yaxis\": \"y\"}, {\"alignmentgroup\": \"True\", \"hoverlabel\": {\"namelength\": 0}, \"hovertemplate\": \"Province/State=Vienna<br>Cluster_Temp=%{x}<br>Confirmed=%{y}\", \"legendgroup\": \"Province/State=Vienna\", \"marker\": {\"color\": \"#FFA15A\"}, \"name\": \"Province/State=Vienna\", \"offsetgroup\": \"Province/State=Vienna\", \"orientation\": \"v\", \"showlegend\": true, \"textposition\": \"auto\", \"type\": \"bar\", \"x\": [\"40-60 F\", \"40-60 F\", \"40-60 F\", \"40-60 F\", \"40-60 F\", \"40-60 F\", \"40-60 F\", \"40-60 F\", \"40-60 F\", \"40-60 F\", \"40-60 F\", \"<40 F\", \"40-60 F\", \"40-60 F\", \"40-60 F\", \"40-60 F\", \"40-60 F\", \"40-60 F\", \"40-60 F\", \"40-60 F\", \"40-60 F\", \"40-60 F\", \"40-60 F\", \"40-60 F\", \"40-60 F\", \"40-60 F\", \"40-60 F\", \"<40 F\", \"40-60 F\", \"40-60 F\", \"40-60 F\", \"40-60 F\", \"40-60 F\", \"40-60 F\", \"<40 F\", \"<40 F\", \"<40 F\", \"<40 F\", \"<40 F\"], \"xaxis\": \"x\", \"y\": [2, 0, 1, 0, 6, 5, 4, 3, 8, 12, 14, 24, 25, 27, 51, 64, 56, 202, 151, 205, 158, 314, 314, 367, 375, 426, 766, 894, 809, 305, 1321, 748, 614, 517, 830, 562, 531, 418, 395], \"yaxis\": \"y\"}, {\"alignmentgroup\": \"True\", \"hoverlabel\": {\"namelength\": 0}, \"hovertemplate\": \"Province/State=Stockholm<br>Cluster_Temp=%{x}<br>Confirmed=%{y}\", \"legendgroup\": \"Province/State=Stockholm\", \"marker\": {\"color\": \"#19d3f3\"}, \"name\": \"Province/State=Stockholm\", \"offsetgroup\": \"Province/State=Stockholm\", \"orientation\": \"v\", \"showlegend\": true, \"textposition\": \"auto\", \"type\": \"bar\", \"x\": [\"<40 F\", \"40-60 F\", \"<40 F\", \"40-60 F\", \"40-60 F\", \"<40 F\", \"<40 F\", \"<40 F\", \"<40 F\", \"40-60 F\", \"<40 F\", \"<40 F\", \"<40 F\", \"<40 F\", \"<40 F\", \"<40 F\", \"<40 F\", \"40-60 F\", \"40-60 F\", \"<40 F\", \"<40 F\", \"<40 F\", \"<40 F\", \"<40 F\", \"40-60 F\", \"40-60 F\", \"40-60 F\", \"<40 F\", \"<40 F\", \"40-60 F\", \"40-60 F\", \"40-60 F\", \"<40 F\", \"<40 F\", \"<40 F\", \"<40 F\", \"<40 F\", \"<40 F\", \"<40 F\", \"<40 F\", \"<40 F\", \"<40 F\", \"<40 F\", \"<40 F\", \"<40 F\", \"<40 F\", \"40-60 F\", \"40-60 F\", \"40-60 F\", \"<40 F\", \"<40 F\", \"<40 F\", \"<40 F\", \"<40 F\", \"40-60 F\", \"40-60 F\", \"40-60 F\", \"<40 F\", \"<40 F\", \"<40 F\", \"<40 F\", \"<40 F\", \"40-60 F\", \"40-60 F\"], \"xaxis\": \"x\", \"y\": [1, 0, 0, 0, 0, 0, 0, 0, 0, 0, 0, 0, 0, 0, 0, 0, 0, 0, 0, 0, 0, 0, 0, 0, 0, 0, 1, 5, 0, 5, 2, 1, 6, 14, 59, 7, 60, 42, 45, 107, 145, 99, 215, 147, 61, 81, 87, 89, 160, 200, 124, 168, 115, 240, 240, 314, 229, 378, 253, 328, 407, 512, 621, 563], \"yaxis\": \"y\"}, {\"alignmentgroup\": \"True\", \"hoverlabel\": {\"namelength\": 0}, \"hovertemplate\": \"Province/State=Doha<br>Cluster_Temp=%{x}<br>Confirmed=%{y}\", \"legendgroup\": \"Province/State=Doha\", \"marker\": {\"color\": \"#FF6692\"}, \"name\": \"Province/State=Doha\", \"offsetgroup\": \"Province/State=Doha\", \"orientation\": \"v\", \"showlegend\": true, \"textposition\": \"auto\", \"type\": \"bar\", \"x\": [\">60 F\", \">60 F\", \">60 F\", \">60 F\", \">60 F\", \">60 F\", \">60 F\", \">60 F\", \">60 F\", \">60 F\", \">60 F\", \">60 F\", \">60 F\", \">60 F\", \">60 F\", \">60 F\", \">60 F\", \">60 F\", \">60 F\", \">60 F\", \">60 F\", \">60 F\", \">60 F\", \">60 F\", \">60 F\", \">60 F\", \">60 F\", \">60 F\", \">60 F\", \">60 F\", \">60 F\", \">60 F\", \">60 F\", \">60 F\", \">60 F\"], \"xaxis\": \"x\", \"y\": [1, 2, 0, 4, 1, 0, 0, 0, 7, 3, 6, 238, 0, 58, 17, 64, 38, 0, 13, 8, 10, 11, 13, 7, 25, 11, 12, 13, 28, 44, 59, 88, 54, 114, 126], \"yaxis\": \"y\"}, {\"alignmentgroup\": \"True\", \"hoverlabel\": {\"namelength\": 0}, \"hovertemplate\": \"Province/State=Dubai<br>Cluster_Temp=%{x}<br>Confirmed=%{y}\", \"legendgroup\": \"Province/State=Dubai\", \"marker\": {\"color\": \"#B6E880\"}, \"name\": \"Province/State=Dubai\", \"offsetgroup\": \"Province/State=Dubai\", \"orientation\": \"v\", \"showlegend\": true, \"textposition\": \"auto\", \"type\": \"bar\", \"x\": [\">60 F\", \">60 F\", \">60 F\", \">60 F\", \">60 F\", \">60 F\", \">60 F\", \">60 F\", \">60 F\", \">60 F\", \">60 F\", \">60 F\", \">60 F\", \">60 F\", \">60 F\", \">60 F\", \">60 F\", \">60 F\", \">60 F\", \">60 F\", \">60 F\", \">60 F\", \">60 F\", \">60 F\", \">60 F\", \">60 F\", \">60 F\", \">60 F\", \">60 F\", \">60 F\", \">60 F\", \">60 F\", \">60 F\", \">60 F\", \">60 F\", \">60 F\", \">60 F\", \">60 F\", \">60 F\", \">60 F\", \">60 F\", \">60 F\", \">60 F\", \">60 F\", \">60 F\", \">60 F\", \">60 F\", \">60 F\", \">60 F\", \">60 F\", \">60 F\", \">60 F\", \">60 F\", \">60 F\", \">60 F\", \">60 F\", \">60 F\", \">60 F\", \">60 F\", \">60 F\", \">60 F\", \">60 F\", \">60 F\", \">60 F\", \">60 F\", \">60 F\"], \"xaxis\": \"x\", \"y\": [4, 0, 0, 0, 1, 0, 0, 0, 0, 0, 2, 0, 1, 0, 0, 0, 0, 0, 1, 0, 0, 0, 0, 0, 4, 0, 0, 0, 0, 0, 6, 2, 0, 0, 6, 0, 2, 0, 16, 0, 0, 29, 0, 11, 0, 0, 13, 0, 0, 15, 27, 0, 13, 0, 45, 50, 85, 0, 72, 63, 102, 41, 53, 150, 210, 240], \"yaxis\": \"y\"}, {\"alignmentgroup\": \"True\", \"hoverlabel\": {\"namelength\": 0}, \"hovertemplate\": \"Province/State=Dakar<br>Cluster_Temp=%{x}<br>Confirmed=%{y}\", \"legendgroup\": \"Province/State=Dakar\", \"marker\": {\"color\": \"#FF97FF\"}, \"name\": \"Province/State=Dakar\", \"offsetgroup\": \"Province/State=Dakar\", \"orientation\": \"v\", \"showlegend\": true, \"textposition\": \"auto\", \"type\": \"bar\", \"x\": [\">60 F\", \">60 F\", \">60 F\", \">60 F\", \">60 F\", \">60 F\", \">60 F\", \">60 F\", \">60 F\", \">60 F\", \">60 F\", \">60 F\", \">60 F\", \">60 F\", \">60 F\", \">60 F\", \">60 F\", \">60 F\", \">60 F\", \">60 F\", \">60 F\", \">60 F\", \">60 F\", \">60 F\", \">60 F\", \">60 F\", \">60 F\", \">60 F\", \">60 F\", \">60 F\", \">60 F\", \">60 F\", \">60 F\"], \"xaxis\": \"x\", \"y\": [1, 1, 2, 0, 0, 0, 0, 0, 0, 0, 0, 6, 0, 14, 0, 2, 5, 0, 7, 9, 20, 12, 7, 13, 6, 14, 11, 12, 20, 13, 15, 5, 12], \"yaxis\": \"y\"}],\n",
       "                        {\"barmode\": \"relative\", \"height\": 600, \"legend\": {\"tracegroupgap\": 0}, \"template\": {\"data\": {\"bar\": [{\"error_x\": {\"color\": \"#2a3f5f\"}, \"error_y\": {\"color\": \"#2a3f5f\"}, \"marker\": {\"line\": {\"color\": \"#E5ECF6\", \"width\": 0.5}}, \"type\": \"bar\"}], \"barpolar\": [{\"marker\": {\"line\": {\"color\": \"#E5ECF6\", \"width\": 0.5}}, \"type\": \"barpolar\"}], \"carpet\": [{\"aaxis\": {\"endlinecolor\": \"#2a3f5f\", \"gridcolor\": \"white\", \"linecolor\": \"white\", \"minorgridcolor\": \"white\", \"startlinecolor\": \"#2a3f5f\"}, \"baxis\": {\"endlinecolor\": \"#2a3f5f\", \"gridcolor\": \"white\", \"linecolor\": \"white\", \"minorgridcolor\": \"white\", \"startlinecolor\": \"#2a3f5f\"}, \"type\": \"carpet\"}], \"choropleth\": [{\"colorbar\": {\"outlinewidth\": 0, \"ticks\": \"\"}, \"type\": \"choropleth\"}], \"contour\": [{\"colorbar\": {\"outlinewidth\": 0, \"ticks\": \"\"}, \"colorscale\": [[0.0, \"#0d0887\"], [0.1111111111111111, \"#46039f\"], [0.2222222222222222, \"#7201a8\"], [0.3333333333333333, \"#9c179e\"], [0.4444444444444444, \"#bd3786\"], [0.5555555555555556, \"#d8576b\"], [0.6666666666666666, \"#ed7953\"], [0.7777777777777778, \"#fb9f3a\"], [0.8888888888888888, \"#fdca26\"], [1.0, \"#f0f921\"]], \"type\": \"contour\"}], \"contourcarpet\": [{\"colorbar\": {\"outlinewidth\": 0, \"ticks\": \"\"}, \"type\": \"contourcarpet\"}], \"heatmap\": [{\"colorbar\": {\"outlinewidth\": 0, \"ticks\": \"\"}, \"colorscale\": [[0.0, \"#0d0887\"], [0.1111111111111111, \"#46039f\"], [0.2222222222222222, \"#7201a8\"], [0.3333333333333333, \"#9c179e\"], [0.4444444444444444, \"#bd3786\"], [0.5555555555555556, \"#d8576b\"], [0.6666666666666666, \"#ed7953\"], [0.7777777777777778, \"#fb9f3a\"], [0.8888888888888888, \"#fdca26\"], [1.0, \"#f0f921\"]], \"type\": \"heatmap\"}], \"heatmapgl\": [{\"colorbar\": {\"outlinewidth\": 0, \"ticks\": \"\"}, \"colorscale\": [[0.0, \"#0d0887\"], [0.1111111111111111, \"#46039f\"], [0.2222222222222222, \"#7201a8\"], [0.3333333333333333, \"#9c179e\"], [0.4444444444444444, \"#bd3786\"], [0.5555555555555556, \"#d8576b\"], [0.6666666666666666, \"#ed7953\"], [0.7777777777777778, \"#fb9f3a\"], [0.8888888888888888, \"#fdca26\"], [1.0, \"#f0f921\"]], \"type\": \"heatmapgl\"}], \"histogram\": [{\"marker\": {\"colorbar\": {\"outlinewidth\": 0, \"ticks\": \"\"}}, \"type\": \"histogram\"}], \"histogram2d\": [{\"colorbar\": {\"outlinewidth\": 0, \"ticks\": \"\"}, \"colorscale\": [[0.0, \"#0d0887\"], [0.1111111111111111, \"#46039f\"], [0.2222222222222222, \"#7201a8\"], [0.3333333333333333, \"#9c179e\"], [0.4444444444444444, \"#bd3786\"], [0.5555555555555556, \"#d8576b\"], [0.6666666666666666, \"#ed7953\"], [0.7777777777777778, \"#fb9f3a\"], [0.8888888888888888, \"#fdca26\"], [1.0, \"#f0f921\"]], \"type\": \"histogram2d\"}], \"histogram2dcontour\": [{\"colorbar\": {\"outlinewidth\": 0, \"ticks\": \"\"}, \"colorscale\": [[0.0, \"#0d0887\"], [0.1111111111111111, \"#46039f\"], [0.2222222222222222, \"#7201a8\"], [0.3333333333333333, \"#9c179e\"], [0.4444444444444444, \"#bd3786\"], [0.5555555555555556, \"#d8576b\"], [0.6666666666666666, \"#ed7953\"], [0.7777777777777778, \"#fb9f3a\"], [0.8888888888888888, \"#fdca26\"], [1.0, \"#f0f921\"]], \"type\": \"histogram2dcontour\"}], \"mesh3d\": [{\"colorbar\": {\"outlinewidth\": 0, \"ticks\": \"\"}, \"type\": \"mesh3d\"}], \"parcoords\": [{\"line\": {\"colorbar\": {\"outlinewidth\": 0, \"ticks\": \"\"}}, \"type\": \"parcoords\"}], \"pie\": [{\"automargin\": true, \"type\": \"pie\"}], \"scatter\": [{\"marker\": {\"colorbar\": {\"outlinewidth\": 0, \"ticks\": \"\"}}, \"type\": \"scatter\"}], \"scatter3d\": [{\"line\": {\"colorbar\": {\"outlinewidth\": 0, \"ticks\": \"\"}}, \"marker\": {\"colorbar\": {\"outlinewidth\": 0, \"ticks\": \"\"}}, \"type\": \"scatter3d\"}], \"scattercarpet\": [{\"marker\": {\"colorbar\": {\"outlinewidth\": 0, \"ticks\": \"\"}}, \"type\": \"scattercarpet\"}], \"scattergeo\": [{\"marker\": {\"colorbar\": {\"outlinewidth\": 0, \"ticks\": \"\"}}, \"type\": \"scattergeo\"}], \"scattergl\": [{\"marker\": {\"colorbar\": {\"outlinewidth\": 0, \"ticks\": \"\"}}, \"type\": \"scattergl\"}], \"scattermapbox\": [{\"marker\": {\"colorbar\": {\"outlinewidth\": 0, \"ticks\": \"\"}}, \"type\": \"scattermapbox\"}], \"scatterpolar\": [{\"marker\": {\"colorbar\": {\"outlinewidth\": 0, \"ticks\": \"\"}}, \"type\": \"scatterpolar\"}], \"scatterpolargl\": [{\"marker\": {\"colorbar\": {\"outlinewidth\": 0, \"ticks\": \"\"}}, \"type\": \"scatterpolargl\"}], \"scatterternary\": [{\"marker\": {\"colorbar\": {\"outlinewidth\": 0, \"ticks\": \"\"}}, \"type\": \"scatterternary\"}], \"surface\": [{\"colorbar\": {\"outlinewidth\": 0, \"ticks\": \"\"}, \"colorscale\": [[0.0, \"#0d0887\"], [0.1111111111111111, \"#46039f\"], [0.2222222222222222, \"#7201a8\"], [0.3333333333333333, \"#9c179e\"], [0.4444444444444444, \"#bd3786\"], [0.5555555555555556, \"#d8576b\"], [0.6666666666666666, \"#ed7953\"], [0.7777777777777778, \"#fb9f3a\"], [0.8888888888888888, \"#fdca26\"], [1.0, \"#f0f921\"]], \"type\": \"surface\"}], \"table\": [{\"cells\": {\"fill\": {\"color\": \"#EBF0F8\"}, \"line\": {\"color\": \"white\"}}, \"header\": {\"fill\": {\"color\": \"#C8D4E3\"}, \"line\": {\"color\": \"white\"}}, \"type\": \"table\"}]}, \"layout\": {\"annotationdefaults\": {\"arrowcolor\": \"#2a3f5f\", \"arrowhead\": 0, \"arrowwidth\": 1}, \"coloraxis\": {\"colorbar\": {\"outlinewidth\": 0, \"ticks\": \"\"}}, \"colorscale\": {\"diverging\": [[0, \"#8e0152\"], [0.1, \"#c51b7d\"], [0.2, \"#de77ae\"], [0.3, \"#f1b6da\"], [0.4, \"#fde0ef\"], [0.5, \"#f7f7f7\"], [0.6, \"#e6f5d0\"], [0.7, \"#b8e186\"], [0.8, \"#7fbc41\"], [0.9, \"#4d9221\"], [1, \"#276419\"]], \"sequential\": [[0.0, \"#0d0887\"], [0.1111111111111111, \"#46039f\"], [0.2222222222222222, \"#7201a8\"], [0.3333333333333333, \"#9c179e\"], [0.4444444444444444, \"#bd3786\"], [0.5555555555555556, \"#d8576b\"], [0.6666666666666666, \"#ed7953\"], [0.7777777777777778, \"#fb9f3a\"], [0.8888888888888888, \"#fdca26\"], [1.0, \"#f0f921\"]], \"sequentialminus\": [[0.0, \"#0d0887\"], [0.1111111111111111, \"#46039f\"], [0.2222222222222222, \"#7201a8\"], [0.3333333333333333, \"#9c179e\"], [0.4444444444444444, \"#bd3786\"], [0.5555555555555556, \"#d8576b\"], [0.6666666666666666, \"#ed7953\"], [0.7777777777777778, \"#fb9f3a\"], [0.8888888888888888, \"#fdca26\"], [1.0, \"#f0f921\"]]}, \"colorway\": [\"#636efa\", \"#EF553B\", \"#00cc96\", \"#ab63fa\", \"#FFA15A\", \"#19d3f3\", \"#FF6692\", \"#B6E880\", \"#FF97FF\", \"#FECB52\"], \"font\": {\"color\": \"#2a3f5f\"}, \"geo\": {\"bgcolor\": \"white\", \"lakecolor\": \"white\", \"landcolor\": \"#E5ECF6\", \"showlakes\": true, \"showland\": true, \"subunitcolor\": \"white\"}, \"hoverlabel\": {\"align\": \"left\"}, \"hovermode\": \"closest\", \"mapbox\": {\"style\": \"light\"}, \"paper_bgcolor\": \"white\", \"plot_bgcolor\": \"#E5ECF6\", \"polar\": {\"angularaxis\": {\"gridcolor\": \"white\", \"linecolor\": \"white\", \"ticks\": \"\"}, \"bgcolor\": \"#E5ECF6\", \"radialaxis\": {\"gridcolor\": \"white\", \"linecolor\": \"white\", \"ticks\": \"\"}}, \"scene\": {\"xaxis\": {\"backgroundcolor\": \"#E5ECF6\", \"gridcolor\": \"white\", \"gridwidth\": 2, \"linecolor\": \"white\", \"showbackground\": true, \"ticks\": \"\", \"zerolinecolor\": \"white\"}, \"yaxis\": {\"backgroundcolor\": \"#E5ECF6\", \"gridcolor\": \"white\", \"gridwidth\": 2, \"linecolor\": \"white\", \"showbackground\": true, \"ticks\": \"\", \"zerolinecolor\": \"white\"}, \"zaxis\": {\"backgroundcolor\": \"#E5ECF6\", \"gridcolor\": \"white\", \"gridwidth\": 2, \"linecolor\": \"white\", \"showbackground\": true, \"ticks\": \"\", \"zerolinecolor\": \"white\"}}, \"shapedefaults\": {\"line\": {\"color\": \"#2a3f5f\"}}, \"ternary\": {\"aaxis\": {\"gridcolor\": \"white\", \"linecolor\": \"white\", \"ticks\": \"\"}, \"baxis\": {\"gridcolor\": \"white\", \"linecolor\": \"white\", \"ticks\": \"\"}, \"bgcolor\": \"#E5ECF6\", \"caxis\": {\"gridcolor\": \"white\", \"linecolor\": \"white\", \"ticks\": \"\"}}, \"title\": {\"x\": 0.05}, \"xaxis\": {\"automargin\": true, \"gridcolor\": \"white\", \"linecolor\": \"white\", \"ticks\": \"\", \"title\": {\"standoff\": 15}, \"zerolinecolor\": \"white\", \"zerolinewidth\": 2}, \"yaxis\": {\"automargin\": true, \"gridcolor\": \"white\", \"linecolor\": \"white\", \"ticks\": \"\", \"title\": {\"standoff\": 15}, \"zerolinecolor\": \"white\", \"zerolinewidth\": 2}}}, \"title\": {\"text\": \"Temperature ranges and New Infections\"}, \"xaxis\": {\"anchor\": \"y\", \"domain\": [0.0, 1.0], \"title\": {\"text\": \"Cluster_Temp\"}}, \"yaxis\": {\"anchor\": \"x\", \"domain\": [0.0, 1.0], \"title\": {\"text\": \"Confirmed\"}}},\n",
       "                        {\"responsive\": true}\n",
       "                    ).then(function(){\n",
       "                            \n",
       "var gd = document.getElementById('46e3c517-fe69-4622-ac3a-2098a7a0da6d');\n",
       "var x = new MutationObserver(function (mutations, observer) {{\n",
       "        var display = window.getComputedStyle(gd).display;\n",
       "        if (!display || display === 'none') {{\n",
       "            console.log([gd, 'removed!']);\n",
       "            Plotly.purge(gd);\n",
       "            observer.disconnect();\n",
       "        }}\n",
       "}});\n",
       "\n",
       "// Listen for the removal of the full notebook cells\n",
       "var notebookContainer = gd.closest('#notebook-container');\n",
       "if (notebookContainer) {{\n",
       "    x.observe(notebookContainer, {childList: true});\n",
       "}}\n",
       "\n",
       "// Listen for the clearing of the current output cell\n",
       "var outputEl = gd.closest('.output');\n",
       "if (outputEl) {{\n",
       "    x.observe(outputEl, {childList: true});\n",
       "}}\n",
       "\n",
       "                        })\n",
       "                };\n",
       "                });\n",
       "            </script>\n",
       "        </div>"
      ]
     },
     "metadata": {},
     "output_type": "display_data"
    }
   ],
   "source": [
    "# Histogram of the number of infections by group of temperature\n",
    "px.bar(covid_weather, x=\"Cluster_Temp\", y=\"Confirmed\", \n",
    "       color=\"Province/State\", title='Temperature ranges and New Infections')"
   ]
  },
  {
   "cell_type": "markdown",
   "metadata": {},
   "source": [
    "The previous observations are far away to be conclusive because these differences could be explained as a consequence of differents factors like:\n",
    "* Differences in the population density between Provinces/States (cities with more population are more likely to has more cases).\n",
    "* Our sample has mostly cities with temperatures between $40-60^o F$.\n",
    "* Sociocultural factors. Note here that Spanish and Italians are warm people, normally use to have close interpersonal relationships, and as a consequence this power the spread of the virus. The explanation is extensible for New York, which is a very multicultural city.\n",
    "\n",
    "The table below resumes the total days for each temperature group and `Province/Region`. As we can see, New York is the only city that has days in each of the temperature ranges but isn't enough to even consider a fair statistical comparison of the number of new cases between temperature groups. Without doub, this is a limitation of our dataset, and in my opinion the best bet could be to compare cities with similar population density and different temperatures.\n",
    "> Note that taking this path, we are assuming that the sociocultural factors are similar between the population of two different cities, which could be a bias, but I need to simplified our analysis because sadly I don't have all the necessary data."
   ]
  },
  {
   "cell_type": "code",
   "execution_count": 423,
   "metadata": {
    "scrolled": true
   },
   "outputs": [
    {
     "data": {
      "text/html": [
       "<div>\n",
       "<style scoped>\n",
       "    .dataframe tbody tr th:only-of-type {\n",
       "        vertical-align: middle;\n",
       "    }\n",
       "\n",
       "    .dataframe tbody tr th {\n",
       "        vertical-align: top;\n",
       "    }\n",
       "\n",
       "    .dataframe thead th {\n",
       "        text-align: right;\n",
       "    }\n",
       "</style>\n",
       "<table border=\"1\" class=\"dataframe\">\n",
       "  <thead>\n",
       "    <tr style=\"text-align: right;\">\n",
       "      <th>Cluster_Temp</th>\n",
       "      <th>40-60 F</th>\n",
       "      <th>&lt;40 F</th>\n",
       "      <th>&gt;60 F</th>\n",
       "    </tr>\n",
       "    <tr>\n",
       "      <th>Province/State</th>\n",
       "      <th></th>\n",
       "      <th></th>\n",
       "      <th></th>\n",
       "    </tr>\n",
       "  </thead>\n",
       "  <tbody>\n",
       "    <tr>\n",
       "      <th>Dakar</th>\n",
       "      <td>NaN</td>\n",
       "      <td>NaN</td>\n",
       "      <td>33.0</td>\n",
       "    </tr>\n",
       "    <tr>\n",
       "      <th>Doha</th>\n",
       "      <td>NaN</td>\n",
       "      <td>NaN</td>\n",
       "      <td>35.0</td>\n",
       "    </tr>\n",
       "    <tr>\n",
       "      <th>Dubai</th>\n",
       "      <td>NaN</td>\n",
       "      <td>NaN</td>\n",
       "      <td>66.0</td>\n",
       "    </tr>\n",
       "    <tr>\n",
       "      <th>Lombardia</th>\n",
       "      <td>40.0</td>\n",
       "      <td>NaN</td>\n",
       "      <td>NaN</td>\n",
       "    </tr>\n",
       "    <tr>\n",
       "      <th>Madrid</th>\n",
       "      <td>61.0</td>\n",
       "      <td>NaN</td>\n",
       "      <td>2.0</td>\n",
       "    </tr>\n",
       "    <tr>\n",
       "      <th>New York</th>\n",
       "      <td>21.0</td>\n",
       "      <td>3.0</td>\n",
       "      <td>1.0</td>\n",
       "    </tr>\n",
       "    <tr>\n",
       "      <th>Quebec</th>\n",
       "      <td>NaN</td>\n",
       "      <td>26.0</td>\n",
       "      <td>NaN</td>\n",
       "    </tr>\n",
       "    <tr>\n",
       "      <th>Stockholm</th>\n",
       "      <td>20.0</td>\n",
       "      <td>44.0</td>\n",
       "      <td>NaN</td>\n",
       "    </tr>\n",
       "    <tr>\n",
       "      <th>Vienna</th>\n",
       "      <td>32.0</td>\n",
       "      <td>7.0</td>\n",
       "      <td>NaN</td>\n",
       "    </tr>\n",
       "  </tbody>\n",
       "</table>\n",
       "</div>"
      ],
      "text/plain": [
       "Cluster_Temp    40-60 F  <40 F  >60 F\n",
       "Province/State                       \n",
       "Dakar               NaN    NaN   33.0\n",
       "Doha                NaN    NaN   35.0\n",
       "Dubai               NaN    NaN   66.0\n",
       "Lombardia          40.0    NaN    NaN\n",
       "Madrid             61.0    NaN    2.0\n",
       "New York           21.0    3.0    1.0\n",
       "Quebec              NaN   26.0    NaN\n",
       "Stockholm          20.0   44.0    NaN\n",
       "Vienna             32.0    7.0    NaN"
      ]
     },
     "execution_count": 423,
     "metadata": {},
     "output_type": "execute_result"
    }
   ],
   "source": [
    "# Number of days that each Province/State had for each range of temperature\n",
    "covid_weather.pivot_table(index='Province/State',columns='Cluster_Temp',\n",
    "                          values='Days Since First Case',aggfunc='count')"
   ]
  },
  {
   "cell_type": "markdown",
   "metadata": {},
   "source": [
    "The data about the `Population`, `Land Area` and `Population Density` for each of the `Province/Region` was obtained from [Wikipedia](https://www.wikipedia.org/) and shows in the below table. The good news is that Doha and Dakar are the regions with more population density, but also  the temperature in these regions is always over $60^o F$, so, this open the posibility to compare these regions with the others with other temperatures ranges."
   ]
  },
  {
   "cell_type": "code",
   "execution_count": 421,
   "metadata": {},
   "outputs": [
    {
     "data": {
      "text/html": [
       "<div>\n",
       "<style scoped>\n",
       "    .dataframe tbody tr th:only-of-type {\n",
       "        vertical-align: middle;\n",
       "    }\n",
       "\n",
       "    .dataframe tbody tr th {\n",
       "        vertical-align: top;\n",
       "    }\n",
       "\n",
       "    .dataframe thead th {\n",
       "        text-align: right;\n",
       "    }\n",
       "</style>\n",
       "<table border=\"1\" class=\"dataframe\">\n",
       "  <thead>\n",
       "    <tr style=\"text-align: right;\">\n",
       "      <th></th>\n",
       "      <th>Region/State</th>\n",
       "      <th>Population</th>\n",
       "      <th>Land Area (sq mi)</th>\n",
       "      <th>Population Density</th>\n",
       "    </tr>\n",
       "  </thead>\n",
       "  <tbody>\n",
       "    <tr>\n",
       "      <th>1</th>\n",
       "      <td>Doha</td>\n",
       "      <td>2382000</td>\n",
       "      <td>51.00</td>\n",
       "      <td>46705.882353</td>\n",
       "    </tr>\n",
       "    <tr>\n",
       "      <th>0</th>\n",
       "      <td>Dakar</td>\n",
       "      <td>2956023</td>\n",
       "      <td>211.00</td>\n",
       "      <td>14009.587678</td>\n",
       "    </tr>\n",
       "    <tr>\n",
       "      <th>4</th>\n",
       "      <td>Madrid</td>\n",
       "      <td>3223334</td>\n",
       "      <td>233.30</td>\n",
       "      <td>13816.262323</td>\n",
       "    </tr>\n",
       "    <tr>\n",
       "      <th>8</th>\n",
       "      <td>Vienna</td>\n",
       "      <td>1888776</td>\n",
       "      <td>160.15</td>\n",
       "      <td>11793.793319</td>\n",
       "    </tr>\n",
       "    <tr>\n",
       "      <th>2</th>\n",
       "      <td>Dubai</td>\n",
       "      <td>3331420</td>\n",
       "      <td>1588.00</td>\n",
       "      <td>2097.871537</td>\n",
       "    </tr>\n",
       "    <tr>\n",
       "      <th>3</th>\n",
       "      <td>Lombardia</td>\n",
       "      <td>10078012</td>\n",
       "      <td>9206.00</td>\n",
       "      <td>1094.722138</td>\n",
       "    </tr>\n",
       "    <tr>\n",
       "      <th>7</th>\n",
       "      <td>Stockholm</td>\n",
       "      <td>2377081</td>\n",
       "      <td>2517.00</td>\n",
       "      <td>944.410409</td>\n",
       "    </tr>\n",
       "    <tr>\n",
       "      <th>5</th>\n",
       "      <td>New York</td>\n",
       "      <td>19453561</td>\n",
       "      <td>54555.00</td>\n",
       "      <td>356.586216</td>\n",
       "    </tr>\n",
       "    <tr>\n",
       "      <th>6</th>\n",
       "      <td>Quebec</td>\n",
       "      <td>8164361</td>\n",
       "      <td>595391.00</td>\n",
       "      <td>13.712604</td>\n",
       "    </tr>\n",
       "  </tbody>\n",
       "</table>\n",
       "</div>"
      ],
      "text/plain": [
       "  Region/State  Population  Land Area (sq mi)  Population Density\n",
       "1         Doha     2382000              51.00        46705.882353\n",
       "0        Dakar     2956023             211.00        14009.587678\n",
       "4       Madrid     3223334             233.30        13816.262323\n",
       "8       Vienna     1888776             160.15        11793.793319\n",
       "2        Dubai     3331420            1588.00         2097.871537\n",
       "3    Lombardia    10078012            9206.00         1094.722138\n",
       "7    Stockholm     2377081            2517.00          944.410409\n",
       "5     New York    19453561           54555.00          356.586216\n",
       "6       Quebec     8164361          595391.00           13.712604"
      ]
     },
     "execution_count": 421,
     "metadata": {},
     "output_type": "execute_result"
    }
   ],
   "source": [
    "# Create a data frame with the Region/State population and Land Area\n",
    "region_state_density=pd.DataFrame({'Region/State':['Dakar', 'Doha', 'Dubai',\n",
    "                             'Lombardia','Madrid','New York',\n",
    "                             'Quebec','Stockholm','Vienna'], \n",
    "              'Population': [2956023,2382000,3331420, 10078012,\n",
    "                             3223334,19453561,8164361,2377081,1888776 ],\n",
    "             'Land Area (sq mi)': [211,51,1588,9206,233.3,54555,595391,2517,160.15]})\n",
    "# Compute the density = Area/population\n",
    "region_state_density['Population Density']=region_state_density['Population']/region_state_density['Land Area (sq mi)']\n",
    "region_state_density.sort_values(by=['Population Density'],ascending=False,inplace=True)\n",
    "region_state_density"
   ]
  },
  {
   "cell_type": "markdown",
   "metadata": {},
   "source": [
    "Taking into account that we don't have a lot of information on states with low temperatures and higher population density than such regions or states with temperatures between $40-60^o F$, I decided to compare only the impact of high temperatures in the spread of the virus. For this comparison, I defined the next rules in order to decrease the bias (see points above):\n",
    "1. I am only going to consider Dakar, Dubai and Doha as the `Province/State` with high temperatures.\n",
    "2. In order the compare one `Province/State` with one of the above three cities ($X_i$), the population density of the `Province/State` should be less than the population density of $X_i$. With this, we avoid the consideration that the differences between the number of new cases in two different cities are given because of the population's density and not for other factors.\n",
    "\n",
    "Based on the above rules, I obtained that the comparables provinces/states are:\n",
    "\n",
    "|           | Dakar | Doha | Dubai |\n",
    "|-----------|-------|------|-------|\n",
    "| New York  | ✔️     | ✔️    | ✔️     |\n",
    "| Madrid    | ✔️     | ✔️    | ✖️     |\n",
    "| Lombardia | ✔️     | ✔️    | ✔️     |\n",
    "| Vienna    | ✔️     | ✔️    | ✖️     |\n",
    "| Stockholm | ✔️     | ✔️    | ✔️     |\n",
    "| Quebec    | ✔️     | ✔️    | ✔️     |\n",
    "\n",
    "Our objective is to compare if the distribution of the new infections in two different cities comes from the same population or not. In other words, the null hypothesis is that the spread of the virus is independent of the temperature and the alternative hypothesis is that the spread is lower in cities with high temperatures. \n",
    "  \n",
    "The distributions of the new infections are independent but also are far away from following a normal distribution (see Fig. _Region/State_ below).  Nevertheless, it has been reported that samples with more than 15 observations (there are at least 25 in each of our distributions) are enough to avoid the normality assumption in the case of two samples t-student hypothesis test (see [here](https://support.minitab.com/en-us/minitab/18/Assistant_Two_Sample_t.pdf), or [here](https://books.google.com/books?hl=en&lr=&id=fZZTBgAAQBAJ&oi=fnd&pg=PR7&ots=KVNzlTQZBU&sig=uc2nGPRKmXFRx5q5d627Vf2ndPc#v=onepage&q&f=false), and also [here](https://www.ncbi.nlm.nih.gov/pmc/articles/PMC3693611/)). I am not happy with this number of samples, but, in this case, it's important to make inference over the mean (parametric case) and not over the median (nonparametric case) Why? Because we need to take into account if exists a high number of new infections. Also, the nonparametric tests assume that all groups must have the same or very similar spread (variance), which doesn't seem to be the case in our data. Finally, a parametric test (like t-student) gives more statistical power to the test (less probability to fail to reject the null hypothesis when it is false)."
   ]
  },
  {
   "cell_type": "code",
   "execution_count": 441,
   "metadata": {},
   "outputs": [
    {
     "data": {
      "image/png": "[encoded data removed]",
      "text/plain": [
       "<Figure size 720x576 with 9 Axes>"
      ]
     },
     "metadata": {
      "needs_background": "light"
     },
     "output_type": "display_data"
    }
   ],
   "source": [
    "# Histogram of the new cases by cities\n",
    "fig1, axs = plt.subplots(3, 3, figsize=(10,8), constrained_layout=True)\n",
    "axs = trim_axs(axs, len(cities))\n",
    "for ax, city in zip(axs, cities):\n",
    "    X=covid_weather.loc[covid_weather['Province/State']==city,'Confirmed']\n",
    "    ax.set_title('{} ({} days observed)'.format(city,len(X)))\n",
    "    sns.distplot(X,kde=False,ax=ax,bins=40)\n",
    "fig1.suptitle('New Infections Histogram by Region/State', fontsize=16);"
   ]
  },
  {
   "cell_type": "markdown",
   "metadata": {},
   "source": [
    "For these tests, I am going to set the critical value $\\alpha=0.05$, and establish the length of each sample to the lengh of the sample with less observations. This is, if X, Y are the two samples to compare with length $l_X$ and $l_Y$ respectively, and $\\hat{l}=min(l_X,l_Y)$, then I am only two consider the observations of X and Y between the first infection day and the day $\\hat{l}$.\n",
    "> The above could look as tricky, but in fact, it has an easy explanation, and it is that we need to compare the same number of days after the first infection because in the other way we are introducing a bias based on the lack of information in the distribution with fewer observations."
   ]
  },
  {
   "cell_type": "code",
   "execution_count": 534,
   "metadata": {},
   "outputs": [
    {
     "data": {
      "text/html": [
       "<style  type=\"text/css\" >\n",
       "    #T_d20fab6a_792a_11ea_b524_fdff9562d59arow0_col0 {\n",
       "            color:  green;\n",
       "        }    #T_d20fab6a_792a_11ea_b524_fdff9562d59arow0_col1 {\n",
       "            color:  green;\n",
       "        }    #T_d20fab6a_792a_11ea_b524_fdff9562d59arow0_col2 {\n",
       "            color:  green;\n",
       "        }    #T_d20fab6a_792a_11ea_b524_fdff9562d59arow1_col0 {\n",
       "            color:  red;\n",
       "        }    #T_d20fab6a_792a_11ea_b524_fdff9562d59arow1_col1 {\n",
       "            color:  green;\n",
       "        }    #T_d20fab6a_792a_11ea_b524_fdff9562d59arow1_col2 {\n",
       "            color:  red;\n",
       "        }    #T_d20fab6a_792a_11ea_b524_fdff9562d59arow2_col0 {\n",
       "            color:  green;\n",
       "        }    #T_d20fab6a_792a_11ea_b524_fdff9562d59arow2_col1 {\n",
       "            color:  green;\n",
       "        }    #T_d20fab6a_792a_11ea_b524_fdff9562d59arow2_col2 {\n",
       "            color:  green;\n",
       "        }    #T_d20fab6a_792a_11ea_b524_fdff9562d59arow3_col0 {\n",
       "            color:  green;\n",
       "        }    #T_d20fab6a_792a_11ea_b524_fdff9562d59arow3_col1 {\n",
       "            color:  green;\n",
       "        }    #T_d20fab6a_792a_11ea_b524_fdff9562d59arow3_col2 {\n",
       "            color:  red;\n",
       "        }    #T_d20fab6a_792a_11ea_b524_fdff9562d59arow4_col0 {\n",
       "            color:  green;\n",
       "        }    #T_d20fab6a_792a_11ea_b524_fdff9562d59arow4_col1 {\n",
       "            color:  green;\n",
       "        }    #T_d20fab6a_792a_11ea_b524_fdff9562d59arow4_col2 {\n",
       "            color:  green;\n",
       "        }    #T_d20fab6a_792a_11ea_b524_fdff9562d59arow5_col0 {\n",
       "            color:  green;\n",
       "        }    #T_d20fab6a_792a_11ea_b524_fdff9562d59arow5_col1 {\n",
       "            color:  green;\n",
       "        }    #T_d20fab6a_792a_11ea_b524_fdff9562d59arow5_col2 {\n",
       "            color:  green;\n",
       "        }</style><table id=\"T_d20fab6a_792a_11ea_b524_fdff9562d59a\" ><thead>    <tr>        <th class=\"blank level0\" ></th>        <th class=\"col_heading level0 col0\" >Dakar</th>        <th class=\"col_heading level0 col1\" >Doha</th>        <th class=\"col_heading level0 col2\" >Dubai</th>    </tr></thead><tbody>\n",
       "                <tr>\n",
       "                        <th id=\"T_d20fab6a_792a_11ea_b524_fdff9562d59alevel0_row0\" class=\"row_heading level0 row0\" >New York</th>\n",
       "                        <td id=\"T_d20fab6a_792a_11ea_b524_fdff9562d59arow0_col0\" class=\"data row0 col0\" >0.000004</td>\n",
       "                        <td id=\"T_d20fab6a_792a_11ea_b524_fdff9562d59arow0_col1\" class=\"data row0 col1\" >0.000004</td>\n",
       "                        <td id=\"T_d20fab6a_792a_11ea_b524_fdff9562d59arow0_col2\" class=\"data row0 col2\" >0.000004</td>\n",
       "            </tr>\n",
       "            <tr>\n",
       "                        <th id=\"T_d20fab6a_792a_11ea_b524_fdff9562d59alevel0_row1\" class=\"row_heading level0 row1\" >Madrid</th>\n",
       "                        <td id=\"T_d20fab6a_792a_11ea_b524_fdff9562d59arow1_col0\" class=\"data row1 col0\" >0.873063</td>\n",
       "                        <td id=\"T_d20fab6a_792a_11ea_b524_fdff9562d59arow1_col1\" class=\"data row1 col1\" >0.045654</td>\n",
       "                        <td id=\"T_d20fab6a_792a_11ea_b524_fdff9562d59arow1_col2\" class=\"data row1 col2\" >nan</td>\n",
       "            </tr>\n",
       "            <tr>\n",
       "                        <th id=\"T_d20fab6a_792a_11ea_b524_fdff9562d59alevel0_row2\" class=\"row_heading level0 row2\" >Lombardia</th>\n",
       "                        <td id=\"T_d20fab6a_792a_11ea_b524_fdff9562d59arow2_col0\" class=\"data row2 col0\" >0.000000</td>\n",
       "                        <td id=\"T_d20fab6a_792a_11ea_b524_fdff9562d59arow2_col1\" class=\"data row2 col1\" >0.000000</td>\n",
       "                        <td id=\"T_d20fab6a_792a_11ea_b524_fdff9562d59arow2_col2\" class=\"data row2 col2\" >0.000000</td>\n",
       "            </tr>\n",
       "            <tr>\n",
       "                        <th id=\"T_d20fab6a_792a_11ea_b524_fdff9562d59alevel0_row3\" class=\"row_heading level0 row3\" >Vienna</th>\n",
       "                        <td id=\"T_d20fab6a_792a_11ea_b524_fdff9562d59arow3_col0\" class=\"data row3 col0\" >0.000188</td>\n",
       "                        <td id=\"T_d20fab6a_792a_11ea_b524_fdff9562d59arow3_col1\" class=\"data row3 col1\" >0.000168</td>\n",
       "                        <td id=\"T_d20fab6a_792a_11ea_b524_fdff9562d59arow3_col2\" class=\"data row3 col2\" >nan</td>\n",
       "            </tr>\n",
       "            <tr>\n",
       "                        <th id=\"T_d20fab6a_792a_11ea_b524_fdff9562d59alevel0_row4\" class=\"row_heading level0 row4\" >Stockholm</th>\n",
       "                        <td id=\"T_d20fab6a_792a_11ea_b524_fdff9562d59arow4_col0\" class=\"data row4 col0\" >0.000021</td>\n",
       "                        <td id=\"T_d20fab6a_792a_11ea_b524_fdff9562d59arow4_col1\" class=\"data row4 col1\" >0.001936</td>\n",
       "                        <td id=\"T_d20fab6a_792a_11ea_b524_fdff9562d59arow4_col2\" class=\"data row4 col2\" >0.000041</td>\n",
       "            </tr>\n",
       "            <tr>\n",
       "                        <th id=\"T_d20fab6a_792a_11ea_b524_fdff9562d59alevel0_row5\" class=\"row_heading level0 row5\" >Quebec</th>\n",
       "                        <td id=\"T_d20fab6a_792a_11ea_b524_fdff9562d59arow5_col0\" class=\"data row5 col0\" >0.000206</td>\n",
       "                        <td id=\"T_d20fab6a_792a_11ea_b524_fdff9562d59arow5_col1\" class=\"data row5 col1\" >0.000482</td>\n",
       "                        <td id=\"T_d20fab6a_792a_11ea_b524_fdff9562d59arow5_col2\" class=\"data row5 col2\" >0.000168</td>\n",
       "            </tr>\n",
       "    </tbody></table>"
      ],
      "text/plain": [
       "<pandas.io.formats.style.Styler at 0x7f60578ce9e8>"
      ]
     },
     "execution_count": 534,
     "metadata": {},
     "output_type": "execute_result"
    }
   ],
   "source": [
    "## t-student Hypothesis tests ##\n",
    "# Create a dictionary with the pairs of cities to be tested\n",
    "cities2test=dict({'Dakar': ['New York','Madrid','Lombardia','Vienna','Stockholm','Quebec'],\n",
    "                 'Doha': ['New York','Madrid','Lombardia','Vienna','Stockholm','Quebec'],\n",
    "                 'Dubai': ['New York','Lombardia','Stockholm','Quebec']})\n",
    "# Empty dictionary to store the results\n",
    "results=dict() \n",
    "# For each key in the dictionary (cities with high temperature) run the test with each of the values of this key\n",
    "for hot_city in cities2test.keys():\n",
    "    paired_cities=cities2test[hot_city] # List with the cities to test with \"hot_city\"\n",
    "    # Extract the information of the \"hot_city\"\n",
    "    hot_city_values=covid_weather.loc[covid_weather['Province/State']==hot_city,\n",
    "                                      ['Days Since First Case','Confirmed']].sort_values(by=['Days Since First Case'])\n",
    "    # Define an empty dictionary to store the partial results \n",
    "    partial=dict()\n",
    "    # Run the test for each pair of cities\n",
    "    for city in paired_cities:\n",
    "        # Extract the number of new cases of city\n",
    "        city_values=covid_weather.loc[covid_weather['Province/State']==city,\n",
    "                         ['Days Since First Case','Confirmed']].sort_values(by=['Days Since First Case'])\n",
    "        # Get the max number of observations available in both cities\n",
    "        max_mutual_obs=min(hot_city_values.shape[0],city_values.shape[0])\n",
    "        # Store the information in X (key country) and Y (test country)\n",
    "        X=hot_city_values['Confirmed'][0:max_mutual_obs].values\n",
    "        Y=city_values['Confirmed'][0:max_mutual_obs].values\n",
    "        # Run the t-student hypothesis test\n",
    "        #stat, p = mannwhitneyu(X,Y,alternative='less')\n",
    "        stat, p = stats.ttest_ind(X, Y,equal_var=False)\n",
    "        # Save the p-value result in \"partial\"\n",
    "        partial[city]=p\n",
    "    # Include the dictionary with partial results in the general dictionary\n",
    "    results[hot_city]=partial\n",
    "# Tranform the dictionary to a dataframe        \n",
    "results=pd.DataFrame.from_dict(results, orient='columns')\n",
    "results.style.applymap(color_p_value)"
   ]
  },
  {
   "cell_type": "code",
   "execution_count": null,
   "metadata": {},
   "outputs": [],
   "source": []
  },
  {
   "cell_type": "markdown",
   "metadata": {},
   "source": [
    "* Para densidad de poblacion: https://worldpopulationreview.com/countries/china-population/\n",
    "* Para el tiempo: https://www.wunderground.com/history/monthly/us/ny/new-york-city/KLGA/date/2019-12\n",
    "* The world cities document was obtained from: https://simplemaps.com/data/world-cities (this not include the density or region size).\n"
   ]
  }
 ],
 "metadata": {
  "kernelspec": {
   "display_name": "Python 3",
   "language": "python",
   "name": "python3"
  },
  "language_info": {
   "codemirror_mode": {
    "name": "ipython",
    "version": 3
   },
   "file_extension": ".py",
   "mimetype": "text/x-python",
   "name": "python",
   "nbconvert_exporter": "python",
   "pygments_lexer": "ipython3",
   "version": "3.7.3"
  }
 },
 "nbformat": 4,
 "nbformat_minor": 2
}
